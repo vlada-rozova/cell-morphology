{
 "cells": [
  {
   "cell_type": "code",
   "execution_count": 1,
   "metadata": {
    "collapsed": true
   },
   "outputs": [],
   "source": [
    "import os\n",
    "import pandas as pd\n",
    "import numpy as np\n",
    "import preprocess_data as prep\n",
    "from pandas.api.types import CategoricalDtype\n",
    "import seaborn as sns\n",
    "from matplotlib import pyplot as plt\n",
    "\n",
    "%matplotlib inline\n",
    "\n",
    "plt.style.use('seaborn')\n",
    "plt.rcParams['figure.figsize'] = (15, 5)\n",
    "plt.rcParams['font.size'] = 18\n",
    "\n",
    "DATA_PATH = '../datasets/'"
   ]
  },
  {
   "cell_type": "markdown",
   "metadata": {},
   "source": [
    "## Load the data"
   ]
  },
  {
   "cell_type": "markdown",
   "metadata": {},
   "source": [
    "### Metadata"
   ]
  },
  {
   "cell_type": "markdown",
   "metadata": {},
   "source": [
    "###### Keratin"
   ]
  },
  {
   "cell_type": "code",
   "execution_count": null,
   "metadata": {
    "collapsed": true
   },
   "outputs": [],
   "source": [
    "ker_meta = prep.load_data(\"Ker_metadata.csv\", data_path=DATA_PATH)\n",
    "ker_meta.rename(str.lower, axis='columns', inplace=True)\n",
    "ker_meta = prep.create_label(ker_meta, per_cell=False)\n",
    "print(ker_meta.shape)\n",
    "ker_meta.head()"
   ]
  },
  {
   "cell_type": "markdown",
   "metadata": {},
   "source": [
    "###### Vimentin"
   ]
  },
  {
   "cell_type": "code",
   "execution_count": null,
   "metadata": {
    "collapsed": true
   },
   "outputs": [],
   "source": [
    "vim_meta = prep.load_data(\"Vim_metadata.csv\", data_path=DATA_PATH)\n",
    "vim_meta.rename(str.lower, axis='columns', inplace=True)\n",
    "vim_meta = prep.create_label(vim_meta, per_cell=False)\n",
    "print(vim_meta.shape)\n",
    "vim_meta.head()"
   ]
  },
  {
   "cell_type": "markdown",
   "metadata": {},
   "source": [
    "### Background signal"
   ]
  },
  {
   "cell_type": "markdown",
   "metadata": {},
   "source": [
    "###### Keratin"
   ]
  },
  {
   "cell_type": "code",
   "execution_count": null,
   "metadata": {
    "collapsed": true
   },
   "outputs": [],
   "source": [
    "ker_bg = prep.load_data(\"Ker_background.csv\", data_path=DATA_PATH)\n",
    "ker_bg.rename(columns={'mean':'bg'}, inplace=True)\n",
    "ker_bg = prep.create_label(ker_bg, per_cell=False)\n",
    "print(ker_bg.shape)\n",
    "ker_bg.head()"
   ]
  },
  {
   "cell_type": "markdown",
   "metadata": {},
   "source": [
    "###### Vimentin"
   ]
  },
  {
   "cell_type": "code",
   "execution_count": null,
   "metadata": {
    "collapsed": true
   },
   "outputs": [],
   "source": [
    "vim_bg = prep.load_data(\"Vim_background.csv\", data_path=DATA_PATH)\n",
    "vim_bg.rename(columns={'mean':'bg'}, inplace=True)\n",
    "vim_bg = prep.create_label(vim_bg, per_cell=False)\n",
    "print(vim_bg.shape)\n",
    "vim_bg.head()"
   ]
  },
  {
   "cell_type": "markdown",
   "metadata": {},
   "source": [
    "## Merge datasets"
   ]
  },
  {
   "cell_type": "markdown",
   "metadata": {},
   "source": [
    "###### Keratin"
   ]
  },
  {
   "cell_type": "code",
   "execution_count": null,
   "metadata": {
    "collapsed": true
   },
   "outputs": [],
   "source": [
    "ker_bg = pd.merge(ker_meta, ker_bg)\n",
    "ker_bg = prep.move_column(ker_bg, 'label')\n",
    "print(ker_bg.shape)\n",
    "ker_bg.head()"
   ]
  },
  {
   "cell_type": "markdown",
   "metadata": {},
   "source": [
    "###### Vimentin"
   ]
  },
  {
   "cell_type": "code",
   "execution_count": null,
   "metadata": {
    "collapsed": true
   },
   "outputs": [],
   "source": [
    "vim_bg = pd.merge(vim_meta, vim_bg)\n",
    "vim_bg = prep.move_column(vim_bg, 'label')\n",
    "print(vim_bg.shape)\n",
    "vim_bg.head()"
   ]
  },
  {
   "cell_type": "markdown",
   "metadata": {},
   "source": [
    "## Explore the data"
   ]
  },
  {
   "cell_type": "markdown",
   "metadata": {},
   "source": [
    "### Plot background signal"
   ]
  },
  {
   "cell_type": "code",
   "execution_count": null,
   "metadata": {
    "collapsed": true
   },
   "outputs": [],
   "source": [
    "sns.barplot(x=ker_bg.stiffness, y=ker_bg.bg, \n",
    "            ci='sd', capsize=.1);\n",
    "plt.xlabel(\"Stiffness\")\n",
    "plt.ylabel(\"Intensity\")\n",
    "plt.title(\"Background in Cytokeratin channel\")\n",
    "plt.savefig('../results/Keratin Background.png', bbox_inches='tight', dpi=300);"
   ]
  },
  {
   "cell_type": "code",
   "execution_count": null,
   "metadata": {
    "collapsed": true
   },
   "outputs": [],
   "source": [
    "sns.barplot(x=vim_bg.stiffness, y=vim_bg.bg, \n",
    "            ci='sd', capsize=.1);\n",
    "plt.xlabel(\"Stiffness\")\n",
    "plt.ylabel(\"Intensity\")\n",
    "plt.title(\"Background in Vimentin channel\")\n",
    "plt.savefig('../results/Vimentin Background.png', bbox_inches='tight', dpi=300);"
   ]
  },
  {
   "cell_type": "code",
   "execution_count": null,
   "metadata": {
    "collapsed": true
   },
   "outputs": [],
   "source": [
    "ker_bg.groupby(\"stiffness\").bg.describe()"
   ]
  },
  {
   "cell_type": "code",
   "execution_count": null,
   "metadata": {
    "collapsed": true
   },
   "outputs": [],
   "source": [
    "vim_bg.groupby(\"stiffness\").bg.describe()"
   ]
  },
  {
   "cell_type": "markdown",
   "metadata": {},
   "source": [
    "### Normalise by gain"
   ]
  },
  {
   "cell_type": "code",
   "execution_count": null,
   "metadata": {
    "collapsed": true
   },
   "outputs": [],
   "source": [
    "# normalise background signal so that the gain = 700.\n",
    "ker_bg['norm_bg'] = ker_bg.bg / ker_bg.gain * 700\n",
    "vim_bg['norm_bg'] = vim_bg.bg / vim_bg.gain * 700"
   ]
  },
  {
   "cell_type": "code",
   "execution_count": null,
   "metadata": {
    "collapsed": true
   },
   "outputs": [],
   "source": [
    "sns.barplot(x=ker_bg.stiffness, y=ker_bg.norm_bg, \n",
    "            ci='sd', capsize=.1);\n",
    "plt.xlabel(\"Stiffness\")\n",
    "plt.ylabel(\"Intensity\")\n",
    "plt.title(\"Background in Cytokeratin channel normalised by gain\")\n",
    "plt.savefig('../results/Keratin Background by gain.png', bbox_inches='tight', dpi=300);"
   ]
  },
  {
   "cell_type": "code",
   "execution_count": null,
   "metadata": {
    "collapsed": true
   },
   "outputs": [],
   "source": [
    "sns.barplot(x=vim_bg.stiffness, y=vim_bg.norm_bg, \n",
    "            ci='sd', capsize=.1);\n",
    "plt.xlabel(\"Stiffness\")\n",
    "plt.ylabel(\"Intensity\")\n",
    "plt.title(\"Background in Vimentin channel normalised by gain\")\n",
    "plt.savefig('../results/Vimentin Background by gain.png', bbox_inches='tight', dpi=300);"
   ]
  },
  {
   "cell_type": "code",
   "execution_count": null,
   "metadata": {
    "collapsed": true
   },
   "outputs": [],
   "source": [
    "vim_bg[vim_bg.stiffness == \"64.0\"].plot(kind=\"scatter\", x=\"user\", y=\"norm_bg\", alpha=0.5);"
   ]
  },
  {
   "cell_type": "code",
   "execution_count": null,
   "metadata": {
    "collapsed": true
   },
   "outputs": [],
   "source": [
    "vim_bg.pcf.value_counts()"
   ]
  },
  {
   "cell_type": "code",
   "execution_count": null,
   "metadata": {
    "collapsed": true
   },
   "outputs": [],
   "source": [
    "stiff64 = vim_bg[vim_bg.stiffness == \"64.0\"]\n",
    "stiff64.head()"
   ]
  },
  {
   "cell_type": "code",
   "execution_count": null,
   "metadata": {
    "collapsed": true
   },
   "outputs": [],
   "source": [
    "sns.pairplot(stiff64.iloc[:,7:19]);"
   ]
  },
  {
   "cell_type": "code",
   "execution_count": null,
   "metadata": {
    "collapsed": true
   },
   "outputs": [],
   "source": [
    "vim_bg[vim_bg.stiffness==\"64.0\"].groupby(\"user\").norm_bg.describe()"
   ]
  },
  {
   "cell_type": "code",
   "execution_count": null,
   "metadata": {
    "collapsed": true
   },
   "outputs": [],
   "source": [
    "vim_bg[(vim_bg.stiffness==\"64.0\") & (vim_bg.user==44709390)]"
   ]
  },
  {
   "cell_type": "markdown",
   "metadata": {},
   "source": [
    "### Statistical testing"
   ]
  },
  {
   "cell_type": "markdown",
   "metadata": {},
   "source": [
    "#### Check parametric assumptions"
   ]
  },
  {
   "cell_type": "code",
   "execution_count": null,
   "metadata": {
    "collapsed": true
   },
   "outputs": [],
   "source": [
    "ker_bg.hist(column='norm_bg', by='stiffness');"
   ]
  },
  {
   "cell_type": "code",
   "execution_count": null,
   "metadata": {
    "collapsed": true
   },
   "outputs": [],
   "source": [
    "ker_bg.groupby(\"stiffness\").norm_bg.describe()"
   ]
  },
  {
   "cell_type": "code",
   "execution_count": null,
   "metadata": {
    "collapsed": true
   },
   "outputs": [],
   "source": [
    "vim_bg.hist(column='norm_bg', by='stiffness');"
   ]
  },
  {
   "cell_type": "code",
   "execution_count": null,
   "metadata": {
    "collapsed": true
   },
   "outputs": [],
   "source": [
    "vim_bg.groupby(\"stiffness\").norm_bg.describe()"
   ]
  },
  {
   "cell_type": "markdown",
   "metadata": {},
   "source": [
    "#### Two-sample t-test"
   ]
  },
  {
   "cell_type": "markdown",
   "metadata": {},
   "source": [
    "###### Keratin"
   ]
  },
  {
   "cell_type": "code",
   "execution_count": null,
   "metadata": {
    "collapsed": true
   },
   "outputs": [],
   "source": [
    "from scipy.stats import mannwhitneyu, ttest_ind\n",
    "\n",
    "print(\"Background in Cytokeratin channel:\\n\")\n",
    "\n",
    "t, p = ttest_ind(ker_bg[ker_bg.stiffness == \"0.2\"].norm_bg,\n",
    "                 ker_bg[ker_bg.stiffness == \"2.0\"].norm_bg, \n",
    "                 equal_var=False)\n",
    "print(\"0.2 kPa vs 2.0 kPa \\t p-value =\", p)\n",
    "\n",
    "t, p = ttest_ind(ker_bg[ker_bg.stiffness == \"2.0\"].norm_bg,\n",
    "                 ker_bg[ker_bg.stiffness == \"8.0\"].norm_bg, \n",
    "                 equal_var=False)\n",
    "print(\"2.0 kPa vs 8.0 kPa \\t p-value =\", p)\n",
    "\n",
    "t, p = ttest_ind(ker_bg[ker_bg.stiffness == \"8.0\"].norm_bg,\n",
    "                 ker_bg[ker_bg.stiffness == \"16.0\"].norm_bg, \n",
    "                 equal_var=False)\n",
    "print(\"8.0 kPa vs 16.0 kPa \\t p-value =\", p)\n",
    "\n",
    "t, p = ttest_ind(ker_bg[ker_bg.stiffness == \"16.0\"].norm_bg,\n",
    "                 ker_bg[ker_bg.stiffness == \"32.0\"].norm_bg, \n",
    "                 equal_var=False)\n",
    "print(\"16.0 kPa vs 32.0 kPa \\t p-value =\", p)\n",
    "      \n",
    "t, p = ttest_ind(ker_bg[ker_bg.stiffness == \"32.0\"].norm_bg,\n",
    "                 ker_bg[ker_bg.stiffness == \"64.0\"].norm_bg, \n",
    "                 equal_var=False)\n",
    "print(\"32.0 kPa vs 64.0 kPa \\t p-value =\", p)"
   ]
  },
  {
   "cell_type": "markdown",
   "metadata": {},
   "source": [
    "###### Vimentin"
   ]
  },
  {
   "cell_type": "code",
   "execution_count": null,
   "metadata": {
    "collapsed": true
   },
   "outputs": [],
   "source": [
    "print(\"Background in vimentin channel:\\n\")\n",
    "\n",
    "t, p = ttest_ind(vim_bg[vim_bg.stiffness == \"0.2\"].norm_bg,\n",
    "                 vim_bg[vim_bg.stiffness == \"2.0\"].norm_bg, \n",
    "                 equal_var=False)\n",
    "print(\"0.2 kPa vs 2.0 kPa \\t p-value =\", p)\n",
    "\n",
    "t, p = ttest_ind(vim_bg[vim_bg.stiffness == \"2.0\"].norm_bg,\n",
    "                 vim_bg[vim_bg.stiffness == \"8.0\"].norm_bg, \n",
    "                 equal_var=False)\n",
    "print(\"2.0 kPa vs 8.0 kPa \\t p-value =\", p)\n",
    "\n",
    "t, p = ttest_ind(vim_bg[vim_bg.stiffness == \"8.0\"].norm_bg,\n",
    "                 vim_bg[vim_bg.stiffness == \"16.0\"].norm_bg, \n",
    "                 equal_var=False)\n",
    "print(\"8.0 kPa vs 16.0 kPa \\t p-value =\", p)\n",
    "\n",
    "t, p = ttest_ind(vim_bg[vim_bg.stiffness == \"16.0\"].norm_bg,\n",
    "                 vim_bg[vim_bg.stiffness == \"32.0\"].norm_bg, \n",
    "                 equal_var=False)\n",
    "print(\"16.0 kPa vs 32.0 kPa \\t p-value =\", p)\n",
    "      \n",
    "t, p = ttest_ind(vim_bg[vim_bg.stiffness == \"32.0\"].norm_bg,\n",
    "                 vim_bg[vim_bg.stiffness == \"64.0\"].norm_bg, \n",
    "                 equal_var=False)\n",
    "print(\"32.0 kPa vs 64.0 kPa \\t p-value =\", p)"
   ]
  },
  {
   "cell_type": "code",
   "execution_count": null,
   "metadata": {
    "collapsed": true
   },
   "outputs": [],
   "source": []
  }
 ],
 "metadata": {
  "kernelspec": {
   "display_name": "Python 3",
   "language": "python",
   "name": "python3"
  },
  "language_info": {
   "codemirror_mode": {
    "name": "ipython",
    "version": 3
   },
   "file_extension": ".py",
   "mimetype": "text/x-python",
   "name": "python",
   "nbconvert_exporter": "python",
   "pygments_lexer": "ipython3",
   "version": "3.6.8"
  },
  "toc": {
   "base_numbering": 1,
   "nav_menu": {},
   "number_sections": true,
   "sideBar": true,
   "skip_h1_title": false,
   "title_cell": "Table of Contents",
   "title_sidebar": "Contents",
   "toc_cell": false,
   "toc_position": {},
   "toc_section_display": true,
   "toc_window_display": false
  }
 },
 "nbformat": 4,
 "nbformat_minor": 2
}
