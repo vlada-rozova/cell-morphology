{
 "cells": [
  {
   "cell_type": "code",
   "execution_count": 51,
   "metadata": {},
   "outputs": [
    {
     "name": "stdout",
     "output_type": "stream",
     "text": [
      "Morphology was measured for 610.0 cells.\n",
      "\n",
      "The numbers of cells and nuclei correspond to each other.\n",
      "\n",
      "The are no duplicated column names: True\n",
      "The are no duplicated column names: True\n",
      "Cytoplasm measurements were taken for 610 cells.\n",
      "\n",
      "The are no duplicated column names: True\n",
      "Read biomarkers normalised by to min gain\n",
      "Biomarkers were measured for 610 cells.\n",
      "\n",
      "The are no duplicated column names: True\n",
      "\n",
      "Full dataset has shape: (610, 484)\n",
      "Initial shape is: (610, 484)\n",
      "Features with zero variance:\n",
      " Index(['centerZ_cell', 'eulernumber_cell', 'children_cytoplasm_count_cell',\n",
      "       'loc_centermassintensityZ_wga', 'loc_centerZ_cell',\n",
      "       'loc_maxintensityZ_wga', 'centerZ_nucl', 'eulernumber_nucl',\n",
      "       'children_cells_count', 'children_cytoplasm_count_nucl',\n",
      "       'loc_centermassintensityZ_dapi', 'loc_centerZ_nucl',\n",
      "       'loc_maxintensityZ_dapi', 'centerZ_cyto',\n",
      "       'loc_centermassintensityZ_ker', 'loc_centermassintensityZ_vim',\n",
      "       'loc_centerZ', 'loc_maxintensityZ_ker', 'loc_maxintensityZ_vim'],\n",
      "      dtype='object')\n",
      "\n",
      "After cleaning the dataset has 610 rows and 430 columns.\n",
      "\n",
      "437 columns in total:\n",
      " 7 columns containing metadata, meta_cols,\n",
      " 430 all features, feature_cols:\n",
      " 140 biomarkers, biom_cols,\n",
      " 290 morphology, morph_cols\n",
      "152 geometric measurements, geom_cols,\n",
      " 46 cellular measurements, cell_cols,\n",
      " 47 nuclear measurements, nucl_cols,\n",
      " 46 cytoplasmic measurements, cyto_cols\n",
      "Undersampling. The balanced dataset has shape (255, 437)\n"
     ]
    }
   ],
   "source": [
    "%run load-clean-select.ipynb"
   ]
  },
  {
   "cell_type": "markdown",
   "metadata": {},
   "source": [
    "# Which dataset?"
   ]
  },
  {
   "cell_type": "code",
   "execution_count": 59,
   "metadata": {
    "collapsed": true
   },
   "outputs": [],
   "source": [
    "# The full dataset\n",
    "# df = measurements\n",
    "# Dataset without clusters at 64kPa\n",
    "# df = measurements_red\n",
    "# Dataset without 0.5kPa, 8kPa and clusters at 64kPa\n",
    "df = measurements_5\n",
    "# Dataset without 0.5kPa, 8kPa and clusters at 64kPa with balanced classes\n",
    "# df = measurements_b"
   ]
  },
  {
   "cell_type": "markdown",
   "metadata": {},
   "source": [
    "## Morphology"
   ]
  },
  {
   "cell_type": "markdown",
   "metadata": {},
   "source": [
    "### Explore groups of features"
   ]
  },
  {
   "cell_type": "code",
   "execution_count": null,
   "metadata": {
    "collapsed": true
   },
   "outputs": [],
   "source": [
    "df_fs = df.loc[:, 'label' : 'well']\n",
    "#feature_group = []"
   ]
  },
  {
   "cell_type": "markdown",
   "metadata": {},
   "source": [
    "###### Cell Shape"
   ]
  },
  {
   "cell_type": "code",
   "execution_count": null,
   "metadata": {
    "collapsed": true
   },
   "outputs": [],
   "source": [
    "group = df.loc[:, 'area_cell' : 'solidity_cell']\n",
    "print(\"Number of cell shape features:\", group.shape[1])"
   ]
  },
  {
   "cell_type": "code",
   "execution_count": null,
   "metadata": {
    "collapsed": true
   },
   "outputs": [],
   "source": [
    "group.drop(['majoraxislength_cell', 'maxferetdiameter_cell', \n",
    "                 'maximumradius_cell', 'medianradius_cell', \n",
    "                 'minferetdiameter_cell'], axis=1, inplace=True)\n",
    "plot_corr(group, annot=False)"
   ]
  },
  {
   "cell_type": "code",
   "execution_count": null,
   "metadata": {
    "collapsed": true
   },
   "outputs": [],
   "source": [
    "df_fs = pd.concat([df_fs, group], axis=1)\n",
    "\n",
    "print(\"Selected {} cell shape features:\".format(group.shape[1]))\n",
    "#feature_group.extend([1] * group.shape[1])"
   ]
  },
  {
   "cell_type": "markdown",
   "metadata": {},
   "source": [
    "###### Cell Zernike"
   ]
  },
  {
   "cell_type": "code",
   "execution_count": null,
   "metadata": {
    "collapsed": true
   },
   "outputs": [],
   "source": [
    "group = df.loc[:, 'zernike_0_0_cell' : 'zernike_9_9_cell']\n",
    "print(\"Number of cell zernike features:\", group.shape[1])"
   ]
  },
  {
   "cell_type": "code",
   "execution_count": null,
   "metadata": {
    "collapsed": true
   },
   "outputs": [],
   "source": [
    "plot_corr(group, annot=False)"
   ]
  },
  {
   "cell_type": "code",
   "execution_count": null,
   "metadata": {
    "collapsed": true
   },
   "outputs": [],
   "source": [
    "df_fs = pd.concat([df_fs, group], axis=1)\n",
    "\n",
    "print(\"Selected {} cell zernike features:\".format(group.shape[1]))\n",
    "#feature_group.extend([1] * group.shape[1])"
   ]
  },
  {
   "cell_type": "markdown",
   "metadata": {},
   "source": [
    "###### Cell Intensity"
   ]
  },
  {
   "cell_type": "code",
   "execution_count": null,
   "metadata": {
    "collapsed": true
   },
   "outputs": [],
   "source": [
    "group = df.loc[:, 'integratedintensityedge_wga_cell' : 'upperquartileintensity_wga_cell'] \n",
    "print(\"Number of cell intensity features:\", group.shape[1])\n",
    "plot_corr(group, annot=False)"
   ]
  },
  {
   "cell_type": "code",
   "execution_count": null,
   "metadata": {
    "collapsed": true
   },
   "outputs": [],
   "source": [
    "group.drop(['madintensity_wga_cell', 'medianintensity_wga_cell', \n",
    "            'upperquartileintensity_wga_cell', 'minintensityedge_wga_cell', \n",
    "            'stdintensityedge_wga_cell'], axis=1, inplace=True)\n",
    "plot_corr(group, annot=False)"
   ]
  },
  {
   "cell_type": "code",
   "execution_count": null,
   "metadata": {
    "collapsed": true
   },
   "outputs": [],
   "source": [
    "df_fs = pd.concat([df_fs, group], axis=1)\n",
    "\n",
    "print(\"Selected cell intensity features:\", group.shape[1])\n",
    "#feature_group.extend([2] * group.shape[1])"
   ]
  },
  {
   "cell_type": "markdown",
   "metadata": {},
   "source": [
    "###### Cell Neighbours"
   ]
  },
  {
   "cell_type": "code",
   "execution_count": null,
   "metadata": {
    "collapsed": true
   },
   "outputs": [],
   "source": [
    "group = df.loc[:, 'anglebetweenneighbors_cell' : 'secondclosestdistance_cell']\n",
    "print(\"Number of cell neighbours features:\", group.shape[1])\n",
    "plot_corr(group, annot=False)"
   ]
  },
  {
   "cell_type": "code",
   "execution_count": null,
   "metadata": {
    "collapsed": true
   },
   "outputs": [],
   "source": [
    "df_fs = pd.concat([df_fs, group], axis=1)\n",
    "\n",
    "print(\"Selected cell neighbours features:\", group.shape[1])\n",
    "#feature_group.extend([3] * group.shape[1])"
   ]
  },
  {
   "cell_type": "markdown",
   "metadata": {},
   "source": [
    "###### Cell Texture"
   ]
  },
  {
   "cell_type": "code",
   "execution_count": null,
   "metadata": {
    "collapsed": true
   },
   "outputs": [],
   "source": [
    "group = df.loc[:, 'angularsecondmoment_wga_00_cell' : 'variance_wga_03_cell']\n",
    "print(\"Number of cell texture features:\", group.shape[1])\n",
    "plot_corr(group, annot=False)"
   ]
  },
  {
   "cell_type": "code",
   "execution_count": null,
   "metadata": {
    "collapsed": true
   },
   "outputs": [],
   "source": [
    "group = df[['angularsecondmoment_wga_00_cell', 'contrast_wga_00_cell', \n",
    "            'correlation_wga_01_cell', 'correlation_wga_02_cell',\n",
    "            'differencevariance_wga_00_cell', 'entropy_wga_00_cell', \n",
    "            'infomeas1_wga_00_cell', 'infomeas1_wga_01_cell',\n",
    "            'infomeas1_wga_02_cell', 'infomeas1_wga_03_cell',\n",
    "            'infomeas2_wga_00_cell', 'sumaverage_wga_00_cell', \n",
    "            'variance_wga_00_cell']]\n",
    "plot_corr(group, annot=False)"
   ]
  },
  {
   "cell_type": "code",
   "execution_count": null,
   "metadata": {
    "collapsed": true
   },
   "outputs": [],
   "source": [
    "df_fs = pd.concat([df_fs, group], axis=1)\n",
    "\n",
    "print(\"Selected cell texture features:\", group.shape[1])\n",
    "#feature_group.extend([4] * group.shape[1])"
   ]
  },
  {
   "cell_type": "markdown",
   "metadata": {},
   "source": [
    "###### Nuclear Shape"
   ]
  },
  {
   "cell_type": "code",
   "execution_count": null,
   "metadata": {
    "collapsed": true
   },
   "outputs": [],
   "source": [
    "group = df.loc[:,  'area_nucl' : 'solidity_nucl']\n",
    "print(\"Number of nuclear shape features:\", group.shape[1])"
   ]
  },
  {
   "cell_type": "code",
   "execution_count": null,
   "metadata": {
    "collapsed": true
   },
   "outputs": [],
   "source": [
    "group.drop(['maxferetdiameter_nucl', 'maximumradius_nucl', \n",
    "                 'medianradius_nucl', 'minferetdiameter_nucl', \n",
    "                 'minoraxislength_nucl', 'perimeter_nucl'], axis=1, inplace=True)\n",
    "plot_corr(group, annot=False)"
   ]
  },
  {
   "cell_type": "code",
   "execution_count": null,
   "metadata": {
    "collapsed": true
   },
   "outputs": [],
   "source": [
    "df_fs = pd.concat([df_fs, group], axis=1)\n",
    "\n",
    "print(\"Selected nuclear shape features:\", group.shape[1])\n",
    "#feature_group.extend([5] * group.shape[1])"
   ]
  },
  {
   "cell_type": "markdown",
   "metadata": {},
   "source": [
    "###### Nuclear Zernike"
   ]
  },
  {
   "cell_type": "code",
   "execution_count": null,
   "metadata": {
    "collapsed": true
   },
   "outputs": [],
   "source": [
    "group = df.loc[:, 'zernike_0_0_nucl' : 'zernike_9_9_nucl']\n",
    "print(\"Number of nuclear zernike features:\", group.shape[1])\n",
    "plot_corr(group, annot=False)"
   ]
  },
  {
   "cell_type": "code",
   "execution_count": null,
   "metadata": {
    "collapsed": true
   },
   "outputs": [],
   "source": [
    "df_fs = pd.concat([df_fs, group], axis=1)\n",
    "\n",
    "print(\"Selected {} nuclear zernike features:\".format(group.shape[1]))\n",
    "#feature_group.extend([1] * group.shape[1])"
   ]
  },
  {
   "cell_type": "markdown",
   "metadata": {},
   "source": [
    "###### Nuclear Intensity"
   ]
  },
  {
   "cell_type": "code",
   "execution_count": null,
   "metadata": {
    "collapsed": true
   },
   "outputs": [],
   "source": [
    "group = df.loc[:, 'integratedintensityedge_dapi' : 'upperquartileintensity_wga_nucl'] \n",
    "\n",
    "print(\"Number of nuclear intensity features:\", group.shape[1])"
   ]
  },
  {
   "cell_type": "code",
   "execution_count": null,
   "metadata": {
    "collapsed": true
   },
   "outputs": [],
   "source": [
    "dapi_columns = [col for col in group.columns if 'dapi' in col]\n",
    "wga_columns = [col for col in group.columns if 'wga' in col]"
   ]
  },
  {
   "cell_type": "code",
   "execution_count": null,
   "metadata": {
    "collapsed": true
   },
   "outputs": [],
   "source": [
    "plot_corr(group[wga_columns], annot=False)"
   ]
  },
  {
   "cell_type": "code",
   "execution_count": null,
   "metadata": {
    "collapsed": true
   },
   "outputs": [],
   "source": [
    "group.drop(['lowerquartileintensity_dapi', 'medianintensity_dapi', \n",
    "            'upperquartileintensity_dapi', 'minintensityedge_dapi', \n",
    "            'minintensity_dapi', 'stdintensityedge_dapi', \n",
    "            'integratedintensity_wga_nucl', 'meanintensityedge_wga_nucl', \n",
    "            'medianintensity_wga_nucl', 'maxintensityedge_wga_nucl',\n",
    "            'lowerquartileintensity_wga_nucl', 'upperquartileintensity_wga_nucl', \n",
    "            'stdintensityedge_wga_nucl'],\n",
    "              axis=1, inplace=True)\n",
    "plot_corr(group, annot=False)"
   ]
  },
  {
   "cell_type": "code",
   "execution_count": null,
   "metadata": {
    "collapsed": true
   },
   "outputs": [],
   "source": [
    "df_fs = pd.concat([df_fs, group], axis=1)\n",
    "\n",
    "print(\"Seleted nuclear intensity features:\", group.shape[1])\n",
    "#feature_group.extend([6] * group.shape[1])"
   ]
  },
  {
   "cell_type": "markdown",
   "metadata": {},
   "source": [
    "###### Nuclei neighbours"
   ]
  },
  {
   "cell_type": "code",
   "execution_count": null,
   "metadata": {
    "collapsed": true
   },
   "outputs": [],
   "source": [
    "group = df.loc[:, 'anglebetweenneighbors_nucl' :'secondclosestdistance_nucl']\n",
    "print(\"Number of nuclear neighbours features:\", group.shape[1])"
   ]
  },
  {
   "cell_type": "code",
   "execution_count": null,
   "metadata": {
    "collapsed": true
   },
   "outputs": [],
   "source": [
    "group.drop(['percenttouching_nucl'], axis=1, inplace=True)\n",
    "\n",
    "\n",
    "df_fs = pd.concat([df_fs, group], axis=1)\n",
    "\n",
    "print(\"Seleted nuclear neighbours features:\", group.shape[1])\n",
    "#feature_group.extend([7] * group.shape[1])"
   ]
  },
  {
   "cell_type": "markdown",
   "metadata": {},
   "source": [
    "###### Nuclear Texture"
   ]
  },
  {
   "cell_type": "code",
   "execution_count": null,
   "metadata": {
    "collapsed": true
   },
   "outputs": [],
   "source": [
    "group = df.loc[:, 'angularsecondmoment_dapi_00' : 'variance_wga_03_nucl']\n",
    "print(\"Number of nuclear texture features:\", group.shape[1])"
   ]
  },
  {
   "cell_type": "code",
   "execution_count": null,
   "metadata": {
    "collapsed": true
   },
   "outputs": [],
   "source": [
    "dapi_columns = [col for col in group.columns if 'dapi' in col]\n",
    "wga_columns = [col for col in group.columns if 'wga' in col]"
   ]
  },
  {
   "cell_type": "code",
   "execution_count": null,
   "metadata": {
    "collapsed": true
   },
   "outputs": [],
   "source": [
    "plot_corr(group[wga_columns], annot=False)"
   ]
  },
  {
   "cell_type": "code",
   "execution_count": null,
   "metadata": {
    "collapsed": true
   },
   "outputs": [],
   "source": [
    "group = df[['angularsecondmoment_dapi_00',\n",
    "            'contrast_dapi_00', 'contrast_dapi_02',\n",
    "            'correlation_dapi_00', 'correlation_dapi_01', \n",
    "            'correlation_dapi_02', 'correlation_dapi_03', \n",
    "            'differenceentropy_dapi_00', 'differencevariance_dapi_00',\n",
    "            'entropy_dapi_00', 'infomeas1_dapi_00', \n",
    "            'infomeas2_dapi_00', 'sumaverage_dapi_00', \n",
    "            'variance_dapi_00', \n",
    "            'angularsecondmoment_wga_00_nucl', 'contrast_wga_00_nucl', \n",
    "            'correlation_wga_00_nucl', 'correlation_wga_01_nucl', \n",
    "            'correlation_wga_02_nucl', 'correlation_wga_03_nucl', \n",
    "            'entropy_wga_00_nucl', 'infomeas1_wga_00_nucl', \n",
    "            'infomeas2_wga_00_nucl', 'sumaverage_wga_00_nucl', 'variance_wga_00_nucl']]\n",
    "plot_corr(group, annot=False)"
   ]
  },
  {
   "cell_type": "code",
   "execution_count": null,
   "metadata": {
    "collapsed": true
   },
   "outputs": [],
   "source": [
    "df_fs = pd.concat([df_fs, group], axis=1)\n",
    "\n",
    "print(\"Seleted nuclear texture features:\", group.shape[1])\n",
    "# feature_group.extend([8] * group.shape[1])"
   ]
  },
  {
   "cell_type": "markdown",
   "metadata": {},
   "source": [
    "###### Distances"
   ]
  },
  {
   "cell_type": "code",
   "execution_count": null,
   "metadata": {
    "collapsed": true
   },
   "outputs": [],
   "source": [
    "group = df.loc[:, 'fartherstpoint_cell' : ]\n",
    "\n",
    "print(\"Number of distance measurement features:\", group.shape[1])\n",
    "plot_corr(group, annot=False)"
   ]
  },
  {
   "cell_type": "code",
   "execution_count": null,
   "metadata": {
    "collapsed": true
   },
   "outputs": [],
   "source": [
    "df_fs = pd.concat([df_fs, group], axis=1)\n",
    "\n",
    "print(\"Seleted distance measurement features:\", group.shape[1])\n",
    "# feature_group.extend([9] * group.shape[1])"
   ]
  },
  {
   "cell_type": "markdown",
   "metadata": {},
   "source": [
    "###### Cytoplasm shape"
   ]
  },
  {
   "cell_type": "code",
   "execution_count": null,
   "metadata": {
    "collapsed": true
   },
   "outputs": [],
   "source": [
    "group = df.loc[:, 'area_cyto' : 'solidity_cyto']\n",
    "print(\"Number of cell shape features:\", group.shape[1])"
   ]
  },
  {
   "cell_type": "code",
   "execution_count": null,
   "metadata": {
    "collapsed": true
   },
   "outputs": [],
   "source": [
    "group.drop(['maxferetdiameter_cyto', 'maximumradius_cyto', 'medianradius_cyto', 'minferetdiameter_cyto'],\n",
    "           axis=1, inplace=True)\n",
    "plot_corr(group, annot=False)"
   ]
  },
  {
   "cell_type": "code",
   "execution_count": null,
   "metadata": {
    "collapsed": true
   },
   "outputs": [],
   "source": [
    "df_fs = pd.concat([df_fs, group], axis=1)\n",
    "\n",
    "print(\"Selected {} cytoplasm shape features:\".format(group.shape[1]))\n",
    "#feature_group.extend([1] * group.shape[1])"
   ]
  },
  {
   "cell_type": "markdown",
   "metadata": {},
   "source": [
    "###### Cytoplasm zernike"
   ]
  },
  {
   "cell_type": "code",
   "execution_count": null,
   "metadata": {
    "collapsed": true
   },
   "outputs": [],
   "source": [
    "group = df.loc[:, 'zernike_0_0_cyto' : 'zernike_9_9_cyto']\n",
    "print(\"Number of cell shape features:\", group.shape[1])"
   ]
  },
  {
   "cell_type": "code",
   "execution_count": null,
   "metadata": {
    "collapsed": true
   },
   "outputs": [],
   "source": [
    "df_fs = pd.concat([df_fs, group], axis=1)\n",
    "\n",
    "print(\"Selected {} cytoplasm zernike features:\".format(group.shape[1]))\n",
    "#feature_group.extend([1] * group.shape[1])"
   ]
  },
  {
   "cell_type": "markdown",
   "metadata": {},
   "source": [
    "###### Check correlations"
   ]
  },
  {
   "cell_type": "code",
   "execution_count": null,
   "metadata": {
    "collapsed": true
   },
   "outputs": [],
   "source": [
    "plot_corr(df_fs, annot=False)"
   ]
  },
  {
   "cell_type": "code",
   "execution_count": null,
   "metadata": {
    "collapsed": true
   },
   "outputs": [],
   "source": [
    "df_fs.shape"
   ]
  },
  {
   "cell_type": "markdown",
   "metadata": {},
   "source": [
    "## Biomarkers"
   ]
  },
  {
   "cell_type": "markdown",
   "metadata": {},
   "source": [
    "### Explore groups of features"
   ]
  },
  {
   "cell_type": "code",
   "execution_count": null,
   "metadata": {
    "collapsed": true
   },
   "outputs": [],
   "source": [
    "df_fs = df.loc[:, 'label' : 'well']"
   ]
  },
  {
   "cell_type": "markdown",
   "metadata": {},
   "source": [
    "###### Biomarker Intensity"
   ]
  },
  {
   "cell_type": "code",
   "execution_count": null,
   "metadata": {
    "collapsed": true
   },
   "outputs": [],
   "source": [
    "group = df.loc[:, 'integratedintensityedge_ker' : 'upperquartileintensity_vim'] \n",
    "print(\"Number of biom intensity features:\", group.shape[1])"
   ]
  },
  {
   "cell_type": "code",
   "execution_count": null,
   "metadata": {
    "collapsed": true
   },
   "outputs": [],
   "source": [
    "ker_cols = [col for col in group.columns if 'ker' in col]\n",
    "vim_cols = [col for col in group.columns if 'vim' in col]"
   ]
  },
  {
   "cell_type": "code",
   "execution_count": null,
   "metadata": {
    "collapsed": true
   },
   "outputs": [],
   "source": [
    "group.drop(['upperquartileintensity_ker', 'medianintensity_ker', \n",
    "            'minintensityedge_ker', 'madintensity_ker',\n",
    "            'madintensity_vim', 'stdintensityedge_vim', \n",
    "            'upperquartileintensity_vim', 'minintensityedge_vim'], \n",
    "           axis=1, inplace=True)"
   ]
  },
  {
   "cell_type": "code",
   "execution_count": null,
   "metadata": {
    "collapsed": true
   },
   "outputs": [],
   "source": [
    "df_fs = pd.concat([df_fs, group], axis=1)\n",
    "\n",
    "print(\"Selected cell intensity features:\", group.shape[1])\n",
    "#feature_group.extend([2] * group.shape[1])"
   ]
  },
  {
   "cell_type": "markdown",
   "metadata": {},
   "source": [
    "###### Biomarker Texture"
   ]
  },
  {
   "cell_type": "code",
   "execution_count": null,
   "metadata": {
    "collapsed": true
   },
   "outputs": [],
   "source": [
    "group = df.loc[:, 'angularsecondmoment_ker_00' : 'variance_vim_03']\n",
    "print(\"Number of cell texture features:\", group.shape[1])"
   ]
  },
  {
   "cell_type": "code",
   "execution_count": null,
   "metadata": {
    "collapsed": true
   },
   "outputs": [],
   "source": [
    "ker_cols = [col for col in group.columns if 'ker' in col]\n",
    "vim_cols = [col for col in group.columns if 'vim' in col]"
   ]
  },
  {
   "cell_type": "code",
   "execution_count": null,
   "metadata": {
    "collapsed": true
   },
   "outputs": [],
   "source": [
    "group = df[['angularsecondmoment_ker_00', \n",
    "            'contrast_ker_00', 'contrast_ker_01', \n",
    "            'contrast_ker_03', \n",
    "            'correlation_ker_00', 'correlation_ker_01', \n",
    "            'correlation_ker_02', 'correlation_ker_03', \n",
    "            'differencevariance_ker_00', \n",
    "            'entropy_ker_00', \n",
    "            'infomeas1_ker_00', 'infomeas1_ker_01',\n",
    "            'infomeas1_ker_02', 'infomeas1_ker_03', \n",
    "            'infomeas2_ker_00', 'sumaverage_ker_00', \n",
    "            'variance_ker_00', \n",
    "            'angularsecondmoment_vim_00', \n",
    "            'contrast_vim_00', 'contrast_vim_02', \n",
    "            'correlation_vim_00', 'correlation_vim_01', \n",
    "            'correlation_vim_02', 'correlation_vim_03', \n",
    "            'differencevariance_vim_00', \n",
    "            'entropy_vim_00', \n",
    "            'infomeas1_vim_00', 'infomeas1_vim_01', \n",
    "            'infomeas1_vim_02', 'infomeas1_vim_03', \n",
    "            'infomeas2_vim_00', 'infomeas2_vim_02', \n",
    "            'sumaverage_vim_00']]"
   ]
  },
  {
   "cell_type": "code",
   "execution_count": null,
   "metadata": {
    "collapsed": true
   },
   "outputs": [],
   "source": [
    "df_fs = pd.concat([df_fs, group], axis=1)\n",
    "\n",
    "print(\"Selected cell texture features:\", group.shape[1])\n",
    "#feature_group.extend([4] * group.shape[1])"
   ]
  },
  {
   "cell_type": "code",
   "execution_count": null,
   "metadata": {
    "collapsed": true
   },
   "outputs": [],
   "source": [
    "df_fs.shape"
   ]
  },
  {
   "cell_type": "code",
   "execution_count": null,
   "metadata": {
    "collapsed": true
   },
   "outputs": [],
   "source": [
    "plot_corr(df_fs, annot=False)"
   ]
  },
  {
   "cell_type": "markdown",
   "metadata": {},
   "source": [
    "## Intergroup correlation"
   ]
  },
  {
   "cell_type": "code",
   "execution_count": null,
   "metadata": {
    "collapsed": true
   },
   "outputs": [],
   "source": [
    "plot_corr(df_fs, annot=False)"
   ]
  },
  {
   "cell_type": "code",
   "execution_count": null,
   "metadata": {
    "collapsed": true
   },
   "outputs": [],
   "source": [
    "p_corr = df_fs.corr()\n",
    "[col for col in p_corr.columns if (p_corr[col] >= 0.9).sum() > 1]"
   ]
  },
  {
   "cell_type": "code",
   "execution_count": null,
   "metadata": {
    "collapsed": true
   },
   "outputs": [],
   "source": [
    "p_corr[p_corr.zernike_9_9_cell >= 0.9]"
   ]
  },
  {
   "cell_type": "code",
   "execution_count": null,
   "metadata": {
    "collapsed": true
   },
   "outputs": [],
   "source": [
    "df_fs.drop(['area_cyto', 'compactness_cyto',\n",
    "            'eccentricity_cyto', 'extent_cyto',\n",
    "            'minoraxislength_cyto', 'orientation_cyto',\n",
    "            'perimeter_cyto', 'zernike_2_2_cyto',\n",
    "            'zernike_3_cyto', 'zernike_4_4_cyto',\n",
    "            'zernike_5_5_cyto', 'zernike_6_6_cyto',\n",
    "            'zernike_7_5_cyto', 'zernike_7_7_cyto',\n",
    "            'zernike_8_6_cyto', 'zernike_8_8_cyto',\n",
    "            'zernike_9_7_cyto', 'zernike_9_9_cyto'], \n",
    "           axis=1, inplace=True)"
   ]
  },
  {
   "cell_type": "code",
   "execution_count": null,
   "metadata": {
    "collapsed": true
   },
   "outputs": [],
   "source": [
    "df_fs.drop(['zernike_0_0_cell'], axis=1, inplace=True)"
   ]
  },
  {
   "cell_type": "code",
   "execution_count": null,
   "metadata": {
    "collapsed": true
   },
   "outputs": [],
   "source": [
    "df_fs.drop(['sumaverage_wga_00_cell',\n",
    "            'maxintensity_wga_nucl',\n",
    "            'stdintensity_wga_cell',\n",
    "            'sumaverage_dapi_00',\n",
    "            'variance_dapi_00', \n",
    "            'sumaverage_wga_00_nucl', \n",
    "            'variance_wga_00_nucl'], \n",
    "            axis=1, inplace=True)"
   ]
  },
  {
   "cell_type": "code",
   "execution_count": null,
   "metadata": {
    "collapsed": true
   },
   "outputs": [],
   "source": [
    "df_fs.drop(['sumaverage_ker_00',\n",
    "            'sumaverage_vim_00', \n",
    "            'variance_ker_00'], \n",
    "           axis=1, inplace=True)"
   ]
  },
  {
   "cell_type": "code",
   "execution_count": null,
   "metadata": {
    "collapsed": true
   },
   "outputs": [],
   "source": [
    "df_fs.shape"
   ]
  },
  {
   "cell_type": "code",
   "execution_count": null,
   "metadata": {
    "collapsed": true
   },
   "outputs": [],
   "source": [
    "def drop_corr_features(df, zernike=False, biomarkers=False):\n",
    "    \"\"\"\n",
    "    Drop manually selected features with \n",
    "    Pearson's correlation coefficcient greater or equal than 90%.\n",
    "    \"\"\"\n",
    "    \n",
    "    print(\"Initial shape:\", df.shape)\n",
    "    print(\"Drop features with Pearson's correlation coefficient >= 90%.\\n\")\n",
    "    \n",
    "    # Create a new dataframe\n",
    "    df_fs = df.loc[:, 'label' : 'well']\n",
    "    \n",
    "    # Morphology\n",
    "    # Cell area\n",
    "    group = df.loc[:, 'area_cell' : 'solidity_cell']\n",
    "    group.drop(['majoraxislength_cell', 'maxferetdiameter_cell', \n",
    "                 'maximumradius_cell', 'medianradius_cell', \n",
    "                 'minferetdiameter_cell'], axis=1, inplace=True)\n",
    "    print(\"Selected {} cell shape features.\".format(group.shape[1]))\n",
    "    df_fs = pd.concat([df_fs, group], axis=1)\n",
    "    \n",
    "    # Cell Zernike\n",
    "    if zernike:\n",
    "        group = df.loc[:, 'zernike_0_0_cell' : 'zernike_9_9_cell']\n",
    "        group.drop(['zernike_0_0_cell'], axis=1, inplace=True)\n",
    "        print(\"Selected {} cell zernike features:\".format(group.shape[1]))\n",
    "        df_fs = pd.concat([df_fs, group], axis=1)\n",
    "        \n",
    "    # Cell intensity\n",
    "    group = df.loc[:, 'integratedintensityedge_wga_cell' : 'upperquartileintensity_wga_cell'] \n",
    "    group.drop(['medianintensity_wga_cell', 'upperquartileintensity_wga_cell', \n",
    "                     'maxintensityedge_wga_cell', 'minintensity_wga_cell'], axis=1, inplace=True)\n",
    "    print(\"Selected {} cell intensity features.\".format(group.shape[1]))\n",
    "    df_fs = pd.concat([df_fs, group], axis=1)\n",
    "    \n",
    "    # Cell neighbours\n",
    "    group = df.loc[:, 'anglebetweenneighbors_cell' : 'secondclosestdistance_cell']\n",
    "    print(\"Selected {} cell neighbours features.\".format(group.shape[1]))\n",
    "    df_fs = pd.concat([df_fs, group], axis=1)\n",
    "\n",
    "    # Cell texture\n",
    "    group = df.loc[:, 'angularsecondmoment_wga_00_cell' : 'variance_wga_03_cell']\n",
    "    group = df[['angularsecondmoment_wga_00_cell', 'contrast_wga_00_cell', \n",
    "                         'correlation_wga_01_cell', 'correlation_wga_02_cell',\n",
    "                         'differencevariance_wga_00_cell', 'entropy_wga_00_cell', \n",
    "                         'infomeas1_wga_00_cell', 'infomeas1_wga_02_cell', \n",
    "                         'infomeas2_wga_00_cell', 'sumaverage_wga_00_cell', \n",
    "                         'variance_wga_00_cell']]\n",
    "    print(\"Selected {} cell texture features.\".format(group.shape[1]))\n",
    "    df_fs = pd.concat([df_fs, group], axis=1)\n",
    "\n",
    "    # Nuclear shape\n",
    "    group = df.loc[:,  'area_nucl' : 'solidity_nucl']\n",
    "    group.drop(['maxferetdiameter_nucl', 'maximumradius_nucl', \n",
    "                 'medianradius_nucl', 'minferetdiameter_nucl', \n",
    "                 'minoraxislength_nucl', 'perimeter_nucl'], axis=1, inplace=True)\n",
    "    print(\"Selected {} nuclear shape features.\".format(group.shape[1]))\n",
    "    df_fs = pd.concat([df_fs, group], axis=1)\n",
    "    \n",
    "    # Nuclear Zernike \n",
    "    if zernike:\n",
    "        group = df.loc[:, 'zernike_0_0_nucl' : 'zernike_9_9_nucl']\n",
    "        print(\"Selected {} nuclear zernike features.\".format(group.shape[1]))\n",
    "        df_fs = pd.concat([df_fs, group], axis=1)\n",
    "        \n",
    "    # Nuclear intensity\n",
    "    group = df.loc[:, 'integratedintensityedge_dapi' : 'upperquartileintensity_wga_nucl'] \n",
    "    group.drop(['lowerquartileintensity_dapi', 'medianintensity_dapi', \n",
    "               'upperquartileintensity_dapi', 'minintensityedge_dapi', \n",
    "               'minintensity_dapi', \n",
    "               'lowerquartileintensity_wga_nucl', 'medianintensity_wga_nucl', \n",
    "               'upperquartileintensity_wga_nucl', 'maxintensityedge_wga_nucl', \n",
    "               'meanintensityedge_wga_nucl'],\n",
    "              axis=1, inplace=True)\n",
    "    print(\"Seleted {} nuclear intensity features.\".format(group.shape[1]))\n",
    "    df_fs = pd.concat([df_fs, group], axis=1)\n",
    "\n",
    "    # Nuclear neighbours\n",
    "    group = df.loc[:, 'anglebetweenneighbors_nucl' :'secondclosestdistance_nucl']\n",
    "    group.drop(['percenttouching_nucl'], axis=1, inplace=True)\n",
    "    print(\"Seleted {} nuclear neighbours features.\".format(group.shape[1]))\n",
    "    df_fs = pd.concat([df_fs, group], axis=1)\n",
    "\n",
    "    # Nuclear texture\n",
    "    group = df.loc[:, 'angularsecondmoment_dapi_00' : 'variance_wga_03_nucl']\n",
    "    group = df[['angularsecondmoment_dapi_00',\n",
    "                         'contrast_dapi_00', 'contrast_dapi_01', \n",
    "                         'contrast_dapi_02',\n",
    "                         'correlation_dapi_00', 'correlation_dapi_01', \n",
    "                         'correlation_dapi_02', 'correlation_dapi_03', \n",
    "                         'differenceentropy_dapi_00', 'differencevariance_dapi_00',\n",
    "                         'entropy_dapi_00', 'infomeas1_dapi_00', \n",
    "                         'infomeas2_dapi_00', 'sumaverage_dapi_00', \n",
    "                         'variance_dapi_00', \n",
    "                         'angularsecondmoment_wga_00_nucl', \n",
    "                         'contrast_wga_00_nucl', \n",
    "                         'correlation_wga_00_nucl', 'correlation_wga_01_nucl', \n",
    "                         'correlation_wga_02_nucl', 'correlation_wga_03_nucl', \n",
    "                         'differenceentropy_wga_00_nucl', 'differencevariance_wga_00_nucl',\n",
    "                         'entropy_wga_00_nucl', 'infomeas1_wga_00_nucl', \n",
    "                         'infomeas2_wga_00_nucl', 'inversedifferencemoment_wga_00_nucl',\n",
    "                         'sumaverage_wga_00_nucl', 'variance_wga_00_nucl']]\n",
    "    print(\"Seleted {} nuclear texture features.\".format(group.shape[1]))\n",
    "    df_fs = pd.concat([df_fs, group], axis=1)\n",
    "    \n",
    "    # Distance measurements\n",
    "    group = df.loc[:, 'fartherstpoint_cell' : ]\n",
    "    print(\"Seleted {} distance measurement features.\".format(group.shape[1]))\n",
    "    df_fs = pd.concat([df_fs, group], axis=1)\n",
    "    \n",
    "    # Intergroup correlations\n",
    "    df_fs.drop(['sumaverage_wga_00_cell',\n",
    "                'variance_wga_00_cell', \n",
    "                'sumaverage_dapi_00',\n",
    "                'sumaverage_wga_00_nucl', \n",
    "                'variance_dapi_00', \n",
    "                'variance_wga_00_nucl'], \n",
    "                axis=1, inplace=True)\n",
    "    \n",
    "    if biomarkers:\n",
    "        # Biomarker intensity\n",
    "        group = df.loc[:, 'integratedintensityedge_ker' : 'upperquartileintensity_vim'] \n",
    "        group.drop(['madintensity_ker', 'upperquartileintensity_ker', \n",
    "                'medianintensity_ker', 'minintensityedge_ker', \n",
    "                'madintensity_vim', 'stdintensityedge_vim', \n",
    "                'upperquartileintensity_vim', 'minintensityedge_vim'], \n",
    "               axis=1, inplace=True)\n",
    "        print(\"Selected {} biomarker intensity features.\".format(group.shape[1]))\n",
    "        df_fs = pd.concat([df_fs, group], axis=1)\n",
    "\n",
    "        # Biomarker texture\n",
    "        group = df.loc[:, 'angularsecondmoment_ker_00' : 'variance_vim_03']\n",
    "        group = df[['angularsecondmoment_ker_00', 'contrast_ker_00', \n",
    "                'contrast_ker_01', 'contrast_ker_03', \n",
    "                'correlation_ker_00', 'correlation_ker_01',\n",
    "                'correlation_ker_02', 'correlation_ker_03', \n",
    "                'differenceentropy_ker_00', 'differencevariance_ker_00', \n",
    "                'entropy_ker_00', 'infomeas1_ker_01',\n",
    "                'infomeas1_ker_02', 'infomeas1_ker_03', \n",
    "                'infomeas2_ker_00', 'sumaverage_ker_00', \n",
    "                'variance_ker_00', \n",
    "                'angularsecondmoment_vim_00', 'contrast_vim_00', \n",
    "                'contrast_vim_02', 'correlation_vim_00',\n",
    "                'correlation_vim_01', 'correlation_vim_02',\n",
    "                'correlation_vim_03', 'differencevariance_vim_00', \n",
    "                'entropy_vim_00', 'infomeas1_vim_00',\n",
    "                'infomeas1_vim_01', 'infomeas1_vim_02',\n",
    "                'infomeas1_vim_03', 'infomeas2_vim_00',\n",
    "                'infomeas2_vim_02', 'sumaverage_vim_00']]\n",
    "        print(\"Selected {} biomarker texture features.\".format(group.shape[1]))\n",
    "        df_fs = pd.concat([df_fs, group], axis=1)\n",
    "        \n",
    "        # Intergroup correlations\n",
    "        df_fs.drop(['sumaverage_ker_00',\n",
    "                    'sumaverage_vim_00', \n",
    "                    'variance_ker_00'], \n",
    "                   axis=1, inplace=True)\n",
    "    \n",
    "    print(\"\\nAfter performing feature selection the dataset has {} rows and {} columns.\\n\".format(df_fs.shape[0], df_fs.shape[1]))\n",
    "    \n",
    "    return df_fs"
   ]
  },
  {
   "cell_type": "markdown",
   "metadata": {},
   "source": [
    "## Other approaches"
   ]
  },
  {
   "cell_type": "markdown",
   "metadata": {},
   "source": [
    "###### Regress `medianintensity_wga_cell` on `area_cell` and `meanintensity_wga_cell`"
   ]
  },
  {
   "cell_type": "code",
   "execution_count": null,
   "metadata": {
    "collapsed": true
   },
   "outputs": [],
   "source": [
    "initial_set = ['area_cell', 'meanintensity_wga_cell']\n",
    "Xk = np.array(measurements[initial_set])\n",
    "x = np.array(measurements.medianintensity_wga_cell)\n",
    "Xk.shape, x.shape"
   ]
  },
  {
   "cell_type": "code",
   "execution_count": null,
   "metadata": {
    "collapsed": true
   },
   "outputs": [],
   "source": [
    "from sklearn.linear_model import LinearRegression\n",
    "\n",
    "lin_reg = LinearRegression()\n",
    "\n",
    "lin_reg.fit(Xk, x)\n",
    "print(lin_reg.intercept_, lin_reg.coef_)\n",
    "x_hat = lin_reg.predict(Xk)\n",
    "u = x - x_hat"
   ]
  },
  {
   "cell_type": "code",
   "execution_count": null,
   "metadata": {
    "collapsed": true
   },
   "outputs": [],
   "source": [
    "print(correlations.loc['area_cell', 'medianintensity_wga_cell'])\n",
    "plt.plot(Xk[:, 0], label='Initial set: Area cell');\n",
    "plt.plot(x, label='New feature: Median intensity');\n",
    "plt.legend();"
   ]
  },
  {
   "cell_type": "code",
   "execution_count": null,
   "metadata": {
    "collapsed": true
   },
   "outputs": [],
   "source": [
    "print(correlations.loc['meanintensity_wga_cell', 'medianintensity_wga_cell'])\n",
    "plt.plot(Xk[:, 1], label='Initial set: Mean intensity');\n",
    "plt.plot(x, label='New feature: Median intensity');\n",
    "#plt.plot(x_hat, label='Prediction');\n",
    "#plt.plot(u, label='Residual');\n",
    "plt.legend();"
   ]
  },
  {
   "cell_type": "code",
   "execution_count": null,
   "metadata": {
    "collapsed": true
   },
   "outputs": [],
   "source": [
    "plt.plot(x, label='New feature: Median intensity');\n",
    "plt.plot(x_hat, label='Prediction');\n",
    "plt.plot(u, label='Residual');\n",
    "plt.legend();"
   ]
  },
  {
   "cell_type": "markdown",
   "metadata": {},
   "source": [
    "###### Create an artificial response variable and compare $R^2$"
   ]
  },
  {
   "cell_type": "code",
   "execution_count": null,
   "metadata": {
    "collapsed": true
   },
   "outputs": [],
   "source": [
    "def step_wise_regression(X):\n",
    "    from sklearn.linear_model import LinearRegression\n",
    "    \n",
    "    y = X.sum(axis=1)\n",
    "    print(X.shape, y.shape)\n",
    "\n",
    "    lin_reg = LinearRegression()\n",
    "    r2 = []\n",
    "    for k in range(1,X.shape[1]):\n",
    "        lin_reg.fit(X.iloc[:, 0:k], y)\n",
    "        r2.append(lin_reg.score(X.iloc[:, 0:k], y))\n",
    "\n",
    "    plt.plot(r2);"
   ]
  },
  {
   "cell_type": "code",
   "execution_count": null,
   "metadata": {
    "collapsed": true
   },
   "outputs": [],
   "source": [
    "step_wise_regression(measurements[feature_cols])"
   ]
  },
  {
   "cell_type": "markdown",
   "metadata": {},
   "source": [
    "###### Delete columns that are highly correlated with others"
   ]
  },
  {
   "cell_type": "code",
   "execution_count": null,
   "metadata": {
    "collapsed": true
   },
   "outputs": [],
   "source": [
    "def select_low_corr(X):\n",
    "    corr = X.corr();\n",
    "    cols = np.full((corr.shape[0],), True, dtype=bool)\n",
    "    \n",
    "    for i in range(corr.shape[0]):\n",
    "        for j in range(i+1, corr.shape[0]):\n",
    "            if abs(corr.iloc[i,j]) > 0.9:\n",
    "                if cols[j]:\n",
    "                    cols[j] = False\n",
    "    selected_cols = X.columns[cols]\n",
    "    return selected_cols"
   ]
  },
  {
   "cell_type": "code",
   "execution_count": null,
   "metadata": {
    "collapsed": true
   },
   "outputs": [],
   "source": [
    "selected_cols = select_low_corr(df[morph_cols])\n",
    "[df.drop([col], axis=1, inplace=True) for col in morph_cols if col not in selected_cols]"
   ]
  },
  {
   "cell_type": "code",
   "execution_count": null,
   "metadata": {
    "collapsed": true
   },
   "outputs": [],
   "source": [
    "meta_cols = df.select_dtypes(include=['object', 'category']).columns\n",
    "feature_cols = df.select_dtypes(include=[np.number]).columns\n",
    "biom_cols = [col for col in df.columns if 'ker' in col or 'vim' in col]\n",
    "morph_cols = [col for col in feature_cols if col not in biom_cols]"
   ]
  },
  {
   "cell_type": "code",
   "execution_count": null,
   "metadata": {
    "collapsed": true
   },
   "outputs": [],
   "source": [
    "print(\"After feature selection the dataset has {} rows and {} columns.\".format(df[morph_cols].shape[0], \n",
    "                                                                               df[morph_cols].shape[1]))\n",
    "print(df.dtypes.value_counts())\n",
    "df.head()"
   ]
  },
  {
   "cell_type": "markdown",
   "metadata": {},
   "source": [
    "## Manually choose which variable to keep"
   ]
  },
  {
   "cell_type": "markdown",
   "metadata": {},
   "source": [
    "###### Create a dictionary with coulmn names"
   ]
  },
  {
   "cell_type": "code",
   "execution_count": 60,
   "metadata": {
    "collapsed": true
   },
   "outputs": [],
   "source": [
    "col_dict = dict(zip(feature_cols,  np.full_like(feature_cols, '')))"
   ]
  },
  {
   "cell_type": "markdown",
   "metadata": {},
   "source": [
    "###### First run"
   ]
  },
  {
   "cell_type": "code",
   "execution_count": 61,
   "metadata": {
    "scrolled": false
   },
   "outputs": [
    {
     "name": "stdout",
     "output_type": "stream",
     "text": [
      "\n",
      "Current column: area_cell\n",
      "Index(['area_cell', 'area_cyto'], dtype='object')\n",
      "\n",
      "\n",
      "Current column: compactness_cell\n",
      "Index(['compactness_cell', 'compactness_cyto'], dtype='object')\n",
      "\n",
      "\n",
      "Current column: eccentricity_cell\n",
      "Index(['eccentricity_cell', 'eccentricity_cyto'], dtype='object')\n",
      "\n",
      "\n",
      "Current column: extent_cell\n",
      "Index(['extent_cell', 'extent_cyto'], dtype='object')\n",
      "\n",
      "\n",
      "Current column: formfactor_cell\n",
      "\n",
      "Current column: majoraxislength_cell\n",
      "Index(['majoraxislength_cell', 'maxferetdiameter_cell', 'majoraxislength_cyto',\n",
      "       'maxferetdiameter_cyto'],\n",
      "      dtype='object')\n",
      "\n",
      "\n",
      "Current column: maximumradius_cell\n",
      "Index(['maximumradius_cell', 'meanradius_cell', 'medianradius_cell'], dtype='object')\n",
      "meanradius_cell\n",
      "\n",
      "Current column: meanradius_cell\n",
      "\n",
      "Current column: minferetdiameter_cell\n",
      "Index(['minferetdiameter_cell', 'minoraxislength_cell',\n",
      "       'minferetdiameter_cyto', 'minoraxislength_cyto'],\n",
      "      dtype='object')\n",
      "minoraxislength_cell\n",
      "\n",
      "Current column: minoraxislength_cell\n",
      "\n",
      "Current column: orientation_cell\n",
      "Index(['orientation_cell', 'orientation_cyto'], dtype='object')\n",
      "\n",
      "\n",
      "Current column: perimeter_cell\n",
      "Index(['perimeter_cell', 'perimeter_cyto'], dtype='object')\n",
      "\n",
      "\n",
      "Current column: solidity_cell\n",
      "\n",
      "Current column: zernike_0_0_cell\n",
      "Index(['zernike_0_0_cell', 'zernike_0_0_cyto'], dtype='object')\n",
      "\n",
      "\n",
      "Current column: zernike_1_1_cell\n",
      "\n",
      "Current column: zernike_2_0_cell\n",
      "\n",
      "Current column: zernike_2_2_cell\n",
      "Index(['zernike_2_2_cell', 'zernike_2_2_cyto'], dtype='object')\n",
      "\n",
      "\n",
      "Current column: zernike_3_1_cell\n",
      "\n",
      "Current column: zernike_3_3_cell\n",
      "Index(['zernike_3_3_cell', 'zernike_3_3_cyto'], dtype='object')\n",
      "\n",
      "\n",
      "Current column: zernike_4_0_cell\n",
      "\n",
      "Current column: zernike_4_2_cell\n",
      "\n",
      "Current column: zernike_4_4_cell\n",
      "Index(['zernike_4_4_cell', 'zernike_4_4_cyto'], dtype='object')\n",
      "\n",
      "\n",
      "Current column: zernike_5_1_cell\n",
      "\n",
      "Current column: zernike_5_3_cell\n",
      "\n",
      "Current column: zernike_5_5_cell\n",
      "Index(['zernike_5_5_cell', 'zernike_5_5_cyto'], dtype='object')\n",
      "\n",
      "\n",
      "Current column: zernike_6_0_cell\n",
      "\n",
      "Current column: zernike_6_2_cell\n",
      "\n",
      "Current column: zernike_6_4_cell\n",
      "Index(['zernike_6_4_cell', 'zernike_6_4_cyto'], dtype='object')\n",
      "\n",
      "\n",
      "Current column: zernike_6_6_cell\n",
      "Index(['zernike_6_6_cell', 'zernike_6_6_cyto'], dtype='object')\n",
      "\n",
      "\n",
      "Current column: zernike_7_1_cell\n",
      "\n",
      "Current column: zernike_7_3_cell\n",
      "\n",
      "Current column: zernike_7_5_cell\n",
      "Index(['zernike_7_5_cell', 'zernike_7_5_cyto'], dtype='object')\n",
      "\n",
      "\n",
      "Current column: zernike_7_7_cell\n",
      "Index(['zernike_7_7_cell', 'zernike_7_7_cyto'], dtype='object')\n",
      "\n",
      "\n",
      "Current column: zernike_8_0_cell\n",
      "\n",
      "Current column: zernike_8_2_cell\n",
      "\n",
      "Current column: zernike_8_4_cell\n",
      "\n",
      "Current column: zernike_8_6_cell\n",
      "Index(['zernike_8_6_cell', 'zernike_8_6_cyto'], dtype='object')\n",
      "\n",
      "\n",
      "Current column: zernike_8_8_cell\n",
      "Index(['zernike_8_8_cell', 'zernike_8_8_cyto'], dtype='object')\n",
      "\n",
      "\n",
      "Current column: zernike_9_1_cell\n",
      "\n",
      "Current column: zernike_9_3_cell\n",
      "\n",
      "Current column: zernike_9_5_cell\n",
      "\n",
      "Current column: zernike_9_7_cell\n",
      "Index(['zernike_9_7_cell', 'zernike_9_7_cyto'], dtype='object')\n",
      "\n",
      "\n",
      "Current column: zernike_9_9_cell\n",
      "Index(['zernike_9_9_cell', 'zernike_9_9_cyto'], dtype='object')\n",
      "\n",
      "\n",
      "Current column: integratedintensityedge_wga\n",
      "\n",
      "Current column: integratedintensity_wga\n",
      "Index(['integratedintensity_wga', 'ctcf_wga'], dtype='object')\n",
      "ctcf_wga\n",
      "\n",
      "Current column: lowerquartileintensity_wga\n",
      "\n",
      "Current column: madintensity_wga\n",
      "Index(['madintensity_wga', 'upperquartileintensity_wga'], dtype='object')\n",
      "upperquartileintensity_wga\n",
      "\n",
      "Current column: maxintensityedge_wga\n",
      "Index(['maxintensityedge_wga', 'stdintensityedge_wga'], dtype='object')\n",
      "\n",
      "\n",
      "Current column: maxintensity_wga\n",
      "\n",
      "Current column: meanintensityedge_wga\n",
      "\n",
      "Current column: meanintensity_wga\n",
      "Index(['meanintensity_wga', 'medianintensity_wga',\n",
      "       'upperquartileintensity_wga', 'sumaverage_wga_00', 'sumaverage_wga_01',\n",
      "       'sumaverage_wga_02', 'sumaverage_wga_03'],\n",
      "      dtype='object')\n",
      "\n",
      "\n",
      "Current column: minintensityedge_wga\n",
      "Index(['minintensityedge_wga', 'minintensity_wga'], dtype='object')\n",
      "minintensity_wga\n",
      "\n",
      "Current column: minintensity_wga\n",
      "\n",
      "Current column: stdintensity_wga\n",
      "Index(['stdintensity_wga', 'sumvariance_wga_00', 'sumvariance_wga_01',\n",
      "       'sumvariance_wga_02', 'sumvariance_wga_03', 'variance_wga_00',\n",
      "       'variance_wga_01', 'variance_wga_02', 'variance_wga_03'],\n",
      "      dtype='object')\n",
      "\n",
      "\n",
      "Current column: neighbors_anglebetweenneighbors_3\n",
      "\n",
      "Current column: neighbors_firstclosestdistance_3\n",
      "\n",
      "Current column: neighbors_numberofneighbors_3\n",
      "\n",
      "Current column: neighbors_numberofneighbors_30\n",
      "\n",
      "Current column: neighbors_percenttouching_3\n",
      "\n",
      "Current column: neighbors_percenttouching_30\n",
      "\n",
      "Current column: neighbors_secondclosestdistance_3\n",
      "\n",
      "Current column: angularsecondmoment_wga_00\n",
      "Index(['angularsecondmoment_wga_00', 'angularsecondmoment_wga_01',\n",
      "       'angularsecondmoment_wga_02', 'angularsecondmoment_wga_03'],\n",
      "      dtype='object')\n",
      "\n",
      "\n",
      "Current column: contrast_wga_00\n",
      "Index(['contrast_wga_00', 'contrast_wga_01', 'contrast_wga_03'], dtype='object')\n",
      "\n",
      "\n",
      "Current column: contrast_wga_02\n",
      "\n",
      "Current column: correlation_wga_00\n",
      "\n",
      "Current column: correlation_wga_01\n",
      "\n",
      "Current column: correlation_wga_02\n",
      "\n",
      "Current column: correlation_wga_03\n",
      "\n",
      "Current column: differenceentropy_wga_00\n",
      "Index(['differenceentropy_wga_00', 'differenceentropy_wga_01',\n",
      "       'differenceentropy_wga_02', 'differenceentropy_wga_03',\n",
      "       'entropy_wga_00', 'entropy_wga_01', 'entropy_wga_03',\n",
      "       'sumentropy_wga_00', 'sumentropy_wga_01', 'sumentropy_wga_02',\n",
      "       'sumentropy_wga_03'],\n",
      "      dtype='object')\n",
      "\n",
      "\n",
      "Current column: differencevariance_wga_00\n",
      "Index(['differencevariance_wga_00', 'differencevariance_wga_01',\n",
      "       'differencevariance_wga_02', 'differencevariance_wga_03'],\n",
      "      dtype='object')\n",
      "\n",
      "\n",
      "Current column: entropy_wga_02\n",
      "Index(['entropy_wga_02', 'inversedifferencemoment_wga_00',\n",
      "       'inversedifferencemoment_wga_01', 'inversedifferencemoment_wga_02',\n",
      "       'inversedifferencemoment_wga_03'],\n",
      "      dtype='object')\n",
      "\n",
      "\n",
      "Current column: infomeas1_wga_00\n",
      "\n",
      "Current column: infomeas1_wga_01\n",
      "\n",
      "Current column: infomeas1_wga_02\n",
      "\n",
      "Current column: infomeas1_wga_03\n",
      "\n",
      "Current column: infomeas2_wga_00\n",
      "\n",
      "Current column: infomeas2_wga_01\n",
      "\n",
      "Current column: infomeas2_wga_02\n",
      "\n",
      "Current column: infomeas2_wga_03\n",
      "\n",
      "Current column: area_nucl\n",
      "Index(['area_nucl', 'perimeter_nucl'], dtype='object')\n",
      "\n",
      "\n",
      "Current column: compactness_nucl\n",
      "\n",
      "Current column: eccentricity_nucl\n",
      "\n",
      "Current column: extent_nucl\n",
      "\n",
      "Current column: formfactor_nucl\n",
      "\n",
      "Current column: majoraxislength_nucl\n",
      "Index(['majoraxislength_nucl', 'maxferetdiameter_nucl'], dtype='object')\n",
      "\n",
      "\n",
      "Current column: maximumradius_nucl\n",
      "Index(['maximumradius_nucl', 'meanradius_nucl', 'medianradius_nucl',\n",
      "       'minferetdiameter_nucl', 'minoraxislength_nucl'],\n",
      "      dtype='object')\n",
      "meanradius_nucl\n",
      "\n",
      "Current column: meanradius_nucl\n",
      "\n",
      "Current column: orientation_nucl\n",
      "\n",
      "Current column: solidity_nucl\n",
      "\n",
      "Current column: zernike_0_0_nucl\n",
      "\n",
      "Current column: zernike_1_1_nucl\n",
      "\n",
      "Current column: zernike_2_0_nucl\n",
      "\n",
      "Current column: zernike_2_2_nucl\n",
      "\n",
      "Current column: zernike_3_1_nucl\n",
      "\n",
      "Current column: zernike_3_3_nucl\n",
      "\n",
      "Current column: zernike_4_0_nucl\n",
      "\n",
      "Current column: zernike_4_2_nucl\n",
      "\n",
      "Current column: zernike_4_4_nucl\n",
      "\n",
      "Current column: zernike_5_1_nucl\n",
      "\n",
      "Current column: zernike_5_3_nucl\n",
      "\n",
      "Current column: zernike_5_5_nucl\n",
      "\n",
      "Current column: zernike_6_0_nucl\n",
      "\n",
      "Current column: zernike_6_2_nucl\n",
      "\n",
      "Current column: zernike_6_4_nucl\n",
      "\n",
      "Current column: zernike_6_6_nucl\n",
      "\n",
      "Current column: zernike_7_1_nucl\n",
      "\n",
      "Current column: zernike_7_3_nucl\n",
      "\n",
      "Current column: zernike_7_5_nucl\n",
      "\n",
      "Current column: zernike_7_7_nucl\n",
      "\n",
      "Current column: zernike_8_0_nucl\n",
      "\n",
      "Current column: zernike_8_2_nucl\n",
      "\n",
      "Current column: zernike_8_4_nucl\n",
      "\n",
      "Current column: zernike_8_6_nucl\n",
      "\n",
      "Current column: zernike_8_8_nucl\n",
      "\n",
      "Current column: zernike_9_1_nucl\n",
      "\n",
      "Current column: zernike_9_3_nucl\n",
      "\n",
      "Current column: zernike_9_5_nucl\n",
      "\n",
      "Current column: zernike_9_7_nucl\n",
      "\n",
      "Current column: zernike_9_9_nucl\n",
      "\n",
      "Current column: integratedintensityedge_dapi\n",
      "\n",
      "Current column: integratedintensity_dapi\n",
      "Index(['integratedintensity_dapi', 'ctcf_dapi'], dtype='object')\n",
      "ctcf_dapi\n",
      "\n",
      "Current column: lowerquartileintensity_dapi\n",
      "Index(['lowerquartileintensity_dapi', 'meanintensity_dapi',\n",
      "       'medianintensity_dapi', 'sumaverage_dapi_00', 'sumaverage_dapi_01',\n",
      "       'sumaverage_dapi_02', 'sumaverage_dapi_03'],\n",
      "      dtype='object')\n",
      "meanintensity_dapi\n"
     ]
    },
    {
     "name": "stdout",
     "output_type": "stream",
     "text": [
      "\n",
      "Current column: madintensity_dapi\n",
      "\n",
      "Current column: maxintensityedge_dapi\n",
      "Index(['maxintensityedge_dapi', 'stdintensityedge_dapi'], dtype='object')\n",
      "\n",
      "\n",
      "Current column: maxintensity_dapi\n",
      "\n",
      "Current column: meanintensityedge_dapi\n",
      "Index(['meanintensityedge_dapi', 'minintensityedge_dapi', 'minintensity_dapi'], dtype='object')\n",
      "\n",
      "\n",
      "Current column: meanintensity_dapi\n",
      "Index(['meanintensity_dapi', 'upperquartileintensity_dapi'], dtype='object')\n",
      "\n",
      "\n",
      "Current column: stdintensity_dapi\n",
      "Index(['stdintensity_dapi', 'sumvariance_dapi_00', 'sumvariance_dapi_01',\n",
      "       'sumvariance_dapi_02', 'sumvariance_dapi_03', 'variance_dapi_00',\n",
      "       'variance_dapi_01', 'variance_dapi_02', 'variance_dapi_03'],\n",
      "      dtype='object')\n",
      "\n",
      "\n",
      "Current column: neighbors_anglebetweenneighbors_20\n",
      "\n",
      "Current column: neighbors_firstclosestdistance_20\n",
      "\n",
      "Current column: neighbors_numberofneighbors_20\n",
      "Index(['neighbors_numberofneighbors_20', 'neighbors_percenttouching_20'], dtype='object')\n",
      "\n",
      "\n",
      "Current column: neighbors_secondclosestdistance_20\n",
      "\n",
      "Current column: angularsecondmoment_dapi_00\n",
      "Index(['angularsecondmoment_dapi_00', 'angularsecondmoment_dapi_01',\n",
      "       'angularsecondmoment_dapi_02', 'angularsecondmoment_dapi_03',\n",
      "       'differencevariance_dapi_01', 'inversedifferencemoment_dapi_00',\n",
      "       'inversedifferencemoment_dapi_01', 'inversedifferencemoment_dapi_02',\n",
      "       'inversedifferencemoment_dapi_03'],\n",
      "      dtype='object')\n",
      "\n",
      "\n",
      "Current column: contrast_dapi_00\n",
      "\n",
      "Current column: contrast_dapi_01\n",
      "\n",
      "Current column: contrast_dapi_02\n",
      "\n",
      "Current column: contrast_dapi_03\n",
      "\n",
      "Current column: correlation_dapi_00\n",
      "\n",
      "Current column: correlation_dapi_01\n",
      "\n",
      "Current column: correlation_dapi_02\n",
      "\n",
      "Current column: correlation_dapi_03\n",
      "\n",
      "Current column: differenceentropy_dapi_00\n",
      "Index(['differenceentropy_dapi_00', 'differenceentropy_dapi_01',\n",
      "       'differenceentropy_dapi_03'],\n",
      "      dtype='object')\n",
      "\n",
      "\n",
      "Current column: differenceentropy_dapi_02\n",
      "\n",
      "Current column: differencevariance_dapi_00\n",
      "Index(['differencevariance_dapi_00', 'differencevariance_dapi_02',\n",
      "       'differencevariance_dapi_03', 'sumentropy_dapi_00',\n",
      "       'sumentropy_dapi_01', 'sumentropy_dapi_02', 'sumentropy_dapi_03'],\n",
      "      dtype='object')\n",
      "\n",
      "\n",
      "Current column: entropy_dapi_00\n",
      "Index(['entropy_dapi_00', 'entropy_dapi_01', 'entropy_dapi_02',\n",
      "       'entropy_dapi_03'],\n",
      "      dtype='object')\n",
      "\n",
      "\n",
      "Current column: infomeas1_dapi_00\n",
      "Index(['infomeas1_dapi_00', 'infomeas1_dapi_01', 'infomeas1_dapi_02',\n",
      "       'infomeas1_dapi_03'],\n",
      "      dtype='object')\n",
      "\n",
      "\n",
      "Current column: infomeas2_dapi_00\n",
      "Index(['infomeas2_dapi_00', 'infomeas2_dapi_01', 'infomeas2_dapi_02',\n",
      "       'infomeas2_dapi_03'],\n",
      "      dtype='object')\n",
      "\n",
      "\n",
      "Current column: eulernumber_cyto\n",
      "\n",
      "Current column: formfactor_cyto\n",
      "\n",
      "Current column: maximumradius_cyto\n",
      "Index(['maximumradius_cyto', 'meanradius_cyto', 'medianradius_cyto'], dtype='object')\n",
      "\n",
      "\n",
      "Current column: solidity_cyto\n",
      "\n",
      "Current column: zernike_1_1_cyto\n",
      "\n",
      "Current column: zernike_2_0_cyto\n",
      "\n",
      "Current column: zernike_3_1_cyto\n",
      "\n",
      "Current column: zernike_4_0_cyto\n",
      "\n",
      "Current column: zernike_4_2_cyto\n",
      "\n",
      "Current column: zernike_5_1_cyto\n",
      "\n",
      "Current column: zernike_5_3_cyto\n",
      "\n",
      "Current column: zernike_6_0_cyto\n",
      "\n",
      "Current column: zernike_6_2_cyto\n",
      "\n",
      "Current column: zernike_7_1_cyto\n",
      "\n",
      "Current column: zernike_7_3_cyto\n",
      "\n",
      "Current column: zernike_8_0_cyto\n",
      "\n",
      "Current column: zernike_8_2_cyto\n",
      "\n",
      "Current column: zernike_8_4_cyto\n",
      "\n",
      "Current column: zernike_9_1_cyto\n",
      "\n",
      "Current column: zernike_9_3_cyto\n",
      "\n",
      "Current column: zernike_9_5_cyto\n",
      "\n",
      "Current column: integratedintensityedge_ker\n",
      "\n",
      "Current column: integratedintensityedge_vim\n",
      "\n",
      "Current column: integratedintensity_ker\n",
      "Index(['integratedintensity_ker', 'ctcf_ker'], dtype='object')\n",
      "ctcf_ker\n",
      "\n",
      "Current column: integratedintensity_vim\n",
      "Index(['integratedintensity_vim', 'ctcf_vim'], dtype='object')\n",
      "ctcf_vim\n",
      "\n",
      "Current column: lowerquartileintensity_ker\n",
      "\n",
      "Current column: lowerquartileintensity_vim\n",
      "Index(['lowerquartileintensity_vim', 'medianintensity_vim'], dtype='object')\n",
      "\n",
      "\n",
      "Current column: madintensity_ker\n",
      "Index(['madintensity_ker', 'meanintensity_ker', 'medianintensity_ker',\n",
      "       'upperquartileintensity_ker', 'sumaverage_ker_00', 'sumaverage_ker_01',\n",
      "       'sumaverage_ker_02', 'sumaverage_ker_03'],\n",
      "      dtype='object')\n",
      "meanintensity_ker\n",
      "\n",
      "Current column: madintensity_vim\n",
      "\n",
      "Current column: maxintensityedge_ker\n",
      "\n",
      "Current column: maxintensityedge_vim\n",
      "\n",
      "Current column: maxintensity_ker\n",
      "\n",
      "Current column: maxintensity_vim\n",
      "\n",
      "Current column: meanintensityedge_ker\n",
      "\n",
      "Current column: meanintensityedge_vim\n",
      "Index(['meanintensityedge_vim', 'stdintensityedge_vim'], dtype='object')\n",
      "\n",
      "\n",
      "Current column: meanintensity_ker\n",
      "\n",
      "Current column: meanintensity_vim\n",
      "Index(['meanintensity_vim', 'upperquartileintensity_vim', 'sumaverage_vim_00',\n",
      "       'sumaverage_vim_01', 'sumaverage_vim_02', 'sumaverage_vim_03'],\n",
      "      dtype='object')\n",
      "\n",
      "\n",
      "Current column: minintensityedge_ker\n",
      "Index(['minintensityedge_ker', 'minintensity_ker'], dtype='object')\n",
      "\n",
      "\n",
      "Current column: minintensityedge_vim\n",
      "Index(['minintensityedge_vim', 'minintensity_vim'], dtype='object')\n",
      "\n",
      "\n",
      "Current column: stdintensityedge_ker\n",
      "\n",
      "Current column: stdintensity_ker\n",
      "Index(['stdintensity_ker', 'sumvariance_ker_00', 'sumvariance_ker_01',\n",
      "       'sumvariance_ker_02', 'sumvariance_ker_03', 'variance_ker_00',\n",
      "       'variance_ker_01', 'variance_ker_02', 'variance_ker_03'],\n",
      "      dtype='object')\n",
      "\n",
      "\n",
      "Current column: stdintensity_vim\n",
      "Index(['stdintensity_vim', 'sumvariance_vim_00', 'sumvariance_vim_01',\n",
      "       'sumvariance_vim_02', 'sumvariance_vim_03', 'variance_vim_00',\n",
      "       'variance_vim_01', 'variance_vim_02', 'variance_vim_03'],\n",
      "      dtype='object')\n",
      "\n",
      "\n",
      "Current column: angularsecondmoment_ker_00\n",
      "Index(['angularsecondmoment_ker_00', 'angularsecondmoment_ker_01',\n",
      "       'angularsecondmoment_ker_02', 'angularsecondmoment_ker_03'],\n",
      "      dtype='object')\n",
      "\n",
      "\n",
      "Current column: angularsecondmoment_vim_00\n",
      "Index(['angularsecondmoment_vim_00', 'angularsecondmoment_vim_01',\n",
      "       'angularsecondmoment_vim_02', 'angularsecondmoment_vim_03'],\n",
      "      dtype='object')\n",
      "\n",
      "\n",
      "Current column: contrast_ker_00\n",
      "\n",
      "Current column: contrast_ker_01\n",
      "\n",
      "Current column: contrast_ker_02\n",
      "\n",
      "Current column: contrast_ker_03\n",
      "\n",
      "Current column: contrast_vim_00\n",
      "Index(['contrast_vim_00', 'contrast_vim_01', 'contrast_vim_03'], dtype='object')\n",
      "\n",
      "\n",
      "Current column: contrast_vim_02\n",
      "\n",
      "Current column: correlation_ker_00\n",
      "\n",
      "Current column: correlation_ker_01\n",
      "\n",
      "Current column: correlation_ker_02\n",
      "\n",
      "Current column: correlation_ker_03\n",
      "\n",
      "Current column: correlation_vim_00\n",
      "\n",
      "Current column: correlation_vim_01\n",
      "\n",
      "Current column: correlation_vim_02\n",
      "\n",
      "Current column: correlation_vim_03\n",
      "\n",
      "Current column: differenceentropy_ker_00\n",
      "Index(['differenceentropy_ker_00', 'differenceentropy_ker_01',\n",
      "       'differenceentropy_ker_02', 'differenceentropy_ker_03',\n",
      "       'entropy_ker_00', 'sumentropy_ker_00', 'sumentropy_ker_01',\n",
      "       'sumentropy_ker_02', 'sumentropy_ker_03'],\n",
      "      dtype='object')\n",
      "\n",
      "\n",
      "Current column: differenceentropy_vim_00\n",
      "Index(['differenceentropy_vim_00', 'differenceentropy_vim_01',\n",
      "       'differenceentropy_vim_02', 'differenceentropy_vim_03',\n",
      "       'entropy_vim_00', 'sumentropy_vim_00', 'sumentropy_vim_01',\n",
      "       'sumentropy_vim_02', 'sumentropy_vim_03'],\n",
      "      dtype='object')\n",
      "\n",
      "\n",
      "Current column: differencevariance_ker_00\n",
      "Index(['differencevariance_ker_00', 'differencevariance_ker_01',\n",
      "       'differencevariance_ker_02', 'differencevariance_ker_03'],\n",
      "      dtype='object')\n",
      "\n",
      "\n",
      "Current column: differencevariance_vim_00\n",
      "Index(['differencevariance_vim_00', 'differencevariance_vim_01',\n",
      "       'differencevariance_vim_02', 'differencevariance_vim_03'],\n",
      "      dtype='object')\n",
      "\n",
      "\n",
      "Current column: entropy_ker_01\n",
      "Index(['entropy_ker_01', 'entropy_ker_02', 'entropy_ker_03',\n",
      "       'inversedifferencemoment_ker_00', 'inversedifferencemoment_ker_01',\n",
      "       'inversedifferencemoment_ker_02', 'inversedifferencemoment_ker_03'],\n",
      "      dtype='object')\n",
      "\n",
      "\n",
      "Current column: entropy_vim_01\n",
      "Index(['entropy_vim_01', 'entropy_vim_02', 'entropy_vim_03',\n",
      "       'inversedifferencemoment_vim_00', 'inversedifferencemoment_vim_01',\n",
      "       'inversedifferencemoment_vim_02', 'inversedifferencemoment_vim_03'],\n",
      "      dtype='object')\n",
      "\n",
      "\n",
      "Current column: infomeas1_ker_00\n",
      "\n",
      "Current column: infomeas1_ker_01\n",
      "\n",
      "Current column: infomeas1_ker_02\n",
      "\n",
      "Current column: infomeas1_ker_03\n",
      "\n",
      "Current column: infomeas1_vim_00\n",
      "\n",
      "Current column: infomeas1_vim_01\n",
      "\n",
      "Current column: infomeas1_vim_02\n",
      "\n",
      "Current column: infomeas1_vim_03\n",
      "\n",
      "Current column: infomeas2_ker_00\n",
      "Index(['infomeas2_ker_00', 'infomeas2_ker_01', 'infomeas2_ker_03'], dtype='object')\n"
     ]
    },
    {
     "name": "stdout",
     "output_type": "stream",
     "text": [
      "\n",
      "\n",
      "Current column: infomeas2_ker_02\n",
      "\n",
      "Current column: infomeas2_vim_00\n",
      "Index(['infomeas2_vim_00', 'infomeas2_vim_03'], dtype='object')\n",
      "\n",
      "\n",
      "Current column: infomeas2_vim_01\n",
      "\n",
      "Current column: infomeas2_vim_02\n",
      "\n",
      "Current column: fartherstpoint_cell\n",
      "\n",
      "Current column: fartherstpoint_nucl\n",
      "\n",
      "Current column: nucleusshift\n",
      "\n",
      "Current column: maxintdisplacement_dapi\n",
      "\n",
      "Current column: maxintdisplacement_ker\n",
      "\n",
      "Current column: maxintdisplacement_vim\n",
      "\n",
      "Current column: maxintdisplacement_wga\n",
      "\n",
      "Current column: massdisplacement_wga\n",
      "\n",
      "Current column: massdisplacement_dapi\n",
      "\n",
      "Current column: massdisplacement_ker\n",
      "\n",
      "Current column: massdisplacement_vim\n",
      "\n",
      "Current column: ctcf_dapi\n",
      "\n",
      "Current column: ctcf_wga\n",
      "\n",
      "Current column: ctcf_ker\n",
      "\n",
      "Current column: ctcf_vim\n",
      "\n",
      "Current column: cvratio\n",
      "\n",
      "Current column: log_cvratio\n",
      "\n",
      "Current column: ncr\n"
     ]
    }
   ],
   "source": [
    "cols = feature_cols\n",
    "abs_corr = np.abs(df[feature_cols].corr())\n",
    "\n",
    "col = ''\n",
    "i = 0\n",
    "\n",
    "while col != feature_cols[-1]:\n",
    "    col = cols[i]\n",
    "    print(\"\\nCurrent column:\", col)\n",
    "    high_corr = abs_corr.loc[cols,cols].loc[abs_corr[col] > 0.9, col].index\n",
    "    if high_corr.size == 1:\n",
    "        i += 1\n",
    "    else:\n",
    "        print(high_corr)\n",
    "        inp = input()   \n",
    "        col_dict[col] = inp\n",
    "        if inp == '':\n",
    "            cols = cols.drop(high_corr[1:])\n",
    "            i += 1\n",
    "        else:\n",
    "            high_corr = high_corr.drop(inp)\n",
    "            cols = cols.drop(high_corr)"
   ]
  },
  {
   "cell_type": "code",
   "execution_count": 62,
   "metadata": {
    "collapsed": true
   },
   "outputs": [],
   "source": [
    "with open('measurements_5_over90.txt', 'w') as file:\n",
    "    for col_name in cols.tolist():\n",
    "        file.write(col_name + '\\n')"
   ]
  },
  {
   "cell_type": "code",
   "execution_count": 58,
   "metadata": {
    "collapsed": true
   },
   "outputs": [],
   "source": [
    "# Save the inputs for later\n",
    "import json\n",
    "\n",
    "with open('col_dict.txt', 'w') as file:\n",
    "    file.write(json.dumps(col_dict))"
   ]
  },
  {
   "cell_type": "markdown",
   "metadata": {},
   "source": [
    "###### Subsequent runs"
   ]
  },
  {
   "cell_type": "code",
   "execution_count": 12,
   "metadata": {
    "collapsed": true
   },
   "outputs": [],
   "source": [
    "col_dict = json.load(open(\"col_dict.txt\"))\n",
    "cols = feature_cols\n",
    "col = ''\n",
    "i = 0\n",
    "\n",
    "while col != feature_cols[-1]:\n",
    "    col = cols[i]    \n",
    "    high_corr = abs_corr.loc[cols,cols].loc[abs_corr[col] >= 0.9, col].index\n",
    "    if high_corr.size == 1:\n",
    "        i += 1\n",
    "    else:        \n",
    "        if col_dict[col] == '':\n",
    "            cols = cols.drop(high_corr[1:])\n",
    "            i += 1\n",
    "        else:\n",
    "            high_corr = high_corr.drop(col_dict[col])\n",
    "            cols = cols.drop(high_corr)"
   ]
  },
  {
   "cell_type": "code",
   "execution_count": 13,
   "metadata": {},
   "outputs": [
    {
     "data": {
      "text/plain": [
       "228"
      ]
     },
     "execution_count": 13,
     "metadata": {},
     "output_type": "execute_result"
    }
   ],
   "source": [
    "len(cols)"
   ]
  },
  {
   "cell_type": "code",
   "execution_count": 18,
   "metadata": {},
   "outputs": [
    {
     "data": {
      "image/png": "[encoded data removed]",
      "text/plain": [
       "<Figure size 864x720 with 2 Axes>"
      ]
     },
     "metadata": {},
     "output_type": "display_data"
    }
   ],
   "source": [
    "plot_corr(df, annot=False)"
   ]
  },
  {
   "cell_type": "code",
   "execution_count": 19,
   "metadata": {},
   "outputs": [
    {
     "data": {
      "image/png": "[encoded data removed]",
      "text/plain": [
       "<Figure size 864x720 with 2 Axes>"
      ]
     },
     "metadata": {},
     "output_type": "display_data"
    }
   ],
   "source": [
    "plot_corr(df[cols], annot=False)"
   ]
  }
 ],
 "metadata": {
  "kernelspec": {
   "display_name": "Python 3",
   "language": "python",
   "name": "python3"
  },
  "language_info": {
   "codemirror_mode": {
    "name": "ipython",
    "version": 3
   },
   "file_extension": ".py",
   "mimetype": "text/x-python",
   "name": "python",
   "nbconvert_exporter": "python",
   "pygments_lexer": "ipython3",
   "version": "3.6.8"
  },
  "toc": {
   "base_numbering": 1,
   "nav_menu": {},
   "number_sections": true,
   "sideBar": true,
   "skip_h1_title": false,
   "title_cell": "Table of Contents",
   "title_sidebar": "Contents",
   "toc_cell": false,
   "toc_position": {},
   "toc_section_display": true,
   "toc_window_display": false
  }
 },
 "nbformat": 4,
 "nbformat_minor": 2
}
