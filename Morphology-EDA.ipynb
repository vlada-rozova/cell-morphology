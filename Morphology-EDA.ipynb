{
 "cells": [
  {
   "cell_type": "code",
   "execution_count": 1,
   "metadata": {
    "collapsed": true
   },
   "outputs": [],
   "source": [
    "select_features=False"
   ]
  },
  {
   "cell_type": "code",
   "execution_count": 2,
   "metadata": {},
   "outputs": [
    {
     "name": "stderr",
     "output_type": "stream",
     "text": [
      "/Applications/anaconda3/lib/python3.6/site-packages/sklearn/externals/six.py:31: DeprecationWarning: The module is deprecated in version 0.21 and will be removed in version 0.23 since we've dropped support for Python 2.7. Please rely on the official version of six (https://pypi.org/project/six/).\n",
      "  \"(https://pypi.org/project/six/).\", DeprecationWarning)\n"
     ]
    },
    {
     "name": "stdout",
     "output_type": "stream",
     "text": [
      "Morphology was measured for 1063.0 cells.\n",
      "\n",
      "The numbers of cells and nuclei correspond to each other.\n",
      "\n",
      "The are no duplicated column names: True\n",
      "The are no duplicated column names: True\n",
      "Cytoplasm measurements were taken for 1063 cells.\n",
      "\n",
      "The are no duplicated column names: True\n",
      "Reading the dataset with E-cadherin...\n",
      "E-cadherin was measured for 576 cells.\n",
      "\n",
      "The are no duplicated column names: True\n",
      "Reading the dataset with Vimentin and Cytokeratins...\n",
      "Vimentin and Cytokeratins were measured for 487 cells.\n",
      "\n",
      "The are no duplicated column names: True\n",
      "\n",
      "Full dataset has shape: (1063, 562)\n",
      "Initial shape is: (1063, 562)\n",
      "Features with zero variance:\n",
      " Index(['centerZ_cell', 'eulernumber_cell', 'children_cytoplasm_count_cell',\n",
      "       'loc_centermassintensityZ_wga', 'loc_centerZ_cell',\n",
      "       'loc_maxintensityZ_wga', 'centerZ_nucl', 'eulernumber_nucl',\n",
      "       'children_cells_count', 'children_cytoplasm_count_nucl',\n",
      "       'loc_centermassintensityZ_dapi', 'loc_centerZ_nucl',\n",
      "       'loc_maxintensityZ_dapi', 'centerZ_cyto',\n",
      "       'loc_centermassintensityZ_ecad', 'loc_centerZ_x',\n",
      "       'loc_maxintensityZ_ecad', 'loc_centermassintensityZ_ker',\n",
      "       'loc_centermassintensityZ_vim', 'loc_centerZ_y',\n",
      "       'loc_maxintensityZ_ker', 'loc_maxintensityZ_vim'],\n",
      "      dtype='object')\n",
      "\n",
      "After cleaning the dataset has 1063 rows and 498 columns.\n",
      "\n",
      "Excluding images with poor quality from the analysis. The dataset contains 910 cells.\n",
      "\n",
      "502 columns in total:\n",
      " 7 columns containing metadata, meta_cols,\n",
      " 495 all features, feature_cols:\n",
      " 209 biomarkers, biom_cols,\n",
      " 286 morphology, morph_cols\n",
      "150 geometric measurements, geom_cols,\n",
      " 46 cellular measurements, cell_cols,\n",
      " 47 nuclear measurements, nucl_cols,\n",
      " 44 cytoplasmic measurements, cyto_cols\n",
      "\n",
      "84 clumped cells excluded from the main dataser. The final dataset contains 826 cells.\n"
     ]
    }
   ],
   "source": [
    "%run load-clean-select.ipynb"
   ]
  },
  {
   "cell_type": "markdown",
   "metadata": {},
   "source": [
    "###### SMOTE"
   ]
  },
  {
   "cell_type": "code",
   "execution_count": null,
   "metadata": {
    "collapsed": true
   },
   "outputs": [],
   "source": [
    "measurements = proc.smote(measurements[feature_cols], measurements.stiffness)"
   ]
  },
  {
   "cell_type": "markdown",
   "metadata": {},
   "source": [
    "# Which dataset?"
   ]
  },
  {
   "cell_type": "code",
   "execution_count": 3,
   "metadata": {
    "collapsed": true
   },
   "outputs": [],
   "source": [
    "# The full dataset\n",
    "df = measurements\n",
    "# Dataset without clusters at 64kPa\n",
    "# df = measurements_red\n",
    "# Dataset without 0.5kPa, 8kPa and clusters at 64kPa\n",
    "# df = measurements_5\n",
    "# Dataset without 0.5kPa, 8kPa and clusters at 64kPa with balanced classes\n",
    "# df = measurements_b"
   ]
  },
  {
   "cell_type": "code",
   "execution_count": null,
   "metadata": {
    "collapsed": true
   },
   "outputs": [],
   "source": [
    "to_exclude = [\n",
    "              '16.0-C-B5-1', \n",
    "              '16.0-C-B5-2', \n",
    "#               '16.0-C-B5-3', \n",
    "              '16.0-C-B5-4', \n",
    "              '16.0-C-B5-6', \n",
    "              '16.0-C-B5-7'\n",
    "             ]\n",
    "\n",
    "for image in to_exclude:\n",
    "    df.drop(df[df.image == image].index, inplace=True)\n",
    "\n",
    "df.reset_index(drop=True, inplace=True)"
   ]
  },
  {
   "cell_type": "code",
   "execution_count": 4,
   "metadata": {},
   "outputs": [
    {
     "data": {
      "text/plain": [
       "((426, 502), (484, 502))"
      ]
     },
     "execution_count": 4,
     "metadata": {},
     "output_type": "execute_result"
    }
   ],
   "source": [
    "df[df.combination == \"B\"].shape, df[df.combination == \"C\"].shape"
   ]
  },
  {
   "cell_type": "markdown",
   "metadata": {},
   "source": [
    "# Summary"
   ]
  },
  {
   "cell_type": "code",
   "execution_count": null,
   "metadata": {
    "collapsed": true
   },
   "outputs": [],
   "source": [
    "df.head(3)"
   ]
  },
  {
   "cell_type": "code",
   "execution_count": null,
   "metadata": {
    "collapsed": true
   },
   "outputs": [],
   "source": [
    "list(df.columns)"
   ]
  },
  {
   "cell_type": "code",
   "execution_count": null,
   "metadata": {
    "collapsed": true
   },
   "outputs": [],
   "source": [
    "df.info()"
   ]
  },
  {
   "cell_type": "code",
   "execution_count": null,
   "metadata": {
    "collapsed": true
   },
   "outputs": [],
   "source": [
    "(df.isnull()).sum().sum()"
   ]
  },
  {
   "cell_type": "markdown",
   "metadata": {},
   "source": [
    "## Cells per stiffness value"
   ]
  },
  {
   "cell_type": "code",
   "execution_count": null,
   "metadata": {},
   "outputs": [],
   "source": [
    "n = df.groupby('stiffness').size().values\n",
    "nstiff = len(df.stiffness.unique())\n",
    "\n",
    "groups = np.zeros(df.shape[0], np.int)\n",
    "j = 0\n",
    "for i in range(nstiff):\n",
    "    groups[j : j + n[i]] = i\n",
    "    j = j + n[i]\n",
    "n"
   ]
  },
  {
   "cell_type": "code",
   "execution_count": null,
   "metadata": {},
   "outputs": [],
   "source": [
    "plt.rcParams['figure.figsize'] = (0.5, 3)\n",
    "\n",
    "sns.heatmap(pd.DataFrame(groups, columns=['n']), \n",
    "            cmap=sns.color_palette(\"Set3\", nstiff),\n",
    "            cbar_kws={\"aspect\": 5}, cbar=False,\n",
    "            xticklabels=False, yticklabels=False); \n",
    "plt.savefig('../results/Substrates groups cbar.png', bbox_inches='tight', dpi=300);"
   ]
  },
  {
   "cell_type": "markdown",
   "metadata": {},
   "source": [
    "## Images per stiffness"
   ]
  },
  {
   "cell_type": "code",
   "execution_count": null,
   "metadata": {
    "collapsed": true
   },
   "outputs": [],
   "source": [
    "df.groupby(['stiffness', 'combination']).image.nunique()"
   ]
  },
  {
   "cell_type": "markdown",
   "metadata": {},
   "source": [
    "## Cells per image"
   ]
  },
  {
   "cell_type": "code",
   "execution_count": null,
   "metadata": {},
   "outputs": [],
   "source": [
    "cell_numbers = pd.DataFrame(df.groupby(['stiffness', 'image']).size(),\n",
    "                            columns = ['object']\n",
    "                           ).reset_index()\n",
    "cell_numbers.groupby('stiffness').mean()"
   ]
  },
  {
   "cell_type": "code",
   "execution_count": null,
   "metadata": {
    "scrolled": false
   },
   "outputs": [],
   "source": [
    "plt.rcParams['figure.figsize'] = (6, 4)\n",
    "sns.barplot(x=\"stiffness\", y=\"object\", data=cell_numbers, \n",
    "            ci='sd', capsize=.1, palette=sns.color_palette(\"Set3\", 5));\n",
    "\n",
    "x_start, x_end, signif = func.ttest(cell_numbers, 'stiffness', 'object', equal_var=False, verbose=False)\n",
    "func.stat_annot(cell_numbers, 'stiffness', 'object', x_start, x_end, signif, [0,20])\n",
    "\n",
    "plt.xlabel(\"Stiffness, kPa\")\n",
    "plt.ylabel(\"Count\")\n",
    "plt.title(\"Number of Cells per Image\");\n",
    "plt.savefig('../results/Cells per image.png', bbox_inches='tight', dpi=300);"
   ]
  },
  {
   "cell_type": "markdown",
   "metadata": {},
   "source": [
    "## Groups of features (general)"
   ]
  },
  {
   "cell_type": "code",
   "execution_count": null,
   "metadata": {
    "collapsed": true
   },
   "outputs": [],
   "source": [
    "col_names = (('area_cell', 'maxintdisplacement_wga_nucl'),\n",
    "             ('integratedintensityedge_ker', 'log_cvratio'))"
   ]
  },
  {
   "cell_type": "code",
   "execution_count": null,
   "metadata": {
    "collapsed": true
   },
   "outputs": [],
   "source": [
    "groups = np.zeros(len(feature_cols), np.int)\n",
    "groups.shape"
   ]
  },
  {
   "cell_type": "code",
   "execution_count": null,
   "metadata": {
    "collapsed": true
   },
   "outputs": [],
   "source": [
    "j = 0\n",
    "for i in range(len(col_names)):\n",
    "    n = measurements.loc[:, col_names[i][0] : col_names[i][1]].columns.size\n",
    "    groups[j : j + n] = i\n",
    "    j = j + n"
   ]
  },
  {
   "cell_type": "code",
   "execution_count": null,
   "metadata": {
    "collapsed": true
   },
   "outputs": [],
   "source": [
    "plt.rcParams['figure.figsize'] = (20, 0.5)\n",
    "sns.heatmap(pd.DataFrame(groups, columns=['n']).T, \n",
    "            cmap=sns.color_palette(\"Set3\", 4), \n",
    "            cbar=False,\n",
    "            xticklabels=False, yticklabels=False); \n",
    "plt.savefig('../results/All features groups cbar.png', bbox_inches='tight', dpi=300);"
   ]
  },
  {
   "cell_type": "markdown",
   "metadata": {},
   "source": [
    "## Groups of features (geometric)"
   ]
  },
  {
   "cell_type": "code",
   "execution_count": null,
   "metadata": {
    "collapsed": true
   },
   "outputs": [],
   "source": [
    "col_names = (('area_cell', 'zernike_9_9_cell'),\n",
    "             #('integratedintensityedge_wga_cell', 'minintensity_wga_cell'), \n",
    "             ('neighbors_anglebetweenneighbors_3','neighbors_secondclosestdistance_3'), \n",
    "             #('angularsecondmoment_wga_00_cell', 'infomeas2_wga_00_cell'),\n",
    "             ('area_nucl', 'zernike_9_9_nucl'),\n",
    "             #('integratedintensityedge_dapi', 'stdintensity_wga_nucl'),\n",
    "             ('neighbors_anglebetweenneighbors_20', 'neighbors_secondclosestdistance_20'),\n",
    "             #('angularsecondmoment_dapi_00', 'sumentropy_dapi_01'),\n",
    "             ('eulernumber_cyto', 'zernike_9_5_cyto'),\n",
    "             ('fartherstpoint_cell', 'ncr'))"
   ]
  },
  {
   "cell_type": "code",
   "execution_count": null,
   "metadata": {
    "collapsed": true
   },
   "outputs": [],
   "source": [
    "groups = np.zeros(len(geom_cols), np.int)\n",
    "\n",
    "j = 0\n",
    "for i in range(len(col_names)):\n",
    "    n = measurements.loc[:, col_names[i][0] : col_names[i][1]].columns.size\n",
    "    groups[j : j + n] = i\n",
    "    j = j + n"
   ]
  },
  {
   "cell_type": "code",
   "execution_count": null,
   "metadata": {
    "collapsed": true
   },
   "outputs": [],
   "source": [
    "plt.rcParams['figure.figsize'] = (20, 0.5)\n",
    "sns.heatmap(pd.DataFrame(groups, columns=['n']).T, \n",
    "            cmap=sns.color_palette(\"Set3\", 6),\n",
    "            cbar=False,\n",
    "            xticklabels=False, yticklabels=False); \n",
    "plt.savefig('../results/Geom features groups cbar.png', bbox_inches='tight', dpi=300);"
   ]
  },
  {
   "cell_type": "markdown",
   "metadata": {},
   "source": [
    "## Descriptive statistics"
   ]
  },
  {
   "cell_type": "code",
   "execution_count": null,
   "metadata": {
    "collapsed": true,
    "scrolled": false
   },
   "outputs": [],
   "source": [
    "measurements.describe()"
   ]
  },
  {
   "cell_type": "code",
   "execution_count": null,
   "metadata": {
    "collapsed": true,
    "scrolled": true
   },
   "outputs": [],
   "source": [
    "measurements.describe(include=['object'])"
   ]
  },
  {
   "cell_type": "markdown",
   "metadata": {},
   "source": [
    "# Correlations"
   ]
  },
  {
   "cell_type": "markdown",
   "metadata": {},
   "source": [
    "Plate-layout-effect and batch-effect corrections\n",
    "\n",
    "> To add heat maps of the correlations between all of wells within an experiment."
   ]
  },
  {
   "cell_type": "markdown",
   "metadata": {},
   "source": [
    "## Correlations between replicates"
   ]
  },
  {
   "cell_type": "markdown",
   "metadata": {},
   "source": [
    "> Calculate the correlations between replicates."
   ]
  },
  {
   "cell_type": "code",
   "execution_count": null,
   "metadata": {
    "collapsed": true
   },
   "outputs": [],
   "source": [
    "plot_corr(df.corr(method='spearman'), mask=True)"
   ]
  },
  {
   "cell_type": "markdown",
   "metadata": {},
   "source": [
    "## Correlation with stiffness"
   ]
  },
  {
   "cell_type": "code",
   "execution_count": null,
   "metadata": {
    "collapsed": true
   },
   "outputs": [],
   "source": [
    "# Create numeric stiffness variable and define feature columns\n",
    "df['stiffness_num'] = pd.to_numeric(df.stiffness)\n",
    "# df['stiffness_log2'] = np.log2(df.stiffness_num)"
   ]
  },
  {
   "cell_type": "markdown",
   "metadata": {},
   "source": [
    "### Pearson's correlation"
   ]
  },
  {
   "cell_type": "code",
   "execution_count": null,
   "metadata": {
    "scrolled": false
   },
   "outputs": [],
   "source": [
    "p_corr = df[geom_cols].corrwith(pd.to_numeric(df.stiffness))\n",
    "p_corr.abs().sort_values(ascending=False).head(10)"
   ]
  },
  {
   "cell_type": "code",
   "execution_count": null,
   "metadata": {
    "collapsed": true
   },
   "outputs": [],
   "source": [
    "plt.rcParams['figure.figsize'] = (10, 2)\n",
    "\n",
    "sns.heatmap(pd.DataFrame(p_corr, columns=['Pearsons']).T, \n",
    "            cmap=sns.color_palette(\"RdBu_r\", 100), \n",
    "            vmin=-1, vmax=1);\n",
    "\n",
    "# plt.savefig('../results/Corr with Stiffness.png', bbox_inches='tight', dpi=300);"
   ]
  },
  {
   "cell_type": "markdown",
   "metadata": {},
   "source": [
    "### Spearman's correlation"
   ]
  },
  {
   "cell_type": "code",
   "execution_count": null,
   "metadata": {
    "scrolled": false
   },
   "outputs": [],
   "source": [
    "s_corr = df[geom_cols].corrwith(pd.to_numeric(df.stiffness), method='spearman')\n",
    "top10 = s_corr.abs().sort_values(ascending=False).head(10)\n",
    "top10"
   ]
  },
  {
   "cell_type": "code",
   "execution_count": null,
   "metadata": {},
   "outputs": [],
   "source": [
    "plt.rcParams['figure.figsize'] = (15, 2)\n",
    "\n",
    "sns.heatmap(pd.DataFrame(s_corr, columns=['Spearmans']).T, \n",
    "            cmap=sns.color_palette(\"RdBu_r\", 100), \n",
    "            xticklabels=False,\n",
    "            yticklabels=False,\n",
    "            cbar_kws={\"aspect\": 10},\n",
    "            vmin=-0.4, vmax=0.4);\n",
    "plt.savefig('../results/Corr with Stiffness.png', bbox_inches='tight', dpi=300);"
   ]
  },
  {
   "cell_type": "code",
   "execution_count": null,
   "metadata": {
    "collapsed": true
   },
   "outputs": [],
   "source": [
    "def px_to_um(x):\n",
    "    return x * 0.2076"
   ]
  },
  {
   "cell_type": "code",
   "execution_count": null,
   "metadata": {
    "collapsed": true
   },
   "outputs": [],
   "source": [
    "df.neighbors_firstclosestdistance_3 = px_to_um(df.neighbors_firstclosestdistance_3)"
   ]
  },
  {
   "cell_type": "code",
   "execution_count": null,
   "metadata": {
    "collapsed": true
   },
   "outputs": [],
   "source": [
    "plt.rcParams['figure.figsize'] = (6, 4)\n",
    "\n",
    "col = \"minferetdiameter_cell\"\n",
    "sns.barplot(x=\"stiffness\", y=col, data=df, \n",
    "            ci='sd', capsize=.1,\n",
    "            palette=sns.color_palette(\"Set3\", 5))\n",
    "\n",
    "x_start, x_end, signif = func.ttest(df, 'stiffness', col, equal_var=False, verbose=False)\n",
    "func.stat_annot(df, 'stiffness', col, x_start, x_end, signif, [0, 55])\n",
    "\n",
    "plt.xlabel(\"Stiffness, kPa\");\n",
    "plt.ylabel(col);\n",
    "plt.ylabel(\"Min diameter, um\");\n",
    "# plt.ylim([0, 1]);\n",
    "\n",
    "# plt.savefig('../results/' + col + '.png', bbox_inches='tight', dpi=300);"
   ]
  },
  {
   "cell_type": "code",
   "execution_count": null,
   "metadata": {
    "collapsed": true
   },
   "outputs": [],
   "source": [
    "plt.rcParams['figure.figsize'] = (4, 3.5)\n",
    "plt.rcParams['ytick.labelsize'] = 20\n",
    "\n",
    "col = \"minferetdiameter_cell\"\n",
    "sns.boxplot(x=\"stiffness\", y=col, data=df, \n",
    "            showfliers=False,  width=0.6,\n",
    "            palette=sns.color_palette(\"Set3\", 5))\n",
    "\n",
    "x_start, x_end, signif = func.ttest(df, 'stiffness', col, equal_var=False, verbose=False)\n",
    "func.stat_annot(df, 'stiffness', col, x_start, x_end, signif, [0, 85], kind='boxplot')\n",
    "\n",
    "plt.xlabel(\"Stiffness, kPa\");\n",
    "plt.ylabel(col);\n",
    "plt.ylabel(\"Min diameter, um\");\n",
    "# plt.ylim([0, 1]);\n",
    "\n",
    "plt.savefig('../results/' + col + '.png', bbox_inches='tight', dpi=300);"
   ]
  },
  {
   "cell_type": "code",
   "execution_count": null,
   "metadata": {
    "collapsed": true
   },
   "outputs": [],
   "source": [
    "plt.rcParams['figure.figsize'] = (5, 5)\n",
    "plt.rcParams['ytick.labelsize'] = 14\n",
    "\n",
    "\n",
    "\n",
    "sns.heatmap(df[top10.index].corr(), \n",
    "            cmap=sns.color_palette(\"RdBu_r\", 100), \n",
    "            xticklabels=False,\n",
    "            yticklabels=['NCR', 'Perimeter', 'Perimeter\\n (cytoplasm)', \n",
    "                         'Min diameter', 'Area\\n(cytoplasm)', \n",
    "                         'Circularity', 'Solidity',\n",
    "                         'Area', 'Distance to\\n nearest cell', 'Minor axis'],\n",
    "            vmin=-1, vmax=1);\n",
    "plt.savefig('../results/Corr top10.png', bbox_inches='tight', dpi=300);"
   ]
  },
  {
   "cell_type": "markdown",
   "metadata": {},
   "source": [
    "### Difference between Spearman's and Pearson's"
   ]
  },
  {
   "cell_type": "code",
   "execution_count": null,
   "metadata": {
    "collapsed": true
   },
   "outputs": [],
   "source": [
    "(s_corr - p_corr).plot(kind='bar', figsize=(15, 5));\n",
    "#plt.savefig('../results/Spearman-Pearson SMOTE.png', bbox_inches='tight', dpi=300);"
   ]
  },
  {
   "cell_type": "markdown",
   "metadata": {},
   "source": [
    "### Univariate modelling"
   ]
  },
  {
   "cell_type": "code",
   "execution_count": null,
   "metadata": {
    "collapsed": true
   },
   "outputs": [],
   "source": [
    "sns.lmplot(x='area_cell', y='integratedintensity_wga', col='stiffness', data=df, order=1);"
   ]
  },
  {
   "cell_type": "code",
   "execution_count": null,
   "metadata": {
    "collapsed": true
   },
   "outputs": [],
   "source": [
    "df['stiffsquared'] = df.stiffness_num**2\n",
    "df['stiffcubed'] = df.stiffness_num**3"
   ]
  },
  {
   "cell_type": "code",
   "execution_count": null,
   "metadata": {
    "collapsed": true
   },
   "outputs": [],
   "source": [
    "# X = df.stiffness_num.values.reshape(-1, 1)\n",
    "X = df[['stiffness_num']]\n",
    "y = df.ncr"
   ]
  },
  {
   "cell_type": "code",
   "execution_count": null,
   "metadata": {
    "collapsed": true
   },
   "outputs": [],
   "source": [
    "from sklearn.linear_model import LinearRegression\n",
    "\n",
    "model = LinearRegression()\n",
    "model.fit(X, y)\n",
    "model.score(X, y)"
   ]
  },
  {
   "cell_type": "code",
   "execution_count": null,
   "metadata": {
    "collapsed": true
   },
   "outputs": [],
   "source": [
    "df[['stiffness_num']].corrwith(df.ncr)"
   ]
  },
  {
   "cell_type": "code",
   "execution_count": null,
   "metadata": {
    "collapsed": true,
    "scrolled": false
   },
   "outputs": [],
   "source": [
    "import statsmodels.formula.api as sm\n",
    "\n",
    "model1 = sm.ols(formula=\"ncr ~ stiffness_num\", data=df).fit()\n",
    "model2 = sm.ols(formula=\"ncr ~ stiffness_num + stiffsquared\", data=df).fit()\n",
    "model3 = sm.ols(formula=\"ncr ~ stiffness_num + stiffsquared + stiffcubed\", data=df).fit()\n",
    "\n",
    "model1.summary()\n",
    "\n",
    "# print result.rsquared, result.rsquared_adj"
   ]
  },
  {
   "cell_type": "code",
   "execution_count": null,
   "metadata": {
    "collapsed": true
   },
   "outputs": [],
   "source": [
    "model2.summary()"
   ]
  },
  {
   "cell_type": "code",
   "execution_count": null,
   "metadata": {
    "collapsed": true
   },
   "outputs": [],
   "source": [
    "model3.summary()"
   ]
  },
  {
   "cell_type": "code",
   "execution_count": null,
   "metadata": {
    "collapsed": true
   },
   "outputs": [],
   "source": [
    "import statsmodels.api as sm\n",
    "\n",
    "model = sm.OLS(X, y).fit()\n",
    "model.summary()\n",
    "# print result.rsquared, result.rsquared_adj"
   ]
  },
  {
   "cell_type": "markdown",
   "metadata": {},
   "source": [
    "# Visualise features "
   ]
  },
  {
   "cell_type": "code",
   "execution_count": 6,
   "metadata": {},
   "outputs": [
    {
     "name": "stdout",
     "output_type": "stream",
     "text": [
      "(910, 495)\n"
     ]
    }
   ],
   "source": [
    "X = df[feature_cols]\n",
    "print(X.shape)\n",
    "\n",
    "scaler = StandardScaler()\n",
    "X_scaled = scaler.fit_transform(X)\n",
    "\n",
    "df_scaled = pd.concat([df[meta_cols], \n",
    "                       pd.DataFrame(X_scaled, columns=feature_cols)], \n",
    "                      axis=1)"
   ]
  },
  {
   "cell_type": "markdown",
   "metadata": {},
   "source": [
    "## All features"
   ]
  },
  {
   "cell_type": "code",
   "execution_count": null,
   "metadata": {
    "collapsed": true,
    "scrolled": false
   },
   "outputs": [],
   "source": [
    "plt.rcParams['figure.figsize'] = (10, 5)\n",
    "\n",
    "sns.heatmap(df_scaled[feature_cols],\n",
    "            vmin = -2.5, vmax = 2.5,\n",
    "            cmap=sns.color_palette(\"RdBu_r\", 100),\n",
    "            cbar_kws={\"aspect\": 20},\n",
    "            xticklabels=False, yticklabels=False);\n",
    "\n",
    "# plt.savefig('../results/All features heatmap.png', bbox_inches='tight', dpi=300);"
   ]
  },
  {
   "cell_type": "code",
   "execution_count": null,
   "metadata": {},
   "outputs": [],
   "source": [
    "plt.rcParams['figure.figsize'] = (10, 10)\n",
    "\n",
    "sns.heatmap(df_scaled[geom_cols],\n",
    "            vmin = -2.5, vmax = 2.5,\n",
    "            cmap=sns.color_palette(\"RdBu_r\", 100),\n",
    "            cbar_kws={\"aspect\": 20},\n",
    "            xticklabels=False, yticklabels=False);\n",
    "\n",
    "plt.savefig('../results/Geom features heatmap.png', bbox_inches='tight', dpi=300);"
   ]
  },
  {
   "cell_type": "code",
   "execution_count": 7,
   "metadata": {},
   "outputs": [
    {
     "data": {
      "image/png": "[encoded data removed]",
      "text/plain": [
       "<Figure size 324x360 with 2 Axes>"
      ]
     },
     "metadata": {},
     "output_type": "display_data"
    }
   ],
   "source": [
    "plt.rcParams['figure.figsize'] = (4.5, 5)\n",
    "\n",
    "ecad_cols = [col for col in biom_cols if 'ecad' in col]\n",
    "sns.heatmap(df_scaled.loc[df_scaled.combination == \"C\", ecad_cols],\n",
    "            vmin = -2.5, vmax = 2.5,\n",
    "            cmap=sns.color_palette(\"RdBu_r\", 100),\n",
    "            cbar_kws={\"aspect\": 20},\n",
    "            xticklabels=False, yticklabels=False);\n",
    "\n",
    "plt.savefig('../results/Ecad features heatmap.png', bbox_inches='tight', dpi=300);"
   ]
  },
  {
   "cell_type": "code",
   "execution_count": 8,
   "metadata": {},
   "outputs": [
    {
     "data": {
      "image/png": "[encoded data removed]",
      "text/plain": [
       "<Figure size 648x360 with 2 Axes>"
      ]
     },
     "metadata": {},
     "output_type": "display_data"
    }
   ],
   "source": [
    "plt.rcParams['figure.figsize'] = (9, 5)\n",
    "\n",
    "cv_cols = [col for col in biom_cols if col not in ecad_cols]\n",
    "\n",
    "sns.heatmap(df_scaled.loc[df_scaled.combination == \"B\", cv_cols],\n",
    "            vmin = -2.5, vmax = 2.5,\n",
    "            cmap=sns.color_palette(\"RdBu_r\", 100),\n",
    "            cbar_kws={\"aspect\": 20},\n",
    "            xticklabels=False, yticklabels=False);\n",
    "\n",
    "plt.savefig('../results/CV features heatmap.png', bbox_inches='tight', dpi=300);"
   ]
  },
  {
   "cell_type": "code",
   "execution_count": null,
   "metadata": {},
   "outputs": [],
   "source": [
    "len(ecad_cols), len(cv_cols), len(geom_cols)"
   ]
  },
  {
   "cell_type": "code",
   "execution_count": null,
   "metadata": {},
   "outputs": [],
   "source": [
    "df[df.combination == \"B\"].shape, df[df.combination == \"C\"].shape"
   ]
  },
  {
   "cell_type": "markdown",
   "metadata": {},
   "source": [
    "## Aggregated values"
   ]
  },
  {
   "cell_type": "code",
   "execution_count": null,
   "metadata": {},
   "outputs": [],
   "source": [
    "plt.rcParams['figure.figsize'] = (12, 3)\n",
    "\n",
    "aggregates = df_scaled.groupby('stiffness')[geom_cols].mean()\n",
    "\n",
    "sns.heatmap(aggregates, \n",
    "            vmin = -0.5, vmax = 0.5,\n",
    "            cmap=sns.color_palette(\"PRGn\", 100), \n",
    "            cbar_kws={\"aspect\": 5},\n",
    "            xticklabels=False, yticklabels=True);\n",
    "\n",
    "plt.savefig('../results/Aggregated geom features.png', bbox_inches='tight', dpi=300);"
   ]
  },
  {
   "cell_type": "markdown",
   "metadata": {},
   "source": [
    "## Morphological features across stiffness values"
   ]
  },
  {
   "cell_type": "code",
   "execution_count": null,
   "metadata": {
    "collapsed": true
   },
   "outputs": [],
   "source": [
    "row_colors, palette = create_palette(df)"
   ]
  },
  {
   "cell_type": "code",
   "execution_count": null,
   "metadata": {
    "collapsed": true,
    "scrolled": true
   },
   "outputs": [],
   "source": [
    "plt.rcParams['figure.figsize'] = (5, 3)\n",
    "\n",
    "for var in geom_cols:\n",
    "    plt.figure()\n",
    "    sns.boxplot(x='stiffness', y=var, data=df, palette=palette);\n",
    "#     plt.savefig('../results/Geometric features/' + var + '.png', bbox_inches='tight', dpi=300);"
   ]
  },
  {
   "cell_type": "code",
   "execution_count": null,
   "metadata": {
    "collapsed": true
   },
   "outputs": [],
   "source": [
    "sns.boxplot(x='stiffness', y='ncr', data=measurements_red, palette=palette);"
   ]
  },
  {
   "cell_type": "markdown",
   "metadata": {},
   "source": [
    "## PCA on morphological features"
   ]
  },
  {
   "cell_type": "code",
   "execution_count": null,
   "metadata": {
    "collapsed": true
   },
   "outputs": [],
   "source": [
    "# Feature map\n",
    "cols = geom_cols\n",
    "X = df[cols]\n",
    "\n",
    "# Standartise the data\n",
    "scaler = StandardScaler()\n",
    "X_scaled = scaler.fit_transform(X)\n",
    "\n",
    "# Number of components requred to describe 90% variance\n",
    "pca = PCA(n_components=0.9)\n",
    "\n",
    "# Apply PCA to the scaled feature matrix\n",
    "X_reduced = pca.fit_transform(X_scaled)\n",
    "\n",
    "pc_cols = [('pc_' + str(i)) for i in range(1, X_reduced.shape[1] + 1)]\n",
    "pc_df = pd.concat([df.loc[:, ['stiffness']],\n",
    "                  pd.DataFrame(data = X_reduced, columns = pc_cols)], \n",
    "                  axis=1)\n",
    "\n",
    "print(\"The first {} components explain 90% of variance.\\n\".format(pca.n_components_ ))\n",
    "\n",
    "print(\"Explained variance:\\n\", pca.explained_variance_ratio_)\n",
    "\n",
    "X.shape, pca.components_.shape, X_reduced.shape, pc_df.shape"
   ]
  },
  {
   "cell_type": "code",
   "execution_count": null,
   "metadata": {
    "collapsed": true
   },
   "outputs": [],
   "source": [
    "plt.plot(pca.explained_variance_ratio_);\n",
    "\n",
    "#plt.savefig('../results/Explained variance ratio.png', bbox_inches='tight', dpi=300);"
   ]
  },
  {
   "cell_type": "code",
   "execution_count": null,
   "metadata": {
    "collapsed": true
   },
   "outputs": [],
   "source": [
    "pc_df[pc_cols].T.plot(legend=False);\n",
    "\n",
    "#plt.savefig('../results/Principal components.png', bbox_inches='tight', dpi=300);"
   ]
  },
  {
   "cell_type": "code",
   "execution_count": null,
   "metadata": {
    "collapsed": true
   },
   "outputs": [],
   "source": [
    "plt.plot(pca.components_[0]);"
   ]
  },
  {
   "cell_type": "code",
   "execution_count": null,
   "metadata": {
    "collapsed": true
   },
   "outputs": [],
   "source": [
    "plt.rc(\"figure\", figsize=(8, 8))\n",
    "\n",
    "row_colors, palette = create_palette(df, by='stiffness')\n",
    "\n",
    "sns.scatterplot(x='pc_1', y='pc_2', data=pc_df, \n",
    "                hue='stiffness', palette=palette);"
   ]
  },
  {
   "cell_type": "code",
   "execution_count": null,
   "metadata": {
    "collapsed": true
   },
   "outputs": [],
   "source": [
    "centroids = pc_df.groupby('stiffness')[['pc_1', 'pc_2']].mean().reset_index()\n",
    "\n",
    "sns.scatterplot(x='pc_1', y='pc_2', data=pc_df, \n",
    "                hue='stiffness', palette=palette);\n",
    "sns.scatterplot(x=\"pc_1\", y=\"pc_2\", data=centroids, \n",
    "                hue='stiffness', palette=palette, \n",
    "                s=200, marker='X', edgecolor='black', \n",
    "                legend=None);"
   ]
  },
  {
   "cell_type": "code",
   "execution_count": null,
   "metadata": {
    "collapsed": true
   },
   "outputs": [],
   "source": [
    "first_component = zip(cols, pca.components_[0])\n",
    "\n",
    "for col, weight in first_component:\n",
    "    if abs(weight) > 0.2:\n",
    "        print(col, weight)"
   ]
  },
  {
   "cell_type": "markdown",
   "metadata": {},
   "source": [
    "___\n",
    "**_Below are some random bits and pieces of code that I wrote at some point but right now I don't consider them usefull._**"
   ]
  },
  {
   "cell_type": "markdown",
   "metadata": {},
   "source": [
    "** Pairwise distances**"
   ]
  },
  {
   "cell_type": "code",
   "execution_count": null,
   "metadata": {
    "collapsed": true
   },
   "outputs": [],
   "source": [
    "from sklearn.metrics import pairwise_distances\n",
    "\n",
    "D = pairwise_distances(X_scaled)\n",
    "\n",
    "plt.imshow(D, zorder=2, cmap='Blues', interpolation='nearest')\n",
    "plt.colorbar();"
   ]
  },
  {
   "cell_type": "markdown",
   "metadata": {},
   "source": [
    "## Subpopulations"
   ]
  },
  {
   "cell_type": "markdown",
   "metadata": {},
   "source": [
    "###### Changes in morphological clustering"
   ]
  },
  {
   "cell_type": "code",
   "execution_count": null,
   "metadata": {
    "collapsed": true
   },
   "outputs": [],
   "source": [
    "measurements.loc[(measurements.image != '63') & (measurements.image != '64'), 'cluster2'] = agg.labels_"
   ]
  },
  {
   "cell_type": "code",
   "execution_count": null,
   "metadata": {
    "collapsed": true
   },
   "outputs": [],
   "source": [
    "measurements.cluster2.fillna(-1, inplace=True)"
   ]
  },
  {
   "cell_type": "code",
   "execution_count": null,
   "metadata": {
    "collapsed": true
   },
   "outputs": [],
   "source": [
    "measurements.cluster1 = agg.labels_"
   ]
  },
  {
   "cell_type": "code",
   "execution_count": null,
   "metadata": {
    "collapsed": true
   },
   "outputs": [],
   "source": [
    "(measurements.cluster1 != measurements.cluster2).sum()"
   ]
  },
  {
   "cell_type": "code",
   "execution_count": null,
   "metadata": {
    "collapsed": true
   },
   "outputs": [],
   "source": [
    "measurements['cluster_diff'] = np.where(measurements.cluster1 != measurements.cluster2, 1, 0)"
   ]
  },
  {
   "cell_type": "code",
   "execution_count": null,
   "metadata": {
    "collapsed": true
   },
   "outputs": [],
   "source": [
    "measurements[measurements.cluster2 != -1].cluster_diff.sum()"
   ]
  },
  {
   "cell_type": "code",
   "execution_count": null,
   "metadata": {
    "collapsed": true
   },
   "outputs": [],
   "source": [
    "measurements[measurements.cluster2 != -1].groupby('stiffness').cluster_diff.sum()"
   ]
  },
  {
   "cell_type": "code",
   "execution_count": null,
   "metadata": {
    "collapsed": true
   },
   "outputs": [],
   "source": [
    "measurements[measurements.cluster2 == -1].cluster1.sum()"
   ]
  },
  {
   "cell_type": "code",
   "execution_count": null,
   "metadata": {
    "collapsed": true
   },
   "outputs": [],
   "source": [
    "measurements.loc[(measurements.cluster2 != -1) & (measurements.cluster_diff==1), ['cluster1']].sum()"
   ]
  },
  {
   "cell_type": "code",
   "execution_count": null,
   "metadata": {
    "collapsed": true
   },
   "outputs": [],
   "source": [
    "measurements[(measurements.cluster2 != -1) & (measurements.cluster_diff==1)].groupby('stiffness').cluster2.sum()"
   ]
  },
  {
   "cell_type": "markdown",
   "metadata": {},
   "source": [
    "# OOB acccuracy with permutations"
   ]
  },
  {
   "cell_type": "code",
   "execution_count": null,
   "metadata": {
    "collapsed": true
   },
   "outputs": [],
   "source": [
    "from sklearn.ensemble.forest import _generate_unsampled_indices\n",
    "\n",
    "def oob_classifier_accuracy(rf, X_train, y_train):\n",
    "    \"\"\"\n",
    "    Compute out-of-bag (OOB) accuracy for a scikit-learn random forest\n",
    "    classifier. We learned the guts of scikit's RF from the BSD licensed\n",
    "    code:\n",
    "    https://github.com/scikit-learn/scikit-learn/blob/a24c8b46/sklearn/ensemble/forest.py#L425\n",
    "    \"\"\"\n",
    "    X = X_train.values\n",
    "    y = y_train.values\n",
    "\n",
    "    n_samples = len(X)\n",
    "    n_classes = len(np.unique(y))\n",
    "    predictions = np.zeros((n_samples, n_classes))\n",
    "    for tree in rf.estimators_:\n",
    "        unsampled_indices = _generate_unsampled_indices(tree.random_state, n_samples)\n",
    "        tree_preds = tree.predict_proba(X[unsampled_indices, :])\n",
    "        predictions[unsampled_indices] += tree_preds\n",
    "    \n",
    "    predicted_class_indexes = np.argmax(predictions, axis=1)\n",
    "    predicted_classes = [rf.classes_[i] for i in predicted_class_indexes]\n",
    "\n",
    "    oob_score = np.mean(y == predicted_classes)  \n",
    "    return oob_score\n",
    "\n",
    "def permutation_importances(rf, X_train, y_train, metric):\n",
    "    pd.set_option('mode.chained_assignment', None)\n",
    "    baseline = rf.oob_score_\n",
    "    imp = []\n",
    "    for col in X_train.columns:\n",
    "        save = X_train[col].copy()\n",
    "        X_train.loc[:, col] = np.random.permutation(X_train[col])\n",
    "        m = metric(rf, X_train, y_train)\n",
    "        X_train.loc[:, col] = save\n",
    "        imp.append(baseline - m)\n",
    "    return np.array(imp)\n",
    "\n",
    "imp = permutation_importances(rf_clf, X_train, y_train,\n",
    "                              oob_classifier_accuracy)"
   ]
  },
  {
   "cell_type": "markdown",
   "metadata": {},
   "source": [
    "# Relationship between biomarkers and morphological features"
   ]
  },
  {
   "cell_type": "markdown",
   "metadata": {},
   "source": [
    "## 64 kPa vs rest"
   ]
  },
  {
   "cell_type": "code",
   "execution_count": null,
   "metadata": {
    "collapsed": true
   },
   "outputs": [],
   "source": [
    "print(\"Whole dataset:\", measurements.shape)\n",
    "df64 = measurements[measurements.stiffness == '64.0'].copy().reset_index(drop=True)\n",
    "no64 = measurements[measurements.stiffness != '64.0'].copy().reset_index(drop=True)\n",
    "print(\"Only 64 kPa:\", df64.shape)\n",
    "print(\"Without 64 kPa:\", no64.shape)"
   ]
  },
  {
   "cell_type": "code",
   "execution_count": null,
   "metadata": {
    "collapsed": true
   },
   "outputs": [],
   "source": [
    "df64.image.unique()"
   ]
  },
  {
   "cell_type": "code",
   "execution_count": null,
   "metadata": {
    "collapsed": true
   },
   "outputs": [],
   "source": [
    "palette = sns.color_palette(\"Set3\", 7)\n",
    "sns.boxplot(x=df.stiffness, y=df.meanintensity_ker, palette=palette);"
   ]
  },
  {
   "cell_type": "code",
   "execution_count": null,
   "metadata": {
    "collapsed": true
   },
   "outputs": [],
   "source": [
    "sns.boxplot(x=df_red.stiffness, y=df_red.meanintensity_ker, palette=palette);"
   ]
  },
  {
   "cell_type": "code",
   "execution_count": null,
   "metadata": {
    "collapsed": true
   },
   "outputs": [],
   "source": [
    "df64.hist(column='meanintensity_ker', bins=20, figsize=(10, 6));"
   ]
  },
  {
   "cell_type": "code",
   "execution_count": null,
   "metadata": {
    "collapsed": true
   },
   "outputs": [],
   "source": [
    "df64.meanintensity_ker.describe()"
   ]
  },
  {
   "cell_type": "code",
   "execution_count": null,
   "metadata": {
    "collapsed": true
   },
   "outputs": [],
   "source": [
    "no64.hist(column='meanintensity_ker', bins=20, figsize=(10, 6));"
   ]
  },
  {
   "cell_type": "code",
   "execution_count": null,
   "metadata": {
    "collapsed": true
   },
   "outputs": [],
   "source": [
    "no64.meanintensity_ker.describe()"
   ]
  },
  {
   "cell_type": "code",
   "execution_count": null,
   "metadata": {
    "collapsed": true
   },
   "outputs": [],
   "source": [
    "threshold = no64.meanintensity_ker.quantile(0.95)"
   ]
  },
  {
   "cell_type": "code",
   "execution_count": null,
   "metadata": {
    "collapsed": true
   },
   "outputs": [],
   "source": [
    "df64[df64.meanintensity_ker > threshold].groupby('image').size()"
   ]
  },
  {
   "cell_type": "code",
   "execution_count": null,
   "metadata": {
    "collapsed": true,
    "scrolled": false
   },
   "outputs": [],
   "source": [
    "(df64[df64.meanintensity_ker > threshold].groupby('image').size() / df64.groupby('image').size()).plot(kind='bar');"
   ]
  },
  {
   "cell_type": "code",
   "execution_count": null,
   "metadata": {
    "collapsed": true
   },
   "outputs": [],
   "source": [
    "df64[geom_cols].corrwith(df64.meanintensity_ker, method='pearson').abs().sort_values(ascending=False).head(10)"
   ]
  },
  {
   "cell_type": "code",
   "execution_count": null,
   "metadata": {
    "collapsed": true
   },
   "outputs": [],
   "source": [
    "p_corr = df64[geom_cols].corrwith(df64.meanintensity_ker, method='pearson')\n",
    "\n",
    "plt.rcParams['figure.figsize'] = (15, 3)\n",
    "\n",
    "\n",
    "sns.heatmap(pd.DataFrame(p_corr, columns=['Pearsons']).T, \n",
    "            cmap=sns.color_palette(\"RdBu_r\", 100), \n",
    "            vmin=-0.5, vmax=0.5);"
   ]
  },
  {
   "cell_type": "code",
   "execution_count": null,
   "metadata": {
    "collapsed": true
   },
   "outputs": [],
   "source": [
    "df64['highck'] = np.where(df64.meanintensity_ker > threshold, 1, 0)\n",
    "df64.highck.describe()"
   ]
  },
  {
   "cell_type": "code",
   "execution_count": null,
   "metadata": {
    "collapsed": true
   },
   "outputs": [],
   "source": [
    "df64[geom_cols].corrwith(df64.highck, method='spearman').abs().sort_values(ascending=False).head(10)"
   ]
  },
  {
   "cell_type": "code",
   "execution_count": null,
   "metadata": {
    "collapsed": true
   },
   "outputs": [],
   "source": [
    "sns.lmplot(x='meanintensity_ker', y='minferetdiameter_cell', data=df64);"
   ]
  },
  {
   "cell_type": "code",
   "execution_count": null,
   "metadata": {
    "collapsed": true
   },
   "outputs": [],
   "source": [
    "sns.lmplot(x='highck', y='minferetdiameter_cell', data=df64);"
   ]
  },
  {
   "cell_type": "code",
   "execution_count": null,
   "metadata": {
    "collapsed": true
   },
   "outputs": [],
   "source": [
    "sns.lmplot(x='meanintensity_ker', y='meanintensity_vim', data=df64);"
   ]
  },
  {
   "cell_type": "code",
   "execution_count": null,
   "metadata": {
    "collapsed": true
   },
   "outputs": [],
   "source": [
    "df64[['meanintensity_ker']].corrwith(df64.meanintensity_vim, method='pearson')"
   ]
  },
  {
   "cell_type": "code",
   "execution_count": null,
   "metadata": {
    "collapsed": true
   },
   "outputs": [],
   "source": [
    "sns.lmplot(x='meanintensity_ker', y='meanintensity_vim', data=no64);"
   ]
  },
  {
   "cell_type": "code",
   "execution_count": null,
   "metadata": {
    "collapsed": true
   },
   "outputs": [],
   "source": [
    "no64[['meanintensity_ker']].corrwith(no64.meanintensity_vim, method='pearson')"
   ]
  },
  {
   "cell_type": "code",
   "execution_count": null,
   "metadata": {
    "collapsed": true
   },
   "outputs": [],
   "source": [
    "tmp = no64.loc[no64.stiffness=='0.2', ['meanintensity_ker', 'meanintensity_vim']]\n",
    "tmp[['meanintensity_ker']].corrwith(tmp.meanintensity_vim, method='spearman')"
   ]
  },
  {
   "cell_type": "markdown",
   "metadata": {},
   "source": [
    "** Correlation between cytokeratin and vimentin (P/S)**\n",
    "* 0.2 kPa: 0.33/0.35\n",
    "* 0.5 kPa: 0.68/0.67\n",
    "* 2.0 kPa: 0.3/0.36\n",
    "* 8.0 kPa: 0.69/0.71\n",
    "* 16.0 kPa: 0.55/0.18\n",
    "* 32.0 kPa: 0.01/0.05\n",
    "* 64.0 kPa: 0.62/0.61"
   ]
  },
  {
   "cell_type": "code",
   "execution_count": null,
   "metadata": {
    "collapsed": true
   },
   "outputs": [],
   "source": [
    "sns.lmplot(x='meanintensity_ker', y='meanintensity_vim', data=no64[no64.stiffness=='2.0']);"
   ]
  },
  {
   "cell_type": "code",
   "execution_count": null,
   "metadata": {
    "collapsed": true
   },
   "outputs": [],
   "source": [
    "sns.boxplot(x='image', y='meanintensity_ker', data=df64);"
   ]
  },
  {
   "cell_type": "code",
   "execution_count": null,
   "metadata": {
    "collapsed": true
   },
   "outputs": [],
   "source": [
    "sns.boxplot(x='image', y='meanintensity_vim', data=df64);"
   ]
  },
  {
   "cell_type": "code",
   "execution_count": null,
   "metadata": {
    "collapsed": true,
    "scrolled": false
   },
   "outputs": [],
   "source": [
    "df[df.meanintensity_ker > 0.3]"
   ]
  },
  {
   "cell_type": "code",
   "execution_count": null,
   "metadata": {
    "collapsed": true
   },
   "outputs": [],
   "source": [
    "df['index'] = df.index\n",
    "sns.scatterplot(x=df.index, y=df.meanintensity_ker, \n",
    "                hue=np.float32(df.image), palette=sns.color_palette(\"Set2\", 14));\n",
    "plt.ylim([0, 0.7])"
   ]
  },
  {
   "cell_type": "code",
   "execution_count": null,
   "metadata": {
    "collapsed": true
   },
   "outputs": [],
   "source": [
    "sns.scatterplot(x=df.index, y=df.meanintensity_ker, \n",
    "                hue=np.float32(df.image), palette=sns.color_palette(\"Set2\", 11));\n",
    "plt.ylim([0, 0.7])"
   ]
  },
  {
   "cell_type": "code",
   "execution_count": null,
   "metadata": {
    "collapsed": true
   },
   "outputs": [],
   "source": [
    "sns.boxplot(x=df.image, y=df.meanintensity_ker);"
   ]
  },
  {
   "cell_type": "code",
   "execution_count": null,
   "metadata": {
    "collapsed": true
   },
   "outputs": [],
   "source": [
    "df[geom_cols].corrwith(df.meanintensity_ker, method='spearman').abs().sort_values(ascending=False).head(10)"
   ]
  },
  {
   "cell_type": "code",
   "execution_count": null,
   "metadata": {
    "collapsed": true
   },
   "outputs": [],
   "source": [
    "df.plot(kind='scatter', x='percenttouching_cell', y='meanintensity_ker');"
   ]
  },
  {
   "cell_type": "code",
   "execution_count": null,
   "metadata": {
    "collapsed": true
   },
   "outputs": [],
   "source": [
    "palette = create_palette(measurements)"
   ]
  },
  {
   "cell_type": "code",
   "execution_count": null,
   "metadata": {
    "collapsed": true
   },
   "outputs": [],
   "source": [
    "cols = morph_cols\n",
    "# X = measurements[cols].drop(['extent_cell', 'solidity_cell'], axis=1)\n",
    "X = pd.concat([measurements[cols], pd.to_numeric(measurements.stiffness)], axis=1)\n",
    "y = measurements.log_cvratio\n",
    "\n",
    "X_train, X_test, y_train, y_test = train_test_split(X, y, test_size=0.2)\n",
    "print(X_train.shape, X_test.shape)\n",
    "\n",
    "rf_reg = RandomForestRegressor(n_estimators=100, oob_score=True)\n",
    "rf_reg.fit(X_train, y_train)\n",
    "\n",
    "y_pred = rf_reg.predict(X_test)\n",
    "rmse_test = np.sqrt(mean_squared_error(y_test, y_pred))\n",
    "print(\"Testing RMSE:\", rmse_test)\n",
    "\n",
    "print(\"Null RMSE:\", np.sqrt(mean_squared_error(y_test, y_test.apply(lambda x: np.mean(y_train)))))\n",
    "\n",
    "feature_importance = pd.DataFrame(X.columns, columns=['feature'])\n",
    "feature_importance['weight'] = rf_reg.feature_importances_\n",
    "# feature_importance['weight_sd'] = np.std([tree.feature_importances_ for tree in rf_clf.estimators_], axis=0)\n",
    "\n",
    "feature_importance.sort_values(by='weight', ascending=False, inplace=True)\n",
    "\n",
    "threshold = feature_importance.weight.quantile(0.9)\n",
    "\n",
    "plt.rcParams['figure.figsize'] = (15, 6)\n",
    "sns.barplot(x='feature', y='weight', data=feature_importance,  color='orangered')\n",
    "plt.plot([9, 9], [-0.001, feature_importance.weight.max()], linewidth=5, color='royalblue')\n",
    "plt.xticks([]);\n",
    "plt.xlabel(\"Features\");\n",
    "plt.ylabel(\"Weight\");\n",
    "plt.title(\"Feature importance\");\n",
    "\n",
    "feature_importance[feature_importance.weight > threshold]"
   ]
  },
  {
   "cell_type": "markdown",
   "metadata": {},
   "source": [
    "### Undersampling"
   ]
  },
  {
   "cell_type": "code",
   "execution_count": null,
   "metadata": {
    "collapsed": true
   },
   "outputs": [],
   "source": [
    "measurements_under = resampling.undersample(measurements_)\n",
    "X = measurements_under[feature_cols]\n",
    "y = measurements_under.stiffness\n",
    " \n",
    "X.shape, y.shape"
   ]
  },
  {
   "cell_type": "code",
   "execution_count": null,
   "metadata": {
    "collapsed": true
   },
   "outputs": [],
   "source": [
    "X_train, X_test, y_train, y_test = train_test_split(X, y, random_state=1)\n",
    "X_train.shape, X_test.shape"
   ]
  },
  {
   "cell_type": "code",
   "execution_count": null,
   "metadata": {
    "collapsed": true
   },
   "outputs": [],
   "source": [
    "rfc = RandomForestClassifier()\n",
    "rfc.fit(X_train, y_train)\n",
    "y_pred = rfc.predict(X_test)\n",
    "print(\"Testing accuraccy:\", accuracy_score(y_test, y_pred))\n",
    "print(\"Testing f-score:\", f1_score(y_test, y_pred, average='weighted'))"
   ]
  },
  {
   "cell_type": "markdown",
   "metadata": {},
   "source": [
    "### SMOTE"
   ]
  },
  {
   "cell_type": "code",
   "execution_count": null,
   "metadata": {
    "collapsed": true
   },
   "outputs": [],
   "source": [
    "measurements_.groupby('stiffness').size()"
   ]
  },
  {
   "cell_type": "code",
   "execution_count": null,
   "metadata": {
    "collapsed": true
   },
   "outputs": [],
   "source": [
    "X = measurements_[feature_cols]\n",
    "y = measurements_.stiffness\n",
    " \n",
    "X.shape, y.shape"
   ]
  },
  {
   "cell_type": "code",
   "execution_count": null,
   "metadata": {
    "collapsed": true
   },
   "outputs": [],
   "source": [
    "X_train, X_test, y_train, y_test = train_test_split(X, y, random_state=1)\n",
    "X_train.shape, X_test.shape"
   ]
  },
  {
   "cell_type": "code",
   "execution_count": null,
   "metadata": {
    "collapsed": true
   },
   "outputs": [],
   "source": [
    "X_train_sm, y_train_sm = proc.smote(X_train, y_train, as_df=False)"
   ]
  },
  {
   "cell_type": "code",
   "execution_count": null,
   "metadata": {
    "collapsed": true
   },
   "outputs": [],
   "source": [
    "rfc = RandomForestClassifier(n_estimators=100)\n",
    "rfc.fit(X_train_sm, y_train_sm)\n",
    "y_pred = rfc.predict(X_test)\n",
    "print(\"Testing accuraccy:\", accuracy_score(y_test, y_pred))\n",
    "print(\"Testing f-score:\", f1_score(y_test, y_pred, average='weighted'))"
   ]
  },
  {
   "cell_type": "code",
   "execution_count": null,
   "metadata": {
    "collapsed": true
   },
   "outputs": [],
   "source": [
    "labels = y_test.unique().sort_values()\n",
    "confusion = confusion_matrix(y_test, y_pred, labels=labels)\n",
    "confusion_df = pd.DataFrame(confusion, columns=labels, index=labels)\n",
    "confusion_df"
   ]
  },
  {
   "cell_type": "code",
   "execution_count": null,
   "metadata": {
    "collapsed": true
   },
   "outputs": [],
   "source": [
    "feature_importance = zip(feature_cols, rfc.feature_importances_)\n",
    "\n",
    "for col, weight in feature_importance:\n",
    "    if (weight > 0.02):\n",
    "        print(col, weight)"
   ]
  },
  {
   "cell_type": "markdown",
   "metadata": {},
   "source": [
    "## k-Means"
   ]
  },
  {
   "cell_type": "code",
   "execution_count": null,
   "metadata": {
    "collapsed": true
   },
   "outputs": [],
   "source": [
    "X = measurements_syn[feature_cols]\n",
    "#X = measurements_syn.loc[measurements_syn.stiffness != \"8.0\", feature_cols]\n",
    "\n",
    "X.shape"
   ]
  },
  {
   "cell_type": "code",
   "execution_count": null,
   "metadata": {
    "collapsed": true
   },
   "outputs": [],
   "source": [
    "scaler = StandardScaler()\n",
    "X_scaled = scaler.fit_transform(X)"
   ]
  },
  {
   "cell_type": "code",
   "execution_count": null,
   "metadata": {
    "collapsed": true
   },
   "outputs": [],
   "source": [
    "km = KMeans(n_clusters=2, random_state=1)\n",
    "km.fit(X_scaled)\n",
    "\n",
    "measurements_syn['cluster'] = km.labels_\n",
    "#measurements_syn.loc[measurements_syn.stiffness != \"8.0\",'cluster'] = km.labels_"
   ]
  },
  {
   "cell_type": "code",
   "execution_count": null,
   "metadata": {
    "collapsed": true
   },
   "outputs": [],
   "source": [
    "sns.scatterplot(data=measurements_syn, x='stiffness', y='cluster', \n",
    "                palette=sns.color_palette(\"husl\", 7), \n",
    "                alpha=0.1, s=100);"
   ]
  },
  {
   "cell_type": "code",
   "execution_count": null,
   "metadata": {
    "collapsed": true
   },
   "outputs": [],
   "source": [
    "pd.crosstab(measurements_syn.stiffness, \n",
    "            measurements_syn.cluster).plot(kind='bar');\n",
    "plt.xlabel(\"Stiffness\")\n",
    "plt.ylabel(\"Count\")\n",
    "plt.title(\"Number of Cells from Each Cluster\");\n",
    "plt.savefig('../results/Two clusters - morph only.png', bbox_inches='tight', dpi=300);"
   ]
  }
 ],
 "metadata": {
  "kernelspec": {
   "display_name": "Python 3",
   "language": "python",
   "name": "python3"
  },
  "language_info": {
   "codemirror_mode": {
    "name": "ipython",
    "version": 3
   },
   "file_extension": ".py",
   "mimetype": "text/x-python",
   "name": "python",
   "nbconvert_exporter": "python",
   "pygments_lexer": "ipython3",
   "version": "3.6.8"
  },
  "toc": {
   "base_numbering": 1,
   "nav_menu": {},
   "number_sections": true,
   "sideBar": true,
   "skip_h1_title": false,
   "title_cell": "Table of Contents",
   "title_sidebar": "Contents",
   "toc_cell": false,
   "toc_position": {},
   "toc_section_display": true,
   "toc_window_display": false
  }
 },
 "nbformat": 4,
 "nbformat_minor": 2
}
