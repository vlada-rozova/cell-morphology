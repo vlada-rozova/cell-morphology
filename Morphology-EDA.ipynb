{
 "cells": [
  {
   "cell_type": "code",
   "execution_count": 1,
   "metadata": {},
   "outputs": [
    {
     "name": "stderr",
     "output_type": "stream",
     "text": [
      "/Applications/anaconda3/lib/python3.6/site-packages/sklearn/externals/six.py:31: DeprecationWarning: The module is deprecated in version 0.21 and will be removed in version 0.23 since we've dropped support for Python 2.7. Please rely on the official version of six (https://pypi.org/project/six/).\n",
      "  \"(https://pypi.org/project/six/).\", DeprecationWarning)\n"
     ]
    },
    {
     "name": "stdout",
     "output_type": "stream",
     "text": [
      "Morphology was measured for 610.0 cells.\n",
      "\n",
      "The numbers of cells and nuclei correspond to each other.\n",
      "\n",
      "The are no duplicated column names: True\n",
      "The are no duplicated column names: True\n",
      "Cytoplasm measurements were taken for 610 cells.\n",
      "\n",
      "The are no duplicated column names: True\n",
      "Read biomarkers normalised by to min gain\n",
      "Biomarkers were measured for 610 cells.\n",
      "\n",
      "The are no duplicated column names: True\n",
      "\n",
      "Full dataset has shape: (610, 484)\n",
      "Initial shape is: (610, 484)\n",
      "Features with zero variance:\n",
      " Index(['centerZ_cell', 'eulernumber_cell', 'children_cytoplasm_count_cell',\n",
      "       'loc_centermassintensityZ_wga', 'loc_centerZ_cell',\n",
      "       'loc_maxintensityZ_wga', 'centerZ_nucl', 'eulernumber_nucl',\n",
      "       'children_cells_count', 'children_cytoplasm_count_nucl',\n",
      "       'loc_centermassintensityZ_dapi', 'loc_centerZ_nucl',\n",
      "       'loc_maxintensityZ_dapi', 'centerZ_cyto',\n",
      "       'loc_centermassintensityZ_ker', 'loc_centermassintensityZ_vim',\n",
      "       'loc_centerZ', 'loc_maxintensityZ_ker', 'loc_maxintensityZ_vim'],\n",
      "      dtype='object')\n",
      "\n",
      "After cleaning the dataset has 610 rows and 430 columns.\n",
      "\n",
      "238 columns in total:\n",
      " 7 columns containing metadata, meta_cols,\n",
      " 231 all features, feature_cols:\n",
      " 61 biomarkers, biom_cols,\n",
      " 170 morphology, morph_cols\n",
      "116 geometric measurements, geom_cols,\n",
      " 42 cellular measurements, cell_cols,\n",
      " 41 nuclear measurements, nucl_cols,\n",
      " 21 cytoplasmic measurements, cyto_cols\n",
      "Undersampling. The balanced dataset has shape (255, 238)\n"
     ]
    }
   ],
   "source": [
    "%run load-clean-select.ipynb"
   ]
  },
  {
   "cell_type": "markdown",
   "metadata": {},
   "source": [
    "###### Undersample images"
   ]
  },
  {
   "cell_type": "code",
   "execution_count": null,
   "metadata": {
    "collapsed": true,
    "scrolled": false
   },
   "outputs": [],
   "source": [
    "np.random.seed(42)\n",
    "image_id = np.random.choice(measurements_red[measurements_red.stiffness == '2.0'].image.unique(), 7)\n",
    "print(image_id)\n",
    "measurements_red[measurements_red.image.isin(image_id)].shape"
   ]
  },
  {
   "cell_type": "code",
   "execution_count": null,
   "metadata": {
    "collapsed": true
   },
   "outputs": [],
   "source": [
    "measurements_b = measurements_red.drop(measurements_red[measurements_red.image.isin(image_id)\n",
    "                                                         ].index\n",
    "                                        ).reset_index(drop=True)\n",
    "measurements_b.shape"
   ]
  },
  {
   "cell_type": "markdown",
   "metadata": {},
   "source": [
    "###### SMOTE"
   ]
  },
  {
   "cell_type": "code",
   "execution_count": null,
   "metadata": {
    "collapsed": true
   },
   "outputs": [],
   "source": [
    "measurements = proc.smote(measurements[feature_cols], measurements.stiffness)"
   ]
  },
  {
   "cell_type": "markdown",
   "metadata": {},
   "source": [
    "# Which dataset?"
   ]
  },
  {
   "cell_type": "code",
   "execution_count": 13,
   "metadata": {
    "collapsed": true
   },
   "outputs": [],
   "source": [
    "# The full dataset\n",
    "# df = measurements\n",
    "# Dataset without clusters at 64kPa\n",
    "# df = measurements_red\n",
    "# Dataset without 0.5kPa, 8kPa and clusters at 64kPa\n",
    "df = measurements_5\n",
    "# Dataset without 0.5kPa, 8kPa and clusters at 64kPa with balanced classes\n",
    "# df = measurements_b"
   ]
  },
  {
   "cell_type": "markdown",
   "metadata": {},
   "source": [
    "# Some functions"
   ]
  },
  {
   "cell_type": "code",
   "execution_count": 17,
   "metadata": {
    "collapsed": true
   },
   "outputs": [],
   "source": [
    "# Prepare a vector of colours mapped to the 'stiffness' column\n",
    "def create_palette(df, by='stiffness', show=False):\n",
    "    if by == 'stiffness':\n",
    "        n_levels = df.stiffness.unique().size\n",
    "        palette = dict(zip(df.stiffness.unique(), sns.color_palette(\"Set3\", n_levels)))\n",
    "        row_colors = df.stiffness.map(palette)\n",
    "    elif by == 'cluster':\n",
    "        n_levels = df.cluster.unique().size\n",
    "        if n_levels == 2:\n",
    "            palette = {1 : sns.color_palette(\"PRGn\", 20)[15], 2 : sns.color_palette(\"PRGn\", 20)[4]}\n",
    "        else:\n",
    "            palette = dict(zip(range(n_levels), sns.color_palette(\"PRGn\", n_levels)))\n",
    "        row_colors = df.cluster.map(palette)\n",
    "    elif by == 'biom':\n",
    "        palette = {df.biom.unique()[0] : sns.color_palette(\"RdBu\", 10)[1],\n",
    "                   df.biom.unique()[1] : sns.color_palette(\"RdBu\", 10)[8]}\n",
    "        row_colors = df.biom.map(palette)\n",
    "        \n",
    "    if show:\n",
    "#         print(list(palette.keys()))\n",
    "        sns.palplot(palette.values());\n",
    "    \n",
    "    return row_colors, palette\n",
    "# plt.savefig('../results/My palette.png', bbox_inches='tight', dpi=300);"
   ]
  },
  {
   "cell_type": "code",
   "execution_count": 18,
   "metadata": {
    "collapsed": true
   },
   "outputs": [],
   "source": [
    "def plot_corr(correlations, mask=False, threshold=0.9, annot=False):\n",
    "    if mask:\n",
    "        mask = np.zeros_like(correlations)\n",
    "        mask[abs(correlations) < threshold] = 1\n",
    "\n",
    "    plt.rcParams['figure.figsize'] = (10, 10)\n",
    "\n",
    "    sns.heatmap(correlations, \n",
    "                mask=mask, annot=annot,\n",
    "                vmin=-1, vmax=1,\n",
    "                cmap=sns.color_palette(\"RdBu_r\", 100));"
   ]
  },
  {
   "cell_type": "markdown",
   "metadata": {},
   "source": [
    "# Summary"
   ]
  },
  {
   "cell_type": "code",
   "execution_count": null,
   "metadata": {
    "collapsed": true
   },
   "outputs": [],
   "source": [
    "df.head(3)"
   ]
  },
  {
   "cell_type": "code",
   "execution_count": null,
   "metadata": {
    "collapsed": true
   },
   "outputs": [],
   "source": [
    "list(df.columns)"
   ]
  },
  {
   "cell_type": "code",
   "execution_count": null,
   "metadata": {
    "collapsed": true
   },
   "outputs": [],
   "source": [
    "df.info()"
   ]
  },
  {
   "cell_type": "markdown",
   "metadata": {},
   "source": [
    "## Cells per stiffness value"
   ]
  },
  {
   "cell_type": "code",
   "execution_count": 3,
   "metadata": {},
   "outputs": [
    {
     "data": {
      "text/plain": [
       "array([50, 50, 50, 55, 50])"
      ]
     },
     "execution_count": 3,
     "metadata": {},
     "output_type": "execute_result"
    }
   ],
   "source": [
    "n = df.groupby('stiffness').size().values\n",
    "nstiff = len(df.stiffness.unique())\n",
    "\n",
    "groups = np.zeros(df.shape[0], np.int)\n",
    "j = 0\n",
    "for i in range(nstiff):\n",
    "    groups[j : j + n[i]] = i\n",
    "    j = j + n[i]\n",
    "n"
   ]
  },
  {
   "cell_type": "code",
   "execution_count": null,
   "metadata": {},
   "outputs": [],
   "source": [
    "plt.rcParams['figure.figsize'] = (0.5, 3)\n",
    "\n",
    "sns.heatmap(pd.DataFrame(groups, columns=['n']), \n",
    "            cmap=sns.color_palette(\"Set3\", nstiff),\n",
    "            cbar_kws={\"aspect\": 5}, cbar=False,\n",
    "            xticklabels=False, yticklabels=False); \n",
    "plt.savefig('../results/Substrates groups cbar.png', bbox_inches='tight', dpi=300);"
   ]
  },
  {
   "cell_type": "markdown",
   "metadata": {},
   "source": [
    "## Cells per image (density)"
   ]
  },
  {
   "cell_type": "code",
   "execution_count": 22,
   "metadata": {},
   "outputs": [
    {
     "data": {
      "text/html": [
       "<div>\n",
       "<style scoped>\n",
       "    .dataframe tbody tr th:only-of-type {\n",
       "        vertical-align: middle;\n",
       "    }\n",
       "\n",
       "    .dataframe tbody tr th {\n",
       "        vertical-align: top;\n",
       "    }\n",
       "\n",
       "    .dataframe thead th {\n",
       "        text-align: right;\n",
       "    }\n",
       "</style>\n",
       "<table border=\"1\" class=\"dataframe\">\n",
       "  <thead>\n",
       "    <tr style=\"text-align: right;\">\n",
       "      <th></th>\n",
       "      <th>object</th>\n",
       "    </tr>\n",
       "    <tr>\n",
       "      <th>stiffness</th>\n",
       "      <th></th>\n",
       "    </tr>\n",
       "  </thead>\n",
       "  <tbody>\n",
       "    <tr>\n",
       "      <th>0.2</th>\n",
       "      <td>8.300000</td>\n",
       "    </tr>\n",
       "    <tr>\n",
       "      <th>2.0</th>\n",
       "      <td>11.571429</td>\n",
       "    </tr>\n",
       "    <tr>\n",
       "      <th>16.0</th>\n",
       "      <td>8.083333</td>\n",
       "    </tr>\n",
       "    <tr>\n",
       "      <th>32.0</th>\n",
       "      <td>6.111111</td>\n",
       "    </tr>\n",
       "    <tr>\n",
       "      <th>64.0</th>\n",
       "      <td>7.000000</td>\n",
       "    </tr>\n",
       "  </tbody>\n",
       "</table>\n",
       "</div>"
      ],
      "text/plain": [
       "              object\n",
       "stiffness           \n",
       "0.2         8.300000\n",
       "2.0        11.571429\n",
       "16.0        8.083333\n",
       "32.0        6.111111\n",
       "64.0        7.000000"
      ]
     },
     "execution_count": 22,
     "metadata": {},
     "output_type": "execute_result"
    }
   ],
   "source": [
    "cell_numbers = df.groupby(['stiffness', 'image'], as_index=False)[['object']].count()\n",
    "cell_numbers.groupby('stiffness').mean()"
   ]
  },
  {
   "cell_type": "code",
   "execution_count": null,
   "metadata": {
    "collapsed": true
   },
   "outputs": [],
   "source": [
    "plt.rcParams['figure.figsize'] = (6, 4)\n",
    "sns.barplot(x=\"stiffness\", y=\"object\",\n",
    "            data=cell_numbers, ci='sd', \n",
    "            palette=sns.color_palette(\"Set2\", 7));\n",
    "plt.xlabel(\"Stiffness\")\n",
    "plt.ylabel(\"Count\")\n",
    "plt.title(\"Number of Cells per Image\")\n",
    "plt.savefig('../results/Cells per image.png', bbox_inches='tight', dpi=300);"
   ]
  },
  {
   "cell_type": "markdown",
   "metadata": {},
   "source": [
    "## Images per stiffness"
   ]
  },
  {
   "cell_type": "code",
   "execution_count": 24,
   "metadata": {},
   "outputs": [
    {
     "data": {
      "text/plain": [
       "stiffness\n",
       "0.2     10\n",
       "2.0     14\n",
       "16.0    12\n",
       "32.0     9\n",
       "64.0     9\n",
       "Name: image, dtype: int64"
      ]
     },
     "execution_count": 24,
     "metadata": {},
     "output_type": "execute_result"
    }
   ],
   "source": [
    "df.groupby('stiffness').image.nunique()"
   ]
  },
  {
   "cell_type": "markdown",
   "metadata": {},
   "source": [
    "## Groups of features (general)"
   ]
  },
  {
   "cell_type": "code",
   "execution_count": null,
   "metadata": {
    "collapsed": true
   },
   "outputs": [],
   "source": [
    "col_names = (('area_cell', 'maxintdisplacement_wga_nucl'),\n",
    "             ('integratedintensityedge_ker', 'log_cvratio'))"
   ]
  },
  {
   "cell_type": "code",
   "execution_count": null,
   "metadata": {
    "collapsed": true
   },
   "outputs": [],
   "source": [
    "groups = np.zeros(len(feature_cols), np.int)\n",
    "groups.shape"
   ]
  },
  {
   "cell_type": "code",
   "execution_count": null,
   "metadata": {
    "collapsed": true
   },
   "outputs": [],
   "source": [
    "j = 0\n",
    "for i in range(len(col_names)):\n",
    "    n = measurements.loc[:, col_names[i][0] : col_names[i][1]].columns.size\n",
    "    groups[j : j + n] = i\n",
    "    j = j + n"
   ]
  },
  {
   "cell_type": "code",
   "execution_count": null,
   "metadata": {
    "collapsed": true
   },
   "outputs": [],
   "source": [
    "plt.rcParams['figure.figsize'] = (20, 0.5)\n",
    "sns.heatmap(pd.DataFrame(groups, columns=['n']).T, \n",
    "            cmap=sns.color_palette(\"Set3\", 4), \n",
    "            cbar=False,\n",
    "            xticklabels=False, yticklabels=False); \n",
    "plt.savefig('../results/All features groups cbar.png', bbox_inches='tight', dpi=300);"
   ]
  },
  {
   "cell_type": "markdown",
   "metadata": {},
   "source": [
    "## Groups of features (geometric)"
   ]
  },
  {
   "cell_type": "code",
   "execution_count": null,
   "metadata": {},
   "outputs": [],
   "source": [
    "geom_cols"
   ]
  },
  {
   "cell_type": "code",
   "execution_count": null,
   "metadata": {
    "collapsed": true
   },
   "outputs": [],
   "source": [
    "col_names = (('area_cell', 'zernike_9_9_cell'),\n",
    "             #('integratedintensityedge_wga_cell', 'minintensity_wga_cell'), \n",
    "             ('neighbors_anglebetweenneighbors_3','neighbors_secondclosestdistance_3'), \n",
    "             #('angularsecondmoment_wga_00_cell', 'infomeas2_wga_00_cell'),\n",
    "             ('area_nucl', 'zernike_9_9_nucl'),\n",
    "             #('integratedintensityedge_dapi', 'stdintensity_wga_nucl'),\n",
    "             ('neighbors_anglebetweenneighbors_20', 'neighbors_secondclosestdistance_20'),\n",
    "             #('angularsecondmoment_dapi_00', 'sumentropy_dapi_01'),\n",
    "             ('eulernumber_cyto', 'zernike_9_5_cyto'),\n",
    "             ('fartherstpoint_cell', 'ncr'))"
   ]
  },
  {
   "cell_type": "code",
   "execution_count": null,
   "metadata": {
    "collapsed": true
   },
   "outputs": [],
   "source": [
    "groups = np.zeros(len(geom_cols), np.int)\n",
    "\n",
    "j = 0\n",
    "for i in range(len(col_names)):\n",
    "    n = measurements.loc[:, col_names[i][0] : col_names[i][1]].columns.size\n",
    "    groups[j : j + n] = i\n",
    "    j = j + n"
   ]
  },
  {
   "cell_type": "code",
   "execution_count": null,
   "metadata": {},
   "outputs": [],
   "source": [
    "plt.rcParams['figure.figsize'] = (20, 0.5)\n",
    "sns.heatmap(pd.DataFrame(groups, columns=['n']).T, \n",
    "            cmap=sns.color_palette(\"Set3\", 6),\n",
    "            cbar=False,\n",
    "            xticklabels=False, yticklabels=False); \n",
    "plt.savefig('../results/Geom features groups cbar.png', bbox_inches='tight', dpi=300);"
   ]
  },
  {
   "cell_type": "markdown",
   "metadata": {},
   "source": [
    "## Descriptive statistics"
   ]
  },
  {
   "cell_type": "code",
   "execution_count": null,
   "metadata": {
    "collapsed": true,
    "scrolled": false
   },
   "outputs": [],
   "source": [
    "measurements.describe()"
   ]
  },
  {
   "cell_type": "code",
   "execution_count": null,
   "metadata": {
    "collapsed": true,
    "scrolled": true
   },
   "outputs": [],
   "source": [
    "measurements.describe(include=['object'])"
   ]
  },
  {
   "cell_type": "markdown",
   "metadata": {},
   "source": [
    "# Correlations"
   ]
  },
  {
   "cell_type": "markdown",
   "metadata": {},
   "source": [
    "Plate-layout-effect and batch-effect corrections\n",
    "\n",
    "> To add heat maps of the correlations between all of wells within an experiment."
   ]
  },
  {
   "cell_type": "markdown",
   "metadata": {},
   "source": [
    "## Correlations between replicates"
   ]
  },
  {
   "cell_type": "markdown",
   "metadata": {},
   "source": [
    "> Calculate the correlations between replicates."
   ]
  },
  {
   "cell_type": "code",
   "execution_count": null,
   "metadata": {
    "collapsed": true
   },
   "outputs": [],
   "source": [
    "plot_corr(measurements.corr(method='spearman'))"
   ]
  },
  {
   "cell_type": "code",
   "execution_count": null,
   "metadata": {
    "collapsed": true
   },
   "outputs": [],
   "source": [
    "from snf import datasets\n",
    "digits = datasets.load_digits()\n",
    "df = pd.DataFrame(digits.data[0])\n",
    "sns.heatmap(df.corr(), vmin=-1, vmax=1,\n",
    "            cmap=sns.color_palette(\"RdBu_r\", 100));"
   ]
  },
  {
   "cell_type": "code",
   "execution_count": null,
   "metadata": {
    "collapsed": true,
    "scrolled": false
   },
   "outputs": [],
   "source": [
    "plot_corr(measurements.corr(method='spearman').loc[cell_cols, biom_cols], mask=True, threshold=0.5)"
   ]
  },
  {
   "cell_type": "markdown",
   "metadata": {},
   "source": [
    "## Correlation with stiffness"
   ]
  },
  {
   "cell_type": "code",
   "execution_count": null,
   "metadata": {
    "collapsed": true
   },
   "outputs": [],
   "source": [
    "# Create numeric stiffness variable and define feature columns\n",
    "df['stiffness_num'] = pd.to_numeric(df.stiffness)\n",
    "df['stiffness_log2'] = np.log2(df.stiffness_num)"
   ]
  },
  {
   "cell_type": "markdown",
   "metadata": {},
   "source": [
    "### Pearson's correlation"
   ]
  },
  {
   "cell_type": "code",
   "execution_count": null,
   "metadata": {
    "scrolled": false
   },
   "outputs": [],
   "source": [
    "p_corr = df[geom_cols].corrwith(pd.to_numeric(df.stiffness))\n",
    "p_corr.abs().sort_values(ascending=False).head(10)"
   ]
  },
  {
   "cell_type": "code",
   "execution_count": null,
   "metadata": {},
   "outputs": [],
   "source": [
    "plt.rcParams['figure.figsize'] = (15, 2)\n",
    "\n",
    "sns.heatmap(pd.DataFrame(p_corr, columns=['Pearsons']).T, \n",
    "            cmap=sns.color_palette(\"RdBu_r\", 100), \n",
    "            vmin=-1, vmax=1);\n",
    "\n",
    "#plt.savefig('../results/Corr with Stiffness SMOTE.png', bbox_inches='tight', dpi=300);"
   ]
  },
  {
   "cell_type": "markdown",
   "metadata": {},
   "source": [
    "### Spearman's correlation"
   ]
  },
  {
   "cell_type": "code",
   "execution_count": null,
   "metadata": {
    "scrolled": false
   },
   "outputs": [],
   "source": [
    "s_corr = df[geom_cols].corrwith(pd.to_numeric(df.stiffness), method='spearman')\n",
    "s_corr.abs().sort_values(ascending=False).head(10)"
   ]
  },
  {
   "cell_type": "code",
   "execution_count": null,
   "metadata": {},
   "outputs": [],
   "source": [
    "s_corr[['solidity_cell', 'perimeter_cell', 'formfactor_cell']]"
   ]
  },
  {
   "cell_type": "code",
   "execution_count": null,
   "metadata": {},
   "outputs": [],
   "source": [
    "plt.rcParams['figure.figsize'] = (2, 4)\n",
    "\n",
    "sns.lmplot(x='stiffness_num', y='formfactor_cell', data=df, order=2);\n",
    "\n",
    "# plt.ylim([0, 13]);\n",
    "plt.xlabel(\"Stiffness, kPa\");\n",
    "plt.ylabel(\"Cell circularity, a.u.\");\n",
    "plt.savefig('../results/corr circularity.png', bbox_inches='tight', dpi=300);"
   ]
  },
  {
   "cell_type": "code",
   "execution_count": null,
   "metadata": {},
   "outputs": [],
   "source": [
    "plt.rcParams['figure.figsize'] = (6, 4)\n",
    "sns.boxplot(x='stiffness', y='perimeter_cell', data=df, showfliers=False);"
   ]
  },
  {
   "cell_type": "code",
   "execution_count": null,
   "metadata": {},
   "outputs": [],
   "source": [
    "plt.rcParams['figure.figsize'] = (15, 2)\n",
    "\n",
    "sns.heatmap(pd.DataFrame(s_corr, columns=['Spearmans']).T, \n",
    "            cmap=sns.color_palette(\"RdBu_r\", 100), \n",
    "            vmin=-1, vmax=1);\n",
    "#plt.savefig('../results/Corr with Stiffness.png', bbox_inches='tight', dpi=300);"
   ]
  },
  {
   "cell_type": "markdown",
   "metadata": {},
   "source": [
    "### Difference between Spearman's and Pearson's"
   ]
  },
  {
   "cell_type": "code",
   "execution_count": null,
   "metadata": {
    "collapsed": true
   },
   "outputs": [],
   "source": [
    "(s_corr - p_corr).plot(kind='bar', figsize=(15, 5));\n",
    "#plt.savefig('../results/Spearman-Pearson SMOTE.png', bbox_inches='tight', dpi=300);"
   ]
  },
  {
   "cell_type": "markdown",
   "metadata": {},
   "source": [
    "### Univariate modelling"
   ]
  },
  {
   "cell_type": "code",
   "execution_count": null,
   "metadata": {
    "collapsed": true
   },
   "outputs": [],
   "source": [
    "sns.lmplot(x='stiffness_num', y='ncr', data=df, order=1);"
   ]
  },
  {
   "cell_type": "code",
   "execution_count": null,
   "metadata": {
    "collapsed": true
   },
   "outputs": [],
   "source": [
    "df['stiffsquared'] = df.stiffness_num**2\n",
    "df['stiffcubed'] = df.stiffness_num**3"
   ]
  },
  {
   "cell_type": "code",
   "execution_count": null,
   "metadata": {
    "collapsed": true
   },
   "outputs": [],
   "source": [
    "# X = df.stiffness_num.values.reshape(-1, 1)\n",
    "X = df[['stiffness_num']]\n",
    "y = df.ncr"
   ]
  },
  {
   "cell_type": "code",
   "execution_count": null,
   "metadata": {
    "collapsed": true
   },
   "outputs": [],
   "source": [
    "from sklearn.linear_model import LinearRegression\n",
    "\n",
    "model = LinearRegression()\n",
    "model.fit(X, y)\n",
    "model.score(X, y)"
   ]
  },
  {
   "cell_type": "code",
   "execution_count": null,
   "metadata": {
    "collapsed": true
   },
   "outputs": [],
   "source": [
    "df[['stiffness_num']].corrwith(df.ncr)"
   ]
  },
  {
   "cell_type": "code",
   "execution_count": null,
   "metadata": {
    "collapsed": true,
    "scrolled": false
   },
   "outputs": [],
   "source": [
    "import statsmodels.formula.api as sm\n",
    "\n",
    "model1 = sm.ols(formula=\"ncr ~ stiffness_num\", data=df).fit()\n",
    "model2 = sm.ols(formula=\"ncr ~ stiffness_num + stiffsquared\", data=df).fit()\n",
    "model3 = sm.ols(formula=\"ncr ~ stiffness_num + stiffsquared + stiffcubed\", data=df).fit()\n",
    "\n",
    "model1.summary()\n",
    "\n",
    "# print result.rsquared, result.rsquared_adj"
   ]
  },
  {
   "cell_type": "code",
   "execution_count": null,
   "metadata": {
    "collapsed": true
   },
   "outputs": [],
   "source": [
    "model2.summary()"
   ]
  },
  {
   "cell_type": "code",
   "execution_count": null,
   "metadata": {
    "collapsed": true
   },
   "outputs": [],
   "source": [
    "model3.summary()"
   ]
  },
  {
   "cell_type": "code",
   "execution_count": null,
   "metadata": {
    "collapsed": true
   },
   "outputs": [],
   "source": [
    "import statsmodels.api as sm\n",
    "\n",
    "model = sm.OLS(X, y).fit()\n",
    "model.summary()\n",
    "# print result.rsquared, result.rsquared_adj"
   ]
  },
  {
   "cell_type": "markdown",
   "metadata": {},
   "source": [
    "# Visualise features "
   ]
  },
  {
   "cell_type": "code",
   "execution_count": null,
   "metadata": {},
   "outputs": [],
   "source": [
    "X = df[feature_cols]\n",
    "print(X.shape)\n",
    "\n",
    "scaler = StandardScaler()\n",
    "X_scaled = scaler.fit_transform(X)\n",
    "\n",
    "df_scaled = pd.concat([df[meta_cols], \n",
    "                       pd.DataFrame(X_scaled, columns=feature_cols)], \n",
    "                      axis=1)"
   ]
  },
  {
   "cell_type": "markdown",
   "metadata": {},
   "source": [
    "## All features"
   ]
  },
  {
   "cell_type": "code",
   "execution_count": null,
   "metadata": {
    "scrolled": false
   },
   "outputs": [],
   "source": [
    "plt.rcParams['figure.figsize'] = (15, 4)\n",
    "\n",
    "sns.heatmap(X_scaled,\n",
    "            vmin = -2.5, vmax = 2.5,\n",
    "            cmap=sns.color_palette(\"RdBu_r\", 100),\n",
    "            cbar_kws={\"aspect\": 20},\n",
    "            xticklabels=False, yticklabels=False);\n",
    "\n",
    "plt.savefig('../results/All features heatmap.png', bbox_inches='tight', dpi=300);"
   ]
  },
  {
   "cell_type": "markdown",
   "metadata": {},
   "source": [
    "## Aggregated values"
   ]
  },
  {
   "cell_type": "code",
   "execution_count": null,
   "metadata": {},
   "outputs": [],
   "source": [
    "sns.set(rc={'figure.figsize':(15, 3)})\n",
    "\n",
    "mean_per_stiffness = df_scaled.groupby('stiffness')[feature_cols].mean()\n",
    "\n",
    "sns.heatmap(mean_per_stiffness, \n",
    "            vmin = -1, vmax = 1,\n",
    "            cmap=sns.color_palette(\"PRGn\", 100), \n",
    "            cbar_kws={\"aspect\": 5},\n",
    "            xticklabels=False, yticklabels=True);\n",
    "\n",
    "plt.savefig('../results/Aggregated features heatmap.png', bbox_inches='tight', dpi=300);"
   ]
  },
  {
   "cell_type": "markdown",
   "metadata": {},
   "source": [
    "## Morphological features across stiffness values"
   ]
  },
  {
   "cell_type": "code",
   "execution_count": null,
   "metadata": {
    "collapsed": true
   },
   "outputs": [],
   "source": [
    "row_colors, palette = create_palette(df)"
   ]
  },
  {
   "cell_type": "code",
   "execution_count": null,
   "metadata": {
    "collapsed": true,
    "scrolled": true
   },
   "outputs": [],
   "source": [
    "plt.rcParams['figure.figsize'] = (5, 3)\n",
    "\n",
    "for var in geom_cols:\n",
    "    plt.figure()\n",
    "    sns.boxplot(x='stiffness', y=var, data=df, palette=palette);\n",
    "#     plt.savefig('../results/Geometric features/' + var + '.png', bbox_inches='tight', dpi=300);"
   ]
  },
  {
   "cell_type": "code",
   "execution_count": null,
   "metadata": {
    "collapsed": true
   },
   "outputs": [],
   "source": [
    "sns.boxplot(x='stiffness', y='ncr', data=measurements_red, palette=palette);"
   ]
  },
  {
   "cell_type": "markdown",
   "metadata": {},
   "source": [
    "## PCA on morphological features"
   ]
  },
  {
   "cell_type": "code",
   "execution_count": 15,
   "metadata": {},
   "outputs": [
    {
     "name": "stdout",
     "output_type": "stream",
     "text": [
      "The first 16 components explain 90% of variance.\n",
      "\n",
      "Explained variance:\n",
      " [0.21117774 0.1676414  0.13299338 0.06635325 0.05673176 0.05006785\n",
      " 0.03380618 0.03023089 0.02679327 0.02441459 0.02387434 0.0214958\n",
      " 0.01707703 0.01472345 0.01349656 0.01190515]\n"
     ]
    },
    {
     "data": {
      "text/plain": [
       "((460, 61), (16, 61), (460, 16), (460, 17))"
      ]
     },
     "execution_count": 15,
     "metadata": {},
     "output_type": "execute_result"
    }
   ],
   "source": [
    "# Feature map\n",
    "cols = biom_cols\n",
    "X = df[cols]\n",
    "\n",
    "# Standartise the data\n",
    "scaler = StandardScaler()\n",
    "X_scaled = scaler.fit_transform(X)\n",
    "\n",
    "# Number of components requred to describe 90% variance\n",
    "pca = PCA(n_components=0.9)\n",
    "\n",
    "# Apply PCA to the scaled feature matrix\n",
    "X_reduced = pca.fit_transform(X_scaled)\n",
    "\n",
    "pc_cols = [('pc_' + str(i)) for i in range(1, X_reduced.shape[1] + 1)]\n",
    "pc_df = pd.concat([df.loc[:, ['stiffness']],\n",
    "                  pd.DataFrame(data = X_reduced, columns = pc_cols)], \n",
    "                  axis=1)\n",
    "\n",
    "print(\"The first {} components explain 90% of variance.\\n\".format(pca.n_components_ ))\n",
    "\n",
    "print(\"Explained variance:\\n\", pca.explained_variance_ratio_)\n",
    "\n",
    "X.shape, pca.components_.shape, X_reduced.shape, pc_df.shape"
   ]
  },
  {
   "cell_type": "code",
   "execution_count": null,
   "metadata": {},
   "outputs": [],
   "source": [
    "plt.plot(pca.explained_variance_ratio_);\n",
    "\n",
    "#plt.savefig('../results/Explained variance ratio.png', bbox_inches='tight', dpi=300);"
   ]
  },
  {
   "cell_type": "code",
   "execution_count": null,
   "metadata": {},
   "outputs": [],
   "source": [
    "pc_df[pc_cols].T.plot(legend=False);\n",
    "\n",
    "#plt.savefig('../results/Principal components.png', bbox_inches='tight', dpi=300);"
   ]
  },
  {
   "cell_type": "code",
   "execution_count": null,
   "metadata": {},
   "outputs": [],
   "source": [
    "plt.plot(pca.components_[0]);"
   ]
  },
  {
   "cell_type": "code",
   "execution_count": 19,
   "metadata": {},
   "outputs": [
    {
     "data": {
      "image/png": "[encoded data removed]",
      "text/plain": [
       "<Figure size 576x576 with 1 Axes>"
      ]
     },
     "metadata": {},
     "output_type": "display_data"
    }
   ],
   "source": [
    "plt.rc(\"figure\", figsize=(8, 8))\n",
    "\n",
    "row_colors, palette = create_palette(df, by='stiffness')\n",
    "\n",
    "sns.scatterplot(x='pc_1', y='pc_2', data=pc_df, \n",
    "                hue='stiffness', palette=palette);"
   ]
  },
  {
   "cell_type": "code",
   "execution_count": 20,
   "metadata": {},
   "outputs": [
    {
     "data": {
      "image/png": "[encoded data removed]",
      "text/plain": [
       "<Figure size 576x576 with 1 Axes>"
      ]
     },
     "metadata": {},
     "output_type": "display_data"
    }
   ],
   "source": [
    "centroids = pc_df.groupby('stiffness')[['pc_1', 'pc_2']].mean().reset_index()\n",
    "\n",
    "sns.scatterplot(x='pc_1', y='pc_2', data=pc_df, \n",
    "                hue='stiffness', palette=palette);\n",
    "sns.scatterplot(x=\"pc_1\", y=\"pc_2\", data=centroids, \n",
    "                hue='stiffness', palette=palette, \n",
    "                s=200, marker='X', edgecolor='black', \n",
    "                legend=None);"
   ]
  },
  {
   "cell_type": "code",
   "execution_count": 21,
   "metadata": {},
   "outputs": [
    {
     "name": "stdout",
     "output_type": "stream",
     "text": [
      "meanintensity_ker 0.20839213568950485\n",
      "stdintensity_ker 0.2262213882485575\n",
      "stdintensity_vim 0.20035221168396028\n",
      "contrast_ker_00 0.20381370969060375\n",
      "contrast_ker_01 0.20557167319530117\n",
      "contrast_ker_02 0.20407513508451014\n",
      "contrast_ker_03 0.20079222462404592\n"
     ]
    }
   ],
   "source": [
    "first_component = zip(cols, pca.components_[0])\n",
    "\n",
    "for col, weight in first_component:\n",
    "    if abs(weight) > 0.2:\n",
    "        print(col, weight)"
   ]
  },
  {
   "cell_type": "markdown",
   "metadata": {},
   "source": [
    "___\n",
    "**_Below are some random bits and pieces of code that I wrote at some point but right now I don't consider them usefull._**"
   ]
  },
  {
   "cell_type": "markdown",
   "metadata": {},
   "source": [
    "** Pairwise distances**"
   ]
  },
  {
   "cell_type": "code",
   "execution_count": null,
   "metadata": {
    "collapsed": true
   },
   "outputs": [],
   "source": [
    "from sklearn.metrics import pairwise_distances\n",
    "\n",
    "D = pairwise_distances(X_scaled)\n",
    "\n",
    "plt.imshow(D, zorder=2, cmap='Blues', interpolation='nearest')\n",
    "plt.colorbar();"
   ]
  },
  {
   "cell_type": "markdown",
   "metadata": {},
   "source": [
    "## Subpopulations"
   ]
  },
  {
   "cell_type": "markdown",
   "metadata": {},
   "source": [
    "###### Changes in morphological clustering"
   ]
  },
  {
   "cell_type": "code",
   "execution_count": null,
   "metadata": {
    "collapsed": true
   },
   "outputs": [],
   "source": [
    "measurements.loc[(measurements.image != '63') & (measurements.image != '64'), 'cluster2'] = agg.labels_"
   ]
  },
  {
   "cell_type": "code",
   "execution_count": null,
   "metadata": {
    "collapsed": true
   },
   "outputs": [],
   "source": [
    "measurements.cluster2.fillna(-1, inplace=True)"
   ]
  },
  {
   "cell_type": "code",
   "execution_count": null,
   "metadata": {
    "collapsed": true
   },
   "outputs": [],
   "source": [
    "measurements.cluster1 = agg.labels_"
   ]
  },
  {
   "cell_type": "code",
   "execution_count": null,
   "metadata": {
    "collapsed": true
   },
   "outputs": [],
   "source": [
    "(measurements.cluster1 != measurements.cluster2).sum()"
   ]
  },
  {
   "cell_type": "code",
   "execution_count": null,
   "metadata": {
    "collapsed": true
   },
   "outputs": [],
   "source": [
    "measurements['cluster_diff'] = np.where(measurements.cluster1 != measurements.cluster2, 1, 0)"
   ]
  },
  {
   "cell_type": "code",
   "execution_count": null,
   "metadata": {
    "collapsed": true
   },
   "outputs": [],
   "source": [
    "measurements[measurements.cluster2 != -1].cluster_diff.sum()"
   ]
  },
  {
   "cell_type": "code",
   "execution_count": null,
   "metadata": {
    "collapsed": true
   },
   "outputs": [],
   "source": [
    "measurements[measurements.cluster2 != -1].groupby('stiffness').cluster_diff.sum()"
   ]
  },
  {
   "cell_type": "code",
   "execution_count": null,
   "metadata": {
    "collapsed": true
   },
   "outputs": [],
   "source": [
    "measurements[measurements.cluster2 == -1].cluster1.sum()"
   ]
  },
  {
   "cell_type": "code",
   "execution_count": null,
   "metadata": {
    "collapsed": true
   },
   "outputs": [],
   "source": [
    "measurements.loc[(measurements.cluster2 != -1) & (measurements.cluster_diff==1), ['cluster1']].sum()"
   ]
  },
  {
   "cell_type": "code",
   "execution_count": null,
   "metadata": {
    "collapsed": true
   },
   "outputs": [],
   "source": [
    "measurements[(measurements.cluster2 != -1) & (measurements.cluster_diff==1)].groupby('stiffness').cluster2.sum()"
   ]
  },
  {
   "cell_type": "markdown",
   "metadata": {},
   "source": [
    "# OOB acccuracy with permutations"
   ]
  },
  {
   "cell_type": "code",
   "execution_count": null,
   "metadata": {
    "collapsed": true
   },
   "outputs": [],
   "source": [
    "from sklearn.ensemble.forest import _generate_unsampled_indices\n",
    "\n",
    "def oob_classifier_accuracy(rf, X_train, y_train):\n",
    "    \"\"\"\n",
    "    Compute out-of-bag (OOB) accuracy for a scikit-learn random forest\n",
    "    classifier. We learned the guts of scikit's RF from the BSD licensed\n",
    "    code:\n",
    "    https://github.com/scikit-learn/scikit-learn/blob/a24c8b46/sklearn/ensemble/forest.py#L425\n",
    "    \"\"\"\n",
    "    X = X_train.values\n",
    "    y = y_train.values\n",
    "\n",
    "    n_samples = len(X)\n",
    "    n_classes = len(np.unique(y))\n",
    "    predictions = np.zeros((n_samples, n_classes))\n",
    "    for tree in rf.estimators_:\n",
    "        unsampled_indices = _generate_unsampled_indices(tree.random_state, n_samples)\n",
    "        tree_preds = tree.predict_proba(X[unsampled_indices, :])\n",
    "        predictions[unsampled_indices] += tree_preds\n",
    "    \n",
    "    predicted_class_indexes = np.argmax(predictions, axis=1)\n",
    "    predicted_classes = [rf.classes_[i] for i in predicted_class_indexes]\n",
    "\n",
    "    oob_score = np.mean(y == predicted_classes)  \n",
    "    return oob_score\n",
    "\n",
    "def permutation_importances(rf, X_train, y_train, metric):\n",
    "    pd.set_option('mode.chained_assignment', None)\n",
    "    baseline = rf.oob_score_\n",
    "    imp = []\n",
    "    for col in X_train.columns:\n",
    "        save = X_train[col].copy()\n",
    "        X_train.loc[:, col] = np.random.permutation(X_train[col])\n",
    "        m = metric(rf, X_train, y_train)\n",
    "        X_train.loc[:, col] = save\n",
    "        imp.append(baseline - m)\n",
    "    return np.array(imp)\n",
    "\n",
    "imp = permutation_importances(rf_clf, X_train, y_train,\n",
    "                              oob_classifier_accuracy)"
   ]
  },
  {
   "cell_type": "markdown",
   "metadata": {},
   "source": [
    "# Relationship between biomarkers and morphological features"
   ]
  },
  {
   "cell_type": "markdown",
   "metadata": {},
   "source": [
    "## 64 kPa vs rest"
   ]
  },
  {
   "cell_type": "code",
   "execution_count": null,
   "metadata": {
    "collapsed": true
   },
   "outputs": [],
   "source": [
    "print(\"Whole dataset:\", measurements.shape)\n",
    "df64 = measurements[measurements.stiffness == '64.0'].copy().reset_index(drop=True)\n",
    "no64 = measurements[measurements.stiffness != '64.0'].copy().reset_index(drop=True)\n",
    "print(\"Only 64 kPa:\", df64.shape)\n",
    "print(\"Without 64 kPa:\", no64.shape)"
   ]
  },
  {
   "cell_type": "code",
   "execution_count": null,
   "metadata": {
    "collapsed": true
   },
   "outputs": [],
   "source": [
    "df64.image.unique()"
   ]
  },
  {
   "cell_type": "code",
   "execution_count": null,
   "metadata": {
    "collapsed": true
   },
   "outputs": [],
   "source": [
    "palette = sns.color_palette(\"Set3\", 7)\n",
    "sns.boxplot(x=df.stiffness, y=df.meanintensity_ker, palette=palette);"
   ]
  },
  {
   "cell_type": "code",
   "execution_count": null,
   "metadata": {
    "collapsed": true
   },
   "outputs": [],
   "source": [
    "sns.boxplot(x=df_red.stiffness, y=df_red.meanintensity_ker, palette=palette);"
   ]
  },
  {
   "cell_type": "code",
   "execution_count": null,
   "metadata": {
    "collapsed": true
   },
   "outputs": [],
   "source": [
    "df64.hist(column='meanintensity_ker', bins=20, figsize=(10, 6));"
   ]
  },
  {
   "cell_type": "code",
   "execution_count": null,
   "metadata": {
    "collapsed": true
   },
   "outputs": [],
   "source": [
    "df64.meanintensity_ker.describe()"
   ]
  },
  {
   "cell_type": "code",
   "execution_count": null,
   "metadata": {
    "collapsed": true
   },
   "outputs": [],
   "source": [
    "no64.hist(column='meanintensity_ker', bins=20, figsize=(10, 6));"
   ]
  },
  {
   "cell_type": "code",
   "execution_count": null,
   "metadata": {
    "collapsed": true
   },
   "outputs": [],
   "source": [
    "no64.meanintensity_ker.describe()"
   ]
  },
  {
   "cell_type": "code",
   "execution_count": null,
   "metadata": {
    "collapsed": true
   },
   "outputs": [],
   "source": [
    "threshold = no64.meanintensity_ker.quantile(0.95)"
   ]
  },
  {
   "cell_type": "code",
   "execution_count": null,
   "metadata": {
    "collapsed": true
   },
   "outputs": [],
   "source": [
    "df64[df64.meanintensity_ker > threshold].groupby('image').size()"
   ]
  },
  {
   "cell_type": "code",
   "execution_count": null,
   "metadata": {
    "collapsed": true,
    "scrolled": false
   },
   "outputs": [],
   "source": [
    "(df64[df64.meanintensity_ker > threshold].groupby('image').size() / df64.groupby('image').size()).plot(kind='bar');"
   ]
  },
  {
   "cell_type": "code",
   "execution_count": null,
   "metadata": {
    "collapsed": true
   },
   "outputs": [],
   "source": [
    "df64[geom_cols].corrwith(df64.meanintensity_ker, method='pearson').abs().sort_values(ascending=False).head(10)"
   ]
  },
  {
   "cell_type": "code",
   "execution_count": null,
   "metadata": {
    "collapsed": true
   },
   "outputs": [],
   "source": [
    "p_corr = df64[geom_cols].corrwith(df64.meanintensity_ker, method='pearson')\n",
    "\n",
    "plt.rcParams['figure.figsize'] = (15, 3)\n",
    "\n",
    "\n",
    "sns.heatmap(pd.DataFrame(p_corr, columns=['Pearsons']).T, \n",
    "            cmap=sns.color_palette(\"RdBu_r\", 100), \n",
    "            vmin=-0.5, vmax=0.5);"
   ]
  },
  {
   "cell_type": "code",
   "execution_count": null,
   "metadata": {
    "collapsed": true
   },
   "outputs": [],
   "source": [
    "df64['highck'] = np.where(df64.meanintensity_ker > threshold, 1, 0)\n",
    "df64.highck.describe()"
   ]
  },
  {
   "cell_type": "code",
   "execution_count": null,
   "metadata": {
    "collapsed": true
   },
   "outputs": [],
   "source": [
    "df64[geom_cols].corrwith(df64.highck, method='spearman').abs().sort_values(ascending=False).head(10)"
   ]
  },
  {
   "cell_type": "code",
   "execution_count": null,
   "metadata": {
    "collapsed": true
   },
   "outputs": [],
   "source": [
    "sns.lmplot(x='meanintensity_ker', y='minferetdiameter_cell', data=df64);"
   ]
  },
  {
   "cell_type": "code",
   "execution_count": null,
   "metadata": {
    "collapsed": true
   },
   "outputs": [],
   "source": [
    "sns.lmplot(x='highck', y='minferetdiameter_cell', data=df64);"
   ]
  },
  {
   "cell_type": "code",
   "execution_count": null,
   "metadata": {
    "collapsed": true
   },
   "outputs": [],
   "source": [
    "sns.lmplot(x='meanintensity_ker', y='meanintensity_vim', data=df64);"
   ]
  },
  {
   "cell_type": "code",
   "execution_count": null,
   "metadata": {
    "collapsed": true
   },
   "outputs": [],
   "source": [
    "df64[['meanintensity_ker']].corrwith(df64.meanintensity_vim, method='pearson')"
   ]
  },
  {
   "cell_type": "code",
   "execution_count": null,
   "metadata": {
    "collapsed": true
   },
   "outputs": [],
   "source": [
    "sns.lmplot(x='meanintensity_ker', y='meanintensity_vim', data=no64);"
   ]
  },
  {
   "cell_type": "code",
   "execution_count": null,
   "metadata": {
    "collapsed": true
   },
   "outputs": [],
   "source": [
    "no64[['meanintensity_ker']].corrwith(no64.meanintensity_vim, method='pearson')"
   ]
  },
  {
   "cell_type": "code",
   "execution_count": null,
   "metadata": {
    "collapsed": true
   },
   "outputs": [],
   "source": [
    "tmp = no64.loc[no64.stiffness=='0.2', ['meanintensity_ker', 'meanintensity_vim']]\n",
    "tmp[['meanintensity_ker']].corrwith(tmp.meanintensity_vim, method='spearman')"
   ]
  },
  {
   "cell_type": "markdown",
   "metadata": {},
   "source": [
    "** Correlation between cytokeratin and vimentin (P/S)**\n",
    "* 0.2 kPa: 0.33/0.35\n",
    "* 0.5 kPa: 0.68/0.67\n",
    "* 2.0 kPa: 0.3/0.36\n",
    "* 8.0 kPa: 0.69/0.71\n",
    "* 16.0 kPa: 0.55/0.18\n",
    "* 32.0 kPa: 0.01/0.05\n",
    "* 64.0 kPa: 0.62/0.61"
   ]
  },
  {
   "cell_type": "code",
   "execution_count": null,
   "metadata": {
    "collapsed": true
   },
   "outputs": [],
   "source": [
    "sns.lmplot(x='meanintensity_ker', y='meanintensity_vim', data=no64[no64.stiffness=='2.0']);"
   ]
  },
  {
   "cell_type": "code",
   "execution_count": null,
   "metadata": {
    "collapsed": true
   },
   "outputs": [],
   "source": [
    "sns.boxplot(x='image', y='meanintensity_ker', data=df64);"
   ]
  },
  {
   "cell_type": "code",
   "execution_count": null,
   "metadata": {
    "collapsed": true
   },
   "outputs": [],
   "source": [
    "sns.boxplot(x='image', y='meanintensity_vim', data=df64);"
   ]
  },
  {
   "cell_type": "code",
   "execution_count": null,
   "metadata": {
    "collapsed": true,
    "scrolled": false
   },
   "outputs": [],
   "source": [
    "df[df.meanintensity_ker > 0.3]"
   ]
  },
  {
   "cell_type": "code",
   "execution_count": null,
   "metadata": {
    "collapsed": true
   },
   "outputs": [],
   "source": [
    "df['index'] = df.index\n",
    "sns.scatterplot(x=df.index, y=df.meanintensity_ker, \n",
    "                hue=np.float32(df.image), palette=sns.color_palette(\"Set2\", 14));\n",
    "plt.ylim([0, 0.7])"
   ]
  },
  {
   "cell_type": "code",
   "execution_count": null,
   "metadata": {
    "collapsed": true
   },
   "outputs": [],
   "source": [
    "sns.scatterplot(x=df.index, y=df.meanintensity_ker, \n",
    "                hue=np.float32(df.image), palette=sns.color_palette(\"Set2\", 11));\n",
    "plt.ylim([0, 0.7])"
   ]
  },
  {
   "cell_type": "code",
   "execution_count": null,
   "metadata": {
    "collapsed": true
   },
   "outputs": [],
   "source": [
    "sns.boxplot(x=df.image, y=df.meanintensity_ker);"
   ]
  },
  {
   "cell_type": "code",
   "execution_count": null,
   "metadata": {
    "collapsed": true
   },
   "outputs": [],
   "source": [
    "df[geom_cols].corrwith(df.meanintensity_ker, method='spearman').abs().sort_values(ascending=False).head(10)"
   ]
  },
  {
   "cell_type": "code",
   "execution_count": null,
   "metadata": {
    "collapsed": true
   },
   "outputs": [],
   "source": [
    "df.plot(kind='scatter', x='percenttouching_cell', y='meanintensity_ker');"
   ]
  },
  {
   "cell_type": "code",
   "execution_count": null,
   "metadata": {
    "collapsed": true
   },
   "outputs": [],
   "source": [
    "palette = create_palette(measurements)"
   ]
  },
  {
   "cell_type": "code",
   "execution_count": null,
   "metadata": {
    "collapsed": true
   },
   "outputs": [],
   "source": [
    "cols = morph_cols\n",
    "# X = measurements[cols].drop(['extent_cell', 'solidity_cell'], axis=1)\n",
    "X = pd.concat([measurements[cols], pd.to_numeric(measurements.stiffness)], axis=1)\n",
    "y = measurements.log_cvratio\n",
    "\n",
    "X_train, X_test, y_train, y_test = train_test_split(X, y, test_size=0.2)\n",
    "print(X_train.shape, X_test.shape)\n",
    "\n",
    "rf_reg = RandomForestRegressor(n_estimators=100, oob_score=True)\n",
    "rf_reg.fit(X_train, y_train)\n",
    "\n",
    "y_pred = rf_reg.predict(X_test)\n",
    "rmse_test = np.sqrt(mean_squared_error(y_test, y_pred))\n",
    "print(\"Testing RMSE:\", rmse_test)\n",
    "\n",
    "print(\"Null RMSE:\", np.sqrt(mean_squared_error(y_test, y_test.apply(lambda x: np.mean(y_train)))))\n",
    "\n",
    "feature_importance = pd.DataFrame(X.columns, columns=['feature'])\n",
    "feature_importance['weight'] = rf_reg.feature_importances_\n",
    "# feature_importance['weight_sd'] = np.std([tree.feature_importances_ for tree in rf_clf.estimators_], axis=0)\n",
    "\n",
    "feature_importance.sort_values(by='weight', ascending=False, inplace=True)\n",
    "\n",
    "threshold = feature_importance.weight.quantile(0.9)\n",
    "\n",
    "plt.rcParams['figure.figsize'] = (15, 6)\n",
    "sns.barplot(x='feature', y='weight', data=feature_importance,  color='orangered')\n",
    "plt.plot([9, 9], [-0.001, feature_importance.weight.max()], linewidth=5, color='royalblue')\n",
    "plt.xticks([]);\n",
    "plt.xlabel(\"Features\");\n",
    "plt.ylabel(\"Weight\");\n",
    "plt.title(\"Feature importance\");\n",
    "\n",
    "feature_importance[feature_importance.weight > threshold]"
   ]
  },
  {
   "cell_type": "markdown",
   "metadata": {},
   "source": [
    "### Undersampling"
   ]
  },
  {
   "cell_type": "code",
   "execution_count": null,
   "metadata": {
    "collapsed": true
   },
   "outputs": [],
   "source": [
    "measurements_under = resampling.undersample(measurements_)\n",
    "X = measurements_under[feature_cols]\n",
    "y = measurements_under.stiffness\n",
    " \n",
    "X.shape, y.shape"
   ]
  },
  {
   "cell_type": "code",
   "execution_count": null,
   "metadata": {
    "collapsed": true
   },
   "outputs": [],
   "source": [
    "X_train, X_test, y_train, y_test = train_test_split(X, y, random_state=1)\n",
    "X_train.shape, X_test.shape"
   ]
  },
  {
   "cell_type": "code",
   "execution_count": null,
   "metadata": {
    "collapsed": true
   },
   "outputs": [],
   "source": [
    "rfc = RandomForestClassifier()\n",
    "rfc.fit(X_train, y_train)\n",
    "y_pred = rfc.predict(X_test)\n",
    "print(\"Testing accuraccy:\", accuracy_score(y_test, y_pred))\n",
    "print(\"Testing f-score:\", f1_score(y_test, y_pred, average='weighted'))"
   ]
  },
  {
   "cell_type": "markdown",
   "metadata": {},
   "source": [
    "### SMOTE"
   ]
  },
  {
   "cell_type": "code",
   "execution_count": null,
   "metadata": {
    "collapsed": true
   },
   "outputs": [],
   "source": [
    "measurements_.groupby('stiffness').size()"
   ]
  },
  {
   "cell_type": "code",
   "execution_count": null,
   "metadata": {
    "collapsed": true
   },
   "outputs": [],
   "source": [
    "X = measurements_[feature_cols]\n",
    "y = measurements_.stiffness\n",
    " \n",
    "X.shape, y.shape"
   ]
  },
  {
   "cell_type": "code",
   "execution_count": null,
   "metadata": {
    "collapsed": true
   },
   "outputs": [],
   "source": [
    "X_train, X_test, y_train, y_test = train_test_split(X, y, random_state=1)\n",
    "X_train.shape, X_test.shape"
   ]
  },
  {
   "cell_type": "code",
   "execution_count": null,
   "metadata": {
    "collapsed": true
   },
   "outputs": [],
   "source": [
    "X_train_sm, y_train_sm = proc.smote(X_train, y_train, as_df=False)"
   ]
  },
  {
   "cell_type": "code",
   "execution_count": null,
   "metadata": {
    "collapsed": true
   },
   "outputs": [],
   "source": [
    "rfc = RandomForestClassifier(n_estimators=100)\n",
    "rfc.fit(X_train_sm, y_train_sm)\n",
    "y_pred = rfc.predict(X_test)\n",
    "print(\"Testing accuraccy:\", accuracy_score(y_test, y_pred))\n",
    "print(\"Testing f-score:\", f1_score(y_test, y_pred, average='weighted'))"
   ]
  },
  {
   "cell_type": "code",
   "execution_count": null,
   "metadata": {
    "collapsed": true
   },
   "outputs": [],
   "source": [
    "labels = y_test.unique().sort_values()\n",
    "confusion = confusion_matrix(y_test, y_pred, labels=labels)\n",
    "confusion_df = pd.DataFrame(confusion, columns=labels, index=labels)\n",
    "confusion_df"
   ]
  },
  {
   "cell_type": "code",
   "execution_count": null,
   "metadata": {
    "collapsed": true
   },
   "outputs": [],
   "source": [
    "feature_importance = zip(feature_cols, rfc.feature_importances_)\n",
    "\n",
    "for col, weight in feature_importance:\n",
    "    if (weight > 0.02):\n",
    "        print(col, weight)"
   ]
  },
  {
   "cell_type": "markdown",
   "metadata": {},
   "source": [
    "## k-Means"
   ]
  },
  {
   "cell_type": "code",
   "execution_count": null,
   "metadata": {
    "collapsed": true
   },
   "outputs": [],
   "source": [
    "X = measurements_syn[feature_cols]\n",
    "#X = measurements_syn.loc[measurements_syn.stiffness != \"8.0\", feature_cols]\n",
    "\n",
    "X.shape"
   ]
  },
  {
   "cell_type": "code",
   "execution_count": null,
   "metadata": {
    "collapsed": true
   },
   "outputs": [],
   "source": [
    "scaler = StandardScaler()\n",
    "X_scaled = scaler.fit_transform(X)"
   ]
  },
  {
   "cell_type": "code",
   "execution_count": null,
   "metadata": {
    "collapsed": true
   },
   "outputs": [],
   "source": [
    "km = KMeans(n_clusters=2, random_state=1)\n",
    "km.fit(X_scaled)\n",
    "\n",
    "measurements_syn['cluster'] = km.labels_\n",
    "#measurements_syn.loc[measurements_syn.stiffness != \"8.0\",'cluster'] = km.labels_"
   ]
  },
  {
   "cell_type": "code",
   "execution_count": null,
   "metadata": {
    "collapsed": true
   },
   "outputs": [],
   "source": [
    "sns.scatterplot(data=measurements_syn, x='stiffness', y='cluster', \n",
    "                palette=sns.color_palette(\"husl\", 7), \n",
    "                alpha=0.1, s=100);"
   ]
  },
  {
   "cell_type": "code",
   "execution_count": null,
   "metadata": {
    "collapsed": true
   },
   "outputs": [],
   "source": [
    "pd.crosstab(measurements_syn.stiffness, \n",
    "            measurements_syn.cluster).plot(kind='bar');\n",
    "plt.xlabel(\"Stiffness\")\n",
    "plt.ylabel(\"Count\")\n",
    "plt.title(\"Number of Cells from Each Cluster\");\n",
    "plt.savefig('../results/Two clusters - morph only.png', bbox_inches='tight', dpi=300);"
   ]
  }
 ],
 "metadata": {
  "kernelspec": {
   "display_name": "Python 3",
   "language": "python",
   "name": "python3"
  },
  "language_info": {
   "codemirror_mode": {
    "name": "ipython",
    "version": 3
   },
   "file_extension": ".py",
   "mimetype": "text/x-python",
   "name": "python",
   "nbconvert_exporter": "python",
   "pygments_lexer": "ipython3",
   "version": "3.6.8"
  },
  "toc": {
   "base_numbering": 1,
   "nav_menu": {},
   "number_sections": true,
   "sideBar": true,
   "skip_h1_title": false,
   "title_cell": "Table of Contents",
   "title_sidebar": "Contents",
   "toc_cell": false,
   "toc_position": {},
   "toc_section_display": true,
   "toc_window_display": false
  }
 },
 "nbformat": 4,
 "nbformat_minor": 2
}
