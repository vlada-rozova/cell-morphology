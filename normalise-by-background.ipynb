{
 "cells": [
  {
   "cell_type": "code",
   "execution_count": 1,
   "metadata": {},
   "outputs": [
    {
     "name": "stderr",
     "output_type": "stream",
     "text": [
      "/Applications/anaconda3/lib/python3.6/site-packages/sklearn/externals/six.py:31: DeprecationWarning: The module is deprecated in version 0.21 and will be removed in version 0.23 since we've dropped support for Python 2.7. Please rely on the official version of six (https://pypi.org/project/six/).\n",
      "  \"(https://pypi.org/project/six/).\", DeprecationWarning)\n"
     ]
    }
   ],
   "source": [
    "import os\n",
    "import os.path\n",
    "import glob\n",
    "import pandas as pd\n",
    "import numpy as np\n",
    "from PIL import Image\n",
    "import preprocessing as proc\n",
    "from pandas.api.types import CategoricalDtype\n",
    "import seaborn as sns\n",
    "from matplotlib import pyplot as plt\n",
    "%matplotlib inline\n",
    "\n",
    "plt.style.use('seaborn')\n",
    "plt.rcParams['figure.figsize'] = (15, 5)\n",
    "plt.rcParams['axes.titlesize'] = 20\n",
    "plt.rcParams['axes.labelsize'] = 16\n",
    "plt.rcParams['xtick.labelsize'] = 14\n",
    "plt.rcParams['ytick.labelsize'] = 14\n",
    "\n",
    "pd.options.display.max_columns = 1000\n",
    "\n",
    "DATA_PATH = '../datasets/'\n",
    "TIFF_PATH = '/Users/vladarozova/Dropbox/New experiment/Images/tiff/'\n",
    "\n",
    "os.environ['TF_CPP_MIN_LOG_LEVEL'] = '3'"
   ]
  },
  {
   "cell_type": "markdown",
   "metadata": {},
   "source": [
    "# Load background measurements"
   ]
  },
  {
   "cell_type": "code",
   "execution_count": 2,
   "metadata": {},
   "outputs": [
    {
     "name": "stdout",
     "output_type": "stream",
     "text": [
      "(292, 10)\n"
     ]
    },
    {
     "data": {
      "text/html": [
       "<div>\n",
       "<style scoped>\n",
       "    .dataframe tbody tr th:only-of-type {\n",
       "        vertical-align: middle;\n",
       "    }\n",
       "\n",
       "    .dataframe tbody tr th {\n",
       "        vertical-align: top;\n",
       "    }\n",
       "\n",
       "    .dataframe thead th {\n",
       "        text-align: right;\n",
       "    }\n",
       "</style>\n",
       "<table border=\"1\" class=\"dataframe\">\n",
       "  <thead>\n",
       "    <tr style=\"text-align: right;\">\n",
       "      <th></th>\n",
       "      <th>channel</th>\n",
       "      <th>bg_mean</th>\n",
       "      <th>bg_median</th>\n",
       "      <th>bg_sdt</th>\n",
       "      <th>stiffness</th>\n",
       "      <th>combination</th>\n",
       "      <th>well</th>\n",
       "      <th>site</th>\n",
       "      <th>fluorophore</th>\n",
       "      <th>label</th>\n",
       "    </tr>\n",
       "  </thead>\n",
       "  <tbody>\n",
       "    <tr>\n",
       "      <th>0</th>\n",
       "      <td>WGA</td>\n",
       "      <td>268.314</td>\n",
       "      <td>272</td>\n",
       "      <td>52.462</td>\n",
       "      <td>0.2</td>\n",
       "      <td>B</td>\n",
       "      <td>A1</td>\n",
       "      <td>1</td>\n",
       "      <td>FITC</td>\n",
       "      <td>0.2-B-A1-1</td>\n",
       "    </tr>\n",
       "    <tr>\n",
       "      <th>1</th>\n",
       "      <td>DAPI</td>\n",
       "      <td>48.874</td>\n",
       "      <td>49</td>\n",
       "      <td>2.755</td>\n",
       "      <td>0.2</td>\n",
       "      <td>B</td>\n",
       "      <td>A1</td>\n",
       "      <td>1</td>\n",
       "      <td>DAPI</td>\n",
       "      <td>0.2-B-A1-1</td>\n",
       "    </tr>\n",
       "    <tr>\n",
       "      <th>2</th>\n",
       "      <td>Vim</td>\n",
       "      <td>102.633</td>\n",
       "      <td>101</td>\n",
       "      <td>11.028</td>\n",
       "      <td>0.2</td>\n",
       "      <td>B</td>\n",
       "      <td>A1</td>\n",
       "      <td>1</td>\n",
       "      <td>AF568</td>\n",
       "      <td>0.2-B-A1-1</td>\n",
       "    </tr>\n",
       "    <tr>\n",
       "      <th>3</th>\n",
       "      <td>Ker</td>\n",
       "      <td>89.640</td>\n",
       "      <td>87</td>\n",
       "      <td>11.788</td>\n",
       "      <td>0.2</td>\n",
       "      <td>B</td>\n",
       "      <td>A1</td>\n",
       "      <td>1</td>\n",
       "      <td>AF647</td>\n",
       "      <td>0.2-B-A1-1</td>\n",
       "    </tr>\n",
       "    <tr>\n",
       "      <th>4</th>\n",
       "      <td>WGA</td>\n",
       "      <td>252.484</td>\n",
       "      <td>245</td>\n",
       "      <td>57.304</td>\n",
       "      <td>0.2</td>\n",
       "      <td>B</td>\n",
       "      <td>A1</td>\n",
       "      <td>2</td>\n",
       "      <td>FITC</td>\n",
       "      <td>0.2-B-A1-2</td>\n",
       "    </tr>\n",
       "  </tbody>\n",
       "</table>\n",
       "</div>"
      ],
      "text/plain": [
       "  channel  bg_mean  bg_median  bg_sdt stiffness combination well site  \\\n",
       "0     WGA  268.314        272  52.462       0.2           B   A1    1   \n",
       "1    DAPI   48.874         49   2.755       0.2           B   A1    1   \n",
       "2     Vim  102.633        101  11.028       0.2           B   A1    1   \n",
       "3     Ker   89.640         87  11.788       0.2           B   A1    1   \n",
       "4     WGA  252.484        245  57.304       0.2           B   A1    2   \n",
       "\n",
       "  fluorophore       label  \n",
       "0        FITC  0.2-B-A1-1  \n",
       "1        DAPI  0.2-B-A1-1  \n",
       "2       AF568  0.2-B-A1-1  \n",
       "3       AF647  0.2-B-A1-1  \n",
       "4        FITC  0.2-B-A1-2  "
      ]
     },
     "execution_count": 2,
     "metadata": {},
     "output_type": "execute_result"
    }
   ],
   "source": [
    "bg = pd.DataFrame()\n",
    "\n",
    "# Load each dataset and add stiffness column\n",
    "for s in (\"0.2\", \"0.5\", \"2\", \"8\", \"16\", \"32\", \"64\"):\n",
    "    tmp = pd.read_csv(DATA_PATH + s + \"-B-background.csv\", index_col=0)\n",
    "    tmp['stiffness'] = np.float(s)\n",
    "    bg = pd.concat([bg, tmp], sort=True)\n",
    "    \n",
    "# Reset index\n",
    "bg.reset_index(inplace=True, drop=True)\n",
    "\n",
    "# Rename columns\n",
    "bg.columns = [\"channel\", \"bg_mean\", \"bg_median\", \"bg_sdt\", \"stiffness\"]\n",
    "\n",
    "# Add columns with combination, well, site\n",
    "bg['combination'] = \"B\"\n",
    "bg['well'] = bg.channel.str.split(pat = \"-\", expand=True)[0]\n",
    "bg['site'] = bg.channel.str.split(pat = \"-\", expand=True)[1]\n",
    "\n",
    "# Add a column with channel\n",
    "bg['channel'] = bg.channel.str.split(pat = \"-\", expand=True)[2].str.split(pat = \".\", expand=True)[0]\n",
    "\n",
    "# Add a column with corresponding fluorophore (COMBINATION B !!!)\n",
    "fluorophores = {'DAPI' : 'DAPI', 'WGA' : 'FITC', 'Vim' : 'AF568', 'Ker' : 'AF647'}\n",
    "bg['fluorophore'] = bg.channel.map(fluorophores)\n",
    "\n",
    "# Create label\n",
    "bg = proc.create_label(bg, per_cell=False)\n",
    "\n",
    "print(bg.shape)\n",
    "bg.head()"
   ]
  },
  {
   "cell_type": "markdown",
   "metadata": {},
   "source": [
    "# Load metadata"
   ]
  },
  {
   "cell_type": "code",
   "execution_count": 3,
   "metadata": {},
   "outputs": [
    {
     "data": {
      "text/html": [
       "<div>\n",
       "<style scoped>\n",
       "    .dataframe tbody tr th:only-of-type {\n",
       "        vertical-align: middle;\n",
       "    }\n",
       "\n",
       "    .dataframe tbody tr th {\n",
       "        vertical-align: top;\n",
       "    }\n",
       "\n",
       "    .dataframe thead th {\n",
       "        text-align: right;\n",
       "    }\n",
       "</style>\n",
       "<table border=\"1\" class=\"dataframe\">\n",
       "  <thead>\n",
       "    <tr style=\"text-align: right;\">\n",
       "      <th></th>\n",
       "      <th>stiffness</th>\n",
       "      <th>combination</th>\n",
       "      <th>well</th>\n",
       "      <th>site</th>\n",
       "      <th>channel</th>\n",
       "      <th>fluorophore</th>\n",
       "      <th>gain</th>\n",
       "      <th>offset</th>\n",
       "      <th>power</th>\n",
       "      <th>attenuation</th>\n",
       "      <th>pcf</th>\n",
       "      <th>zposition</th>\n",
       "      <th>zoffset</th>\n",
       "      <th>user</th>\n",
       "      <th>label</th>\n",
       "    </tr>\n",
       "  </thead>\n",
       "  <tbody>\n",
       "    <tr>\n",
       "      <th>0</th>\n",
       "      <td>0.2</td>\n",
       "      <td>B</td>\n",
       "      <td>A1</td>\n",
       "      <td>1</td>\n",
       "      <td>Ker</td>\n",
       "      <td>AF647</td>\n",
       "      <td>700</td>\n",
       "      <td>0</td>\n",
       "      <td>0.005</td>\n",
       "      <td>0.95</td>\n",
       "      <td>7679.330711</td>\n",
       "      <td>795.356</td>\n",
       "      <td>0.003333</td>\n",
       "      <td>44709390</td>\n",
       "      <td>0.2-B-A1-1</td>\n",
       "    </tr>\n",
       "    <tr>\n",
       "      <th>1</th>\n",
       "      <td>0.2</td>\n",
       "      <td>B</td>\n",
       "      <td>A1</td>\n",
       "      <td>1</td>\n",
       "      <td>Vim</td>\n",
       "      <td>AF568</td>\n",
       "      <td>680</td>\n",
       "      <td>0</td>\n",
       "      <td>0.020</td>\n",
       "      <td>0.95</td>\n",
       "      <td>7679.330711</td>\n",
       "      <td>795.356</td>\n",
       "      <td>0.003333</td>\n",
       "      <td>44709390</td>\n",
       "      <td>0.2-B-A1-1</td>\n",
       "    </tr>\n",
       "    <tr>\n",
       "      <th>2</th>\n",
       "      <td>0.2</td>\n",
       "      <td>B</td>\n",
       "      <td>A1</td>\n",
       "      <td>1</td>\n",
       "      <td>WGA</td>\n",
       "      <td>FITC</td>\n",
       "      <td>730</td>\n",
       "      <td>0</td>\n",
       "      <td>0.030</td>\n",
       "      <td>0.98</td>\n",
       "      <td>7679.330711</td>\n",
       "      <td>795.356</td>\n",
       "      <td>0.003333</td>\n",
       "      <td>44709390</td>\n",
       "      <td>0.2-B-A1-1</td>\n",
       "    </tr>\n",
       "    <tr>\n",
       "      <th>3</th>\n",
       "      <td>0.2</td>\n",
       "      <td>B</td>\n",
       "      <td>A1</td>\n",
       "      <td>1</td>\n",
       "      <td>DAPI</td>\n",
       "      <td>DAPI</td>\n",
       "      <td>550</td>\n",
       "      <td>0</td>\n",
       "      <td>0.024</td>\n",
       "      <td>0.98</td>\n",
       "      <td>7679.330711</td>\n",
       "      <td>795.356</td>\n",
       "      <td>0.003333</td>\n",
       "      <td>44709390</td>\n",
       "      <td>0.2-B-A1-1</td>\n",
       "    </tr>\n",
       "    <tr>\n",
       "      <th>4</th>\n",
       "      <td>0.2</td>\n",
       "      <td>B</td>\n",
       "      <td>A1</td>\n",
       "      <td>2</td>\n",
       "      <td>Ker</td>\n",
       "      <td>AF647</td>\n",
       "      <td>700</td>\n",
       "      <td>0</td>\n",
       "      <td>0.005</td>\n",
       "      <td>0.95</td>\n",
       "      <td>7679.330711</td>\n",
       "      <td>795.272</td>\n",
       "      <td>0.003332</td>\n",
       "      <td>44709390</td>\n",
       "      <td>0.2-B-A1-2</td>\n",
       "    </tr>\n",
       "  </tbody>\n",
       "</table>\n",
       "</div>"
      ],
      "text/plain": [
       "  stiffness combination well site channel fluorophore  gain  offset  power  \\\n",
       "0       0.2           B   A1    1     Ker       AF647   700       0  0.005   \n",
       "1       0.2           B   A1    1     Vim       AF568   680       0  0.020   \n",
       "2       0.2           B   A1    1     WGA        FITC   730       0  0.030   \n",
       "3       0.2           B   A1    1    DAPI        DAPI   550       0  0.024   \n",
       "4       0.2           B   A1    2     Ker       AF647   700       0  0.005   \n",
       "\n",
       "   attenuation          pcf  zposition   zoffset      user       label  \n",
       "0         0.95  7679.330711    795.356  0.003333  44709390  0.2-B-A1-1  \n",
       "1         0.95  7679.330711    795.356  0.003333  44709390  0.2-B-A1-1  \n",
       "2         0.98  7679.330711    795.356  0.003333  44709390  0.2-B-A1-1  \n",
       "3         0.98  7679.330711    795.356  0.003333  44709390  0.2-B-A1-1  \n",
       "4         0.95  7679.330711    795.272  0.003332  44709390  0.2-B-A1-2  "
      ]
     },
     "execution_count": 3,
     "metadata": {},
     "output_type": "execute_result"
    }
   ],
   "source": [
    "# Load metadata\n",
    "metadata = proc.load_data(\"Metadata.csv\", data_path=DATA_PATH)\n",
    "\n",
    "# Rename columns to lower case\n",
    "metadata.rename(str.lower, axis='columns', inplace=True)\n",
    "\n",
    "# Create label\n",
    "metadata = proc.create_label(metadata, per_cell=False)\n",
    "\n",
    "# Add a column with corresponding channel (COMBINATION B!!!)\n",
    "channels = {'DAPI' : 'DAPI', 'FITC' : 'WGA', 'AF568' : 'Vim', 'AF647' : 'Ker'}\n",
    "metadata['channel'] = metadata.fluorophore.map(channels)\n",
    "\n",
    "metadata.head()"
   ]
  },
  {
   "cell_type": "markdown",
   "metadata": {},
   "source": [
    "# Background signal vs gain"
   ]
  },
  {
   "cell_type": "code",
   "execution_count": 4,
   "metadata": {},
   "outputs": [
    {
     "name": "stdout",
     "output_type": "stream",
     "text": [
      "(292, 18)\n"
     ]
    },
    {
     "data": {
      "text/html": [
       "<div>\n",
       "<style scoped>\n",
       "    .dataframe tbody tr th:only-of-type {\n",
       "        vertical-align: middle;\n",
       "    }\n",
       "\n",
       "    .dataframe tbody tr th {\n",
       "        vertical-align: top;\n",
       "    }\n",
       "\n",
       "    .dataframe thead th {\n",
       "        text-align: right;\n",
       "    }\n",
       "</style>\n",
       "<table border=\"1\" class=\"dataframe\">\n",
       "  <thead>\n",
       "    <tr style=\"text-align: right;\">\n",
       "      <th></th>\n",
       "      <th>channel</th>\n",
       "      <th>bg_mean</th>\n",
       "      <th>bg_median</th>\n",
       "      <th>bg_sdt</th>\n",
       "      <th>stiffness</th>\n",
       "      <th>combination</th>\n",
       "      <th>well</th>\n",
       "      <th>site</th>\n",
       "      <th>fluorophore</th>\n",
       "      <th>label</th>\n",
       "      <th>gain</th>\n",
       "      <th>offset</th>\n",
       "      <th>power</th>\n",
       "      <th>attenuation</th>\n",
       "      <th>pcf</th>\n",
       "      <th>zposition</th>\n",
       "      <th>zoffset</th>\n",
       "      <th>user</th>\n",
       "    </tr>\n",
       "  </thead>\n",
       "  <tbody>\n",
       "    <tr>\n",
       "      <th>0</th>\n",
       "      <td>WGA</td>\n",
       "      <td>268.314</td>\n",
       "      <td>272</td>\n",
       "      <td>52.462</td>\n",
       "      <td>0.2</td>\n",
       "      <td>B</td>\n",
       "      <td>A1</td>\n",
       "      <td>1</td>\n",
       "      <td>FITC</td>\n",
       "      <td>0.2-B-A1-1</td>\n",
       "      <td>730</td>\n",
       "      <td>0</td>\n",
       "      <td>0.030</td>\n",
       "      <td>0.98</td>\n",
       "      <td>7679.330711</td>\n",
       "      <td>795.356</td>\n",
       "      <td>0.003333</td>\n",
       "      <td>44709390</td>\n",
       "    </tr>\n",
       "    <tr>\n",
       "      <th>1</th>\n",
       "      <td>DAPI</td>\n",
       "      <td>48.874</td>\n",
       "      <td>49</td>\n",
       "      <td>2.755</td>\n",
       "      <td>0.2</td>\n",
       "      <td>B</td>\n",
       "      <td>A1</td>\n",
       "      <td>1</td>\n",
       "      <td>DAPI</td>\n",
       "      <td>0.2-B-A1-1</td>\n",
       "      <td>550</td>\n",
       "      <td>0</td>\n",
       "      <td>0.024</td>\n",
       "      <td>0.98</td>\n",
       "      <td>7679.330711</td>\n",
       "      <td>795.356</td>\n",
       "      <td>0.003333</td>\n",
       "      <td>44709390</td>\n",
       "    </tr>\n",
       "    <tr>\n",
       "      <th>2</th>\n",
       "      <td>Vim</td>\n",
       "      <td>102.633</td>\n",
       "      <td>101</td>\n",
       "      <td>11.028</td>\n",
       "      <td>0.2</td>\n",
       "      <td>B</td>\n",
       "      <td>A1</td>\n",
       "      <td>1</td>\n",
       "      <td>AF568</td>\n",
       "      <td>0.2-B-A1-1</td>\n",
       "      <td>680</td>\n",
       "      <td>0</td>\n",
       "      <td>0.020</td>\n",
       "      <td>0.95</td>\n",
       "      <td>7679.330711</td>\n",
       "      <td>795.356</td>\n",
       "      <td>0.003333</td>\n",
       "      <td>44709390</td>\n",
       "    </tr>\n",
       "    <tr>\n",
       "      <th>3</th>\n",
       "      <td>Ker</td>\n",
       "      <td>89.640</td>\n",
       "      <td>87</td>\n",
       "      <td>11.788</td>\n",
       "      <td>0.2</td>\n",
       "      <td>B</td>\n",
       "      <td>A1</td>\n",
       "      <td>1</td>\n",
       "      <td>AF647</td>\n",
       "      <td>0.2-B-A1-1</td>\n",
       "      <td>700</td>\n",
       "      <td>0</td>\n",
       "      <td>0.005</td>\n",
       "      <td>0.95</td>\n",
       "      <td>7679.330711</td>\n",
       "      <td>795.356</td>\n",
       "      <td>0.003333</td>\n",
       "      <td>44709390</td>\n",
       "    </tr>\n",
       "    <tr>\n",
       "      <th>4</th>\n",
       "      <td>WGA</td>\n",
       "      <td>252.484</td>\n",
       "      <td>245</td>\n",
       "      <td>57.304</td>\n",
       "      <td>0.2</td>\n",
       "      <td>B</td>\n",
       "      <td>A1</td>\n",
       "      <td>2</td>\n",
       "      <td>FITC</td>\n",
       "      <td>0.2-B-A1-2</td>\n",
       "      <td>730</td>\n",
       "      <td>0</td>\n",
       "      <td>0.030</td>\n",
       "      <td>0.98</td>\n",
       "      <td>7679.330711</td>\n",
       "      <td>795.272</td>\n",
       "      <td>0.003332</td>\n",
       "      <td>44709390</td>\n",
       "    </tr>\n",
       "  </tbody>\n",
       "</table>\n",
       "</div>"
      ],
      "text/plain": [
       "  channel  bg_mean  bg_median  bg_sdt stiffness combination well site  \\\n",
       "0     WGA  268.314        272  52.462       0.2           B   A1    1   \n",
       "1    DAPI   48.874         49   2.755       0.2           B   A1    1   \n",
       "2     Vim  102.633        101  11.028       0.2           B   A1    1   \n",
       "3     Ker   89.640         87  11.788       0.2           B   A1    1   \n",
       "4     WGA  252.484        245  57.304       0.2           B   A1    2   \n",
       "\n",
       "  fluorophore       label  gain  offset  power  attenuation          pcf  \\\n",
       "0        FITC  0.2-B-A1-1   730       0  0.030         0.98  7679.330711   \n",
       "1        DAPI  0.2-B-A1-1   550       0  0.024         0.98  7679.330711   \n",
       "2       AF568  0.2-B-A1-1   680       0  0.020         0.95  7679.330711   \n",
       "3       AF647  0.2-B-A1-1   700       0  0.005         0.95  7679.330711   \n",
       "4        FITC  0.2-B-A1-2   730       0  0.030         0.98  7679.330711   \n",
       "\n",
       "   zposition   zoffset      user  \n",
       "0    795.356  0.003333  44709390  \n",
       "1    795.356  0.003333  44709390  \n",
       "2    795.356  0.003333  44709390  \n",
       "3    795.356  0.003333  44709390  \n",
       "4    795.272  0.003332  44709390  "
      ]
     },
     "execution_count": 4,
     "metadata": {},
     "output_type": "execute_result"
    }
   ],
   "source": [
    "cols = ['label', 'stiffness', 'combination', 'well', 'site', 'channel', 'fluorophore']\n",
    "df = pd.merge(bg, metadata, on=cols)\n",
    "print(df.shape)\n",
    "df.head()"
   ]
  },
  {
   "cell_type": "code",
   "execution_count": 5,
   "metadata": {},
   "outputs": [
    {
     "data": {
      "image/png": "[encoded data removed]",
      "text/plain": [
       "<Figure size 1066x1008 with 4 Axes>"
      ]
     },
     "metadata": {},
     "output_type": "display_data"
    }
   ],
   "source": [
    "sns.lmplot(x='gain', y='bg_median', data=df, \n",
    "           col='channel', hue='stiffness', \n",
    "           sharex=False, sharey=False, \n",
    "           col_wrap=2, height=7, fit_reg=False);"
   ]
  },
  {
   "cell_type": "code",
   "execution_count": 6,
   "metadata": {},
   "outputs": [
    {
     "data": {
      "image/png": "[encoded data removed]",
      "text/plain": [
       "<Figure size 1080x360 with 1 Axes>"
      ]
     },
     "metadata": {},
     "output_type": "display_data"
    }
   ],
   "source": [
    "df.loc[df.channel == 'Vim'].boxplot(by='stiffness', column='bg_median', showfliers=False);"
   ]
  },
  {
   "cell_type": "markdown",
   "metadata": {},
   "source": [
    "# Normalise images"
   ]
  },
  {
   "cell_type": "code",
   "execution_count": 7,
   "metadata": {
    "collapsed": true
   },
   "outputs": [],
   "source": [
    "# Load one image at a time\n",
    "# Create image label\n",
    "# Find corresponding bg_median in df dataframe\n",
    "# Divide every pixel by this value\n",
    "# Convert to unsigned int ??\n",
    "# Save image as tiff without any transformations\n",
    "\n",
    "# coeff2 = dict(df.groupby('channel').bg_median.max())\n",
    "# multiplier = dict(df.groupby('channel').bg_median.max() / df.groupby('channel').mmax.max() * 65535)\n",
    "coeff2 = dict(df.groupby('channel').bg_median.min())\n",
    "\n",
    "for s in (\"0.2\", \"0.5\", \"2\", \"8\", \"16\", \"32\", \"64\"):\n",
    "    # Combination B\n",
    "    c = 'B'\n",
    "    s = str(float(s))\n",
    "    \n",
    "    # List of images in the folder\n",
    "    image_path = os.path.join(TIFF_PATH, 'Cytosoft ' + s + ' kPa/Combination ' + c)\n",
    "    os.chdir(image_path)\n",
    "    filenames = glob.glob(\"*.tif\")\n",
    "    \n",
    "    # Only the original images\n",
    "    originals = [name for name in filenames if len(name) < 14]\n",
    "    for original in originals:\n",
    "        w, t, channel = original.split('.')[0].split('-')\n",
    "        label = \"-\".join([s, c, w, t])\n",
    "        coeff1 = df.loc[(df.label == label) & (df.channel == channel), 'bg_median'].values\n",
    "        \n",
    "        image = plt.imread(original)\n",
    "        \n",
    "#         df.loc[(df.label == label) & (df.channel == channel), 'imin'] = image.min().min()\n",
    "#         df.loc[(df.label == label) & (df.channel == channel), 'imax'] = image.max().max()\n",
    "#         df.loc[(df.label == label) & (df.channel == channel), 'iunique'] = np.unique(image).shape[0]\n",
    "        \n",
    "        image_corr = image / coeff1\n",
    "        \n",
    "#         df.loc[(df.label == label) & (df.channel == channel), 'cmin'] = image_corr.min().min()\n",
    "#         df.loc[(df.label == label) & (df.channel == channel), 'cmax'] = image_corr.max().max()\n",
    "#         df.loc[(df.label == label) & (df.channel == channel), 'cunique'] = np.unique(image_corr).shape[0]\n",
    "        \n",
    "        image_corr = image_corr * coeff2[channel]        \n",
    "#         df.loc[(df.label == label) & (df.channel == channel), 'mmin'] = image_corr.min().min()\n",
    "#         df.loc[(df.label == label) & (df.channel == channel), 'mmax'] = image_corr.max().max()\n",
    "#         df.loc[(df.label == label) & (df.channel == channel), 'munique'] = np.unique(image_corr).shape[0]\n",
    "        \n",
    "        \n",
    "        image_corr = np.uint16(image_corr)\n",
    "        im = Image.fromarray(image_corr)\n",
    "        im.save(\"-\".join([w, t, channel, \"normbg\"]) + \".tif\")"
   ]
  },
  {
   "cell_type": "code",
   "execution_count": null,
   "metadata": {
    "collapsed": true
   },
   "outputs": [],
   "source": [
    "df.loc[df.channel == 'Vim'].boxplot(by='stiffness', column='imax', showfliers=False);"
   ]
  },
  {
   "cell_type": "code",
   "execution_count": null,
   "metadata": {
    "collapsed": true
   },
   "outputs": [],
   "source": [
    "df.loc[df.channel == 'Vim'].boxplot(by='stiffness', column='cmax', showfliers=False);"
   ]
  },
  {
   "cell_type": "code",
   "execution_count": null,
   "metadata": {
    "collapsed": true,
    "scrolled": false
   },
   "outputs": [],
   "source": [
    "df.loc[df.channel == 'Vim'].boxplot(by='stiffness', column='mmax', showfliers=False);"
   ]
  },
  {
   "cell_type": "code",
   "execution_count": null,
   "metadata": {
    "collapsed": true
   },
   "outputs": [],
   "source": [
    "df.groupby('channel').iunique.max(), df.groupby('channel').cunique.max(), df.groupby('channel').munique.max()"
   ]
  },
  {
   "cell_type": "code",
   "execution_count": null,
   "metadata": {
    "collapsed": true
   },
   "outputs": [],
   "source": [
    "100 - df.groupby('channel').munique.max() * 100 / df.groupby('channel').iunique.max()"
   ]
  },
  {
   "cell_type": "code",
   "execution_count": null,
   "metadata": {
    "collapsed": true
   },
   "outputs": [],
   "source": [
    "df.groupby('channel').mmax.max()"
   ]
  },
  {
   "cell_type": "code",
   "execution_count": null,
   "metadata": {
    "collapsed": true
   },
   "outputs": [],
   "source": [
    "df.groupby('channel').bg_median.max()"
   ]
  },
  {
   "cell_type": "code",
   "execution_count": null,
   "metadata": {
    "collapsed": true
   },
   "outputs": [],
   "source": [
    "df.groupby('channel').bg_median.min()"
   ]
  },
  {
   "cell_type": "code",
   "execution_count": null,
   "metadata": {
    "collapsed": true
   },
   "outputs": [],
   "source": [
    "df.groupby('channel').mmax.max() / 65535"
   ]
  },
  {
   "cell_type": "code",
   "execution_count": null,
   "metadata": {
    "collapsed": true
   },
   "outputs": [],
   "source": [
    "df.groupby('channel').bg_median.max() / df.groupby('channel').bg_median.min()"
   ]
  },
  {
   "cell_type": "code",
   "execution_count": null,
   "metadata": {
    "collapsed": true
   },
   "outputs": [],
   "source": [
    "df.groupby('channel').bg_median.max() / df.groupby('channel').mmax.max() * 65535"
   ]
  },
  {
   "cell_type": "code",
   "execution_count": null,
   "metadata": {
    "collapsed": true
   },
   "outputs": [],
   "source": [
    "# Save uint32 to .tif\n",
    "im = Image.fromarray(image_corr)\n",
    "im.save(\"-\".join([w, t, channel, \"tmp\"]) + \".tif\")"
   ]
  }
 ],
 "metadata": {
  "kernelspec": {
   "display_name": "Python 3",
   "language": "python",
   "name": "python3"
  },
  "language_info": {
   "codemirror_mode": {
    "name": "ipython",
    "version": 3
   },
   "file_extension": ".py",
   "mimetype": "text/x-python",
   "name": "python",
   "nbconvert_exporter": "python",
   "pygments_lexer": "ipython3",
   "version": "3.6.8"
  },
  "toc": {
   "base_numbering": 1,
   "nav_menu": {},
   "number_sections": true,
   "sideBar": true,
   "skip_h1_title": false,
   "title_cell": "Table of Contents",
   "title_sidebar": "Contents",
   "toc_cell": false,
   "toc_position": {},
   "toc_section_display": true,
   "toc_window_display": false
  }
 },
 "nbformat": 4,
 "nbformat_minor": 2
}
