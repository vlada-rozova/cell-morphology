{
 "cells": [
  {
   "cell_type": "code",
   "execution_count": 49,
   "metadata": {
    "collapsed": true
   },
   "outputs": [],
   "source": [
    "import os\n",
    "import os.path\n",
    "import glob\n",
    "import numpy as np\n",
    "import matplotlib.pyplot as plt\n",
    "\n",
    "% matplotlib inline\n",
    "\n",
    "plt.rcParams['figure.figsize'] = (5, 5)"
   ]
  },
  {
   "cell_type": "code",
   "execution_count": 50,
   "metadata": {
    "collapsed": true
   },
   "outputs": [],
   "source": [
    "def binarize(image):\n",
    "    return 0 * (image < 128) + 1 * (image >= 128)"
   ]
  },
  {
   "cell_type": "code",
   "execution_count": 51,
   "metadata": {
    "collapsed": true
   },
   "outputs": [],
   "source": [
    "def difference(path1, path2, list1, list2):\n",
    "    flag = 0\n",
    "    for i in range(len(originals)):\n",
    "        image1 = binarize(plt.imread(path1 + list1[i]))\n",
    "        image2 = binarize(plt.imread(path2 + list2[i]))\n",
    "        if sum(sum(image1 - image2)):\n",
    "            flag = 1\n",
    "            print(i)\n",
    "    if flag:\n",
    "        return False\n",
    "    else:  \n",
    "        return True"
   ]
  },
  {
   "cell_type": "markdown",
   "metadata": {},
   "source": [
    "### Check one pair of images"
   ]
  },
  {
   "cell_type": "code",
   "execution_count": 37,
   "metadata": {
    "collapsed": true
   },
   "outputs": [],
   "source": [
    "org_path = '/Users/vladarozova/Dropbox/New experiment/Images/tiff/Cytosoft 2 kPa/Combination B/'\n",
    "res_path = '/Users/vladarozova/Dropbox/New experiment/Analysis/cell-profiler/cellmasks/'\n",
    "\n",
    "originals = ['A1-5-WGA-mask.tif']\n",
    "results = ['cellmasks_39.jpeg']"
   ]
  },
  {
   "cell_type": "code",
   "execution_count": 38,
   "metadata": {},
   "outputs": [
    {
     "name": "stdout",
     "output_type": "stream",
     "text": [
      "0\n",
      "False\n"
     ]
    }
   ],
   "source": [
    "print(difference(org_path, res_path, originals, results))"
   ]
  },
  {
   "cell_type": "code",
   "execution_count": 39,
   "metadata": {
    "collapsed": true
   },
   "outputs": [],
   "source": [
    "N = 0\n",
    "original = binarize(plt.imread(org_path + originals[N]))\n",
    "result = binarize(plt.imread(res_path + results[N]))"
   ]
  },
  {
   "cell_type": "code",
   "execution_count": 40,
   "metadata": {},
   "outputs": [
    {
     "data": {
      "text/plain": [
       "(array([280, 280, 280, ..., 489, 489, 489]),\n",
       " array([ 62,  63,  64, ..., 369, 370, 371]))"
      ]
     },
     "execution_count": 40,
     "metadata": {},
     "output_type": "execute_result"
    }
   ],
   "source": [
    "diff = original - result\n",
    "x, y = diff.nonzero()\n",
    "x, y"
   ]
  },
  {
   "cell_type": "code",
   "execution_count": 41,
   "metadata": {},
   "outputs": [
    {
     "data": {
      "image/png": "[encoded data removed]",
      "text/plain": [
       "<Figure size 360x360 with 1 Axes>"
      ]
     },
     "metadata": {},
     "output_type": "display_data"
    }
   ],
   "source": [
    "# Plot the original\n",
    "plt.imshow(original); \n",
    "plt.scatter(y, x);"
   ]
  },
  {
   "cell_type": "code",
   "execution_count": 43,
   "metadata": {},
   "outputs": [
    {
     "data": {
      "image/png": "[encoded data removed]",
      "text/plain": [
       "<Figure size 360x360 with 1 Axes>"
      ]
     },
     "metadata": {},
     "output_type": "display_data"
    }
   ],
   "source": [
    "# Plot cell profiler output\n",
    "plt.imshow(result);\n",
    "plt.scatter(y, x);"
   ]
  },
  {
   "cell_type": "markdown",
   "metadata": {},
   "source": [
    "### Load Cell Profiler results"
   ]
  },
  {
   "cell_type": "code",
   "execution_count": 52,
   "metadata": {
    "collapsed": true
   },
   "outputs": [],
   "source": [
    "# Path to cell profiler results\n",
    "res_path = '/Users/vladarozova/Dropbox/New experiment/Analysis/cell-profiler/cellmasks/'\n",
    "\n",
    "# List of Cell Profiler results\n",
    "os.chdir(res_path)\n",
    "results = glob.glob('*.jpeg')\n",
    "\n",
    "# Sort the list\n",
    "results.sort()"
   ]
  },
  {
   "cell_type": "markdown",
   "metadata": {},
   "source": [
    "### Compare the results against the originals"
   ]
  },
  {
   "cell_type": "code",
   "execution_count": 53,
   "metadata": {},
   "outputs": [
    {
     "name": "stdout",
     "output_type": "stream",
     "text": [
      "Stiffness 0.2 kPa. All the images are pairwise equal.\n",
      "Stiffness 0.5 kPa. All the images are pairwise equal.\n",
      "Stiffness 16 kPa. All the images are pairwise equal.\n",
      "Stiffness 2 kPa. All the images are pairwise equal.\n",
      "Stiffness 32 kPa. All the images are pairwise equal.\n",
      "Stiffness 64 kPa. All the images are pairwise equal.\n",
      "Stiffness 8 kPa. All the images are pairwise equal.\n"
     ]
    }
   ],
   "source": [
    "stiffness = [\"0.2\", \"0.5\", \"16\", \"2\", \"32\", \"64\", \"8\"]\n",
    "\n",
    "n0 = 0\n",
    "\n",
    "for s in stiffness:\n",
    "    originals = []\n",
    "    \n",
    "    org_path = '/Users/vladarozova/Dropbox/New experiment/Images/tiff/Cytosoft ' + s + ' kPa/Combination B/'\n",
    "    \n",
    "    # List of original masks\n",
    "    os.chdir(org_path)\n",
    "    originals = glob.glob('*WGA-mask.tif')\n",
    "    \n",
    "    # Sort the list\n",
    "    originals.sort()\n",
    "    \n",
    "    # Number of images\n",
    "    n = len(originals)\n",
    "    \n",
    "    if difference(org_path, res_path, originals, results[n0 : n0 + n]):\n",
    "        print(\"Stiffness {} kPa. All the images are pairwise equal.\".format(s))\n",
    "    else:\n",
    "        print(\"Check the masks!\") \n",
    "        \n",
    "    \n",
    "    n0 = n0 + n"
   ]
  },
  {
   "cell_type": "markdown",
   "metadata": {},
   "source": [
    "### Check the pairs that are not equal"
   ]
  },
  {
   "cell_type": "code",
   "execution_count": null,
   "metadata": {
    "collapsed": true
   },
   "outputs": [],
   "source": [
    "N = 4\n",
    "print(org_list[N])\n",
    "print(res_list[N])\n",
    "\n",
    "original = binarize(plt.imread(org_path + org_list[N]))\n",
    "result = binarize(plt.imread(res_path + res_list[N]))"
   ]
  },
  {
   "cell_type": "code",
   "execution_count": null,
   "metadata": {
    "collapsed": true
   },
   "outputs": [],
   "source": [
    "diff = original - result\n",
    "x, y = diff.nonzero()\n",
    "x, y"
   ]
  },
  {
   "cell_type": "code",
   "execution_count": null,
   "metadata": {
    "collapsed": true
   },
   "outputs": [],
   "source": [
    "# Plot the original\n",
    "plt.imshow(original); \n",
    "plt.scatter(y, x);"
   ]
  },
  {
   "cell_type": "code",
   "execution_count": null,
   "metadata": {
    "collapsed": true
   },
   "outputs": [],
   "source": [
    "# Plot cell profiler output\n",
    "plt.imshow(result);\n",
    "plt.scatter(y, x);"
   ]
  },
  {
   "cell_type": "code",
   "execution_count": null,
   "metadata": {
    "collapsed": true
   },
   "outputs": [],
   "source": [
    "print(diff.sum())\n",
    "plt.imshow(diff);\n",
    "plt.scatter(y, x);"
   ]
  },
  {
   "cell_type": "code",
   "execution_count": null,
   "metadata": {
    "collapsed": true
   },
   "outputs": [],
   "source": [
    "original[x, y]"
   ]
  },
  {
   "cell_type": "code",
   "execution_count": null,
   "metadata": {
    "collapsed": true
   },
   "outputs": [],
   "source": [
    "result[x, y]"
   ]
  },
  {
   "cell_type": "code",
   "execution_count": null,
   "metadata": {
    "collapsed": true
   },
   "outputs": [],
   "source": [
    "x_lower = x.min() - 5\n",
    "x_upper = x.max() + 5\n",
    "y_lower = y.min() - 5\n",
    "y_upper = y.max() + 5"
   ]
  },
  {
   "cell_type": "code",
   "execution_count": null,
   "metadata": {
    "collapsed": true
   },
   "outputs": [],
   "source": [
    "plt.imshow(original[x_lower : x_upper, y_lower : y_upper]);"
   ]
  },
  {
   "cell_type": "code",
   "execution_count": null,
   "metadata": {
    "collapsed": true
   },
   "outputs": [],
   "source": [
    "plt.imshow(result[x_lower : x_upper, y_lower : y_upper]);"
   ]
  },
  {
   "cell_type": "code",
   "execution_count": null,
   "metadata": {
    "collapsed": true
   },
   "outputs": [],
   "source": [
    "plt.imshow(diff[x_lower : x_upper, y_lower : y_upper]);"
   ]
  },
  {
   "cell_type": "code",
   "execution_count": null,
   "metadata": {
    "collapsed": true
   },
   "outputs": [],
   "source": []
  }
 ],
 "metadata": {
  "kernelspec": {
   "display_name": "Python 3",
   "language": "python",
   "name": "python3"
  },
  "language_info": {
   "codemirror_mode": {
    "name": "ipython",
    "version": 3
   },
   "file_extension": ".py",
   "mimetype": "text/x-python",
   "name": "python",
   "nbconvert_exporter": "python",
   "pygments_lexer": "ipython3",
   "version": "3.6.8"
  },
  "toc": {
   "base_numbering": 1,
   "nav_menu": {},
   "number_sections": true,
   "sideBar": true,
   "skip_h1_title": false,
   "title_cell": "Table of Contents",
   "title_sidebar": "Contents",
   "toc_cell": false,
   "toc_position": {},
   "toc_section_display": true,
   "toc_window_display": false
  }
 },
 "nbformat": 4,
 "nbformat_minor": 2
}
