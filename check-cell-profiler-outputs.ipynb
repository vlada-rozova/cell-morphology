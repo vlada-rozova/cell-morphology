{
 "cells": [
  {
   "cell_type": "code",
   "execution_count": 4,
   "metadata": {
    "collapsed": true
   },
   "outputs": [],
   "source": [
    "import os\n",
    "import os.path\n",
    "import glob\n",
    "import numpy as np\n",
    "import matplotlib.pyplot as plt\n",
    "\n",
    "% matplotlib inline\n",
    "\n",
    "plt.rcParams['figure.figsize'] = (5, 5)"
   ]
  },
  {
   "cell_type": "code",
   "execution_count": 5,
   "metadata": {
    "collapsed": true
   },
   "outputs": [],
   "source": [
    "def binarize(image):\n",
    "    return 0 * (image < 128) + 1 * (image >= 128)"
   ]
  },
  {
   "cell_type": "code",
   "execution_count": 6,
   "metadata": {
    "collapsed": true
   },
   "outputs": [],
   "source": [
    "def difference(path1, path2, list1, list2):\n",
    "    flag = 0\n",
    "    for i in range(len(list1)):\n",
    "        image1 = binarize(plt.imread(path1 + list1[i]))\n",
    "        image2 = binarize(plt.imread(path2 + list2[i]))\n",
    "        if sum(sum(image1 - image2)):\n",
    "            flag = 1\n",
    "            print(i)\n",
    "    if flag:\n",
    "        return False\n",
    "    else:  \n",
    "        return True"
   ]
  },
  {
   "cell_type": "markdown",
   "metadata": {},
   "source": [
    "### Check one pair of images"
   ]
  },
  {
   "cell_type": "code",
   "execution_count": null,
   "metadata": {
    "collapsed": true
   },
   "outputs": [],
   "source": [
    "org_path = '/Users/vladarozova/Dropbox/New experiment/Images/tiff/Cytosoft 2 kPa/Combination B/'\n",
    "res_path = '/Users/vladarozova/Dropbox/New experiment/Analysis/cell-profiler/cellmasks/'\n",
    "\n",
    "originals = ['A1-5-WGA-mask.tif']\n",
    "results = ['cellmasks_39.jpeg']"
   ]
  },
  {
   "cell_type": "code",
   "execution_count": null,
   "metadata": {},
   "outputs": [],
   "source": [
    "print(difference(org_path, res_path, originals, results))"
   ]
  },
  {
   "cell_type": "code",
   "execution_count": null,
   "metadata": {
    "collapsed": true
   },
   "outputs": [],
   "source": [
    "N = 0\n",
    "original = binarize(plt.imread(org_path + originals[N]))\n",
    "result = binarize(plt.imread(res_path + results[N]))"
   ]
  },
  {
   "cell_type": "code",
   "execution_count": null,
   "metadata": {},
   "outputs": [],
   "source": [
    "diff = original - result\n",
    "x, y = diff.nonzero()\n",
    "x, y"
   ]
  },
  {
   "cell_type": "code",
   "execution_count": null,
   "metadata": {},
   "outputs": [],
   "source": [
    "# Plot the original\n",
    "plt.imshow(original); \n",
    "plt.scatter(y, x);"
   ]
  },
  {
   "cell_type": "code",
   "execution_count": null,
   "metadata": {},
   "outputs": [],
   "source": [
    "# Plot cell profiler output\n",
    "plt.imshow(result);\n",
    "plt.scatter(y, x);"
   ]
  },
  {
   "cell_type": "markdown",
   "metadata": {},
   "source": [
    "### Compare the results against the originals"
   ]
  },
  {
   "cell_type": "markdown",
   "metadata": {},
   "source": [
    "#### Load Cell Profiler results"
   ]
  },
  {
   "cell_type": "code",
   "execution_count": null,
   "metadata": {
    "collapsed": true
   },
   "outputs": [],
   "source": [
    "# Path to cell profiler results\n",
    "res_path = '/Users/vladarozova/Dropbox/New experiment/Analysis/cell-profiler/cellmasks/'\n",
    "\n",
    "# List of Cell Profiler results\n",
    "os.chdir(res_path)\n",
    "results = glob.glob('*.jpeg')\n",
    "\n",
    "# Sort the list\n",
    "results.sort()"
   ]
  },
  {
   "cell_type": "markdown",
   "metadata": {},
   "source": [
    "#### Compare"
   ]
  },
  {
   "cell_type": "code",
   "execution_count": null,
   "metadata": {},
   "outputs": [],
   "source": [
    "stiffness = [\"0.2\", \"0.5\", \"16\", \"2\", \"32\", \"64\", \"8\"]\n",
    "\n",
    "n0 = 0\n",
    "\n",
    "for s in stiffness:\n",
    "    originals = []\n",
    "    \n",
    "    org_path = '/Users/vladarozova/Dropbox/New experiment/Images/tiff/Cytosoft ' + s + ' kPa/Combination B/'\n",
    "    \n",
    "    # List of original masks\n",
    "    os.chdir(org_path)\n",
    "    originals = glob.glob('*WGA-mask.tif')\n",
    "    \n",
    "    # Sort the list\n",
    "    originals.sort()\n",
    "    \n",
    "    # Number of images\n",
    "    n = len(originals)\n",
    "    \n",
    "    if difference(org_path, res_path, originals, results[n0 : n0 + n]):\n",
    "        print(\"Stiffness {} kPa. All the images are pairwise equal.\".format(s))\n",
    "    else:\n",
    "        print(\"Check the masks!\") \n",
    "        \n",
    "    \n",
    "    n0 = n0 + n"
   ]
  },
  {
   "cell_type": "markdown",
   "metadata": {},
   "source": [
    "### Compare cell profiler outputs"
   ]
  },
  {
   "cell_type": "code",
   "execution_count": 19,
   "metadata": {
    "collapsed": true
   },
   "outputs": [],
   "source": [
    "# Path to cell profiler results\n",
    "res_path = '/Users/vladarozova/Dropbox/New experiment/Analysis/cell-profiler/cellmasks/'\n",
    "\n",
    "# Lists of Cell Profiler results\n",
    "os.chdir(res_path)\n",
    "list1 = glob.glob('cellmasks1*')\n",
    "list2 = glob.glob('cellmasks2*')\n",
    "\n",
    "# Sort the lists\n",
    "list1.sort()\n",
    "list2.sort()"
   ]
  },
  {
   "cell_type": "code",
   "execution_count": 20,
   "metadata": {},
   "outputs": [
    {
     "name": "stdout",
     "output_type": "stream",
     "text": [
      "38\n",
      "58\n",
      "False\n"
     ]
    }
   ],
   "source": [
    "print(difference(res_path, res_path, list1, list2))"
   ]
  },
  {
   "cell_type": "markdown",
   "metadata": {},
   "source": [
    "### Check the pairs that are not equal"
   ]
  },
  {
   "cell_type": "code",
   "execution_count": 21,
   "metadata": {
    "collapsed": true
   },
   "outputs": [],
   "source": [
    "org_path = res_path\n",
    "org_list = list1\n",
    "res_list = list2"
   ]
  },
  {
   "cell_type": "code",
   "execution_count": 22,
   "metadata": {},
   "outputs": [
    {
     "name": "stdout",
     "output_type": "stream",
     "text": [
      "cellmasks1_65.jpeg\n",
      "cellmasks2_65.jpeg\n"
     ]
    }
   ],
   "source": [
    "N = 64\n",
    "print(org_list[N])\n",
    "print(res_list[N])\n",
    "\n",
    "original = binarize(plt.imread(org_path + org_list[N]))\n",
    "result = binarize(plt.imread(res_path + res_list[N]))"
   ]
  },
  {
   "cell_type": "code",
   "execution_count": 16,
   "metadata": {},
   "outputs": [
    {
     "data": {
      "text/plain": [
       "(array([302, 302, 302, 303, 303, 305, 306, 306, 307, 496, 497, 498, 499,\n",
       "        500, 500, 500, 500, 501, 501, 502, 502, 502, 502, 503, 503, 503,\n",
       "        504, 504, 504, 504, 505, 505, 505, 506, 506, 507, 507, 507, 508,\n",
       "        508, 508, 508, 508, 509, 509, 509, 509, 509, 509, 510, 510, 510,\n",
       "        510, 510, 510, 510, 510, 511, 511, 512, 512, 513, 513, 514, 514,\n",
       "        515, 516, 516, 517, 517, 518, 518, 518, 518, 519, 519, 520, 520,\n",
       "        520, 521, 521, 521, 522, 523, 524, 524, 525]),\n",
       " array([193, 194, 195, 192, 193, 184, 183, 184, 183, 714, 714, 714, 714,\n",
       "        711, 712, 713, 714, 711, 713, 708, 709, 710, 711, 706, 707, 708,\n",
       "        703, 704, 705, 706, 701, 702, 703, 700, 701, 689, 699, 700, 689,\n",
       "        690, 691, 692, 699, 408, 692, 693, 694, 698, 699, 406, 407, 408,\n",
       "        694, 695, 696, 697, 698, 405, 406, 404, 405, 403, 404, 402, 403,\n",
       "        402, 401, 402, 400, 401, 397, 398, 399, 400, 396, 397, 394, 395,\n",
       "        396, 392, 393, 394, 391, 389, 386, 387, 381]))"
      ]
     },
     "execution_count": 16,
     "metadata": {},
     "output_type": "execute_result"
    }
   ],
   "source": [
    "diff = original - result\n",
    "x, y = diff.nonzero()\n",
    "x, y"
   ]
  },
  {
   "cell_type": "code",
   "execution_count": 23,
   "metadata": {},
   "outputs": [
    {
     "data": {
      "image/png": "[encoded data removed]",
      "text/plain": [
       "<Figure size 360x360 with 1 Axes>"
      ]
     },
     "metadata": {},
     "output_type": "display_data"
    }
   ],
   "source": [
    "# Plot the original\n",
    "plt.imshow(original); \n",
    "plt.scatter(y, x);"
   ]
  },
  {
   "cell_type": "code",
   "execution_count": null,
   "metadata": {
    "collapsed": true
   },
   "outputs": [],
   "source": [
    "# Plot cell profiler output\n",
    "plt.imshow(result);\n",
    "plt.scatter(y, x);"
   ]
  },
  {
   "cell_type": "code",
   "execution_count": null,
   "metadata": {
    "collapsed": true
   },
   "outputs": [],
   "source": [
    "print(diff.sum())\n",
    "plt.imshow(diff);\n",
    "plt.scatter(y, x);"
   ]
  },
  {
   "cell_type": "code",
   "execution_count": null,
   "metadata": {
    "collapsed": true
   },
   "outputs": [],
   "source": [
    "original[x, y]"
   ]
  },
  {
   "cell_type": "code",
   "execution_count": null,
   "metadata": {
    "collapsed": true
   },
   "outputs": [],
   "source": [
    "result[x, y]"
   ]
  },
  {
   "cell_type": "code",
   "execution_count": null,
   "metadata": {
    "collapsed": true
   },
   "outputs": [],
   "source": [
    "x_lower = x.min() - 5\n",
    "x_upper = x.max() + 5\n",
    "y_lower = y.min() - 5\n",
    "y_upper = y.max() + 5"
   ]
  },
  {
   "cell_type": "code",
   "execution_count": null,
   "metadata": {
    "collapsed": true
   },
   "outputs": [],
   "source": [
    "plt.imshow(original[x_lower : x_upper, y_lower : y_upper]);"
   ]
  },
  {
   "cell_type": "code",
   "execution_count": null,
   "metadata": {
    "collapsed": true
   },
   "outputs": [],
   "source": [
    "plt.imshow(result[x_lower : x_upper, y_lower : y_upper]);"
   ]
  },
  {
   "cell_type": "code",
   "execution_count": null,
   "metadata": {
    "collapsed": true
   },
   "outputs": [],
   "source": [
    "plt.imshow(diff[x_lower : x_upper, y_lower : y_upper]);"
   ]
  },
  {
   "cell_type": "markdown",
   "metadata": {
    "collapsed": true
   },
   "source": [
    "### Check an image"
   ]
  },
  {
   "cell_type": "code",
   "execution_count": 28,
   "metadata": {},
   "outputs": [
    {
     "data": {
      "image/png": "[encoded data removed]",
      "text/plain": [
       "<Figure size 360x360 with 1 Axes>"
      ]
     },
     "metadata": {},
     "output_type": "display_data"
    }
   ],
   "source": [
    "path = '/Users/vladarozova/Dropbox/New experiment/Images/tiff/Cytosoft 64 kPa/Combination B/'\n",
    "name = 'A1-2-WGA-mask.tif'\n",
    "image = plt.imread(path + name)\n",
    "\n",
    "plt.imshow(image); \n",
    "plt.scatter(691, 427);"
   ]
  },
  {
   "cell_type": "code",
   "execution_count": null,
   "metadata": {
    "collapsed": true
   },
   "outputs": [],
   "source": []
  }
 ],
 "metadata": {
  "kernelspec": {
   "display_name": "Python 3",
   "language": "python",
   "name": "python3"
  },
  "language_info": {
   "codemirror_mode": {
    "name": "ipython",
    "version": 3
   },
   "file_extension": ".py",
   "mimetype": "text/x-python",
   "name": "python",
   "nbconvert_exporter": "python",
   "pygments_lexer": "ipython3",
   "version": "3.6.8"
  },
  "toc": {
   "base_numbering": 1,
   "nav_menu": {},
   "number_sections": true,
   "sideBar": true,
   "skip_h1_title": false,
   "title_cell": "Table of Contents",
   "title_sidebar": "Contents",
   "toc_cell": false,
   "toc_position": {},
   "toc_section_display": true,
   "toc_window_display": false
  }
 },
 "nbformat": 4,
 "nbformat_minor": 2
}
