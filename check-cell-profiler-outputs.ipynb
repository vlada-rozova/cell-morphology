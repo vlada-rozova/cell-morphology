{
 "cells": [
  {
   "cell_type": "code",
   "execution_count": 1,
   "metadata": {
    "collapsed": true
   },
   "outputs": [],
   "source": [
    "import os\n",
    "import os.path\n",
    "import glob\n",
    "import cv2\n",
    "import numpy as np\n",
    "import matplotlib.pyplot as plt\n",
    "\n",
    "% matplotlib inline\n",
    "\n",
    "plt.rcParams['figure.figsize'] = (5, 5)"
   ]
  },
  {
   "cell_type": "code",
   "execution_count": null,
   "metadata": {
    "collapsed": true
   },
   "outputs": [],
   "source": [
    "def binarize(image):\n",
    "    return 0 * (image < 128) + 1 * (image >= 128)"
   ]
  },
  {
   "cell_type": "code",
   "execution_count": null,
   "metadata": {
    "collapsed": true
   },
   "outputs": [],
   "source": [
    "def difference(path1, path2, list1, list2):\n",
    "    flag = 0\n",
    "    for i in range(len(list1)):\n",
    "        image1 = binarize(plt.imread(path1 + list1[i]))\n",
    "        image2 = binarize(plt.imread(path2 + list2[i]))\n",
    "        if sum(sum(image1 - image2)):\n",
    "            flag = 1\n",
    "            print(i)\n",
    "    if flag:\n",
    "        return False\n",
    "    else:  \n",
    "        return True"
   ]
  },
  {
   "cell_type": "markdown",
   "metadata": {},
   "source": [
    "### Check one pair of images"
   ]
  },
  {
   "cell_type": "code",
   "execution_count": null,
   "metadata": {
    "collapsed": true
   },
   "outputs": [],
   "source": [
    "org_path = '/Users/vladarozova/Dropbox/New experiment/Images/tiff/Cytosoft 2 kPa/Combination B/'\n",
    "res_path = '/Users/vladarozova/Dropbox/New experiment/Analysis/cell-profiler/cellmasks/'\n",
    "\n",
    "originals = ['A1-5-WGA-mask.tif']\n",
    "results = ['cellmasks_39.jpeg']"
   ]
  },
  {
   "cell_type": "code",
   "execution_count": null,
   "metadata": {
    "collapsed": true
   },
   "outputs": [],
   "source": [
    "print(difference(org_path, res_path, originals, results))"
   ]
  },
  {
   "cell_type": "code",
   "execution_count": null,
   "metadata": {
    "collapsed": true
   },
   "outputs": [],
   "source": [
    "N = 0\n",
    "original = binarize(plt.imread(org_path + originals[N]))\n",
    "result = binarize(plt.imread(res_path + results[N]))"
   ]
  },
  {
   "cell_type": "code",
   "execution_count": null,
   "metadata": {
    "collapsed": true
   },
   "outputs": [],
   "source": [
    "diff = original - result\n",
    "x, y = diff.nonzero()\n",
    "x, y"
   ]
  },
  {
   "cell_type": "code",
   "execution_count": null,
   "metadata": {
    "collapsed": true
   },
   "outputs": [],
   "source": [
    "# Plot the original\n",
    "plt.imshow(original); \n",
    "plt.scatter(y, x);"
   ]
  },
  {
   "cell_type": "code",
   "execution_count": null,
   "metadata": {
    "collapsed": true
   },
   "outputs": [],
   "source": [
    "# Plot cell profiler output\n",
    "plt.imshow(result);\n",
    "plt.scatter(y, x);"
   ]
  },
  {
   "cell_type": "markdown",
   "metadata": {},
   "source": [
    "### Compare the results against the originals"
   ]
  },
  {
   "cell_type": "markdown",
   "metadata": {},
   "source": [
    "** Settings **"
   ]
  },
  {
   "cell_type": "code",
   "execution_count": 55,
   "metadata": {
    "collapsed": true
   },
   "outputs": [],
   "source": [
    "def get_org_path(s, c):\n",
    "    return '../../Images/tiff/Cytosoft ' + s + ' kPa/Combination ' + c + '/'\n",
    "\n",
    "def get_res_path(s):\n",
    "    return '../cell-profiler/cellmasks/' + s + '/'"
   ]
  },
  {
   "cell_type": "code",
   "execution_count": 58,
   "metadata": {},
   "outputs": [],
   "source": [
    "def compare(list1, list2):\n",
    "    for i in range(len(list1)):\n",
    "        image1 = cv2.imread(list1[i])\n",
    "        image2 = cv2.imread(list2[i])\n",
    "        \n",
    "        if not (image1 == image2).all():\n",
    "            print(list1[i])\n",
    "            print(list2[i])"
   ]
  },
  {
   "cell_type": "code",
   "execution_count": 60,
   "metadata": {},
   "outputs": [
    {
     "name": "stdout",
     "output_type": "stream",
     "text": [
      "Comparing images at stiffness: 0.2 ...\n",
      "\n",
      "Comparing images at stiffness: 2 ...\n",
      "\n",
      "../../Images/tiff/Cytosoft 2 kPa/Combination B/A1-5-WGA-mask.tif\n",
      "../cell-profiler/cellmasks/2/A1-5-WGA-mask.tiff\n",
      "Comparing images at stiffness: 16 ...\n",
      "\n",
      "Comparing images at stiffness: 32 ...\n",
      "\n",
      "Comparing images at stiffness: 64 ...\n",
      "\n"
     ]
    }
   ],
   "source": [
    "stiffness = [\"0.2\", \"2\", \"16\", \"32\", \"64\"]\n",
    "\n",
    "for s in stiffness:\n",
    "\n",
    "    print(\"Comparing images at stiffness:\", s, '...\\n')\n",
    "    originals = glob.glob(get_org_path(s, \"B\") + '*WGA-mask.tif')\n",
    "    originals.extend(glob.glob(get_org_path(s, \"C\") + '*WGA-mask.tif'))\n",
    "\n",
    "    results = glob.glob(get_res_path(s) + '*WGA-mask.tiff')\n",
    "\n",
    "    assert len(originals)==len(results)\n",
    "    \n",
    "    originals.sort()\n",
    "    results.sort()\n",
    "    \n",
    "    compare(originals, results)\n",
    "    "
   ]
  },
  {
   "cell_type": "code",
   "execution_count": 45,
   "metadata": {},
   "outputs": [
    {
     "data": {
      "text/plain": [
       "['../../Images/tiff/Cytosoft 64 kPa/Combination B/A1-1-WGA-mask.tif',\n",
       " '../../Images/tiff/Cytosoft 64 kPa/Combination B/A1-2-WGA-mask.tif',\n",
       " '../../Images/tiff/Cytosoft 64 kPa/Combination B/A1-3-WGA-mask.tif',\n",
       " '../../Images/tiff/Cytosoft 64 kPa/Combination B/A1-4-WGA-mask.tif',\n",
       " '../../Images/tiff/Cytosoft 64 kPa/Combination B/A1-5-WGA-mask.tif',\n",
       " '../../Images/tiff/Cytosoft 64 kPa/Combination B/A2-3-WGA-mask.tif',\n",
       " '../../Images/tiff/Cytosoft 64 kPa/Combination B/A2-4-WGA-mask.tif',\n",
       " '../../Images/tiff/Cytosoft 64 kPa/Combination B/A2-5-WGA-mask.tif',\n",
       " '../../Images/tiff/Cytosoft 64 kPa/Combination B/A3-3-WGA-mask.tif',\n",
       " '../../Images/tiff/Cytosoft 64 kPa/Combination B/A3-4-WGA-mask.tif',\n",
       " '../../Images/tiff/Cytosoft 64 kPa/Combination B/A3-5-WGA-mask.tif',\n",
       " '../../Images/tiff/Cytosoft 64 kPa/Combination C/B4-3-WGA-mask.tif',\n",
       " '../../Images/tiff/Cytosoft 64 kPa/Combination C/B4-4-WGA-mask.tif',\n",
       " '../../Images/tiff/Cytosoft 64 kPa/Combination C/B4-5-WGA-mask.tif',\n",
       " '../../Images/tiff/Cytosoft 64 kPa/Combination C/B5-1-WGA-mask.tif',\n",
       " '../../Images/tiff/Cytosoft 64 kPa/Combination C/B5-2-WGA-mask.tif',\n",
       " '../../Images/tiff/Cytosoft 64 kPa/Combination C/B5-3-WGA-mask.tif',\n",
       " '../../Images/tiff/Cytosoft 64 kPa/Combination C/B5-4-WGA-mask.tif',\n",
       " '../../Images/tiff/Cytosoft 64 kPa/Combination C/B5-5-WGA-mask.tif',\n",
       " '../../Images/tiff/Cytosoft 64 kPa/Combination C/B6-1-WGA-mask.tif',\n",
       " '../../Images/tiff/Cytosoft 64 kPa/Combination C/B6-2-WGA-mask.tif',\n",
       " '../../Images/tiff/Cytosoft 64 kPa/Combination C/B6-3-WGA-mask.tif',\n",
       " '../../Images/tiff/Cytosoft 64 kPa/Combination C/B6-4-WGA-mask.tif',\n",
       " '../../Images/tiff/Cytosoft 64 kPa/Combination C/B6-5-WGA-mask.tif']"
      ]
     },
     "execution_count": 45,
     "metadata": {},
     "output_type": "execute_result"
    }
   ],
   "source": [
    "originals"
   ]
  },
  {
   "cell_type": "code",
   "execution_count": 43,
   "metadata": {},
   "outputs": [
    {
     "data": {
      "text/plain": [
       "['../cell-profiler/cellmasks/64/A1-1-WGA-mask.tiff',\n",
       " '../cell-profiler/cellmasks/64/A1-2-WGA-mask.tiff',\n",
       " '../cell-profiler/cellmasks/64/A1-3-WGA-mask.tiff',\n",
       " '../cell-profiler/cellmasks/64/A1-4-WGA-mask.tiff',\n",
       " '../cell-profiler/cellmasks/64/A1-5-WGA-mask.tiff',\n",
       " '../cell-profiler/cellmasks/64/A2-3-WGA-mask.tiff',\n",
       " '../cell-profiler/cellmasks/64/A2-4-WGA-mask.tiff',\n",
       " '../cell-profiler/cellmasks/64/A2-5-WGA-mask.tiff',\n",
       " '../cell-profiler/cellmasks/64/A3-3-WGA-mask.tiff',\n",
       " '../cell-profiler/cellmasks/64/A3-4-WGA-mask.tiff',\n",
       " '../cell-profiler/cellmasks/64/A3-5-WGA-mask.tiff',\n",
       " '../cell-profiler/cellmasks/64/B4-3-WGA-mask.tiff',\n",
       " '../cell-profiler/cellmasks/64/B4-4-WGA-mask.tiff',\n",
       " '../cell-profiler/cellmasks/64/B4-5-WGA-mask.tiff',\n",
       " '../cell-profiler/cellmasks/64/B5-1-WGA-mask.tiff',\n",
       " '../cell-profiler/cellmasks/64/B5-2-WGA-mask.tiff',\n",
       " '../cell-profiler/cellmasks/64/B5-3-WGA-mask.tiff',\n",
       " '../cell-profiler/cellmasks/64/B5-4-WGA-mask.tiff',\n",
       " '../cell-profiler/cellmasks/64/B5-5-WGA-mask.tiff',\n",
       " '../cell-profiler/cellmasks/64/B6-1-WGA-mask.tiff',\n",
       " '../cell-profiler/cellmasks/64/B6-2-WGA-mask.tiff',\n",
       " '../cell-profiler/cellmasks/64/B6-3-WGA-mask.tiff',\n",
       " '../cell-profiler/cellmasks/64/B6-4-WGA-mask.tiff',\n",
       " '../cell-profiler/cellmasks/64/B6-5-WGA-mask.tiff']"
      ]
     },
     "execution_count": 43,
     "metadata": {},
     "output_type": "execute_result"
    }
   ],
   "source": [
    "results"
   ]
  },
  {
   "cell_type": "code",
   "execution_count": 37,
   "metadata": {
    "collapsed": true
   },
   "outputs": [],
   "source": [
    "for filename in results:\n",
    "    img = cv2.imread(filename)\n",
    "#     img = cv2.threshold(img, 128, 255, cv2.THRESH_BINARY)[1]"
   ]
  },
  {
   "cell_type": "code",
   "execution_count": 49,
   "metadata": {
    "collapsed": true
   },
   "outputs": [],
   "source": [
    "image1 = cv2.imread(originals[0])\n",
    "image2 = cv2.imread(results[0])"
   ]
  },
  {
   "cell_type": "code",
   "execution_count": 54,
   "metadata": {},
   "outputs": [],
   "source": [
    "assert (image1 == image2).all()"
   ]
  },
  {
   "cell_type": "markdown",
   "metadata": {},
   "source": [
    "** Compare images **"
   ]
  },
  {
   "cell_type": "markdown",
   "metadata": {},
   "source": [
    "#### Load Cell Profiler results"
   ]
  },
  {
   "cell_type": "code",
   "execution_count": null,
   "metadata": {
    "collapsed": true
   },
   "outputs": [],
   "source": [
    "stiffness = [\"0.2\", \"0.5\", \"16\", \"2\", \"32\", \"64\", \"8\"]\n",
    "\n",
    "n0 = 0\n",
    "\n",
    "for s in stiffness:\n",
    "    originals = []\n",
    "    \n",
    "    org_path = '/Users/vladarozova/Dropbox/New experiment/Images/tiff/Cytosoft ' + s + ' kPa/Combination B/'\n",
    "    \n",
    "    # List of original masks\n",
    "    os.chdir(org_path)\n",
    "    originals = glob.glob('*WGA-mask.tif')\n",
    "    \n",
    "    # Sort the list\n",
    "    originals.sort()\n",
    "    \n",
    "    # Number of images\n",
    "    n = len(originals)\n",
    "    \n",
    "    if difference(org_path, res_path, originals, results[n0 : n0 + n]):\n",
    "        print(\"Stiffness {} kPa. All the images are pairwise equal.\".format(s))\n",
    "    else:\n",
    "        print(\"Check the masks!\") \n",
    "        \n",
    "    \n",
    "    n0 = n0 + n"
   ]
  },
  {
   "cell_type": "code",
   "execution_count": null,
   "metadata": {
    "collapsed": true
   },
   "outputs": [],
   "source": [
    "# Path to cell profiler results\n",
    "res_path = '/Users/vladarozova/Dropbox/New experiment/Analysis/cell-profiler/cellmasks/'\n",
    "\n",
    "# List of Cell Profiler results\n",
    "os.chdir(res_path)\n",
    "results = glob.glob('*.jpeg')\n",
    "\n",
    "# Sort the list\n",
    "results.sort()"
   ]
  },
  {
   "cell_type": "markdown",
   "metadata": {},
   "source": [
    "#### Compare"
   ]
  },
  {
   "cell_type": "markdown",
   "metadata": {},
   "source": [
    "### Compare cell profiler outputs: primary vs secondary object"
   ]
  },
  {
   "cell_type": "code",
   "execution_count": null,
   "metadata": {
    "collapsed": true
   },
   "outputs": [],
   "source": [
    "# Path to cell profiler results\n",
    "res_path = '/Users/vladarozova/Dropbox/New experiment/Analysis/cell-profiler/cellmasks/'\n",
    "\n",
    "# Lists of Cell Profiler results\n",
    "os.chdir(res_path)\n",
    "list1 = glob.glob('cellmasks1*')\n",
    "list2 = glob.glob('cellmasks2*')\n",
    "\n",
    "# Sort the lists\n",
    "list1.sort()\n",
    "list2.sort()"
   ]
  },
  {
   "cell_type": "code",
   "execution_count": null,
   "metadata": {},
   "outputs": [],
   "source": [
    "print(difference(res_path, res_path, list1, list2))"
   ]
  },
  {
   "cell_type": "markdown",
   "metadata": {},
   "source": [
    "### Check the pairs that are not equal"
   ]
  },
  {
   "cell_type": "code",
   "execution_count": null,
   "metadata": {
    "collapsed": true
   },
   "outputs": [],
   "source": [
    "org_path = res_path\n",
    "org_list = list1\n",
    "res_list = list2"
   ]
  },
  {
   "cell_type": "code",
   "execution_count": null,
   "metadata": {},
   "outputs": [],
   "source": [
    "N = 64\n",
    "print(org_list[N])\n",
    "print(res_list[N])\n",
    "\n",
    "original = binarize(plt.imread(org_path + org_list[N]))\n",
    "result = binarize(plt.imread(res_path + res_list[N]))"
   ]
  },
  {
   "cell_type": "code",
   "execution_count": null,
   "metadata": {},
   "outputs": [],
   "source": [
    "diff = original - result\n",
    "x, y = diff.nonzero()\n",
    "x, y"
   ]
  },
  {
   "cell_type": "code",
   "execution_count": null,
   "metadata": {},
   "outputs": [],
   "source": [
    "# Plot the original\n",
    "plt.imshow(original); \n",
    "plt.scatter(y, x);"
   ]
  },
  {
   "cell_type": "code",
   "execution_count": null,
   "metadata": {
    "collapsed": true
   },
   "outputs": [],
   "source": [
    "# Plot cell profiler output\n",
    "plt.imshow(result);\n",
    "plt.scatter(y, x);"
   ]
  },
  {
   "cell_type": "code",
   "execution_count": null,
   "metadata": {
    "collapsed": true
   },
   "outputs": [],
   "source": [
    "print(diff.sum())\n",
    "plt.imshow(diff);\n",
    "plt.scatter(y, x);"
   ]
  },
  {
   "cell_type": "code",
   "execution_count": null,
   "metadata": {
    "collapsed": true
   },
   "outputs": [],
   "source": [
    "original[x, y]"
   ]
  },
  {
   "cell_type": "code",
   "execution_count": null,
   "metadata": {
    "collapsed": true
   },
   "outputs": [],
   "source": [
    "result[x, y]"
   ]
  },
  {
   "cell_type": "code",
   "execution_count": null,
   "metadata": {
    "collapsed": true
   },
   "outputs": [],
   "source": [
    "x_lower = x.min() - 5\n",
    "x_upper = x.max() + 5\n",
    "y_lower = y.min() - 5\n",
    "y_upper = y.max() + 5"
   ]
  },
  {
   "cell_type": "code",
   "execution_count": null,
   "metadata": {
    "collapsed": true
   },
   "outputs": [],
   "source": [
    "plt.imshow(original[x_lower : x_upper, y_lower : y_upper]);"
   ]
  },
  {
   "cell_type": "code",
   "execution_count": null,
   "metadata": {
    "collapsed": true
   },
   "outputs": [],
   "source": [
    "plt.imshow(result[x_lower : x_upper, y_lower : y_upper]);"
   ]
  },
  {
   "cell_type": "code",
   "execution_count": null,
   "metadata": {
    "collapsed": true
   },
   "outputs": [],
   "source": [
    "plt.imshow(diff[x_lower : x_upper, y_lower : y_upper]);"
   ]
  },
  {
   "cell_type": "markdown",
   "metadata": {
    "collapsed": true
   },
   "source": [
    "### Check an image"
   ]
  },
  {
   "cell_type": "code",
   "execution_count": null,
   "metadata": {},
   "outputs": [],
   "source": [
    "path = '/Users/vladarozova/Dropbox/New experiment/Images/tiff/Cytosoft 64 kPa/Combination B/'\n",
    "name = 'A1-2-WGA-mask.tif'\n",
    "image = plt.imread(path + name)\n",
    "\n",
    "plt.imshow(image); \n",
    "plt.scatter(691, 427);"
   ]
  },
  {
   "cell_type": "code",
   "execution_count": null,
   "metadata": {
    "collapsed": true
   },
   "outputs": [],
   "source": []
  }
 ],
 "metadata": {
  "kernelspec": {
   "display_name": "Python 3",
   "language": "python",
   "name": "python3"
  },
  "language_info": {
   "codemirror_mode": {
    "name": "ipython",
    "version": 3
   },
   "file_extension": ".py",
   "mimetype": "text/x-python",
   "name": "python",
   "nbconvert_exporter": "python",
   "pygments_lexer": "ipython3",
   "version": "3.6.8"
  },
  "toc": {
   "base_numbering": 1,
   "nav_menu": {},
   "number_sections": true,
   "sideBar": true,
   "skip_h1_title": false,
   "title_cell": "Table of Contents",
   "title_sidebar": "Contents",
   "toc_cell": false,
   "toc_position": {},
   "toc_section_display": true,
   "toc_window_display": false
  }
 },
 "nbformat": 4,
 "nbformat_minor": 2
}
