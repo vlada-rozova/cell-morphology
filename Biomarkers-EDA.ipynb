{
 "cells": [
  {
   "cell_type": "code",
   "execution_count": 1,
   "metadata": {
    "collapsed": true
   },
   "outputs": [],
   "source": [
    "select_features=False"
   ]
  },
  {
   "cell_type": "code",
   "execution_count": 79,
   "metadata": {},
   "outputs": [
    {
     "name": "stdout",
     "output_type": "stream",
     "text": [
      "Morphology was measured for 1029.0 cells.\n",
      "\n",
      "The numbers of cells and nuclei correspond to each other.\n",
      "\n",
      "The are no duplicated column names: True\n",
      "The are no duplicated column names: True\n",
      "Cytoplasm measurements were taken for 1029 cells.\n",
      "\n",
      "The are no duplicated column names: True\n",
      "Reading the dataset with E-cadherin...\n",
      "E-cadherin was measured for 546 cells.\n",
      "\n",
      "The are no duplicated column names: True\n",
      "Reading the dataset with Vimentin and Cytokeratins...\n",
      "Vimentin and Cytokeratins were measured for 483 cells.\n",
      "\n",
      "The are no duplicated column names: True\n",
      "\n",
      "Full dataset has shape: (1029, 562)\n",
      "Initial shape is: (1029, 562)\n",
      "Features with zero variance:\n",
      " Index(['centerZ_cell', 'eulernumber_cell', 'children_cytoplasm_count_cell',\n",
      "       'loc_centermassintensityZ_wga', 'loc_centerZ_cell',\n",
      "       'loc_maxintensityZ_wga', 'centerZ_nucl', 'eulernumber_nucl',\n",
      "       'children_cells_count', 'children_cytoplasm_count_nucl',\n",
      "       'loc_centermassintensityZ_dapi', 'loc_centerZ_nucl',\n",
      "       'loc_maxintensityZ_dapi', 'centerZ_cyto',\n",
      "       'loc_centermassintensityZ_ecad', 'loc_centerZ_x',\n",
      "       'loc_maxintensityZ_ecad', 'loc_centermassintensityZ_ker',\n",
      "       'loc_centermassintensityZ_vim', 'loc_centerZ_y',\n",
      "       'loc_maxintensityZ_ker', 'loc_maxintensityZ_vim'],\n",
      "      dtype='object')\n",
      "\n",
      "After cleaning the dataset has 1029 rows and 498 columns.\n",
      "\n",
      "Excluding images with poor quality from the analysis. The dataset contains 899 cells.\n",
      "\n",
      "499 columns in total:\n",
      " 7 columns containing metadata, meta_cols,\n",
      " 492 all features, feature_cols:\n",
      " 204 biomarkers, biom_cols,\n",
      " 288 morphology, morph_cols\n",
      "152 geometric measurements, geom_cols,\n",
      " 46 cellular measurements, cell_cols,\n",
      " 47 nuclear measurements, nucl_cols,\n",
      " 46 cytoplasmic measurements, cyto_cols\n",
      "\n",
      "73 clumped cells excluded from the main dataser. The final dataset contains 826 cells.\n"
     ]
    }
   ],
   "source": [
    "%run load-clean-select.ipynb"
   ]
  },
  {
   "cell_type": "markdown",
   "metadata": {
    "collapsed": true
   },
   "source": [
    "# Which dataset?"
   ]
  },
  {
   "cell_type": "code",
   "execution_count": 80,
   "metadata": {
    "collapsed": true
   },
   "outputs": [],
   "source": [
    "# The full dataset\n",
    "# df = measurements\n",
    "# Dataset without clusters at 64kPa\n",
    "df_ = measurements_red\n",
    "# Dataset without 0.5kPa, 8kPa and clusters at 64kPa\n",
    "# df_ = measurements_5\n",
    "# Dataset without 0.5kPa, 8kPa and clusters at 64kPa with balanced classes\n",
    "# df_ = measurements_b"
   ]
  },
  {
   "cell_type": "code",
   "execution_count": 13,
   "metadata": {},
   "outputs": [],
   "source": [
    "df_.drop(df_[(df_.stiffness == \"16.0\") & (df_.well == \"B6\")].index, inplace=True)"
   ]
  },
  {
   "cell_type": "code",
   "execution_count": 17,
   "metadata": {},
   "outputs": [],
   "source": [
    "df_.reset_index(drop=True, inplace=True)"
   ]
  },
  {
   "cell_type": "markdown",
   "metadata": {},
   "source": [
    "# Some functions"
   ]
  },
  {
   "cell_type": "code",
   "execution_count": null,
   "metadata": {
    "collapsed": true
   },
   "outputs": [],
   "source": [
    "def drop_outliers_iqr(df, col):\n",
    "    df_ = df.copy()\n",
    "    for s in df.stiffness.unique():\n",
    "        x = df[df.stiffness == s][col]\n",
    "        q1 = x.quantile(0.25)\n",
    "        q3 = x.quantile(0.75)\n",
    "        iqr = q3 - q1\n",
    "        lower = q1 - 1.5 * iqr\n",
    "        upper = q3 + 1.5 * iqr\n",
    "        df_.drop(x.loc[(x < lower) | (x > upper)].index, inplace=True)\n",
    "    return df_"
   ]
  },
  {
   "cell_type": "code",
   "execution_count": null,
   "metadata": {
    "collapsed": true
   },
   "outputs": [],
   "source": [
    "from scipy import stats\n",
    "\n",
    "def norm_tests(x):\n",
    "    \n",
    "    alpha = 0.05\n",
    "    \n",
    "    nm_stat, nm_p = stats.normaltest(x)\n",
    "    print(\"D’Agostino-Pearson:\")\n",
    "    if nm_p > alpha:\n",
    "        print('Sample looks Gaussian (fail to reject H0)')\n",
    "    else:\n",
    "        print('Sample does not look Gaussian (reject H0)')\n",
    "        \n",
    "    jb_stat, jb_p = stats.jarque_bera(x)\n",
    "    print(\"\\nJarque-Bera:\")\n",
    "    if jb_p > alpha:\n",
    "        print('Sample looks Gaussian (fail to reject H0)')\n",
    "    else:\n",
    "        print('Sample does not look Gaussian (reject H0)')\n",
    "        \n",
    "    sw_stat, sw_p = stats.shapiro(x)\n",
    "    print(\"\\nShapiro-Wilk:\")\n",
    "    if jb_p > alpha:\n",
    "        print('Sample looks Gaussian (fail to reject H0)')\n",
    "    else:\n",
    "        print('Sample does not look Gaussian (reject H0)')\n",
    "\n",
    "    \n",
    "    results = [('D’Agostino-Pearson', nm_stat, nm_p),\n",
    "               ('Jarque-Bera', jb_stat, jb_p), \n",
    "               ('Shapiro-Wilk', sw_stat, sw_p)\n",
    "              ]\n",
    "    results = pd.DataFrame(results, columns=['Test name', 'Statistic', 'p-value'])\n",
    "    return results"
   ]
  },
  {
   "cell_type": "code",
   "execution_count": null,
   "metadata": {
    "collapsed": true,
    "scrolled": false
   },
   "outputs": [],
   "source": [
    "def boxcox_transform(df, col, verbose=0):\n",
    "    new_col = col + '_t'\n",
    "    df[new_col] = 'NA'\n",
    "    for s in df.stiffness.unique():\n",
    "        print(\"Stiffness: \", s)\n",
    "        norm_tests(df.loc[df.stiffness == s, col], 'original', verbose)\n",
    "        xt, maxlog = stats.boxcox(df.loc[df.stiffness == s, col])\n",
    "        print(\"Argmax log likelyhood:\", maxlog)\n",
    "        norm_tests(xt, 'transformed', verbose)\n",
    "        df.loc[df.stiffness == s, new_col] = xt\n",
    "\n",
    "    sns.boxplot(x=df.stiffness, y=df[col], palette=palette);\n",
    "    plt.title('Original data')\n",
    "    plt.figure()\n",
    "    sns.boxplot(x=df.stiffness, y=df[new_col], palette=palette);\n",
    "    plt.title('Transformed data')"
   ]
  },
  {
   "cell_type": "code",
   "execution_count": 54,
   "metadata": {
    "collapsed": true
   },
   "outputs": [],
   "source": [
    "def plot_intensities(df, col, kind, data, ylim, size=(6,4), ci='sd', add_line=False, save=False):\n",
    "    plt.rcParams['figure.figsize'] = size\n",
    "\n",
    "    row_colors, palette = func.create_palette(df)               \n",
    "    \n",
    "    if kind == 'barplot':\n",
    "        sns.barplot(x=df.stiffness, y=df[col],\n",
    "                    ci=ci, capsize=.1, palette=palette);\n",
    "        if add_line:\n",
    "            sns.lineplot(x=df.stiffness, y=df[col],\n",
    "                         ci=95, linewidth=3, color='orangered');\n",
    "    if kind == 'boxplot':\n",
    "        sns.boxplot(x=df.stiffness, y=df[col],\n",
    "                    width = 0.6, palette=palette, showfliers=False);\n",
    "        if add_line:\n",
    "            sns.lineplot(x=df.stiffness, y=df[col],\n",
    "                         ci=95, linewidth=3, color='orangered');\n",
    "    plt.xlabel(\"Stiffness, kPa\");\n",
    "#     plt.yticks(yticks);\n",
    "\n",
    "    x_start, x_end, signif = func.ttest(df, 'stiffness', col, equal_var=False, verbose=True)\n",
    "    func.stat_annot(df, 'stiffness', col, x_start, x_end, signif, ylim, kind=kind)\n",
    "    \n",
    "    if data == 'mean':\n",
    "        plt.ylabel(\"Mean intensity, a.u.\");\n",
    "        s = \"MI\"\n",
    "    elif data == 'int':\n",
    "        plt.ylabel(\"Integrated intensity, a.u.\");\n",
    "        s = \"II\"\n",
    "    elif data == 'ctcf':\n",
    "        plt.ylabel(\"CTCF, a.u.\");\n",
    "        s = \"CTCF\"\n",
    "    else:\n",
    "        plt.ylabel(\"Ratio, a.u.\")\n",
    "        s = \"\"\n",
    "    \n",
    "    if col == 'ker':\n",
    "        plt.title(\"Cytokeratins\");\n",
    "        if save:\n",
    "            plt.savefig('../results/Ker '+ s +' '+ kind +'.png', bbox_inches='tight', dpi=300);\n",
    "    elif col == 'vim':\n",
    "        plt.title(\"Vimentin\");\n",
    "        if save:\n",
    "            plt.savefig('../results/Vim '+ s +' '+ kind +'.png', bbox_inches='tight', dpi=300);\n",
    "    elif col == 'cvratio':\n",
    "        plt.title(\"Cytokeratins to Vimentin ratio\");\n",
    "        if save:\n",
    "            plt.savefig('../results/CVR '+ s +' '+ kind +'.png', bbox_inches='tight', dpi=300);\n",
    "    else:\n",
    "        plt.title(\"E-cadherin\");\n",
    "        if save:\n",
    "            plt.savefig('../results/Ecad '+ s +' '+ kind +'.png', bbox_inches='tight', dpi=300);"
   ]
  },
  {
   "cell_type": "markdown",
   "metadata": {},
   "source": [
    "# Correlations"
   ]
  },
  {
   "cell_type": "code",
   "execution_count": null,
   "metadata": {
    "collapsed": true
   },
   "outputs": [],
   "source": [
    "# Create numeric stiffness variable and define feature columns\n",
    "df_['stiffness_num'] = pd.to_numeric(df_.stiffness)\n",
    "# df['stiffness_log2'] = np.log2(df.stiffness_num)"
   ]
  },
  {
   "cell_type": "markdown",
   "metadata": {},
   "source": [
    "## Pearson's correlation"
   ]
  },
  {
   "cell_type": "code",
   "execution_count": null,
   "metadata": {
    "scrolled": false
   },
   "outputs": [],
   "source": [
    "p_corr = df_[biom_cols].corrwith(df_.stiffness_num)\n",
    "p_corr.abs().sort_values(ascending=False).head(10)"
   ]
  },
  {
   "cell_type": "code",
   "execution_count": null,
   "metadata": {
    "collapsed": true
   },
   "outputs": [],
   "source": [
    "plt.rcParams['figure.figsize'] = (10, 2)\n",
    "\n",
    "sns.heatmap(pd.DataFrame(p_corr, columns=['Pearsons']).T, \n",
    "            cmap=sns.color_palette(\"RdBu_r\", 100), \n",
    "            vmin=-1, vmax=1);\n",
    "\n",
    "#plt.savefig('../results/Corr with Stiffness SMOTE.png', bbox_inches='tight', dpi=300);"
   ]
  },
  {
   "cell_type": "code",
   "execution_count": null,
   "metadata": {
    "collapsed": true
   },
   "outputs": [],
   "source": [
    "plt.rcParams['figure.figsize'] = (6, 4)\n",
    "sns.boxplot(x='stiffness', y='stdintensity_ecad', data=df_, showfliers=True);"
   ]
  },
  {
   "cell_type": "markdown",
   "metadata": {},
   "source": [
    "## Spearman's correlation"
   ]
  },
  {
   "cell_type": "code",
   "execution_count": null,
   "metadata": {
    "collapsed": true,
    "scrolled": false
   },
   "outputs": [],
   "source": [
    "s_corr = df_[biom_cols].corrwith(df_.stiffness_num, method='spearman')\n",
    "s_corr.abs().sort_values(ascending=False).head(10)"
   ]
  },
  {
   "cell_type": "markdown",
   "metadata": {},
   "source": [
    "# Intensity"
   ]
  },
  {
   "cell_type": "markdown",
   "metadata": {},
   "source": [
    "###### Create a df with  intensities"
   ]
  },
  {
   "cell_type": "code",
   "execution_count": 84,
   "metadata": {
    "collapsed": true
   },
   "outputs": [],
   "source": [
    "# Mean intensity\n",
    "df = df_.loc[:, ['stiffness', 'meanintensity_ecad', 'meanintensity_vim', 'meanintensity_ker']].copy()\n",
    "df.columns=['stiffness', 'ecad', 'vim', 'ker']"
   ]
  },
  {
   "cell_type": "code",
   "execution_count": 88,
   "metadata": {
    "collapsed": true
   },
   "outputs": [],
   "source": [
    "# Integrated intensity\n",
    "df = df_.loc[:, ['stiffness', 'integratedintensity_ecad', 'integratedintensity_vim', 'integratedintensity_ker']].copy()\n",
    "df.columns=['stiffness', 'ecad', 'vim', 'ker']"
   ]
  },
  {
   "cell_type": "code",
   "execution_count": null,
   "metadata": {},
   "outputs": [],
   "source": [
    "# Intensity normalised to area sq.\n",
    "df = df_.loc[:, ['stiffness', 'area_cell', 'integratedintensity_ecad', 'integratedintensity_vim', 'integratedintensity_ker']].copy()\n",
    "df.columns=['stiffness', 'area', 'ecad', 'vim', 'ker']\n",
    "df.ecad = df.ecad / (df.area**2)\n",
    "df.ker = df.ker / (df.area**2)\n",
    "df.vim = df.vim / (df.area**2)\n",
    "df.head()"
   ]
  },
  {
   "cell_type": "code",
   "execution_count": null,
   "metadata": {
    "collapsed": true
   },
   "outputs": [],
   "source": [
    "# Cytokeratins & Vimentin: Integrated intensity\n",
    "df = df_.loc[df_.combination == \"B\", ['stiffness', 'integratedintensity_ker', 'integratedintensity_vim']].copy()\n",
    "# df.columns=['stiffness', 'ker', 'vim']"
   ]
  },
  {
   "cell_type": "code",
   "execution_count": null,
   "metadata": {
    "collapsed": true
   },
   "outputs": [],
   "source": [
    "# E-cadherin: Mean intensity\n",
    "df = df_.loc[df_.combination == \"C\", ['stiffness', 'well', 'meanintensity_ecad']].copy()\n",
    "df.columns=['stiffness', 'well', 'ecad']\n",
    "df = df.drop(df[(df.stiffness == \"16.0\") & (df.well == \"B6\")].index).reset_index(drop=True) "
   ]
  },
  {
   "cell_type": "code",
   "execution_count": null,
   "metadata": {
    "collapsed": true
   },
   "outputs": [],
   "source": [
    "# E-cadherin: Integrated intensity\n",
    "df = df_.loc[df_.combination == \"C\", ['stiffness', 'well', 'integratedintensity_ecad']].copy()\n",
    "df.columns=['stiffness', 'well', 'ecad']\n",
    "df = df.drop(df[(df.stiffness == \"16.0\") & (df.well == \"B6\")].index).reset_index(drop=True) "
   ]
  },
  {
   "cell_type": "code",
   "execution_count": null,
   "metadata": {
    "collapsed": true
   },
   "outputs": [],
   "source": [
    "# CTCF\n",
    "df = df_.loc[:, ['stiffness', 'ctcf_ker', 'ctcf_vim', 'cvratio', 'log_cvratio']].copy()\n",
    "df.columns=['stiffness', 'ker', 'vim', 'cvratio', 'log_cvratio']\n",
    "df.head()"
   ]
  },
  {
   "cell_type": "code",
   "execution_count": null,
   "metadata": {
    "collapsed": true
   },
   "outputs": [],
   "source": [
    "# CTCF\n",
    "df = df_.loc[:, ['stiffness', 'well','ctcf_ker', 'ctcf_vim', 'cvratio', 'log_cvratio']].copy()\n",
    "df.columns=['stiffness', 'well', 'ker', 'vim', 'cvratio', 'log_cvratio']\n",
    "df.head()"
   ]
  },
  {
   "cell_type": "code",
   "execution_count": null,
   "metadata": {
    "collapsed": true
   },
   "outputs": [],
   "source": [
    "df_agg = df.groupby(['stiffness', 'well']).ker.mean().unstack()\n",
    "df_agg.reset_index(inplace=True)\n",
    "df_agg = pd.melt(df_agg, id_vars=['stiffness'], value_vars=['A1', 'A2', 'A3'])\n",
    "df_agg"
   ]
  },
  {
   "cell_type": "code",
   "execution_count": null,
   "metadata": {
    "collapsed": true
   },
   "outputs": [],
   "source": [
    "np.mean([3535, 2444, 3122]), np.std([3535, 2444, 3122])"
   ]
  },
  {
   "cell_type": "code",
   "execution_count": null,
   "metadata": {
    "collapsed": true
   },
   "outputs": [],
   "source": [
    "plot_intensities(df_agg, 'value', 'barplot', 'ctcf', [0, 8000], size=(5, 4), ci='sd', add_line=False)"
   ]
  },
  {
   "cell_type": "code",
   "execution_count": null,
   "metadata": {
    "collapsed": true
   },
   "outputs": [],
   "source": [
    "# sns.boxplot(x=df_agg.stiffness, y=df_agg.value, width = 0.6, showfliers=False);\n",
    "plot_intensities(df_agg, 'value', 'boxplot', 'ctcf', [2000, 8000],  size=(5, 4), add_line=False)"
   ]
  },
  {
   "cell_type": "markdown",
   "metadata": {},
   "source": [
    "###### Boxcox transformation"
   ]
  },
  {
   "cell_type": "code",
   "execution_count": null,
   "metadata": {
    "collapsed": true
   },
   "outputs": [],
   "source": [
    "from sklearn.preprocessing import PowerTransformer\n",
    "\n",
    "X = df[['ker', 'vim']]\n",
    "powertf = PowerTransformer(copy=False)\n",
    "powertf.fit(X)\n",
    "df[['ker', 'vim']] = powertf.transform(X)\n",
    "df.head()"
   ]
  },
  {
   "cell_type": "markdown",
   "metadata": {},
   "source": [
    "###### Synthetic biomarker data"
   ]
  },
  {
   "cell_type": "code",
   "execution_count": null,
   "metadata": {
    "collapsed": true
   },
   "outputs": [],
   "source": [
    "df = proc.smote(df[['ker', 'vim']], df.stiffness)"
   ]
  },
  {
   "cell_type": "markdown",
   "metadata": {},
   "source": [
    "## Normalise intensity to have an average of 1 at 0.2 kPa"
   ]
  },
  {
   "cell_type": "code",
   "execution_count": null,
   "metadata": {
    "collapsed": true
   },
   "outputs": [],
   "source": [
    "df['kernorm'] = df.ker / df[df.stiffness == '0.2'].ker.mean()\n",
    "df[df.stiffness == '0.2'].kernorm.mean()"
   ]
  },
  {
   "cell_type": "markdown",
   "metadata": {},
   "source": [
    "## Cytokeratins"
   ]
  },
  {
   "cell_type": "code",
   "execution_count": 57,
   "metadata": {
    "scrolled": false
   },
   "outputs": [
    {
     "name": "stdout",
     "output_type": "stream",
     "text": [
      "Welch's unequal variances t-test on samples 0.2 vs 2.0.  \t p-value = 0.77.\n",
      "Welch's unequal variances t-test on samples 2.0 vs 16.0.  \t p-value = 0.21.\n",
      "Welch's unequal variances t-test on samples 16.0 vs 32.0.  \t p-value = 0.38.\n",
      "Welch's unequal variances t-test on samples 32.0 vs 64.0. ** \t p-value = 0.0017.\n"
     ]
    },
    {
     "data": {
      "image/png": "[encoded data removed]",
      "text/plain": [
       "<Figure size 360x288 with 1 Axes>"
      ]
     },
     "metadata": {},
     "output_type": "display_data"
    }
   ],
   "source": [
    "plot_intensities(df, 'ker', 'barplot', 'mean', [0, 0.49], size=(5, 4), add_line=True, save=True)"
   ]
  },
  {
   "cell_type": "code",
   "execution_count": null,
   "metadata": {},
   "outputs": [],
   "source": [
    "df[df.stiffness == \"0.2\"].ker"
   ]
  },
  {
   "cell_type": "code",
   "execution_count": null,
   "metadata": {
    "collapsed": true
   },
   "outputs": [],
   "source": [
    "plot_intensities(df, 'ker', 'barplot', 'int', [0, 12000], size=(5, 4), add_line=True)"
   ]
  },
  {
   "cell_type": "code",
   "execution_count": null,
   "metadata": {
    "collapsed": true
   },
   "outputs": [],
   "source": [
    "df.ker.hist(bins=50);"
   ]
  },
  {
   "cell_type": "code",
   "execution_count": null,
   "metadata": {
    "collapsed": true,
    "scrolled": true
   },
   "outputs": [],
   "source": [
    "df.hist(column='ker', by='stiffness', bins=20, \n",
    "        sharex=True, sharey=True, \n",
    "        layout=(2, 3), \n",
    "        figsize=(20, 6));\n",
    "plt.tight_layout()"
   ]
  },
  {
   "cell_type": "code",
   "execution_count": null,
   "metadata": {
    "collapsed": true
   },
   "outputs": [],
   "source": [
    "df_[df_.ctcf_ker > 30000]"
   ]
  },
  {
   "cell_type": "code",
   "execution_count": null,
   "metadata": {
    "collapsed": true
   },
   "outputs": [],
   "source": [
    "df.groupby('stiffness').ker.median()"
   ]
  },
  {
   "cell_type": "code",
   "execution_count": null,
   "metadata": {
    "collapsed": true
   },
   "outputs": [],
   "source": [
    "df.groupby('stiffness').ker.mad()"
   ]
  },
  {
   "cell_type": "markdown",
   "metadata": {},
   "source": [
    "## Vimentin"
   ]
  },
  {
   "cell_type": "code",
   "execution_count": 63,
   "metadata": {
    "scrolled": false
   },
   "outputs": [
    {
     "name": "stdout",
     "output_type": "stream",
     "text": [
      "Welch's unequal variances t-test on samples 0.2 vs 2.0. *** \t p-value = 5.3e-13.\n",
      "Welch's unequal variances t-test on samples 2.0 vs 16.0. ** \t p-value = 0.0034.\n",
      "Welch's unequal variances t-test on samples 16.0 vs 32.0. *** \t p-value = 6e-06.\n",
      "Welch's unequal variances t-test on samples 32.0 vs 64.0. *** \t p-value = 6.6e-05.\n"
     ]
    },
    {
     "data": {
      "image/png": "[encoded data removed]",
      "text/plain": [
       "<Figure size 360x288 with 1 Axes>"
      ]
     },
     "metadata": {},
     "output_type": "display_data"
    }
   ],
   "source": [
    "plot_intensities(df, 'vim', 'barplot', 'mean', [0, 0.23], size=(5, 4), add_line=True, save=True)"
   ]
  },
  {
   "cell_type": "code",
   "execution_count": null,
   "metadata": {
    "collapsed": true
   },
   "outputs": [],
   "source": [
    "plot_intensities(df, 'vim', 'barplot', 'int', [0, 4000], size=(5, 4), add_line=True)"
   ]
  },
  {
   "cell_type": "code",
   "execution_count": null,
   "metadata": {
    "collapsed": true
   },
   "outputs": [],
   "source": [
    "df.vim.hist(bins=50);"
   ]
  },
  {
   "cell_type": "code",
   "execution_count": null,
   "metadata": {
    "collapsed": true
   },
   "outputs": [],
   "source": [
    "df.hist(column='vim', by='stiffness', bins=20, \n",
    "                sharex=True, sharey=False, \n",
    "                layout=(2, 3), figsize=(20, 6));\n",
    "plt.tight_layout()"
   ]
  },
  {
   "cell_type": "code",
   "execution_count": null,
   "metadata": {
    "collapsed": true
   },
   "outputs": [],
   "source": [
    "df[['ker']].corrwith(df.vim, method='pearson')"
   ]
  },
  {
   "cell_type": "code",
   "execution_count": null,
   "metadata": {
    "collapsed": true
   },
   "outputs": [],
   "source": [
    "sns.lmplot(x='ker', y='vim', data=df);"
   ]
  },
  {
   "cell_type": "markdown",
   "metadata": {},
   "source": [
    "## E-cadherin"
   ]
  },
  {
   "cell_type": "code",
   "execution_count": 89,
   "metadata": {},
   "outputs": [
    {
     "name": "stdout",
     "output_type": "stream",
     "text": [
      "Welch's unequal variances t-test on samples 0.2 vs 2.0. *** \t p-value = 2.7e-05.\n",
      "Welch's unequal variances t-test on samples 2.0 vs 16.0. *** \t p-value = 3.7e-09.\n",
      "Welch's unequal variances t-test on samples 16.0 vs 32.0. *** \t p-value = 3.8e-05.\n",
      "Welch's unequal variances t-test on samples 32.0 vs 64.0. *** \t p-value = 2e-09.\n"
     ]
    },
    {
     "data": {
      "image/png": "[encoded data removed]",
      "text/plain": [
       "<Figure size 360x288 with 1 Axes>"
      ]
     },
     "metadata": {},
     "output_type": "display_data"
    }
   ],
   "source": [
    "plot_intensities(df, 'ecad', 'barplot', 'int', [0, 3000], size=(5, 4), add_line=True, save=True)"
   ]
  },
  {
   "cell_type": "code",
   "execution_count": 87,
   "metadata": {
    "scrolled": false
   },
   "outputs": [
    {
     "name": "stdout",
     "output_type": "stream",
     "text": [
      "Welch's unequal variances t-test on samples 0.2 vs 2.0. *** \t p-value = 5.9e-16.\n",
      "Welch's unequal variances t-test on samples 2.0 vs 16.0.  \t p-value = 0.76.\n",
      "Welch's unequal variances t-test on samples 16.0 vs 32.0. *** \t p-value = 1.7e-11.\n",
      "Welch's unequal variances t-test on samples 32.0 vs 64.0. *** \t p-value = 1e-16.\n"
     ]
    },
    {
     "data": {
      "image/png": "[encoded data removed]",
      "text/plain": [
       "<Figure size 360x288 with 1 Axes>"
      ]
     },
     "metadata": {},
     "output_type": "display_data"
    }
   ],
   "source": [
    "plot_intensities(df, 'ecad', 'barplot', 'mean', [0, 0.13], size=(5, 4), add_line=True, save=True)"
   ]
  },
  {
   "cell_type": "markdown",
   "metadata": {},
   "source": [
    "## CV ratio"
   ]
  },
  {
   "cell_type": "code",
   "execution_count": 25,
   "metadata": {
    "collapsed": true
   },
   "outputs": [],
   "source": [
    "df = proc.cv_ratio(df, col1='ker', col2='vim')"
   ]
  },
  {
   "cell_type": "code",
   "execution_count": 46,
   "metadata": {},
   "outputs": [
    {
     "name": "stdout",
     "output_type": "stream",
     "text": [
      "Welch's unequal variances t-test on samples 0.2 vs 2.0. *** \t p-value = 2.4e-06.\n",
      "Welch's unequal variances t-test on samples 2.0 vs 16.0. * \t p-value = 0.012.\n",
      "Welch's unequal variances t-test on samples 16.0 vs 32.0. *** \t p-value = 5.6e-06.\n",
      "Welch's unequal variances t-test on samples 32.0 vs 64.0.  \t p-value = 0.84.\n"
     ]
    },
    {
     "data": {
      "image/png": "[encoded data removed]",
      "text/plain": [
       "<Figure size 360x288 with 1 Axes>"
      ]
     },
     "metadata": {},
     "output_type": "display_data"
    }
   ],
   "source": [
    "plot_intensities(df, 'cvratio', 'barplot', None, [0, 10], [0, 3, 6, 9], size=(5, 4), add_line=True, save=True)"
   ]
  },
  {
   "cell_type": "code",
   "execution_count": null,
   "metadata": {
    "collapsed": true
   },
   "outputs": [],
   "source": [
    "df.cvratio.hist(bins=50, figsize=(12,6));"
   ]
  },
  {
   "cell_type": "code",
   "execution_count": null,
   "metadata": {
    "collapsed": true
   },
   "outputs": [],
   "source": [
    "df.hist(column='cvratio', by='stiffness', bins=20, \n",
    "                sharex=False, sharey=True, \n",
    "                layout=(2, 4), figsize=(20, 6));\n",
    "plt.tight_layout()"
   ]
  },
  {
   "cell_type": "code",
   "execution_count": null,
   "metadata": {
    "collapsed": true
   },
   "outputs": [],
   "source": [
    "sns.lmplot(x='ker', y='vim', data=df);"
   ]
  },
  {
   "cell_type": "code",
   "execution_count": null,
   "metadata": {
    "collapsed": true
   },
   "outputs": [],
   "source": [
    "df[['ker']].corrwith(df.vim, method='spearman')"
   ]
  },
  {
   "cell_type": "markdown",
   "metadata": {},
   "source": [
    "###### Remove outliers"
   ]
  },
  {
   "cell_type": "code",
   "execution_count": null,
   "metadata": {
    "collapsed": true
   },
   "outputs": [],
   "source": [
    "# df = drop_outliers_iqr(df, 'ker')\n",
    "# df = drop_outliers_iqr(df, 'vim')\n",
    "# df = drop_outliers_iqr(df, 'ratio')\n",
    "df.shape"
   ]
  },
  {
   "cell_type": "markdown",
   "metadata": {},
   "source": [
    "###### Box-Cox transformation"
   ]
  },
  {
   "cell_type": "code",
   "execution_count": null,
   "metadata": {
    "collapsed": true,
    "scrolled": false
   },
   "outputs": [],
   "source": [
    "boxcox_transform(df, 'ker')"
   ]
  },
  {
   "cell_type": "code",
   "execution_count": null,
   "metadata": {
    "collapsed": true
   },
   "outputs": [],
   "source": [
    "boxcox_transform(df, 'vim')"
   ]
  },
  {
   "cell_type": "code",
   "execution_count": null,
   "metadata": {
    "collapsed": true
   },
   "outputs": [],
   "source": [
    "sns.boxplot(x=df.stiffness, y=df.ker_t / df.vim_t, palette=palette);"
   ]
  },
  {
   "cell_type": "code",
   "execution_count": null,
   "metadata": {
    "collapsed": true
   },
   "outputs": [],
   "source": [
    "boxcox_transform(df, 'cvratio')"
   ]
  },
  {
   "cell_type": "markdown",
   "metadata": {},
   "source": [
    "###### Log transformation"
   ]
  },
  {
   "cell_type": "code",
   "execution_count": null,
   "metadata": {
    "collapsed": true
   },
   "outputs": [],
   "source": [
    "df['log_ker'] = np.log(df.ker)\n",
    "df['log_vim'] = np.log(df.vim)\n",
    "df.shape"
   ]
  },
  {
   "cell_type": "code",
   "execution_count": null,
   "metadata": {
    "collapsed": true
   },
   "outputs": [],
   "source": [
    "sns.boxplot(x=df.stiffness, y=df.log_ker, palette=palette);\n",
    "plt.xlabel(\"Stiffness, kPa\")\n",
    "plt.ylabel(\"log(Intensity), a.u.\")\n",
    "plt.title(\"Expression of cytokeratins\");\n",
    "# plt.savefig('../results/log Ker.png', bbox_inches='tight', dpi=300);"
   ]
  },
  {
   "cell_type": "code",
   "execution_count": null,
   "metadata": {
    "collapsed": true
   },
   "outputs": [],
   "source": [
    "df.log_ker.hist(bins=25, figsize=(12,6));"
   ]
  },
  {
   "cell_type": "code",
   "execution_count": null,
   "metadata": {
    "collapsed": true
   },
   "outputs": [],
   "source": [
    "df.hist(column='log_ker', by='stiffness', bins=20, \n",
    "                sharex=True, sharey=True, \n",
    "                layout=(2, 4), figsize=(20, 6));\n",
    "plt.tight_layout()"
   ]
  },
  {
   "cell_type": "code",
   "execution_count": null,
   "metadata": {
    "collapsed": true
   },
   "outputs": [],
   "source": [
    "sns.boxplot(x=df.stiffness, y=df.log_vim, palette=palette);\n",
    "plt.xlabel(\"Stiffness, kPa\")\n",
    "plt.ylabel(\"log(Intensity), a.u.\")\n",
    "plt.title(\"Expression of vimentin\");\n",
    "# plt.savefig('../results/log Vim.png', bbox_inches='tight', dpi=300);"
   ]
  },
  {
   "cell_type": "code",
   "execution_count": null,
   "metadata": {
    "collapsed": true
   },
   "outputs": [],
   "source": [
    "df.log_vim.hist(bins=25, figsize=(12,6));"
   ]
  },
  {
   "cell_type": "code",
   "execution_count": null,
   "metadata": {
    "collapsed": true
   },
   "outputs": [],
   "source": [
    "df.hist(column='log_vim', by='stiffness', bins=20, \n",
    "                sharex=True, sharey=True, \n",
    "                layout=(2, 4), figsize=(20, 6));\n",
    "plt.tight_layout()"
   ]
  },
  {
   "cell_type": "code",
   "execution_count": null,
   "metadata": {
    "collapsed": true
   },
   "outputs": [],
   "source": [
    "sns.boxplot(x=df.stiffness, y=df.log_cvratio, palette=palette, showfliers=False);\n",
    "plt.ylim([-2, 4]);\n",
    "plt.xlabel(\"Stiffness, kPa\")\n",
    "plt.ylabel(\"log(ratio)\")\n",
    "plt.title(\"Cytokeratin to Vimentin ratio\");\n",
    "# plt.savefig('../results/log CVR.png', bbox_inches='tight', dpi=300);"
   ]
  },
  {
   "cell_type": "code",
   "execution_count": null,
   "metadata": {
    "collapsed": true
   },
   "outputs": [],
   "source": [
    "sns.boxplot(x=df.stiffness, y=df.log_cvratio, palette=palette, showfliers=False);\n",
    "plt.ylim([-2, 4]);\n",
    "plt.xlabel(\"Stiffness, kPa\")\n",
    "plt.ylabel(\"log(ratio)\")\n",
    "plt.title(\"Cytokeratin to Vimentin ratio w/o clusters at 64 kPa\");\n",
    "plt.savefig('../results/log_CVR no clusters.png', bbox_inches='tight', dpi=300);"
   ]
  },
  {
   "cell_type": "code",
   "execution_count": null,
   "metadata": {
    "collapsed": true
   },
   "outputs": [],
   "source": [
    "df.log_cvratio.hist(bins=25, figsize=(12,6));"
   ]
  },
  {
   "cell_type": "code",
   "execution_count": null,
   "metadata": {
    "collapsed": true
   },
   "outputs": [],
   "source": [
    "df.hist(column='log_cvratio', by='stiffness', bins=20, \n",
    "                sharex=True, sharey=True, \n",
    "                layout=(2, 4), figsize=(20, 6));\n",
    "plt.tight_layout()"
   ]
  },
  {
   "cell_type": "markdown",
   "metadata": {},
   "source": [
    "## Statistical testing"
   ]
  },
  {
   "cell_type": "markdown",
   "metadata": {},
   "source": [
    "### Normality tests"
   ]
  },
  {
   "cell_type": "code",
   "execution_count": null,
   "metadata": {
    "collapsed": true
   },
   "outputs": [],
   "source": [
    "from scipy.stats import anderson, shapiro\n",
    "group = df.stiffness.unique()\n",
    "col='vim'\n",
    "for i in range(len(group)):\n",
    "    print('\\n', group[i])\n",
    "# Original data\n",
    "    norm_tests(df.loc[df.stiffness == group[i], col])\n",
    "# Log transformation\n",
    "#     norm_tests(np.log(df.loc[df[by] == group[i], col]))\n",
    "# Box-Cox transformation\n",
    "#     xt, _= stats.boxcox(df.loc[df[by] == group[i], col])\n",
    "#     norm_tests(xt)\n",
    "#     A, crit, sig = anderson(df.loc[df[by] == group[i], col], 'norm')\n",
    "    "
   ]
  },
  {
   "cell_type": "code",
   "execution_count": null,
   "metadata": {
    "collapsed": true
   },
   "outputs": [],
   "source": [
    "from statsmodels.graphics.gofplots import qqplot\n",
    "xt,_ = stats.boxcox(df.loc[df.stiffness == \"64.0\", 'vim'])\n",
    "qqplot(xt, line='s');"
   ]
  },
  {
   "cell_type": "markdown",
   "metadata": {},
   "source": [
    "## Comparison of distributions"
   ]
  },
  {
   "cell_type": "code",
   "execution_count": null,
   "metadata": {
    "collapsed": true
   },
   "outputs": [],
   "source": [
    "mannwhitneytest('stiffness', 'cvratio', alternative='two-sided')"
   ]
  },
  {
   "cell_type": "code",
   "execution_count": null,
   "metadata": {
    "collapsed": true
   },
   "outputs": [],
   "source": [
    "welchsttest('stiffness', 'cvratio', False)"
   ]
  },
  {
   "cell_type": "code",
   "execution_count": null,
   "metadata": {
    "collapsed": true
   },
   "outputs": [],
   "source": [
    "stats.ttest_ind(df.loc[df.stiffness == '0.2', 'cvratio'], \n",
    "                df.loc[df.stiffness == '32.0', 'cvratio'],\n",
    "                equal_var=False)"
   ]
  },
  {
   "cell_type": "code",
   "execution_count": null,
   "metadata": {
    "collapsed": true
   },
   "outputs": [],
   "source": [
    "def ftest(by, col, transform=None):\n",
    "\n",
    "    group = df[by].unique()\n",
    "    for i in range(len(group) - 1):\n",
    "        x1 = df.loc[df[by] == group[0], col]\n",
    "        x2 = df.loc[df[by] == group[i + 1], col]\n",
    "\n",
    "        if transform == 'log':\n",
    "            x1 = np.log(x1)\n",
    "            x2 = np.log(x2)\n",
    "        elif transform == 'boxcox':\n",
    "            x1,_ = stats.boxcox(x1)\n",
    "            x2,_ = stats.boxcox(x2)\n",
    "\n",
    "        _, p = stats.f_oneway(x1, x2)\n",
    "        if p < 0.001:\n",
    "            sign = '***'\n",
    "        elif p < 0.01:\n",
    "            sign = '**'\n",
    "        elif p < 0.05:\n",
    "            sign = '*'\n",
    "        else:\n",
    "            sign = ''\n",
    "\n",
    "        print(\"An F test on samples {} vs {}. {} \\t p-value = {:.2}.\"\n",
    "              .format(group[0], group[i + 1],  sign, p))"
   ]
  },
  {
   "cell_type": "code",
   "execution_count": null,
   "metadata": {
    "collapsed": true
   },
   "outputs": [],
   "source": [
    "ftest('stiffness', 'ker')"
   ]
  },
  {
   "cell_type": "markdown",
   "metadata": {},
   "source": [
    "## Changes in Vimentin"
   ]
  },
  {
   "cell_type": "code",
   "execution_count": null,
   "metadata": {
    "collapsed": true
   },
   "outputs": [],
   "source": [
    "df.vim.hist(bins=50);"
   ]
  },
  {
   "cell_type": "code",
   "execution_count": null,
   "metadata": {
    "collapsed": true
   },
   "outputs": [],
   "source": [
    "# Choose a cutoff for Vimentin expression\n",
    "cutoff = df.vim.quantile(0.90)\n",
    "print(cutoff)\n",
    "df['highvim'] = np.where(df.vim > cutoff, 1, 0)\n",
    "df.groupby('stiffness').highvim.sum() / df.groupby('stiffness').size() * 100"
   ]
  },
  {
   "cell_type": "markdown",
   "metadata": {},
   "source": [
    "# Relationship to morphology"
   ]
  },
  {
   "cell_type": "markdown",
   "metadata": {},
   "source": [
    "## Expression of Vimentin"
   ]
  },
  {
   "cell_type": "code",
   "execution_count": null,
   "metadata": {
    "collapsed": true
   },
   "outputs": [],
   "source": [
    "palette = sns.color_palette(\"Set3\", 7)"
   ]
  },
  {
   "cell_type": "code",
   "execution_count": null,
   "metadata": {
    "collapsed": true
   },
   "outputs": [],
   "source": [
    "df = measurements_red"
   ]
  },
  {
   "cell_type": "code",
   "execution_count": null,
   "metadata": {
    "collapsed": true
   },
   "outputs": [],
   "source": [
    "# Choose a cutoff for Vimentin expression\n",
    "cutoff = df.meanintensity_vim.quantile(0.90)\n",
    "df['highvim'] = np.where(df.meanintensity_vim >= cutoff, 1, 0)"
   ]
  },
  {
   "cell_type": "code",
   "execution_count": null,
   "metadata": {
    "collapsed": true
   },
   "outputs": [],
   "source": [
    "counts = df.groupby(['stiffness', 'image']).highvim.value_counts().unstack().fillna(0)\n",
    "counts['csum'] = counts.sum(axis=1)\n",
    "counts['perc1'] = counts.iloc[:, 0] / counts.csum * 100\n",
    "counts['perc2'] = counts.iloc[:, 1] / counts.csum * 100\n",
    "counts.reset_index(inplace=True)\n",
    "counts.head()"
   ]
  },
  {
   "cell_type": "code",
   "execution_count": null,
   "metadata": {
    "collapsed": true
   },
   "outputs": [],
   "source": [
    "plt.rcParams['figure.figsize'] = (10, 5)\n",
    "\n",
    "sns.barplot(x='stiffness', y='perc2', \n",
    "            data=counts, palette=palette,\n",
    "            ci='sd', capsize=.1);\n",
    "plt.xlabel(\"Stiffness\");\n",
    "plt.ylabel(\"Percentage\");\n",
    "plt.title(\"Fraction of cells with high vimentin\");\n",
    "# plt.savefig('../results/high Vim.png', bbox_inches='tight', dpi=300);"
   ]
  },
  {
   "cell_type": "code",
   "execution_count": null,
   "metadata": {
    "collapsed": true
   },
   "outputs": [],
   "source": [
    "df[geom_cols].corrwith(df.meanintensity_vim).abs().sort_values(ascending=False).head(10)"
   ]
  },
  {
   "cell_type": "code",
   "execution_count": null,
   "metadata": {
    "collapsed": true
   },
   "outputs": [],
   "source": [
    "df[geom_cols].corrwith(df.meanintensity_vim, method='spearman').abs().sort_values(ascending=False).head(10)"
   ]
  },
  {
   "cell_type": "code",
   "execution_count": null,
   "metadata": {
    "collapsed": true
   },
   "outputs": [],
   "source": [
    "sns.lmplot(x='ncr', y='meanintensity_vim', data=df, fit_reg=True, legend=False);\n",
    "plt.xlabel(\"NCR, a.u.\");\n",
    "plt.ylabel(\"Vimentin Expression, a.u.\");\n",
    "plt.savefig('../results/Vim vs NCR.png', bbox_inches='tight', dpi=300);"
   ]
  },
  {
   "cell_type": "code",
   "execution_count": null,
   "metadata": {
    "collapsed": true
   },
   "outputs": [],
   "source": [
    "sns.lmplot(x='area_cell', y='meanintensity_vim', hue='highvim', data=df, fit_reg=False, legend=False);\n",
    "plt.legend(loc='center', bbox_to_anchor=(0.8, 0.9), fontsize = 'large', \n",
    "           labels=['Below 90th percentile', 'Above 90th percentile']);\n",
    "plt.xlabel(\"Cell area, px\");\n",
    "plt.ylabel(\"Vimentin Expression, a.u.\");\n",
    "plt.title(\"Fraction of cells with high vimentin\");\n",
    "plt.savefig('../results/High vim vs cell area.png', bbox_inches='tight', dpi=300);"
   ]
  },
  {
   "cell_type": "code",
   "execution_count": null,
   "metadata": {
    "collapsed": true
   },
   "outputs": [],
   "source": [
    "sns.lmplot(x='minferetdiameter_cell', y='meanintensity_vim', hue='highvim', data=df, fit_reg=False);"
   ]
  },
  {
   "cell_type": "code",
   "execution_count": null,
   "metadata": {
    "collapsed": true
   },
   "outputs": [],
   "source": [
    "sns.lmplot(x='formfactor_cell', y='meanintensity_vim', hue='highvim', data=df, fit_reg=False);"
   ]
  },
  {
   "cell_type": "code",
   "execution_count": null,
   "metadata": {
    "collapsed": true
   },
   "outputs": [],
   "source": [
    "df[geom_cols].corrwith(df.highvim, method='spearman').abs().sort_values(ascending=False).head(10)"
   ]
  },
  {
   "cell_type": "code",
   "execution_count": null,
   "metadata": {
    "collapsed": true
   },
   "outputs": [],
   "source": [
    "plt.rcParams['figure.figsize'] = (5, 5)\n",
    "sns.boxplot(x=df.highvim, y=df.area_cell);"
   ]
  },
  {
   "cell_type": "code",
   "execution_count": null,
   "metadata": {
    "collapsed": true
   },
   "outputs": [],
   "source": [
    "sns.boxplot(x=df.highvim, y=df.area_cell);"
   ]
  },
  {
   "cell_type": "markdown",
   "metadata": {},
   "source": [
    "## Expression of Cytokeratins"
   ]
  },
  {
   "cell_type": "code",
   "execution_count": null,
   "metadata": {
    "collapsed": true
   },
   "outputs": [],
   "source": [
    "df['highker'] = np.where(df.meanintensity_ker > df.meanintensity_ker.quantile(0.9), 1, 0)"
   ]
  },
  {
   "cell_type": "code",
   "execution_count": null,
   "metadata": {
    "collapsed": true
   },
   "outputs": [],
   "source": [
    "counts = df.groupby(['stiffness', 'image']).highker.value_counts().unstack().fillna(0)\n",
    "counts['csum'] = counts.sum(axis=1)\n",
    "counts.head()"
   ]
  },
  {
   "cell_type": "code",
   "execution_count": null,
   "metadata": {
    "collapsed": true
   },
   "outputs": [],
   "source": [
    "counts['perc1'] = counts.iloc[:, 0] / counts.csum * 100\n",
    "counts['perc2'] = counts.iloc[:, 1] / counts.csum * 100\n",
    "counts.reset_index(inplace=True)\n",
    "counts.head()"
   ]
  },
  {
   "cell_type": "code",
   "execution_count": null,
   "metadata": {
    "collapsed": true
   },
   "outputs": [],
   "source": [
    "plt.rcParams['figure.figsize'] = (10, 5)\n",
    "\n",
    "sns.barplot(x='stiffness', y='perc2', \n",
    "            data=counts, palette=palette,\n",
    "            ci='sd', capsize=.1);\n",
    "plt.xlabel(\"Stiffness\");\n",
    "plt.ylabel(\"Percentage\");\n",
    "plt.title(\"Percentage of cells with high cytokeratins\");"
   ]
  },
  {
   "cell_type": "code",
   "execution_count": null,
   "metadata": {
    "collapsed": true
   },
   "outputs": [],
   "source": [
    "df[geom_cols].corrwith(df.meanintensity_ker, method='spearman').abs().sort_values(ascending=False).head(10)"
   ]
  },
  {
   "cell_type": "code",
   "execution_count": null,
   "metadata": {
    "collapsed": true
   },
   "outputs": [],
   "source": [
    "sns.lmplot(x='perimeter_cell', y='meanintensity_ker', hue='highker', data=df, fit_reg=False);"
   ]
  },
  {
   "cell_type": "code",
   "execution_count": null,
   "metadata": {
    "collapsed": true
   },
   "outputs": [],
   "source": [
    "plt.rcParams['figure.figsize'] = (5, 5)\n",
    "sns.boxplot(x=df.highker, y=df.perimeter_cell);"
   ]
  },
  {
   "cell_type": "code",
   "execution_count": null,
   "metadata": {
    "collapsed": true
   },
   "outputs": [],
   "source": [
    "sns.boxplot(x='stiffness', y='area_cell', data=df);"
   ]
  },
  {
   "cell_type": "code",
   "execution_count": null,
   "metadata": {
    "collapsed": true
   },
   "outputs": [],
   "source": [
    "sns.boxplot(x='stiffness', y='formfactor_cell', data=df);"
   ]
  },
  {
   "cell_type": "markdown",
   "metadata": {},
   "source": [
    "## Correlation with log(ratio)"
   ]
  },
  {
   "cell_type": "code",
   "execution_count": null,
   "metadata": {
    "collapsed": true
   },
   "outputs": [],
   "source": [
    "geom_cols = [col for col in morph_cols if 'dapi' not in col and 'wga' not in col]\n",
    "\n",
    "\n",
    "p_corr = measurements[geom_cols].corrwith(measurements.log_ratio)\n",
    "\n",
    "sns.set(rc={'figure.figsize':(15, 2)})\n",
    "\n",
    "sns.heatmap(pd.DataFrame(p_corr, columns=['Pearsons']).T, \n",
    "            cmap=sns.color_palette(\"RdBu_r\", 100), \n",
    "            vmin=-1, vmax=1);"
   ]
  },
  {
   "cell_type": "code",
   "execution_count": null,
   "metadata": {
    "collapsed": true
   },
   "outputs": [],
   "source": [
    "abs(p_corr).sort_values(ascending=False).head(10)"
   ]
  },
  {
   "cell_type": "code",
   "execution_count": null,
   "metadata": {
    "collapsed": true
   },
   "outputs": [],
   "source": [
    "s_corr = measurements[geom_cols].corrwith(measurements.log_ratio, method='spearman')\n",
    "\n",
    "sns.set(rc={'figure.figsize':(15, 2)})\n",
    "\n",
    "sns.heatmap(pd.DataFrame(s_corr, columns=['Spearmans']).T, \n",
    "            cmap=sns.color_palette(\"RdBu_r\", 100), \n",
    "            vmin=-1, vmax=1);"
   ]
  },
  {
   "cell_type": "code",
   "execution_count": null,
   "metadata": {
    "collapsed": true
   },
   "outputs": [],
   "source": [
    "top_s_corr_features = abs(s_corr).sort_values(ascending=False).head(10).index\n",
    "sns.pairplot(pd.concat([measurements[top_s_corr_features], \n",
    "                        measurements.log_ratio], \n",
    "                       axis=1));"
   ]
  },
  {
   "cell_type": "markdown",
   "metadata": {},
   "source": [
    "###### Linear Regression"
   ]
  },
  {
   "cell_type": "code",
   "execution_count": null,
   "metadata": {
    "collapsed": true
   },
   "outputs": [],
   "source": [
    "X = measurements[morph_cols]\n",
    "y = measurements.log_ratio\n",
    "\n",
    "X_train, X_test, y_train, y_test = train_test_split(X, y)\n",
    "print(X_train.shape, X_test.shape)\n",
    "\n",
    "scaler = StandardScaler()\n",
    "X_train_scaled = scaler.fit_transform(X_train)s\n",
    "X_test_scaled = scaler.transform(X_test)\n",
    "\n",
    "lin_reg = LinearRegression()\n",
    "lin_reg.fit(X_train_scaled, y_train)\n",
    "\n",
    "y_pred = lin_reg.predict(X_test_scaled)\n",
    "rmse_test = np.sqrt(mean_squared_error(y_test, y_pred))\n",
    "print(\"Testing RMSE:\", rmse_test)\n",
    "\n",
    "print(\"Null RMSE:\", np.sqrt(mean_squared_error(y_test, y_test.apply(lambda x: np.median(y_train)))))"
   ]
  },
  {
   "cell_type": "markdown",
   "metadata": {},
   "source": [
    "###### Polynomial regression"
   ]
  },
  {
   "cell_type": "code",
   "execution_count": null,
   "metadata": {
    "collapsed": true
   },
   "outputs": [],
   "source": [
    "X = pd.to_numeric(measurements.stiffness).values.reshape(-1, 1)\n",
    "y = measurements.log_ratio\n",
    "\n",
    "poly_features = PolynomialFeatures(degree=3)\n",
    "X_poly = poly_features.fit_transform(X)\n",
    "\n",
    "X_train, X_test, y_train, y_test = train_test_split(X_poly, y)\n",
    "print(X_train.shape, X_test.shape)\n",
    "\n",
    "scaler = StandardScaler()\n",
    "X_train_scaled = scaler.fit_transform(X_train)\n",
    "X_test_scaled = scaler.transform(X_test)\n",
    "\n",
    "lasso_reg = Lasso(alpha=0.001)\n",
    "lasso_reg.fit(X_train_scaled, y_train)\n",
    "\n",
    "y_pred = lasso_reg.predict(X_test_scaled)\n",
    "rmse_test = np.sqrt(mean_squared_error(y_test, y_pred))\n",
    "print(\"Testing RMSE:\", rmse_test)\n",
    "\n",
    "print(\"Null RMSE:\", np.sqrt(mean_squared_error(y_test, y_test.apply(lambda x: np.median(y_train)))))\n",
    "\n",
    "lasso_reg.coef_"
   ]
  },
  {
   "cell_type": "code",
   "execution_count": null,
   "metadata": {
    "collapsed": true
   },
   "outputs": [],
   "source": [
    "measurements['stiffness_num'] = pd.to_numeric(measurements.stiffness)\n",
    "sns.lmplot(x='stiffness_num', y='log_ratio', data=measurements, order=3, height=7, truncate=True);"
   ]
  },
  {
   "cell_type": "markdown",
   "metadata": {},
   "source": [
    "###### Random Forest regressor"
   ]
  },
  {
   "cell_type": "code",
   "execution_count": null,
   "metadata": {
    "collapsed": true
   },
   "outputs": [],
   "source": [
    "geom_cols = [col for col in morph_cols if 'dapi' not in col and 'wga' not in col]\n",
    "cell_cols = [col for col in morph_cols if 'cell' in col]"
   ]
  },
  {
   "cell_type": "code",
   "execution_count": null,
   "metadata": {
    "collapsed": true
   },
   "outputs": [],
   "source": [
    "X = measurements[morph_cols]\n",
    "y = np.log(measurements.meanintensity_vim)\n",
    "\n",
    "X_train, X_test, y_train, y_test = train_test_split(X, y)\n",
    "print(X_train.shape, X_test.shape)\n",
    "\n",
    "scaler = StandardScaler()\n",
    "X_train_scaled = scaler.fit_transform(X_train)\n",
    "X_test_scaled = scaler.transform(X_test)\n",
    "\n",
    "rf_reg = RandomForestRegressor(n_estimators=1000, max_features=10)\n",
    "rf_reg.fit(X_train_scaled, y_train)\n",
    "\n",
    "y_pred = rf_reg.predict(X_test_scaled)\n",
    "rmse_test = np.sqrt(mean_squared_error(y_test, y_pred))\n",
    "print(\"Testing RMSE:\", rmse_test)\n",
    "\n",
    "print(\"Null RMSE:\", np.sqrt(mean_squared_error(y_test, y_test.apply(lambda x: np.median(y_train)))))"
   ]
  },
  {
   "cell_type": "code",
   "execution_count": null,
   "metadata": {
    "collapsed": true,
    "scrolled": false
   },
   "outputs": [],
   "source": [
    "feature_importance = zip(X.columns, rf_reg.feature_importances_)\n",
    "\n",
    "print(\"\\nFeature importances:\")\n",
    "for col, weight in feature_importance:\n",
    "    if (weight > 0.02):\n",
    "        print(col, weight)\n",
    "\n",
    "importances = rf_reg.feature_importances_\n",
    "std = np.std([tree.feature_importances_ for tree in rf_reg.estimators_], axis=0)\n",
    "indices = np.argsort(importances)[::-1]\n",
    "\n",
    "# Print the feature ranking\n",
    "print(\"Feature ranking:\")\n",
    "\n",
    "for f in range(10):\n",
    "    print(\"%d. feature %d: (%f)\" % (f + 1, indices[f], importances[indices[f]]))\n",
    "\n",
    "# Plot the feature importances of the forest\n",
    "plt.figure()\n",
    "plt.title(\"Feature importances\")\n",
    "plt.bar(range(X.shape[1]), importances[indices],\n",
    "       color=\"r\", yerr=std[indices], align=\"center\")\n",
    "plt.xticks(range(X.shape[1]), indices)\n",
    "plt.xlim([-1, X.shape[1]])\n",
    "plt.show()"
   ]
  },
  {
   "cell_type": "code",
   "execution_count": null,
   "metadata": {
    "collapsed": true
   },
   "outputs": [],
   "source": [
    "measurements['log_ker'] = np.log(measurements.meanintensity_ker)\n",
    "measurements['log_vim'] = np.log(measurements.meanintensity_vim)\n",
    "sns.lmplot(x='log_vim', y='area_cell', data=measurements, order=1, height=7);"
   ]
  },
  {
   "cell_type": "markdown",
   "metadata": {},
   "source": [
    "###### Split ratio values into \"low\", \"medium\" and \"high\""
   ]
  },
  {
   "cell_type": "code",
   "execution_count": null,
   "metadata": {
    "collapsed": true
   },
   "outputs": [],
   "source": [
    "def phenotype(df, use, cols=('meanintensity_ker', 'meanintensity_vim')):\n",
    "    if use=='log_ratio':\n",
    "        df['log_ratio'] = np.log(df[cols[0]]/df[cols[1]])\n",
    "        q1 = df.log_ratio.quantile(0.33)\n",
    "        q3 = df.log_ratio.quantile(0.66)\n",
    "        df['region'] = pd.cut(df.log_ratio, \n",
    "                             bins=(df.log_ratio.min(), q1, q3, df.log_ratio.max()), \n",
    "                             labels=[\"low\", \"med\", \"high\"], include_lowest=True)\n",
    "    elif use=='log_biom':\n",
    "        df['log_ker'] = np.log(df[cols[0]])\n",
    "        df['log_vim'] = np.log(df[cols[1]])\n",
    "        df['region'] = \"low\"\n",
    "        df.loc[(df.log_ker < df.log_ker.median()) &\n",
    "                         (df.log_vim > df.log_vim.median()), 'region'] = \"high vim\"\n",
    "        df.loc[(df.log_ker > df.log_ker.median()) &\n",
    "                         (df.log_vim < df.log_vim.median()), 'region'] = \"high ker\"\n",
    "        df.loc[(df.log_ker > df.log_ker.median()) &\n",
    "                         (df.log_vim > df.log_vim.median()), 'region'] = \"high\""
   ]
  },
  {
   "cell_type": "code",
   "execution_count": null,
   "metadata": {
    "collapsed": true
   },
   "outputs": [],
   "source": [
    "phenotype(df, use='log_ratio', cols=('ker', 'vim'))"
   ]
  },
  {
   "cell_type": "code",
   "execution_count": null,
   "metadata": {
    "collapsed": true
   },
   "outputs": [],
   "source": [
    "sns.set(rc={'figure.figsize':(12, 8)})\n",
    "\n",
    "sns.scatterplot(x='vim', y='ker', data=df, \n",
    "                hue='region', s=50,\n",
    "                palette=sns.color_palette(\"Set1\", 3));"
   ]
  },
  {
   "cell_type": "code",
   "execution_count": null,
   "metadata": {
    "collapsed": true
   },
   "outputs": [],
   "source": [
    "df.groupby('stiffness')['region'].value_counts().unstack().plot(kind='bar', stacked=True, legend=False);\n",
    "plt.legend(loc='center left', bbox_to_anchor=(1, 0.5), fontsize = 'large');"
   ]
  },
  {
   "cell_type": "markdown",
   "metadata": {},
   "source": [
    "###### Split ker and vim values into \"low\" and \"high\""
   ]
  },
  {
   "cell_type": "code",
   "execution_count": null,
   "metadata": {
    "collapsed": true
   },
   "outputs": [],
   "source": [
    "sns.set(rc={'figure.figsize':(12, 8)})\n",
    "\n",
    "sns.scatterplot(x='log_vim', y='log_ker', data=df, \n",
    "                hue='stiffness', s=50,\n",
    "                palette=sns.color_palette(\"Set3\", 7));"
   ]
  },
  {
   "cell_type": "code",
   "execution_count": null,
   "metadata": {
    "collapsed": true
   },
   "outputs": [],
   "source": [
    "proc.phenotype(df, use='log_biom', cols=('ker', 'vim'))"
   ]
  },
  {
   "cell_type": "code",
   "execution_count": null,
   "metadata": {
    "collapsed": true
   },
   "outputs": [],
   "source": [
    "sns.scatterplot(x='vim', y='ker', data=df, \n",
    "                hue='region', s=50,\n",
    "                palette=sns.color_palette(\"Set1\", 4));"
   ]
  },
  {
   "cell_type": "code",
   "execution_count": null,
   "metadata": {
    "collapsed": true
   },
   "outputs": [],
   "source": [
    "df.groupby('stiffness')['region'].value_counts().unstack().plot(kind='bar', stacked=True, legend=False);\n",
    "plt.legend(loc='center left', bbox_to_anchor=(1, 0.5), fontsize = 'large');"
   ]
  },
  {
   "cell_type": "markdown",
   "metadata": {},
   "source": [
    "###### Random Forest Classifier"
   ]
  },
  {
   "cell_type": "code",
   "execution_count": null,
   "metadata": {
    "collapsed": true
   },
   "outputs": [],
   "source": [
    "proc.phenotype(measurements, use='log_ratio')\n",
    "region_num = {'low':0, 'med':1, 'high':2}\n",
    "# region_num = {'low':0, 'high ker':1, 'high vim':2, 'high':3}"
   ]
  },
  {
   "cell_type": "code",
   "execution_count": null,
   "metadata": {
    "collapsed": true
   },
   "outputs": [],
   "source": [
    "X = measurements[morph_cols]\n",
    "y = measurements.region.map(region_num)\n",
    "\n",
    "X_train, X_test, y_train, y_test = train_test_split(X, y)\n",
    "print(X_train.shape, X_test.shape)\n",
    "\n",
    "scaler = StandardScaler()\n",
    "X_train_scaled = scaler.fit_transform(X_train)\n",
    "X_test_scaled = scaler.transform(X_test)\n",
    "\n",
    "rf_clf = RandomForestClassifier(n_estimators=1000)\n",
    "rf_clf.fit(X_train_scaled, y_train)\n",
    "\n",
    "y_pred = rf_clf.predict(X_test_scaled)\n",
    "acc_test = accuracy_score(y_test, y_pred)\n",
    "print(\"Testing accuraccy:\", acc_test)\n",
    "print(\"Testing f-score:\", f1_score(y_test, y_pred, average='macro'))\n",
    "\n",
    "most_freq_class = y_train.value_counts().index[0]\n",
    "print(\"Most frequent class:\", most_freq_class)\n",
    "\n",
    "n_most_freq = y_test.value_counts()[most_freq_class]\n",
    "print(\"Null accuraccy:\", n_most_freq / len(y_test))"
   ]
  },
  {
   "cell_type": "code",
   "execution_count": null,
   "metadata": {
    "collapsed": true
   },
   "outputs": [],
   "source": [
    "# labels = y_test.unique().sort_values()\n",
    "labels = sorted(y_test.unique())\n",
    "confusion = confusion_matrix(y_test, y_pred, labels=labels)\n",
    "confusion_df = pd.DataFrame(confusion, columns=labels, index=labels)\n",
    "confusion_df"
   ]
  },
  {
   "cell_type": "code",
   "execution_count": null,
   "metadata": {
    "collapsed": true
   },
   "outputs": [],
   "source": [
    "feature_importance = zip(X.columns, rf_clf.feature_importances_)\n",
    "\n",
    "print(\"\\nFeature importances:\")\n",
    "for col, weight in feature_importance:\n",
    "    if (weight > 0.02):\n",
    "        print(col, weight)\n",
    "\n",
    "importances = rf_clf.feature_importances_\n",
    "std = np.std([tree.feature_importances_ for tree in rf_clf.estimators_], axis=0)\n",
    "indices = np.argsort(importances)[::-1]\n",
    "\n",
    "# Print the feature ranking\n",
    "print(\"Feature ranking:\")\n",
    "\n",
    "for f in range(10):\n",
    "    print(\"%d. feature %d: (%f)\" % (f + 1, indices[f], importances[indices[f]]))\n",
    "\n",
    "# Plot the feature importances of the forest\n",
    "plt.figure()\n",
    "plt.title(\"Feature importances\")\n",
    "plt.bar(range(X.shape[1]), importances[indices],\n",
    "       color=\"r\", yerr=std[indices], align=\"center\")\n",
    "plt.xticks(range(X.shape[1]), indices)\n",
    "plt.xlim([-1, X.shape[1]])\n",
    "plt.show()"
   ]
  },
  {
   "cell_type": "markdown",
   "metadata": {},
   "source": [
    "###### Standartise data"
   ]
  },
  {
   "cell_type": "code",
   "execution_count": null,
   "metadata": {
    "collapsed": true
   },
   "outputs": [],
   "source": [
    "df['ratio'] = df.ker / df.vim\n",
    "X = df[['ker', 'vim', 'ratio']]\n",
    "\n",
    "scaler = StandardScaler()\n",
    "X_scaled = scaler.fit_transform(X)\n",
    "\n",
    "df = pd.concat([df, pd.DataFrame(X_scaled, columns=['ker_scaled', 'vim_scaled', 'ratio_scaled'])], axis=1)\n",
    "print(X_scaled.shape)"
   ]
  },
  {
   "cell_type": "code",
   "execution_count": null,
   "metadata": {
    "collapsed": true
   },
   "outputs": [],
   "source": [
    "plt.rcParams['figure.figsize'] = (15, 5)\n",
    "sns.boxplot(x=df.stiffness, y=df.ker_scaled, palette=palette);"
   ]
  },
  {
   "cell_type": "code",
   "execution_count": null,
   "metadata": {
    "collapsed": true
   },
   "outputs": [],
   "source": [
    "df.hist(column='ker_scaled', by='stiffness', bins=20, \n",
    "                sharex=True, sharey=True, \n",
    "                layout=(2, 4), figsize=(20, 6));\n",
    "plt.tight_layout()"
   ]
  },
  {
   "cell_type": "code",
   "execution_count": null,
   "metadata": {
    "collapsed": true
   },
   "outputs": [],
   "source": [
    "sns.boxplot(x=df.stiffness, y=df.vim_scaled, palette=palette);"
   ]
  },
  {
   "cell_type": "code",
   "execution_count": null,
   "metadata": {
    "collapsed": true
   },
   "outputs": [],
   "source": [
    "df.hist(column='vim_scaled', by='stiffness', bins=20, \n",
    "                sharex=True, sharey=True, \n",
    "                layout=(2, 4), figsize=(20, 6));\n",
    "plt.tight_layout()"
   ]
  },
  {
   "cell_type": "code",
   "execution_count": null,
   "metadata": {
    "collapsed": true
   },
   "outputs": [],
   "source": [
    "sns.boxplot(x=df.stiffness, y=df.ker_scaled/df.vim_scaled, palette=palette);"
   ]
  },
  {
   "cell_type": "code",
   "execution_count": null,
   "metadata": {
    "collapsed": true
   },
   "outputs": [],
   "source": [
    "sns.boxplot(x=df.stiffness, y=df.ratio_scaled, palette=palette);"
   ]
  },
  {
   "cell_type": "markdown",
   "metadata": {},
   "source": [
    "### Cytokeratin to Vimentin ratio"
   ]
  },
  {
   "cell_type": "code",
   "execution_count": null,
   "metadata": {
    "collapsed": true
   },
   "outputs": [],
   "source": [
    "biomarkers['ratio'] = biomarkers.meanintensity_ker / biomarkers.meanintensity_vim"
   ]
  },
  {
   "cell_type": "code",
   "execution_count": null,
   "metadata": {
    "collapsed": true
   },
   "outputs": [],
   "source": [
    "sns.barplot(x=biomarkers.stiffness, y=biomarkers.ratio, \n",
    "            estimator=np.mean, ci='sd', capsize=.1, palette=palette);\n",
    "plt.xlabel(\"Stiffness, kPa\")\n",
    "plt.ylabel(\"Mean of the ratio\")\n",
    "plt.title(\"Ratio of Cytokeratin to Vimentin\");\n",
    "# plt.savefig('../results/Ker to Vim ratio syn.png', bbox_inches='tight', dpi=300);"
   ]
  },
  {
   "cell_type": "code",
   "execution_count": null,
   "metadata": {
    "collapsed": true
   },
   "outputs": [],
   "source": [
    "sns.boxplot(x=biomarkers.stiffness, y=biomarkers.ratio, palette=palette);\n",
    "plt.xlabel(\"Stiffness, kPa\")\n",
    "plt.ylabel(\"Maximum value\")\n",
    "plt.title(\"Ratio of Cytokeratin to Vimentin\");"
   ]
  },
  {
   "cell_type": "code",
   "execution_count": null,
   "metadata": {
    "collapsed": true
   },
   "outputs": [],
   "source": [
    "biomarkers.groupby('stiffness').ratio.quantile(0.75).plot(kind='bar');"
   ]
  },
  {
   "cell_type": "code",
   "execution_count": null,
   "metadata": {
    "collapsed": true
   },
   "outputs": [],
   "source": [
    "sns.set(rc={'figure.figsize':(8, 8)})\n",
    "sns.scatterplot(x='meanintensity_vim', y='meanintensity_ker', data=biomarkers, \n",
    "                hue='stiffness', palette=palette);"
   ]
  },
  {
   "cell_type": "markdown",
   "metadata": {},
   "source": [
    "#### Histograms"
   ]
  },
  {
   "cell_type": "code",
   "execution_count": null,
   "metadata": {
    "collapsed": true
   },
   "outputs": [],
   "source": [
    "plt.rcParams['figure.figsize'] = (15, 6)\n",
    "biomarkers.ratio.hist(bins = 100);\n",
    "plt.xlabel(\"Value\")\n",
    "plt.ylabel(\"Count\")\n",
    "plt.title(\"Histogram of Cytokeratin to Vimentin Ratio\");\n",
    "# plt.savefig('../results/Ker to Vim ratio syn hist.png', bbox_inches='tight', dpi=300);"
   ]
  },
  {
   "cell_type": "code",
   "execution_count": null,
   "metadata": {
    "collapsed": true
   },
   "outputs": [],
   "source": [
    "biomarkers.hist(column='ratio', by='stiffness', bins=20, \n",
    "                sharex=False, sharey=True, \n",
    "                layout=(2, 4), figsize=(20, 6));\n",
    "plt.tight_layout()\n",
    "# plt.savefig('../results/Ker to Vim ratio syn hist by stiffness.png', bbox_inches='tight', dpi=300);"
   ]
  },
  {
   "cell_type": "code",
   "execution_count": null,
   "metadata": {
    "collapsed": true
   },
   "outputs": [],
   "source": [
    "sns.boxplot(x=biomarkers.stiffness, y=biomarkers.meanintensity_ker);"
   ]
  },
  {
   "cell_type": "code",
   "execution_count": null,
   "metadata": {
    "collapsed": true
   },
   "outputs": [],
   "source": [
    "biomarkers.hist(column='meanintensity_ker', by='stiffness', bins=20, \n",
    "                sharex=False, sharey=True, \n",
    "                layout=(2, 4), figsize=(20, 6));\n",
    "plt.tight_layout()"
   ]
  },
  {
   "cell_type": "code",
   "execution_count": null,
   "metadata": {
    "collapsed": true
   },
   "outputs": [],
   "source": [
    "sns.boxplot(x=biomarkers.stiffness, y=biomarkers.meanintensity_vim);"
   ]
  },
  {
   "cell_type": "code",
   "execution_count": null,
   "metadata": {
    "collapsed": true
   },
   "outputs": [],
   "source": [
    "biomarkers.hist(column='meanintensity_vim', by='stiffness', bins=20, \n",
    "                sharex=False, sharey=True, \n",
    "                layout=(2, 4), figsize=(20, 6));\n",
    "plt.tight_layout()"
   ]
  },
  {
   "cell_type": "code",
   "execution_count": null,
   "metadata": {
    "collapsed": true
   },
   "outputs": [],
   "source": [
    "biomarkers[biomarkers.stiffness==\"32.0\"].hist(column='ratio', bins=20, figsize=(8, 6));"
   ]
  },
  {
   "cell_type": "markdown",
   "metadata": {},
   "source": [
    "###### Log transform `ratio`"
   ]
  },
  {
   "cell_type": "code",
   "execution_count": null,
   "metadata": {
    "collapsed": true
   },
   "outputs": [],
   "source": [
    "biomarkers['log_ratio'] = np.log(biomarkers.ratio)"
   ]
  },
  {
   "cell_type": "code",
   "execution_count": null,
   "metadata": {
    "collapsed": true
   },
   "outputs": [],
   "source": [
    "sns.barplot(x=biomarkers.stiffness, y=biomarkers.log_ratio, \n",
    "            estimator=np.median, ci=None, capsize=.1);\n",
    "plt.xlabel(\"Stiffness, kPa\")\n",
    "plt.ylabel(\"Median of the ln(ratio)\")\n",
    "plt.title(\"Ratio of Cytokeratin to Vimentin\");\n",
    "# plt.savefig('../results/Ker to Vim ratio.png', bbox_inches='tight', dpi=300);"
   ]
  },
  {
   "cell_type": "code",
   "execution_count": null,
   "metadata": {
    "collapsed": true
   },
   "outputs": [],
   "source": [
    "biomarkers.log_ratio.hist(bins = 100);\n",
    "plt.xlabel(\"Value\")\n",
    "plt.ylabel(\"Count\")\n",
    "plt.title(\"Histogram of logarithm of Cytokeratin to Vimentin Ratio\");\n",
    "# plt.savefig('../results/Ker to Vim ratio hist.png', bbox_inches='tight', dpi=300);"
   ]
  },
  {
   "cell_type": "markdown",
   "metadata": {},
   "source": [
    "#### Classification using Random Forest\n",
    "The distribution of Ker/Vim ratio is bimodal at 16 kPa. Can we predict the ratio and find out which morphological features are highly associated with it?"
   ]
  },
  {
   "cell_type": "code",
   "execution_count": null,
   "metadata": {
    "collapsed": true
   },
   "outputs": [],
   "source": [
    "stiff16 = measurements.loc[measurements.stiffness=='32.0']\n",
    "X = stiff16[morph_cols]\n",
    "y = np.where((stiff16.meanintensity_ker / stiff16.meanintensity_vim) < 3, 0, 1)\n",
    " \n",
    "print(\"Initial X, y shapes:\", X.shape, y.shape)\n",
    "\n",
    "X_train, X_test, y_train, y_test = train_test_split(X, y)\n",
    "print(\"X_train and X_test shapes:\", X_train.shape, X_test.shape)\n",
    "\n",
    "rfc = RandomForestClassifier(n_estimators=100)\n",
    "rfc.fit(X_train, y_train)\n",
    "\n",
    "y_pred = rfc.predict(X_test)\n",
    "print(\"Testing accuraccy:\", accuracy_score(y_test, y_pred))\n",
    "print(\"Testing f-score:\", f1_score(y_test, y_pred, average='macro'))\n",
    "\n",
    "feature_importance = zip(feature_cols, rfc.feature_importances_)\n",
    "\n",
    "print(\"\\nRF feature importance:\\n\")\n",
    "for col, weight in feature_importance:\n",
    "    if (weight > 0.03):\n",
    "        print(col, weight)"
   ]
  },
  {
   "cell_type": "markdown",
   "metadata": {},
   "source": [
    "### Clustering"
   ]
  },
  {
   "cell_type": "code",
   "execution_count": null,
   "metadata": {
    "collapsed": true
   },
   "outputs": [],
   "source": [
    "# Create a feature map\n",
    "X = measurements[measurements.stiffness=='16.0'].reset_index().drop('index', axis=1)\n",
    "\n",
    "# Standartise the data\n",
    "scaler = StandardScaler()\n",
    "X_scaled = scaler.fit_transform(X[feature_cols])\n",
    "\n",
    "measurements_scaled = pd.concat([X[meta_cols],\n",
    "                                 pd.DataFrame(data = X_scaled, columns = feature_cols)], \n",
    "                                axis=1)"
   ]
  },
  {
   "cell_type": "code",
   "execution_count": null,
   "metadata": {
    "collapsed": true
   },
   "outputs": [],
   "source": [
    "measurements_scaled['ratio'] = X.meanintensity_ker / X.meanintensity_vim\n",
    "measurements_scaled['ratio_bin'] = np.where(measurements_scaled.ratio < 4, 0, 1)\n",
    "\n",
    "my_palette = dict(zip(measurements_scaled.ratio_bin.unique(), sns.color_palette(\"Set3\", 2)))\n",
    "row_colors = measurements_scaled.ratio_bin.map(my_palette)\n",
    "\n",
    "\n",
    "sns.clustermap(measurements_scaled[feature_cols], \n",
    "               metric='euclidean', method='ward', \n",
    "               col_cluster=False,\n",
    "               cmap=sns.color_palette('RdBu_r', 100), robust=True,\n",
    "               row_colors=row_colors);            "
   ]
  },
  {
   "cell_type": "code",
   "execution_count": null,
   "metadata": {
    "collapsed": true
   },
   "outputs": [],
   "source": [
    "measurements_scaled['ratio'].hist(bins=20, figsize=(8, 6));"
   ]
  },
  {
   "cell_type": "markdown",
   "metadata": {},
   "source": [
    "#### Linear Regression"
   ]
  },
  {
   "cell_type": "code",
   "execution_count": null,
   "metadata": {
    "collapsed": true
   },
   "outputs": [],
   "source": [
    "from sklearn.model_selection import train_test_split\n",
    "from sklearn.preprocessing import StandardScaler, PolynomialFeatures\n",
    "from sklearn.linear_model import LinearRegression\n",
    "from sklearn.metrics import mean_squared_error\n",
    "\n",
    "X = np.array(pd.to_numeric(intensity.stiffness))\n",
    "y = intensity.norm_ratio\n",
    "\n",
    "X.shape, y.shape"
   ]
  },
  {
   "cell_type": "code",
   "execution_count": null,
   "metadata": {
    "collapsed": true
   },
   "outputs": [],
   "source": [
    "X_train, X_test, y_train, y_test = train_test_split(X, y, random_state=1)\n",
    "\n",
    "X_train = X_train.reshape((-1, 1))\n",
    "X_test = X_test.reshape((-1, 1))\n",
    "\n",
    "X_train.shape, X_test.shape"
   ]
  },
  {
   "cell_type": "code",
   "execution_count": null,
   "metadata": {
    "collapsed": true
   },
   "outputs": [],
   "source": [
    "scaler = StandardScaler()\n",
    "X_train_scaled = scaler.fit_transform(X_train)\n",
    "X_test_scaled = scaler.transform(X_test)"
   ]
  },
  {
   "cell_type": "code",
   "execution_count": null,
   "metadata": {
    "collapsed": true
   },
   "outputs": [],
   "source": [
    "lin_reg = LinearRegression()\n",
    "lin_reg.fit(X_train_scaled, y_train)\n",
    "lin_reg.intercept_, lin_reg.coef_"
   ]
  },
  {
   "cell_type": "code",
   "execution_count": null,
   "metadata": {
    "collapsed": true
   },
   "outputs": [],
   "source": [
    "y_pred = lin_reg.predict(X_test_scaled)\n",
    "mse = mean_squared_error(y_test, y_pred)\n",
    "np.sqrt(mse)"
   ]
  },
  {
   "cell_type": "markdown",
   "metadata": {},
   "source": [
    "#### Polynomial regression"
   ]
  },
  {
   "cell_type": "code",
   "execution_count": null,
   "metadata": {
    "collapsed": true
   },
   "outputs": [],
   "source": [
    "poly_features = PolynomialFeatures(degree=2, include_bias=False)\n",
    "\n",
    "X_train_poly = poly_features.fit_transform(X_train)\n",
    "X_test_poly = poly_features.fit_transform(X_test)\n",
    "\n",
    "X_train_poly.shape, X_test_poly.shape"
   ]
  },
  {
   "cell_type": "code",
   "execution_count": null,
   "metadata": {
    "collapsed": true
   },
   "outputs": [],
   "source": [
    "scaler = StandardScaler()\n",
    "X_train_scaled = scaler.fit_transform(X_train_poly)\n",
    "X_test_scaled = scaler.transform(X_test_poly)"
   ]
  },
  {
   "cell_type": "code",
   "execution_count": null,
   "metadata": {
    "collapsed": true
   },
   "outputs": [],
   "source": [
    "lin_reg = LinearRegression()\n",
    "lin_reg.fit(X_train_scaled, y_train)\n",
    "lin_reg.intercept_, lin_reg.coef_"
   ]
  },
  {
   "cell_type": "code",
   "execution_count": null,
   "metadata": {
    "collapsed": true
   },
   "outputs": [],
   "source": [
    "y_pred = lin_reg.predict(X_test_scaled)\n",
    "mse = mean_squared_error(y_test, y_pred)\n",
    "np.sqrt(mse)"
   ]
  },
  {
   "cell_type": "code",
   "execution_count": null,
   "metadata": {
    "collapsed": true
   },
   "outputs": [],
   "source": [
    "stiffness = [0.2, 0.5, 2.0, 8.0, 16.0, 32.0, 64.0]"
   ]
  },
  {
   "cell_type": "markdown",
   "metadata": {},
   "source": [
    "#### K-Means"
   ]
  },
  {
   "cell_type": "code",
   "execution_count": null,
   "metadata": {
    "collapsed": true
   },
   "outputs": [],
   "source": [
    "from sklearn import metrics\n",
    "from sklearn.preprocessing import StandardScaler\n",
    "from sklearn.cluster import KMeans, DBSCAN, AgglomerativeClustering\n",
    "\n",
    "#X = np.array(intensity.norm_ratio).reshape((-1, 1))\n",
    "X = np.array(intensity[['normintensity_ker', 'normintensity_vim']])"
   ]
  },
  {
   "cell_type": "code",
   "execution_count": null,
   "metadata": {
    "collapsed": true
   },
   "outputs": [],
   "source": [
    "scaler = StandardScaler()\n",
    "X_scaled = scaler.fit_transform(X)"
   ]
  },
  {
   "cell_type": "code",
   "execution_count": null,
   "metadata": {
    "collapsed": true
   },
   "outputs": [],
   "source": [
    "km = KMeans(n_clusters=3, random_state=1)\n",
    "km.fit(X_scaled)"
   ]
  },
  {
   "cell_type": "code",
   "execution_count": null,
   "metadata": {
    "collapsed": true
   },
   "outputs": [],
   "source": [
    "intensity['cluster'] = km.labels_\n",
    "km.labels_"
   ]
  },
  {
   "cell_type": "code",
   "execution_count": null,
   "metadata": {
    "collapsed": true
   },
   "outputs": [],
   "source": [
    "# Group by clusters and calculate the mean of each feature.\n",
    "intensity.groupby('cluster').mean()"
   ]
  },
  {
   "cell_type": "code",
   "execution_count": null,
   "metadata": {
    "collapsed": true
   },
   "outputs": [],
   "source": [
    "sns.scatterplot(data=intensity, x='normintensity_ker', y='normintensity_vim', \n",
    "                hue='stiffness', palette=sns.color_palette(\"husl\", 7), s=100);\n",
    "plt.xlim(0, 70)\n",
    "plt.ylim(0, 70)"
   ]
  },
  {
   "cell_type": "code",
   "execution_count": null,
   "metadata": {
    "collapsed": true
   },
   "outputs": [],
   "source": [
    "pd.crosstab(intensity.stiffness, intensity.cluster)"
   ]
  },
  {
   "cell_type": "markdown",
   "metadata": {},
   "source": [
    "### Statistical testing"
   ]
  },
  {
   "cell_type": "markdown",
   "metadata": {},
   "source": [
    "#### Check parametric assumptions"
   ]
  },
  {
   "cell_type": "code",
   "execution_count": null,
   "metadata": {
    "collapsed": true
   },
   "outputs": [],
   "source": [
    "biomarkers.groupby(\"stiffness\").meanintensity_ker.describe()"
   ]
  },
  {
   "cell_type": "code",
   "execution_count": null,
   "metadata": {
    "collapsed": true
   },
   "outputs": [],
   "source": [
    "biomarkers.hist(column='meanintensity_vim', by='stiffness', sharex=True, sharey=True);"
   ]
  },
  {
   "cell_type": "code",
   "execution_count": null,
   "metadata": {
    "collapsed": true
   },
   "outputs": [],
   "source": [
    "biomarkers.groupby(\"stiffness\").meanintensity_vim.describe()"
   ]
  },
  {
   "cell_type": "markdown",
   "metadata": {},
   "source": [
    "#### Two-sample t-test"
   ]
  },
  {
   "cell_type": "markdown",
   "metadata": {},
   "source": [
    "###### Keratin"
   ]
  },
  {
   "cell_type": "code",
   "execution_count": null,
   "metadata": {
    "collapsed": true
   },
   "outputs": [],
   "source": [
    "from scipy.stats import mannwhitneyu, ttest_ind\n",
    "\n",
    "print(\"Background in keratin channel:\\n\")\n",
    "\n",
    "t, p = ttest_ind(biomarkers[biomarkers.stiffness == \"0.2\"].meanintensity_ker,\n",
    "                 biomarkers[biomarkers.stiffness == \"2.0\"].meanintensity_ker)\n",
    "print(\"0.2 kPa vs 2.0 kPa \\t p-value =\", p)\n",
    "\n",
    "t, p = ttest_ind(biomarkers[biomarkers.stiffness == \"2.0\"].meanintensity_ker,\n",
    "                 biomarkers[biomarkers.stiffness == \"16.0\"].meanintensity_ker)\n",
    "print(\"2.0 kPa vs 16.0 kPa \\t p-value =\", p)\n",
    "\n",
    "t, p = ttest_ind(biomarkers[biomarkers.stiffness == \"16.0\"].meanintensity_ker,\n",
    "                 biomarkers[biomarkers.stiffness == \"32.0\"].meanintensity_ker)\n",
    "print(\"16.0 kPa vs 32.0 kPa \\t p-value =\", p)\n",
    "      \n",
    "t, p = ttest_ind(biomarkers[biomarkers.stiffness == \"32.0\"].meanintensity_ker,\n",
    "                 biomarkers[biomarkers.stiffness == \"64.0\"].meanintensity_ker, \n",
    "                 equal_var=False)\n",
    "print(\"32.0 kPa vs 64.0 kPa \\t p-value =\", p)"
   ]
  },
  {
   "cell_type": "markdown",
   "metadata": {},
   "source": [
    "###### Vimentin"
   ]
  },
  {
   "cell_type": "code",
   "execution_count": null,
   "metadata": {
    "collapsed": true
   },
   "outputs": [],
   "source": [
    "print(\"Intensity in vimentin channel:\\n\")\n",
    "\n",
    "t, p = ttest_ind(biomarkers[biomarkers.stiffness == \"0.2\"].meanintensity_vim,\n",
    "                 biomarkers[biomarkers.stiffness == \"2.0\"].meanintensity_vim, \n",
    "                 equal_var=False)\n",
    "print(\"0.2 kPa vs 2.0 kPa \\t p-value =\", p)\n",
    "\n",
    "t, p = ttest_ind(biomarkers[biomarkers.stiffness == \"2.0\"].meanintensity_vim,\n",
    "                 biomarkers[biomarkers.stiffness == \"16.0\"].meanintensity_vim, \n",
    "                 equal_var=False)\n",
    "print(\"2.0 kPa vs 16.0 kPa \\t p-value =\", p)\n",
    "\n",
    "t, p = ttest_ind(biomarkers[biomarkers.stiffness == \"16.0\"].meanintensity_vim,\n",
    "                 biomarkers[biomarkers.stiffness == \"32.0\"].meanintensity_vim, \n",
    "                 equal_var=False)\n",
    "print(\"16.0 kPa vs 32.0 kPa \\t p-value =\", p)\n",
    "      \n",
    "t, p = ttest_ind(biomarkers[biomarkers.stiffness == \"32.0\"].meanintensity_vim,\n",
    "                 biomarkers[biomarkers.stiffness == \"64.0\"].meanintensity_vim, \n",
    "                 equal_var=False)\n",
    "print(\"32.0 kPa vs 64.0 kPa \\t p-value =\", p)"
   ]
  },
  {
   "cell_type": "markdown",
   "metadata": {},
   "source": [
    "## Create dataframes for Keratin and Vimentin"
   ]
  },
  {
   "cell_type": "code",
   "execution_count": null,
   "metadata": {
    "collapsed": true
   },
   "outputs": [],
   "source": [
    "channels = ['ker', 'vim']\n",
    "keratin, vimentin = prep.split_dataset(biomarkers_, channels=channels)"
   ]
  },
  {
   "cell_type": "code",
   "execution_count": null,
   "metadata": {
    "collapsed": true
   },
   "outputs": [],
   "source": [
    "print(keratin.shape, vimentin.shape)"
   ]
  },
  {
   "cell_type": "markdown",
   "metadata": {},
   "source": [
    "## Correlations between features"
   ]
  },
  {
   "cell_type": "markdown",
   "metadata": {},
   "source": [
    "### Keratin"
   ]
  },
  {
   "cell_type": "code",
   "execution_count": null,
   "metadata": {
    "collapsed": true
   },
   "outputs": [],
   "source": [
    "keratin_ = keratin.copy()\n",
    "keratin_['stiffness_num'] = pd.to_numeric(keratin_.stiffness)"
   ]
  },
  {
   "cell_type": "code",
   "execution_count": null,
   "metadata": {
    "collapsed": true
   },
   "outputs": [],
   "source": [
    "correlations = keratin_.corr();"
   ]
  },
  {
   "cell_type": "code",
   "execution_count": null,
   "metadata": {
    "collapsed": true,
    "scrolled": false
   },
   "outputs": [],
   "source": [
    "plt.rcParams['figure.figsize'] = (12, 10)\n",
    "\n",
    "sns.heatmap(correlations, cmap=sns.color_palette(\"PRGn_r\", 100), vmin=-1, vmax=1);\n",
    "\n",
    "plt.savefig('../results/Keratin Correlations.png', bbox_inches='tight', dpi=300);"
   ]
  },
  {
   "cell_type": "code",
   "execution_count": null,
   "metadata": {
    "collapsed": true,
    "scrolled": false
   },
   "outputs": [],
   "source": [
    "correlations.stiffness_num"
   ]
  },
  {
   "cell_type": "markdown",
   "metadata": {},
   "source": [
    "### Vimentin"
   ]
  },
  {
   "cell_type": "code",
   "execution_count": null,
   "metadata": {
    "collapsed": true
   },
   "outputs": [],
   "source": [
    "vimentin_ = vimentin.copy()\n",
    "vimentin_['stiffness_num'] = pd.to_numeric(vimentin_.stiffness)"
   ]
  },
  {
   "cell_type": "code",
   "execution_count": null,
   "metadata": {
    "collapsed": true,
    "scrolled": false
   },
   "outputs": [],
   "source": [
    "correlations = vimentin_.corr();"
   ]
  },
  {
   "cell_type": "code",
   "execution_count": null,
   "metadata": {
    "collapsed": true,
    "scrolled": false
   },
   "outputs": [],
   "source": [
    "plt.rcParams['figure.figsize'] = (12, 10)\n",
    "\n",
    "sns.heatmap(correlations, cmap=sns.color_palette(\"PRGn_r\", 100), vmin=-1, vmax=1);\n",
    "\n",
    "plt.savefig('../results/Vimentin Correlations.png', bbox_inches='tight', dpi=300);"
   ]
  },
  {
   "cell_type": "code",
   "execution_count": null,
   "metadata": {
    "collapsed": true
   },
   "outputs": [],
   "source": [
    "correlations.stiffness_num"
   ]
  },
  {
   "cell_type": "markdown",
   "metadata": {},
   "source": [
    "## Explore groups of features"
   ]
  },
  {
   "cell_type": "markdown",
   "metadata": {},
   "source": [
    "### Keratin"
   ]
  },
  {
   "cell_type": "code",
   "execution_count": null,
   "metadata": {
    "collapsed": true
   },
   "outputs": [],
   "source": [
    "list(keratin_.columns)"
   ]
  },
  {
   "cell_type": "markdown",
   "metadata": {},
   "source": [
    "###### Intensity"
   ]
  },
  {
   "cell_type": "code",
   "execution_count": null,
   "metadata": {
    "collapsed": true
   },
   "outputs": [],
   "source": [
    "intensity = pd.concat([keratin_.loc[:, 'integratedintensityedge' : 'stdintensity'], keratin_.stiffness_num], axis=1) \n",
    "print(intensity.shape)"
   ]
  },
  {
   "cell_type": "code",
   "execution_count": null,
   "metadata": {
    "collapsed": true
   },
   "outputs": [],
   "source": [
    "# Transformations\n",
    "group['log_majoraxislength_cell'] = np.log(group['majoraxislength_cell'])\n",
    "#group['log_eccentricity_cell'] = np.log(group['eccentricity_cell'])\n",
    "group['majoraxislength_cell'].hist();"
   ]
  },
  {
   "cell_type": "code",
   "execution_count": null,
   "metadata": {
    "collapsed": true
   },
   "outputs": [],
   "source": [
    "sns.heatmap(intensity.corr(), cmap=sns.color_palette(\"PRGn_r\", 100), vmin=-1, vmax=1);"
   ]
  },
  {
   "cell_type": "code",
   "execution_count": null,
   "metadata": {
    "collapsed": true
   },
   "outputs": [],
   "source": [
    "edge_intensity = intensity[[col for col in group.columns if 'edge' in col]]\n",
    "edge_intensity.head()"
   ]
  },
  {
   "cell_type": "code",
   "execution_count": null,
   "metadata": {
    "collapsed": true
   },
   "outputs": [],
   "source": [
    "sns.heatmap(edge_intensity.corr(), annot=True, cmap=sns.color_palette(\"PRGn_r\", 100), vmin=-1, vmax=1);"
   ]
  },
  {
   "cell_type": "code",
   "execution_count": null,
   "metadata": {
    "collapsed": true
   },
   "outputs": [],
   "source": [
    "sns.pairplot(edge_intensity, height=3);"
   ]
  },
  {
   "cell_type": "markdown",
   "metadata": {},
   "source": [
    "## Clustering"
   ]
  },
  {
   "cell_type": "markdown",
   "metadata": {},
   "source": [
    "### K-Means"
   ]
  },
  {
   "cell_type": "code",
   "execution_count": null,
   "metadata": {
    "collapsed": true
   },
   "outputs": [],
   "source": [
    "from sklearn import metrics\n",
    "from sklearn.preprocessing import StandardScaler\n",
    "from sklearn.cluster import KMeans, DBSCAN, AgglomerativeClustering\n",
    "\n",
    "X = biomarkers_[feature_cols]"
   ]
  },
  {
   "cell_type": "code",
   "execution_count": null,
   "metadata": {
    "collapsed": true
   },
   "outputs": [],
   "source": [
    "scaler = StandardScaler()\n",
    "X_scaled = scaler.fit_transform(X)"
   ]
  },
  {
   "cell_type": "code",
   "execution_count": null,
   "metadata": {
    "collapsed": true
   },
   "outputs": [],
   "source": [
    "km = KMeans(n_clusters=3, random_state=1)\n",
    "km.fit(X_scaled)"
   ]
  },
  {
   "cell_type": "code",
   "execution_count": null,
   "metadata": {
    "collapsed": true
   },
   "outputs": [],
   "source": [
    "# Review cluster labels.\n",
    "km.labels_"
   ]
  },
  {
   "cell_type": "code",
   "execution_count": null,
   "metadata": {
    "collapsed": true
   },
   "outputs": [],
   "source": [
    "#Save the cluster labels and sort by cluster.\n",
    "biomarkers_['cluster'] = km.labels_\n",
    "biomarkers_.sort_values('cluster')"
   ]
  },
  {
   "cell_type": "code",
   "execution_count": null,
   "metadata": {
    "collapsed": true
   },
   "outputs": [],
   "source": [
    "# Review the custer centers.\n",
    "km.cluster_centers_.shape"
   ]
  },
  {
   "cell_type": "code",
   "execution_count": null,
   "metadata": {
    "collapsed": true
   },
   "outputs": [],
   "source": [
    "# Group by clusters and calculate the mean of each feature.\n",
    "biomarkers_.groupby('cluster').mean()"
   ]
  },
  {
   "cell_type": "code",
   "execution_count": null,
   "metadata": {
    "collapsed": true
   },
   "outputs": [],
   "source": [
    "# Save the `DataFrame` of cluster centroids.\n",
    "centroids = biomarkers_.groupby('cluster').mean()"
   ]
  },
  {
   "cell_type": "code",
   "execution_count": null,
   "metadata": {
    "collapsed": true
   },
   "outputs": [],
   "source": [
    "colors = sns.color_palette(\"husl\", 5)\n",
    "\n",
    "sns.scatterplot(data=biomarkers_, x='meanintensityedge_origker', y='meanintensityedge_origvim', \n",
    "                s=100, hue='stiffness_num', palette=colors);"
   ]
  },
  {
   "cell_type": "code",
   "execution_count": null,
   "metadata": {
    "collapsed": true
   },
   "outputs": [],
   "source": [
    "colors = sns.color_palette(\"husl\", 3)\n",
    "\n",
    "sns.scatterplot(data=biomarkers_, x='meanintensityedge_origker', y='meanintensityedge_origvim', \n",
    "                s=100, hue='cluster', palette=colors);\n",
    "\n",
    "sns.scatterplot(data=centroids, x='meanintensityedge_origker', y='meanintensityedge_origvim', \n",
    "                linewidth=3, marker='x', \n",
    "                s=200, color='black');"
   ]
  },
  {
   "cell_type": "code",
   "execution_count": null,
   "metadata": {
    "collapsed": true
   },
   "outputs": [],
   "source": [
    "pd.crosstab(biomarkers_.stiffness_num, biomarkers_.cluster)"
   ]
  },
  {
   "cell_type": "markdown",
   "metadata": {},
   "source": [
    "### DBSCAN"
   ]
  },
  {
   "cell_type": "code",
   "execution_count": null,
   "metadata": {
    "collapsed": true
   },
   "outputs": [],
   "source": [
    "X = biomarkers_[feature_cols]"
   ]
  },
  {
   "cell_type": "code",
   "execution_count": null,
   "metadata": {
    "collapsed": true
   },
   "outputs": [],
   "source": [
    "scaler = StandardScaler()\n",
    "X_scaled = scaler.fit_transform(X)"
   ]
  },
  {
   "cell_type": "code",
   "execution_count": null,
   "metadata": {
    "collapsed": true
   },
   "outputs": [],
   "source": [
    "db = DBSCAN(eps=0.001, min_samples=3)\n",
    "db.fit(X_scaled)"
   ]
  },
  {
   "cell_type": "code",
   "execution_count": null,
   "metadata": {
    "collapsed": true
   },
   "outputs": [],
   "source": [
    "# Review the cluster labels.\n",
    "db.labels_"
   ]
  },
  {
   "cell_type": "markdown",
   "metadata": {},
   "source": [
    "### Agglomerative clustering"
   ]
  },
  {
   "cell_type": "code",
   "execution_count": null,
   "metadata": {
    "collapsed": true
   },
   "outputs": [],
   "source": [
    "biomarkers_norm = biomarkers_.copy()\n",
    "# Standardise the entire dataset\n",
    "biomarkers_norm[feature_cols] = (biomarkers_norm[feature_cols] - biomarkers_norm[feature_cols].mean()) / biomarkers_norm[feature_cols].std()"
   ]
  },
  {
   "cell_type": "code",
   "execution_count": null,
   "metadata": {
    "collapsed": true
   },
   "outputs": [],
   "source": [
    "# Prepare a vector of colours mapped to the 'stiffness' column\n",
    "my_palette = dict(zip(biomarkers_norm.stiffness.unique(), sns.color_palette(\"Set3\", 5)))\n",
    "row_colors = biomarkers_norm.stiffness.map(my_palette)\n",
    "\n",
    "print(my_palette.keys())\n",
    "sns.palplot(my_palette.values())"
   ]
  },
  {
   "cell_type": "code",
   "execution_count": null,
   "metadata": {
    "collapsed": true
   },
   "outputs": [],
   "source": [
    "sns.clustermap(biomarkers_norm[feature_cols], \n",
    "               metric='euclidean', method='ward', \n",
    "               col_cluster=False,\n",
    "               cmap=sns.color_palette('RdBu_r', 100), robust=True, \n",
    "               row_colors=row_colors);\n",
    "\n",
    "#plt.savefig('../results/Clustering.png', bbox_inches='tight', dpi=300);"
   ]
  },
  {
   "cell_type": "markdown",
   "metadata": {},
   "source": [
    "## Intensity by stiffness"
   ]
  },
  {
   "cell_type": "markdown",
   "metadata": {},
   "source": [
    "### Keratin"
   ]
  },
  {
   "cell_type": "code",
   "execution_count": null,
   "metadata": {
    "collapsed": true
   },
   "outputs": [],
   "source": [
    "keratin['total_px'] = keratin['Intensity_IntegratedIntensity_OrigKer'] / keratin['Intensity_MeanIntensity_OrigKer']\n",
    "keratin['edge_px'] = keratin['Intensity_IntegratedIntensityEdge_OrigKer'] / keratin['Intensity_MeanIntensityEdge_OrigKer']"
   ]
  },
  {
   "cell_type": "code",
   "execution_count": null,
   "metadata": {
    "collapsed": true
   },
   "outputs": [],
   "source": [
    "keratin.head(3)"
   ]
  },
  {
   "cell_type": "code",
   "execution_count": null,
   "metadata": {
    "collapsed": true
   },
   "outputs": [],
   "source": [
    "keratin['IntegratedIntensityInner'] = keratin['Intensity_IntegratedIntensity_OrigKer'] - keratin['Intensity_IntegratedIntensityEdge_OrigKer']\n",
    "\n",
    "keratin['MeanIntensityInner'] = keratin['IntegratedIntensityInner'] / (keratin['total_px'] - keratin['edge_px'])"
   ]
  },
  {
   "cell_type": "code",
   "execution_count": null,
   "metadata": {
    "collapsed": true,
    "scrolled": false
   },
   "outputs": [],
   "source": [
    "intensity_cols = ['Intensity_IntegratedIntensity_OrigKer', \n",
    "                  'IntegratedIntensityInner', \n",
    "                  'Intensity_IntegratedIntensityEdge_OrigKer']\n",
    "\n",
    "fig, ax = plt.subplots()\n",
    "keratin.groupby('stiffness')[intensity_cols].mean().plot(kind='bar', \n",
    "                                                         title=\"Integrated intensity of Cytokeratin\", \n",
    "                                                         fontsize=14,\n",
    "                                                         ax=ax);\n",
    "ax.legend([\"Integrated Intensity\", \"Integrated Inner Intensity\", \"Integrated Edge Intensity\"], fontsize=14);"
   ]
  },
  {
   "cell_type": "code",
   "execution_count": null,
   "metadata": {
    "collapsed": true
   },
   "outputs": [],
   "source": [
    "intensity_cols = ['Intensity_MeanIntensity_OrigKer', \n",
    "                  'MeanIntensityInner', \n",
    "                  'Intensity_MeanIntensityEdge_OrigKer']\n",
    "\n",
    "fig, ax = plt.subplots()\n",
    "keratin.groupby('stiffness')[intensity_cols].mean().plot(kind='bar', \n",
    "                                                         title=\"Mean intensity of Cytokeratin\", \n",
    "                                                         fontsize=14,\n",
    "                                                         ax=ax);\n",
    "ax.legend([\"Mean Intensity\", \"Mean Inner Intensity\", \"Mean Edge Intensity\"], fontsize=14);\n",
    "\n",
    "plt.savefig('../results/Cytokeratin Mean Intensity.png', bbox_inches='tight', dpi=300);"
   ]
  },
  {
   "cell_type": "markdown",
   "metadata": {},
   "source": [
    "### Vimentin"
   ]
  },
  {
   "cell_type": "code",
   "execution_count": null,
   "metadata": {
    "collapsed": true
   },
   "outputs": [],
   "source": [
    "vimentin['total_px'] = vimentin['Intensity_IntegratedIntensity_OrigVim'] / vimentin['Intensity_MeanIntensity_OrigVim']\n",
    "vimentin['edge_px'] = vimentin['Intensity_IntegratedIntensityEdge_OrigVim'] / vimentin['Intensity_MeanIntensityEdge_OrigVim']"
   ]
  },
  {
   "cell_type": "code",
   "execution_count": null,
   "metadata": {
    "collapsed": true
   },
   "outputs": [],
   "source": [
    "vimentin.head(3)"
   ]
  },
  {
   "cell_type": "code",
   "execution_count": null,
   "metadata": {
    "collapsed": true
   },
   "outputs": [],
   "source": [
    "vimentin['IntegratedIntensityInner'] = vimentin['Intensity_IntegratedIntensity_OrigVim'] - vimentin['Intensity_IntegratedIntensityEdge_OrigVim']\n",
    "\n",
    "vimentin['MeanIntensityInner'] = vimentin['IntegratedIntensityInner'] / (vimentin['total_px'] - vimentin['edge_px'])"
   ]
  },
  {
   "cell_type": "code",
   "execution_count": null,
   "metadata": {
    "collapsed": true,
    "scrolled": false
   },
   "outputs": [],
   "source": [
    "intensity_cols = ['Intensity_IntegratedIntensity_OrigVim', \n",
    "                  'IntegratedIntensityInner', \n",
    "                  'Intensity_IntegratedIntensityEdge_OrigVim']\n",
    "\n",
    "fig, ax = plt.subplots()\n",
    "vimentin.groupby('stiffness')[intensity_cols].mean().plot(kind='bar', \n",
    "                                                         title=\"Integrated intensity of Vimentin\", \n",
    "                                                         fontsize=14,\n",
    "                                                         ax=ax);\n",
    "ax.legend([\"Integrated Intensity\", \"Integrated Inner Intensity\", \"Integrated Edge Intensity\"], fontsize=14);"
   ]
  },
  {
   "cell_type": "code",
   "execution_count": null,
   "metadata": {
    "collapsed": true
   },
   "outputs": [],
   "source": [
    "intensity_cols = ['Intensity_MeanIntensity_OrigVim', \n",
    "                  'MeanIntensityInner', \n",
    "                  'Intensity_MeanIntensityEdge_OrigVim']\n",
    "\n",
    "fig, ax = plt.subplots()\n",
    "vimentin.groupby('stiffness')[intensity_cols].mean().plot(kind='bar', \n",
    "                                                         title=\"Mean intensity of Vimentin\", \n",
    "                                                         fontsize=14,\n",
    "                                                         ax=ax);\n",
    "ax.legend([\"Mean Intensity\", \"Mean Inner Intensity\", \"Mean Edge Intensity\"], fontsize=14);\n",
    "\n",
    "plt.savefig('../results/Vimentin Mean Intensity.png', bbox_inches='tight', dpi=300);"
   ]
  }
 ],
 "metadata": {
  "kernelspec": {
   "display_name": "Python 3",
   "language": "python",
   "name": "python3"
  },
  "language_info": {
   "codemirror_mode": {
    "name": "ipython",
    "version": 3
   },
   "file_extension": ".py",
   "mimetype": "text/x-python",
   "name": "python",
   "nbconvert_exporter": "python",
   "pygments_lexer": "ipython3",
   "version": "3.6.8"
  },
  "toc": {
   "base_numbering": 1,
   "nav_menu": {},
   "number_sections": true,
   "sideBar": true,
   "skip_h1_title": false,
   "title_cell": "Table of Contents",
   "title_sidebar": "Contents",
   "toc_cell": false,
   "toc_position": {},
   "toc_section_display": true,
   "toc_window_display": false
  }
 },
 "nbformat": 4,
 "nbformat_minor": 2
}
