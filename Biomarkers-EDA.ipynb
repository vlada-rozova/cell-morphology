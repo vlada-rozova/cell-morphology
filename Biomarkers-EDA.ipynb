{
 "cells": [
  {
   "cell_type": "code",
   "execution_count": 1,
   "metadata": {
    "collapsed": true
   },
   "outputs": [],
   "source": [
    "import os\n",
    "import pandas as pd\n",
    "import numpy as np\n",
    "import preprocess_data as prep\n",
    "from pandas.api.types import CategoricalDtype\n",
    "import seaborn as sns\n",
    "from matplotlib import pyplot as plt\n",
    "\n",
    "%matplotlib inline\n",
    "\n",
    "plt.style.use('seaborn')\n",
    "plt.rcParams['figure.figsize'] = (15, 5)\n",
    "plt.rcParams['axes.titlesize'] = 20\n",
    "plt.rcParams['axes.labelsize'] = 16\n",
    "plt.rcParams['xtick.labelsize'] = 14\n",
    "plt.rcParams['ytick.labelsize'] = 14\n",
    "\n",
    "DATA_PATH = '../cell-profiler/measurements'\n",
    "FILENAME = 'Biomarkers_Cells.csv'"
   ]
  },
  {
   "cell_type": "markdown",
   "metadata": {},
   "source": [
    "## Load and parse the data"
   ]
  },
  {
   "cell_type": "code",
   "execution_count": 2,
   "metadata": {},
   "outputs": [
    {
     "name": "stdout",
     "output_type": "stream",
     "text": [
      "The are no repeated column names: True\n"
     ]
    }
   ],
   "source": [
    "biomarkers = prep.cell_data(data_path=DATA_PATH, cytoplasm=False, biomarkers=True)"
   ]
  },
  {
   "cell_type": "code",
   "execution_count": 3,
   "metadata": {
    "scrolled": true
   },
   "outputs": [
    {
     "name": "stdout",
     "output_type": "stream",
     "text": [
      "(612, 157)\n"
     ]
    },
    {
     "data": {
      "text/plain": [
       "['label',\n",
       " 'image',\n",
       " 'object',\n",
       " 'combination',\n",
       " 'site',\n",
       " 'stiffness',\n",
       " 'well',\n",
       " 'integratedintensityedge_ker',\n",
       " 'integratedintensityedge_vim',\n",
       " 'integratedintensity_ker',\n",
       " 'integratedintensity_vim',\n",
       " 'lowerquartileintensity_ker',\n",
       " 'lowerquartileintensity_vim',\n",
       " 'madintensity_ker',\n",
       " 'madintensity_vim',\n",
       " 'massdisplacement_ker',\n",
       " 'massdisplacement_vim',\n",
       " 'maxintensityedge_ker',\n",
       " 'maxintensityedge_vim',\n",
       " 'maxintensity_ker',\n",
       " 'maxintensity_vim',\n",
       " 'meanintensityedge_ker',\n",
       " 'meanintensityedge_vim',\n",
       " 'meanintensity_ker',\n",
       " 'meanintensity_vim',\n",
       " 'medianintensity_ker',\n",
       " 'medianintensity_vim',\n",
       " 'minintensityedge_ker',\n",
       " 'minintensityedge_vim',\n",
       " 'minintensity_ker',\n",
       " 'minintensity_vim',\n",
       " 'stdintensityedge_ker',\n",
       " 'stdintensityedge_vim',\n",
       " 'stdintensity_ker',\n",
       " 'stdintensity_vim',\n",
       " 'upperquartileintensity_ker',\n",
       " 'upperquartileintensity_vim',\n",
       " 'loc_centermassintensityX_ker',\n",
       " 'loc_centermassintensityX_vim',\n",
       " 'loc_centermassintensityY_ker',\n",
       " 'loc_centermassintensityY_vim',\n",
       " 'loc_centermassintensityZ_ker',\n",
       " 'loc_centermassintensityZ_vim',\n",
       " 'loc_centerX',\n",
       " 'loc_centerY',\n",
       " 'loc_centerZ',\n",
       " 'loc_maxintensityX_ker',\n",
       " 'loc_maxintensityX_vim',\n",
       " 'loc_maxintensityY_ker',\n",
       " 'loc_maxintensityY_vim',\n",
       " 'loc_maxintensityZ_ker',\n",
       " 'loc_maxintensityZ_vim',\n",
       " 'number_object_number',\n",
       " 'angularsecondmoment_ker_00',\n",
       " 'angularsecondmoment_ker_01',\n",
       " 'angularsecondmoment_ker_02',\n",
       " 'angularsecondmoment_ker_03',\n",
       " 'angularsecondmoment_vim_00',\n",
       " 'angularsecondmoment_vim_01',\n",
       " 'angularsecondmoment_vim_02',\n",
       " 'angularsecondmoment_vim_03',\n",
       " 'contrast_ker_00',\n",
       " 'contrast_ker_01',\n",
       " 'contrast_ker_02',\n",
       " 'contrast_ker_03',\n",
       " 'contrast_vim_00',\n",
       " 'contrast_vim_01',\n",
       " 'contrast_vim_02',\n",
       " 'contrast_vim_03',\n",
       " 'correlation_ker_00',\n",
       " 'correlation_ker_01',\n",
       " 'correlation_ker_02',\n",
       " 'correlation_ker_03',\n",
       " 'correlation_vim_00',\n",
       " 'correlation_vim_01',\n",
       " 'correlation_vim_02',\n",
       " 'correlation_vim_03',\n",
       " 'differenceentropy_ker_00',\n",
       " 'differenceentropy_ker_01',\n",
       " 'differenceentropy_ker_02',\n",
       " 'differenceentropy_ker_03',\n",
       " 'differenceentropy_vim_00',\n",
       " 'differenceentropy_vim_01',\n",
       " 'differenceentropy_vim_02',\n",
       " 'differenceentropy_vim_03',\n",
       " 'differencevariance_ker_00',\n",
       " 'differencevariance_ker_01',\n",
       " 'differencevariance_ker_02',\n",
       " 'differencevariance_ker_03',\n",
       " 'differencevariance_vim_00',\n",
       " 'differencevariance_vim_01',\n",
       " 'differencevariance_vim_02',\n",
       " 'differencevariance_vim_03',\n",
       " 'entropy_ker_00',\n",
       " 'entropy_ker_01',\n",
       " 'entropy_ker_02',\n",
       " 'entropy_ker_03',\n",
       " 'entropy_vim_00',\n",
       " 'entropy_vim_01',\n",
       " 'entropy_vim_02',\n",
       " 'entropy_vim_03',\n",
       " 'infomeas1_ker_00',\n",
       " 'infomeas1_ker_01',\n",
       " 'infomeas1_ker_02',\n",
       " 'infomeas1_ker_03',\n",
       " 'infomeas1_vim_00',\n",
       " 'infomeas1_vim_01',\n",
       " 'infomeas1_vim_02',\n",
       " 'infomeas1_vim_03',\n",
       " 'infomeas2_ker_00',\n",
       " 'infomeas2_ker_01',\n",
       " 'infomeas2_ker_02',\n",
       " 'infomeas2_ker_03',\n",
       " 'infomeas2_vim_00',\n",
       " 'infomeas2_vim_01',\n",
       " 'infomeas2_vim_02',\n",
       " 'infomeas2_vim_03',\n",
       " 'inversedifferencemoment_ker_00',\n",
       " 'inversedifferencemoment_ker_01',\n",
       " 'inversedifferencemoment_ker_02',\n",
       " 'inversedifferencemoment_ker_03',\n",
       " 'inversedifferencemoment_vim_00',\n",
       " 'inversedifferencemoment_vim_01',\n",
       " 'inversedifferencemoment_vim_02',\n",
       " 'inversedifferencemoment_vim_03',\n",
       " 'sumaverage_ker_00',\n",
       " 'sumaverage_ker_01',\n",
       " 'sumaverage_ker_02',\n",
       " 'sumaverage_ker_03',\n",
       " 'sumaverage_vim_00',\n",
       " 'sumaverage_vim_01',\n",
       " 'sumaverage_vim_02',\n",
       " 'sumaverage_vim_03',\n",
       " 'sumentropy_ker_00',\n",
       " 'sumentropy_ker_01',\n",
       " 'sumentropy_ker_02',\n",
       " 'sumentropy_ker_03',\n",
       " 'sumentropy_vim_00',\n",
       " 'sumentropy_vim_01',\n",
       " 'sumentropy_vim_02',\n",
       " 'sumentropy_vim_03',\n",
       " 'sumvariance_ker_00',\n",
       " 'sumvariance_ker_01',\n",
       " 'sumvariance_ker_02',\n",
       " 'sumvariance_ker_03',\n",
       " 'sumvariance_vim_00',\n",
       " 'sumvariance_vim_01',\n",
       " 'sumvariance_vim_02',\n",
       " 'sumvariance_vim_03',\n",
       " 'variance_ker_00',\n",
       " 'variance_ker_01',\n",
       " 'variance_ker_02',\n",
       " 'variance_ker_03',\n",
       " 'variance_vim_00',\n",
       " 'variance_vim_01',\n",
       " 'variance_vim_02',\n",
       " 'variance_vim_03']"
      ]
     },
     "execution_count": 3,
     "metadata": {},
     "output_type": "execute_result"
    }
   ],
   "source": [
    "print(biomarkers.shape)\n",
    "list(biomarkers.columns)"
   ]
  },
  {
   "cell_type": "markdown",
   "metadata": {},
   "source": [
    "### Cells per stiffness"
   ]
  },
  {
   "cell_type": "code",
   "execution_count": 4,
   "metadata": {},
   "outputs": [
    {
     "data": {
      "text/html": [
       "<div>\n",
       "<style scoped>\n",
       "    .dataframe tbody tr th:only-of-type {\n",
       "        vertical-align: middle;\n",
       "    }\n",
       "\n",
       "    .dataframe tbody tr th {\n",
       "        vertical-align: top;\n",
       "    }\n",
       "\n",
       "    .dataframe thead th {\n",
       "        text-align: right;\n",
       "    }\n",
       "</style>\n",
       "<table border=\"1\" class=\"dataframe\">\n",
       "  <thead>\n",
       "    <tr style=\"text-align: right;\">\n",
       "      <th></th>\n",
       "      <th>label</th>\n",
       "    </tr>\n",
       "    <tr>\n",
       "      <th>stiffness</th>\n",
       "      <th></th>\n",
       "    </tr>\n",
       "  </thead>\n",
       "  <tbody>\n",
       "    <tr>\n",
       "      <th>0.2</th>\n",
       "      <td>83</td>\n",
       "    </tr>\n",
       "    <tr>\n",
       "      <th>0.5</th>\n",
       "      <td>78</td>\n",
       "    </tr>\n",
       "    <tr>\n",
       "      <th>2.0</th>\n",
       "      <td>164</td>\n",
       "    </tr>\n",
       "    <tr>\n",
       "      <th>8.0</th>\n",
       "      <td>49</td>\n",
       "    </tr>\n",
       "    <tr>\n",
       "      <th>16.0</th>\n",
       "      <td>97</td>\n",
       "    </tr>\n",
       "    <tr>\n",
       "      <th>32.0</th>\n",
       "      <td>55</td>\n",
       "    </tr>\n",
       "    <tr>\n",
       "      <th>64.0</th>\n",
       "      <td>86</td>\n",
       "    </tr>\n",
       "  </tbody>\n",
       "</table>\n",
       "</div>"
      ],
      "text/plain": [
       "           label\n",
       "stiffness       \n",
       "0.2           83\n",
       "0.5           78\n",
       "2.0          164\n",
       "8.0           49\n",
       "16.0          97\n",
       "32.0          55\n",
       "64.0          86"
      ]
     },
     "execution_count": 4,
     "metadata": {},
     "output_type": "execute_result"
    }
   ],
   "source": [
    "biomarkers.groupby('stiffness')[['label']].count()"
   ]
  },
  {
   "cell_type": "markdown",
   "metadata": {},
   "source": [
    "## Clean the data"
   ]
  },
  {
   "cell_type": "markdown",
   "metadata": {},
   "source": [
    "### Missing values?"
   ]
  },
  {
   "cell_type": "code",
   "execution_count": 5,
   "metadata": {},
   "outputs": [
    {
     "data": {
      "text/plain": [
       "0"
      ]
     },
     "execution_count": 5,
     "metadata": {},
     "output_type": "execute_result"
    }
   ],
   "source": [
    "biomarkers.isnull().sum().sum()"
   ]
  },
  {
   "cell_type": "markdown",
   "metadata": {},
   "source": [
    "### Descriptive statistics"
   ]
  },
  {
   "cell_type": "code",
   "execution_count": 6,
   "metadata": {
    "collapsed": true,
    "scrolled": false
   },
   "outputs": [],
   "source": [
    "stats = biomarkers.describe()"
   ]
  },
  {
   "cell_type": "code",
   "execution_count": 7,
   "metadata": {},
   "outputs": [
    {
     "data": {
      "text/html": [
       "<div>\n",
       "<style scoped>\n",
       "    .dataframe tbody tr th:only-of-type {\n",
       "        vertical-align: middle;\n",
       "    }\n",
       "\n",
       "    .dataframe tbody tr th {\n",
       "        vertical-align: top;\n",
       "    }\n",
       "\n",
       "    .dataframe thead th {\n",
       "        text-align: right;\n",
       "    }\n",
       "</style>\n",
       "<table border=\"1\" class=\"dataframe\">\n",
       "  <thead>\n",
       "    <tr style=\"text-align: right;\">\n",
       "      <th></th>\n",
       "      <th>integratedintensityedge_ker</th>\n",
       "      <th>integratedintensityedge_vim</th>\n",
       "      <th>integratedintensity_ker</th>\n",
       "      <th>integratedintensity_vim</th>\n",
       "      <th>lowerquartileintensity_ker</th>\n",
       "      <th>lowerquartileintensity_vim</th>\n",
       "      <th>madintensity_ker</th>\n",
       "      <th>madintensity_vim</th>\n",
       "      <th>massdisplacement_ker</th>\n",
       "      <th>massdisplacement_vim</th>\n",
       "      <th>maxintensityedge_ker</th>\n",
       "      <th>maxintensityedge_vim</th>\n",
       "      <th>maxintensity_ker</th>\n",
       "      <th>maxintensity_vim</th>\n",
       "      <th>meanintensityedge_ker</th>\n",
       "      <th>meanintensityedge_vim</th>\n",
       "      <th>meanintensity_ker</th>\n",
       "      <th>meanintensity_vim</th>\n",
       "      <th>medianintensity_ker</th>\n",
       "      <th>medianintensity_vim</th>\n",
       "      <th>minintensityedge_ker</th>\n",
       "      <th>minintensityedge_vim</th>\n",
       "      <th>minintensity_ker</th>\n",
       "      <th>minintensity_vim</th>\n",
       "      <th>stdintensityedge_ker</th>\n",
       "      <th>stdintensityedge_vim</th>\n",
       "      <th>stdintensity_ker</th>\n",
       "      <th>stdintensity_vim</th>\n",
       "      <th>upperquartileintensity_ker</th>\n",
       "      <th>upperquartileintensity_vim</th>\n",
       "      <th>loc_centermassintensityX_ker</th>\n",
       "      <th>loc_centermassintensityX_vim</th>\n",
       "      <th>loc_centermassintensityY_ker</th>\n",
       "      <th>loc_centermassintensityY_vim</th>\n",
       "      <th>loc_centermassintensityZ_ker</th>\n",
       "      <th>loc_centermassintensityZ_vim</th>\n",
       "      <th>loc_centerX</th>\n",
       "      <th>loc_centerY</th>\n",
       "      <th>loc_centerZ</th>\n",
       "      <th>loc_maxintensityX_ker</th>\n",
       "      <th>loc_maxintensityX_vim</th>\n",
       "      <th>loc_maxintensityY_ker</th>\n",
       "      <th>loc_maxintensityY_vim</th>\n",
       "      <th>loc_maxintensityZ_ker</th>\n",
       "      <th>loc_maxintensityZ_vim</th>\n",
       "      <th>number_object_number</th>\n",
       "      <th>angularsecondmoment_ker_00</th>\n",
       "      <th>angularsecondmoment_ker_01</th>\n",
       "      <th>angularsecondmoment_ker_02</th>\n",
       "      <th>angularsecondmoment_ker_03</th>\n",
       "      <th>angularsecondmoment_vim_00</th>\n",
       "      <th>angularsecondmoment_vim_01</th>\n",
       "      <th>angularsecondmoment_vim_02</th>\n",
       "      <th>angularsecondmoment_vim_03</th>\n",
       "      <th>contrast_ker_00</th>\n",
       "      <th>contrast_ker_01</th>\n",
       "      <th>contrast_ker_02</th>\n",
       "      <th>contrast_ker_03</th>\n",
       "      <th>contrast_vim_00</th>\n",
       "      <th>contrast_vim_01</th>\n",
       "      <th>contrast_vim_02</th>\n",
       "      <th>contrast_vim_03</th>\n",
       "      <th>correlation_ker_00</th>\n",
       "      <th>correlation_ker_01</th>\n",
       "      <th>correlation_ker_02</th>\n",
       "      <th>correlation_ker_03</th>\n",
       "      <th>correlation_vim_00</th>\n",
       "      <th>correlation_vim_01</th>\n",
       "      <th>correlation_vim_02</th>\n",
       "      <th>correlation_vim_03</th>\n",
       "      <th>differenceentropy_ker_00</th>\n",
       "      <th>differenceentropy_ker_01</th>\n",
       "      <th>differenceentropy_ker_02</th>\n",
       "      <th>differenceentropy_ker_03</th>\n",
       "      <th>differenceentropy_vim_00</th>\n",
       "      <th>differenceentropy_vim_01</th>\n",
       "      <th>differenceentropy_vim_02</th>\n",
       "      <th>differenceentropy_vim_03</th>\n",
       "      <th>differencevariance_ker_00</th>\n",
       "      <th>differencevariance_ker_01</th>\n",
       "      <th>differencevariance_ker_02</th>\n",
       "      <th>differencevariance_ker_03</th>\n",
       "      <th>differencevariance_vim_00</th>\n",
       "      <th>differencevariance_vim_01</th>\n",
       "      <th>differencevariance_vim_02</th>\n",
       "      <th>differencevariance_vim_03</th>\n",
       "      <th>entropy_ker_00</th>\n",
       "      <th>entropy_ker_01</th>\n",
       "      <th>entropy_ker_02</th>\n",
       "      <th>entropy_ker_03</th>\n",
       "      <th>entropy_vim_00</th>\n",
       "      <th>entropy_vim_01</th>\n",
       "      <th>entropy_vim_02</th>\n",
       "      <th>entropy_vim_03</th>\n",
       "      <th>infomeas1_ker_00</th>\n",
       "      <th>infomeas1_ker_01</th>\n",
       "      <th>infomeas1_ker_02</th>\n",
       "      <th>infomeas1_ker_03</th>\n",
       "      <th>infomeas1_vim_00</th>\n",
       "      <th>infomeas1_vim_01</th>\n",
       "      <th>infomeas1_vim_02</th>\n",
       "      <th>infomeas1_vim_03</th>\n",
       "      <th>infomeas2_ker_00</th>\n",
       "      <th>infomeas2_ker_01</th>\n",
       "      <th>infomeas2_ker_02</th>\n",
       "      <th>infomeas2_ker_03</th>\n",
       "      <th>infomeas2_vim_00</th>\n",
       "      <th>infomeas2_vim_01</th>\n",
       "      <th>infomeas2_vim_02</th>\n",
       "      <th>infomeas2_vim_03</th>\n",
       "      <th>inversedifferencemoment_ker_00</th>\n",
       "      <th>inversedifferencemoment_ker_01</th>\n",
       "      <th>inversedifferencemoment_ker_02</th>\n",
       "      <th>inversedifferencemoment_ker_03</th>\n",
       "      <th>inversedifferencemoment_vim_00</th>\n",
       "      <th>inversedifferencemoment_vim_01</th>\n",
       "      <th>inversedifferencemoment_vim_02</th>\n",
       "      <th>inversedifferencemoment_vim_03</th>\n",
       "      <th>sumaverage_ker_00</th>\n",
       "      <th>sumaverage_ker_01</th>\n",
       "      <th>sumaverage_ker_02</th>\n",
       "      <th>sumaverage_ker_03</th>\n",
       "      <th>sumaverage_vim_00</th>\n",
       "      <th>sumaverage_vim_01</th>\n",
       "      <th>sumaverage_vim_02</th>\n",
       "      <th>sumaverage_vim_03</th>\n",
       "      <th>sumentropy_ker_00</th>\n",
       "      <th>sumentropy_ker_01</th>\n",
       "      <th>sumentropy_ker_02</th>\n",
       "      <th>sumentropy_ker_03</th>\n",
       "      <th>sumentropy_vim_00</th>\n",
       "      <th>sumentropy_vim_01</th>\n",
       "      <th>sumentropy_vim_02</th>\n",
       "      <th>sumentropy_vim_03</th>\n",
       "      <th>sumvariance_ker_00</th>\n",
       "      <th>sumvariance_ker_01</th>\n",
       "      <th>sumvariance_ker_02</th>\n",
       "      <th>sumvariance_ker_03</th>\n",
       "      <th>sumvariance_vim_00</th>\n",
       "      <th>sumvariance_vim_01</th>\n",
       "      <th>sumvariance_vim_02</th>\n",
       "      <th>sumvariance_vim_03</th>\n",
       "      <th>variance_ker_00</th>\n",
       "      <th>variance_ker_01</th>\n",
       "      <th>variance_ker_02</th>\n",
       "      <th>variance_ker_03</th>\n",
       "      <th>variance_vim_00</th>\n",
       "      <th>variance_vim_01</th>\n",
       "      <th>variance_vim_02</th>\n",
       "      <th>variance_vim_03</th>\n",
       "    </tr>\n",
       "  </thead>\n",
       "  <tbody>\n",
       "    <tr>\n",
       "      <th>count</th>\n",
       "      <td>612.000000</td>\n",
       "      <td>612.000000</td>\n",
       "      <td>612.000000</td>\n",
       "      <td>612.000000</td>\n",
       "      <td>612.000000</td>\n",
       "      <td>612.000000</td>\n",
       "      <td>612.000000</td>\n",
       "      <td>612.000000</td>\n",
       "      <td>612.000000</td>\n",
       "      <td>612.000000</td>\n",
       "      <td>612.000000</td>\n",
       "      <td>612.000000</td>\n",
       "      <td>612.000000</td>\n",
       "      <td>612.000000</td>\n",
       "      <td>612.000000</td>\n",
       "      <td>612.000000</td>\n",
       "      <td>612.000000</td>\n",
       "      <td>612.000000</td>\n",
       "      <td>612.000000</td>\n",
       "      <td>612.000000</td>\n",
       "      <td>612.000000</td>\n",
       "      <td>612.000000</td>\n",
       "      <td>612.000000</td>\n",
       "      <td>612.000000</td>\n",
       "      <td>612.000000</td>\n",
       "      <td>612.000000</td>\n",
       "      <td>612.000000</td>\n",
       "      <td>612.000000</td>\n",
       "      <td>612.000000</td>\n",
       "      <td>612.000000</td>\n",
       "      <td>612.000000</td>\n",
       "      <td>612.000000</td>\n",
       "      <td>612.000000</td>\n",
       "      <td>612.000000</td>\n",
       "      <td>612.0</td>\n",
       "      <td>612.0</td>\n",
       "      <td>612.000000</td>\n",
       "      <td>612.000000</td>\n",
       "      <td>612.0</td>\n",
       "      <td>612.000000</td>\n",
       "      <td>612.000000</td>\n",
       "      <td>612.000000</td>\n",
       "      <td>612.000000</td>\n",
       "      <td>612.0</td>\n",
       "      <td>612.0</td>\n",
       "      <td>612.000000</td>\n",
       "      <td>612.000000</td>\n",
       "      <td>612.000000</td>\n",
       "      <td>612.000000</td>\n",
       "      <td>612.000000</td>\n",
       "      <td>612.000000</td>\n",
       "      <td>612.000000</td>\n",
       "      <td>612.000000</td>\n",
       "      <td>612.000000</td>\n",
       "      <td>612.000000</td>\n",
       "      <td>612.000000</td>\n",
       "      <td>612.000000</td>\n",
       "      <td>612.000000</td>\n",
       "      <td>612.000000</td>\n",
       "      <td>612.000000</td>\n",
       "      <td>612.000000</td>\n",
       "      <td>612.000000</td>\n",
       "      <td>612.000000</td>\n",
       "      <td>612.000000</td>\n",
       "      <td>612.000000</td>\n",
       "      <td>612.000000</td>\n",
       "      <td>612.000000</td>\n",
       "      <td>612.000000</td>\n",
       "      <td>612.000000</td>\n",
       "      <td>612.000000</td>\n",
       "      <td>612.000000</td>\n",
       "      <td>612.000000</td>\n",
       "      <td>612.000000</td>\n",
       "      <td>612.000000</td>\n",
       "      <td>612.000000</td>\n",
       "      <td>612.000000</td>\n",
       "      <td>612.000000</td>\n",
       "      <td>612.000000</td>\n",
       "      <td>612.000000</td>\n",
       "      <td>612.000000</td>\n",
       "      <td>612.000000</td>\n",
       "      <td>612.000000</td>\n",
       "      <td>612.000000</td>\n",
       "      <td>612.000000</td>\n",
       "      <td>612.000000</td>\n",
       "      <td>612.000000</td>\n",
       "      <td>612.000000</td>\n",
       "      <td>612.000000</td>\n",
       "      <td>612.000000</td>\n",
       "      <td>612.000000</td>\n",
       "      <td>612.000000</td>\n",
       "      <td>612.000000</td>\n",
       "      <td>612.000000</td>\n",
       "      <td>612.000000</td>\n",
       "      <td>612.000000</td>\n",
       "      <td>612.000000</td>\n",
       "      <td>612.000000</td>\n",
       "      <td>612.000000</td>\n",
       "      <td>612.000000</td>\n",
       "      <td>612.000000</td>\n",
       "      <td>612.000000</td>\n",
       "      <td>612.000000</td>\n",
       "      <td>612.000000</td>\n",
       "      <td>612.000000</td>\n",
       "      <td>612.000000</td>\n",
       "      <td>612.000000</td>\n",
       "      <td>612.000000</td>\n",
       "      <td>612.000000</td>\n",
       "      <td>612.000000</td>\n",
       "      <td>612.000000</td>\n",
       "      <td>612.000000</td>\n",
       "      <td>612.000000</td>\n",
       "      <td>612.000000</td>\n",
       "      <td>612.000000</td>\n",
       "      <td>612.000000</td>\n",
       "      <td>612.000000</td>\n",
       "      <td>612.000000</td>\n",
       "      <td>612.000000</td>\n",
       "      <td>612.000000</td>\n",
       "      <td>612.000000</td>\n",
       "      <td>612.000000</td>\n",
       "      <td>612.000000</td>\n",
       "      <td>612.000000</td>\n",
       "      <td>612.000000</td>\n",
       "      <td>612.000000</td>\n",
       "      <td>612.000000</td>\n",
       "      <td>612.000000</td>\n",
       "      <td>612.000000</td>\n",
       "      <td>612.000000</td>\n",
       "      <td>612.000000</td>\n",
       "      <td>612.000000</td>\n",
       "      <td>612.000000</td>\n",
       "      <td>612.000000</td>\n",
       "      <td>612.000000</td>\n",
       "      <td>612.000000</td>\n",
       "      <td>612.000000</td>\n",
       "      <td>612.000000</td>\n",
       "      <td>612.000000</td>\n",
       "      <td>612.000000</td>\n",
       "      <td>612.000000</td>\n",
       "      <td>612.000000</td>\n",
       "      <td>612.000000</td>\n",
       "      <td>612.000000</td>\n",
       "      <td>612.000000</td>\n",
       "      <td>612.000000</td>\n",
       "      <td>612.000000</td>\n",
       "      <td>612.000000</td>\n",
       "      <td>612.000000</td>\n",
       "      <td>612.000000</td>\n",
       "      <td>612.000000</td>\n",
       "    </tr>\n",
       "    <tr>\n",
       "      <th>mean</th>\n",
       "      <td>29.054317</td>\n",
       "      <td>12.256831</td>\n",
       "      <td>3314.060065</td>\n",
       "      <td>1480.100195</td>\n",
       "      <td>0.052163</td>\n",
       "      <td>0.013437</td>\n",
       "      <td>0.093851</td>\n",
       "      <td>0.029303</td>\n",
       "      <td>15.274891</td>\n",
       "      <td>19.263637</td>\n",
       "      <td>0.339638</td>\n",
       "      <td>0.274029</td>\n",
       "      <td>0.862815</td>\n",
       "      <td>0.825510</td>\n",
       "      <td>0.049524</td>\n",
       "      <td>0.020574</td>\n",
       "      <td>0.188215</td>\n",
       "      <td>0.090708</td>\n",
       "      <td>0.140646</td>\n",
       "      <td>0.038328</td>\n",
       "      <td>0.002963</td>\n",
       "      <td>0.001341</td>\n",
       "      <td>0.002583</td>\n",
       "      <td>0.001251</td>\n",
       "      <td>0.059902</td>\n",
       "      <td>0.037361</td>\n",
       "      <td>0.169891</td>\n",
       "      <td>0.134585</td>\n",
       "      <td>0.291210</td>\n",
       "      <td>0.108947</td>\n",
       "      <td>502.219323</td>\n",
       "      <td>502.145839</td>\n",
       "      <td>508.151655</td>\n",
       "      <td>508.615365</td>\n",
       "      <td>0.0</td>\n",
       "      <td>0.0</td>\n",
       "      <td>501.627915</td>\n",
       "      <td>509.486865</td>\n",
       "      <td>0.0</td>\n",
       "      <td>504.447712</td>\n",
       "      <td>502.921569</td>\n",
       "      <td>505.957516</td>\n",
       "      <td>506.238562</td>\n",
       "      <td>0.0</td>\n",
       "      <td>0.0</td>\n",
       "      <td>5.367647</td>\n",
       "      <td>0.009884</td>\n",
       "      <td>0.008824</td>\n",
       "      <td>0.010007</td>\n",
       "      <td>0.008881</td>\n",
       "      <td>0.029426</td>\n",
       "      <td>0.026299</td>\n",
       "      <td>0.029617</td>\n",
       "      <td>0.026347</td>\n",
       "      <td>470.580105</td>\n",
       "      <td>760.747071</td>\n",
       "      <td>444.326094</td>\n",
       "      <td>702.436909</td>\n",
       "      <td>264.096238</td>\n",
       "      <td>435.804269</td>\n",
       "      <td>242.687396</td>\n",
       "      <td>408.260645</td>\n",
       "      <td>0.884830</td>\n",
       "      <td>0.828142</td>\n",
       "      <td>0.893333</td>\n",
       "      <td>0.833157</td>\n",
       "      <td>0.907292</td>\n",
       "      <td>0.855402</td>\n",
       "      <td>0.913965</td>\n",
       "      <td>0.858668</td>\n",
       "      <td>4.694543</td>\n",
       "      <td>4.988012</td>\n",
       "      <td>4.657742</td>\n",
       "      <td>4.965373</td>\n",
       "      <td>3.847881</td>\n",
       "      <td>4.148752</td>\n",
       "      <td>3.806559</td>\n",
       "      <td>4.130452</td>\n",
       "      <td>0.000427</td>\n",
       "      <td>0.000364</td>\n",
       "      <td>0.000437</td>\n",
       "      <td>0.000365</td>\n",
       "      <td>0.000892</td>\n",
       "      <td>0.000765</td>\n",
       "      <td>0.000911</td>\n",
       "      <td>0.000767</td>\n",
       "      <td>10.814127</td>\n",
       "      <td>11.030369</td>\n",
       "      <td>10.787171</td>\n",
       "      <td>11.020547</td>\n",
       "      <td>8.750488</td>\n",
       "      <td>8.996469</td>\n",
       "      <td>8.714407</td>\n",
       "      <td>8.988197</td>\n",
       "      <td>-0.281955</td>\n",
       "      <td>-0.250355</td>\n",
       "      <td>-0.286347</td>\n",
       "      <td>-0.251962</td>\n",
       "      <td>-0.334758</td>\n",
       "      <td>-0.294061</td>\n",
       "      <td>-0.341611</td>\n",
       "      <td>-0.295843</td>\n",
       "      <td>0.976603</td>\n",
       "      <td>0.966719</td>\n",
       "      <td>0.978373</td>\n",
       "      <td>0.966544</td>\n",
       "      <td>0.979449</td>\n",
       "      <td>0.969145</td>\n",
       "      <td>0.981290</td>\n",
       "      <td>0.969889</td>\n",
       "      <td>0.217481</td>\n",
       "      <td>0.191442</td>\n",
       "      <td>0.220200</td>\n",
       "      <td>0.192767</td>\n",
       "      <td>0.374207</td>\n",
       "      <td>0.337718</td>\n",
       "      <td>0.379201</td>\n",
       "      <td>0.339435</td>\n",
       "      <td>100.313886</td>\n",
       "      <td>101.387211</td>\n",
       "      <td>100.278280</td>\n",
       "      <td>101.281607</td>\n",
       "      <td>50.000755</td>\n",
       "      <td>50.606290</td>\n",
       "      <td>49.963651</td>\n",
       "      <td>50.580778</td>\n",
       "      <td>7.264958</td>\n",
       "      <td>7.287318</td>\n",
       "      <td>7.264722</td>\n",
       "      <td>7.286126</td>\n",
       "      <td>6.188475</td>\n",
       "      <td>6.231897</td>\n",
       "      <td>6.186637</td>\n",
       "      <td>6.229946</td>\n",
       "      <td>9419.785813</td>\n",
       "      <td>9140.234498</td>\n",
       "      <td>9447.545566</td>\n",
       "      <td>9190.570831</td>\n",
       "      <td>6459.766177</td>\n",
       "      <td>6338.940526</td>\n",
       "      <td>6476.716839</td>\n",
       "      <td>6357.382111</td>\n",
       "      <td>2472.591480</td>\n",
       "      <td>2475.245392</td>\n",
       "      <td>2472.967915</td>\n",
       "      <td>2473.251935</td>\n",
       "      <td>1680.965604</td>\n",
       "      <td>1693.686199</td>\n",
       "      <td>1679.851059</td>\n",
       "      <td>1691.410689</td>\n",
       "    </tr>\n",
       "    <tr>\n",
       "      <th>std</th>\n",
       "      <td>36.718251</td>\n",
       "      <td>17.070117</td>\n",
       "      <td>2966.184224</td>\n",
       "      <td>961.027788</td>\n",
       "      <td>0.056127</td>\n",
       "      <td>0.015897</td>\n",
       "      <td>0.083098</td>\n",
       "      <td>0.037594</td>\n",
       "      <td>14.046657</td>\n",
       "      <td>16.082218</td>\n",
       "      <td>0.303983</td>\n",
       "      <td>0.321942</td>\n",
       "      <td>0.224398</td>\n",
       "      <td>0.252386</td>\n",
       "      <td>0.070147</td>\n",
       "      <td>0.031383</td>\n",
       "      <td>0.131594</td>\n",
       "      <td>0.071162</td>\n",
       "      <td>0.133376</td>\n",
       "      <td>0.045313</td>\n",
       "      <td>0.006166</td>\n",
       "      <td>0.001566</td>\n",
       "      <td>0.004765</td>\n",
       "      <td>0.001177</td>\n",
       "      <td>0.068593</td>\n",
       "      <td>0.054150</td>\n",
       "      <td>0.095106</td>\n",
       "      <td>0.080135</td>\n",
       "      <td>0.225477</td>\n",
       "      <td>0.128343</td>\n",
       "      <td>240.025921</td>\n",
       "      <td>240.951300</td>\n",
       "      <td>241.803905</td>\n",
       "      <td>241.547140</td>\n",
       "      <td>0.0</td>\n",
       "      <td>0.0</td>\n",
       "      <td>241.087683</td>\n",
       "      <td>242.483331</td>\n",
       "      <td>0.0</td>\n",
       "      <td>243.474742</td>\n",
       "      <td>246.513211</td>\n",
       "      <td>244.476129</td>\n",
       "      <td>245.715426</td>\n",
       "      <td>0.0</td>\n",
       "      <td>0.0</td>\n",
       "      <td>3.497083</td>\n",
       "      <td>0.022522</td>\n",
       "      <td>0.020905</td>\n",
       "      <td>0.022798</td>\n",
       "      <td>0.021646</td>\n",
       "      <td>0.029517</td>\n",
       "      <td>0.027842</td>\n",
       "      <td>0.029549</td>\n",
       "      <td>0.027715</td>\n",
       "      <td>499.701270</td>\n",
       "      <td>854.167132</td>\n",
       "      <td>469.909703</td>\n",
       "      <td>720.063522</td>\n",
       "      <td>329.728361</td>\n",
       "      <td>546.981975</td>\n",
       "      <td>288.986017</td>\n",
       "      <td>486.661024</td>\n",
       "      <td>0.064249</td>\n",
       "      <td>0.084821</td>\n",
       "      <td>0.055360</td>\n",
       "      <td>0.084532</td>\n",
       "      <td>0.056674</td>\n",
       "      <td>0.082276</td>\n",
       "      <td>0.052238</td>\n",
       "      <td>0.076549</td>\n",
       "      <td>0.874594</td>\n",
       "      <td>0.927172</td>\n",
       "      <td>0.876063</td>\n",
       "      <td>0.908654</td>\n",
       "      <td>0.754290</td>\n",
       "      <td>0.806611</td>\n",
       "      <td>0.751229</td>\n",
       "      <td>0.794857</td>\n",
       "      <td>0.000655</td>\n",
       "      <td>0.000597</td>\n",
       "      <td>0.000681</td>\n",
       "      <td>0.000592</td>\n",
       "      <td>0.001224</td>\n",
       "      <td>0.001085</td>\n",
       "      <td>0.001234</td>\n",
       "      <td>0.001060</td>\n",
       "      <td>1.714533</td>\n",
       "      <td>1.716996</td>\n",
       "      <td>1.717582</td>\n",
       "      <td>1.712122</td>\n",
       "      <td>1.375986</td>\n",
       "      <td>1.390300</td>\n",
       "      <td>1.369180</td>\n",
       "      <td>1.394434</td>\n",
       "      <td>0.062537</td>\n",
       "      <td>0.061074</td>\n",
       "      <td>0.059747</td>\n",
       "      <td>0.063657</td>\n",
       "      <td>0.055067</td>\n",
       "      <td>0.055728</td>\n",
       "      <td>0.051758</td>\n",
       "      <td>0.056048</td>\n",
       "      <td>0.028841</td>\n",
       "      <td>0.036243</td>\n",
       "      <td>0.026492</td>\n",
       "      <td>0.037862</td>\n",
       "      <td>0.020461</td>\n",
       "      <td>0.030164</td>\n",
       "      <td>0.017477</td>\n",
       "      <td>0.027639</td>\n",
       "      <td>0.115041</td>\n",
       "      <td>0.110544</td>\n",
       "      <td>0.115878</td>\n",
       "      <td>0.110473</td>\n",
       "      <td>0.111736</td>\n",
       "      <td>0.111206</td>\n",
       "      <td>0.110402</td>\n",
       "      <td>0.111266</td>\n",
       "      <td>68.736535</td>\n",
       "      <td>69.583776</td>\n",
       "      <td>68.793180</td>\n",
       "      <td>69.410081</td>\n",
       "      <td>38.041723</td>\n",
       "      <td>38.708155</td>\n",
       "      <td>38.000232</td>\n",
       "      <td>38.635034</td>\n",
       "      <td>1.026307</td>\n",
       "      <td>1.026443</td>\n",
       "      <td>1.027780</td>\n",
       "      <td>1.026004</td>\n",
       "      <td>0.852246</td>\n",
       "      <td>0.859254</td>\n",
       "      <td>0.851964</td>\n",
       "      <td>0.857882</td>\n",
       "      <td>9455.868872</td>\n",
       "      <td>9158.820341</td>\n",
       "      <td>9471.332277</td>\n",
       "      <td>9250.282663</td>\n",
       "      <td>7710.351447</td>\n",
       "      <td>7557.383051</td>\n",
       "      <td>7723.656235</td>\n",
       "      <td>7597.519438</td>\n",
       "      <td>2463.330100</td>\n",
       "      <td>2461.549737</td>\n",
       "      <td>2462.715243</td>\n",
       "      <td>2458.921434</td>\n",
       "      <td>1998.313444</td>\n",
       "      <td>2010.090289</td>\n",
       "      <td>1993.645287</td>\n",
       "      <td>2005.189899</td>\n",
       "    </tr>\n",
       "    <tr>\n",
       "      <th>min</th>\n",
       "      <td>0.622797</td>\n",
       "      <td>0.708385</td>\n",
       "      <td>188.899016</td>\n",
       "      <td>112.945602</td>\n",
       "      <td>0.001328</td>\n",
       "      <td>0.001343</td>\n",
       "      <td>0.000000</td>\n",
       "      <td>0.000595</td>\n",
       "      <td>0.752473</td>\n",
       "      <td>0.741228</td>\n",
       "      <td>0.003632</td>\n",
       "      <td>0.002533</td>\n",
       "      <td>0.099382</td>\n",
       "      <td>0.062348</td>\n",
       "      <td>0.001441</td>\n",
       "      <td>0.001388</td>\n",
       "      <td>0.012571</td>\n",
       "      <td>0.014089</td>\n",
       "      <td>0.001892</td>\n",
       "      <td>0.001801</td>\n",
       "      <td>0.000000</td>\n",
       "      <td>0.000000</td>\n",
       "      <td>0.000000</td>\n",
       "      <td>0.000000</td>\n",
       "      <td>0.000367</td>\n",
       "      <td>0.000232</td>\n",
       "      <td>0.015841</td>\n",
       "      <td>0.009732</td>\n",
       "      <td>0.009274</td>\n",
       "      <td>0.006683</td>\n",
       "      <td>37.399617</td>\n",
       "      <td>30.028847</td>\n",
       "      <td>31.758005</td>\n",
       "      <td>33.784133</td>\n",
       "      <td>0.0</td>\n",
       "      <td>0.0</td>\n",
       "      <td>29.775707</td>\n",
       "      <td>31.892815</td>\n",
       "      <td>0.0</td>\n",
       "      <td>1.000000</td>\n",
       "      <td>4.000000</td>\n",
       "      <td>31.000000</td>\n",
       "      <td>5.000000</td>\n",
       "      <td>0.0</td>\n",
       "      <td>0.0</td>\n",
       "      <td>1.000000</td>\n",
       "      <td>0.000083</td>\n",
       "      <td>0.000080</td>\n",
       "      <td>0.000081</td>\n",
       "      <td>0.000073</td>\n",
       "      <td>0.000678</td>\n",
       "      <td>0.000552</td>\n",
       "      <td>0.000600</td>\n",
       "      <td>0.000506</td>\n",
       "      <td>4.173354</td>\n",
       "      <td>6.157289</td>\n",
       "      <td>3.560129</td>\n",
       "      <td>4.074394</td>\n",
       "      <td>1.904610</td>\n",
       "      <td>2.695161</td>\n",
       "      <td>1.947926</td>\n",
       "      <td>2.653909</td>\n",
       "      <td>0.507100</td>\n",
       "      <td>0.410984</td>\n",
       "      <td>0.560992</td>\n",
       "      <td>0.429263</td>\n",
       "      <td>0.554054</td>\n",
       "      <td>0.269889</td>\n",
       "      <td>0.531210</td>\n",
       "      <td>0.440786</td>\n",
       "      <td>2.252410</td>\n",
       "      <td>2.331749</td>\n",
       "      <td>2.173419</td>\n",
       "      <td>2.233840</td>\n",
       "      <td>1.819498</td>\n",
       "      <td>2.015088</td>\n",
       "      <td>1.832616</td>\n",
       "      <td>2.012729</td>\n",
       "      <td>0.000042</td>\n",
       "      <td>0.000031</td>\n",
       "      <td>0.000045</td>\n",
       "      <td>0.000031</td>\n",
       "      <td>0.000105</td>\n",
       "      <td>0.000045</td>\n",
       "      <td>0.000063</td>\n",
       "      <td>0.000058</td>\n",
       "      <td>5.116475</td>\n",
       "      <td>5.366918</td>\n",
       "      <td>5.184130</td>\n",
       "      <td>5.270293</td>\n",
       "      <td>5.114147</td>\n",
       "      <td>5.247094</td>\n",
       "      <td>5.149920</td>\n",
       "      <td>5.257479</td>\n",
       "      <td>-0.479001</td>\n",
       "      <td>-0.463171</td>\n",
       "      <td>-0.480045</td>\n",
       "      <td>-0.464567</td>\n",
       "      <td>-0.505208</td>\n",
       "      <td>-0.458352</td>\n",
       "      <td>-0.509289</td>\n",
       "      <td>-0.456130</td>\n",
       "      <td>0.676324</td>\n",
       "      <td>0.636431</td>\n",
       "      <td>0.717936</td>\n",
       "      <td>0.623011</td>\n",
       "      <td>0.771367</td>\n",
       "      <td>0.735185</td>\n",
       "      <td>0.810585</td>\n",
       "      <td>0.734907</td>\n",
       "      <td>0.035488</td>\n",
       "      <td>0.036377</td>\n",
       "      <td>0.047575</td>\n",
       "      <td>0.030074</td>\n",
       "      <td>0.095025</td>\n",
       "      <td>0.068614</td>\n",
       "      <td>0.099162</td>\n",
       "      <td>0.085552</td>\n",
       "      <td>9.523263</td>\n",
       "      <td>9.605084</td>\n",
       "      <td>9.502391</td>\n",
       "      <td>9.524644</td>\n",
       "      <td>7.653126</td>\n",
       "      <td>7.691705</td>\n",
       "      <td>7.522859</td>\n",
       "      <td>7.764994</td>\n",
       "      <td>3.905135</td>\n",
       "      <td>3.986979</td>\n",
       "      <td>3.923980</td>\n",
       "      <td>3.947133</td>\n",
       "      <td>3.905986</td>\n",
       "      <td>3.943105</td>\n",
       "      <td>3.925313</td>\n",
       "      <td>3.947868</td>\n",
       "      <td>58.367500</td>\n",
       "      <td>57.166502</td>\n",
       "      <td>59.556997</td>\n",
       "      <td>56.133939</td>\n",
       "      <td>22.450194</td>\n",
       "      <td>20.701830</td>\n",
       "      <td>22.287548</td>\n",
       "      <td>21.659591</td>\n",
       "      <td>16.724894</td>\n",
       "      <td>16.826151</td>\n",
       "      <td>16.659072</td>\n",
       "      <td>16.832041</td>\n",
       "      <td>6.088701</td>\n",
       "      <td>6.105386</td>\n",
       "      <td>6.131142</td>\n",
       "      <td>6.078375</td>\n",
       "    </tr>\n",
       "    <tr>\n",
       "      <th>25%</th>\n",
       "      <td>7.115244</td>\n",
       "      <td>3.110781</td>\n",
       "      <td>1285.188378</td>\n",
       "      <td>827.222737</td>\n",
       "      <td>0.013237</td>\n",
       "      <td>0.004547</td>\n",
       "      <td>0.029896</td>\n",
       "      <td>0.011059</td>\n",
       "      <td>6.067780</td>\n",
       "      <td>8.585530</td>\n",
       "      <td>0.089319</td>\n",
       "      <td>0.037881</td>\n",
       "      <td>0.776097</td>\n",
       "      <td>0.681220</td>\n",
       "      <td>0.010158</td>\n",
       "      <td>0.004302</td>\n",
       "      <td>0.080622</td>\n",
       "      <td>0.048012</td>\n",
       "      <td>0.043397</td>\n",
       "      <td>0.015650</td>\n",
       "      <td>0.001068</td>\n",
       "      <td>0.001038</td>\n",
       "      <td>0.000992</td>\n",
       "      <td>0.000977</td>\n",
       "      <td>0.012936</td>\n",
       "      <td>0.004419</td>\n",
       "      <td>0.092347</td>\n",
       "      <td>0.073297</td>\n",
       "      <td>0.108064</td>\n",
       "      <td>0.048407</td>\n",
       "      <td>317.804827</td>\n",
       "      <td>314.288269</td>\n",
       "      <td>310.765340</td>\n",
       "      <td>316.319531</td>\n",
       "      <td>0.0</td>\n",
       "      <td>0.0</td>\n",
       "      <td>313.150126</td>\n",
       "      <td>312.221547</td>\n",
       "      <td>0.0</td>\n",
       "      <td>317.000000</td>\n",
       "      <td>303.500000</td>\n",
       "      <td>319.750000</td>\n",
       "      <td>324.750000</td>\n",
       "      <td>0.0</td>\n",
       "      <td>0.0</td>\n",
       "      <td>3.000000</td>\n",
       "      <td>0.000674</td>\n",
       "      <td>0.000530</td>\n",
       "      <td>0.000676</td>\n",
       "      <td>0.000539</td>\n",
       "      <td>0.007161</td>\n",
       "      <td>0.006185</td>\n",
       "      <td>0.007601</td>\n",
       "      <td>0.006141</td>\n",
       "      <td>122.147207</td>\n",
       "      <td>181.126145</td>\n",
       "      <td>112.422687</td>\n",
       "      <td>173.305235</td>\n",
       "      <td>62.248962</td>\n",
       "      <td>100.797569</td>\n",
       "      <td>60.961690</td>\n",
       "      <td>97.852578</td>\n",
       "      <td>0.863326</td>\n",
       "      <td>0.786074</td>\n",
       "      <td>0.864573</td>\n",
       "      <td>0.795249</td>\n",
       "      <td>0.888532</td>\n",
       "      <td>0.828531</td>\n",
       "      <td>0.894508</td>\n",
       "      <td>0.825826</td>\n",
       "      <td>4.079391</td>\n",
       "      <td>4.343083</td>\n",
       "      <td>4.009839</td>\n",
       "      <td>4.346036</td>\n",
       "      <td>3.328111</td>\n",
       "      <td>3.582801</td>\n",
       "      <td>3.284007</td>\n",
       "      <td>3.575071</td>\n",
       "      <td>0.000137</td>\n",
       "      <td>0.000105</td>\n",
       "      <td>0.000142</td>\n",
       "      <td>0.000111</td>\n",
       "      <td>0.000369</td>\n",
       "      <td>0.000300</td>\n",
       "      <td>0.000379</td>\n",
       "      <td>0.000295</td>\n",
       "      <td>9.671088</td>\n",
       "      <td>9.885241</td>\n",
       "      <td>9.535541</td>\n",
       "      <td>9.870149</td>\n",
       "      <td>7.747943</td>\n",
       "      <td>7.976511</td>\n",
       "      <td>7.727161</td>\n",
       "      <td>7.982977</td>\n",
       "      <td>-0.321923</td>\n",
       "      <td>-0.289100</td>\n",
       "      <td>-0.326465</td>\n",
       "      <td>-0.292530</td>\n",
       "      <td>-0.369689</td>\n",
       "      <td>-0.332790</td>\n",
       "      <td>-0.378974</td>\n",
       "      <td>-0.334752</td>\n",
       "      <td>0.972268</td>\n",
       "      <td>0.958546</td>\n",
       "      <td>0.972985</td>\n",
       "      <td>0.956660</td>\n",
       "      <td>0.974075</td>\n",
       "      <td>0.962923</td>\n",
       "      <td>0.977336</td>\n",
       "      <td>0.960872</td>\n",
       "      <td>0.130285</td>\n",
       "      <td>0.104873</td>\n",
       "      <td>0.127632</td>\n",
       "      <td>0.108791</td>\n",
       "      <td>0.295352</td>\n",
       "      <td>0.255335</td>\n",
       "      <td>0.297749</td>\n",
       "      <td>0.252536</td>\n",
       "      <td>43.390997</td>\n",
       "      <td>43.577011</td>\n",
       "      <td>43.084244</td>\n",
       "      <td>43.582089</td>\n",
       "      <td>27.509109</td>\n",
       "      <td>27.718362</td>\n",
       "      <td>27.498612</td>\n",
       "      <td>27.665365</td>\n",
       "      <td>6.530767</td>\n",
       "      <td>6.547770</td>\n",
       "      <td>6.526987</td>\n",
       "      <td>6.544593</td>\n",
       "      <td>5.593402</td>\n",
       "      <td>5.635206</td>\n",
       "      <td>5.595458</td>\n",
       "      <td>5.632560</td>\n",
       "      <td>2161.072270</td>\n",
       "      <td>2104.124911</td>\n",
       "      <td>2179.642955</td>\n",
       "      <td>2086.634798</td>\n",
       "      <td>1487.094143</td>\n",
       "      <td>1452.308537</td>\n",
       "      <td>1499.665239</td>\n",
       "      <td>1454.143613</td>\n",
       "      <td>582.098685</td>\n",
       "      <td>581.294730</td>\n",
       "      <td>581.552451</td>\n",
       "      <td>584.929209</td>\n",
       "      <td>385.526825</td>\n",
       "      <td>389.948459</td>\n",
       "      <td>388.588424</td>\n",
       "      <td>388.855104</td>\n",
       "    </tr>\n",
       "    <tr>\n",
       "      <th>50%</th>\n",
       "      <td>15.863722</td>\n",
       "      <td>6.427794</td>\n",
       "      <td>2517.442001</td>\n",
       "      <td>1287.893096</td>\n",
       "      <td>0.032870</td>\n",
       "      <td>0.007828</td>\n",
       "      <td>0.070474</td>\n",
       "      <td>0.020241</td>\n",
       "      <td>10.675491</td>\n",
       "      <td>13.883778</td>\n",
       "      <td>0.256634</td>\n",
       "      <td>0.129831</td>\n",
       "      <td>1.000000</td>\n",
       "      <td>1.000000</td>\n",
       "      <td>0.023517</td>\n",
       "      <td>0.009271</td>\n",
       "      <td>0.162792</td>\n",
       "      <td>0.073193</td>\n",
       "      <td>0.099596</td>\n",
       "      <td>0.027005</td>\n",
       "      <td>0.001175</td>\n",
       "      <td>0.001114</td>\n",
       "      <td>0.001114</td>\n",
       "      <td>0.001053</td>\n",
       "      <td>0.035012</td>\n",
       "      <td>0.015161</td>\n",
       "      <td>0.151366</td>\n",
       "      <td>0.118833</td>\n",
       "      <td>0.244934</td>\n",
       "      <td>0.072869</td>\n",
       "      <td>495.646421</td>\n",
       "      <td>492.265067</td>\n",
       "      <td>513.691833</td>\n",
       "      <td>510.992572</td>\n",
       "      <td>0.0</td>\n",
       "      <td>0.0</td>\n",
       "      <td>494.520621</td>\n",
       "      <td>515.396044</td>\n",
       "      <td>0.0</td>\n",
       "      <td>500.500000</td>\n",
       "      <td>496.000000</td>\n",
       "      <td>503.500000</td>\n",
       "      <td>503.500000</td>\n",
       "      <td>0.0</td>\n",
       "      <td>0.0</td>\n",
       "      <td>5.000000</td>\n",
       "      <td>0.002478</td>\n",
       "      <td>0.002018</td>\n",
       "      <td>0.002529</td>\n",
       "      <td>0.002105</td>\n",
       "      <td>0.020631</td>\n",
       "      <td>0.017116</td>\n",
       "      <td>0.020860</td>\n",
       "      <td>0.017407</td>\n",
       "      <td>295.424572</td>\n",
       "      <td>481.123139</td>\n",
       "      <td>281.616000</td>\n",
       "      <td>446.401102</td>\n",
       "      <td>159.022831</td>\n",
       "      <td>254.627322</td>\n",
       "      <td>151.150287</td>\n",
       "      <td>255.055406</td>\n",
       "      <td>0.898217</td>\n",
       "      <td>0.845432</td>\n",
       "      <td>0.907704</td>\n",
       "      <td>0.852093</td>\n",
       "      <td>0.921476</td>\n",
       "      <td>0.875212</td>\n",
       "      <td>0.926672</td>\n",
       "      <td>0.878149</td>\n",
       "      <td>4.793531</td>\n",
       "      <td>5.037120</td>\n",
       "      <td>4.688466</td>\n",
       "      <td>5.041576</td>\n",
       "      <td>3.834239</td>\n",
       "      <td>4.127902</td>\n",
       "      <td>3.776599</td>\n",
       "      <td>4.094482</td>\n",
       "      <td>0.000247</td>\n",
       "      <td>0.000197</td>\n",
       "      <td>0.000249</td>\n",
       "      <td>0.000202</td>\n",
       "      <td>0.000579</td>\n",
       "      <td>0.000481</td>\n",
       "      <td>0.000591</td>\n",
       "      <td>0.000493</td>\n",
       "      <td>11.142197</td>\n",
       "      <td>11.407485</td>\n",
       "      <td>11.161561</td>\n",
       "      <td>11.385158</td>\n",
       "      <td>8.711912</td>\n",
       "      <td>8.962705</td>\n",
       "      <td>8.638275</td>\n",
       "      <td>8.930836</td>\n",
       "      <td>-0.277473</td>\n",
       "      <td>-0.248192</td>\n",
       "      <td>-0.283034</td>\n",
       "      <td>-0.249236</td>\n",
       "      <td>-0.337684</td>\n",
       "      <td>-0.298306</td>\n",
       "      <td>-0.340202</td>\n",
       "      <td>-0.299348</td>\n",
       "      <td>0.985608</td>\n",
       "      <td>0.977924</td>\n",
       "      <td>0.986040</td>\n",
       "      <td>0.978448</td>\n",
       "      <td>0.984455</td>\n",
       "      <td>0.976569</td>\n",
       "      <td>0.985816</td>\n",
       "      <td>0.978009</td>\n",
       "      <td>0.192414</td>\n",
       "      <td>0.165218</td>\n",
       "      <td>0.194539</td>\n",
       "      <td>0.161514</td>\n",
       "      <td>0.380509</td>\n",
       "      <td>0.340779</td>\n",
       "      <td>0.382929</td>\n",
       "      <td>0.346474</td>\n",
       "      <td>87.138437</td>\n",
       "      <td>87.781748</td>\n",
       "      <td>87.066842</td>\n",
       "      <td>88.162583</td>\n",
       "      <td>40.434373</td>\n",
       "      <td>40.830094</td>\n",
       "      <td>40.388337</td>\n",
       "      <td>40.630401</td>\n",
       "      <td>7.516121</td>\n",
       "      <td>7.525074</td>\n",
       "      <td>7.502818</td>\n",
       "      <td>7.539886</td>\n",
       "      <td>6.151340</td>\n",
       "      <td>6.198385</td>\n",
       "      <td>6.142488</td>\n",
       "      <td>6.191065</td>\n",
       "      <td>5662.293999</td>\n",
       "      <td>5510.333246</td>\n",
       "      <td>5677.687410</td>\n",
       "      <td>5485.528348</td>\n",
       "      <td>3649.382063</td>\n",
       "      <td>3554.740520</td>\n",
       "      <td>3671.512516</td>\n",
       "      <td>3633.947122</td>\n",
       "      <td>1518.012547</td>\n",
       "      <td>1528.951289</td>\n",
       "      <td>1523.933588</td>\n",
       "      <td>1533.106872</td>\n",
       "      <td>958.510394</td>\n",
       "      <td>959.934455</td>\n",
       "      <td>954.862677</td>\n",
       "      <td>974.461219</td>\n",
       "    </tr>\n",
       "    <tr>\n",
       "      <th>75%</th>\n",
       "      <td>36.778302</td>\n",
       "      <td>14.323930</td>\n",
       "      <td>4497.989579</td>\n",
       "      <td>1952.669901</td>\n",
       "      <td>0.072407</td>\n",
       "      <td>0.017120</td>\n",
       "      <td>0.127386</td>\n",
       "      <td>0.033886</td>\n",
       "      <td>19.498440</td>\n",
       "      <td>25.102165</td>\n",
       "      <td>0.472873</td>\n",
       "      <td>0.363386</td>\n",
       "      <td>1.000000</td>\n",
       "      <td>1.000000</td>\n",
       "      <td>0.057093</td>\n",
       "      <td>0.022743</td>\n",
       "      <td>0.260516</td>\n",
       "      <td>0.108638</td>\n",
       "      <td>0.194659</td>\n",
       "      <td>0.044652</td>\n",
       "      <td>0.001514</td>\n",
       "      <td>0.001266</td>\n",
       "      <td>0.001434</td>\n",
       "      <td>0.001205</td>\n",
       "      <td>0.082289</td>\n",
       "      <td>0.044648</td>\n",
       "      <td>0.242488</td>\n",
       "      <td>0.178367</td>\n",
       "      <td>0.414798</td>\n",
       "      <td>0.117272</td>\n",
       "      <td>693.665992</td>\n",
       "      <td>694.857637</td>\n",
       "      <td>700.850138</td>\n",
       "      <td>690.562551</td>\n",
       "      <td>0.0</td>\n",
       "      <td>0.0</td>\n",
       "      <td>697.401478</td>\n",
       "      <td>697.701334</td>\n",
       "      <td>0.0</td>\n",
       "      <td>697.250000</td>\n",
       "      <td>700.250000</td>\n",
       "      <td>697.750000</td>\n",
       "      <td>696.500000</td>\n",
       "      <td>0.0</td>\n",
       "      <td>0.0</td>\n",
       "      <td>7.000000</td>\n",
       "      <td>0.008168</td>\n",
       "      <td>0.007143</td>\n",
       "      <td>0.008535</td>\n",
       "      <td>0.006647</td>\n",
       "      <td>0.040817</td>\n",
       "      <td>0.036043</td>\n",
       "      <td>0.040532</td>\n",
       "      <td>0.035388</td>\n",
       "      <td>630.379323</td>\n",
       "      <td>998.331823</td>\n",
       "      <td>613.846265</td>\n",
       "      <td>993.907161</td>\n",
       "      <td>324.757500</td>\n",
       "      <td>537.274741</td>\n",
       "      <td>310.873643</td>\n",
       "      <td>522.279988</td>\n",
       "      <td>0.928012</td>\n",
       "      <td>0.887094</td>\n",
       "      <td>0.932445</td>\n",
       "      <td>0.892240</td>\n",
       "      <td>0.943823</td>\n",
       "      <td>0.908575</td>\n",
       "      <td>0.946370</td>\n",
       "      <td>0.910720</td>\n",
       "      <td>5.370642</td>\n",
       "      <td>5.707078</td>\n",
       "      <td>5.319780</td>\n",
       "      <td>5.685790</td>\n",
       "      <td>4.321870</td>\n",
       "      <td>4.663802</td>\n",
       "      <td>4.306465</td>\n",
       "      <td>4.666311</td>\n",
       "      <td>0.000462</td>\n",
       "      <td>0.000390</td>\n",
       "      <td>0.000481</td>\n",
       "      <td>0.000399</td>\n",
       "      <td>0.000860</td>\n",
       "      <td>0.000757</td>\n",
       "      <td>0.000888</td>\n",
       "      <td>0.000758</td>\n",
       "      <td>12.078435</td>\n",
       "      <td>12.318483</td>\n",
       "      <td>12.081879</td>\n",
       "      <td>12.299393</td>\n",
       "      <td>9.751482</td>\n",
       "      <td>9.990269</td>\n",
       "      <td>9.670824</td>\n",
       "      <td>9.997777</td>\n",
       "      <td>-0.238104</td>\n",
       "      <td>-0.206367</td>\n",
       "      <td>-0.244036</td>\n",
       "      <td>-0.204448</td>\n",
       "      <td>-0.302278</td>\n",
       "      <td>-0.260584</td>\n",
       "      <td>-0.308859</td>\n",
       "      <td>-0.259745</td>\n",
       "      <td>0.992511</td>\n",
       "      <td>0.989090</td>\n",
       "      <td>0.993034</td>\n",
       "      <td>0.990030</td>\n",
       "      <td>0.990787</td>\n",
       "      <td>0.985763</td>\n",
       "      <td>0.991269</td>\n",
       "      <td>0.986250</td>\n",
       "      <td>0.287859</td>\n",
       "      <td>0.261436</td>\n",
       "      <td>0.293959</td>\n",
       "      <td>0.252235</td>\n",
       "      <td>0.458102</td>\n",
       "      <td>0.423208</td>\n",
       "      <td>0.461048</td>\n",
       "      <td>0.420985</td>\n",
       "      <td>137.604350</td>\n",
       "      <td>139.318453</td>\n",
       "      <td>137.047058</td>\n",
       "      <td>138.663548</td>\n",
       "      <td>60.618133</td>\n",
       "      <td>61.629691</td>\n",
       "      <td>60.894498</td>\n",
       "      <td>61.989500</td>\n",
       "      <td>8.074355</td>\n",
       "      <td>8.097027</td>\n",
       "      <td>8.083553</td>\n",
       "      <td>8.103947</td>\n",
       "      <td>6.783052</td>\n",
       "      <td>6.843747</td>\n",
       "      <td>6.794148</td>\n",
       "      <td>6.847616</td>\n",
       "      <td>14037.482715</td>\n",
       "      <td>13911.471231</td>\n",
       "      <td>14513.015344</td>\n",
       "      <td>13862.060584</td>\n",
       "      <td>8565.598892</td>\n",
       "      <td>8453.763664</td>\n",
       "      <td>8637.639520</td>\n",
       "      <td>8488.732037</td>\n",
       "      <td>3785.098742</td>\n",
       "      <td>3789.726441</td>\n",
       "      <td>3804.230126</td>\n",
       "      <td>3789.228677</td>\n",
       "      <td>2231.768776</td>\n",
       "      <td>2229.655436</td>\n",
       "      <td>2229.705476</td>\n",
       "      <td>2251.343258</td>\n",
       "    </tr>\n",
       "    <tr>\n",
       "      <th>max</th>\n",
       "      <td>260.242786</td>\n",
       "      <td>180.184329</td>\n",
       "      <td>32676.950378</td>\n",
       "      <td>8520.748657</td>\n",
       "      <td>0.571141</td>\n",
       "      <td>0.147631</td>\n",
       "      <td>0.449439</td>\n",
       "      <td>0.464866</td>\n",
       "      <td>94.883608</td>\n",
       "      <td>106.932539</td>\n",
       "      <td>1.000000</td>\n",
       "      <td>1.000000</td>\n",
       "      <td>1.000000</td>\n",
       "      <td>1.000000</td>\n",
       "      <td>0.523417</td>\n",
       "      <td>0.271418</td>\n",
       "      <td>0.785563</td>\n",
       "      <td>0.573664</td>\n",
       "      <td>1.000000</td>\n",
       "      <td>0.535134</td>\n",
       "      <td>0.050111</td>\n",
       "      <td>0.030549</td>\n",
       "      <td>0.043290</td>\n",
       "      <td>0.017151</td>\n",
       "      <td>0.403045</td>\n",
       "      <td>0.347310</td>\n",
       "      <td>0.434572</td>\n",
       "      <td>0.437946</td>\n",
       "      <td>1.000000</td>\n",
       "      <td>1.000000</td>\n",
       "      <td>984.785426</td>\n",
       "      <td>988.419364</td>\n",
       "      <td>982.845315</td>\n",
       "      <td>987.430859</td>\n",
       "      <td>0.0</td>\n",
       "      <td>0.0</td>\n",
       "      <td>982.910886</td>\n",
       "      <td>980.761603</td>\n",
       "      <td>0.0</td>\n",
       "      <td>1004.000000</td>\n",
       "      <td>1012.000000</td>\n",
       "      <td>1009.000000</td>\n",
       "      <td>1007.000000</td>\n",
       "      <td>0.0</td>\n",
       "      <td>0.0</td>\n",
       "      <td>18.000000</td>\n",
       "      <td>0.277797</td>\n",
       "      <td>0.253567</td>\n",
       "      <td>0.286934</td>\n",
       "      <td>0.280194</td>\n",
       "      <td>0.186357</td>\n",
       "      <td>0.178815</td>\n",
       "      <td>0.186923</td>\n",
       "      <td>0.175548</td>\n",
       "      <td>3615.881474</td>\n",
       "      <td>5743.738935</td>\n",
       "      <td>2649.067387</td>\n",
       "      <td>4377.064853</td>\n",
       "      <td>2690.884409</td>\n",
       "      <td>3685.005857</td>\n",
       "      <td>2100.010169</td>\n",
       "      <td>3584.130820</td>\n",
       "      <td>0.979557</td>\n",
       "      <td>0.971872</td>\n",
       "      <td>0.979853</td>\n",
       "      <td>0.969571</td>\n",
       "      <td>0.984263</td>\n",
       "      <td>0.977910</td>\n",
       "      <td>0.982422</td>\n",
       "      <td>0.976593</td>\n",
       "      <td>6.504151</td>\n",
       "      <td>7.038731</td>\n",
       "      <td>6.573124</td>\n",
       "      <td>6.694020</td>\n",
       "      <td>5.935003</td>\n",
       "      <td>6.644597</td>\n",
       "      <td>6.191930</td>\n",
       "      <td>6.382407</td>\n",
       "      <td>0.007231</td>\n",
       "      <td>0.006956</td>\n",
       "      <td>0.007610</td>\n",
       "      <td>0.007337</td>\n",
       "      <td>0.016252</td>\n",
       "      <td>0.014161</td>\n",
       "      <td>0.016294</td>\n",
       "      <td>0.014033</td>\n",
       "      <td>13.855133</td>\n",
       "      <td>14.020245</td>\n",
       "      <td>14.015215</td>\n",
       "      <td>14.140375</td>\n",
       "      <td>12.507720</td>\n",
       "      <td>12.714180</td>\n",
       "      <td>12.412583</td>\n",
       "      <td>12.747937</td>\n",
       "      <td>-0.066366</td>\n",
       "      <td>-0.056358</td>\n",
       "      <td>-0.078636</td>\n",
       "      <td>-0.053393</td>\n",
       "      <td>-0.131654</td>\n",
       "      <td>-0.105466</td>\n",
       "      <td>-0.134624</td>\n",
       "      <td>-0.090215</td>\n",
       "      <td>0.999482</td>\n",
       "      <td>0.999344</td>\n",
       "      <td>0.999479</td>\n",
       "      <td>0.999386</td>\n",
       "      <td>0.999422</td>\n",
       "      <td>0.999157</td>\n",
       "      <td>0.999409</td>\n",
       "      <td>0.999193</td>\n",
       "      <td>0.639419</td>\n",
       "      <td>0.596404</td>\n",
       "      <td>0.626473</td>\n",
       "      <td>0.619487</td>\n",
       "      <td>0.651745</td>\n",
       "      <td>0.624912</td>\n",
       "      <td>0.643479</td>\n",
       "      <td>0.625910</td>\n",
       "      <td>408.254905</td>\n",
       "      <td>410.977171</td>\n",
       "      <td>413.970923</td>\n",
       "      <td>414.066338</td>\n",
       "      <td>308.030745</td>\n",
       "      <td>313.352960</td>\n",
       "      <td>307.256394</td>\n",
       "      <td>313.373773</td>\n",
       "      <td>8.831777</td>\n",
       "      <td>8.854635</td>\n",
       "      <td>8.838529</td>\n",
       "      <td>8.833576</td>\n",
       "      <td>8.498503</td>\n",
       "      <td>8.540615</td>\n",
       "      <td>8.524555</td>\n",
       "      <td>8.571684</td>\n",
       "      <td>46678.196992</td>\n",
       "      <td>45716.342821</td>\n",
       "      <td>46716.864862</td>\n",
       "      <td>45094.141505</td>\n",
       "      <td>49351.522971</td>\n",
       "      <td>48802.334465</td>\n",
       "      <td>49774.488036</td>\n",
       "      <td>48848.937104</td>\n",
       "      <td>11931.834477</td>\n",
       "      <td>11845.012580</td>\n",
       "      <td>11922.858430</td>\n",
       "      <td>11733.417545</td>\n",
       "      <td>12735.444122</td>\n",
       "      <td>12869.296754</td>\n",
       "      <td>12796.244833</td>\n",
       "      <td>12821.117223</td>\n",
       "    </tr>\n",
       "  </tbody>\n",
       "</table>\n",
       "</div>"
      ],
      "text/plain": [
       "       integratedintensityedge_ker  integratedintensityedge_vim  \\\n",
       "count                   612.000000                   612.000000   \n",
       "mean                     29.054317                    12.256831   \n",
       "std                      36.718251                    17.070117   \n",
       "min                       0.622797                     0.708385   \n",
       "25%                       7.115244                     3.110781   \n",
       "50%                      15.863722                     6.427794   \n",
       "75%                      36.778302                    14.323930   \n",
       "max                     260.242786                   180.184329   \n",
       "\n",
       "       integratedintensity_ker  integratedintensity_vim  \\\n",
       "count               612.000000               612.000000   \n",
       "mean               3314.060065              1480.100195   \n",
       "std                2966.184224               961.027788   \n",
       "min                 188.899016               112.945602   \n",
       "25%                1285.188378               827.222737   \n",
       "50%                2517.442001              1287.893096   \n",
       "75%                4497.989579              1952.669901   \n",
       "max               32676.950378              8520.748657   \n",
       "\n",
       "       lowerquartileintensity_ker  lowerquartileintensity_vim  \\\n",
       "count                  612.000000                  612.000000   \n",
       "mean                     0.052163                    0.013437   \n",
       "std                      0.056127                    0.015897   \n",
       "min                      0.001328                    0.001343   \n",
       "25%                      0.013237                    0.004547   \n",
       "50%                      0.032870                    0.007828   \n",
       "75%                      0.072407                    0.017120   \n",
       "max                      0.571141                    0.147631   \n",
       "\n",
       "       madintensity_ker  madintensity_vim  massdisplacement_ker  \\\n",
       "count        612.000000        612.000000            612.000000   \n",
       "mean           0.093851          0.029303             15.274891   \n",
       "std            0.083098          0.037594             14.046657   \n",
       "min            0.000000          0.000595              0.752473   \n",
       "25%            0.029896          0.011059              6.067780   \n",
       "50%            0.070474          0.020241             10.675491   \n",
       "75%            0.127386          0.033886             19.498440   \n",
       "max            0.449439          0.464866             94.883608   \n",
       "\n",
       "       massdisplacement_vim  maxintensityedge_ker  maxintensityedge_vim  \\\n",
       "count            612.000000            612.000000            612.000000   \n",
       "mean              19.263637              0.339638              0.274029   \n",
       "std               16.082218              0.303983              0.321942   \n",
       "min                0.741228              0.003632              0.002533   \n",
       "25%                8.585530              0.089319              0.037881   \n",
       "50%               13.883778              0.256634              0.129831   \n",
       "75%               25.102165              0.472873              0.363386   \n",
       "max              106.932539              1.000000              1.000000   \n",
       "\n",
       "       maxintensity_ker  maxintensity_vim  meanintensityedge_ker  \\\n",
       "count        612.000000        612.000000             612.000000   \n",
       "mean           0.862815          0.825510               0.049524   \n",
       "std            0.224398          0.252386               0.070147   \n",
       "min            0.099382          0.062348               0.001441   \n",
       "25%            0.776097          0.681220               0.010158   \n",
       "50%            1.000000          1.000000               0.023517   \n",
       "75%            1.000000          1.000000               0.057093   \n",
       "max            1.000000          1.000000               0.523417   \n",
       "\n",
       "       meanintensityedge_vim  meanintensity_ker  meanintensity_vim  \\\n",
       "count             612.000000         612.000000         612.000000   \n",
       "mean                0.020574           0.188215           0.090708   \n",
       "std                 0.031383           0.131594           0.071162   \n",
       "min                 0.001388           0.012571           0.014089   \n",
       "25%                 0.004302           0.080622           0.048012   \n",
       "50%                 0.009271           0.162792           0.073193   \n",
       "75%                 0.022743           0.260516           0.108638   \n",
       "max                 0.271418           0.785563           0.573664   \n",
       "\n",
       "       medianintensity_ker  medianintensity_vim  minintensityedge_ker  \\\n",
       "count           612.000000           612.000000            612.000000   \n",
       "mean              0.140646             0.038328              0.002963   \n",
       "std               0.133376             0.045313              0.006166   \n",
       "min               0.001892             0.001801              0.000000   \n",
       "25%               0.043397             0.015650              0.001068   \n",
       "50%               0.099596             0.027005              0.001175   \n",
       "75%               0.194659             0.044652              0.001514   \n",
       "max               1.000000             0.535134              0.050111   \n",
       "\n",
       "       minintensityedge_vim  minintensity_ker  minintensity_vim  \\\n",
       "count            612.000000        612.000000        612.000000   \n",
       "mean               0.001341          0.002583          0.001251   \n",
       "std                0.001566          0.004765          0.001177   \n",
       "min                0.000000          0.000000          0.000000   \n",
       "25%                0.001038          0.000992          0.000977   \n",
       "50%                0.001114          0.001114          0.001053   \n",
       "75%                0.001266          0.001434          0.001205   \n",
       "max                0.030549          0.043290          0.017151   \n",
       "\n",
       "       stdintensityedge_ker  stdintensityedge_vim  stdintensity_ker  \\\n",
       "count            612.000000            612.000000        612.000000   \n",
       "mean               0.059902              0.037361          0.169891   \n",
       "std                0.068593              0.054150          0.095106   \n",
       "min                0.000367              0.000232          0.015841   \n",
       "25%                0.012936              0.004419          0.092347   \n",
       "50%                0.035012              0.015161          0.151366   \n",
       "75%                0.082289              0.044648          0.242488   \n",
       "max                0.403045              0.347310          0.434572   \n",
       "\n",
       "       stdintensity_vim  upperquartileintensity_ker  \\\n",
       "count        612.000000                  612.000000   \n",
       "mean           0.134585                    0.291210   \n",
       "std            0.080135                    0.225477   \n",
       "min            0.009732                    0.009274   \n",
       "25%            0.073297                    0.108064   \n",
       "50%            0.118833                    0.244934   \n",
       "75%            0.178367                    0.414798   \n",
       "max            0.437946                    1.000000   \n",
       "\n",
       "       upperquartileintensity_vim  loc_centermassintensityX_ker  \\\n",
       "count                  612.000000                    612.000000   \n",
       "mean                     0.108947                    502.219323   \n",
       "std                      0.128343                    240.025921   \n",
       "min                      0.006683                     37.399617   \n",
       "25%                      0.048407                    317.804827   \n",
       "50%                      0.072869                    495.646421   \n",
       "75%                      0.117272                    693.665992   \n",
       "max                      1.000000                    984.785426   \n",
       "\n",
       "       loc_centermassintensityX_vim  loc_centermassintensityY_ker  \\\n",
       "count                    612.000000                    612.000000   \n",
       "mean                     502.145839                    508.151655   \n",
       "std                      240.951300                    241.803905   \n",
       "min                       30.028847                     31.758005   \n",
       "25%                      314.288269                    310.765340   \n",
       "50%                      492.265067                    513.691833   \n",
       "75%                      694.857637                    700.850138   \n",
       "max                      988.419364                    982.845315   \n",
       "\n",
       "       loc_centermassintensityY_vim  loc_centermassintensityZ_ker  \\\n",
       "count                    612.000000                         612.0   \n",
       "mean                     508.615365                           0.0   \n",
       "std                      241.547140                           0.0   \n",
       "min                       33.784133                           0.0   \n",
       "25%                      316.319531                           0.0   \n",
       "50%                      510.992572                           0.0   \n",
       "75%                      690.562551                           0.0   \n",
       "max                      987.430859                           0.0   \n",
       "\n",
       "       loc_centermassintensityZ_vim  loc_centerX  loc_centerY  loc_centerZ  \\\n",
       "count                         612.0   612.000000   612.000000        612.0   \n",
       "mean                            0.0   501.627915   509.486865          0.0   \n",
       "std                             0.0   241.087683   242.483331          0.0   \n",
       "min                             0.0    29.775707    31.892815          0.0   \n",
       "25%                             0.0   313.150126   312.221547          0.0   \n",
       "50%                             0.0   494.520621   515.396044          0.0   \n",
       "75%                             0.0   697.401478   697.701334          0.0   \n",
       "max                             0.0   982.910886   980.761603          0.0   \n",
       "\n",
       "       loc_maxintensityX_ker  loc_maxintensityX_vim  loc_maxintensityY_ker  \\\n",
       "count             612.000000             612.000000             612.000000   \n",
       "mean              504.447712             502.921569             505.957516   \n",
       "std               243.474742             246.513211             244.476129   \n",
       "min                 1.000000               4.000000              31.000000   \n",
       "25%               317.000000             303.500000             319.750000   \n",
       "50%               500.500000             496.000000             503.500000   \n",
       "75%               697.250000             700.250000             697.750000   \n",
       "max              1004.000000            1012.000000            1009.000000   \n",
       "\n",
       "       loc_maxintensityY_vim  loc_maxintensityZ_ker  loc_maxintensityZ_vim  \\\n",
       "count             612.000000                  612.0                  612.0   \n",
       "mean              506.238562                    0.0                    0.0   \n",
       "std               245.715426                    0.0                    0.0   \n",
       "min                 5.000000                    0.0                    0.0   \n",
       "25%               324.750000                    0.0                    0.0   \n",
       "50%               503.500000                    0.0                    0.0   \n",
       "75%               696.500000                    0.0                    0.0   \n",
       "max              1007.000000                    0.0                    0.0   \n",
       "\n",
       "       number_object_number  angularsecondmoment_ker_00  \\\n",
       "count            612.000000                  612.000000   \n",
       "mean               5.367647                    0.009884   \n",
       "std                3.497083                    0.022522   \n",
       "min                1.000000                    0.000083   \n",
       "25%                3.000000                    0.000674   \n",
       "50%                5.000000                    0.002478   \n",
       "75%                7.000000                    0.008168   \n",
       "max               18.000000                    0.277797   \n",
       "\n",
       "       angularsecondmoment_ker_01  angularsecondmoment_ker_02  \\\n",
       "count                  612.000000                  612.000000   \n",
       "mean                     0.008824                    0.010007   \n",
       "std                      0.020905                    0.022798   \n",
       "min                      0.000080                    0.000081   \n",
       "25%                      0.000530                    0.000676   \n",
       "50%                      0.002018                    0.002529   \n",
       "75%                      0.007143                    0.008535   \n",
       "max                      0.253567                    0.286934   \n",
       "\n",
       "       angularsecondmoment_ker_03  angularsecondmoment_vim_00  \\\n",
       "count                  612.000000                  612.000000   \n",
       "mean                     0.008881                    0.029426   \n",
       "std                      0.021646                    0.029517   \n",
       "min                      0.000073                    0.000678   \n",
       "25%                      0.000539                    0.007161   \n",
       "50%                      0.002105                    0.020631   \n",
       "75%                      0.006647                    0.040817   \n",
       "max                      0.280194                    0.186357   \n",
       "\n",
       "       angularsecondmoment_vim_01  angularsecondmoment_vim_02  \\\n",
       "count                  612.000000                  612.000000   \n",
       "mean                     0.026299                    0.029617   \n",
       "std                      0.027842                    0.029549   \n",
       "min                      0.000552                    0.000600   \n",
       "25%                      0.006185                    0.007601   \n",
       "50%                      0.017116                    0.020860   \n",
       "75%                      0.036043                    0.040532   \n",
       "max                      0.178815                    0.186923   \n",
       "\n",
       "       angularsecondmoment_vim_03  contrast_ker_00  contrast_ker_01  \\\n",
       "count                  612.000000       612.000000       612.000000   \n",
       "mean                     0.026347       470.580105       760.747071   \n",
       "std                      0.027715       499.701270       854.167132   \n",
       "min                      0.000506         4.173354         6.157289   \n",
       "25%                      0.006141       122.147207       181.126145   \n",
       "50%                      0.017407       295.424572       481.123139   \n",
       "75%                      0.035388       630.379323       998.331823   \n",
       "max                      0.175548      3615.881474      5743.738935   \n",
       "\n",
       "       contrast_ker_02  contrast_ker_03  contrast_vim_00  contrast_vim_01  \\\n",
       "count       612.000000       612.000000       612.000000       612.000000   \n",
       "mean        444.326094       702.436909       264.096238       435.804269   \n",
       "std         469.909703       720.063522       329.728361       546.981975   \n",
       "min           3.560129         4.074394         1.904610         2.695161   \n",
       "25%         112.422687       173.305235        62.248962       100.797569   \n",
       "50%         281.616000       446.401102       159.022831       254.627322   \n",
       "75%         613.846265       993.907161       324.757500       537.274741   \n",
       "max        2649.067387      4377.064853      2690.884409      3685.005857   \n",
       "\n",
       "       contrast_vim_02  contrast_vim_03  correlation_ker_00  \\\n",
       "count       612.000000       612.000000          612.000000   \n",
       "mean        242.687396       408.260645            0.884830   \n",
       "std         288.986017       486.661024            0.064249   \n",
       "min           1.947926         2.653909            0.507100   \n",
       "25%          60.961690        97.852578            0.863326   \n",
       "50%         151.150287       255.055406            0.898217   \n",
       "75%         310.873643       522.279988            0.928012   \n",
       "max        2100.010169      3584.130820            0.979557   \n",
       "\n",
       "       correlation_ker_01  correlation_ker_02  correlation_ker_03  \\\n",
       "count          612.000000          612.000000          612.000000   \n",
       "mean             0.828142            0.893333            0.833157   \n",
       "std              0.084821            0.055360            0.084532   \n",
       "min              0.410984            0.560992            0.429263   \n",
       "25%              0.786074            0.864573            0.795249   \n",
       "50%              0.845432            0.907704            0.852093   \n",
       "75%              0.887094            0.932445            0.892240   \n",
       "max              0.971872            0.979853            0.969571   \n",
       "\n",
       "       correlation_vim_00  correlation_vim_01  correlation_vim_02  \\\n",
       "count          612.000000          612.000000          612.000000   \n",
       "mean             0.907292            0.855402            0.913965   \n",
       "std              0.056674            0.082276            0.052238   \n",
       "min              0.554054            0.269889            0.531210   \n",
       "25%              0.888532            0.828531            0.894508   \n",
       "50%              0.921476            0.875212            0.926672   \n",
       "75%              0.943823            0.908575            0.946370   \n",
       "max              0.984263            0.977910            0.982422   \n",
       "\n",
       "       correlation_vim_03  differenceentropy_ker_00  differenceentropy_ker_01  \\\n",
       "count          612.000000                612.000000                612.000000   \n",
       "mean             0.858668                  4.694543                  4.988012   \n",
       "std              0.076549                  0.874594                  0.927172   \n",
       "min              0.440786                  2.252410                  2.331749   \n",
       "25%              0.825826                  4.079391                  4.343083   \n",
       "50%              0.878149                  4.793531                  5.037120   \n",
       "75%              0.910720                  5.370642                  5.707078   \n",
       "max              0.976593                  6.504151                  7.038731   \n",
       "\n",
       "       differenceentropy_ker_02  differenceentropy_ker_03  \\\n",
       "count                612.000000                612.000000   \n",
       "mean                   4.657742                  4.965373   \n",
       "std                    0.876063                  0.908654   \n",
       "min                    2.173419                  2.233840   \n",
       "25%                    4.009839                  4.346036   \n",
       "50%                    4.688466                  5.041576   \n",
       "75%                    5.319780                  5.685790   \n",
       "max                    6.573124                  6.694020   \n",
       "\n",
       "       differenceentropy_vim_00  differenceentropy_vim_01  \\\n",
       "count                612.000000                612.000000   \n",
       "mean                   3.847881                  4.148752   \n",
       "std                    0.754290                  0.806611   \n",
       "min                    1.819498                  2.015088   \n",
       "25%                    3.328111                  3.582801   \n",
       "50%                    3.834239                  4.127902   \n",
       "75%                    4.321870                  4.663802   \n",
       "max                    5.935003                  6.644597   \n",
       "\n",
       "       differenceentropy_vim_02  differenceentropy_vim_03  \\\n",
       "count                612.000000                612.000000   \n",
       "mean                   3.806559                  4.130452   \n",
       "std                    0.751229                  0.794857   \n",
       "min                    1.832616                  2.012729   \n",
       "25%                    3.284007                  3.575071   \n",
       "50%                    3.776599                  4.094482   \n",
       "75%                    4.306465                  4.666311   \n",
       "max                    6.191930                  6.382407   \n",
       "\n",
       "       differencevariance_ker_00  differencevariance_ker_01  \\\n",
       "count                 612.000000                 612.000000   \n",
       "mean                    0.000427                   0.000364   \n",
       "std                     0.000655                   0.000597   \n",
       "min                     0.000042                   0.000031   \n",
       "25%                     0.000137                   0.000105   \n",
       "50%                     0.000247                   0.000197   \n",
       "75%                     0.000462                   0.000390   \n",
       "max                     0.007231                   0.006956   \n",
       "\n",
       "       differencevariance_ker_02  differencevariance_ker_03  \\\n",
       "count                 612.000000                 612.000000   \n",
       "mean                    0.000437                   0.000365   \n",
       "std                     0.000681                   0.000592   \n",
       "min                     0.000045                   0.000031   \n",
       "25%                     0.000142                   0.000111   \n",
       "50%                     0.000249                   0.000202   \n",
       "75%                     0.000481                   0.000399   \n",
       "max                     0.007610                   0.007337   \n",
       "\n",
       "       differencevariance_vim_00  differencevariance_vim_01  \\\n",
       "count                 612.000000                 612.000000   \n",
       "mean                    0.000892                   0.000765   \n",
       "std                     0.001224                   0.001085   \n",
       "min                     0.000105                   0.000045   \n",
       "25%                     0.000369                   0.000300   \n",
       "50%                     0.000579                   0.000481   \n",
       "75%                     0.000860                   0.000757   \n",
       "max                     0.016252                   0.014161   \n",
       "\n",
       "       differencevariance_vim_02  differencevariance_vim_03  entropy_ker_00  \\\n",
       "count                 612.000000                 612.000000      612.000000   \n",
       "mean                    0.000911                   0.000767       10.814127   \n",
       "std                     0.001234                   0.001060        1.714533   \n",
       "min                     0.000063                   0.000058        5.116475   \n",
       "25%                     0.000379                   0.000295        9.671088   \n",
       "50%                     0.000591                   0.000493       11.142197   \n",
       "75%                     0.000888                   0.000758       12.078435   \n",
       "max                     0.016294                   0.014033       13.855133   \n",
       "\n",
       "       entropy_ker_01  entropy_ker_02  entropy_ker_03  entropy_vim_00  \\\n",
       "count      612.000000      612.000000      612.000000      612.000000   \n",
       "mean        11.030369       10.787171       11.020547        8.750488   \n",
       "std          1.716996        1.717582        1.712122        1.375986   \n",
       "min          5.366918        5.184130        5.270293        5.114147   \n",
       "25%          9.885241        9.535541        9.870149        7.747943   \n",
       "50%         11.407485       11.161561       11.385158        8.711912   \n",
       "75%         12.318483       12.081879       12.299393        9.751482   \n",
       "max         14.020245       14.015215       14.140375       12.507720   \n",
       "\n",
       "       entropy_vim_01  entropy_vim_02  entropy_vim_03  infomeas1_ker_00  \\\n",
       "count      612.000000      612.000000      612.000000        612.000000   \n",
       "mean         8.996469        8.714407        8.988197         -0.281955   \n",
       "std          1.390300        1.369180        1.394434          0.062537   \n",
       "min          5.247094        5.149920        5.257479         -0.479001   \n",
       "25%          7.976511        7.727161        7.982977         -0.321923   \n",
       "50%          8.962705        8.638275        8.930836         -0.277473   \n",
       "75%          9.990269        9.670824        9.997777         -0.238104   \n",
       "max         12.714180       12.412583       12.747937         -0.066366   \n",
       "\n",
       "       infomeas1_ker_01  infomeas1_ker_02  infomeas1_ker_03  infomeas1_vim_00  \\\n",
       "count        612.000000        612.000000        612.000000        612.000000   \n",
       "mean          -0.250355         -0.286347         -0.251962         -0.334758   \n",
       "std            0.061074          0.059747          0.063657          0.055067   \n",
       "min           -0.463171         -0.480045         -0.464567         -0.505208   \n",
       "25%           -0.289100         -0.326465         -0.292530         -0.369689   \n",
       "50%           -0.248192         -0.283034         -0.249236         -0.337684   \n",
       "75%           -0.206367         -0.244036         -0.204448         -0.302278   \n",
       "max           -0.056358         -0.078636         -0.053393         -0.131654   \n",
       "\n",
       "       infomeas1_vim_01  infomeas1_vim_02  infomeas1_vim_03  infomeas2_ker_00  \\\n",
       "count        612.000000        612.000000        612.000000        612.000000   \n",
       "mean          -0.294061         -0.341611         -0.295843          0.976603   \n",
       "std            0.055728          0.051758          0.056048          0.028841   \n",
       "min           -0.458352         -0.509289         -0.456130          0.676324   \n",
       "25%           -0.332790         -0.378974         -0.334752          0.972268   \n",
       "50%           -0.298306         -0.340202         -0.299348          0.985608   \n",
       "75%           -0.260584         -0.308859         -0.259745          0.992511   \n",
       "max           -0.105466         -0.134624         -0.090215          0.999482   \n",
       "\n",
       "       infomeas2_ker_01  infomeas2_ker_02  infomeas2_ker_03  infomeas2_vim_00  \\\n",
       "count        612.000000        612.000000        612.000000        612.000000   \n",
       "mean           0.966719          0.978373          0.966544          0.979449   \n",
       "std            0.036243          0.026492          0.037862          0.020461   \n",
       "min            0.636431          0.717936          0.623011          0.771367   \n",
       "25%            0.958546          0.972985          0.956660          0.974075   \n",
       "50%            0.977924          0.986040          0.978448          0.984455   \n",
       "75%            0.989090          0.993034          0.990030          0.990787   \n",
       "max            0.999344          0.999479          0.999386          0.999422   \n",
       "\n",
       "       infomeas2_vim_01  infomeas2_vim_02  infomeas2_vim_03  \\\n",
       "count        612.000000        612.000000        612.000000   \n",
       "mean           0.969145          0.981290          0.969889   \n",
       "std            0.030164          0.017477          0.027639   \n",
       "min            0.735185          0.810585          0.734907   \n",
       "25%            0.962923          0.977336          0.960872   \n",
       "50%            0.976569          0.985816          0.978009   \n",
       "75%            0.985763          0.991269          0.986250   \n",
       "max            0.999157          0.999409          0.999193   \n",
       "\n",
       "       inversedifferencemoment_ker_00  inversedifferencemoment_ker_01  \\\n",
       "count                      612.000000                      612.000000   \n",
       "mean                         0.217481                        0.191442   \n",
       "std                          0.115041                        0.110544   \n",
       "min                          0.035488                        0.036377   \n",
       "25%                          0.130285                        0.104873   \n",
       "50%                          0.192414                        0.165218   \n",
       "75%                          0.287859                        0.261436   \n",
       "max                          0.639419                        0.596404   \n",
       "\n",
       "       inversedifferencemoment_ker_02  inversedifferencemoment_ker_03  \\\n",
       "count                      612.000000                      612.000000   \n",
       "mean                         0.220200                        0.192767   \n",
       "std                          0.115878                        0.110473   \n",
       "min                          0.047575                        0.030074   \n",
       "25%                          0.127632                        0.108791   \n",
       "50%                          0.194539                        0.161514   \n",
       "75%                          0.293959                        0.252235   \n",
       "max                          0.626473                        0.619487   \n",
       "\n",
       "       inversedifferencemoment_vim_00  inversedifferencemoment_vim_01  \\\n",
       "count                      612.000000                      612.000000   \n",
       "mean                         0.374207                        0.337718   \n",
       "std                          0.111736                        0.111206   \n",
       "min                          0.095025                        0.068614   \n",
       "25%                          0.295352                        0.255335   \n",
       "50%                          0.380509                        0.340779   \n",
       "75%                          0.458102                        0.423208   \n",
       "max                          0.651745                        0.624912   \n",
       "\n",
       "       inversedifferencemoment_vim_02  inversedifferencemoment_vim_03  \\\n",
       "count                      612.000000                      612.000000   \n",
       "mean                         0.379201                        0.339435   \n",
       "std                          0.110402                        0.111266   \n",
       "min                          0.099162                        0.085552   \n",
       "25%                          0.297749                        0.252536   \n",
       "50%                          0.382929                        0.346474   \n",
       "75%                          0.461048                        0.420985   \n",
       "max                          0.643479                        0.625910   \n",
       "\n",
       "       sumaverage_ker_00  sumaverage_ker_01  sumaverage_ker_02  \\\n",
       "count         612.000000         612.000000         612.000000   \n",
       "mean          100.313886         101.387211         100.278280   \n",
       "std            68.736535          69.583776          68.793180   \n",
       "min             9.523263           9.605084           9.502391   \n",
       "25%            43.390997          43.577011          43.084244   \n",
       "50%            87.138437          87.781748          87.066842   \n",
       "75%           137.604350         139.318453         137.047058   \n",
       "max           408.254905         410.977171         413.970923   \n",
       "\n",
       "       sumaverage_ker_03  sumaverage_vim_00  sumaverage_vim_01  \\\n",
       "count         612.000000         612.000000         612.000000   \n",
       "mean          101.281607          50.000755          50.606290   \n",
       "std            69.410081          38.041723          38.708155   \n",
       "min             9.524644           7.653126           7.691705   \n",
       "25%            43.582089          27.509109          27.718362   \n",
       "50%            88.162583          40.434373          40.830094   \n",
       "75%           138.663548          60.618133          61.629691   \n",
       "max           414.066338         308.030745         313.352960   \n",
       "\n",
       "       sumaverage_vim_02  sumaverage_vim_03  sumentropy_ker_00  \\\n",
       "count         612.000000         612.000000         612.000000   \n",
       "mean           49.963651          50.580778           7.264958   \n",
       "std            38.000232          38.635034           1.026307   \n",
       "min             7.522859           7.764994           3.905135   \n",
       "25%            27.498612          27.665365           6.530767   \n",
       "50%            40.388337          40.630401           7.516121   \n",
       "75%            60.894498          61.989500           8.074355   \n",
       "max           307.256394         313.373773           8.831777   \n",
       "\n",
       "       sumentropy_ker_01  sumentropy_ker_02  sumentropy_ker_03  \\\n",
       "count         612.000000         612.000000         612.000000   \n",
       "mean            7.287318           7.264722           7.286126   \n",
       "std             1.026443           1.027780           1.026004   \n",
       "min             3.986979           3.923980           3.947133   \n",
       "25%             6.547770           6.526987           6.544593   \n",
       "50%             7.525074           7.502818           7.539886   \n",
       "75%             8.097027           8.083553           8.103947   \n",
       "max             8.854635           8.838529           8.833576   \n",
       "\n",
       "       sumentropy_vim_00  sumentropy_vim_01  sumentropy_vim_02  \\\n",
       "count         612.000000         612.000000         612.000000   \n",
       "mean            6.188475           6.231897           6.186637   \n",
       "std             0.852246           0.859254           0.851964   \n",
       "min             3.905986           3.943105           3.925313   \n",
       "25%             5.593402           5.635206           5.595458   \n",
       "50%             6.151340           6.198385           6.142488   \n",
       "75%             6.783052           6.843747           6.794148   \n",
       "max             8.498503           8.540615           8.524555   \n",
       "\n",
       "       sumentropy_vim_03  sumvariance_ker_00  sumvariance_ker_01  \\\n",
       "count         612.000000          612.000000          612.000000   \n",
       "mean            6.229946         9419.785813         9140.234498   \n",
       "std             0.857882         9455.868872         9158.820341   \n",
       "min             3.947868           58.367500           57.166502   \n",
       "25%             5.632560         2161.072270         2104.124911   \n",
       "50%             6.191065         5662.293999         5510.333246   \n",
       "75%             6.847616        14037.482715        13911.471231   \n",
       "max             8.571684        46678.196992        45716.342821   \n",
       "\n",
       "       sumvariance_ker_02  sumvariance_ker_03  sumvariance_vim_00  \\\n",
       "count          612.000000          612.000000          612.000000   \n",
       "mean          9447.545566         9190.570831         6459.766177   \n",
       "std           9471.332277         9250.282663         7710.351447   \n",
       "min             59.556997           56.133939           22.450194   \n",
       "25%           2179.642955         2086.634798         1487.094143   \n",
       "50%           5677.687410         5485.528348         3649.382063   \n",
       "75%          14513.015344        13862.060584         8565.598892   \n",
       "max          46716.864862        45094.141505        49351.522971   \n",
       "\n",
       "       sumvariance_vim_01  sumvariance_vim_02  sumvariance_vim_03  \\\n",
       "count          612.000000          612.000000          612.000000   \n",
       "mean          6338.940526         6476.716839         6357.382111   \n",
       "std           7557.383051         7723.656235         7597.519438   \n",
       "min             20.701830           22.287548           21.659591   \n",
       "25%           1452.308537         1499.665239         1454.143613   \n",
       "50%           3554.740520         3671.512516         3633.947122   \n",
       "75%           8453.763664         8637.639520         8488.732037   \n",
       "max          48802.334465        49774.488036        48848.937104   \n",
       "\n",
       "       variance_ker_00  variance_ker_01  variance_ker_02  variance_ker_03  \\\n",
       "count       612.000000       612.000000       612.000000       612.000000   \n",
       "mean       2472.591480      2475.245392      2472.967915      2473.251935   \n",
       "std        2463.330100      2461.549737      2462.715243      2458.921434   \n",
       "min          16.724894        16.826151        16.659072        16.832041   \n",
       "25%         582.098685       581.294730       581.552451       584.929209   \n",
       "50%        1518.012547      1528.951289      1523.933588      1533.106872   \n",
       "75%        3785.098742      3789.726441      3804.230126      3789.228677   \n",
       "max       11931.834477     11845.012580     11922.858430     11733.417545   \n",
       "\n",
       "       variance_vim_00  variance_vim_01  variance_vim_02  variance_vim_03  \n",
       "count       612.000000       612.000000       612.000000       612.000000  \n",
       "mean       1680.965604      1693.686199      1679.851059      1691.410689  \n",
       "std        1998.313444      2010.090289      1993.645287      2005.189899  \n",
       "min           6.088701         6.105386         6.131142         6.078375  \n",
       "25%         385.526825       389.948459       388.588424       388.855104  \n",
       "50%         958.510394       959.934455       954.862677       974.461219  \n",
       "75%        2231.768776      2229.655436      2229.705476      2251.343258  \n",
       "max       12735.444122     12869.296754     12796.244833     12821.117223  "
      ]
     },
     "execution_count": 7,
     "metadata": {},
     "output_type": "execute_result"
    }
   ],
   "source": [
    "pd.options.display.max_columns = biomarkers.shape[1]\n",
    "stats"
   ]
  },
  {
   "cell_type": "code",
   "execution_count": 8,
   "metadata": {},
   "outputs": [
    {
     "data": {
      "text/html": [
       "<div>\n",
       "<style scoped>\n",
       "    .dataframe tbody tr th:only-of-type {\n",
       "        vertical-align: middle;\n",
       "    }\n",
       "\n",
       "    .dataframe tbody tr th {\n",
       "        vertical-align: top;\n",
       "    }\n",
       "\n",
       "    .dataframe thead th {\n",
       "        text-align: right;\n",
       "    }\n",
       "</style>\n",
       "<table border=\"1\" class=\"dataframe\">\n",
       "  <thead>\n",
       "    <tr style=\"text-align: right;\">\n",
       "      <th></th>\n",
       "      <th>label</th>\n",
       "      <th>image</th>\n",
       "      <th>object</th>\n",
       "      <th>combination</th>\n",
       "      <th>site</th>\n",
       "      <th>well</th>\n",
       "    </tr>\n",
       "  </thead>\n",
       "  <tbody>\n",
       "    <tr>\n",
       "      <th>count</th>\n",
       "      <td>612</td>\n",
       "      <td>612</td>\n",
       "      <td>612</td>\n",
       "      <td>612</td>\n",
       "      <td>612</td>\n",
       "      <td>612</td>\n",
       "    </tr>\n",
       "    <tr>\n",
       "      <th>unique</th>\n",
       "      <td>612</td>\n",
       "      <td>73</td>\n",
       "      <td>18</td>\n",
       "      <td>1</td>\n",
       "      <td>7</td>\n",
       "      <td>3</td>\n",
       "    </tr>\n",
       "    <tr>\n",
       "      <th>top</th>\n",
       "      <td>64.0-B-A1-2-3</td>\n",
       "      <td>40</td>\n",
       "      <td>1</td>\n",
       "      <td>B</td>\n",
       "      <td>2</td>\n",
       "      <td>A1</td>\n",
       "    </tr>\n",
       "    <tr>\n",
       "      <th>freq</th>\n",
       "      <td>1</td>\n",
       "      <td>18</td>\n",
       "      <td>73</td>\n",
       "      <td>612</td>\n",
       "      <td>143</td>\n",
       "      <td>265</td>\n",
       "    </tr>\n",
       "  </tbody>\n",
       "</table>\n",
       "</div>"
      ],
      "text/plain": [
       "                label image object combination site well\n",
       "count             612   612    612         612  612  612\n",
       "unique            612    73     18           1    7    3\n",
       "top     64.0-B-A1-2-3    40      1           B    2   A1\n",
       "freq                1    18     73         612  143  265"
      ]
     },
     "execution_count": 8,
     "metadata": {},
     "output_type": "execute_result"
    }
   ],
   "source": [
    "biomarkers.describe(include=['object'])"
   ]
  },
  {
   "cell_type": "markdown",
   "metadata": {},
   "source": [
    "### Drop features with zero variance"
   ]
  },
  {
   "cell_type": "code",
   "execution_count": 9,
   "metadata": {},
   "outputs": [
    {
     "data": {
      "text/plain": [
       "['loc_centermassintensityZ_ker',\n",
       " 'loc_centermassintensityZ_vim',\n",
       " 'loc_centerZ',\n",
       " 'loc_maxintensityZ_ker',\n",
       " 'loc_maxintensityZ_vim']"
      ]
     },
     "execution_count": 9,
     "metadata": {},
     "output_type": "execute_result"
    }
   ],
   "source": [
    "list(stats.columns[stats.loc['std', :] == 0])"
   ]
  },
  {
   "cell_type": "code",
   "execution_count": 10,
   "metadata": {
    "collapsed": true
   },
   "outputs": [],
   "source": [
    "biomarkers.drop(stats.columns[stats.loc['std', :] == 0], axis=1, inplace=True)"
   ]
  },
  {
   "cell_type": "markdown",
   "metadata": {},
   "source": [
    "### Drop duplicates"
   ]
  },
  {
   "cell_type": "code",
   "execution_count": 11,
   "metadata": {},
   "outputs": [
    {
     "data": {
      "text/plain": [
       "[None]"
      ]
     },
     "execution_count": 11,
     "metadata": {},
     "output_type": "execute_result"
    }
   ],
   "source": [
    "dupl_cols = ['number_object_number']\n",
    "[biomarkers.drop([col], axis=1, inplace=True) for col in dupl_cols if sum(biomarkers.object.astype(int) != biomarkers[col])==0]"
   ]
  },
  {
   "cell_type": "code",
   "execution_count": 12,
   "metadata": {},
   "outputs": [
    {
     "name": "stdout",
     "output_type": "stream",
     "text": [
      "The dataset after cleaning has 612 rows and 151 columns.\n"
     ]
    },
    {
     "data": {
      "text/plain": [
       "float64     144\n",
       "object        6\n",
       "category      1\n",
       "dtype: int64"
      ]
     },
     "execution_count": 12,
     "metadata": {},
     "output_type": "execute_result"
    }
   ],
   "source": [
    "print(\"The dataset after cleaning has {} rows and {} columns.\".format(biomarkers.shape[0], biomarkers.shape[1]))\n",
    "biomarkers.dtypes.value_counts()"
   ]
  },
  {
   "cell_type": "markdown",
   "metadata": {},
   "source": [
    "### Define feature columns"
   ]
  },
  {
   "cell_type": "code",
   "execution_count": 13,
   "metadata": {
    "collapsed": true
   },
   "outputs": [],
   "source": [
    "biomarkers_ = biomarkers.copy()\n",
    "biomarkers_['stiffness_num'] = pd.to_numeric(biomarkers_.stiffness)"
   ]
  },
  {
   "cell_type": "code",
   "execution_count": 14,
   "metadata": {
    "collapsed": true
   },
   "outputs": [],
   "source": [
    "numeric_cols = biomarkers_.select_dtypes(include=[np.number]).columns\n",
    "feature_cols = biomarkers_.select_dtypes(include=[np.number]).drop(['stiffness_num'], axis=1).columns"
   ]
  },
  {
   "cell_type": "markdown",
   "metadata": {},
   "source": [
    "## Explore the data"
   ]
  },
  {
   "cell_type": "markdown",
   "metadata": {},
   "source": [
    "### Mean intensity"
   ]
  },
  {
   "cell_type": "code",
   "execution_count": 15,
   "metadata": {},
   "outputs": [
    {
     "data": {
      "image/png": "[encoded data removed]",
      "text/plain": [
       "<Figure size 1080x360 with 1 Axes>"
      ]
     },
     "metadata": {},
     "output_type": "display_data"
    }
   ],
   "source": [
    "sns.barplot(x=biomarkers.stiffness, y=biomarkers.meanintensity_ker * 65535,\n",
    "            ci='sd', capsize=.1);\n",
    "plt.xlabel(\"Stiffness\")\n",
    "plt.ylabel(\"Intensity\")\n",
    "plt.title(\"Expression of Cytokeratin\")\n",
    "plt.savefig('../results/Ker Intensity.png', bbox_inches='tight', dpi=300);"
   ]
  },
  {
   "cell_type": "code",
   "execution_count": 17,
   "metadata": {},
   "outputs": [
    {
     "data": {
      "image/png": "[encoded data removed]",
      "text/plain": [
       "<Figure size 1080x360 with 1 Axes>"
      ]
     },
     "metadata": {},
     "output_type": "display_data"
    }
   ],
   "source": [
    "sns.barplot(x=biomarkers.stiffness, y=biomarkers.meanintensity_vim * 65535,\n",
    "            ci='sd', capsize=.1);\n",
    "plt.xlabel(\"Stiffness\")\n",
    "plt.ylabel(\"Intensity\")\n",
    "plt.title(\"Expression of Vimentin\")\n",
    "plt.savefig('../results/Vim Intensity.png', bbox_inches='tight', dpi=300);"
   ]
  },
  {
   "cell_type": "markdown",
   "metadata": {},
   "source": [
    "### Cytokeratin to Vimentin ratio"
   ]
  },
  {
   "cell_type": "code",
   "execution_count": 19,
   "metadata": {
    "collapsed": true
   },
   "outputs": [],
   "source": [
    "biomarkers['ratio'] = biomarkers.meanintensity_ker / biomarkers.meanintensity_vim"
   ]
  },
  {
   "cell_type": "code",
   "execution_count": 20,
   "metadata": {},
   "outputs": [
    {
     "data": {
      "image/png": "[encoded data removed]",
      "text/plain": [
       "<Figure size 1080x360 with 1 Axes>"
      ]
     },
     "metadata": {},
     "output_type": "display_data"
    }
   ],
   "source": [
    "sns.barplot(x=biomarkers.stiffness, y=biomarkers.ratio,\n",
    "            ci='sd', capsize=.1);\n",
    "plt.xlabel(\"Stiffness\")\n",
    "plt.ylabel(\"Intensity\")\n",
    "plt.title(\"Ratio of Cytokeratin to Vimentin\");\n",
    "plt.savefig('../results/Ker to Vim ratio.png', bbox_inches='tight', dpi=300);"
   ]
  },
  {
   "cell_type": "markdown",
   "metadata": {},
   "source": [
    "### Normalise intensity by gain"
   ]
  },
  {
   "cell_type": "markdown",
   "metadata": {},
   "source": [
    "#### Load metadata"
   ]
  },
  {
   "cell_type": "markdown",
   "metadata": {},
   "source": [
    "###### Keratin"
   ]
  },
  {
   "cell_type": "code",
   "execution_count": 21,
   "metadata": {
    "collapsed": true
   },
   "outputs": [],
   "source": [
    "DATA_PATH = '../datasets/'"
   ]
  },
  {
   "cell_type": "code",
   "execution_count": 22,
   "metadata": {},
   "outputs": [
    {
     "name": "stdout",
     "output_type": "stream",
     "text": [
      "(177, 15)\n"
     ]
    },
    {
     "data": {
      "text/html": [
       "<div>\n",
       "<style scoped>\n",
       "    .dataframe tbody tr th:only-of-type {\n",
       "        vertical-align: middle;\n",
       "    }\n",
       "\n",
       "    .dataframe tbody tr th {\n",
       "        vertical-align: top;\n",
       "    }\n",
       "\n",
       "    .dataframe thead th {\n",
       "        text-align: right;\n",
       "    }\n",
       "</style>\n",
       "<table border=\"1\" class=\"dataframe\">\n",
       "  <thead>\n",
       "    <tr style=\"text-align: right;\">\n",
       "      <th></th>\n",
       "      <th>stiffness</th>\n",
       "      <th>combination</th>\n",
       "      <th>well</th>\n",
       "      <th>site</th>\n",
       "      <th>channel</th>\n",
       "      <th>fluorophore</th>\n",
       "      <th>gain</th>\n",
       "      <th>offset</th>\n",
       "      <th>power</th>\n",
       "      <th>attenuation</th>\n",
       "      <th>pcf</th>\n",
       "      <th>zposition</th>\n",
       "      <th>zoffset</th>\n",
       "      <th>user</th>\n",
       "      <th>label</th>\n",
       "    </tr>\n",
       "  </thead>\n",
       "  <tbody>\n",
       "    <tr>\n",
       "      <th>0</th>\n",
       "      <td>0.2</td>\n",
       "      <td>B</td>\n",
       "      <td>A1</td>\n",
       "      <td>1</td>\n",
       "      <td>1</td>\n",
       "      <td>AF647</td>\n",
       "      <td>700</td>\n",
       "      <td>0</td>\n",
       "      <td>0.005</td>\n",
       "      <td>0.95</td>\n",
       "      <td>7679.330711</td>\n",
       "      <td>795.356</td>\n",
       "      <td>0.003333</td>\n",
       "      <td>44709390</td>\n",
       "      <td>0.2-B-A1-1</td>\n",
       "    </tr>\n",
       "    <tr>\n",
       "      <th>1</th>\n",
       "      <td>0.2</td>\n",
       "      <td>B</td>\n",
       "      <td>A1</td>\n",
       "      <td>2</td>\n",
       "      <td>1</td>\n",
       "      <td>AF647</td>\n",
       "      <td>700</td>\n",
       "      <td>0</td>\n",
       "      <td>0.005</td>\n",
       "      <td>0.95</td>\n",
       "      <td>7679.330711</td>\n",
       "      <td>795.272</td>\n",
       "      <td>0.003332</td>\n",
       "      <td>44709390</td>\n",
       "      <td>0.2-B-A1-2</td>\n",
       "    </tr>\n",
       "    <tr>\n",
       "      <th>2</th>\n",
       "      <td>0.2</td>\n",
       "      <td>B</td>\n",
       "      <td>A1</td>\n",
       "      <td>3</td>\n",
       "      <td>1</td>\n",
       "      <td>AF647</td>\n",
       "      <td>700</td>\n",
       "      <td>0</td>\n",
       "      <td>0.005</td>\n",
       "      <td>0.95</td>\n",
       "      <td>7679.330711</td>\n",
       "      <td>793.206</td>\n",
       "      <td>0.003330</td>\n",
       "      <td>44709390</td>\n",
       "      <td>0.2-B-A1-3</td>\n",
       "    </tr>\n",
       "    <tr>\n",
       "      <th>3</th>\n",
       "      <td>0.2</td>\n",
       "      <td>B</td>\n",
       "      <td>A1</td>\n",
       "      <td>4</td>\n",
       "      <td>1</td>\n",
       "      <td>AF647</td>\n",
       "      <td>700</td>\n",
       "      <td>0</td>\n",
       "      <td>0.005</td>\n",
       "      <td>0.95</td>\n",
       "      <td>7679.330711</td>\n",
       "      <td>793.972</td>\n",
       "      <td>0.003331</td>\n",
       "      <td>44709390</td>\n",
       "      <td>0.2-B-A1-4</td>\n",
       "    </tr>\n",
       "    <tr>\n",
       "      <th>4</th>\n",
       "      <td>0.2</td>\n",
       "      <td>B</td>\n",
       "      <td>A1</td>\n",
       "      <td>5</td>\n",
       "      <td>1</td>\n",
       "      <td>AF647</td>\n",
       "      <td>700</td>\n",
       "      <td>0</td>\n",
       "      <td>0.005</td>\n",
       "      <td>0.95</td>\n",
       "      <td>7679.330711</td>\n",
       "      <td>790.734</td>\n",
       "      <td>0.003328</td>\n",
       "      <td>44709390</td>\n",
       "      <td>0.2-B-A1-5</td>\n",
       "    </tr>\n",
       "  </tbody>\n",
       "</table>\n",
       "</div>"
      ],
      "text/plain": [
       "  stiffness combination well site  channel fluorophore  gain  offset  power  \\\n",
       "0       0.2           B   A1    1        1       AF647   700       0  0.005   \n",
       "1       0.2           B   A1    2        1       AF647   700       0  0.005   \n",
       "2       0.2           B   A1    3        1       AF647   700       0  0.005   \n",
       "3       0.2           B   A1    4        1       AF647   700       0  0.005   \n",
       "4       0.2           B   A1    5        1       AF647   700       0  0.005   \n",
       "\n",
       "   attenuation          pcf  zposition   zoffset      user       label  \n",
       "0         0.95  7679.330711    795.356  0.003333  44709390  0.2-B-A1-1  \n",
       "1         0.95  7679.330711    795.272  0.003332  44709390  0.2-B-A1-2  \n",
       "2         0.95  7679.330711    793.206  0.003330  44709390  0.2-B-A1-3  \n",
       "3         0.95  7679.330711    793.972  0.003331  44709390  0.2-B-A1-4  \n",
       "4         0.95  7679.330711    790.734  0.003328  44709390  0.2-B-A1-5  "
      ]
     },
     "execution_count": 22,
     "metadata": {},
     "output_type": "execute_result"
    }
   ],
   "source": [
    "ker_meta = prep.load_data(\"Ker_metadata.csv\", data_path=DATA_PATH)\n",
    "ker_meta.rename(str.lower, axis='columns', inplace=True)\n",
    "ker_meta = prep.create_label(ker_meta, per_cell=False)\n",
    "print(ker_meta.shape)\n",
    "ker_meta.head()"
   ]
  },
  {
   "cell_type": "code",
   "execution_count": 23,
   "metadata": {},
   "outputs": [
    {
     "data": {
      "text/plain": [
       "stiffness  gain\n",
       "0.2        700     30\n",
       "0.5        700     15\n",
       "2.0        700     31\n",
       "8.0        950     23\n",
       "16.0       730     16\n",
       "           780     11\n",
       "           950      1\n",
       "32.0       780     19\n",
       "64.0       700     14\n",
       "           730     10\n",
       "           690      6\n",
       "           780      1\n",
       "Name: gain, dtype: int64"
      ]
     },
     "execution_count": 23,
     "metadata": {},
     "output_type": "execute_result"
    }
   ],
   "source": [
    "ker_meta.groupby('stiffness').gain.value_counts()"
   ]
  },
  {
   "cell_type": "markdown",
   "metadata": {},
   "source": [
    "###### Vimentin"
   ]
  },
  {
   "cell_type": "code",
   "execution_count": 24,
   "metadata": {},
   "outputs": [
    {
     "name": "stdout",
     "output_type": "stream",
     "text": [
      "(175, 15)\n"
     ]
    },
    {
     "data": {
      "text/html": [
       "<div>\n",
       "<style scoped>\n",
       "    .dataframe tbody tr th:only-of-type {\n",
       "        vertical-align: middle;\n",
       "    }\n",
       "\n",
       "    .dataframe tbody tr th {\n",
       "        vertical-align: top;\n",
       "    }\n",
       "\n",
       "    .dataframe thead th {\n",
       "        text-align: right;\n",
       "    }\n",
       "</style>\n",
       "<table border=\"1\" class=\"dataframe\">\n",
       "  <thead>\n",
       "    <tr style=\"text-align: right;\">\n",
       "      <th></th>\n",
       "      <th>stiffness</th>\n",
       "      <th>combination</th>\n",
       "      <th>well</th>\n",
       "      <th>site</th>\n",
       "      <th>channel</th>\n",
       "      <th>fluorophore</th>\n",
       "      <th>gain</th>\n",
       "      <th>offset</th>\n",
       "      <th>power</th>\n",
       "      <th>attenuation</th>\n",
       "      <th>pcf</th>\n",
       "      <th>zposition</th>\n",
       "      <th>zoffset</th>\n",
       "      <th>user</th>\n",
       "      <th>label</th>\n",
       "    </tr>\n",
       "  </thead>\n",
       "  <tbody>\n",
       "    <tr>\n",
       "      <th>0</th>\n",
       "      <td>0.2</td>\n",
       "      <td>B</td>\n",
       "      <td>A1</td>\n",
       "      <td>1</td>\n",
       "      <td>2</td>\n",
       "      <td>AF568</td>\n",
       "      <td>680</td>\n",
       "      <td>0</td>\n",
       "      <td>0.02</td>\n",
       "      <td>0.95</td>\n",
       "      <td>7679.330711</td>\n",
       "      <td>795.356</td>\n",
       "      <td>0.003333</td>\n",
       "      <td>44709390</td>\n",
       "      <td>0.2-B-A1-1</td>\n",
       "    </tr>\n",
       "    <tr>\n",
       "      <th>1</th>\n",
       "      <td>0.2</td>\n",
       "      <td>B</td>\n",
       "      <td>A1</td>\n",
       "      <td>2</td>\n",
       "      <td>2</td>\n",
       "      <td>AF568</td>\n",
       "      <td>680</td>\n",
       "      <td>0</td>\n",
       "      <td>0.02</td>\n",
       "      <td>0.95</td>\n",
       "      <td>7679.330711</td>\n",
       "      <td>795.272</td>\n",
       "      <td>0.003332</td>\n",
       "      <td>44709390</td>\n",
       "      <td>0.2-B-A1-2</td>\n",
       "    </tr>\n",
       "    <tr>\n",
       "      <th>2</th>\n",
       "      <td>0.2</td>\n",
       "      <td>B</td>\n",
       "      <td>A1</td>\n",
       "      <td>3</td>\n",
       "      <td>2</td>\n",
       "      <td>AF568</td>\n",
       "      <td>680</td>\n",
       "      <td>0</td>\n",
       "      <td>0.02</td>\n",
       "      <td>0.95</td>\n",
       "      <td>7679.330711</td>\n",
       "      <td>793.206</td>\n",
       "      <td>0.003330</td>\n",
       "      <td>44709390</td>\n",
       "      <td>0.2-B-A1-3</td>\n",
       "    </tr>\n",
       "    <tr>\n",
       "      <th>3</th>\n",
       "      <td>0.2</td>\n",
       "      <td>B</td>\n",
       "      <td>A1</td>\n",
       "      <td>4</td>\n",
       "      <td>2</td>\n",
       "      <td>AF568</td>\n",
       "      <td>680</td>\n",
       "      <td>0</td>\n",
       "      <td>0.02</td>\n",
       "      <td>0.95</td>\n",
       "      <td>7679.330711</td>\n",
       "      <td>793.972</td>\n",
       "      <td>0.003331</td>\n",
       "      <td>44709390</td>\n",
       "      <td>0.2-B-A1-4</td>\n",
       "    </tr>\n",
       "    <tr>\n",
       "      <th>4</th>\n",
       "      <td>0.2</td>\n",
       "      <td>B</td>\n",
       "      <td>A1</td>\n",
       "      <td>5</td>\n",
       "      <td>2</td>\n",
       "      <td>AF568</td>\n",
       "      <td>680</td>\n",
       "      <td>0</td>\n",
       "      <td>0.02</td>\n",
       "      <td>0.95</td>\n",
       "      <td>7679.330711</td>\n",
       "      <td>790.734</td>\n",
       "      <td>0.003328</td>\n",
       "      <td>44709390</td>\n",
       "      <td>0.2-B-A1-5</td>\n",
       "    </tr>\n",
       "  </tbody>\n",
       "</table>\n",
       "</div>"
      ],
      "text/plain": [
       "  stiffness combination well site  channel fluorophore  gain  offset  power  \\\n",
       "0       0.2           B   A1    1        2       AF568   680       0   0.02   \n",
       "1       0.2           B   A1    2        2       AF568   680       0   0.02   \n",
       "2       0.2           B   A1    3        2       AF568   680       0   0.02   \n",
       "3       0.2           B   A1    4        2       AF568   680       0   0.02   \n",
       "4       0.2           B   A1    5        2       AF568   680       0   0.02   \n",
       "\n",
       "   attenuation          pcf  zposition   zoffset      user       label  \n",
       "0         0.95  7679.330711    795.356  0.003333  44709390  0.2-B-A1-1  \n",
       "1         0.95  7679.330711    795.272  0.003332  44709390  0.2-B-A1-2  \n",
       "2         0.95  7679.330711    793.206  0.003330  44709390  0.2-B-A1-3  \n",
       "3         0.95  7679.330711    793.972  0.003331  44709390  0.2-B-A1-4  \n",
       "4         0.95  7679.330711    790.734  0.003328  44709390  0.2-B-A1-5  "
      ]
     },
     "execution_count": 24,
     "metadata": {},
     "output_type": "execute_result"
    }
   ],
   "source": [
    "vim_meta = prep.load_data(\"Vim_metadata.csv\", data_path=DATA_PATH)\n",
    "vim_meta.rename(str.lower, axis='columns', inplace=True)\n",
    "vim_meta = prep.create_label(vim_meta, per_cell=False)\n",
    "print(vim_meta.shape)\n",
    "vim_meta.head()"
   ]
  },
  {
   "cell_type": "code",
   "execution_count": 25,
   "metadata": {},
   "outputs": [
    {
     "data": {
      "text/plain": [
       "stiffness  gain\n",
       "0.2        680     30\n",
       "0.5        650     15\n",
       "2.0        680     16\n",
       "           650     15\n",
       "8.0        801     21\n",
       "16.0       680     27\n",
       "           801      1\n",
       "32.0       680     19\n",
       "64.0       680     19\n",
       "           650     12\n",
       "Name: gain, dtype: int64"
      ]
     },
     "execution_count": 25,
     "metadata": {},
     "output_type": "execute_result"
    }
   ],
   "source": [
    "vim_meta.groupby('stiffness').gain.value_counts()"
   ]
  },
  {
   "cell_type": "markdown",
   "metadata": {},
   "source": [
    "#### Merge datasets"
   ]
  },
  {
   "cell_type": "code",
   "execution_count": 26,
   "metadata": {},
   "outputs": [
    {
     "data": {
      "text/html": [
       "<div>\n",
       "<style scoped>\n",
       "    .dataframe tbody tr th:only-of-type {\n",
       "        vertical-align: middle;\n",
       "    }\n",
       "\n",
       "    .dataframe tbody tr th {\n",
       "        vertical-align: top;\n",
       "    }\n",
       "\n",
       "    .dataframe thead th {\n",
       "        text-align: right;\n",
       "    }\n",
       "</style>\n",
       "<table border=\"1\" class=\"dataframe\">\n",
       "  <thead>\n",
       "    <tr style=\"text-align: right;\">\n",
       "      <th></th>\n",
       "      <th>gain_ker</th>\n",
       "      <th>stiffness</th>\n",
       "      <th>combination</th>\n",
       "      <th>well</th>\n",
       "      <th>site</th>\n",
       "      <th>gain_vim</th>\n",
       "    </tr>\n",
       "  </thead>\n",
       "  <tbody>\n",
       "    <tr>\n",
       "      <th>0</th>\n",
       "      <td>700</td>\n",
       "      <td>0.2</td>\n",
       "      <td>B</td>\n",
       "      <td>A1</td>\n",
       "      <td>1</td>\n",
       "      <td>680.0</td>\n",
       "    </tr>\n",
       "    <tr>\n",
       "      <th>1</th>\n",
       "      <td>700</td>\n",
       "      <td>0.2</td>\n",
       "      <td>B</td>\n",
       "      <td>A1</td>\n",
       "      <td>2</td>\n",
       "      <td>680.0</td>\n",
       "    </tr>\n",
       "    <tr>\n",
       "      <th>2</th>\n",
       "      <td>700</td>\n",
       "      <td>0.2</td>\n",
       "      <td>B</td>\n",
       "      <td>A1</td>\n",
       "      <td>3</td>\n",
       "      <td>680.0</td>\n",
       "    </tr>\n",
       "  </tbody>\n",
       "</table>\n",
       "</div>"
      ],
      "text/plain": [
       "   gain_ker stiffness combination well site  gain_vim\n",
       "0       700       0.2           B   A1    1     680.0\n",
       "1       700       0.2           B   A1    2     680.0\n",
       "2       700       0.2           B   A1    3     680.0"
      ]
     },
     "execution_count": 26,
     "metadata": {},
     "output_type": "execute_result"
    }
   ],
   "source": [
    "common_columns = ['stiffness', 'combination', 'well', 'site']\n",
    "gain = pd.merge(ker_meta[['gain', 'stiffness', 'combination', 'well', 'site']], \n",
    "                vim_meta[['gain', 'stiffness', 'combination', 'well', 'site']], \n",
    "                how='left', on=common_columns,  \n",
    "                suffixes=('_ker', '_vim'))\n",
    "gain.head(3)"
   ]
  },
  {
   "cell_type": "code",
   "execution_count": 27,
   "metadata": {},
   "outputs": [
    {
     "data": {
      "text/html": [
       "<div>\n",
       "<style scoped>\n",
       "    .dataframe tbody tr th:only-of-type {\n",
       "        vertical-align: middle;\n",
       "    }\n",
       "\n",
       "    .dataframe tbody tr th {\n",
       "        vertical-align: top;\n",
       "    }\n",
       "\n",
       "    .dataframe thead th {\n",
       "        text-align: right;\n",
       "    }\n",
       "</style>\n",
       "<table border=\"1\" class=\"dataframe\">\n",
       "  <thead>\n",
       "    <tr style=\"text-align: right;\">\n",
       "      <th></th>\n",
       "      <th>label</th>\n",
       "      <th>stiffness</th>\n",
       "      <th>combination</th>\n",
       "      <th>well</th>\n",
       "      <th>site</th>\n",
       "      <th>meanintensity_ker</th>\n",
       "      <th>meanintensity_vim</th>\n",
       "      <th>gain_ker</th>\n",
       "      <th>gain_vim</th>\n",
       "    </tr>\n",
       "  </thead>\n",
       "  <tbody>\n",
       "    <tr>\n",
       "      <th>0</th>\n",
       "      <td>0.2-B-A1-1-1</td>\n",
       "      <td>0.2</td>\n",
       "      <td>B</td>\n",
       "      <td>A1</td>\n",
       "      <td>1</td>\n",
       "      <td>0.047023</td>\n",
       "      <td>0.047942</td>\n",
       "      <td>700</td>\n",
       "      <td>680.0</td>\n",
       "    </tr>\n",
       "    <tr>\n",
       "      <th>1</th>\n",
       "      <td>0.2-B-A1-1-2</td>\n",
       "      <td>0.2</td>\n",
       "      <td>B</td>\n",
       "      <td>A1</td>\n",
       "      <td>1</td>\n",
       "      <td>0.136760</td>\n",
       "      <td>0.076530</td>\n",
       "      <td>700</td>\n",
       "      <td>680.0</td>\n",
       "    </tr>\n",
       "    <tr>\n",
       "      <th>2</th>\n",
       "      <td>0.2-B-A1-1-3</td>\n",
       "      <td>0.2</td>\n",
       "      <td>B</td>\n",
       "      <td>A1</td>\n",
       "      <td>1</td>\n",
       "      <td>0.211328</td>\n",
       "      <td>0.041861</td>\n",
       "      <td>700</td>\n",
       "      <td>680.0</td>\n",
       "    </tr>\n",
       "  </tbody>\n",
       "</table>\n",
       "</div>"
      ],
      "text/plain": [
       "          label stiffness combination well site  meanintensity_ker  \\\n",
       "0  0.2-B-A1-1-1       0.2           B   A1    1           0.047023   \n",
       "1  0.2-B-A1-1-2       0.2           B   A1    1           0.136760   \n",
       "2  0.2-B-A1-1-3       0.2           B   A1    1           0.211328   \n",
       "\n",
       "   meanintensity_vim  gain_ker  gain_vim  \n",
       "0           0.047942       700     680.0  \n",
       "1           0.076530       700     680.0  \n",
       "2           0.041861       700     680.0  "
      ]
     },
     "execution_count": 27,
     "metadata": {},
     "output_type": "execute_result"
    }
   ],
   "source": [
    "intensity = pd.merge(biomarkers[['label', 'stiffness', 'combination', 'well', 'site', \n",
    "                                 'meanintensity_ker', 'meanintensity_vim']], \n",
    "                     gain, how='left', on=common_columns)\n",
    "intensity.head(3)"
   ]
  },
  {
   "cell_type": "code",
   "execution_count": 28,
   "metadata": {
    "collapsed": true
   },
   "outputs": [],
   "source": [
    "intensity.meanintensity_ker = intensity.meanintensity_ker * 65535\n",
    "intensity.meanintensity_vim = intensity.meanintensity_vim * 65535"
   ]
  },
  {
   "cell_type": "markdown",
   "metadata": {},
   "source": [
    "#### Divide by gain"
   ]
  },
  {
   "cell_type": "code",
   "execution_count": 29,
   "metadata": {},
   "outputs": [
    {
     "data": {
      "text/html": [
       "<div>\n",
       "<style scoped>\n",
       "    .dataframe tbody tr th:only-of-type {\n",
       "        vertical-align: middle;\n",
       "    }\n",
       "\n",
       "    .dataframe tbody tr th {\n",
       "        vertical-align: top;\n",
       "    }\n",
       "\n",
       "    .dataframe thead th {\n",
       "        text-align: right;\n",
       "    }\n",
       "</style>\n",
       "<table border=\"1\" class=\"dataframe\">\n",
       "  <thead>\n",
       "    <tr style=\"text-align: right;\">\n",
       "      <th></th>\n",
       "      <th>label</th>\n",
       "      <th>stiffness</th>\n",
       "      <th>combination</th>\n",
       "      <th>well</th>\n",
       "      <th>site</th>\n",
       "      <th>meanintensity_ker</th>\n",
       "      <th>meanintensity_vim</th>\n",
       "      <th>gain_ker</th>\n",
       "      <th>gain_vim</th>\n",
       "      <th>normintensity_ker</th>\n",
       "      <th>normintensity_vim</th>\n",
       "    </tr>\n",
       "  </thead>\n",
       "  <tbody>\n",
       "    <tr>\n",
       "      <th>0</th>\n",
       "      <td>0.2-B-A1-1-1</td>\n",
       "      <td>0.2</td>\n",
       "      <td>B</td>\n",
       "      <td>A1</td>\n",
       "      <td>1</td>\n",
       "      <td>3081.630381</td>\n",
       "      <td>3141.900959</td>\n",
       "      <td>700</td>\n",
       "      <td>680.0</td>\n",
       "      <td>4.402329</td>\n",
       "      <td>4.620443</td>\n",
       "    </tr>\n",
       "    <tr>\n",
       "      <th>1</th>\n",
       "      <td>0.2-B-A1-1-2</td>\n",
       "      <td>0.2</td>\n",
       "      <td>B</td>\n",
       "      <td>A1</td>\n",
       "      <td>1</td>\n",
       "      <td>8962.543099</td>\n",
       "      <td>5015.380655</td>\n",
       "      <td>700</td>\n",
       "      <td>680.0</td>\n",
       "      <td>12.803633</td>\n",
       "      <td>7.375560</td>\n",
       "    </tr>\n",
       "    <tr>\n",
       "      <th>2</th>\n",
       "      <td>0.2-B-A1-1-3</td>\n",
       "      <td>0.2</td>\n",
       "      <td>B</td>\n",
       "      <td>A1</td>\n",
       "      <td>1</td>\n",
       "      <td>13849.366754</td>\n",
       "      <td>2743.339708</td>\n",
       "      <td>700</td>\n",
       "      <td>680.0</td>\n",
       "      <td>19.784810</td>\n",
       "      <td>4.034323</td>\n",
       "    </tr>\n",
       "  </tbody>\n",
       "</table>\n",
       "</div>"
      ],
      "text/plain": [
       "          label stiffness combination well site  meanintensity_ker  \\\n",
       "0  0.2-B-A1-1-1       0.2           B   A1    1        3081.630381   \n",
       "1  0.2-B-A1-1-2       0.2           B   A1    1        8962.543099   \n",
       "2  0.2-B-A1-1-3       0.2           B   A1    1       13849.366754   \n",
       "\n",
       "   meanintensity_vim  gain_ker  gain_vim  normintensity_ker  normintensity_vim  \n",
       "0        3141.900959       700     680.0           4.402329           4.620443  \n",
       "1        5015.380655       700     680.0          12.803633           7.375560  \n",
       "2        2743.339708       700     680.0          19.784810           4.034323  "
      ]
     },
     "execution_count": 29,
     "metadata": {},
     "output_type": "execute_result"
    }
   ],
   "source": [
    "intensity['normintensity_ker'] = intensity.meanintensity_ker / intensity.gain_ker\n",
    "intensity['normintensity_vim'] = intensity.meanintensity_vim / intensity.gain_vim\n",
    "\n",
    "intensity.head(3)"
   ]
  },
  {
   "cell_type": "code",
   "execution_count": 35,
   "metadata": {},
   "outputs": [
    {
     "data": {
      "image/png": "[encoded data removed]",
      "text/plain": [
       "<Figure size 1080x360 with 1 Axes>"
      ]
     },
     "metadata": {},
     "output_type": "display_data"
    }
   ],
   "source": [
    "sns.barplot(x=intensity.stiffness, y=intensity.normintensity_ker * 65535,\n",
    "            ci='sd', capsize=.1);\n",
    "plt.xlabel(\"Stiffness\")\n",
    "plt.ylabel(\"Intensity\")\n",
    "plt.title(\"Mean expression of Cytokeratin\")\n",
    "plt.savefig('../results/Ker Mean Intensity by Gain.png', bbox_inches='tight', dpi=300);"
   ]
  },
  {
   "cell_type": "code",
   "execution_count": 36,
   "metadata": {},
   "outputs": [
    {
     "data": {
      "text/plain": [
       "Text(0.5, 1.0, 'Median expression of Cytokeratin')"
      ]
     },
     "execution_count": 36,
     "metadata": {},
     "output_type": "execute_result"
    },
    {
     "data": {
      "image/png": "[encoded data removed]",
      "text/plain": [
       "<Figure size 1080x360 with 1 Axes>"
      ]
     },
     "metadata": {},
     "output_type": "display_data"
    }
   ],
   "source": [
    "sns.barplot(x=intensity.stiffness, y=intensity.normintensity_ker * 65535,\n",
    "            ci='sd', estimator=np.median, capsize=.1);\n",
    "plt.xlabel(\"Stiffness\")\n",
    "plt.ylabel(\"Intensity\")\n",
    "plt.title(\"Median expression of Cytokeratin\")"
   ]
  },
  {
   "cell_type": "code",
   "execution_count": 32,
   "metadata": {},
   "outputs": [
    {
     "data": {
      "image/png": "[encoded data removed]",
      "text/plain": [
       "<Figure size 1080x360 with 8 Axes>"
      ]
     },
     "metadata": {},
     "output_type": "display_data"
    }
   ],
   "source": [
    "intensity.hist(column='normintensity_ker', by='stiffness', sharex=True, sharey=True, layout=(2, 4), bins=20);"
   ]
  },
  {
   "cell_type": "code",
   "execution_count": 37,
   "metadata": {},
   "outputs": [
    {
     "data": {
      "image/png": "[encoded data removed]",
      "text/plain": [
       "<Figure size 1080x360 with 1 Axes>"
      ]
     },
     "metadata": {},
     "output_type": "display_data"
    }
   ],
   "source": [
    "sns.barplot(x=intensity.stiffness, y=intensity.normintensity_vim * 65535,\n",
    "            ci='sd', capsize=.1);\n",
    "plt.xlabel(\"Stiffness\")\n",
    "plt.ylabel(\"Intensity\")\n",
    "plt.title(\"Mean expression of Vimentin\")\n",
    "plt.savefig('../results/Vim Mean Intensity by Gain.png', bbox_inches='tight', dpi=300);"
   ]
  },
  {
   "cell_type": "code",
   "execution_count": 38,
   "metadata": {},
   "outputs": [
    {
     "data": {
      "text/plain": [
       "Text(0.5, 1.0, 'Median expression of Vimentin')"
      ]
     },
     "execution_count": 38,
     "metadata": {},
     "output_type": "execute_result"
    },
    {
     "data": {
      "image/png": "[encoded data removed]",
      "text/plain": [
       "<Figure size 1080x360 with 1 Axes>"
      ]
     },
     "metadata": {},
     "output_type": "display_data"
    }
   ],
   "source": [
    "sns.barplot(x=intensity.stiffness, y=intensity.normintensity_vim * 65535,\n",
    "            ci='sd', estimator=np.median, capsize=.1);\n",
    "plt.xlabel(\"Stiffness\")\n",
    "plt.ylabel(\"Intensity\")\n",
    "plt.title(\"Median expression of Vimentin\")"
   ]
  },
  {
   "cell_type": "code",
   "execution_count": 33,
   "metadata": {},
   "outputs": [
    {
     "data": {
      "image/png": "[encoded data removed]",
      "text/plain": [
       "<Figure size 1080x360 with 8 Axes>"
      ]
     },
     "metadata": {},
     "output_type": "display_data"
    }
   ],
   "source": [
    "intensity.hist(column='normintensity_vim', by='stiffness', sharex=True, sharey=True, layout=(2, 4), bins=20);"
   ]
  },
  {
   "cell_type": "markdown",
   "metadata": {},
   "source": [
    "### Ratio of normalised signals"
   ]
  },
  {
   "cell_type": "code",
   "execution_count": null,
   "metadata": {
    "collapsed": true
   },
   "outputs": [],
   "source": [
    "intensity['norm_ratio'] = intensity.normintensity_ker / intensity.normintensity_vim"
   ]
  },
  {
   "cell_type": "markdown",
   "metadata": {},
   "source": [
    "#### Histograms"
   ]
  },
  {
   "cell_type": "code",
   "execution_count": null,
   "metadata": {
    "collapsed": true
   },
   "outputs": [],
   "source": [
    "intensity.norm_ratio.hist(bins = 100);\n",
    "plt.xlabel(\"Value\")\n",
    "plt.ylabel(\"Count\")\n",
    "plt.title(\"Histogram of Cytokeratin to Vimentin Ratio\");\n",
    "plt.savefig('../results/Ker to Vim ratio hist.png', bbox_inches='tight', dpi=300);"
   ]
  },
  {
   "cell_type": "code",
   "execution_count": null,
   "metadata": {
    "collapsed": true
   },
   "outputs": [],
   "source": [
    "intensity.hist(column='norm_ratio', by='stiffness', sharex=True, sharey=True, layout=(2, 4));"
   ]
  },
  {
   "cell_type": "code",
   "execution_count": null,
   "metadata": {
    "collapsed": true
   },
   "outputs": [],
   "source": [
    "intensity[intensity.stiffness==\"32.0\"].hist(column='norm_ratio', bins=50);"
   ]
  },
  {
   "cell_type": "markdown",
   "metadata": {},
   "source": [
    "#### Barplot of ratio by stiffness"
   ]
  },
  {
   "cell_type": "code",
   "execution_count": null,
   "metadata": {
    "collapsed": true
   },
   "outputs": [],
   "source": [
    "sns.barplot(x=intensity.stiffness, y=intensity.norm_ratio,\n",
    "            ci='sd', capsize=.1);\n",
    "plt.xlabel(\"Stiffness\")\n",
    "plt.ylabel(\"Intensity\")\n",
    "plt.title(\"Ratio of Cytokeratin to Vimentin\");\n",
    "plt.savefig('../results/Ker to Vim ratio by Gain.png', bbox_inches='tight', dpi=300);"
   ]
  },
  {
   "cell_type": "markdown",
   "metadata": {},
   "source": [
    "#### Linear Regression"
   ]
  },
  {
   "cell_type": "code",
   "execution_count": null,
   "metadata": {
    "collapsed": true
   },
   "outputs": [],
   "source": [
    "from sklearn.model_selection import train_test_split\n",
    "from sklearn.preprocessing import StandardScaler, PolynomialFeatures\n",
    "from sklearn.linear_model import LinearRegression\n",
    "from sklearn.metrics import mean_squared_error\n",
    "\n",
    "X = np.array(pd.to_numeric(intensity.stiffness))\n",
    "y = intensity.norm_ratio\n",
    "\n",
    "X.shape, y.shape"
   ]
  },
  {
   "cell_type": "code",
   "execution_count": null,
   "metadata": {
    "collapsed": true
   },
   "outputs": [],
   "source": [
    "X_train, X_test, y_train, y_test = train_test_split(X, y, random_state=1)\n",
    "\n",
    "X_train = X_train.reshape((-1, 1))\n",
    "X_test = X_test.reshape((-1, 1))\n",
    "\n",
    "X_train.shape, X_test.shape"
   ]
  },
  {
   "cell_type": "code",
   "execution_count": null,
   "metadata": {
    "collapsed": true
   },
   "outputs": [],
   "source": [
    "scaler = StandardScaler()\n",
    "X_train_scaled = scaler.fit_transform(X_train)\n",
    "X_test_scaled = scaler.transform(X_test)"
   ]
  },
  {
   "cell_type": "code",
   "execution_count": null,
   "metadata": {
    "collapsed": true
   },
   "outputs": [],
   "source": [
    "lin_reg = LinearRegression()\n",
    "lin_reg.fit(X_train_scaled, y_train)\n",
    "lin_reg.intercept_, lin_reg.coef_"
   ]
  },
  {
   "cell_type": "code",
   "execution_count": null,
   "metadata": {
    "collapsed": true
   },
   "outputs": [],
   "source": [
    "y_pred = lin_reg.predict(X_test_scaled)\n",
    "mse = mean_squared_error(y_test, y_pred)\n",
    "np.sqrt(mse)"
   ]
  },
  {
   "cell_type": "markdown",
   "metadata": {},
   "source": [
    "#### Polynomial regression"
   ]
  },
  {
   "cell_type": "code",
   "execution_count": null,
   "metadata": {
    "collapsed": true
   },
   "outputs": [],
   "source": [
    "poly_features = PolynomialFeatures(degree=2, include_bias=False)\n",
    "\n",
    "X_train_poly = poly_features.fit_transform(X_train)\n",
    "X_test_poly = poly_features.fit_transform(X_test)\n",
    "\n",
    "X_train_poly.shape, X_test_poly.shape"
   ]
  },
  {
   "cell_type": "code",
   "execution_count": null,
   "metadata": {
    "collapsed": true
   },
   "outputs": [],
   "source": [
    "scaler = StandardScaler()\n",
    "X_train_scaled = scaler.fit_transform(X_train_poly)\n",
    "X_test_scaled = scaler.transform(X_test_poly)"
   ]
  },
  {
   "cell_type": "code",
   "execution_count": null,
   "metadata": {
    "collapsed": true
   },
   "outputs": [],
   "source": [
    "lin_reg = LinearRegression()\n",
    "lin_reg.fit(X_train_scaled, y_train)\n",
    "lin_reg.intercept_, lin_reg.coef_"
   ]
  },
  {
   "cell_type": "code",
   "execution_count": null,
   "metadata": {
    "collapsed": true
   },
   "outputs": [],
   "source": [
    "y_pred = lin_reg.predict(X_test_scaled)\n",
    "mse = mean_squared_error(y_test, y_pred)\n",
    "np.sqrt(mse)"
   ]
  },
  {
   "cell_type": "code",
   "execution_count": null,
   "metadata": {
    "collapsed": true
   },
   "outputs": [],
   "source": [
    "stiffness = [0.2, 0.5, 2.0, 8.0, 16.0, 32.0, 64.0]"
   ]
  },
  {
   "cell_type": "markdown",
   "metadata": {},
   "source": [
    "#### K-Means"
   ]
  },
  {
   "cell_type": "code",
   "execution_count": null,
   "metadata": {
    "collapsed": true
   },
   "outputs": [],
   "source": [
    "from sklearn import metrics\n",
    "from sklearn.preprocessing import StandardScaler\n",
    "from sklearn.cluster import KMeans, DBSCAN, AgglomerativeClustering\n",
    "\n",
    "#X = np.array(intensity.norm_ratio).reshape((-1, 1))\n",
    "X = np.array(intensity[['normintensity_ker', 'normintensity_vim']])"
   ]
  },
  {
   "cell_type": "code",
   "execution_count": null,
   "metadata": {
    "collapsed": true
   },
   "outputs": [],
   "source": [
    "scaler = StandardScaler()\n",
    "X_scaled = scaler.fit_transform(X)"
   ]
  },
  {
   "cell_type": "code",
   "execution_count": null,
   "metadata": {
    "collapsed": true
   },
   "outputs": [],
   "source": [
    "km = KMeans(n_clusters=3, random_state=1)\n",
    "km.fit(X_scaled)"
   ]
  },
  {
   "cell_type": "code",
   "execution_count": null,
   "metadata": {
    "collapsed": true
   },
   "outputs": [],
   "source": [
    "intensity['cluster'] = km.labels_\n",
    "km.labels_"
   ]
  },
  {
   "cell_type": "code",
   "execution_count": null,
   "metadata": {
    "collapsed": true
   },
   "outputs": [],
   "source": [
    "# Group by clusters and calculate the mean of each feature.\n",
    "intensity.groupby('cluster').mean()"
   ]
  },
  {
   "cell_type": "code",
   "execution_count": null,
   "metadata": {
    "collapsed": true
   },
   "outputs": [],
   "source": [
    "sns.scatterplot(data=intensity, x='normintensity_ker', y='normintensity_vim', \n",
    "                hue='stiffness', palette=sns.color_palette(\"husl\", 7), s=100);\n",
    "plt.xlim(0, 70)\n",
    "plt.ylim(0, 70)"
   ]
  },
  {
   "cell_type": "code",
   "execution_count": null,
   "metadata": {
    "collapsed": true
   },
   "outputs": [],
   "source": [
    "pd.crosstab(intensity.stiffness, intensity.cluster)"
   ]
  },
  {
   "cell_type": "markdown",
   "metadata": {},
   "source": [
    "### Statistical testing"
   ]
  },
  {
   "cell_type": "markdown",
   "metadata": {},
   "source": [
    "#### Check parametric assumptions"
   ]
  },
  {
   "cell_type": "code",
   "execution_count": null,
   "metadata": {
    "collapsed": true
   },
   "outputs": [],
   "source": [
    "biomarkers.hist(column='meanintensity_ker', by='stiffness');"
   ]
  },
  {
   "cell_type": "code",
   "execution_count": null,
   "metadata": {
    "collapsed": true
   },
   "outputs": [],
   "source": [
    "biomarkers.groupby(\"stiffness\").meanintensity_ker.describe()"
   ]
  },
  {
   "cell_type": "code",
   "execution_count": null,
   "metadata": {
    "collapsed": true
   },
   "outputs": [],
   "source": [
    "biomarkers.hist(column='meanintensity_vim', by='stiffness');"
   ]
  },
  {
   "cell_type": "code",
   "execution_count": null,
   "metadata": {
    "collapsed": true
   },
   "outputs": [],
   "source": [
    "biomarkers.groupby(\"stiffness\").meanintensity_vim.describe()"
   ]
  },
  {
   "cell_type": "markdown",
   "metadata": {},
   "source": [
    "#### Two-sample t-test"
   ]
  },
  {
   "cell_type": "markdown",
   "metadata": {},
   "source": [
    "###### Keratin"
   ]
  },
  {
   "cell_type": "code",
   "execution_count": null,
   "metadata": {
    "collapsed": true
   },
   "outputs": [],
   "source": [
    "from scipy.stats import mannwhitneyu, ttest_ind\n",
    "\n",
    "print(\"Background in keratin channel:\\n\")\n",
    "\n",
    "t, p = ttest_ind(biomarkers[biomarkers.stiffness == \"0.2\"].meanintensity_ker,\n",
    "                 biomarkers[biomarkers.stiffness == \"2.0\"].meanintensity_ker)\n",
    "print(\"0.2 kPa vs 2.0 kPa \\t p-value =\", p)\n",
    "\n",
    "t, p = ttest_ind(biomarkers[biomarkers.stiffness == \"2.0\"].meanintensity_ker,\n",
    "                 biomarkers[biomarkers.stiffness == \"16.0\"].meanintensity_ker)\n",
    "print(\"2.0 kPa vs 16.0 kPa \\t p-value =\", p)\n",
    "\n",
    "t, p = ttest_ind(biomarkers[biomarkers.stiffness == \"16.0\"].meanintensity_ker,\n",
    "                 biomarkers[biomarkers.stiffness == \"32.0\"].meanintensity_ker)\n",
    "print(\"16.0 kPa vs 32.0 kPa \\t p-value =\", p)\n",
    "      \n",
    "t, p = ttest_ind(biomarkers[biomarkers.stiffness == \"32.0\"].meanintensity_ker,\n",
    "                 biomarkers[biomarkers.stiffness == \"64.0\"].meanintensity_ker, \n",
    "                 equal_var=False)\n",
    "print(\"32.0 kPa vs 64.0 kPa \\t p-value =\", p)"
   ]
  },
  {
   "cell_type": "markdown",
   "metadata": {},
   "source": [
    "###### Vimentin"
   ]
  },
  {
   "cell_type": "code",
   "execution_count": null,
   "metadata": {
    "collapsed": true
   },
   "outputs": [],
   "source": [
    "print(\"Intensity in vimentin channel:\\n\")\n",
    "\n",
    "t, p = ttest_ind(biomarkers[biomarkers.stiffness == \"0.2\"].meanintensity_vim,\n",
    "                 biomarkers[biomarkers.stiffness == \"2.0\"].meanintensity_vim, \n",
    "                 equal_var=False)\n",
    "print(\"0.2 kPa vs 2.0 kPa \\t p-value =\", p)\n",
    "\n",
    "t, p = ttest_ind(biomarkers[biomarkers.stiffness == \"2.0\"].meanintensity_vim,\n",
    "                 biomarkers[biomarkers.stiffness == \"16.0\"].meanintensity_vim, \n",
    "                 equal_var=False)\n",
    "print(\"2.0 kPa vs 16.0 kPa \\t p-value =\", p)\n",
    "\n",
    "t, p = ttest_ind(biomarkers[biomarkers.stiffness == \"16.0\"].meanintensity_vim,\n",
    "                 biomarkers[biomarkers.stiffness == \"32.0\"].meanintensity_vim, \n",
    "                 equal_var=False)\n",
    "print(\"16.0 kPa vs 32.0 kPa \\t p-value =\", p)\n",
    "      \n",
    "t, p = ttest_ind(biomarkers[biomarkers.stiffness == \"32.0\"].meanintensity_vim,\n",
    "                 biomarkers[biomarkers.stiffness == \"64.0\"].meanintensity_vim, \n",
    "                 equal_var=False)\n",
    "print(\"32.0 kPa vs 64.0 kPa \\t p-value =\", p)"
   ]
  },
  {
   "cell_type": "markdown",
   "metadata": {},
   "source": [
    "## Create dataframes for Keratin and Vimentin"
   ]
  },
  {
   "cell_type": "code",
   "execution_count": null,
   "metadata": {
    "collapsed": true
   },
   "outputs": [],
   "source": [
    "channels = ['ker', 'vim']\n",
    "keratin, vimentin = prep.split_dataset(biomarkers_, channels=channels)"
   ]
  },
  {
   "cell_type": "code",
   "execution_count": null,
   "metadata": {
    "collapsed": true
   },
   "outputs": [],
   "source": [
    "print(keratin.shape, vimentin.shape)"
   ]
  },
  {
   "cell_type": "markdown",
   "metadata": {},
   "source": [
    "## Correlations between features"
   ]
  },
  {
   "cell_type": "markdown",
   "metadata": {},
   "source": [
    "### Keratin"
   ]
  },
  {
   "cell_type": "code",
   "execution_count": null,
   "metadata": {
    "collapsed": true
   },
   "outputs": [],
   "source": [
    "keratin_ = keratin.copy()\n",
    "keratin_['stiffness_num'] = pd.to_numeric(keratin_.stiffness)"
   ]
  },
  {
   "cell_type": "code",
   "execution_count": null,
   "metadata": {
    "collapsed": true
   },
   "outputs": [],
   "source": [
    "correlations = keratin_.corr();"
   ]
  },
  {
   "cell_type": "code",
   "execution_count": null,
   "metadata": {
    "collapsed": true,
    "scrolled": false
   },
   "outputs": [],
   "source": [
    "plt.rcParams['figure.figsize'] = (12, 10)\n",
    "\n",
    "sns.heatmap(correlations, cmap=sns.color_palette(\"PRGn_r\", 100), vmin=-1, vmax=1);\n",
    "\n",
    "plt.savefig('../results/Keratin Correlations.png', bbox_inches='tight', dpi=300);"
   ]
  },
  {
   "cell_type": "code",
   "execution_count": null,
   "metadata": {
    "collapsed": true,
    "scrolled": false
   },
   "outputs": [],
   "source": [
    "correlations.stiffness_num"
   ]
  },
  {
   "cell_type": "markdown",
   "metadata": {},
   "source": [
    "### Vimentin"
   ]
  },
  {
   "cell_type": "code",
   "execution_count": null,
   "metadata": {
    "collapsed": true
   },
   "outputs": [],
   "source": [
    "vimentin_ = vimentin.copy()\n",
    "vimentin_['stiffness_num'] = pd.to_numeric(vimentin_.stiffness)"
   ]
  },
  {
   "cell_type": "code",
   "execution_count": null,
   "metadata": {
    "collapsed": true,
    "scrolled": false
   },
   "outputs": [],
   "source": [
    "correlations = vimentin_.corr();"
   ]
  },
  {
   "cell_type": "code",
   "execution_count": null,
   "metadata": {
    "collapsed": true,
    "scrolled": false
   },
   "outputs": [],
   "source": [
    "plt.rcParams['figure.figsize'] = (12, 10)\n",
    "\n",
    "sns.heatmap(correlations, cmap=sns.color_palette(\"PRGn_r\", 100), vmin=-1, vmax=1);\n",
    "\n",
    "plt.savefig('../results/Vimentin Correlations.png', bbox_inches='tight', dpi=300);"
   ]
  },
  {
   "cell_type": "code",
   "execution_count": null,
   "metadata": {
    "collapsed": true
   },
   "outputs": [],
   "source": [
    "correlations.stiffness_num"
   ]
  },
  {
   "cell_type": "markdown",
   "metadata": {},
   "source": [
    "## Explore groups of features"
   ]
  },
  {
   "cell_type": "markdown",
   "metadata": {},
   "source": [
    "### Keratin"
   ]
  },
  {
   "cell_type": "code",
   "execution_count": null,
   "metadata": {
    "collapsed": true
   },
   "outputs": [],
   "source": [
    "list(keratin_.columns)"
   ]
  },
  {
   "cell_type": "markdown",
   "metadata": {},
   "source": [
    "###### Intensity"
   ]
  },
  {
   "cell_type": "code",
   "execution_count": null,
   "metadata": {
    "collapsed": true
   },
   "outputs": [],
   "source": [
    "intensity = pd.concat([keratin_.loc[:, 'integratedintensityedge' : 'stdintensity'], keratin_.stiffness_num], axis=1) \n",
    "print(intensity.shape)"
   ]
  },
  {
   "cell_type": "code",
   "execution_count": null,
   "metadata": {
    "collapsed": true
   },
   "outputs": [],
   "source": [
    "# Transformations\n",
    "group['log_majoraxislength_cell'] = np.log(group['majoraxislength_cell'])\n",
    "#group['log_eccentricity_cell'] = np.log(group['eccentricity_cell'])\n",
    "group['majoraxislength_cell'].hist();"
   ]
  },
  {
   "cell_type": "code",
   "execution_count": null,
   "metadata": {
    "collapsed": true
   },
   "outputs": [],
   "source": [
    "sns.heatmap(intensity.corr(), cmap=sns.color_palette(\"PRGn_r\", 100), vmin=-1, vmax=1);"
   ]
  },
  {
   "cell_type": "code",
   "execution_count": null,
   "metadata": {
    "collapsed": true
   },
   "outputs": [],
   "source": [
    "edge_intensity = intensity[[col for col in group.columns if 'edge' in col]]\n",
    "edge_intensity.head()"
   ]
  },
  {
   "cell_type": "code",
   "execution_count": null,
   "metadata": {
    "collapsed": true
   },
   "outputs": [],
   "source": [
    "sns.heatmap(edge_intensity.corr(), annot=True, cmap=sns.color_palette(\"PRGn_r\", 100), vmin=-1, vmax=1);"
   ]
  },
  {
   "cell_type": "code",
   "execution_count": null,
   "metadata": {
    "collapsed": true
   },
   "outputs": [],
   "source": [
    "sns.pairplot(edge_intensity, height=3);"
   ]
  },
  {
   "cell_type": "markdown",
   "metadata": {},
   "source": [
    "## Clustering"
   ]
  },
  {
   "cell_type": "markdown",
   "metadata": {},
   "source": [
    "### K-Means"
   ]
  },
  {
   "cell_type": "code",
   "execution_count": null,
   "metadata": {
    "collapsed": true
   },
   "outputs": [],
   "source": [
    "from sklearn import metrics\n",
    "from sklearn.preprocessing import StandardScaler\n",
    "from sklearn.cluster import KMeans, DBSCAN, AgglomerativeClustering\n",
    "\n",
    "X = biomarkers_[feature_cols]"
   ]
  },
  {
   "cell_type": "code",
   "execution_count": null,
   "metadata": {
    "collapsed": true
   },
   "outputs": [],
   "source": [
    "scaler = StandardScaler()\n",
    "X_scaled = scaler.fit_transform(X)"
   ]
  },
  {
   "cell_type": "code",
   "execution_count": null,
   "metadata": {
    "collapsed": true
   },
   "outputs": [],
   "source": [
    "km = KMeans(n_clusters=3, random_state=1)\n",
    "km.fit(X_scaled)"
   ]
  },
  {
   "cell_type": "code",
   "execution_count": null,
   "metadata": {
    "collapsed": true
   },
   "outputs": [],
   "source": [
    "# Review cluster labels.\n",
    "km.labels_"
   ]
  },
  {
   "cell_type": "code",
   "execution_count": null,
   "metadata": {
    "collapsed": true
   },
   "outputs": [],
   "source": [
    "#Save the cluster labels and sort by cluster.\n",
    "biomarkers_['cluster'] = km.labels_\n",
    "biomarkers_.sort_values('cluster')"
   ]
  },
  {
   "cell_type": "code",
   "execution_count": null,
   "metadata": {
    "collapsed": true
   },
   "outputs": [],
   "source": [
    "# Review the custer centers.\n",
    "km.cluster_centers_.shape"
   ]
  },
  {
   "cell_type": "code",
   "execution_count": null,
   "metadata": {
    "collapsed": true
   },
   "outputs": [],
   "source": [
    "# Group by clusters and calculate the mean of each feature.\n",
    "biomarkers_.groupby('cluster').mean()"
   ]
  },
  {
   "cell_type": "code",
   "execution_count": null,
   "metadata": {
    "collapsed": true
   },
   "outputs": [],
   "source": [
    "# Save the `DataFrame` of cluster centroids.\n",
    "centroids = biomarkers_.groupby('cluster').mean()"
   ]
  },
  {
   "cell_type": "code",
   "execution_count": null,
   "metadata": {
    "collapsed": true
   },
   "outputs": [],
   "source": [
    "colors = sns.color_palette(\"husl\", 5)\n",
    "\n",
    "sns.scatterplot(data=biomarkers_, x='meanintensityedge_origker', y='meanintensityedge_origvim', \n",
    "                s=100, hue='stiffness_num', palette=colors);"
   ]
  },
  {
   "cell_type": "code",
   "execution_count": null,
   "metadata": {
    "collapsed": true
   },
   "outputs": [],
   "source": [
    "colors = sns.color_palette(\"husl\", 3)\n",
    "\n",
    "sns.scatterplot(data=biomarkers_, x='meanintensityedge_origker', y='meanintensityedge_origvim', \n",
    "                s=100, hue='cluster', palette=colors);\n",
    "\n",
    "sns.scatterplot(data=centroids, x='meanintensityedge_origker', y='meanintensityedge_origvim', \n",
    "                linewidth=3, marker='x', \n",
    "                s=200, color='black');"
   ]
  },
  {
   "cell_type": "code",
   "execution_count": null,
   "metadata": {
    "collapsed": true
   },
   "outputs": [],
   "source": [
    "pd.crosstab(biomarkers_.stiffness_num, biomarkers_.cluster)"
   ]
  },
  {
   "cell_type": "markdown",
   "metadata": {},
   "source": [
    "### DBSCAN"
   ]
  },
  {
   "cell_type": "code",
   "execution_count": null,
   "metadata": {
    "collapsed": true
   },
   "outputs": [],
   "source": [
    "X = biomarkers_[feature_cols]"
   ]
  },
  {
   "cell_type": "code",
   "execution_count": null,
   "metadata": {
    "collapsed": true
   },
   "outputs": [],
   "source": [
    "scaler = StandardScaler()\n",
    "X_scaled = scaler.fit_transform(X)"
   ]
  },
  {
   "cell_type": "code",
   "execution_count": null,
   "metadata": {
    "collapsed": true
   },
   "outputs": [],
   "source": [
    "db = DBSCAN(eps=0.001, min_samples=3)\n",
    "db.fit(X_scaled)"
   ]
  },
  {
   "cell_type": "code",
   "execution_count": null,
   "metadata": {
    "collapsed": true
   },
   "outputs": [],
   "source": [
    "# Review the cluster labels.\n",
    "db.labels_"
   ]
  },
  {
   "cell_type": "markdown",
   "metadata": {},
   "source": [
    "### Agglomerative clustering"
   ]
  },
  {
   "cell_type": "code",
   "execution_count": null,
   "metadata": {
    "collapsed": true
   },
   "outputs": [],
   "source": [
    "biomarkers_norm = biomarkers_.copy()\n",
    "# Standardise the entire dataset\n",
    "biomarkers_norm[feature_cols] = (biomarkers_norm[feature_cols] - biomarkers_norm[feature_cols].mean()) / biomarkers_norm[feature_cols].std()"
   ]
  },
  {
   "cell_type": "code",
   "execution_count": null,
   "metadata": {
    "collapsed": true
   },
   "outputs": [],
   "source": [
    "# Prepare a vector of colours mapped to the 'stiffness' column\n",
    "my_palette = dict(zip(biomarkers_norm.stiffness.unique(), sns.color_palette(\"Set3\", 5)))\n",
    "row_colors = biomarkers_norm.stiffness.map(my_palette)\n",
    "\n",
    "print(my_palette.keys())\n",
    "sns.palplot(my_palette.values())"
   ]
  },
  {
   "cell_type": "code",
   "execution_count": null,
   "metadata": {
    "collapsed": true
   },
   "outputs": [],
   "source": [
    "sns.clustermap(biomarkers_norm[feature_cols], \n",
    "               metric='euclidean', method='ward', \n",
    "               col_cluster=False,\n",
    "               cmap=sns.color_palette('RdBu_r', 100), robust=True, \n",
    "               row_colors=row_colors);\n",
    "\n",
    "#plt.savefig('../results/Clustering.png', bbox_inches='tight', dpi=300);"
   ]
  },
  {
   "cell_type": "markdown",
   "metadata": {},
   "source": [
    "## Intensity by stiffness"
   ]
  },
  {
   "cell_type": "markdown",
   "metadata": {},
   "source": [
    "### Keratin"
   ]
  },
  {
   "cell_type": "code",
   "execution_count": null,
   "metadata": {
    "collapsed": true
   },
   "outputs": [],
   "source": [
    "keratin['total_px'] = keratin['Intensity_IntegratedIntensity_OrigKer'] / keratin['Intensity_MeanIntensity_OrigKer']\n",
    "keratin['edge_px'] = keratin['Intensity_IntegratedIntensityEdge_OrigKer'] / keratin['Intensity_MeanIntensityEdge_OrigKer']"
   ]
  },
  {
   "cell_type": "code",
   "execution_count": null,
   "metadata": {
    "collapsed": true
   },
   "outputs": [],
   "source": [
    "keratin.head(3)"
   ]
  },
  {
   "cell_type": "code",
   "execution_count": null,
   "metadata": {
    "collapsed": true
   },
   "outputs": [],
   "source": [
    "keratin['IntegratedIntensityInner'] = keratin['Intensity_IntegratedIntensity_OrigKer'] - keratin['Intensity_IntegratedIntensityEdge_OrigKer']\n",
    "\n",
    "keratin['MeanIntensityInner'] = keratin['IntegratedIntensityInner'] / (keratin['total_px'] - keratin['edge_px'])"
   ]
  },
  {
   "cell_type": "code",
   "execution_count": null,
   "metadata": {
    "collapsed": true,
    "scrolled": false
   },
   "outputs": [],
   "source": [
    "intensity_cols = ['Intensity_IntegratedIntensity_OrigKer', \n",
    "                  'IntegratedIntensityInner', \n",
    "                  'Intensity_IntegratedIntensityEdge_OrigKer']\n",
    "\n",
    "fig, ax = plt.subplots()\n",
    "keratin.groupby('stiffness')[intensity_cols].mean().plot(kind='bar', \n",
    "                                                         title=\"Integrated intensity of Cytokeratin\", \n",
    "                                                         fontsize=14,\n",
    "                                                         ax=ax);\n",
    "ax.legend([\"Integrated Intensity\", \"Integrated Inner Intensity\", \"Integrated Edge Intensity\"], fontsize=14);"
   ]
  },
  {
   "cell_type": "code",
   "execution_count": null,
   "metadata": {
    "collapsed": true
   },
   "outputs": [],
   "source": [
    "intensity_cols = ['Intensity_MeanIntensity_OrigKer', \n",
    "                  'MeanIntensityInner', \n",
    "                  'Intensity_MeanIntensityEdge_OrigKer']\n",
    "\n",
    "fig, ax = plt.subplots()\n",
    "keratin.groupby('stiffness')[intensity_cols].mean().plot(kind='bar', \n",
    "                                                         title=\"Mean intensity of Cytokeratin\", \n",
    "                                                         fontsize=14,\n",
    "                                                         ax=ax);\n",
    "ax.legend([\"Mean Intensity\", \"Mean Inner Intensity\", \"Mean Edge Intensity\"], fontsize=14);\n",
    "\n",
    "plt.savefig('../results/Cytokeratin Mean Intensity.png', bbox_inches='tight', dpi=300);"
   ]
  },
  {
   "cell_type": "markdown",
   "metadata": {},
   "source": [
    "### Vimentin"
   ]
  },
  {
   "cell_type": "code",
   "execution_count": null,
   "metadata": {
    "collapsed": true
   },
   "outputs": [],
   "source": [
    "vimentin['total_px'] = vimentin['Intensity_IntegratedIntensity_OrigVim'] / vimentin['Intensity_MeanIntensity_OrigVim']\n",
    "vimentin['edge_px'] = vimentin['Intensity_IntegratedIntensityEdge_OrigVim'] / vimentin['Intensity_MeanIntensityEdge_OrigVim']"
   ]
  },
  {
   "cell_type": "code",
   "execution_count": null,
   "metadata": {
    "collapsed": true
   },
   "outputs": [],
   "source": [
    "vimentin.head(3)"
   ]
  },
  {
   "cell_type": "code",
   "execution_count": null,
   "metadata": {
    "collapsed": true
   },
   "outputs": [],
   "source": [
    "vimentin['IntegratedIntensityInner'] = vimentin['Intensity_IntegratedIntensity_OrigVim'] - vimentin['Intensity_IntegratedIntensityEdge_OrigVim']\n",
    "\n",
    "vimentin['MeanIntensityInner'] = vimentin['IntegratedIntensityInner'] / (vimentin['total_px'] - vimentin['edge_px'])"
   ]
  },
  {
   "cell_type": "code",
   "execution_count": null,
   "metadata": {
    "collapsed": true,
    "scrolled": false
   },
   "outputs": [],
   "source": [
    "intensity_cols = ['Intensity_IntegratedIntensity_OrigVim', \n",
    "                  'IntegratedIntensityInner', \n",
    "                  'Intensity_IntegratedIntensityEdge_OrigVim']\n",
    "\n",
    "fig, ax = plt.subplots()\n",
    "vimentin.groupby('stiffness')[intensity_cols].mean().plot(kind='bar', \n",
    "                                                         title=\"Integrated intensity of Vimentin\", \n",
    "                                                         fontsize=14,\n",
    "                                                         ax=ax);\n",
    "ax.legend([\"Integrated Intensity\", \"Integrated Inner Intensity\", \"Integrated Edge Intensity\"], fontsize=14);"
   ]
  },
  {
   "cell_type": "code",
   "execution_count": null,
   "metadata": {
    "collapsed": true
   },
   "outputs": [],
   "source": [
    "intensity_cols = ['Intensity_MeanIntensity_OrigVim', \n",
    "                  'MeanIntensityInner', \n",
    "                  'Intensity_MeanIntensityEdge_OrigVim']\n",
    "\n",
    "fig, ax = plt.subplots()\n",
    "vimentin.groupby('stiffness')[intensity_cols].mean().plot(kind='bar', \n",
    "                                                         title=\"Mean intensity of Vimentin\", \n",
    "                                                         fontsize=14,\n",
    "                                                         ax=ax);\n",
    "ax.legend([\"Mean Intensity\", \"Mean Inner Intensity\", \"Mean Edge Intensity\"], fontsize=14);\n",
    "\n",
    "plt.savefig('../results/Vimentin Mean Intensity.png', bbox_inches='tight', dpi=300);"
   ]
  },
  {
   "cell_type": "markdown",
   "metadata": {},
   "source": [
    "## Normalise signal and compare"
   ]
  },
  {
   "cell_type": "code",
   "execution_count": null,
   "metadata": {
    "collapsed": true
   },
   "outputs": [],
   "source": [
    "max_ker = keratin[['Intensity_MeanIntensity_OrigKer']].max()\n",
    "max_ker"
   ]
  },
  {
   "cell_type": "code",
   "execution_count": null,
   "metadata": {
    "collapsed": true
   },
   "outputs": [],
   "source": [
    "keratin[['Intensity_MeanIntensity_OrigKer']].head()"
   ]
  },
  {
   "cell_type": "code",
   "execution_count": null,
   "metadata": {
    "collapsed": true
   },
   "outputs": [],
   "source": []
  }
 ],
 "metadata": {
  "kernelspec": {
   "display_name": "Python 3",
   "language": "python",
   "name": "python3"
  },
  "language_info": {
   "codemirror_mode": {
    "name": "ipython",
    "version": 3
   },
   "file_extension": ".py",
   "mimetype": "text/x-python",
   "name": "python",
   "nbconvert_exporter": "python",
   "pygments_lexer": "ipython3",
   "version": "3.6.8"
  },
  "toc": {
   "base_numbering": 1,
   "nav_menu": {},
   "number_sections": true,
   "sideBar": true,
   "skip_h1_title": false,
   "title_cell": "Table of Contents",
   "title_sidebar": "Contents",
   "toc_cell": false,
   "toc_position": {},
   "toc_section_display": true,
   "toc_window_display": false
  }
 },
 "nbformat": 4,
 "nbformat_minor": 2
}
