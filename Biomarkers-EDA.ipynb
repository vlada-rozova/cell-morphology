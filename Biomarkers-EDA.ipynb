{
 "cells": [
  {
   "cell_type": "markdown",
   "metadata": {},
   "source": [
    "## Load and parse the data"
   ]
  },
  {
   "cell_type": "code",
   "execution_count": null,
   "metadata": {
    "collapsed": true
   },
   "outputs": [],
   "source": [
    "biomarkers = load_data(filename='Biomarkers_Cells.csv')\n",
    "biomarkers.head()"
   ]
  },
  {
   "cell_type": "code",
   "execution_count": null,
   "metadata": {
    "collapsed": true
   },
   "outputs": [],
   "source": [
    "clean_metadata(biomarkers)\n",
    "biomarkers.head(3)"
   ]
  },
  {
   "cell_type": "code",
   "execution_count": null,
   "metadata": {
    "collapsed": true
   },
   "outputs": [],
   "source": [
    "biomarkers = move_column(biomarkers, 'label')\n",
    "biomarkers.head(3)"
   ]
  },
  {
   "cell_type": "code",
   "execution_count": null,
   "metadata": {
    "collapsed": true
   },
   "outputs": [],
   "source": [
    "print(biomarkers.shape)\n",
    "list(biomarkers.columns)"
   ]
  },
  {
   "cell_type": "code",
   "execution_count": null,
   "metadata": {
    "collapsed": true
   },
   "outputs": [],
   "source": [
    "drop_cols = ['Location_Center_X', 'Location_Center_Y', 'Location_Center_Z',\n",
    "             'Number_Object_Number', 'Parent_Nuclei']\n",
    "biomarkers.drop(drop_cols, axis=1, inplace=True)"
   ]
  },
  {
   "cell_type": "markdown",
   "metadata": {},
   "source": [
    "## Missing values?"
   ]
  },
  {
   "cell_type": "code",
   "execution_count": null,
   "metadata": {
    "collapsed": true
   },
   "outputs": [],
   "source": [
    "# Are there any missing values?\n",
    "print(biomarkers.isnull().sum().sum())"
   ]
  },
  {
   "cell_type": "markdown",
   "metadata": {},
   "source": [
    "## Descriptive statistics"
   ]
  },
  {
   "cell_type": "code",
   "execution_count": null,
   "metadata": {
    "collapsed": true,
    "scrolled": false
   },
   "outputs": [],
   "source": [
    "stats = biomarkers.describe()\n",
    "stats"
   ]
  },
  {
   "cell_type": "markdown",
   "metadata": {},
   "source": [
    "## Drop the features with zero variance"
   ]
  },
  {
   "cell_type": "code",
   "execution_count": null,
   "metadata": {
    "collapsed": true
   },
   "outputs": [],
   "source": [
    "biomarkers.drop(stats.columns[stats.loc['std', :] == 0], axis=1, inplace=True)"
   ]
  },
  {
   "cell_type": "code",
   "execution_count": null,
   "metadata": {
    "collapsed": true
   },
   "outputs": [],
   "source": [
    "print(\"New shape is: {}\".format(biomarkers.shape))\n",
    "biomarkers.dtypes.value_counts()"
   ]
  },
  {
   "cell_type": "markdown",
   "metadata": {},
   "source": [
    "## Create dataframes for Keratin and Vimentin"
   ]
  },
  {
   "cell_type": "code",
   "execution_count": null,
   "metadata": {
    "collapsed": true,
    "scrolled": true
   },
   "outputs": [],
   "source": [
    "ker_cols = [col for col in biomarkers.columns if 'OrigKer' in col]\n",
    "print(len(ker_cols))"
   ]
  },
  {
   "cell_type": "code",
   "execution_count": null,
   "metadata": {
    "collapsed": true
   },
   "outputs": [],
   "source": [
    "vim_cols = [col for col in biomarkers.columns if 'OrigVim' in col]\n",
    "print(len(vim_cols))"
   ]
  },
  {
   "cell_type": "code",
   "execution_count": null,
   "metadata": {
    "collapsed": true
   },
   "outputs": [],
   "source": [
    "keratin = biomarkers.copy()\n",
    "keratin.drop(vim_cols, axis=1, inplace=True)\n",
    "\n",
    "print(keratin.shape)\n",
    "keratin.head(3)"
   ]
  },
  {
   "cell_type": "code",
   "execution_count": null,
   "metadata": {
    "collapsed": true
   },
   "outputs": [],
   "source": [
    "vimentin = biomarkers.copy()\n",
    "vimentin.drop(ker_cols, axis=1, inplace=True)\n",
    "\n",
    "print(vimentin.shape)\n",
    "vimentin.head(3)"
   ]
  },
  {
   "cell_type": "markdown",
   "metadata": {},
   "source": [
    "## Correlations between features"
   ]
  },
  {
   "cell_type": "markdown",
   "metadata": {},
   "source": [
    "### Keratin"
   ]
  },
  {
   "cell_type": "code",
   "execution_count": null,
   "metadata": {
    "collapsed": true
   },
   "outputs": [],
   "source": [
    "keratin_ = keratin.copy()\n",
    "keratin_['stiffness_num'] = pd.to_numeric(keratin_.stiffness)"
   ]
  },
  {
   "cell_type": "code",
   "execution_count": null,
   "metadata": {
    "collapsed": true,
    "scrolled": false
   },
   "outputs": [],
   "source": [
    "correlations = keratin_.corr();\n",
    "correlations.stiffness_num"
   ]
  },
  {
   "cell_type": "code",
   "execution_count": null,
   "metadata": {
    "collapsed": true,
    "scrolled": false
   },
   "outputs": [],
   "source": [
    "plt.rcParams['figure.figsize'] = (12, 10)\n",
    "\n",
    "sns.heatmap(correlations, cmap=sns.color_palette(\"PRGn_r\", 100), vmin=-1, vmax=1);\n",
    "\n",
    "plt.savefig('../results/Keratin Correlations.png', bbox_inches='tight', dpi=300);"
   ]
  },
  {
   "cell_type": "markdown",
   "metadata": {},
   "source": [
    "### Vimentin"
   ]
  },
  {
   "cell_type": "code",
   "execution_count": null,
   "metadata": {
    "collapsed": true
   },
   "outputs": [],
   "source": [
    "vimentin_ = vimentin.copy()\n",
    "vimentin_['stiffness_num'] = pd.to_numeric(vimentin_.stiffness)"
   ]
  },
  {
   "cell_type": "code",
   "execution_count": null,
   "metadata": {
    "collapsed": true,
    "scrolled": false
   },
   "outputs": [],
   "source": [
    "correlations = vimentin_.corr();\n",
    "correlations.stiffness_num"
   ]
  },
  {
   "cell_type": "code",
   "execution_count": null,
   "metadata": {
    "collapsed": true,
    "scrolled": false
   },
   "outputs": [],
   "source": [
    "plt.rcParams['figure.figsize'] = (12, 10)\n",
    "\n",
    "sns.heatmap(correlations, cmap=sns.color_palette(\"PRGn_r\", 100), vmin=-1, vmax=1);\n",
    "\n",
    "plt.savefig('../results/Vimentin Correlations.png', bbox_inches='tight', dpi=300);"
   ]
  },
  {
   "cell_type": "markdown",
   "metadata": {},
   "source": [
    "## Intensity by stiffness"
   ]
  },
  {
   "cell_type": "markdown",
   "metadata": {},
   "source": [
    "### Keratin"
   ]
  },
  {
   "cell_type": "code",
   "execution_count": null,
   "metadata": {
    "collapsed": true
   },
   "outputs": [],
   "source": [
    "keratin['total_px'] = keratin['Intensity_IntegratedIntensity_OrigKer'] / keratin['Intensity_MeanIntensity_OrigKer']\n",
    "keratin['edge_px'] = keratin['Intensity_IntegratedIntensityEdge_OrigKer'] / keratin['Intensity_MeanIntensityEdge_OrigKer']"
   ]
  },
  {
   "cell_type": "code",
   "execution_count": null,
   "metadata": {
    "collapsed": true
   },
   "outputs": [],
   "source": [
    "keratin.head(3)"
   ]
  },
  {
   "cell_type": "code",
   "execution_count": null,
   "metadata": {
    "collapsed": true
   },
   "outputs": [],
   "source": [
    "keratin['IntegratedIntensityInner'] = keratin['Intensity_IntegratedIntensity_OrigKer'] - keratin['Intensity_IntegratedIntensityEdge_OrigKer']\n",
    "\n",
    "keratin['MeanIntensityInner'] = keratin['IntegratedIntensityInner'] / (keratin['total_px'] - keratin['edge_px'])"
   ]
  },
  {
   "cell_type": "code",
   "execution_count": null,
   "metadata": {
    "collapsed": true,
    "scrolled": false
   },
   "outputs": [],
   "source": [
    "intensity_cols = ['Intensity_IntegratedIntensity_OrigKer', \n",
    "                  'IntegratedIntensityInner', \n",
    "                  'Intensity_IntegratedIntensityEdge_OrigKer']\n",
    "\n",
    "fig, ax = plt.subplots()\n",
    "keratin.groupby('stiffness')[intensity_cols].mean().plot(kind='bar', \n",
    "                                                         title=\"Integrated intensity of Cytokeratin\", \n",
    "                                                         fontsize=14,\n",
    "                                                         ax=ax);\n",
    "ax.legend([\"Integrated Intensity\", \"Integrated Inner Intensity\", \"Integrated Edge Intensity\"], fontsize=14);"
   ]
  },
  {
   "cell_type": "code",
   "execution_count": null,
   "metadata": {
    "collapsed": true
   },
   "outputs": [],
   "source": [
    "intensity_cols = ['Intensity_MeanIntensity_OrigKer', \n",
    "                  'MeanIntensityInner', \n",
    "                  'Intensity_MeanIntensityEdge_OrigKer']\n",
    "\n",
    "fig, ax = plt.subplots()\n",
    "keratin.groupby('stiffness')[intensity_cols].mean().plot(kind='bar', \n",
    "                                                         title=\"Mean intensity of Cytokeratin\", \n",
    "                                                         fontsize=14,\n",
    "                                                         ax=ax);\n",
    "ax.legend([\"Mean Intensity\", \"Mean Inner Intensity\", \"Mean Edge Intensity\"], fontsize=14);\n",
    "\n",
    "plt.savefig('../results/Cytokeratin Mean Intensity.png', bbox_inches='tight', dpi=300);"
   ]
  },
  {
   "cell_type": "markdown",
   "metadata": {},
   "source": [
    "### Vimentin"
   ]
  },
  {
   "cell_type": "code",
   "execution_count": null,
   "metadata": {
    "collapsed": true
   },
   "outputs": [],
   "source": [
    "vimentin['total_px'] = vimentin['Intensity_IntegratedIntensity_OrigVim'] / vimentin['Intensity_MeanIntensity_OrigVim']\n",
    "vimentin['edge_px'] = vimentin['Intensity_IntegratedIntensityEdge_OrigVim'] / vimentin['Intensity_MeanIntensityEdge_OrigVim']"
   ]
  },
  {
   "cell_type": "code",
   "execution_count": null,
   "metadata": {
    "collapsed": true
   },
   "outputs": [],
   "source": [
    "vimentin.head(3)"
   ]
  },
  {
   "cell_type": "code",
   "execution_count": null,
   "metadata": {
    "collapsed": true
   },
   "outputs": [],
   "source": [
    "vimentin['IntegratedIntensityInner'] = vimentin['Intensity_IntegratedIntensity_OrigVim'] - vimentin['Intensity_IntegratedIntensityEdge_OrigVim']\n",
    "\n",
    "vimentin['MeanIntensityInner'] = vimentin['IntegratedIntensityInner'] / (vimentin['total_px'] - vimentin['edge_px'])"
   ]
  },
  {
   "cell_type": "code",
   "execution_count": null,
   "metadata": {
    "collapsed": true,
    "scrolled": false
   },
   "outputs": [],
   "source": [
    "intensity_cols = ['Intensity_IntegratedIntensity_OrigVim', \n",
    "                  'IntegratedIntensityInner', \n",
    "                  'Intensity_IntegratedIntensityEdge_OrigVim']\n",
    "\n",
    "fig, ax = plt.subplots()\n",
    "vimentin.groupby('stiffness')[intensity_cols].mean().plot(kind='bar', \n",
    "                                                         title=\"Integrated intensity of Vimentin\", \n",
    "                                                         fontsize=14,\n",
    "                                                         ax=ax);\n",
    "ax.legend([\"Integrated Intensity\", \"Integrated Inner Intensity\", \"Integrated Edge Intensity\"], fontsize=14);"
   ]
  },
  {
   "cell_type": "code",
   "execution_count": null,
   "metadata": {
    "collapsed": true
   },
   "outputs": [],
   "source": [
    "intensity_cols = ['Intensity_MeanIntensity_OrigVim', \n",
    "                  'MeanIntensityInner', \n",
    "                  'Intensity_MeanIntensityEdge_OrigVim']\n",
    "\n",
    "fig, ax = plt.subplots()\n",
    "vimentin.groupby('stiffness')[intensity_cols].mean().plot(kind='bar', \n",
    "                                                         title=\"Mean intensity of Vimentin\", \n",
    "                                                         fontsize=14,\n",
    "                                                         ax=ax);\n",
    "ax.legend([\"Mean Intensity\", \"Mean Inner Intensity\", \"Mean Edge Intensity\"], fontsize=14);\n",
    "\n",
    "plt.savefig('../results/Vimentin Mean Intensity.png', bbox_inches='tight', dpi=300);"
   ]
  },
  {
   "cell_type": "markdown",
   "metadata": {},
   "source": [
    "## Normalise signal and compare"
   ]
  },
  {
   "cell_type": "code",
   "execution_count": null,
   "metadata": {
    "collapsed": true
   },
   "outputs": [],
   "source": [
    "max_ker = keratin[['Intensity_MeanIntensity_OrigKer']].max()\n",
    "max_ker"
   ]
  },
  {
   "cell_type": "code",
   "execution_count": null,
   "metadata": {
    "collapsed": true
   },
   "outputs": [],
   "source": [
    "keratin[['Intensity_MeanIntensity_OrigKer']].head()"
   ]
  },
  {
   "cell_type": "code",
   "execution_count": null,
   "metadata": {
    "collapsed": true
   },
   "outputs": [],
   "source": []
  }
 ],
 "metadata": {
  "kernelspec": {
   "display_name": "Python 3",
   "language": "python",
   "name": "python3"
  },
  "language_info": {
   "codemirror_mode": {
    "name": "ipython",
    "version": 3
   },
   "file_extension": ".py",
   "mimetype": "text/x-python",
   "name": "python",
   "nbconvert_exporter": "python",
   "pygments_lexer": "ipython3",
   "version": "3.6.8"
  },
  "toc": {
   "base_numbering": 1,
   "nav_menu": {},
   "number_sections": true,
   "sideBar": true,
   "skip_h1_title": false,
   "title_cell": "Table of Contents",
   "title_sidebar": "Contents",
   "toc_cell": false,
   "toc_position": {},
   "toc_section_display": true,
   "toc_window_display": false
  }
 },
 "nbformat": 4,
 "nbformat_minor": 2
}
