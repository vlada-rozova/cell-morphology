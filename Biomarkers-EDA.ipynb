{
 "cells": [
  {
   "cell_type": "code",
   "execution_count": 237,
   "metadata": {},
   "outputs": [
    {
     "name": "stdout",
     "output_type": "stream",
     "text": [
      "Morphology was measured for 610.0 cells.\n",
      "\n",
      "The numbers of cells and nuclei correspond to each other.\n",
      "\n",
      "The are no duplicated column names: True\n",
      "The are no duplicated column names: True\n",
      "Cytoplasm measurements were taken for 610 cells.\n",
      "\n",
      "The are no duplicated column names: True\n",
      "Read biomarkers normalised by to min gain\n",
      "Biomarkers were measured for 610 cells.\n",
      "\n",
      "The are no duplicated column names: True\n",
      "\n",
      "Full dataset has shape: (610, 484)\n",
      "Initial shape is: (610, 484)\n",
      "Features with zero variance:\n",
      " Index(['centerZ_cell', 'eulernumber_cell', 'children_cytoplasm_count_cell',\n",
      "       'loc_centermassintensityZ_wga', 'loc_centerZ_cell',\n",
      "       'loc_maxintensityZ_wga', 'centerZ_nucl', 'eulernumber_nucl',\n",
      "       'children_cells_count', 'children_cytoplasm_count_nucl',\n",
      "       'loc_centermassintensityZ_dapi', 'loc_centerZ_nucl',\n",
      "       'loc_maxintensityZ_dapi', 'centerZ_cyto',\n",
      "       'loc_centermassintensityZ_ker', 'loc_centermassintensityZ_vim',\n",
      "       'loc_centerZ', 'loc_maxintensityZ_ker', 'loc_maxintensityZ_vim'],\n",
      "      dtype='object')\n",
      "\n",
      "After cleaning the dataset has 610 rows and 430 columns.\n",
      "\n",
      "238 columns in total:\n",
      " 7 columns containing metadata, meta_cols,\n",
      " 231 all features, feature_cols:\n",
      " 61 biomarkers, biom_cols,\n",
      " 170 morphology, morph_cols\n",
      "116 geometric measurements, geom_cols,\n",
      " 42 cellular measurements, cell_cols,\n",
      " 41 nuclear measurements, nucl_cols,\n",
      " 21 cytoplasmic measurements, cyto_cols\n",
      "Undersampling. The balanced dataset has shape (255, 238)\n"
     ]
    }
   ],
   "source": [
    "%run load-clean-select.ipynb"
   ]
  },
  {
   "cell_type": "markdown",
   "metadata": {
    "collapsed": true
   },
   "source": [
    "# Which dataset?"
   ]
  },
  {
   "cell_type": "code",
   "execution_count": 238,
   "metadata": {
    "collapsed": true
   },
   "outputs": [],
   "source": [
    "# The full dataset\n",
    "# df = measurements\n",
    "# Dataset without clusters at 64kPa\n",
    "# df_ = measurements_red\n",
    "# Dataset without 0.5kPa, 8kPa and clusters at 64kPa\n",
    "df_ = measurements_5\n",
    "# Dataset without 0.5kPa, 8kPa and clusters at 64kPa with balanced classes\n",
    "# df_ = measurements_b"
   ]
  },
  {
   "cell_type": "markdown",
   "metadata": {},
   "source": [
    "# Some functions"
   ]
  },
  {
   "cell_type": "code",
   "execution_count": 239,
   "metadata": {
    "collapsed": true
   },
   "outputs": [],
   "source": [
    "# Prepare a vector of colours mapped to the 'stiffness' column\n",
    "def create_palette(df, by='stiffness', show=False):\n",
    "    if by == 'stiffness':\n",
    "        n_levels = df.stiffness.unique().size\n",
    "        palette = dict(zip(df.stiffness.unique(), sns.color_palette(\"Set3\", n_levels)))\n",
    "        row_colors = df.stiffness.map(palette)\n",
    "    elif by == 'cluster':\n",
    "        n_levels = df.cluster.unique().size\n",
    "        if n_levels == 2:\n",
    "            palette = {1 : sns.color_palette(\"PRGn\", 20)[15], 2 : sns.color_palette(\"PRGn\", 20)[4]}\n",
    "        else:\n",
    "            palette = dict(zip(range(n_levels), sns.color_palette(\"PRGn\", n_levels)))\n",
    "        row_colors = df.cluster.map(palette)\n",
    "    elif by == 'biom':\n",
    "        palette = {df.biom.unique()[0] : sns.color_palette(\"RdBu\", 10)[1],\n",
    "                   df.biom.unique()[1] : sns.color_palette(\"RdBu\", 10)[8]}\n",
    "        row_colors = df.biom.map(palette)\n",
    "        \n",
    "    if show:\n",
    "#         print(list(palette.keys()))\n",
    "        sns.palplot(palette.values());\n",
    "    \n",
    "    return row_colors, palette\n",
    "# plt.savefig('../results/My palette.png', bbox_inches='tight', dpi=300);"
   ]
  },
  {
   "cell_type": "code",
   "execution_count": 240,
   "metadata": {
    "collapsed": true
   },
   "outputs": [],
   "source": [
    "def drop_outliers_iqr(df, col):\n",
    "    df_ = df.copy()\n",
    "    for s in df.stiffness.unique():\n",
    "        x = df[df.stiffness == s][col]\n",
    "        q1 = x.quantile(0.25)\n",
    "        q3 = x.quantile(0.75)\n",
    "        iqr = q3 - q1\n",
    "        lower = q1 - 1.5 * iqr\n",
    "        upper = q3 + 1.5 * iqr\n",
    "        df_.drop(x.loc[(x < lower) | (x > upper)].index, inplace=True)\n",
    "    return df_"
   ]
  },
  {
   "cell_type": "code",
   "execution_count": 241,
   "metadata": {
    "collapsed": true
   },
   "outputs": [],
   "source": [
    "from scipy import stats\n",
    "\n",
    "def norm_tests(x):\n",
    "    \n",
    "    alpha = 0.05\n",
    "    \n",
    "    nm_stat, nm_p = stats.normaltest(x)\n",
    "    print(\"D’Agostino-Pearson:\")\n",
    "    if nm_p > alpha:\n",
    "        print('Sample looks Gaussian (fail to reject H0)')\n",
    "    else:\n",
    "        print('Sample does not look Gaussian (reject H0)')\n",
    "        \n",
    "    jb_stat, jb_p = stats.jarque_bera(x)\n",
    "    print(\"\\nJarque-Bera:\")\n",
    "    if jb_p > alpha:\n",
    "        print('Sample looks Gaussian (fail to reject H0)')\n",
    "    else:\n",
    "        print('Sample does not look Gaussian (reject H0)')\n",
    "        \n",
    "    sw_stat, sw_p = stats.shapiro(x)\n",
    "    print(\"\\nShapiro-Wilk:\")\n",
    "    if jb_p > alpha:\n",
    "        print('Sample looks Gaussian (fail to reject H0)')\n",
    "    else:\n",
    "        print('Sample does not look Gaussian (reject H0)')\n",
    "\n",
    "    \n",
    "    results = [('D’Agostino-Pearson', nm_stat, nm_p),\n",
    "               ('Jarque-Bera', jb_stat, jb_p), \n",
    "               ('Shapiro-Wilk', sw_stat, sw_p)\n",
    "              ]\n",
    "    results = pd.DataFrame(results, columns=['Test name', 'Statistic', 'p-value'])\n",
    "    return results"
   ]
  },
  {
   "cell_type": "code",
   "execution_count": 242,
   "metadata": {
    "collapsed": true,
    "scrolled": false
   },
   "outputs": [],
   "source": [
    "def boxcox_transform(df, col, verbose=0):\n",
    "    new_col = col + '_t'\n",
    "    df[new_col] = 'NA'\n",
    "    for s in df.stiffness.unique():\n",
    "        print(\"Stiffness: \", s)\n",
    "        norm_tests(df.loc[df.stiffness == s, col], 'original', verbose)\n",
    "        xt, maxlog = stats.boxcox(df.loc[df.stiffness == s, col])\n",
    "        print(\"Argmax log likelyhood:\", maxlog)\n",
    "        norm_tests(xt, 'transformed', verbose)\n",
    "        df.loc[df.stiffness == s, new_col] = xt\n",
    "\n",
    "    sns.boxplot(x=df.stiffness, y=df[col], palette=palette);\n",
    "    plt.title('Original data')\n",
    "    plt.figure()\n",
    "    sns.boxplot(x=df.stiffness, y=df[new_col], palette=palette);\n",
    "    plt.title('Transformed data')"
   ]
  },
  {
   "cell_type": "code",
   "execution_count": 243,
   "metadata": {},
   "outputs": [],
   "source": [
    "def plot_intensities(df, col, kind, data, ylim, size=(6,4), ci='sd', add_line=False):\n",
    "    plt.rcParams['figure.figsize'] = size\n",
    "\n",
    "    row_colors, palette = create_palette(df)               \n",
    "    \n",
    "    if kind == 'barplot':\n",
    "        sns.barplot(x=df.stiffness, y=df[col],\n",
    "                    ci=ci, capsize=.1, palette=palette);\n",
    "        if add_line:\n",
    "            sns.lineplot(x=df.stiffness, y=df[col],\n",
    "                         ci=95, linewidth=3, color='orangered');\n",
    "    if kind == 'boxplot':\n",
    "        sns.boxplot(x=df.stiffness, y=df[col],\n",
    "                    width = 0.6, palette=palette, showfliers=False);\n",
    "        if add_line:\n",
    "            sns.lineplot(x=df.stiffness, y=df[col],\n",
    "                         ci=95, linewidth=3, color='orangered');\n",
    "    plt.xlabel(\"Stiffness, kPa\");\n",
    "    plt.ylim(ylim);\n",
    "    \n",
    "    if data == 'mean':\n",
    "        plt.ylabel(\"Mean intensity, a.u.\");\n",
    "        s = \"MI\"\n",
    "    elif data == 'int':\n",
    "        plt.ylabel(\"Integrated intensity, a.u.\");\n",
    "        s = \"II\"\n",
    "    elif data == 'ctcf':\n",
    "        plt.ylabel(\"CTCF, a.u.\");\n",
    "        s = \"CTCF\"\n",
    "    else:\n",
    "        plt.ylabel(\"Ratio, a.u.\")\n",
    "        s = \"\"\n",
    "    \n",
    "    if col == 'ker':\n",
    "        plt.title(\"Cytokeratins\");\n",
    "        plt.savefig('../results/Ker '+ s +' '+ kind +'.png', bbox_inches='tight', dpi=300);\n",
    "    elif col == 'vim':\n",
    "        plt.title(\"Vimentin\");\n",
    "        plt.savefig('../results/Vim '+ s +' '+ kind +'.png', bbox_inches='tight', dpi=300);\n",
    "    elif col == 'cvratio':\n",
    "        plt.title(\"Cytokeratins to Vimentin ratio\");\n",
    "        plt.savefig('../results/CVR '+ s +' '+ kind +'.png', bbox_inches='tight', dpi=300);"
   ]
  },
  {
   "cell_type": "markdown",
   "metadata": {},
   "source": [
    "# Correlations"
   ]
  },
  {
   "cell_type": "code",
   "execution_count": null,
   "metadata": {
    "collapsed": true
   },
   "outputs": [],
   "source": [
    "# Create numeric stiffness variable and define feature columns\n",
    "df_['stiffness_num'] = pd.to_numeric(df_.stiffness)\n",
    "# df['stiffness_log2'] = np.log2(df.stiffness_num)"
   ]
  },
  {
   "cell_type": "markdown",
   "metadata": {},
   "source": [
    "## Pearson's correlation"
   ]
  },
  {
   "cell_type": "code",
   "execution_count": null,
   "metadata": {
    "scrolled": false
   },
   "outputs": [],
   "source": [
    "p_corr = df_[biom_cols].corrwith(df_.stiffness_num)\n",
    "p_corr.abs().sort_values(ascending=False).head(10)"
   ]
  },
  {
   "cell_type": "code",
   "execution_count": null,
   "metadata": {},
   "outputs": [],
   "source": [
    "plt.rcParams['figure.figsize'] = (15, 2)\n",
    "\n",
    "sns.heatmap(pd.DataFrame(p_corr, columns=['Pearsons']).T, \n",
    "            cmap=sns.color_palette(\"RdBu_r\", 100), \n",
    "            vmin=-1, vmax=1);\n",
    "\n",
    "#plt.savefig('../results/Corr with Stiffness SMOTE.png', bbox_inches='tight', dpi=300);"
   ]
  },
  {
   "cell_type": "markdown",
   "metadata": {},
   "source": [
    "## Spearman's correlation"
   ]
  },
  {
   "cell_type": "code",
   "execution_count": null,
   "metadata": {
    "scrolled": false
   },
   "outputs": [],
   "source": [
    "s_corr = df_[biom_cols].corrwith(df_.stiffness_num, method='spearman')\n",
    "s_corr.abs().sort_values(ascending=False).head(10)"
   ]
  },
  {
   "cell_type": "code",
   "execution_count": null,
   "metadata": {},
   "outputs": [],
   "source": [
    "sns.lmplot(x='stiffness_num', y='infomeas1_ker_00', data=df_, order=1);"
   ]
  },
  {
   "cell_type": "markdown",
   "metadata": {},
   "source": [
    "# Intensity"
   ]
  },
  {
   "cell_type": "markdown",
   "metadata": {},
   "source": [
    "###### Create a df with  intensities"
   ]
  },
  {
   "cell_type": "code",
   "execution_count": null,
   "metadata": {
    "collapsed": true
   },
   "outputs": [],
   "source": [
    "# Mean intensity\n",
    "df = df_.loc[:, ['stiffness', 'meanintensity_ker', 'meanintensity_vim', 'cvratio', 'log_cvratio']].copy()\n",
    "df.columns=['stiffness', 'ker', 'vim', 'cvratio', 'log_cvratio']"
   ]
  },
  {
   "cell_type": "code",
   "execution_count": null,
   "metadata": {
    "collapsed": true
   },
   "outputs": [],
   "source": [
    "# Integrated intensity\n",
    "df = df_.loc[:, ['stiffness', 'integratedintensity_ker', 'integratedintensity_vim', 'cvratio', 'log_cvratio']].copy()\n",
    "df.columns=['stiffness', 'ker', 'vim', 'cvratio', 'log_cvratio']"
   ]
  },
  {
   "cell_type": "code",
   "execution_count": 232,
   "metadata": {},
   "outputs": [
    {
     "data": {
      "text/html": [
       "<div>\n",
       "<style scoped>\n",
       "    .dataframe tbody tr th:only-of-type {\n",
       "        vertical-align: middle;\n",
       "    }\n",
       "\n",
       "    .dataframe tbody tr th {\n",
       "        vertical-align: top;\n",
       "    }\n",
       "\n",
       "    .dataframe thead th {\n",
       "        text-align: right;\n",
       "    }\n",
       "</style>\n",
       "<table border=\"1\" class=\"dataframe\">\n",
       "  <thead>\n",
       "    <tr style=\"text-align: right;\">\n",
       "      <th></th>\n",
       "      <th>stiffness</th>\n",
       "      <th>ker</th>\n",
       "      <th>vim</th>\n",
       "      <th>cvratio</th>\n",
       "      <th>log_cvratio</th>\n",
       "    </tr>\n",
       "  </thead>\n",
       "  <tbody>\n",
       "    <tr>\n",
       "      <th>0</th>\n",
       "      <td>0.2</td>\n",
       "      <td>4341.887762</td>\n",
       "      <td>1111.164058</td>\n",
       "      <td>3.907513</td>\n",
       "      <td>1.362901</td>\n",
       "    </tr>\n",
       "    <tr>\n",
       "      <th>1</th>\n",
       "      <td>0.2</td>\n",
       "      <td>1775.356443</td>\n",
       "      <td>1274.527764</td>\n",
       "      <td>1.392952</td>\n",
       "      <td>0.331425</td>\n",
       "    </tr>\n",
       "    <tr>\n",
       "      <th>2</th>\n",
       "      <td>0.2</td>\n",
       "      <td>906.637359</td>\n",
       "      <td>740.900368</td>\n",
       "      <td>1.223697</td>\n",
       "      <td>0.201876</td>\n",
       "    </tr>\n",
       "    <tr>\n",
       "      <th>3</th>\n",
       "      <td>0.2</td>\n",
       "      <td>2769.161701</td>\n",
       "      <td>1534.457834</td>\n",
       "      <td>1.804652</td>\n",
       "      <td>0.590368</td>\n",
       "    </tr>\n",
       "    <tr>\n",
       "      <th>4</th>\n",
       "      <td>0.2</td>\n",
       "      <td>1380.834124</td>\n",
       "      <td>342.445134</td>\n",
       "      <td>4.032278</td>\n",
       "      <td>1.394332</td>\n",
       "    </tr>\n",
       "  </tbody>\n",
       "</table>\n",
       "</div>"
      ],
      "text/plain": [
       "  stiffness          ker          vim   cvratio  log_cvratio\n",
       "0       0.2  4341.887762  1111.164058  3.907513     1.362901\n",
       "1       0.2  1775.356443  1274.527764  1.392952     0.331425\n",
       "2       0.2   906.637359   740.900368  1.223697     0.201876\n",
       "3       0.2  2769.161701  1534.457834  1.804652     0.590368\n",
       "4       0.2  1380.834124   342.445134  4.032278     1.394332"
      ]
     },
     "execution_count": 232,
     "metadata": {},
     "output_type": "execute_result"
    }
   ],
   "source": [
    "# CTCF\n",
    "df = df_.loc[:, ['stiffness', 'ctcf_ker', 'ctcf_vim', 'cvratio', 'log_cvratio']].copy()\n",
    "df.columns=['stiffness', 'ker', 'vim', 'cvratio', 'log_cvratio']\n",
    "df.head()"
   ]
  },
  {
   "cell_type": "code",
   "execution_count": 259,
   "metadata": {},
   "outputs": [
    {
     "data": {
      "text/html": [
       "<div>\n",
       "<style scoped>\n",
       "    .dataframe tbody tr th:only-of-type {\n",
       "        vertical-align: middle;\n",
       "    }\n",
       "\n",
       "    .dataframe tbody tr th {\n",
       "        vertical-align: top;\n",
       "    }\n",
       "\n",
       "    .dataframe thead th {\n",
       "        text-align: right;\n",
       "    }\n",
       "</style>\n",
       "<table border=\"1\" class=\"dataframe\">\n",
       "  <thead>\n",
       "    <tr style=\"text-align: right;\">\n",
       "      <th></th>\n",
       "      <th>stiffness</th>\n",
       "      <th>well</th>\n",
       "      <th>ker</th>\n",
       "      <th>vim</th>\n",
       "      <th>cvratio</th>\n",
       "      <th>log_cvratio</th>\n",
       "    </tr>\n",
       "  </thead>\n",
       "  <tbody>\n",
       "    <tr>\n",
       "      <th>0</th>\n",
       "      <td>0.2</td>\n",
       "      <td>A1</td>\n",
       "      <td>1442.325422</td>\n",
       "      <td>1466.148680</td>\n",
       "      <td>0.983751</td>\n",
       "      <td>-0.016382</td>\n",
       "    </tr>\n",
       "    <tr>\n",
       "      <th>1</th>\n",
       "      <td>0.2</td>\n",
       "      <td>A1</td>\n",
       "      <td>2769.161701</td>\n",
       "      <td>1534.457834</td>\n",
       "      <td>1.804652</td>\n",
       "      <td>0.590368</td>\n",
       "    </tr>\n",
       "    <tr>\n",
       "      <th>2</th>\n",
       "      <td>0.2</td>\n",
       "      <td>A1</td>\n",
       "      <td>2912.407184</td>\n",
       "      <td>630.713246</td>\n",
       "      <td>4.617641</td>\n",
       "      <td>1.529884</td>\n",
       "    </tr>\n",
       "    <tr>\n",
       "      <th>3</th>\n",
       "      <td>0.2</td>\n",
       "      <td>A1</td>\n",
       "      <td>5979.667244</td>\n",
       "      <td>1149.913238</td>\n",
       "      <td>5.200103</td>\n",
       "      <td>1.648678</td>\n",
       "    </tr>\n",
       "    <tr>\n",
       "      <th>4</th>\n",
       "      <td>0.2</td>\n",
       "      <td>A1</td>\n",
       "      <td>1160.795192</td>\n",
       "      <td>2529.939653</td>\n",
       "      <td>0.458823</td>\n",
       "      <td>-0.779090</td>\n",
       "    </tr>\n",
       "  </tbody>\n",
       "</table>\n",
       "</div>"
      ],
      "text/plain": [
       "  stiffness well          ker          vim   cvratio  log_cvratio\n",
       "0       0.2   A1  1442.325422  1466.148680  0.983751    -0.016382\n",
       "1       0.2   A1  2769.161701  1534.457834  1.804652     0.590368\n",
       "2       0.2   A1  2912.407184   630.713246  4.617641     1.529884\n",
       "3       0.2   A1  5979.667244  1149.913238  5.200103     1.648678\n",
       "4       0.2   A1  1160.795192  2529.939653  0.458823    -0.779090"
      ]
     },
     "execution_count": 259,
     "metadata": {},
     "output_type": "execute_result"
    }
   ],
   "source": [
    "# CTCF\n",
    "df = df_.loc[:, ['stiffness', 'well','ctcf_ker', 'ctcf_vim', 'cvratio', 'log_cvratio']].copy()\n",
    "df.columns=['stiffness', 'well', 'ker', 'vim', 'cvratio', 'log_cvratio']\n",
    "df.head()"
   ]
  },
  {
   "cell_type": "code",
   "execution_count": 266,
   "metadata": {},
   "outputs": [
    {
     "data": {
      "text/html": [
       "<div>\n",
       "<style scoped>\n",
       "    .dataframe tbody tr th:only-of-type {\n",
       "        vertical-align: middle;\n",
       "    }\n",
       "\n",
       "    .dataframe tbody tr th {\n",
       "        vertical-align: top;\n",
       "    }\n",
       "\n",
       "    .dataframe thead th {\n",
       "        text-align: right;\n",
       "    }\n",
       "</style>\n",
       "<table border=\"1\" class=\"dataframe\">\n",
       "  <thead>\n",
       "    <tr style=\"text-align: right;\">\n",
       "      <th></th>\n",
       "      <th>stiffness</th>\n",
       "      <th>well</th>\n",
       "      <th>value</th>\n",
       "    </tr>\n",
       "  </thead>\n",
       "  <tbody>\n",
       "    <tr>\n",
       "      <th>0</th>\n",
       "      <td>0.2</td>\n",
       "      <td>A1</td>\n",
       "      <td>3535.892363</td>\n",
       "    </tr>\n",
       "    <tr>\n",
       "      <th>1</th>\n",
       "      <td>2.0</td>\n",
       "      <td>A1</td>\n",
       "      <td>2813.130139</td>\n",
       "    </tr>\n",
       "    <tr>\n",
       "      <th>2</th>\n",
       "      <td>16.0</td>\n",
       "      <td>A1</td>\n",
       "      <td>3872.012102</td>\n",
       "    </tr>\n",
       "    <tr>\n",
       "      <th>3</th>\n",
       "      <td>32.0</td>\n",
       "      <td>A1</td>\n",
       "      <td>4869.950196</td>\n",
       "    </tr>\n",
       "    <tr>\n",
       "      <th>4</th>\n",
       "      <td>64.0</td>\n",
       "      <td>A1</td>\n",
       "      <td>4705.316071</td>\n",
       "    </tr>\n",
       "    <tr>\n",
       "      <th>5</th>\n",
       "      <td>0.2</td>\n",
       "      <td>A2</td>\n",
       "      <td>2444.428697</td>\n",
       "    </tr>\n",
       "    <tr>\n",
       "      <th>6</th>\n",
       "      <td>2.0</td>\n",
       "      <td>A2</td>\n",
       "      <td>2485.344929</td>\n",
       "    </tr>\n",
       "    <tr>\n",
       "      <th>7</th>\n",
       "      <td>16.0</td>\n",
       "      <td>A2</td>\n",
       "      <td>3488.971931</td>\n",
       "    </tr>\n",
       "    <tr>\n",
       "      <th>8</th>\n",
       "      <td>32.0</td>\n",
       "      <td>A2</td>\n",
       "      <td>5949.534411</td>\n",
       "    </tr>\n",
       "    <tr>\n",
       "      <th>9</th>\n",
       "      <td>64.0</td>\n",
       "      <td>A2</td>\n",
       "      <td>6779.330351</td>\n",
       "    </tr>\n",
       "    <tr>\n",
       "      <th>10</th>\n",
       "      <td>0.2</td>\n",
       "      <td>A3</td>\n",
       "      <td>3122.931372</td>\n",
       "    </tr>\n",
       "    <tr>\n",
       "      <th>11</th>\n",
       "      <td>2.0</td>\n",
       "      <td>A3</td>\n",
       "      <td>3471.977351</td>\n",
       "    </tr>\n",
       "    <tr>\n",
       "      <th>12</th>\n",
       "      <td>16.0</td>\n",
       "      <td>A3</td>\n",
       "      <td>3378.314570</td>\n",
       "    </tr>\n",
       "    <tr>\n",
       "      <th>13</th>\n",
       "      <td>32.0</td>\n",
       "      <td>A3</td>\n",
       "      <td>4924.239335</td>\n",
       "    </tr>\n",
       "    <tr>\n",
       "      <th>14</th>\n",
       "      <td>64.0</td>\n",
       "      <td>A3</td>\n",
       "      <td>4612.120814</td>\n",
       "    </tr>\n",
       "  </tbody>\n",
       "</table>\n",
       "</div>"
      ],
      "text/plain": [
       "   stiffness well        value\n",
       "0        0.2   A1  3535.892363\n",
       "1        2.0   A1  2813.130139\n",
       "2       16.0   A1  3872.012102\n",
       "3       32.0   A1  4869.950196\n",
       "4       64.0   A1  4705.316071\n",
       "5        0.2   A2  2444.428697\n",
       "6        2.0   A2  2485.344929\n",
       "7       16.0   A2  3488.971931\n",
       "8       32.0   A2  5949.534411\n",
       "9       64.0   A2  6779.330351\n",
       "10       0.2   A3  3122.931372\n",
       "11       2.0   A3  3471.977351\n",
       "12      16.0   A3  3378.314570\n",
       "13      32.0   A3  4924.239335\n",
       "14      64.0   A3  4612.120814"
      ]
     },
     "execution_count": 266,
     "metadata": {},
     "output_type": "execute_result"
    }
   ],
   "source": [
    "df_agg = df.groupby(['stiffness', 'well']).ker.mean().unstack()\n",
    "df_agg.reset_index(inplace=True)\n",
    "df_agg = pd.melt(df_agg, id_vars=['stiffness'], value_vars=['A1', 'A2', 'A3'])\n",
    "df_agg"
   ]
  },
  {
   "cell_type": "code",
   "execution_count": 275,
   "metadata": {},
   "outputs": [
    {
     "data": {
      "text/plain": [
       "(3033.6666666666665, 449.75721845853184)"
      ]
     },
     "execution_count": 275,
     "metadata": {},
     "output_type": "execute_result"
    }
   ],
   "source": [
    "np.mean([3535, 2444, 3122]), np.std([3535, 2444, 3122])"
   ]
  },
  {
   "cell_type": "code",
   "execution_count": 278,
   "metadata": {},
   "outputs": [
    {
     "data": {
      "image/png": "[encoded data removed]",
      "text/plain": [
       "<Figure size 360x288 with 1 Axes>"
      ]
     },
     "metadata": {},
     "output_type": "display_data"
    }
   ],
   "source": [
    "plot_intensities(df_agg, 'value', 'barplot', 'ctcf', [0, 8000], size=(5, 4), ci='sd', add_line=False)"
   ]
  },
  {
   "cell_type": "code",
   "execution_count": 270,
   "metadata": {},
   "outputs": [
    {
     "data": {
      "image/png": "[encoded data removed]",
      "text/plain": [
       "<Figure size 360x288 with 1 Axes>"
      ]
     },
     "metadata": {},
     "output_type": "display_data"
    }
   ],
   "source": [
    "# sns.boxplot(x=df_agg.stiffness, y=df_agg.value, width = 0.6, showfliers=False);\n",
    "plot_intensities(df_agg, 'value', 'boxplot', 'ctcf', [2000, 8000],  size=(5, 4), add_line=False)"
   ]
  },
  {
   "cell_type": "markdown",
   "metadata": {},
   "source": [
    "###### Boxcox transformation"
   ]
  },
  {
   "cell_type": "code",
   "execution_count": 124,
   "metadata": {},
   "outputs": [
    {
     "data": {
      "text/html": [
       "<div>\n",
       "<style scoped>\n",
       "    .dataframe tbody tr th:only-of-type {\n",
       "        vertical-align: middle;\n",
       "    }\n",
       "\n",
       "    .dataframe tbody tr th {\n",
       "        vertical-align: top;\n",
       "    }\n",
       "\n",
       "    .dataframe thead th {\n",
       "        text-align: right;\n",
       "    }\n",
       "</style>\n",
       "<table border=\"1\" class=\"dataframe\">\n",
       "  <thead>\n",
       "    <tr style=\"text-align: right;\">\n",
       "      <th></th>\n",
       "      <th>stiffness</th>\n",
       "      <th>ker</th>\n",
       "      <th>vim</th>\n",
       "      <th>cvratio</th>\n",
       "      <th>log_cvratio</th>\n",
       "    </tr>\n",
       "  </thead>\n",
       "  <tbody>\n",
       "    <tr>\n",
       "      <th>0</th>\n",
       "      <td>0.2</td>\n",
       "      <td>0.381068</td>\n",
       "      <td>-0.336452</td>\n",
       "      <td>3.907513</td>\n",
       "      <td>1.362901</td>\n",
       "    </tr>\n",
       "    <tr>\n",
       "      <th>1</th>\n",
       "      <td>0.2</td>\n",
       "      <td>-0.694368</td>\n",
       "      <td>-0.118429</td>\n",
       "      <td>1.392952</td>\n",
       "      <td>0.331425</td>\n",
       "    </tr>\n",
       "    <tr>\n",
       "      <th>2</th>\n",
       "      <td>0.2</td>\n",
       "      <td>-1.423478</td>\n",
       "      <td>-0.929126</td>\n",
       "      <td>1.223697</td>\n",
       "      <td>0.201876</td>\n",
       "    </tr>\n",
       "    <tr>\n",
       "      <th>3</th>\n",
       "      <td>0.2</td>\n",
       "      <td>-0.175519</td>\n",
       "      <td>0.191700</td>\n",
       "      <td>1.804652</td>\n",
       "      <td>0.590368</td>\n",
       "    </tr>\n",
       "    <tr>\n",
       "      <th>4</th>\n",
       "      <td>0.2</td>\n",
       "      <td>-0.974589</td>\n",
       "      <td>-1.871144</td>\n",
       "      <td>4.032278</td>\n",
       "      <td>1.394332</td>\n",
       "    </tr>\n",
       "  </tbody>\n",
       "</table>\n",
       "</div>"
      ],
      "text/plain": [
       "  stiffness       ker       vim   cvratio  log_cvratio\n",
       "0       0.2  0.381068 -0.336452  3.907513     1.362901\n",
       "1       0.2 -0.694368 -0.118429  1.392952     0.331425\n",
       "2       0.2 -1.423478 -0.929126  1.223697     0.201876\n",
       "3       0.2 -0.175519  0.191700  1.804652     0.590368\n",
       "4       0.2 -0.974589 -1.871144  4.032278     1.394332"
      ]
     },
     "execution_count": 124,
     "metadata": {},
     "output_type": "execute_result"
    }
   ],
   "source": [
    "from sklearn.preprocessing import PowerTransformer\n",
    "\n",
    "X = df[['ker', 'vim']]\n",
    "powertf = PowerTransformer(copy=False)\n",
    "powertf.fit(X)\n",
    "df[['ker', 'vim']] = powertf.transform(X)\n",
    "df.head()"
   ]
  },
  {
   "cell_type": "markdown",
   "metadata": {},
   "source": [
    "###### Synthetic biomarker data"
   ]
  },
  {
   "cell_type": "code",
   "execution_count": null,
   "metadata": {
    "collapsed": true
   },
   "outputs": [],
   "source": [
    "df = proc.smote(df[['ker', 'vim']], df.stiffness)"
   ]
  },
  {
   "cell_type": "markdown",
   "metadata": {},
   "source": [
    "## Normalise intensity to have an average of 1 at 0.2 kPa"
   ]
  },
  {
   "cell_type": "code",
   "execution_count": 199,
   "metadata": {},
   "outputs": [
    {
     "data": {
      "text/plain": [
       "1.0000000000000002"
      ]
     },
     "execution_count": 199,
     "metadata": {},
     "output_type": "execute_result"
    }
   ],
   "source": [
    "df['kernorm'] = df.ker / df[df.stiffness == '0.2'].ker.mean()\n",
    "df[df.stiffness == '0.2'].kernorm.mean()"
   ]
  },
  {
   "cell_type": "markdown",
   "metadata": {},
   "source": [
    "## Cytokeratins"
   ]
  },
  {
   "cell_type": "code",
   "execution_count": 280,
   "metadata": {
    "scrolled": false
   },
   "outputs": [
    {
     "data": {
      "image/png": "[encoded data removed]",
      "text/plain": [
       "<Figure size 360x288 with 1 Axes>"
      ]
     },
     "metadata": {},
     "output_type": "display_data"
    }
   ],
   "source": [
    "plot_intensities(df, 'ker', 'barplot', 'ctcf', [0, 12000], size=(5, 4), add_line=True)"
   ]
  },
  {
   "cell_type": "code",
   "execution_count": 281,
   "metadata": {},
   "outputs": [
    {
     "data": {
      "image/png": "[encoded data removed]",
      "text/plain": [
       "<Figure size 360x288 with 1 Axes>"
      ]
     },
     "metadata": {},
     "output_type": "display_data"
    }
   ],
   "source": [
    "plot_intensities(df, 'ker', 'boxplot', 'ctcf',[0, 15000],  size=(5, 4), add_line=False)"
   ]
  },
  {
   "cell_type": "code",
   "execution_count": 164,
   "metadata": {},
   "outputs": [
    {
     "data": {
      "image/png": "[encoded data removed]",
      "text/plain": [
       "<Figure size 360x288 with 1 Axes>"
      ]
     },
     "metadata": {},
     "output_type": "display_data"
    }
   ],
   "source": [
    "df.ker.hist(bins=50);"
   ]
  },
  {
   "cell_type": "code",
   "execution_count": 165,
   "metadata": {
    "scrolled": true
   },
   "outputs": [
    {
     "data": {
      "image/png": "[encoded data removed]",
      "text/plain": [
       "<Figure size 1440x432 with 6 Axes>"
      ]
     },
     "metadata": {},
     "output_type": "display_data"
    }
   ],
   "source": [
    "df.hist(column='ker', by='stiffness', bins=20, \n",
    "        sharex=True, sharey=True, \n",
    "        layout=(2, 3), \n",
    "        figsize=(20, 6));\n",
    "plt.tight_layout()"
   ]
  },
  {
   "cell_type": "code",
   "execution_count": 166,
   "metadata": {},
   "outputs": [
    {
     "data": {
      "text/html": [
       "<div>\n",
       "<style scoped>\n",
       "    .dataframe tbody tr th:only-of-type {\n",
       "        vertical-align: middle;\n",
       "    }\n",
       "\n",
       "    .dataframe tbody tr th {\n",
       "        vertical-align: top;\n",
       "    }\n",
       "\n",
       "    .dataframe thead th {\n",
       "        text-align: right;\n",
       "    }\n",
       "</style>\n",
       "<table border=\"1\" class=\"dataframe\">\n",
       "  <thead>\n",
       "    <tr style=\"text-align: right;\">\n",
       "      <th></th>\n",
       "      <th>label</th>\n",
       "      <th>image</th>\n",
       "      <th>object</th>\n",
       "      <th>combination</th>\n",
       "      <th>site</th>\n",
       "      <th>stiffness</th>\n",
       "      <th>well</th>\n",
       "      <th>area_cell</th>\n",
       "      <th>compactness_cell</th>\n",
       "      <th>eccentricity_cell</th>\n",
       "      <th>extent_cell</th>\n",
       "      <th>formfactor_cell</th>\n",
       "      <th>majoraxislength_cell</th>\n",
       "      <th>meanradius_cell</th>\n",
       "      <th>minoraxislength_cell</th>\n",
       "      <th>orientation_cell</th>\n",
       "      <th>perimeter_cell</th>\n",
       "      <th>solidity_cell</th>\n",
       "      <th>zernike_0_0_cell</th>\n",
       "      <th>zernike_1_1_cell</th>\n",
       "      <th>zernike_2_0_cell</th>\n",
       "      <th>zernike_2_2_cell</th>\n",
       "      <th>zernike_3_1_cell</th>\n",
       "      <th>zernike_3_3_cell</th>\n",
       "      <th>zernike_4_0_cell</th>\n",
       "      <th>zernike_4_2_cell</th>\n",
       "      <th>zernike_4_4_cell</th>\n",
       "      <th>zernike_5_1_cell</th>\n",
       "      <th>zernike_5_3_cell</th>\n",
       "      <th>zernike_5_5_cell</th>\n",
       "      <th>zernike_6_0_cell</th>\n",
       "      <th>zernike_6_2_cell</th>\n",
       "      <th>zernike_6_4_cell</th>\n",
       "      <th>zernike_6_6_cell</th>\n",
       "      <th>zernike_7_1_cell</th>\n",
       "      <th>zernike_7_3_cell</th>\n",
       "      <th>zernike_7_5_cell</th>\n",
       "      <th>zernike_7_7_cell</th>\n",
       "      <th>zernike_8_0_cell</th>\n",
       "      <th>zernike_8_2_cell</th>\n",
       "      <th>zernike_8_4_cell</th>\n",
       "      <th>zernike_8_6_cell</th>\n",
       "      <th>zernike_8_8_cell</th>\n",
       "      <th>zernike_9_1_cell</th>\n",
       "      <th>zernike_9_3_cell</th>\n",
       "      <th>zernike_9_5_cell</th>\n",
       "      <th>zernike_9_7_cell</th>\n",
       "      <th>zernike_9_9_cell</th>\n",
       "      <th>integratedintensityedge_wga</th>\n",
       "      <th>lowerquartileintensity_wga</th>\n",
       "      <th>maxintensityedge_wga</th>\n",
       "      <th>maxintensity_wga</th>\n",
       "      <th>meanintensityedge_wga</th>\n",
       "      <th>meanintensity_wga</th>\n",
       "      <th>minintensity_wga</th>\n",
       "      <th>stdintensity_wga</th>\n",
       "      <th>neighbors_anglebetweenneighbors_3</th>\n",
       "      <th>neighbors_firstclosestdistance_3</th>\n",
       "      <th>neighbors_numberofneighbors_3</th>\n",
       "      <th>neighbors_numberofneighbors_30</th>\n",
       "      <th>neighbors_percenttouching_3</th>\n",
       "      <th>neighbors_percenttouching_30</th>\n",
       "      <th>neighbors_secondclosestdistance_3</th>\n",
       "      <th>angularsecondmoment_wga_00</th>\n",
       "      <th>contrast_wga_00</th>\n",
       "      <th>contrast_wga_02</th>\n",
       "      <th>correlation_wga_00</th>\n",
       "      <th>correlation_wga_01</th>\n",
       "      <th>correlation_wga_02</th>\n",
       "      <th>correlation_wga_03</th>\n",
       "      <th>differenceentropy_wga_00</th>\n",
       "      <th>differencevariance_wga_00</th>\n",
       "      <th>entropy_wga_02</th>\n",
       "      <th>infomeas1_wga_00</th>\n",
       "      <th>infomeas1_wga_01</th>\n",
       "      <th>infomeas1_wga_02</th>\n",
       "      <th>infomeas1_wga_03</th>\n",
       "      <th>infomeas2_wga_00</th>\n",
       "      <th>infomeas2_wga_01</th>\n",
       "      <th>infomeas2_wga_02</th>\n",
       "      <th>infomeas2_wga_03</th>\n",
       "      <th>area_nucl</th>\n",
       "      <th>compactness_nucl</th>\n",
       "      <th>eccentricity_nucl</th>\n",
       "      <th>extent_nucl</th>\n",
       "      <th>formfactor_nucl</th>\n",
       "      <th>majoraxislength_nucl</th>\n",
       "      <th>meanradius_nucl</th>\n",
       "      <th>orientation_nucl</th>\n",
       "      <th>solidity_nucl</th>\n",
       "      <th>zernike_0_0_nucl</th>\n",
       "      <th>zernike_1_1_nucl</th>\n",
       "      <th>zernike_2_0_nucl</th>\n",
       "      <th>zernike_2_2_nucl</th>\n",
       "      <th>zernike_3_1_nucl</th>\n",
       "      <th>zernike_3_3_nucl</th>\n",
       "      <th>zernike_4_0_nucl</th>\n",
       "      <th>zernike_4_2_nucl</th>\n",
       "      <th>zernike_4_4_nucl</th>\n",
       "      <th>zernike_5_1_nucl</th>\n",
       "      <th>zernike_5_3_nucl</th>\n",
       "      <th>zernike_5_5_nucl</th>\n",
       "      <th>zernike_6_0_nucl</th>\n",
       "      <th>zernike_6_2_nucl</th>\n",
       "      <th>zernike_6_4_nucl</th>\n",
       "      <th>zernike_6_6_nucl</th>\n",
       "      <th>zernike_7_1_nucl</th>\n",
       "      <th>zernike_7_3_nucl</th>\n",
       "      <th>zernike_7_5_nucl</th>\n",
       "      <th>zernike_7_7_nucl</th>\n",
       "      <th>zernike_8_0_nucl</th>\n",
       "      <th>zernike_8_2_nucl</th>\n",
       "      <th>zernike_8_4_nucl</th>\n",
       "      <th>zernike_8_6_nucl</th>\n",
       "      <th>zernike_8_8_nucl</th>\n",
       "      <th>zernike_9_1_nucl</th>\n",
       "      <th>zernike_9_3_nucl</th>\n",
       "      <th>zernike_9_5_nucl</th>\n",
       "      <th>zernike_9_7_nucl</th>\n",
       "      <th>zernike_9_9_nucl</th>\n",
       "      <th>integratedintensityedge_dapi</th>\n",
       "      <th>madintensity_dapi</th>\n",
       "      <th>maxintensityedge_dapi</th>\n",
       "      <th>maxintensity_dapi</th>\n",
       "      <th>meanintensityedge_dapi</th>\n",
       "      <th>meanintensity_dapi</th>\n",
       "      <th>stdintensity_dapi</th>\n",
       "      <th>neighbors_anglebetweenneighbors_20</th>\n",
       "      <th>neighbors_firstclosestdistance_20</th>\n",
       "      <th>neighbors_numberofneighbors_20</th>\n",
       "      <th>neighbors_secondclosestdistance_20</th>\n",
       "      <th>angularsecondmoment_dapi_00</th>\n",
       "      <th>contrast_dapi_00</th>\n",
       "      <th>contrast_dapi_01</th>\n",
       "      <th>contrast_dapi_02</th>\n",
       "      <th>contrast_dapi_03</th>\n",
       "      <th>correlation_dapi_00</th>\n",
       "      <th>correlation_dapi_01</th>\n",
       "      <th>correlation_dapi_02</th>\n",
       "      <th>correlation_dapi_03</th>\n",
       "      <th>differenceentropy_dapi_00</th>\n",
       "      <th>differenceentropy_dapi_02</th>\n",
       "      <th>differencevariance_dapi_00</th>\n",
       "      <th>entropy_dapi_00</th>\n",
       "      <th>infomeas1_dapi_00</th>\n",
       "      <th>infomeas2_dapi_00</th>\n",
       "      <th>eulernumber_cyto</th>\n",
       "      <th>formfactor_cyto</th>\n",
       "      <th>maximumradius_cyto</th>\n",
       "      <th>solidity_cyto</th>\n",
       "      <th>zernike_1_1_cyto</th>\n",
       "      <th>zernike_2_0_cyto</th>\n",
       "      <th>zernike_3_1_cyto</th>\n",
       "      <th>zernike_4_0_cyto</th>\n",
       "      <th>zernike_4_2_cyto</th>\n",
       "      <th>zernike_5_1_cyto</th>\n",
       "      <th>zernike_5_3_cyto</th>\n",
       "      <th>zernike_6_0_cyto</th>\n",
       "      <th>zernike_6_2_cyto</th>\n",
       "      <th>zernike_7_1_cyto</th>\n",
       "      <th>zernike_7_3_cyto</th>\n",
       "      <th>zernike_8_0_cyto</th>\n",
       "      <th>zernike_8_2_cyto</th>\n",
       "      <th>zernike_8_4_cyto</th>\n",
       "      <th>zernike_9_1_cyto</th>\n",
       "      <th>zernike_9_3_cyto</th>\n",
       "      <th>zernike_9_5_cyto</th>\n",
       "      <th>integratedintensityedge_ker</th>\n",
       "      <th>integratedintensityedge_vim</th>\n",
       "      <th>lowerquartileintensity_ker</th>\n",
       "      <th>lowerquartileintensity_vim</th>\n",
       "      <th>madintensity_vim</th>\n",
       "      <th>maxintensityedge_ker</th>\n",
       "      <th>maxintensityedge_vim</th>\n",
       "      <th>maxintensity_ker</th>\n",
       "      <th>maxintensity_vim</th>\n",
       "      <th>meanintensityedge_ker</th>\n",
       "      <th>meanintensityedge_vim</th>\n",
       "      <th>meanintensity_ker</th>\n",
       "      <th>meanintensity_vim</th>\n",
       "      <th>minintensityedge_ker</th>\n",
       "      <th>minintensityedge_vim</th>\n",
       "      <th>stdintensityedge_ker</th>\n",
       "      <th>stdintensity_ker</th>\n",
       "      <th>stdintensity_vim</th>\n",
       "      <th>angularsecondmoment_ker_00</th>\n",
       "      <th>angularsecondmoment_vim_00</th>\n",
       "      <th>contrast_ker_00</th>\n",
       "      <th>contrast_ker_01</th>\n",
       "      <th>contrast_ker_02</th>\n",
       "      <th>contrast_ker_03</th>\n",
       "      <th>contrast_vim_00</th>\n",
       "      <th>contrast_vim_02</th>\n",
       "      <th>correlation_ker_00</th>\n",
       "      <th>correlation_ker_01</th>\n",
       "      <th>correlation_ker_02</th>\n",
       "      <th>correlation_ker_03</th>\n",
       "      <th>correlation_vim_00</th>\n",
       "      <th>correlation_vim_01</th>\n",
       "      <th>correlation_vim_02</th>\n",
       "      <th>correlation_vim_03</th>\n",
       "      <th>differenceentropy_ker_00</th>\n",
       "      <th>differenceentropy_vim_00</th>\n",
       "      <th>differencevariance_ker_00</th>\n",
       "      <th>differencevariance_vim_00</th>\n",
       "      <th>entropy_ker_01</th>\n",
       "      <th>entropy_vim_01</th>\n",
       "      <th>infomeas1_ker_00</th>\n",
       "      <th>infomeas1_ker_01</th>\n",
       "      <th>infomeas1_ker_02</th>\n",
       "      <th>infomeas1_ker_03</th>\n",
       "      <th>infomeas1_vim_00</th>\n",
       "      <th>infomeas1_vim_01</th>\n",
       "      <th>infomeas1_vim_02</th>\n",
       "      <th>infomeas1_vim_03</th>\n",
       "      <th>infomeas2_ker_00</th>\n",
       "      <th>infomeas2_ker_02</th>\n",
       "      <th>infomeas2_vim_00</th>\n",
       "      <th>infomeas2_vim_01</th>\n",
       "      <th>infomeas2_vim_02</th>\n",
       "      <th>fartherstpoint_cell</th>\n",
       "      <th>fartherstpoint_nucl</th>\n",
       "      <th>nucleusshift</th>\n",
       "      <th>maxintdisplacement_dapi</th>\n",
       "      <th>maxintdisplacement_ker</th>\n",
       "      <th>maxintdisplacement_vim</th>\n",
       "      <th>maxintdisplacement_wga</th>\n",
       "      <th>massdisplacement_wga</th>\n",
       "      <th>massdisplacement_dapi</th>\n",
       "      <th>massdisplacement_ker</th>\n",
       "      <th>massdisplacement_vim</th>\n",
       "      <th>ctcf_dapi</th>\n",
       "      <th>ctcf_wga</th>\n",
       "      <th>ctcf_ker</th>\n",
       "      <th>ctcf_vim</th>\n",
       "      <th>cvratio</th>\n",
       "      <th>log_cvratio</th>\n",
       "      <th>ncr</th>\n",
       "    </tr>\n",
       "  </thead>\n",
       "  <tbody>\n",
       "    <tr>\n",
       "      <th>238</th>\n",
       "      <td>64.0-B-A2-5-3</td>\n",
       "      <td>64.0-B-A2-5</td>\n",
       "      <td>3</td>\n",
       "      <td>B</td>\n",
       "      <td>5</td>\n",
       "      <td>64.0</td>\n",
       "      <td>A2</td>\n",
       "      <td>61988</td>\n",
       "      <td>7.736201</td>\n",
       "      <td>0.982908</td>\n",
       "      <td>0.149462</td>\n",
       "      <td>0.103398</td>\n",
       "      <td>1084.192929</td>\n",
       "      <td>15.860804</td>\n",
       "      <td>199.598495</td>\n",
       "      <td>16.872487</td>\n",
       "      <td>2744.754</td>\n",
       "      <td>0.303301</td>\n",
       "      <td>0.093827</td>\n",
       "      <td>0.010235</td>\n",
       "      <td>0.023488</td>\n",
       "      <td>0.030725</td>\n",
       "      <td>0.01606</td>\n",
       "      <td>0.005298</td>\n",
       "      <td>0.01308</td>\n",
       "      <td>0.009488</td>\n",
       "      <td>0.019876</td>\n",
       "      <td>0.014169</td>\n",
       "      <td>0.005305</td>\n",
       "      <td>0.004952</td>\n",
       "      <td>0.015705</td>\n",
       "      <td>0.005686</td>\n",
       "      <td>0.01354</td>\n",
       "      <td>0.012975</td>\n",
       "      <td>0.012654</td>\n",
       "      <td>0.003735</td>\n",
       "      <td>0.005771</td>\n",
       "      <td>0.004034</td>\n",
       "      <td>0.001932</td>\n",
       "      <td>0.00194</td>\n",
       "      <td>0.000611</td>\n",
       "      <td>0.011225</td>\n",
       "      <td>0.008921</td>\n",
       "      <td>0.01061</td>\n",
       "      <td>0.002985</td>\n",
       "      <td>0.005814</td>\n",
       "      <td>0.004541</td>\n",
       "      <td>0.003218</td>\n",
       "      <td>27.241337</td>\n",
       "      <td>0.015412</td>\n",
       "      <td>0.124743</td>\n",
       "      <td>0.89041</td>\n",
       "      <td>0.011451</td>\n",
       "      <td>0.085529</td>\n",
       "      <td>0.001907</td>\n",
       "      <td>0.124567</td>\n",
       "      <td>171.198653</td>\n",
       "      <td>332.486248</td>\n",
       "      <td>2.0</td>\n",
       "      <td>2.0</td>\n",
       "      <td>3.907471</td>\n",
       "      <td>15.536105</td>\n",
       "      <td>378.758104</td>\n",
       "      <td>0.006679</td>\n",
       "      <td>147.244039</td>\n",
       "      <td>110.557559</td>\n",
       "      <td>0.92926</td>\n",
       "      <td>0.894701</td>\n",
       "      <td>0.946318</td>\n",
       "      <td>0.895495</td>\n",
       "      <td>3.890104</td>\n",
       "      <td>0.000509</td>\n",
       "      <td>9.278921</td>\n",
       "      <td>-0.279495</td>\n",
       "      <td>-0.248354</td>\n",
       "      <td>-0.326212</td>\n",
       "      <td>-0.263717</td>\n",
       "      <td>0.977665</td>\n",
       "      <td>0.968551</td>\n",
       "      <td>0.986475</td>\n",
       "      <td>0.973304</td>\n",
       "      <td>6818</td>\n",
       "      <td>1.705058</td>\n",
       "      <td>0.935242</td>\n",
       "      <td>0.723472</td>\n",
       "      <td>0.503923</td>\n",
       "      <td>161.9009</td>\n",
       "      <td>10.618687</td>\n",
       "      <td>0.74471</td>\n",
       "      <td>0.885512</td>\n",
       "      <td>0.375961</td>\n",
       "      <td>0.014813</td>\n",
       "      <td>0.133789</td>\n",
       "      <td>0.094293</td>\n",
       "      <td>0.008997</td>\n",
       "      <td>0.00545</td>\n",
       "      <td>0.03596</td>\n",
       "      <td>0.059067</td>\n",
       "      <td>0.040022</td>\n",
       "      <td>0.007587</td>\n",
       "      <td>0.002487</td>\n",
       "      <td>0.004865</td>\n",
       "      <td>0.0173</td>\n",
       "      <td>0.019731</td>\n",
       "      <td>0.023086</td>\n",
       "      <td>0.01949</td>\n",
       "      <td>0.003654</td>\n",
       "      <td>0.007745</td>\n",
       "      <td>0.004088</td>\n",
       "      <td>0.00347</td>\n",
       "      <td>0.000565</td>\n",
       "      <td>0.008791</td>\n",
       "      <td>0.002406</td>\n",
       "      <td>0.008428</td>\n",
       "      <td>0.009533</td>\n",
       "      <td>0.001263</td>\n",
       "      <td>0.00808</td>\n",
       "      <td>0.002862</td>\n",
       "      <td>0.003399</td>\n",
       "      <td>0.002316</td>\n",
       "      <td>71.388464</td>\n",
       "      <td>0.13402</td>\n",
       "      <td>0.463233</td>\n",
       "      <td>1.0</td>\n",
       "      <td>0.201094</td>\n",
       "      <td>0.479447</td>\n",
       "      <td>0.196741</td>\n",
       "      <td>33.337503</td>\n",
       "      <td>366.938738</td>\n",
       "      <td>0.0</td>\n",
       "      <td>391.105146</td>\n",
       "      <td>0.000158</td>\n",
       "      <td>811.746189</td>\n",
       "      <td>1061.579997</td>\n",
       "      <td>396.528883</td>\n",
       "      <td>1037.289403</td>\n",
       "      <td>0.831635</td>\n",
       "      <td>0.780679</td>\n",
       "      <td>0.91815</td>\n",
       "      <td>0.785159</td>\n",
       "      <td>5.868929</td>\n",
       "      <td>5.297092</td>\n",
       "      <td>0.000065</td>\n",
       "      <td>12.887523</td>\n",
       "      <td>-0.285121</td>\n",
       "      <td>0.993092</td>\n",
       "      <td>0.0</td>\n",
       "      <td>0.07069</td>\n",
       "      <td>50.219518</td>\n",
       "      <td>0.272266</td>\n",
       "      <td>0.009223</td>\n",
       "      <td>0.015089</td>\n",
       "      <td>0.012359</td>\n",
       "      <td>0.00682</td>\n",
       "      <td>0.008897</td>\n",
       "      <td>0.010712</td>\n",
       "      <td>0.005011</td>\n",
       "      <td>0.012064</td>\n",
       "      <td>0.006174</td>\n",
       "      <td>0.009804</td>\n",
       "      <td>0.003184</td>\n",
       "      <td>0.000867</td>\n",
       "      <td>0.00118</td>\n",
       "      <td>0.000699</td>\n",
       "      <td>0.007432</td>\n",
       "      <td>0.001573</td>\n",
       "      <td>0.005779</td>\n",
       "      <td>172.376959</td>\n",
       "      <td>18.690929</td>\n",
       "      <td>0.183902</td>\n",
       "      <td>0.012329</td>\n",
       "      <td>0.027527</td>\n",
       "      <td>1.0</td>\n",
       "      <td>0.296284</td>\n",
       "      <td>1.0</td>\n",
       "      <td>0.775006</td>\n",
       "      <td>0.072458</td>\n",
       "      <td>0.007857</td>\n",
       "      <td>0.52715</td>\n",
       "      <td>0.067372</td>\n",
       "      <td>0.001343</td>\n",
       "      <td>0.001205</td>\n",
       "      <td>0.126536</td>\n",
       "      <td>0.358902</td>\n",
       "      <td>0.095271</td>\n",
       "      <td>0.026926</td>\n",
       "      <td>0.006818</td>\n",
       "      <td>1808.17963</td>\n",
       "      <td>2696.983366</td>\n",
       "      <td>593.461393</td>\n",
       "      <td>1396.643372</td>\n",
       "      <td>218.282903</td>\n",
       "      <td>61.383581</td>\n",
       "      <td>0.888581</td>\n",
       "      <td>0.833208</td>\n",
       "      <td>0.963886</td>\n",
       "      <td>0.91373</td>\n",
       "      <td>0.820989</td>\n",
       "      <td>0.713932</td>\n",
       "      <td>0.949157</td>\n",
       "      <td>0.890184</td>\n",
       "      <td>5.873535</td>\n",
       "      <td>4.26703</td>\n",
       "      <td>0.000159</td>\n",
       "      <td>0.000432</td>\n",
       "      <td>12.618517</td>\n",
       "      <td>9.974746</td>\n",
       "      <td>-0.213096</td>\n",
       "      <td>-0.188318</td>\n",
       "      <td>-0.278883</td>\n",
       "      <td>-0.218315</td>\n",
       "      <td>-0.209512</td>\n",
       "      <td>-0.171893</td>\n",
       "      <td>-0.294797</td>\n",
       "      <td>-0.223168</td>\n",
       "      <td>0.97414</td>\n",
       "      <td>0.989862</td>\n",
       "      <td>0.947438</td>\n",
       "      <td>0.9202</td>\n",
       "      <td>0.9792</td>\n",
       "      <td>395.025045</td>\n",
       "      <td>13.623772</td>\n",
       "      <td>496.257997</td>\n",
       "      <td>19.647322</td>\n",
       "      <td>212.449585</td>\n",
       "      <td>106.279312</td>\n",
       "      <td>60.358223</td>\n",
       "      <td>49.987599</td>\n",
       "      <td>4.043245</td>\n",
       "      <td>6.73343</td>\n",
       "      <td>40.025216</td>\n",
       "      <td>3263.562051</td>\n",
       "      <td>5046.593647</td>\n",
       "      <td>32585.757541</td>\n",
       "      <td>4047.861387</td>\n",
       "      <td>8.050117</td>\n",
       "      <td>2.085687</td>\n",
       "      <td>0.122527</td>\n",
       "    </tr>\n",
       "  </tbody>\n",
       "</table>\n",
       "</div>"
      ],
      "text/plain": [
       "             label        image object combination site stiffness well  \\\n",
       "238  64.0-B-A2-5-3  64.0-B-A2-5      3           B    5      64.0   A2   \n",
       "\n",
       "    area_cell  compactness_cell  eccentricity_cell  extent_cell  \\\n",
       "238     61988          7.736201           0.982908     0.149462   \n",
       "\n",
       "     formfactor_cell  majoraxislength_cell  meanradius_cell  \\\n",
       "238         0.103398           1084.192929        15.860804   \n",
       "\n",
       "     minoraxislength_cell  orientation_cell  perimeter_cell  solidity_cell  \\\n",
       "238            199.598495         16.872487        2744.754       0.303301   \n",
       "\n",
       "     zernike_0_0_cell  zernike_1_1_cell  zernike_2_0_cell  zernike_2_2_cell  \\\n",
       "238          0.093827          0.010235          0.023488          0.030725   \n",
       "\n",
       "     zernike_3_1_cell  zernike_3_3_cell  zernike_4_0_cell  zernike_4_2_cell  \\\n",
       "238           0.01606          0.005298           0.01308          0.009488   \n",
       "\n",
       "     zernike_4_4_cell  zernike_5_1_cell  zernike_5_3_cell  zernike_5_5_cell  \\\n",
       "238          0.019876          0.014169          0.005305          0.004952   \n",
       "\n",
       "     zernike_6_0_cell  zernike_6_2_cell  zernike_6_4_cell  zernike_6_6_cell  \\\n",
       "238          0.015705          0.005686           0.01354          0.012975   \n",
       "\n",
       "     zernike_7_1_cell  zernike_7_3_cell  zernike_7_5_cell  zernike_7_7_cell  \\\n",
       "238          0.012654          0.003735          0.005771          0.004034   \n",
       "\n",
       "     zernike_8_0_cell  zernike_8_2_cell  zernike_8_4_cell  zernike_8_6_cell  \\\n",
       "238          0.001932           0.00194          0.000611          0.011225   \n",
       "\n",
       "     zernike_8_8_cell  zernike_9_1_cell  zernike_9_3_cell  zernike_9_5_cell  \\\n",
       "238          0.008921           0.01061          0.002985          0.005814   \n",
       "\n",
       "     zernike_9_7_cell  zernike_9_9_cell  integratedintensityedge_wga  \\\n",
       "238          0.004541          0.003218                    27.241337   \n",
       "\n",
       "     lowerquartileintensity_wga  maxintensityedge_wga  maxintensity_wga  \\\n",
       "238                    0.015412              0.124743           0.89041   \n",
       "\n",
       "     meanintensityedge_wga  meanintensity_wga  minintensity_wga  \\\n",
       "238               0.011451           0.085529          0.001907   \n",
       "\n",
       "     stdintensity_wga  neighbors_anglebetweenneighbors_3  \\\n",
       "238          0.124567                         171.198653   \n",
       "\n",
       "     neighbors_firstclosestdistance_3  neighbors_numberofneighbors_3  \\\n",
       "238                        332.486248                            2.0   \n",
       "\n",
       "     neighbors_numberofneighbors_30  neighbors_percenttouching_3  \\\n",
       "238                             2.0                     3.907471   \n",
       "\n",
       "     neighbors_percenttouching_30  neighbors_secondclosestdistance_3  \\\n",
       "238                     15.536105                         378.758104   \n",
       "\n",
       "     angularsecondmoment_wga_00  contrast_wga_00  contrast_wga_02  \\\n",
       "238                    0.006679       147.244039       110.557559   \n",
       "\n",
       "     correlation_wga_00  correlation_wga_01  correlation_wga_02  \\\n",
       "238             0.92926            0.894701            0.946318   \n",
       "\n",
       "     correlation_wga_03  differenceentropy_wga_00  differencevariance_wga_00  \\\n",
       "238            0.895495                  3.890104                   0.000509   \n",
       "\n",
       "     entropy_wga_02  infomeas1_wga_00  infomeas1_wga_01  infomeas1_wga_02  \\\n",
       "238        9.278921         -0.279495         -0.248354         -0.326212   \n",
       "\n",
       "     infomeas1_wga_03  infomeas2_wga_00  infomeas2_wga_01  infomeas2_wga_02  \\\n",
       "238         -0.263717          0.977665          0.968551          0.986475   \n",
       "\n",
       "     infomeas2_wga_03 area_nucl  compactness_nucl  eccentricity_nucl  \\\n",
       "238          0.973304      6818          1.705058           0.935242   \n",
       "\n",
       "     extent_nucl  formfactor_nucl  majoraxislength_nucl  meanradius_nucl  \\\n",
       "238     0.723472         0.503923              161.9009        10.618687   \n",
       "\n",
       "     orientation_nucl  solidity_nucl  zernike_0_0_nucl  zernike_1_1_nucl  \\\n",
       "238           0.74471       0.885512          0.375961          0.014813   \n",
       "\n",
       "     zernike_2_0_nucl  zernike_2_2_nucl  zernike_3_1_nucl  zernike_3_3_nucl  \\\n",
       "238          0.133789          0.094293          0.008997           0.00545   \n",
       "\n",
       "     zernike_4_0_nucl  zernike_4_2_nucl  zernike_4_4_nucl  zernike_5_1_nucl  \\\n",
       "238           0.03596          0.059067          0.040022          0.007587   \n",
       "\n",
       "     zernike_5_3_nucl  zernike_5_5_nucl  zernike_6_0_nucl  zernike_6_2_nucl  \\\n",
       "238          0.002487          0.004865            0.0173          0.019731   \n",
       "\n",
       "     zernike_6_4_nucl  zernike_6_6_nucl  zernike_7_1_nucl  zernike_7_3_nucl  \\\n",
       "238          0.023086           0.01949          0.003654          0.007745   \n",
       "\n",
       "     zernike_7_5_nucl  zernike_7_7_nucl  zernike_8_0_nucl  zernike_8_2_nucl  \\\n",
       "238          0.004088           0.00347          0.000565          0.008791   \n",
       "\n",
       "     zernike_8_4_nucl  zernike_8_6_nucl  zernike_8_8_nucl  zernike_9_1_nucl  \\\n",
       "238          0.002406          0.008428          0.009533          0.001263   \n",
       "\n",
       "     zernike_9_3_nucl  zernike_9_5_nucl  zernike_9_7_nucl  zernike_9_9_nucl  \\\n",
       "238           0.00808          0.002862          0.003399          0.002316   \n",
       "\n",
       "     integratedintensityedge_dapi  madintensity_dapi  maxintensityedge_dapi  \\\n",
       "238                     71.388464            0.13402               0.463233   \n",
       "\n",
       "     maxintensity_dapi  meanintensityedge_dapi  meanintensity_dapi  \\\n",
       "238                1.0                0.201094            0.479447   \n",
       "\n",
       "     stdintensity_dapi  neighbors_anglebetweenneighbors_20  \\\n",
       "238           0.196741                           33.337503   \n",
       "\n",
       "     neighbors_firstclosestdistance_20  neighbors_numberofneighbors_20  \\\n",
       "238                         366.938738                             0.0   \n",
       "\n",
       "     neighbors_secondclosestdistance_20  angularsecondmoment_dapi_00  \\\n",
       "238                          391.105146                     0.000158   \n",
       "\n",
       "     contrast_dapi_00  contrast_dapi_01  contrast_dapi_02  contrast_dapi_03  \\\n",
       "238        811.746189       1061.579997        396.528883       1037.289403   \n",
       "\n",
       "     correlation_dapi_00  correlation_dapi_01  correlation_dapi_02  \\\n",
       "238             0.831635             0.780679              0.91815   \n",
       "\n",
       "     correlation_dapi_03  differenceentropy_dapi_00  \\\n",
       "238             0.785159                   5.868929   \n",
       "\n",
       "     differenceentropy_dapi_02  differencevariance_dapi_00  entropy_dapi_00  \\\n",
       "238                   5.297092                    0.000065        12.887523   \n",
       "\n",
       "     infomeas1_dapi_00  infomeas2_dapi_00  eulernumber_cyto  formfactor_cyto  \\\n",
       "238          -0.285121           0.993092               0.0          0.07069   \n",
       "\n",
       "     maximumradius_cyto  solidity_cyto  zernike_1_1_cyto  zernike_2_0_cyto  \\\n",
       "238           50.219518       0.272266          0.009223          0.015089   \n",
       "\n",
       "     zernike_3_1_cyto  zernike_4_0_cyto  zernike_4_2_cyto  zernike_5_1_cyto  \\\n",
       "238          0.012359           0.00682          0.008897          0.010712   \n",
       "\n",
       "     zernike_5_3_cyto  zernike_6_0_cyto  zernike_6_2_cyto  zernike_7_1_cyto  \\\n",
       "238          0.005011          0.012064          0.006174          0.009804   \n",
       "\n",
       "     zernike_7_3_cyto  zernike_8_0_cyto  zernike_8_2_cyto  zernike_8_4_cyto  \\\n",
       "238          0.003184          0.000867           0.00118          0.000699   \n",
       "\n",
       "     zernike_9_1_cyto  zernike_9_3_cyto  zernike_9_5_cyto  \\\n",
       "238          0.007432          0.001573          0.005779   \n",
       "\n",
       "     integratedintensityedge_ker  integratedintensityedge_vim  \\\n",
       "238                   172.376959                    18.690929   \n",
       "\n",
       "     lowerquartileintensity_ker  lowerquartileintensity_vim  madintensity_vim  \\\n",
       "238                    0.183902                    0.012329          0.027527   \n",
       "\n",
       "     maxintensityedge_ker  maxintensityedge_vim  maxintensity_ker  \\\n",
       "238                   1.0              0.296284               1.0   \n",
       "\n",
       "     maxintensity_vim  meanintensityedge_ker  meanintensityedge_vim  \\\n",
       "238          0.775006               0.072458               0.007857   \n",
       "\n",
       "     meanintensity_ker  meanintensity_vim  minintensityedge_ker  \\\n",
       "238            0.52715           0.067372              0.001343   \n",
       "\n",
       "     minintensityedge_vim  stdintensityedge_ker  stdintensity_ker  \\\n",
       "238              0.001205              0.126536          0.358902   \n",
       "\n",
       "     stdintensity_vim  angularsecondmoment_ker_00  angularsecondmoment_vim_00  \\\n",
       "238          0.095271                    0.026926                    0.006818   \n",
       "\n",
       "     contrast_ker_00  contrast_ker_01  contrast_ker_02  contrast_ker_03  \\\n",
       "238       1808.17963      2696.983366       593.461393      1396.643372   \n",
       "\n",
       "     contrast_vim_00  contrast_vim_02  correlation_ker_00  correlation_ker_01  \\\n",
       "238       218.282903        61.383581            0.888581            0.833208   \n",
       "\n",
       "     correlation_ker_02  correlation_ker_03  correlation_vim_00  \\\n",
       "238            0.963886             0.91373            0.820989   \n",
       "\n",
       "     correlation_vim_01  correlation_vim_02  correlation_vim_03  \\\n",
       "238            0.713932            0.949157            0.890184   \n",
       "\n",
       "     differenceentropy_ker_00  differenceentropy_vim_00  \\\n",
       "238                  5.873535                   4.26703   \n",
       "\n",
       "     differencevariance_ker_00  differencevariance_vim_00  entropy_ker_01  \\\n",
       "238                   0.000159                   0.000432       12.618517   \n",
       "\n",
       "     entropy_vim_01  infomeas1_ker_00  infomeas1_ker_01  infomeas1_ker_02  \\\n",
       "238        9.974746         -0.213096         -0.188318         -0.278883   \n",
       "\n",
       "     infomeas1_ker_03  infomeas1_vim_00  infomeas1_vim_01  infomeas1_vim_02  \\\n",
       "238         -0.218315         -0.209512         -0.171893         -0.294797   \n",
       "\n",
       "     infomeas1_vim_03  infomeas2_ker_00  infomeas2_ker_02  infomeas2_vim_00  \\\n",
       "238         -0.223168           0.97414          0.989862          0.947438   \n",
       "\n",
       "     infomeas2_vim_01  infomeas2_vim_02  fartherstpoint_cell  \\\n",
       "238            0.9202            0.9792           395.025045   \n",
       "\n",
       "     fartherstpoint_nucl  nucleusshift  maxintdisplacement_dapi  \\\n",
       "238            13.623772    496.257997                19.647322   \n",
       "\n",
       "     maxintdisplacement_ker  maxintdisplacement_vim  maxintdisplacement_wga  \\\n",
       "238              212.449585              106.279312               60.358223   \n",
       "\n",
       "     massdisplacement_wga  massdisplacement_dapi  massdisplacement_ker  \\\n",
       "238             49.987599               4.043245               6.73343   \n",
       "\n",
       "     massdisplacement_vim    ctcf_dapi     ctcf_wga      ctcf_ker  \\\n",
       "238             40.025216  3263.562051  5046.593647  32585.757541   \n",
       "\n",
       "        ctcf_vim   cvratio  log_cvratio       ncr  \n",
       "238  4047.861387  8.050117     2.085687  0.122527  "
      ]
     },
     "execution_count": 166,
     "metadata": {},
     "output_type": "execute_result"
    }
   ],
   "source": [
    "df_[df_.ctcf_ker > 30000]"
   ]
  },
  {
   "cell_type": "code",
   "execution_count": 167,
   "metadata": {},
   "outputs": [
    {
     "data": {
      "text/plain": [
       "stiffness\n",
       "0.2     2810.105448\n",
       "2.0     2336.434112\n",
       "16.0    3700.072080\n",
       "32.0    4918.035370\n",
       "64.0    4363.598627\n",
       "Name: ker, dtype: float64"
      ]
     },
     "execution_count": 167,
     "metadata": {},
     "output_type": "execute_result"
    }
   ],
   "source": [
    "df.groupby('stiffness').ker.median()"
   ]
  },
  {
   "cell_type": "code",
   "execution_count": 168,
   "metadata": {},
   "outputs": [
    {
     "data": {
      "text/plain": [
       "stiffness\n",
       "0.2     1566.820288\n",
       "2.0     1533.081987\n",
       "16.0    2261.522090\n",
       "32.0    2729.852958\n",
       "64.0    3545.343800\n",
       "Name: ker, dtype: float64"
      ]
     },
     "execution_count": 168,
     "metadata": {},
     "output_type": "execute_result"
    }
   ],
   "source": [
    "df.groupby('stiffness').ker.mad()"
   ]
  },
  {
   "cell_type": "markdown",
   "metadata": {},
   "source": [
    "### Vimentin"
   ]
  },
  {
   "cell_type": "code",
   "execution_count": 282,
   "metadata": {
    "scrolled": true
   },
   "outputs": [
    {
     "data": {
      "image/png": "[encoded data removed]",
      "text/plain": [
       "<Figure size 360x288 with 1 Axes>"
      ]
     },
     "metadata": {},
     "output_type": "display_data"
    }
   ],
   "source": [
    "plot_intensities(df, 'vim', 'barplot', 'ctcf', [0, 3900], size=(5, 4), add_line=True)"
   ]
  },
  {
   "cell_type": "code",
   "execution_count": 283,
   "metadata": {},
   "outputs": [
    {
     "data": {
      "image/png": "[encoded data removed]",
      "text/plain": [
       "<Figure size 360x288 with 1 Axes>"
      ]
     },
     "metadata": {},
     "output_type": "display_data"
    }
   ],
   "source": [
    "plot_intensities(df, 'vim', 'boxplot', 'ctcf',  [0, 4900], size=(5, 4))"
   ]
  },
  {
   "cell_type": "code",
   "execution_count": null,
   "metadata": {},
   "outputs": [],
   "source": [
    "df.vim.hist(bins=50);"
   ]
  },
  {
   "cell_type": "code",
   "execution_count": null,
   "metadata": {},
   "outputs": [],
   "source": [
    "df.hist(column='vim', by='stiffness', bins=20, \n",
    "                sharex=True, sharey=False, \n",
    "                layout=(2, 3), figsize=(20, 6));\n",
    "plt.tight_layout()"
   ]
  },
  {
   "cell_type": "code",
   "execution_count": null,
   "metadata": {},
   "outputs": [],
   "source": [
    "df[['ker']].corrwith(df.vim, method='pearson')"
   ]
  },
  {
   "cell_type": "code",
   "execution_count": null,
   "metadata": {},
   "outputs": [],
   "source": [
    "sns.lmplot(x='ker', y='vim', data=df);"
   ]
  },
  {
   "cell_type": "markdown",
   "metadata": {},
   "source": [
    "### CV ratio"
   ]
  },
  {
   "cell_type": "code",
   "execution_count": null,
   "metadata": {
    "collapsed": true
   },
   "outputs": [],
   "source": [
    "df[['ker', 'vim', 'cvratio']].describe()"
   ]
  },
  {
   "cell_type": "code",
   "execution_count": 284,
   "metadata": {},
   "outputs": [
    {
     "data": {
      "image/png": "[encoded data removed]",
      "text/plain": [
       "<Figure size 360x288 with 1 Axes>"
      ]
     },
     "metadata": {},
     "output_type": "display_data"
    }
   ],
   "source": [
    "plot_intensities(df, 'cvratio', 'barplot', None, [0, 10], size=(5, 4), add_line=True)"
   ]
  },
  {
   "cell_type": "code",
   "execution_count": 209,
   "metadata": {},
   "outputs": [
    {
     "data": {
      "image/png": "[encoded data removed]",
      "text/plain": [
       "<Figure size 864x432 with 1 Axes>"
      ]
     },
     "metadata": {},
     "output_type": "display_data"
    }
   ],
   "source": [
    "df.cvratio.hist(bins=50, figsize=(12,6));"
   ]
  },
  {
   "cell_type": "code",
   "execution_count": 210,
   "metadata": {},
   "outputs": [
    {
     "data": {
      "image/png": "[encoded data removed]",
      "text/plain": [
       "<Figure size 1440x432 with 8 Axes>"
      ]
     },
     "metadata": {},
     "output_type": "display_data"
    }
   ],
   "source": [
    "df.hist(column='cvratio', by='stiffness', bins=20, \n",
    "                sharex=False, sharey=True, \n",
    "                layout=(2, 4), figsize=(20, 6));\n",
    "plt.tight_layout()"
   ]
  },
  {
   "cell_type": "code",
   "execution_count": 285,
   "metadata": {},
   "outputs": [
    {
     "data": {
      "image/png": "[encoded data removed]",
      "text/plain": [
       "<Figure size 360x360 with 1 Axes>"
      ]
     },
     "metadata": {},
     "output_type": "display_data"
    }
   ],
   "source": [
    "sns.lmplot(x='ker', y='vim', data=df);"
   ]
  },
  {
   "cell_type": "code",
   "execution_count": 286,
   "metadata": {},
   "outputs": [
    {
     "data": {
      "text/plain": [
       "ker    0.280523\n",
       "dtype: float64"
      ]
     },
     "execution_count": 286,
     "metadata": {},
     "output_type": "execute_result"
    }
   ],
   "source": [
    "df[['ker']].corrwith(df.vim, method='spearman')"
   ]
  },
  {
   "cell_type": "markdown",
   "metadata": {},
   "source": [
    "###### Remove outliers"
   ]
  },
  {
   "cell_type": "code",
   "execution_count": null,
   "metadata": {
    "collapsed": true
   },
   "outputs": [],
   "source": [
    "# df = drop_outliers_iqr(df, 'ker')\n",
    "# df = drop_outliers_iqr(df, 'vim')\n",
    "# df = drop_outliers_iqr(df, 'ratio')\n",
    "df.shape"
   ]
  },
  {
   "cell_type": "markdown",
   "metadata": {},
   "source": [
    "###### Box-Cox transformation"
   ]
  },
  {
   "cell_type": "code",
   "execution_count": null,
   "metadata": {
    "collapsed": true,
    "scrolled": false
   },
   "outputs": [],
   "source": [
    "boxcox_transform(df, 'ker')"
   ]
  },
  {
   "cell_type": "code",
   "execution_count": null,
   "metadata": {
    "collapsed": true
   },
   "outputs": [],
   "source": [
    "boxcox_transform(df, 'vim')"
   ]
  },
  {
   "cell_type": "code",
   "execution_count": null,
   "metadata": {
    "collapsed": true
   },
   "outputs": [],
   "source": [
    "sns.boxplot(x=df.stiffness, y=df.ker_t / df.vim_t, palette=palette);"
   ]
  },
  {
   "cell_type": "code",
   "execution_count": null,
   "metadata": {
    "collapsed": true
   },
   "outputs": [],
   "source": [
    "boxcox_transform(df, 'cvratio')"
   ]
  },
  {
   "cell_type": "markdown",
   "metadata": {},
   "source": [
    "###### Log transformation"
   ]
  },
  {
   "cell_type": "code",
   "execution_count": null,
   "metadata": {
    "collapsed": true
   },
   "outputs": [],
   "source": [
    "df['log_ker'] = np.log(df.ker)\n",
    "df['log_vim'] = np.log(df.vim)\n",
    "df.shape"
   ]
  },
  {
   "cell_type": "code",
   "execution_count": null,
   "metadata": {
    "collapsed": true
   },
   "outputs": [],
   "source": [
    "sns.boxplot(x=df.stiffness, y=df.log_ker, palette=palette);\n",
    "plt.xlabel(\"Stiffness, kPa\")\n",
    "plt.ylabel(\"log(Intensity), a.u.\")\n",
    "plt.title(\"Expression of cytokeratins\");\n",
    "# plt.savefig('../results/log Ker.png', bbox_inches='tight', dpi=300);"
   ]
  },
  {
   "cell_type": "code",
   "execution_count": null,
   "metadata": {
    "collapsed": true
   },
   "outputs": [],
   "source": [
    "df.log_ker.hist(bins=25, figsize=(12,6));"
   ]
  },
  {
   "cell_type": "code",
   "execution_count": null,
   "metadata": {
    "collapsed": true
   },
   "outputs": [],
   "source": [
    "df.hist(column='log_ker', by='stiffness', bins=20, \n",
    "                sharex=True, sharey=True, \n",
    "                layout=(2, 4), figsize=(20, 6));\n",
    "plt.tight_layout()"
   ]
  },
  {
   "cell_type": "code",
   "execution_count": null,
   "metadata": {
    "collapsed": true
   },
   "outputs": [],
   "source": [
    "sns.boxplot(x=df.stiffness, y=df.log_vim, palette=palette);\n",
    "plt.xlabel(\"Stiffness, kPa\")\n",
    "plt.ylabel(\"log(Intensity), a.u.\")\n",
    "plt.title(\"Expression of vimentin\");\n",
    "# plt.savefig('../results/log Vim.png', bbox_inches='tight', dpi=300);"
   ]
  },
  {
   "cell_type": "code",
   "execution_count": null,
   "metadata": {
    "collapsed": true
   },
   "outputs": [],
   "source": [
    "df.log_vim.hist(bins=25, figsize=(12,6));"
   ]
  },
  {
   "cell_type": "code",
   "execution_count": null,
   "metadata": {
    "collapsed": true
   },
   "outputs": [],
   "source": [
    "df.hist(column='log_vim', by='stiffness', bins=20, \n",
    "                sharex=True, sharey=True, \n",
    "                layout=(2, 4), figsize=(20, 6));\n",
    "plt.tight_layout()"
   ]
  },
  {
   "cell_type": "code",
   "execution_count": null,
   "metadata": {
    "collapsed": true
   },
   "outputs": [],
   "source": [
    "sns.boxplot(x=df.stiffness, y=df.log_cvratio, palette=palette, showfliers=False);\n",
    "plt.ylim([-2, 4]);\n",
    "plt.xlabel(\"Stiffness, kPa\")\n",
    "plt.ylabel(\"log(ratio)\")\n",
    "plt.title(\"Cytokeratin to Vimentin ratio\");\n",
    "# plt.savefig('../results/log CVR.png', bbox_inches='tight', dpi=300);"
   ]
  },
  {
   "cell_type": "code",
   "execution_count": null,
   "metadata": {
    "collapsed": true
   },
   "outputs": [],
   "source": [
    "sns.boxplot(x=df.stiffness, y=df.log_cvratio, palette=palette, showfliers=False);\n",
    "plt.ylim([-2, 4]);\n",
    "plt.xlabel(\"Stiffness, kPa\")\n",
    "plt.ylabel(\"log(ratio)\")\n",
    "plt.title(\"Cytokeratin to Vimentin ratio w/o clusters at 64 kPa\");\n",
    "plt.savefig('../results/log_CVR no clusters.png', bbox_inches='tight', dpi=300);"
   ]
  },
  {
   "cell_type": "code",
   "execution_count": null,
   "metadata": {
    "collapsed": true
   },
   "outputs": [],
   "source": [
    "df.log_cvratio.hist(bins=25, figsize=(12,6));"
   ]
  },
  {
   "cell_type": "code",
   "execution_count": null,
   "metadata": {
    "collapsed": true
   },
   "outputs": [],
   "source": [
    "df.hist(column='log_cvratio', by='stiffness', bins=20, \n",
    "                sharex=True, sharey=True, \n",
    "                layout=(2, 4), figsize=(20, 6));\n",
    "plt.tight_layout()"
   ]
  },
  {
   "cell_type": "markdown",
   "metadata": {},
   "source": [
    "## Statistical testing"
   ]
  },
  {
   "cell_type": "markdown",
   "metadata": {},
   "source": [
    "### Normality tests"
   ]
  },
  {
   "cell_type": "code",
   "execution_count": null,
   "metadata": {},
   "outputs": [],
   "source": [
    "from scipy.stats import anderson, shapiro\n",
    "group = df.stiffness.unique()\n",
    "col='vim'\n",
    "for i in range(len(group)):\n",
    "    print('\\n', group[i])\n",
    "# Original data\n",
    "    norm_tests(df.loc[df.stiffness == group[i], col])\n",
    "# Log transformation\n",
    "#     norm_tests(np.log(df.loc[df[by] == group[i], col]))\n",
    "# Box-Cox transformation\n",
    "#     xt, _= stats.boxcox(df.loc[df[by] == group[i], col])\n",
    "#     norm_tests(xt)\n",
    "#     A, crit, sig = anderson(df.loc[df[by] == group[i], col], 'norm')\n",
    "    "
   ]
  },
  {
   "cell_type": "code",
   "execution_count": null,
   "metadata": {
    "collapsed": true
   },
   "outputs": [],
   "source": [
    "from statsmodels.graphics.gofplots import qqplot\n",
    "xt,_ = stats.boxcox(df.loc[df.stiffness == \"64.0\", 'vim'])\n",
    "qqplot(xt, line='s');"
   ]
  },
  {
   "cell_type": "markdown",
   "metadata": {},
   "source": [
    "## Comparison of distributions"
   ]
  },
  {
   "cell_type": "code",
   "execution_count": 290,
   "metadata": {
    "collapsed": true
   },
   "outputs": [],
   "source": [
    "def mannwhitneytest(by, col, alternative, transform=None):\n",
    "\n",
    "    group = df[by].unique()\n",
    "    for i in range(len(group) - 1):\n",
    "        x1 = df.loc[df[by] == group[i], col]\n",
    "        x2 = df.loc[df[by] == group[i + 1], col]\n",
    "        \n",
    "        if transform == 'log':\n",
    "            x1 = np.log(x1)\n",
    "            x2 = np.log(x2)\n",
    "        elif transform == 'boxcox':\n",
    "            x1,_ = stats.boxcox(x1)\n",
    "            x2,_ = stats.boxcox(x2)\n",
    "            \n",
    "        _, p = stats.mannwhitneyu(x1, x2, alternative=alternative)\n",
    "        if p < 0.001:\n",
    "            sign = '***'\n",
    "        elif p < 0.01:\n",
    "            sign = '**'\n",
    "        elif p < 0.05:\n",
    "            sign = '*'\n",
    "        else:\n",
    "            sign = ''\n",
    "\n",
    "        print(\"A {} Mann Whitney test on samples {} vs {}. {} \\t p-value = {:.2}.\"\n",
    "              .format(alternative, group[i], group[i + 1],  sign, p))"
   ]
  },
  {
   "cell_type": "code",
   "execution_count": 291,
   "metadata": {
    "collapsed": true
   },
   "outputs": [],
   "source": [
    "def welchsttest(by, col, equal_var, transform=None):\n",
    "\n",
    "    group = df[by].unique()\n",
    "    for i in range(len(group) - 1):\n",
    "        x1 = df.loc[df[by] == group[i], col]\n",
    "        x2 = df.loc[df[by] == group[i + 1], col]\n",
    "        \n",
    "        if transform == 'log':\n",
    "            x1 = np.log(x1)\n",
    "            x2 = np.log(x2)\n",
    "        elif transform == 'boxcox':\n",
    "            x1,_ = stats.boxcox(x1)\n",
    "            x2,_ = stats.boxcox(x2)\n",
    "            \n",
    "        _, p = stats.ttest_ind(x1, x2, equal_var=equal_var)\n",
    "        if p < 0.001:\n",
    "            sign = '***'\n",
    "        elif p < 0.01:\n",
    "            sign = '**'\n",
    "        elif p < 0.05:\n",
    "            sign = '*'\n",
    "        else:\n",
    "            sign = ''\n",
    "\n",
    "        if equal_var:\n",
    "            print(\"A two-tailed t-test on samples {} vs {}. {} \\t p-value = {:.2}.\"\n",
    "                  .format(group[i], group[i + 1],  sign, p))\n",
    "        else:\n",
    "            print(\"Welch's unequal variances t-test on samples {} vs {}. {} \\t p-value = {:.2}.\"\n",
    "                  .format(group[i], group[i + 1],  sign, p))"
   ]
  },
  {
   "cell_type": "code",
   "execution_count": 295,
   "metadata": {},
   "outputs": [
    {
     "name": "stdout",
     "output_type": "stream",
     "text": [
      "A two-sided Mann Whitney test on samples 0.2 vs 2.0. *** \t p-value = 1.7e-08.\n",
      "A two-sided Mann Whitney test on samples 2.0 vs 16.0. ** \t p-value = 0.0024.\n",
      "A two-sided Mann Whitney test on samples 16.0 vs 32.0. *** \t p-value = 9e-07.\n",
      "A two-sided Mann Whitney test on samples 32.0 vs 64.0.  \t p-value = 0.45.\n"
     ]
    }
   ],
   "source": [
    "mannwhitneytest('stiffness', 'cvratio', alternative='two-sided')"
   ]
  },
  {
   "cell_type": "code",
   "execution_count": 294,
   "metadata": {},
   "outputs": [
    {
     "name": "stdout",
     "output_type": "stream",
     "text": [
      "Welch's unequal variances t-test on samples 0.2 vs 2.0. *** \t p-value = 1.1e-07.\n",
      "Welch's unequal variances t-test on samples 2.0 vs 16.0. *** \t p-value = 0.00083.\n",
      "Welch's unequal variances t-test on samples 16.0 vs 32.0. *** \t p-value = 1.2e-06.\n",
      "Welch's unequal variances t-test on samples 32.0 vs 64.0.  \t p-value = 0.44.\n"
     ]
    }
   ],
   "source": [
    "welchsttest('stiffness', 'cvratio', False)"
   ]
  },
  {
   "cell_type": "code",
   "execution_count": 139,
   "metadata": {},
   "outputs": [
    {
     "data": {
      "text/plain": [
       "Ttest_indResult(statistic=-2.780305875190475, pvalue=0.00652922353412384)"
      ]
     },
     "execution_count": 139,
     "metadata": {},
     "output_type": "execute_result"
    }
   ],
   "source": [
    "stats.ttest_ind(df.loc[df.stiffness == '0.2', 'cvratio'], \n",
    "                df.loc[df.stiffness == '32.0', 'cvratio'],\n",
    "                equal_var=False)"
   ]
  },
  {
   "cell_type": "code",
   "execution_count": 157,
   "metadata": {
    "collapsed": true
   },
   "outputs": [],
   "source": [
    "def ftest(by, col, transform=None):\n",
    "\n",
    "    group = df[by].unique()\n",
    "    for i in range(len(group) - 1):\n",
    "        x1 = df.loc[df[by] == group[0], col]\n",
    "        x2 = df.loc[df[by] == group[i + 1], col]\n",
    "\n",
    "        if transform == 'log':\n",
    "            x1 = np.log(x1)\n",
    "            x2 = np.log(x2)\n",
    "        elif transform == 'boxcox':\n",
    "            x1,_ = stats.boxcox(x1)\n",
    "            x2,_ = stats.boxcox(x2)\n",
    "\n",
    "        _, p = stats.f_oneway(x1, x2)\n",
    "        if p < 0.001:\n",
    "            sign = '***'\n",
    "        elif p < 0.01:\n",
    "            sign = '**'\n",
    "        elif p < 0.05:\n",
    "            sign = '*'\n",
    "        else:\n",
    "            sign = ''\n",
    "\n",
    "        print(\"An F test on samples {} vs {}. {} \\t p-value = {:.2}.\"\n",
    "              .format(group[0], group[i + 1],  sign, p))"
   ]
  },
  {
   "cell_type": "code",
   "execution_count": 158,
   "metadata": {},
   "outputs": [
    {
     "name": "stdout",
     "output_type": "stream",
     "text": [
      "An F test on samples 0.2 vs 2.0.  \t p-value = 0.35.\n",
      "An F test on samples 0.2 vs 16.0.  \t p-value = 0.085.\n",
      "An F test on samples 0.2 vs 32.0. ** \t p-value = 0.0011.\n",
      "An F test on samples 0.2 vs 64.0. ** \t p-value = 0.0031.\n"
     ]
    }
   ],
   "source": [
    "ftest('stiffness', 'ker')"
   ]
  },
  {
   "cell_type": "markdown",
   "metadata": {},
   "source": [
    "## Changes in Vimentin"
   ]
  },
  {
   "cell_type": "code",
   "execution_count": null,
   "metadata": {
    "collapsed": true
   },
   "outputs": [],
   "source": [
    "df.vim.hist(bins=50);"
   ]
  },
  {
   "cell_type": "code",
   "execution_count": null,
   "metadata": {
    "collapsed": true
   },
   "outputs": [],
   "source": [
    "# Choose a cutoff for Vimentin expression\n",
    "cutoff = df.vim.quantile(0.90)\n",
    "print(cutoff)\n",
    "df['highvim'] = np.where(df.vim > cutoff, 1, 0)\n",
    "df.groupby('stiffness').highvim.sum() / df.groupby('stiffness').size() * 100"
   ]
  },
  {
   "cell_type": "markdown",
   "metadata": {},
   "source": [
    "# Relationship to morphology"
   ]
  },
  {
   "cell_type": "markdown",
   "metadata": {},
   "source": [
    "## Expression of Vimentin"
   ]
  },
  {
   "cell_type": "code",
   "execution_count": null,
   "metadata": {
    "collapsed": true
   },
   "outputs": [],
   "source": [
    "palette = sns.color_palette(\"Set3\", 7)"
   ]
  },
  {
   "cell_type": "code",
   "execution_count": null,
   "metadata": {
    "collapsed": true
   },
   "outputs": [],
   "source": [
    "df = measurements_red"
   ]
  },
  {
   "cell_type": "code",
   "execution_count": null,
   "metadata": {
    "collapsed": true
   },
   "outputs": [],
   "source": [
    "# Choose a cutoff for Vimentin expression\n",
    "cutoff = df.meanintensity_vim.quantile(0.90)\n",
    "df['highvim'] = np.where(df.meanintensity_vim >= cutoff, 1, 0)"
   ]
  },
  {
   "cell_type": "code",
   "execution_count": null,
   "metadata": {
    "collapsed": true
   },
   "outputs": [],
   "source": [
    "counts = df.groupby(['stiffness', 'image']).highvim.value_counts().unstack().fillna(0)\n",
    "counts['csum'] = counts.sum(axis=1)\n",
    "counts['perc1'] = counts.iloc[:, 0] / counts.csum * 100\n",
    "counts['perc2'] = counts.iloc[:, 1] / counts.csum * 100\n",
    "counts.reset_index(inplace=True)\n",
    "counts.head()"
   ]
  },
  {
   "cell_type": "code",
   "execution_count": null,
   "metadata": {
    "collapsed": true
   },
   "outputs": [],
   "source": [
    "plt.rcParams['figure.figsize'] = (10, 5)\n",
    "\n",
    "sns.barplot(x='stiffness', y='perc2', \n",
    "            data=counts, palette=palette,\n",
    "            ci='sd', capsize=.1);\n",
    "plt.xlabel(\"Stiffness\");\n",
    "plt.ylabel(\"Percentage\");\n",
    "plt.title(\"Fraction of cells with high vimentin\");\n",
    "# plt.savefig('../results/high Vim.png', bbox_inches='tight', dpi=300);"
   ]
  },
  {
   "cell_type": "code",
   "execution_count": null,
   "metadata": {
    "collapsed": true
   },
   "outputs": [],
   "source": [
    "df[geom_cols].corrwith(df.meanintensity_vim).abs().sort_values(ascending=False).head(10)"
   ]
  },
  {
   "cell_type": "code",
   "execution_count": null,
   "metadata": {
    "collapsed": true
   },
   "outputs": [],
   "source": [
    "df[geom_cols].corrwith(df.meanintensity_vim, method='spearman').abs().sort_values(ascending=False).head(10)"
   ]
  },
  {
   "cell_type": "code",
   "execution_count": null,
   "metadata": {
    "collapsed": true
   },
   "outputs": [],
   "source": [
    "sns.lmplot(x='ncr', y='meanintensity_vim', data=df, fit_reg=True, legend=False);\n",
    "plt.xlabel(\"NCR, a.u.\");\n",
    "plt.ylabel(\"Vimentin Expression, a.u.\");\n",
    "plt.savefig('../results/Vim vs NCR.png', bbox_inches='tight', dpi=300);"
   ]
  },
  {
   "cell_type": "code",
   "execution_count": null,
   "metadata": {
    "collapsed": true
   },
   "outputs": [],
   "source": [
    "sns.lmplot(x='area_cell', y='meanintensity_vim', hue='highvim', data=df, fit_reg=False, legend=False);\n",
    "plt.legend(loc='center', bbox_to_anchor=(0.8, 0.9), fontsize = 'large', \n",
    "           labels=['Below 90th percentile', 'Above 90th percentile']);\n",
    "plt.xlabel(\"Cell area, px\");\n",
    "plt.ylabel(\"Vimentin Expression, a.u.\");\n",
    "plt.title(\"Fraction of cells with high vimentin\");\n",
    "plt.savefig('../results/High vim vs cell area.png', bbox_inches='tight', dpi=300);"
   ]
  },
  {
   "cell_type": "code",
   "execution_count": null,
   "metadata": {
    "collapsed": true
   },
   "outputs": [],
   "source": [
    "sns.lmplot(x='minferetdiameter_cell', y='meanintensity_vim', hue='highvim', data=df, fit_reg=False);"
   ]
  },
  {
   "cell_type": "code",
   "execution_count": null,
   "metadata": {
    "collapsed": true
   },
   "outputs": [],
   "source": [
    "sns.lmplot(x='formfactor_cell', y='meanintensity_vim', hue='highvim', data=df, fit_reg=False);"
   ]
  },
  {
   "cell_type": "code",
   "execution_count": null,
   "metadata": {
    "collapsed": true
   },
   "outputs": [],
   "source": [
    "df[geom_cols].corrwith(df.highvim, method='spearman').abs().sort_values(ascending=False).head(10)"
   ]
  },
  {
   "cell_type": "code",
   "execution_count": null,
   "metadata": {
    "collapsed": true
   },
   "outputs": [],
   "source": [
    "plt.rcParams['figure.figsize'] = (5, 5)\n",
    "sns.boxplot(x=df.highvim, y=df.area_cell);"
   ]
  },
  {
   "cell_type": "code",
   "execution_count": null,
   "metadata": {
    "collapsed": true
   },
   "outputs": [],
   "source": [
    "sns.boxplot(x=df.highvim, y=df.area_cell);"
   ]
  },
  {
   "cell_type": "markdown",
   "metadata": {},
   "source": [
    "## Expression of Cytokeratins"
   ]
  },
  {
   "cell_type": "code",
   "execution_count": null,
   "metadata": {
    "collapsed": true
   },
   "outputs": [],
   "source": [
    "df['highker'] = np.where(df.meanintensity_ker > df.meanintensity_ker.quantile(0.9), 1, 0)"
   ]
  },
  {
   "cell_type": "code",
   "execution_count": null,
   "metadata": {
    "collapsed": true
   },
   "outputs": [],
   "source": [
    "counts = df.groupby(['stiffness', 'image']).highker.value_counts().unstack().fillna(0)\n",
    "counts['csum'] = counts.sum(axis=1)\n",
    "counts.head()"
   ]
  },
  {
   "cell_type": "code",
   "execution_count": null,
   "metadata": {
    "collapsed": true
   },
   "outputs": [],
   "source": [
    "counts['perc1'] = counts.iloc[:, 0] / counts.csum * 100\n",
    "counts['perc2'] = counts.iloc[:, 1] / counts.csum * 100\n",
    "counts.reset_index(inplace=True)\n",
    "counts.head()"
   ]
  },
  {
   "cell_type": "code",
   "execution_count": null,
   "metadata": {
    "collapsed": true
   },
   "outputs": [],
   "source": [
    "plt.rcParams['figure.figsize'] = (10, 5)\n",
    "\n",
    "sns.barplot(x='stiffness', y='perc2', \n",
    "            data=counts, palette=palette,\n",
    "            ci='sd', capsize=.1);\n",
    "plt.xlabel(\"Stiffness\");\n",
    "plt.ylabel(\"Percentage\");\n",
    "plt.title(\"Percentage of cells with high cytokeratins\");"
   ]
  },
  {
   "cell_type": "code",
   "execution_count": null,
   "metadata": {
    "collapsed": true
   },
   "outputs": [],
   "source": [
    "df[geom_cols].corrwith(df.meanintensity_ker, method='spearman').abs().sort_values(ascending=False).head(10)"
   ]
  },
  {
   "cell_type": "code",
   "execution_count": null,
   "metadata": {
    "collapsed": true
   },
   "outputs": [],
   "source": [
    "sns.lmplot(x='perimeter_cell', y='meanintensity_ker', hue='highker', data=df, fit_reg=False);"
   ]
  },
  {
   "cell_type": "code",
   "execution_count": null,
   "metadata": {
    "collapsed": true
   },
   "outputs": [],
   "source": [
    "plt.rcParams['figure.figsize'] = (5, 5)\n",
    "sns.boxplot(x=df.highker, y=df.perimeter_cell);"
   ]
  },
  {
   "cell_type": "code",
   "execution_count": null,
   "metadata": {
    "collapsed": true
   },
   "outputs": [],
   "source": [
    "sns.boxplot(x='stiffness', y='area_cell', data=df);"
   ]
  },
  {
   "cell_type": "code",
   "execution_count": null,
   "metadata": {
    "collapsed": true
   },
   "outputs": [],
   "source": [
    "sns.boxplot(x='stiffness', y='formfactor_cell', data=df);"
   ]
  },
  {
   "cell_type": "markdown",
   "metadata": {},
   "source": [
    "## Correlation with log(ratio)"
   ]
  },
  {
   "cell_type": "code",
   "execution_count": null,
   "metadata": {
    "collapsed": true
   },
   "outputs": [],
   "source": [
    "geom_cols = [col for col in morph_cols if 'dapi' not in col and 'wga' not in col]\n",
    "\n",
    "\n",
    "p_corr = measurements[geom_cols].corrwith(measurements.log_ratio)\n",
    "\n",
    "sns.set(rc={'figure.figsize':(15, 2)})\n",
    "\n",
    "sns.heatmap(pd.DataFrame(p_corr, columns=['Pearsons']).T, \n",
    "            cmap=sns.color_palette(\"RdBu_r\", 100), \n",
    "            vmin=-1, vmax=1);"
   ]
  },
  {
   "cell_type": "code",
   "execution_count": null,
   "metadata": {
    "collapsed": true
   },
   "outputs": [],
   "source": [
    "abs(p_corr).sort_values(ascending=False).head(10)"
   ]
  },
  {
   "cell_type": "code",
   "execution_count": null,
   "metadata": {
    "collapsed": true
   },
   "outputs": [],
   "source": [
    "s_corr = measurements[geom_cols].corrwith(measurements.log_ratio, method='spearman')\n",
    "\n",
    "sns.set(rc={'figure.figsize':(15, 2)})\n",
    "\n",
    "sns.heatmap(pd.DataFrame(s_corr, columns=['Spearmans']).T, \n",
    "            cmap=sns.color_palette(\"RdBu_r\", 100), \n",
    "            vmin=-1, vmax=1);"
   ]
  },
  {
   "cell_type": "code",
   "execution_count": null,
   "metadata": {
    "collapsed": true
   },
   "outputs": [],
   "source": [
    "top_s_corr_features = abs(s_corr).sort_values(ascending=False).head(10).index\n",
    "sns.pairplot(pd.concat([measurements[top_s_corr_features], \n",
    "                        measurements.log_ratio], \n",
    "                       axis=1));"
   ]
  },
  {
   "cell_type": "markdown",
   "metadata": {},
   "source": [
    "###### Linear Regression"
   ]
  },
  {
   "cell_type": "code",
   "execution_count": null,
   "metadata": {
    "collapsed": true
   },
   "outputs": [],
   "source": [
    "X = measurements[morph_cols]\n",
    "y = measurements.log_ratio\n",
    "\n",
    "X_train, X_test, y_train, y_test = train_test_split(X, y)\n",
    "print(X_train.shape, X_test.shape)\n",
    "\n",
    "scaler = StandardScaler()\n",
    "X_train_scaled = scaler.fit_transform(X_train)s\n",
    "X_test_scaled = scaler.transform(X_test)\n",
    "\n",
    "lin_reg = LinearRegression()\n",
    "lin_reg.fit(X_train_scaled, y_train)\n",
    "\n",
    "y_pred = lin_reg.predict(X_test_scaled)\n",
    "rmse_test = np.sqrt(mean_squared_error(y_test, y_pred))\n",
    "print(\"Testing RMSE:\", rmse_test)\n",
    "\n",
    "print(\"Null RMSE:\", np.sqrt(mean_squared_error(y_test, y_test.apply(lambda x: np.median(y_train)))))"
   ]
  },
  {
   "cell_type": "markdown",
   "metadata": {},
   "source": [
    "###### Polynomial regression"
   ]
  },
  {
   "cell_type": "code",
   "execution_count": null,
   "metadata": {
    "collapsed": true
   },
   "outputs": [],
   "source": [
    "X = pd.to_numeric(measurements.stiffness).values.reshape(-1, 1)\n",
    "y = measurements.log_ratio\n",
    "\n",
    "poly_features = PolynomialFeatures(degree=3)\n",
    "X_poly = poly_features.fit_transform(X)\n",
    "\n",
    "X_train, X_test, y_train, y_test = train_test_split(X_poly, y)\n",
    "print(X_train.shape, X_test.shape)\n",
    "\n",
    "scaler = StandardScaler()\n",
    "X_train_scaled = scaler.fit_transform(X_train)\n",
    "X_test_scaled = scaler.transform(X_test)\n",
    "\n",
    "lasso_reg = Lasso(alpha=0.001)\n",
    "lasso_reg.fit(X_train_scaled, y_train)\n",
    "\n",
    "y_pred = lasso_reg.predict(X_test_scaled)\n",
    "rmse_test = np.sqrt(mean_squared_error(y_test, y_pred))\n",
    "print(\"Testing RMSE:\", rmse_test)\n",
    "\n",
    "print(\"Null RMSE:\", np.sqrt(mean_squared_error(y_test, y_test.apply(lambda x: np.median(y_train)))))\n",
    "\n",
    "lasso_reg.coef_"
   ]
  },
  {
   "cell_type": "code",
   "execution_count": null,
   "metadata": {
    "collapsed": true
   },
   "outputs": [],
   "source": [
    "measurements['stiffness_num'] = pd.to_numeric(measurements.stiffness)\n",
    "sns.lmplot(x='stiffness_num', y='log_ratio', data=measurements, order=3, height=7, truncate=True);"
   ]
  },
  {
   "cell_type": "markdown",
   "metadata": {},
   "source": [
    "###### Random Forest regressor"
   ]
  },
  {
   "cell_type": "code",
   "execution_count": null,
   "metadata": {
    "collapsed": true
   },
   "outputs": [],
   "source": [
    "geom_cols = [col for col in morph_cols if 'dapi' not in col and 'wga' not in col]\n",
    "cell_cols = [col for col in morph_cols if 'cell' in col]"
   ]
  },
  {
   "cell_type": "code",
   "execution_count": null,
   "metadata": {
    "collapsed": true
   },
   "outputs": [],
   "source": [
    "X = measurements[morph_cols]\n",
    "y = np.log(measurements.meanintensity_vim)\n",
    "\n",
    "X_train, X_test, y_train, y_test = train_test_split(X, y)\n",
    "print(X_train.shape, X_test.shape)\n",
    "\n",
    "scaler = StandardScaler()\n",
    "X_train_scaled = scaler.fit_transform(X_train)\n",
    "X_test_scaled = scaler.transform(X_test)\n",
    "\n",
    "rf_reg = RandomForestRegressor(n_estimators=1000, max_features=10)\n",
    "rf_reg.fit(X_train_scaled, y_train)\n",
    "\n",
    "y_pred = rf_reg.predict(X_test_scaled)\n",
    "rmse_test = np.sqrt(mean_squared_error(y_test, y_pred))\n",
    "print(\"Testing RMSE:\", rmse_test)\n",
    "\n",
    "print(\"Null RMSE:\", np.sqrt(mean_squared_error(y_test, y_test.apply(lambda x: np.median(y_train)))))"
   ]
  },
  {
   "cell_type": "code",
   "execution_count": null,
   "metadata": {
    "collapsed": true,
    "scrolled": false
   },
   "outputs": [],
   "source": [
    "feature_importance = zip(X.columns, rf_reg.feature_importances_)\n",
    "\n",
    "print(\"\\nFeature importances:\")\n",
    "for col, weight in feature_importance:\n",
    "    if (weight > 0.02):\n",
    "        print(col, weight)\n",
    "\n",
    "importances = rf_reg.feature_importances_\n",
    "std = np.std([tree.feature_importances_ for tree in rf_reg.estimators_], axis=0)\n",
    "indices = np.argsort(importances)[::-1]\n",
    "\n",
    "# Print the feature ranking\n",
    "print(\"Feature ranking:\")\n",
    "\n",
    "for f in range(10):\n",
    "    print(\"%d. feature %d: (%f)\" % (f + 1, indices[f], importances[indices[f]]))\n",
    "\n",
    "# Plot the feature importances of the forest\n",
    "plt.figure()\n",
    "plt.title(\"Feature importances\")\n",
    "plt.bar(range(X.shape[1]), importances[indices],\n",
    "       color=\"r\", yerr=std[indices], align=\"center\")\n",
    "plt.xticks(range(X.shape[1]), indices)\n",
    "plt.xlim([-1, X.shape[1]])\n",
    "plt.show()"
   ]
  },
  {
   "cell_type": "code",
   "execution_count": null,
   "metadata": {
    "collapsed": true
   },
   "outputs": [],
   "source": [
    "measurements['log_ker'] = np.log(measurements.meanintensity_ker)\n",
    "measurements['log_vim'] = np.log(measurements.meanintensity_vim)\n",
    "sns.lmplot(x='log_vim', y='area_cell', data=measurements, order=1, height=7);"
   ]
  },
  {
   "cell_type": "markdown",
   "metadata": {},
   "source": [
    "###### Split ratio values into \"low\", \"medium\" and \"high\""
   ]
  },
  {
   "cell_type": "code",
   "execution_count": null,
   "metadata": {
    "collapsed": true
   },
   "outputs": [],
   "source": [
    "def phenotype(df, use, cols=('meanintensity_ker', 'meanintensity_vim')):\n",
    "    if use=='log_ratio':\n",
    "        df['log_ratio'] = np.log(df[cols[0]]/df[cols[1]])\n",
    "        q1 = df.log_ratio.quantile(0.33)\n",
    "        q3 = df.log_ratio.quantile(0.66)\n",
    "        df['region'] = pd.cut(df.log_ratio, \n",
    "                             bins=(df.log_ratio.min(), q1, q3, df.log_ratio.max()), \n",
    "                             labels=[\"low\", \"med\", \"high\"], include_lowest=True)\n",
    "    elif use=='log_biom':\n",
    "        df['log_ker'] = np.log(df[cols[0]])\n",
    "        df['log_vim'] = np.log(df[cols[1]])\n",
    "        df['region'] = \"low\"\n",
    "        df.loc[(df.log_ker < df.log_ker.median()) &\n",
    "                         (df.log_vim > df.log_vim.median()), 'region'] = \"high vim\"\n",
    "        df.loc[(df.log_ker > df.log_ker.median()) &\n",
    "                         (df.log_vim < df.log_vim.median()), 'region'] = \"high ker\"\n",
    "        df.loc[(df.log_ker > df.log_ker.median()) &\n",
    "                         (df.log_vim > df.log_vim.median()), 'region'] = \"high\""
   ]
  },
  {
   "cell_type": "code",
   "execution_count": null,
   "metadata": {
    "collapsed": true
   },
   "outputs": [],
   "source": [
    "phenotype(df, use='log_ratio', cols=('ker', 'vim'))"
   ]
  },
  {
   "cell_type": "code",
   "execution_count": null,
   "metadata": {
    "collapsed": true
   },
   "outputs": [],
   "source": [
    "sns.set(rc={'figure.figsize':(12, 8)})\n",
    "\n",
    "sns.scatterplot(x='vim', y='ker', data=df, \n",
    "                hue='region', s=50,\n",
    "                palette=sns.color_palette(\"Set1\", 3));"
   ]
  },
  {
   "cell_type": "code",
   "execution_count": null,
   "metadata": {
    "collapsed": true
   },
   "outputs": [],
   "source": [
    "df.groupby('stiffness')['region'].value_counts().unstack().plot(kind='bar', stacked=True, legend=False);\n",
    "plt.legend(loc='center left', bbox_to_anchor=(1, 0.5), fontsize = 'large');"
   ]
  },
  {
   "cell_type": "markdown",
   "metadata": {},
   "source": [
    "###### Split ker and vim values into \"low\" and \"high\""
   ]
  },
  {
   "cell_type": "code",
   "execution_count": null,
   "metadata": {
    "collapsed": true
   },
   "outputs": [],
   "source": [
    "sns.set(rc={'figure.figsize':(12, 8)})\n",
    "\n",
    "sns.scatterplot(x='log_vim', y='log_ker', data=df, \n",
    "                hue='stiffness', s=50,\n",
    "                palette=sns.color_palette(\"Set3\", 7));"
   ]
  },
  {
   "cell_type": "code",
   "execution_count": null,
   "metadata": {
    "collapsed": true
   },
   "outputs": [],
   "source": [
    "proc.phenotype(df, use='log_biom', cols=('ker', 'vim'))"
   ]
  },
  {
   "cell_type": "code",
   "execution_count": null,
   "metadata": {
    "collapsed": true
   },
   "outputs": [],
   "source": [
    "sns.scatterplot(x='vim', y='ker', data=df, \n",
    "                hue='region', s=50,\n",
    "                palette=sns.color_palette(\"Set1\", 4));"
   ]
  },
  {
   "cell_type": "code",
   "execution_count": null,
   "metadata": {
    "collapsed": true
   },
   "outputs": [],
   "source": [
    "df.groupby('stiffness')['region'].value_counts().unstack().plot(kind='bar', stacked=True, legend=False);\n",
    "plt.legend(loc='center left', bbox_to_anchor=(1, 0.5), fontsize = 'large');"
   ]
  },
  {
   "cell_type": "markdown",
   "metadata": {},
   "source": [
    "###### Random Forest Classifier"
   ]
  },
  {
   "cell_type": "code",
   "execution_count": null,
   "metadata": {
    "collapsed": true
   },
   "outputs": [],
   "source": [
    "proc.phenotype(measurements, use='log_ratio')\n",
    "region_num = {'low':0, 'med':1, 'high':2}\n",
    "# region_num = {'low':0, 'high ker':1, 'high vim':2, 'high':3}"
   ]
  },
  {
   "cell_type": "code",
   "execution_count": null,
   "metadata": {
    "collapsed": true
   },
   "outputs": [],
   "source": [
    "X = measurements[morph_cols]\n",
    "y = measurements.region.map(region_num)\n",
    "\n",
    "X_train, X_test, y_train, y_test = train_test_split(X, y)\n",
    "print(X_train.shape, X_test.shape)\n",
    "\n",
    "scaler = StandardScaler()\n",
    "X_train_scaled = scaler.fit_transform(X_train)\n",
    "X_test_scaled = scaler.transform(X_test)\n",
    "\n",
    "rf_clf = RandomForestClassifier(n_estimators=1000)\n",
    "rf_clf.fit(X_train_scaled, y_train)\n",
    "\n",
    "y_pred = rf_clf.predict(X_test_scaled)\n",
    "acc_test = accuracy_score(y_test, y_pred)\n",
    "print(\"Testing accuraccy:\", acc_test)\n",
    "print(\"Testing f-score:\", f1_score(y_test, y_pred, average='macro'))\n",
    "\n",
    "most_freq_class = y_train.value_counts().index[0]\n",
    "print(\"Most frequent class:\", most_freq_class)\n",
    "\n",
    "n_most_freq = y_test.value_counts()[most_freq_class]\n",
    "print(\"Null accuraccy:\", n_most_freq / len(y_test))"
   ]
  },
  {
   "cell_type": "code",
   "execution_count": null,
   "metadata": {
    "collapsed": true
   },
   "outputs": [],
   "source": [
    "# labels = y_test.unique().sort_values()\n",
    "labels = sorted(y_test.unique())\n",
    "confusion = confusion_matrix(y_test, y_pred, labels=labels)\n",
    "confusion_df = pd.DataFrame(confusion, columns=labels, index=labels)\n",
    "confusion_df"
   ]
  },
  {
   "cell_type": "code",
   "execution_count": null,
   "metadata": {
    "collapsed": true
   },
   "outputs": [],
   "source": [
    "feature_importance = zip(X.columns, rf_clf.feature_importances_)\n",
    "\n",
    "print(\"\\nFeature importances:\")\n",
    "for col, weight in feature_importance:\n",
    "    if (weight > 0.02):\n",
    "        print(col, weight)\n",
    "\n",
    "importances = rf_clf.feature_importances_\n",
    "std = np.std([tree.feature_importances_ for tree in rf_clf.estimators_], axis=0)\n",
    "indices = np.argsort(importances)[::-1]\n",
    "\n",
    "# Print the feature ranking\n",
    "print(\"Feature ranking:\")\n",
    "\n",
    "for f in range(10):\n",
    "    print(\"%d. feature %d: (%f)\" % (f + 1, indices[f], importances[indices[f]]))\n",
    "\n",
    "# Plot the feature importances of the forest\n",
    "plt.figure()\n",
    "plt.title(\"Feature importances\")\n",
    "plt.bar(range(X.shape[1]), importances[indices],\n",
    "       color=\"r\", yerr=std[indices], align=\"center\")\n",
    "plt.xticks(range(X.shape[1]), indices)\n",
    "plt.xlim([-1, X.shape[1]])\n",
    "plt.show()"
   ]
  },
  {
   "cell_type": "markdown",
   "metadata": {},
   "source": [
    "###### Standartise data"
   ]
  },
  {
   "cell_type": "code",
   "execution_count": null,
   "metadata": {
    "collapsed": true
   },
   "outputs": [],
   "source": [
    "df['ratio'] = df.ker / df.vim\n",
    "X = df[['ker', 'vim', 'ratio']]\n",
    "\n",
    "scaler = StandardScaler()\n",
    "X_scaled = scaler.fit_transform(X)\n",
    "\n",
    "df = pd.concat([df, pd.DataFrame(X_scaled, columns=['ker_scaled', 'vim_scaled', 'ratio_scaled'])], axis=1)\n",
    "print(X_scaled.shape)"
   ]
  },
  {
   "cell_type": "code",
   "execution_count": null,
   "metadata": {
    "collapsed": true
   },
   "outputs": [],
   "source": [
    "plt.rcParams['figure.figsize'] = (15, 5)\n",
    "sns.boxplot(x=df.stiffness, y=df.ker_scaled, palette=palette);"
   ]
  },
  {
   "cell_type": "code",
   "execution_count": null,
   "metadata": {
    "collapsed": true
   },
   "outputs": [],
   "source": [
    "df.hist(column='ker_scaled', by='stiffness', bins=20, \n",
    "                sharex=True, sharey=True, \n",
    "                layout=(2, 4), figsize=(20, 6));\n",
    "plt.tight_layout()"
   ]
  },
  {
   "cell_type": "code",
   "execution_count": null,
   "metadata": {
    "collapsed": true
   },
   "outputs": [],
   "source": [
    "sns.boxplot(x=df.stiffness, y=df.vim_scaled, palette=palette);"
   ]
  },
  {
   "cell_type": "code",
   "execution_count": null,
   "metadata": {
    "collapsed": true
   },
   "outputs": [],
   "source": [
    "df.hist(column='vim_scaled', by='stiffness', bins=20, \n",
    "                sharex=True, sharey=True, \n",
    "                layout=(2, 4), figsize=(20, 6));\n",
    "plt.tight_layout()"
   ]
  },
  {
   "cell_type": "code",
   "execution_count": null,
   "metadata": {
    "collapsed": true
   },
   "outputs": [],
   "source": [
    "sns.boxplot(x=df.stiffness, y=df.ker_scaled/df.vim_scaled, palette=palette);"
   ]
  },
  {
   "cell_type": "code",
   "execution_count": null,
   "metadata": {
    "collapsed": true
   },
   "outputs": [],
   "source": [
    "sns.boxplot(x=df.stiffness, y=df.ratio_scaled, palette=palette);"
   ]
  },
  {
   "cell_type": "markdown",
   "metadata": {},
   "source": [
    "### Cytokeratin to Vimentin ratio"
   ]
  },
  {
   "cell_type": "code",
   "execution_count": null,
   "metadata": {
    "collapsed": true
   },
   "outputs": [],
   "source": [
    "biomarkers['ratio'] = biomarkers.meanintensity_ker / biomarkers.meanintensity_vim"
   ]
  },
  {
   "cell_type": "code",
   "execution_count": null,
   "metadata": {
    "collapsed": true
   },
   "outputs": [],
   "source": [
    "sns.barplot(x=biomarkers.stiffness, y=biomarkers.ratio, \n",
    "            estimator=np.mean, ci='sd', capsize=.1, palette=palette);\n",
    "plt.xlabel(\"Stiffness, kPa\")\n",
    "plt.ylabel(\"Mean of the ratio\")\n",
    "plt.title(\"Ratio of Cytokeratin to Vimentin\");\n",
    "# plt.savefig('../results/Ker to Vim ratio syn.png', bbox_inches='tight', dpi=300);"
   ]
  },
  {
   "cell_type": "code",
   "execution_count": null,
   "metadata": {
    "collapsed": true
   },
   "outputs": [],
   "source": [
    "sns.boxplot(x=biomarkers.stiffness, y=biomarkers.ratio, palette=palette);\n",
    "plt.xlabel(\"Stiffness, kPa\")\n",
    "plt.ylabel(\"Maximum value\")\n",
    "plt.title(\"Ratio of Cytokeratin to Vimentin\");"
   ]
  },
  {
   "cell_type": "code",
   "execution_count": null,
   "metadata": {
    "collapsed": true
   },
   "outputs": [],
   "source": [
    "biomarkers.groupby('stiffness').ratio.quantile(0.75).plot(kind='bar');"
   ]
  },
  {
   "cell_type": "code",
   "execution_count": null,
   "metadata": {
    "collapsed": true
   },
   "outputs": [],
   "source": [
    "sns.set(rc={'figure.figsize':(8, 8)})\n",
    "sns.scatterplot(x='meanintensity_vim', y='meanintensity_ker', data=biomarkers, \n",
    "                hue='stiffness', palette=palette);"
   ]
  },
  {
   "cell_type": "markdown",
   "metadata": {},
   "source": [
    "#### Histograms"
   ]
  },
  {
   "cell_type": "code",
   "execution_count": null,
   "metadata": {
    "collapsed": true
   },
   "outputs": [],
   "source": [
    "plt.rcParams['figure.figsize'] = (15, 6)\n",
    "biomarkers.ratio.hist(bins = 100);\n",
    "plt.xlabel(\"Value\")\n",
    "plt.ylabel(\"Count\")\n",
    "plt.title(\"Histogram of Cytokeratin to Vimentin Ratio\");\n",
    "# plt.savefig('../results/Ker to Vim ratio syn hist.png', bbox_inches='tight', dpi=300);"
   ]
  },
  {
   "cell_type": "code",
   "execution_count": null,
   "metadata": {
    "collapsed": true
   },
   "outputs": [],
   "source": [
    "biomarkers.hist(column='ratio', by='stiffness', bins=20, \n",
    "                sharex=False, sharey=True, \n",
    "                layout=(2, 4), figsize=(20, 6));\n",
    "plt.tight_layout()\n",
    "# plt.savefig('../results/Ker to Vim ratio syn hist by stiffness.png', bbox_inches='tight', dpi=300);"
   ]
  },
  {
   "cell_type": "code",
   "execution_count": null,
   "metadata": {
    "collapsed": true
   },
   "outputs": [],
   "source": [
    "sns.boxplot(x=biomarkers.stiffness, y=biomarkers.meanintensity_ker);"
   ]
  },
  {
   "cell_type": "code",
   "execution_count": null,
   "metadata": {
    "collapsed": true
   },
   "outputs": [],
   "source": [
    "biomarkers.hist(column='meanintensity_ker', by='stiffness', bins=20, \n",
    "                sharex=False, sharey=True, \n",
    "                layout=(2, 4), figsize=(20, 6));\n",
    "plt.tight_layout()"
   ]
  },
  {
   "cell_type": "code",
   "execution_count": null,
   "metadata": {
    "collapsed": true
   },
   "outputs": [],
   "source": [
    "sns.boxplot(x=biomarkers.stiffness, y=biomarkers.meanintensity_vim);"
   ]
  },
  {
   "cell_type": "code",
   "execution_count": null,
   "metadata": {
    "collapsed": true
   },
   "outputs": [],
   "source": [
    "biomarkers.hist(column='meanintensity_vim', by='stiffness', bins=20, \n",
    "                sharex=False, sharey=True, \n",
    "                layout=(2, 4), figsize=(20, 6));\n",
    "plt.tight_layout()"
   ]
  },
  {
   "cell_type": "code",
   "execution_count": null,
   "metadata": {
    "collapsed": true
   },
   "outputs": [],
   "source": [
    "biomarkers[biomarkers.stiffness==\"32.0\"].hist(column='ratio', bins=20, figsize=(8, 6));"
   ]
  },
  {
   "cell_type": "markdown",
   "metadata": {},
   "source": [
    "###### Log transform `ratio`"
   ]
  },
  {
   "cell_type": "code",
   "execution_count": null,
   "metadata": {
    "collapsed": true
   },
   "outputs": [],
   "source": [
    "biomarkers['log_ratio'] = np.log(biomarkers.ratio)"
   ]
  },
  {
   "cell_type": "code",
   "execution_count": null,
   "metadata": {
    "collapsed": true
   },
   "outputs": [],
   "source": [
    "sns.barplot(x=biomarkers.stiffness, y=biomarkers.log_ratio, \n",
    "            estimator=np.median, ci=None, capsize=.1);\n",
    "plt.xlabel(\"Stiffness, kPa\")\n",
    "plt.ylabel(\"Median of the ln(ratio)\")\n",
    "plt.title(\"Ratio of Cytokeratin to Vimentin\");\n",
    "# plt.savefig('../results/Ker to Vim ratio.png', bbox_inches='tight', dpi=300);"
   ]
  },
  {
   "cell_type": "code",
   "execution_count": null,
   "metadata": {
    "collapsed": true
   },
   "outputs": [],
   "source": [
    "biomarkers.log_ratio.hist(bins = 100);\n",
    "plt.xlabel(\"Value\")\n",
    "plt.ylabel(\"Count\")\n",
    "plt.title(\"Histogram of logarithm of Cytokeratin to Vimentin Ratio\");\n",
    "# plt.savefig('../results/Ker to Vim ratio hist.png', bbox_inches='tight', dpi=300);"
   ]
  },
  {
   "cell_type": "markdown",
   "metadata": {},
   "source": [
    "#### Classification using Random Forest\n",
    "The distribution of Ker/Vim ratio is bimodal at 16 kPa. Can we predict the ratio and find out which morphological features are highly associated with it?"
   ]
  },
  {
   "cell_type": "code",
   "execution_count": null,
   "metadata": {
    "collapsed": true
   },
   "outputs": [],
   "source": [
    "stiff16 = measurements.loc[measurements.stiffness=='32.0']\n",
    "X = stiff16[morph_cols]\n",
    "y = np.where((stiff16.meanintensity_ker / stiff16.meanintensity_vim) < 3, 0, 1)\n",
    " \n",
    "print(\"Initial X, y shapes:\", X.shape, y.shape)\n",
    "\n",
    "X_train, X_test, y_train, y_test = train_test_split(X, y)\n",
    "print(\"X_train and X_test shapes:\", X_train.shape, X_test.shape)\n",
    "\n",
    "rfc = RandomForestClassifier(n_estimators=100)\n",
    "rfc.fit(X_train, y_train)\n",
    "\n",
    "y_pred = rfc.predict(X_test)\n",
    "print(\"Testing accuraccy:\", accuracy_score(y_test, y_pred))\n",
    "print(\"Testing f-score:\", f1_score(y_test, y_pred, average='macro'))\n",
    "\n",
    "feature_importance = zip(feature_cols, rfc.feature_importances_)\n",
    "\n",
    "print(\"\\nRF feature importance:\\n\")\n",
    "for col, weight in feature_importance:\n",
    "    if (weight > 0.03):\n",
    "        print(col, weight)"
   ]
  },
  {
   "cell_type": "markdown",
   "metadata": {},
   "source": [
    "### Clustering"
   ]
  },
  {
   "cell_type": "code",
   "execution_count": null,
   "metadata": {
    "collapsed": true
   },
   "outputs": [],
   "source": [
    "# Create a feature map\n",
    "X = measurements[measurements.stiffness=='16.0'].reset_index().drop('index', axis=1)\n",
    "\n",
    "# Standartise the data\n",
    "scaler = StandardScaler()\n",
    "X_scaled = scaler.fit_transform(X[feature_cols])\n",
    "\n",
    "measurements_scaled = pd.concat([X[meta_cols],\n",
    "                                 pd.DataFrame(data = X_scaled, columns = feature_cols)], \n",
    "                                axis=1)"
   ]
  },
  {
   "cell_type": "code",
   "execution_count": null,
   "metadata": {
    "collapsed": true
   },
   "outputs": [],
   "source": [
    "measurements_scaled['ratio'] = X.meanintensity_ker / X.meanintensity_vim\n",
    "measurements_scaled['ratio_bin'] = np.where(measurements_scaled.ratio < 4, 0, 1)\n",
    "\n",
    "my_palette = dict(zip(measurements_scaled.ratio_bin.unique(), sns.color_palette(\"Set3\", 2)))\n",
    "row_colors = measurements_scaled.ratio_bin.map(my_palette)\n",
    "\n",
    "\n",
    "sns.clustermap(measurements_scaled[feature_cols], \n",
    "               metric='euclidean', method='ward', \n",
    "               col_cluster=False,\n",
    "               cmap=sns.color_palette('RdBu_r', 100), robust=True,\n",
    "               row_colors=row_colors);            "
   ]
  },
  {
   "cell_type": "code",
   "execution_count": null,
   "metadata": {
    "collapsed": true
   },
   "outputs": [],
   "source": [
    "measurements_scaled['ratio'].hist(bins=20, figsize=(8, 6));"
   ]
  },
  {
   "cell_type": "markdown",
   "metadata": {},
   "source": [
    "#### Linear Regression"
   ]
  },
  {
   "cell_type": "code",
   "execution_count": null,
   "metadata": {
    "collapsed": true
   },
   "outputs": [],
   "source": [
    "from sklearn.model_selection import train_test_split\n",
    "from sklearn.preprocessing import StandardScaler, PolynomialFeatures\n",
    "from sklearn.linear_model import LinearRegression\n",
    "from sklearn.metrics import mean_squared_error\n",
    "\n",
    "X = np.array(pd.to_numeric(intensity.stiffness))\n",
    "y = intensity.norm_ratio\n",
    "\n",
    "X.shape, y.shape"
   ]
  },
  {
   "cell_type": "code",
   "execution_count": null,
   "metadata": {
    "collapsed": true
   },
   "outputs": [],
   "source": [
    "X_train, X_test, y_train, y_test = train_test_split(X, y, random_state=1)\n",
    "\n",
    "X_train = X_train.reshape((-1, 1))\n",
    "X_test = X_test.reshape((-1, 1))\n",
    "\n",
    "X_train.shape, X_test.shape"
   ]
  },
  {
   "cell_type": "code",
   "execution_count": null,
   "metadata": {
    "collapsed": true
   },
   "outputs": [],
   "source": [
    "scaler = StandardScaler()\n",
    "X_train_scaled = scaler.fit_transform(X_train)\n",
    "X_test_scaled = scaler.transform(X_test)"
   ]
  },
  {
   "cell_type": "code",
   "execution_count": null,
   "metadata": {
    "collapsed": true
   },
   "outputs": [],
   "source": [
    "lin_reg = LinearRegression()\n",
    "lin_reg.fit(X_train_scaled, y_train)\n",
    "lin_reg.intercept_, lin_reg.coef_"
   ]
  },
  {
   "cell_type": "code",
   "execution_count": null,
   "metadata": {
    "collapsed": true
   },
   "outputs": [],
   "source": [
    "y_pred = lin_reg.predict(X_test_scaled)\n",
    "mse = mean_squared_error(y_test, y_pred)\n",
    "np.sqrt(mse)"
   ]
  },
  {
   "cell_type": "markdown",
   "metadata": {},
   "source": [
    "#### Polynomial regression"
   ]
  },
  {
   "cell_type": "code",
   "execution_count": null,
   "metadata": {
    "collapsed": true
   },
   "outputs": [],
   "source": [
    "poly_features = PolynomialFeatures(degree=2, include_bias=False)\n",
    "\n",
    "X_train_poly = poly_features.fit_transform(X_train)\n",
    "X_test_poly = poly_features.fit_transform(X_test)\n",
    "\n",
    "X_train_poly.shape, X_test_poly.shape"
   ]
  },
  {
   "cell_type": "code",
   "execution_count": null,
   "metadata": {
    "collapsed": true
   },
   "outputs": [],
   "source": [
    "scaler = StandardScaler()\n",
    "X_train_scaled = scaler.fit_transform(X_train_poly)\n",
    "X_test_scaled = scaler.transform(X_test_poly)"
   ]
  },
  {
   "cell_type": "code",
   "execution_count": null,
   "metadata": {
    "collapsed": true
   },
   "outputs": [],
   "source": [
    "lin_reg = LinearRegression()\n",
    "lin_reg.fit(X_train_scaled, y_train)\n",
    "lin_reg.intercept_, lin_reg.coef_"
   ]
  },
  {
   "cell_type": "code",
   "execution_count": null,
   "metadata": {
    "collapsed": true
   },
   "outputs": [],
   "source": [
    "y_pred = lin_reg.predict(X_test_scaled)\n",
    "mse = mean_squared_error(y_test, y_pred)\n",
    "np.sqrt(mse)"
   ]
  },
  {
   "cell_type": "code",
   "execution_count": null,
   "metadata": {
    "collapsed": true
   },
   "outputs": [],
   "source": [
    "stiffness = [0.2, 0.5, 2.0, 8.0, 16.0, 32.0, 64.0]"
   ]
  },
  {
   "cell_type": "markdown",
   "metadata": {},
   "source": [
    "#### K-Means"
   ]
  },
  {
   "cell_type": "code",
   "execution_count": null,
   "metadata": {
    "collapsed": true
   },
   "outputs": [],
   "source": [
    "from sklearn import metrics\n",
    "from sklearn.preprocessing import StandardScaler\n",
    "from sklearn.cluster import KMeans, DBSCAN, AgglomerativeClustering\n",
    "\n",
    "#X = np.array(intensity.norm_ratio).reshape((-1, 1))\n",
    "X = np.array(intensity[['normintensity_ker', 'normintensity_vim']])"
   ]
  },
  {
   "cell_type": "code",
   "execution_count": null,
   "metadata": {
    "collapsed": true
   },
   "outputs": [],
   "source": [
    "scaler = StandardScaler()\n",
    "X_scaled = scaler.fit_transform(X)"
   ]
  },
  {
   "cell_type": "code",
   "execution_count": null,
   "metadata": {
    "collapsed": true
   },
   "outputs": [],
   "source": [
    "km = KMeans(n_clusters=3, random_state=1)\n",
    "km.fit(X_scaled)"
   ]
  },
  {
   "cell_type": "code",
   "execution_count": null,
   "metadata": {
    "collapsed": true
   },
   "outputs": [],
   "source": [
    "intensity['cluster'] = km.labels_\n",
    "km.labels_"
   ]
  },
  {
   "cell_type": "code",
   "execution_count": null,
   "metadata": {
    "collapsed": true
   },
   "outputs": [],
   "source": [
    "# Group by clusters and calculate the mean of each feature.\n",
    "intensity.groupby('cluster').mean()"
   ]
  },
  {
   "cell_type": "code",
   "execution_count": null,
   "metadata": {
    "collapsed": true
   },
   "outputs": [],
   "source": [
    "sns.scatterplot(data=intensity, x='normintensity_ker', y='normintensity_vim', \n",
    "                hue='stiffness', palette=sns.color_palette(\"husl\", 7), s=100);\n",
    "plt.xlim(0, 70)\n",
    "plt.ylim(0, 70)"
   ]
  },
  {
   "cell_type": "code",
   "execution_count": null,
   "metadata": {
    "collapsed": true
   },
   "outputs": [],
   "source": [
    "pd.crosstab(intensity.stiffness, intensity.cluster)"
   ]
  },
  {
   "cell_type": "markdown",
   "metadata": {},
   "source": [
    "### Statistical testing"
   ]
  },
  {
   "cell_type": "markdown",
   "metadata": {},
   "source": [
    "#### Check parametric assumptions"
   ]
  },
  {
   "cell_type": "code",
   "execution_count": null,
   "metadata": {
    "collapsed": true
   },
   "outputs": [],
   "source": [
    "biomarkers.groupby(\"stiffness\").meanintensity_ker.describe()"
   ]
  },
  {
   "cell_type": "code",
   "execution_count": null,
   "metadata": {
    "collapsed": true
   },
   "outputs": [],
   "source": [
    "biomarkers.hist(column='meanintensity_vim', by='stiffness', sharex=True, sharey=True);"
   ]
  },
  {
   "cell_type": "code",
   "execution_count": null,
   "metadata": {
    "collapsed": true
   },
   "outputs": [],
   "source": [
    "biomarkers.groupby(\"stiffness\").meanintensity_vim.describe()"
   ]
  },
  {
   "cell_type": "markdown",
   "metadata": {},
   "source": [
    "#### Two-sample t-test"
   ]
  },
  {
   "cell_type": "markdown",
   "metadata": {},
   "source": [
    "###### Keratin"
   ]
  },
  {
   "cell_type": "code",
   "execution_count": null,
   "metadata": {
    "collapsed": true
   },
   "outputs": [],
   "source": [
    "from scipy.stats import mannwhitneyu, ttest_ind\n",
    "\n",
    "print(\"Background in keratin channel:\\n\")\n",
    "\n",
    "t, p = ttest_ind(biomarkers[biomarkers.stiffness == \"0.2\"].meanintensity_ker,\n",
    "                 biomarkers[biomarkers.stiffness == \"2.0\"].meanintensity_ker)\n",
    "print(\"0.2 kPa vs 2.0 kPa \\t p-value =\", p)\n",
    "\n",
    "t, p = ttest_ind(biomarkers[biomarkers.stiffness == \"2.0\"].meanintensity_ker,\n",
    "                 biomarkers[biomarkers.stiffness == \"16.0\"].meanintensity_ker)\n",
    "print(\"2.0 kPa vs 16.0 kPa \\t p-value =\", p)\n",
    "\n",
    "t, p = ttest_ind(biomarkers[biomarkers.stiffness == \"16.0\"].meanintensity_ker,\n",
    "                 biomarkers[biomarkers.stiffness == \"32.0\"].meanintensity_ker)\n",
    "print(\"16.0 kPa vs 32.0 kPa \\t p-value =\", p)\n",
    "      \n",
    "t, p = ttest_ind(biomarkers[biomarkers.stiffness == \"32.0\"].meanintensity_ker,\n",
    "                 biomarkers[biomarkers.stiffness == \"64.0\"].meanintensity_ker, \n",
    "                 equal_var=False)\n",
    "print(\"32.0 kPa vs 64.0 kPa \\t p-value =\", p)"
   ]
  },
  {
   "cell_type": "markdown",
   "metadata": {},
   "source": [
    "###### Vimentin"
   ]
  },
  {
   "cell_type": "code",
   "execution_count": null,
   "metadata": {
    "collapsed": true
   },
   "outputs": [],
   "source": [
    "print(\"Intensity in vimentin channel:\\n\")\n",
    "\n",
    "t, p = ttest_ind(biomarkers[biomarkers.stiffness == \"0.2\"].meanintensity_vim,\n",
    "                 biomarkers[biomarkers.stiffness == \"2.0\"].meanintensity_vim, \n",
    "                 equal_var=False)\n",
    "print(\"0.2 kPa vs 2.0 kPa \\t p-value =\", p)\n",
    "\n",
    "t, p = ttest_ind(biomarkers[biomarkers.stiffness == \"2.0\"].meanintensity_vim,\n",
    "                 biomarkers[biomarkers.stiffness == \"16.0\"].meanintensity_vim, \n",
    "                 equal_var=False)\n",
    "print(\"2.0 kPa vs 16.0 kPa \\t p-value =\", p)\n",
    "\n",
    "t, p = ttest_ind(biomarkers[biomarkers.stiffness == \"16.0\"].meanintensity_vim,\n",
    "                 biomarkers[biomarkers.stiffness == \"32.0\"].meanintensity_vim, \n",
    "                 equal_var=False)\n",
    "print(\"16.0 kPa vs 32.0 kPa \\t p-value =\", p)\n",
    "      \n",
    "t, p = ttest_ind(biomarkers[biomarkers.stiffness == \"32.0\"].meanintensity_vim,\n",
    "                 biomarkers[biomarkers.stiffness == \"64.0\"].meanintensity_vim, \n",
    "                 equal_var=False)\n",
    "print(\"32.0 kPa vs 64.0 kPa \\t p-value =\", p)"
   ]
  },
  {
   "cell_type": "markdown",
   "metadata": {},
   "source": [
    "## Create dataframes for Keratin and Vimentin"
   ]
  },
  {
   "cell_type": "code",
   "execution_count": null,
   "metadata": {
    "collapsed": true
   },
   "outputs": [],
   "source": [
    "channels = ['ker', 'vim']\n",
    "keratin, vimentin = prep.split_dataset(biomarkers_, channels=channels)"
   ]
  },
  {
   "cell_type": "code",
   "execution_count": null,
   "metadata": {
    "collapsed": true
   },
   "outputs": [],
   "source": [
    "print(keratin.shape, vimentin.shape)"
   ]
  },
  {
   "cell_type": "markdown",
   "metadata": {},
   "source": [
    "## Correlations between features"
   ]
  },
  {
   "cell_type": "markdown",
   "metadata": {},
   "source": [
    "### Keratin"
   ]
  },
  {
   "cell_type": "code",
   "execution_count": null,
   "metadata": {
    "collapsed": true
   },
   "outputs": [],
   "source": [
    "keratin_ = keratin.copy()\n",
    "keratin_['stiffness_num'] = pd.to_numeric(keratin_.stiffness)"
   ]
  },
  {
   "cell_type": "code",
   "execution_count": null,
   "metadata": {
    "collapsed": true
   },
   "outputs": [],
   "source": [
    "correlations = keratin_.corr();"
   ]
  },
  {
   "cell_type": "code",
   "execution_count": null,
   "metadata": {
    "collapsed": true,
    "scrolled": false
   },
   "outputs": [],
   "source": [
    "plt.rcParams['figure.figsize'] = (12, 10)\n",
    "\n",
    "sns.heatmap(correlations, cmap=sns.color_palette(\"PRGn_r\", 100), vmin=-1, vmax=1);\n",
    "\n",
    "plt.savefig('../results/Keratin Correlations.png', bbox_inches='tight', dpi=300);"
   ]
  },
  {
   "cell_type": "code",
   "execution_count": null,
   "metadata": {
    "collapsed": true,
    "scrolled": false
   },
   "outputs": [],
   "source": [
    "correlations.stiffness_num"
   ]
  },
  {
   "cell_type": "markdown",
   "metadata": {},
   "source": [
    "### Vimentin"
   ]
  },
  {
   "cell_type": "code",
   "execution_count": null,
   "metadata": {
    "collapsed": true
   },
   "outputs": [],
   "source": [
    "vimentin_ = vimentin.copy()\n",
    "vimentin_['stiffness_num'] = pd.to_numeric(vimentin_.stiffness)"
   ]
  },
  {
   "cell_type": "code",
   "execution_count": null,
   "metadata": {
    "collapsed": true,
    "scrolled": false
   },
   "outputs": [],
   "source": [
    "correlations = vimentin_.corr();"
   ]
  },
  {
   "cell_type": "code",
   "execution_count": null,
   "metadata": {
    "collapsed": true,
    "scrolled": false
   },
   "outputs": [],
   "source": [
    "plt.rcParams['figure.figsize'] = (12, 10)\n",
    "\n",
    "sns.heatmap(correlations, cmap=sns.color_palette(\"PRGn_r\", 100), vmin=-1, vmax=1);\n",
    "\n",
    "plt.savefig('../results/Vimentin Correlations.png', bbox_inches='tight', dpi=300);"
   ]
  },
  {
   "cell_type": "code",
   "execution_count": null,
   "metadata": {
    "collapsed": true
   },
   "outputs": [],
   "source": [
    "correlations.stiffness_num"
   ]
  },
  {
   "cell_type": "markdown",
   "metadata": {},
   "source": [
    "## Explore groups of features"
   ]
  },
  {
   "cell_type": "markdown",
   "metadata": {},
   "source": [
    "### Keratin"
   ]
  },
  {
   "cell_type": "code",
   "execution_count": null,
   "metadata": {
    "collapsed": true
   },
   "outputs": [],
   "source": [
    "list(keratin_.columns)"
   ]
  },
  {
   "cell_type": "markdown",
   "metadata": {},
   "source": [
    "###### Intensity"
   ]
  },
  {
   "cell_type": "code",
   "execution_count": null,
   "metadata": {
    "collapsed": true
   },
   "outputs": [],
   "source": [
    "intensity = pd.concat([keratin_.loc[:, 'integratedintensityedge' : 'stdintensity'], keratin_.stiffness_num], axis=1) \n",
    "print(intensity.shape)"
   ]
  },
  {
   "cell_type": "code",
   "execution_count": null,
   "metadata": {
    "collapsed": true
   },
   "outputs": [],
   "source": [
    "# Transformations\n",
    "group['log_majoraxislength_cell'] = np.log(group['majoraxislength_cell'])\n",
    "#group['log_eccentricity_cell'] = np.log(group['eccentricity_cell'])\n",
    "group['majoraxislength_cell'].hist();"
   ]
  },
  {
   "cell_type": "code",
   "execution_count": null,
   "metadata": {
    "collapsed": true
   },
   "outputs": [],
   "source": [
    "sns.heatmap(intensity.corr(), cmap=sns.color_palette(\"PRGn_r\", 100), vmin=-1, vmax=1);"
   ]
  },
  {
   "cell_type": "code",
   "execution_count": null,
   "metadata": {
    "collapsed": true
   },
   "outputs": [],
   "source": [
    "edge_intensity = intensity[[col for col in group.columns if 'edge' in col]]\n",
    "edge_intensity.head()"
   ]
  },
  {
   "cell_type": "code",
   "execution_count": null,
   "metadata": {
    "collapsed": true
   },
   "outputs": [],
   "source": [
    "sns.heatmap(edge_intensity.corr(), annot=True, cmap=sns.color_palette(\"PRGn_r\", 100), vmin=-1, vmax=1);"
   ]
  },
  {
   "cell_type": "code",
   "execution_count": null,
   "metadata": {
    "collapsed": true
   },
   "outputs": [],
   "source": [
    "sns.pairplot(edge_intensity, height=3);"
   ]
  },
  {
   "cell_type": "markdown",
   "metadata": {},
   "source": [
    "## Clustering"
   ]
  },
  {
   "cell_type": "markdown",
   "metadata": {},
   "source": [
    "### K-Means"
   ]
  },
  {
   "cell_type": "code",
   "execution_count": null,
   "metadata": {
    "collapsed": true
   },
   "outputs": [],
   "source": [
    "from sklearn import metrics\n",
    "from sklearn.preprocessing import StandardScaler\n",
    "from sklearn.cluster import KMeans, DBSCAN, AgglomerativeClustering\n",
    "\n",
    "X = biomarkers_[feature_cols]"
   ]
  },
  {
   "cell_type": "code",
   "execution_count": null,
   "metadata": {
    "collapsed": true
   },
   "outputs": [],
   "source": [
    "scaler = StandardScaler()\n",
    "X_scaled = scaler.fit_transform(X)"
   ]
  },
  {
   "cell_type": "code",
   "execution_count": null,
   "metadata": {
    "collapsed": true
   },
   "outputs": [],
   "source": [
    "km = KMeans(n_clusters=3, random_state=1)\n",
    "km.fit(X_scaled)"
   ]
  },
  {
   "cell_type": "code",
   "execution_count": null,
   "metadata": {
    "collapsed": true
   },
   "outputs": [],
   "source": [
    "# Review cluster labels.\n",
    "km.labels_"
   ]
  },
  {
   "cell_type": "code",
   "execution_count": null,
   "metadata": {
    "collapsed": true
   },
   "outputs": [],
   "source": [
    "#Save the cluster labels and sort by cluster.\n",
    "biomarkers_['cluster'] = km.labels_\n",
    "biomarkers_.sort_values('cluster')"
   ]
  },
  {
   "cell_type": "code",
   "execution_count": null,
   "metadata": {
    "collapsed": true
   },
   "outputs": [],
   "source": [
    "# Review the custer centers.\n",
    "km.cluster_centers_.shape"
   ]
  },
  {
   "cell_type": "code",
   "execution_count": null,
   "metadata": {
    "collapsed": true
   },
   "outputs": [],
   "source": [
    "# Group by clusters and calculate the mean of each feature.\n",
    "biomarkers_.groupby('cluster').mean()"
   ]
  },
  {
   "cell_type": "code",
   "execution_count": null,
   "metadata": {
    "collapsed": true
   },
   "outputs": [],
   "source": [
    "# Save the `DataFrame` of cluster centroids.\n",
    "centroids = biomarkers_.groupby('cluster').mean()"
   ]
  },
  {
   "cell_type": "code",
   "execution_count": null,
   "metadata": {
    "collapsed": true
   },
   "outputs": [],
   "source": [
    "colors = sns.color_palette(\"husl\", 5)\n",
    "\n",
    "sns.scatterplot(data=biomarkers_, x='meanintensityedge_origker', y='meanintensityedge_origvim', \n",
    "                s=100, hue='stiffness_num', palette=colors);"
   ]
  },
  {
   "cell_type": "code",
   "execution_count": null,
   "metadata": {
    "collapsed": true
   },
   "outputs": [],
   "source": [
    "colors = sns.color_palette(\"husl\", 3)\n",
    "\n",
    "sns.scatterplot(data=biomarkers_, x='meanintensityedge_origker', y='meanintensityedge_origvim', \n",
    "                s=100, hue='cluster', palette=colors);\n",
    "\n",
    "sns.scatterplot(data=centroids, x='meanintensityedge_origker', y='meanintensityedge_origvim', \n",
    "                linewidth=3, marker='x', \n",
    "                s=200, color='black');"
   ]
  },
  {
   "cell_type": "code",
   "execution_count": null,
   "metadata": {
    "collapsed": true
   },
   "outputs": [],
   "source": [
    "pd.crosstab(biomarkers_.stiffness_num, biomarkers_.cluster)"
   ]
  },
  {
   "cell_type": "markdown",
   "metadata": {},
   "source": [
    "### DBSCAN"
   ]
  },
  {
   "cell_type": "code",
   "execution_count": null,
   "metadata": {
    "collapsed": true
   },
   "outputs": [],
   "source": [
    "X = biomarkers_[feature_cols]"
   ]
  },
  {
   "cell_type": "code",
   "execution_count": null,
   "metadata": {
    "collapsed": true
   },
   "outputs": [],
   "source": [
    "scaler = StandardScaler()\n",
    "X_scaled = scaler.fit_transform(X)"
   ]
  },
  {
   "cell_type": "code",
   "execution_count": null,
   "metadata": {
    "collapsed": true
   },
   "outputs": [],
   "source": [
    "db = DBSCAN(eps=0.001, min_samples=3)\n",
    "db.fit(X_scaled)"
   ]
  },
  {
   "cell_type": "code",
   "execution_count": null,
   "metadata": {
    "collapsed": true
   },
   "outputs": [],
   "source": [
    "# Review the cluster labels.\n",
    "db.labels_"
   ]
  },
  {
   "cell_type": "markdown",
   "metadata": {},
   "source": [
    "### Agglomerative clustering"
   ]
  },
  {
   "cell_type": "code",
   "execution_count": null,
   "metadata": {
    "collapsed": true
   },
   "outputs": [],
   "source": [
    "biomarkers_norm = biomarkers_.copy()\n",
    "# Standardise the entire dataset\n",
    "biomarkers_norm[feature_cols] = (biomarkers_norm[feature_cols] - biomarkers_norm[feature_cols].mean()) / biomarkers_norm[feature_cols].std()"
   ]
  },
  {
   "cell_type": "code",
   "execution_count": null,
   "metadata": {
    "collapsed": true
   },
   "outputs": [],
   "source": [
    "# Prepare a vector of colours mapped to the 'stiffness' column\n",
    "my_palette = dict(zip(biomarkers_norm.stiffness.unique(), sns.color_palette(\"Set3\", 5)))\n",
    "row_colors = biomarkers_norm.stiffness.map(my_palette)\n",
    "\n",
    "print(my_palette.keys())\n",
    "sns.palplot(my_palette.values())"
   ]
  },
  {
   "cell_type": "code",
   "execution_count": null,
   "metadata": {
    "collapsed": true
   },
   "outputs": [],
   "source": [
    "sns.clustermap(biomarkers_norm[feature_cols], \n",
    "               metric='euclidean', method='ward', \n",
    "               col_cluster=False,\n",
    "               cmap=sns.color_palette('RdBu_r', 100), robust=True, \n",
    "               row_colors=row_colors);\n",
    "\n",
    "#plt.savefig('../results/Clustering.png', bbox_inches='tight', dpi=300);"
   ]
  },
  {
   "cell_type": "markdown",
   "metadata": {},
   "source": [
    "## Intensity by stiffness"
   ]
  },
  {
   "cell_type": "markdown",
   "metadata": {},
   "source": [
    "### Keratin"
   ]
  },
  {
   "cell_type": "code",
   "execution_count": null,
   "metadata": {
    "collapsed": true
   },
   "outputs": [],
   "source": [
    "keratin['total_px'] = keratin['Intensity_IntegratedIntensity_OrigKer'] / keratin['Intensity_MeanIntensity_OrigKer']\n",
    "keratin['edge_px'] = keratin['Intensity_IntegratedIntensityEdge_OrigKer'] / keratin['Intensity_MeanIntensityEdge_OrigKer']"
   ]
  },
  {
   "cell_type": "code",
   "execution_count": null,
   "metadata": {
    "collapsed": true
   },
   "outputs": [],
   "source": [
    "keratin.head(3)"
   ]
  },
  {
   "cell_type": "code",
   "execution_count": null,
   "metadata": {
    "collapsed": true
   },
   "outputs": [],
   "source": [
    "keratin['IntegratedIntensityInner'] = keratin['Intensity_IntegratedIntensity_OrigKer'] - keratin['Intensity_IntegratedIntensityEdge_OrigKer']\n",
    "\n",
    "keratin['MeanIntensityInner'] = keratin['IntegratedIntensityInner'] / (keratin['total_px'] - keratin['edge_px'])"
   ]
  },
  {
   "cell_type": "code",
   "execution_count": null,
   "metadata": {
    "collapsed": true,
    "scrolled": false
   },
   "outputs": [],
   "source": [
    "intensity_cols = ['Intensity_IntegratedIntensity_OrigKer', \n",
    "                  'IntegratedIntensityInner', \n",
    "                  'Intensity_IntegratedIntensityEdge_OrigKer']\n",
    "\n",
    "fig, ax = plt.subplots()\n",
    "keratin.groupby('stiffness')[intensity_cols].mean().plot(kind='bar', \n",
    "                                                         title=\"Integrated intensity of Cytokeratin\", \n",
    "                                                         fontsize=14,\n",
    "                                                         ax=ax);\n",
    "ax.legend([\"Integrated Intensity\", \"Integrated Inner Intensity\", \"Integrated Edge Intensity\"], fontsize=14);"
   ]
  },
  {
   "cell_type": "code",
   "execution_count": null,
   "metadata": {
    "collapsed": true
   },
   "outputs": [],
   "source": [
    "intensity_cols = ['Intensity_MeanIntensity_OrigKer', \n",
    "                  'MeanIntensityInner', \n",
    "                  'Intensity_MeanIntensityEdge_OrigKer']\n",
    "\n",
    "fig, ax = plt.subplots()\n",
    "keratin.groupby('stiffness')[intensity_cols].mean().plot(kind='bar', \n",
    "                                                         title=\"Mean intensity of Cytokeratin\", \n",
    "                                                         fontsize=14,\n",
    "                                                         ax=ax);\n",
    "ax.legend([\"Mean Intensity\", \"Mean Inner Intensity\", \"Mean Edge Intensity\"], fontsize=14);\n",
    "\n",
    "plt.savefig('../results/Cytokeratin Mean Intensity.png', bbox_inches='tight', dpi=300);"
   ]
  },
  {
   "cell_type": "markdown",
   "metadata": {},
   "source": [
    "### Vimentin"
   ]
  },
  {
   "cell_type": "code",
   "execution_count": null,
   "metadata": {
    "collapsed": true
   },
   "outputs": [],
   "source": [
    "vimentin['total_px'] = vimentin['Intensity_IntegratedIntensity_OrigVim'] / vimentin['Intensity_MeanIntensity_OrigVim']\n",
    "vimentin['edge_px'] = vimentin['Intensity_IntegratedIntensityEdge_OrigVim'] / vimentin['Intensity_MeanIntensityEdge_OrigVim']"
   ]
  },
  {
   "cell_type": "code",
   "execution_count": null,
   "metadata": {
    "collapsed": true
   },
   "outputs": [],
   "source": [
    "vimentin.head(3)"
   ]
  },
  {
   "cell_type": "code",
   "execution_count": null,
   "metadata": {
    "collapsed": true
   },
   "outputs": [],
   "source": [
    "vimentin['IntegratedIntensityInner'] = vimentin['Intensity_IntegratedIntensity_OrigVim'] - vimentin['Intensity_IntegratedIntensityEdge_OrigVim']\n",
    "\n",
    "vimentin['MeanIntensityInner'] = vimentin['IntegratedIntensityInner'] / (vimentin['total_px'] - vimentin['edge_px'])"
   ]
  },
  {
   "cell_type": "code",
   "execution_count": null,
   "metadata": {
    "collapsed": true,
    "scrolled": false
   },
   "outputs": [],
   "source": [
    "intensity_cols = ['Intensity_IntegratedIntensity_OrigVim', \n",
    "                  'IntegratedIntensityInner', \n",
    "                  'Intensity_IntegratedIntensityEdge_OrigVim']\n",
    "\n",
    "fig, ax = plt.subplots()\n",
    "vimentin.groupby('stiffness')[intensity_cols].mean().plot(kind='bar', \n",
    "                                                         title=\"Integrated intensity of Vimentin\", \n",
    "                                                         fontsize=14,\n",
    "                                                         ax=ax);\n",
    "ax.legend([\"Integrated Intensity\", \"Integrated Inner Intensity\", \"Integrated Edge Intensity\"], fontsize=14);"
   ]
  },
  {
   "cell_type": "code",
   "execution_count": null,
   "metadata": {
    "collapsed": true
   },
   "outputs": [],
   "source": [
    "intensity_cols = ['Intensity_MeanIntensity_OrigVim', \n",
    "                  'MeanIntensityInner', \n",
    "                  'Intensity_MeanIntensityEdge_OrigVim']\n",
    "\n",
    "fig, ax = plt.subplots()\n",
    "vimentin.groupby('stiffness')[intensity_cols].mean().plot(kind='bar', \n",
    "                                                         title=\"Mean intensity of Vimentin\", \n",
    "                                                         fontsize=14,\n",
    "                                                         ax=ax);\n",
    "ax.legend([\"Mean Intensity\", \"Mean Inner Intensity\", \"Mean Edge Intensity\"], fontsize=14);\n",
    "\n",
    "plt.savefig('../results/Vimentin Mean Intensity.png', bbox_inches='tight', dpi=300);"
   ]
  }
 ],
 "metadata": {
  "kernelspec": {
   "display_name": "Python 3",
   "language": "python",
   "name": "python3"
  },
  "language_info": {
   "codemirror_mode": {
    "name": "ipython",
    "version": 3
   },
   "file_extension": ".py",
   "mimetype": "text/x-python",
   "name": "python",
   "nbconvert_exporter": "python",
   "pygments_lexer": "ipython3",
   "version": "3.6.8"
  },
  "toc": {
   "base_numbering": 1,
   "nav_menu": {},
   "number_sections": true,
   "sideBar": true,
   "skip_h1_title": false,
   "title_cell": "Table of Contents",
   "title_sidebar": "Contents",
   "toc_cell": false,
   "toc_position": {},
   "toc_section_display": true,
   "toc_window_display": false
  }
 },
 "nbformat": 4,
 "nbformat_minor": 2
}
