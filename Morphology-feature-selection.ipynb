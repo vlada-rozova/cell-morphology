{
 "cells": [
  {
   "cell_type": "code",
   "execution_count": 1,
   "metadata": {},
   "outputs": [
    {
     "name": "stderr",
     "output_type": "stream",
     "text": [
      "/Applications/anaconda3/lib/python3.6/site-packages/sklearn/externals/six.py:31: DeprecationWarning: The module is deprecated in version 0.21 and will be removed in version 0.23 since we've dropped support for Python 2.7. Please rely on the official version of six (https://pypi.org/project/six/).\n",
      "  \"(https://pypi.org/project/six/).\", DeprecationWarning)\n"
     ]
    }
   ],
   "source": [
    "import os\n",
    "import pandas as pd\n",
    "import numpy as np\n",
    "import preprocessing as proc\n",
    "from pandas.api.types import CategoricalDtype\n",
    "import seaborn as sns\n",
    "from matplotlib import pyplot as plt\n",
    "\n",
    "from imblearn.over_sampling import SMOTE\n",
    "from sklearn.model_selection import train_test_split\n",
    "from sklearn.preprocessing import StandardScaler\n",
    "from sklearn.decomposition import PCA\n",
    "from sklearn.ensemble import RandomForestClassifier\n",
    "from sklearn.cluster import KMeans\n",
    "from sklearn.metrics import accuracy_score, f1_score, confusion_matrix\n",
    "\n",
    "%matplotlib inline\n",
    "\n",
    "plt.style.use('seaborn')\n",
    "plt.rcParams['figure.figsize'] = (15, 5)\n",
    "plt.rcParams['axes.titlesize'] = 20\n",
    "plt.rcParams['axes.labelsize'] = 16\n",
    "plt.rcParams['xtick.labelsize'] = 14\n",
    "plt.rcParams['ytick.labelsize'] = 14\n",
    "\n",
    "pd.options.display.max_columns = 1000\n",
    "\n",
    "DATA_PATH = '../cell-profiler/measurements'\n",
    "SUFFIX = ''\n",
    "intensity = True\n",
    "texture = True\n",
    "zernike = False\n",
    "\n",
    "os.environ['TF_CPP_MIN_LOG_LEVEL'] = '3'"
   ]
  },
  {
   "cell_type": "code",
   "execution_count": 4,
   "metadata": {},
   "outputs": [
    {
     "name": "stdout",
     "output_type": "stream",
     "text": [
      "Total number of cells processed: 612.0\n",
      "\n",
      "The numbers of cells and nuclei correspond to each other\n",
      "The are no repeated column names: True\n",
      "The are no repeated column names: True\n",
      "Membrane features: (612, 111)\n",
      "Chromatin features: (612, 184)\n",
      "Full dataset has shape: (612, 288)\n"
     ]
    }
   ],
   "source": [
    "measurements = proc.cell_data(data_path=DATA_PATH, suffix=SUFFIX, cytoplasm=False, biomarkers=False)"
   ]
  },
  {
   "cell_type": "code",
   "execution_count": 5,
   "metadata": {},
   "outputs": [
    {
     "name": "stdout",
     "output_type": "stream",
     "text": [
      "Initial shape is: (612, 288)\n",
      "Features with zero variance:\n",
      " Index(['centerZ_cell', 'eulernumber_cell', 'children_cytoplasm_count_cell',\n",
      "       'loc_centermassintensityZ_wga_cell', 'loc_centerZ_cell',\n",
      "       'loc_maxintensityZ_wga_cell', 'centerZ_nucl', 'eulernumber_nucl',\n",
      "       'children_cytoplasm_count_nucl', 'loc_centermassintensityZ_dapi',\n",
      "       'loc_centermassintensityZ_wga_nucl', 'loc_centerZ_nucl',\n",
      "       'loc_maxintensityZ_dapi', 'loc_maxintensityZ_wga_nucl'],\n",
      "      dtype='object')\n",
      "\n",
      "After cleaning the dataset has 612 rows and 254 columns.\n",
      "\n"
     ]
    }
   ],
   "source": [
    "measurements = proc.clean_data(measurements, intensity)"
   ]
  },
  {
   "cell_type": "markdown",
   "metadata": {},
   "source": [
    "## Feature selection"
   ]
  },
  {
   "cell_type": "markdown",
   "metadata": {},
   "source": [
    "### Explore groups of features"
   ]
  },
  {
   "cell_type": "code",
   "execution_count": null,
   "metadata": {},
   "outputs": [],
   "source": [
    "list(measurements.columns)"
   ]
  },
  {
   "cell_type": "code",
   "execution_count": null,
   "metadata": {
    "collapsed": true
   },
   "outputs": [],
   "source": [
    "feature_group = []"
   ]
  },
  {
   "cell_type": "markdown",
   "metadata": {},
   "source": [
    "###### Cell Shape"
   ]
  },
  {
   "cell_type": "code",
   "execution_count": null,
   "metadata": {},
   "outputs": [],
   "source": [
    "cell_shape = measurements.loc[:, 'area_cell' : 'solidity_cell']\n",
    "print(\"Number of cell shape features:\", cell_shape.shape[1])"
   ]
  },
  {
   "cell_type": "code",
   "execution_count": null,
   "metadata": {},
   "outputs": [],
   "source": [
    "correlations = cell_shape.corr();\n",
    "mask = np.zeros_like(correlations)\n",
    "mask[abs(correlations) < 0.9] = 1\n",
    "\n",
    "sns.set(rc={'figure.figsize':(12, 10)})\n",
    "\n",
    "sns.heatmap(correlations, \n",
    "            mask=mask, annot=True,\n",
    "            vmin=-1, vmax=1,\n",
    "            cmap=sns.color_palette(\"RdBu_r\", 100));"
   ]
  },
  {
   "cell_type": "code",
   "execution_count": null,
   "metadata": {},
   "outputs": [],
   "source": [
    "cell_shape.drop(['majoraxislength_cell', 'maxferetdiameter_cell', \n",
    "                 'maximumradius_cell', 'medianradius_cell', \n",
    "                 'minferetdiameter_cell'], axis=1, inplace=True)\n",
    "\n",
    "print(\"Selected {} cell shape features:\".format(cell_shape.shape[1]))\n",
    "feature_group.extend([1] * cell_shape.shape[1])"
   ]
  },
  {
   "cell_type": "markdown",
   "metadata": {},
   "source": [
    "###### Cell Zernike"
   ]
  },
  {
   "cell_type": "code",
   "execution_count": null,
   "metadata": {},
   "outputs": [],
   "source": [
    "cell_zern = measurements.loc[:, 'zernike_0_0_cell' : 'zernike_9_9_cell']\n",
    "print(\"Number of cell zernike features:\", cell_zern.shape[1])"
   ]
  },
  {
   "cell_type": "code",
   "execution_count": null,
   "metadata": {},
   "outputs": [],
   "source": [
    "correlations = cell_zern.corr();\n",
    "mask = np.zeros_like(correlations)\n",
    "mask[abs(correlations) < 0.9] = 1\n",
    "\n",
    "sns.set(rc={'figure.figsize':(12, 10)})\n",
    "\n",
    "sns.heatmap(correlations, \n",
    "            mask=mask, annot=False,\n",
    "            vmin=-1, vmax=1,\n",
    "            cmap=sns.color_palette(\"RdBu_r\", 100));"
   ]
  },
  {
   "cell_type": "code",
   "execution_count": null,
   "metadata": {},
   "outputs": [],
   "source": [
    "print(\"Selected {} cell zernike features:\".format(cell_zern.shape[1]))\n",
    "feature_group.extend([1] * cell_zern.shape[1])"
   ]
  },
  {
   "cell_type": "markdown",
   "metadata": {},
   "source": [
    "###### Cell Intensity"
   ]
  },
  {
   "cell_type": "code",
   "execution_count": null,
   "metadata": {},
   "outputs": [],
   "source": [
    "cell_int = measurements.loc[:, 'integratedintensityedge_wga_cell' : 'upperquartileintensity_wga_cell'] \n",
    "\n",
    "print(\"Number of cell intensity features:\", cell_int.shape[1])"
   ]
  },
  {
   "cell_type": "code",
   "execution_count": null,
   "metadata": {
    "collapsed": true
   },
   "outputs": [],
   "source": [
    "correlations = cell_int.corr();\n",
    "mask = np.zeros_like(correlations)\n",
    "mask[abs(correlations) < 0.9] = 1\n",
    "\n",
    "sns.set(rc={'figure.figsize':(12, 10)})\n",
    "\n",
    "sns.heatmap(correlations, \n",
    "            mask=mask, annot=True,\n",
    "            vmin=-1, vmax=1,\n",
    "            cmap=sns.color_palette(\"RdBu_r\", 100));"
   ]
  },
  {
   "cell_type": "code",
   "execution_count": null,
   "metadata": {},
   "outputs": [],
   "source": [
    "cell_int.drop(['medianintensity_wga_cell', 'upperquartileintensity_wga_cell', \n",
    "                     'maxintensityedge_wga_cell', 'minintensity_wga_cell'], axis=1, inplace=True)\n",
    "\n",
    "print(\"Selected cell intensity features:\", cell_int.shape[1])\n",
    "feature_group.extend([2] * cell_int.shape[1])"
   ]
  },
  {
   "cell_type": "markdown",
   "metadata": {},
   "source": [
    "###### Cell Neighbours"
   ]
  },
  {
   "cell_type": "code",
   "execution_count": null,
   "metadata": {},
   "outputs": [],
   "source": [
    "cell_neighb = measurements.loc[:, 'anglebetweenneighbors_cell' : 'secondclosestdistance_cell']\n",
    "\n",
    "print(\"Number of cell neighbours features:\", cell_neighb.shape[1])"
   ]
  },
  {
   "cell_type": "code",
   "execution_count": null,
   "metadata": {},
   "outputs": [],
   "source": [
    "correlations = cell_neighb.corr();\n",
    "mask = np.zeros_like(correlations)\n",
    "mask[abs(correlations) < 0.9] = 1\n",
    "\n",
    "sns.set(rc={'figure.figsize':(12, 10)})\n",
    "\n",
    "sns.heatmap(correlations, \n",
    "            mask=mask, annot=True,\n",
    "            vmin=-1, vmax=1,\n",
    "            cmap=sns.color_palette(\"RdBu_r\", 100));"
   ]
  },
  {
   "cell_type": "code",
   "execution_count": null,
   "metadata": {},
   "outputs": [],
   "source": [
    "print(\"Selected cell neighbours features:\", cell_neighb.shape[1])\n",
    "feature_group.extend([3] * cell_neighb.shape[1])"
   ]
  },
  {
   "cell_type": "markdown",
   "metadata": {},
   "source": [
    "###### Cell Texture"
   ]
  },
  {
   "cell_type": "code",
   "execution_count": null,
   "metadata": {},
   "outputs": [],
   "source": [
    "cell_tex = measurements.loc[:, 'angularsecondmoment_wga_00_cell' : 'variance_wga_03_cell']\n",
    "\n",
    "print(\"Number of cell texture features:\", cell_tex.shape[1])"
   ]
  },
  {
   "cell_type": "code",
   "execution_count": null,
   "metadata": {
    "collapsed": true
   },
   "outputs": [],
   "source": [
    "correlations = cell_tex.corr();\n",
    "mask = np.zeros_like(correlations)\n",
    "mask[abs(correlations) < 0.9] = 1\n",
    "\n",
    "sns.set(rc={'figure.figsize':(12, 10)})\n",
    "\n",
    "sns.heatmap(correlations, \n",
    "            mask=mask, annot=False,\n",
    "            vmin=-1, vmax=1,\n",
    "            cmap=sns.color_palette(\"RdBu_r\", 100));"
   ]
  },
  {
   "cell_type": "code",
   "execution_count": null,
   "metadata": {},
   "outputs": [],
   "source": [
    "cell_tex = measurements[['angularsecondmoment_wga_00_cell', 'contrast_wga_00_cell', \n",
    "                         'correlation_wga_01_cell', 'correlation_wga_02_cell',\n",
    "                         'differencevariance_wga_00_cell', 'entropy_wga_00_cell', \n",
    "                         'infomeas1_wga_00_cell', 'infomeas1_wga_02_cell', \n",
    "                         'infomeas2_wga_00_cell', 'sumaverage_wga_00_cell', \n",
    "                         'variance_wga_00_cell']]\n",
    "\n",
    "print(\"Selected cell texture features:\", cell_tex.shape[1])\n",
    "feature_group.extend([4] * cell_tex.shape[1])"
   ]
  },
  {
   "cell_type": "markdown",
   "metadata": {},
   "source": [
    "###### Nuclear Shape"
   ]
  },
  {
   "cell_type": "code",
   "execution_count": null,
   "metadata": {},
   "outputs": [],
   "source": [
    "nucl_shape = measurements.loc[:,  'area_nucl' : 'solidity_nucl']\n",
    "\n",
    "print(\"Number of nuclear shape features:\", nucl_shape.shape[1])"
   ]
  },
  {
   "cell_type": "code",
   "execution_count": null,
   "metadata": {
    "scrolled": false
   },
   "outputs": [],
   "source": [
    "correlations = nucl_shape.corr();\n",
    "mask = np.zeros_like(correlations)\n",
    "mask[abs(correlations) < 0.9] = 1\n",
    "\n",
    "sns.set(rc={'figure.figsize':(12, 10)})\n",
    "\n",
    "sns.heatmap(correlations, \n",
    "            mask=mask, annot=True,\n",
    "            vmin=-1, vmax=1,\n",
    "            cmap=sns.color_palette(\"RdBu_r\", 100));"
   ]
  },
  {
   "cell_type": "code",
   "execution_count": null,
   "metadata": {},
   "outputs": [],
   "source": [
    "nucl_shape.drop(['maxferetdiameter_nucl', 'maximumradius_nucl', \n",
    "                 'medianradius_nucl', 'minferetdiameter_nucl', \n",
    "                 'minoraxislength_nucl', 'perimeter_nucl'], axis=1, inplace=True)\n",
    "\n",
    "print(\"Selected nuclear shape features:\", nucl_shape.shape[1])\n",
    "feature_group.extend([5] * nucl_shape.shape[1])"
   ]
  },
  {
   "cell_type": "markdown",
   "metadata": {},
   "source": [
    "###### Nuclear Zernike"
   ]
  },
  {
   "cell_type": "code",
   "execution_count": null,
   "metadata": {},
   "outputs": [],
   "source": [
    "nucl_zern = measurements.loc[:, 'zernike_0_0_nucl' : 'zernike_9_9_nucl']\n",
    "print(\"Number of nuclear zernike features:\", nucl_zern.shape[1])"
   ]
  },
  {
   "cell_type": "code",
   "execution_count": null,
   "metadata": {},
   "outputs": [],
   "source": [
    "correlations = nucl_zern.corr();\n",
    "mask = np.zeros_like(correlations)\n",
    "mask[abs(correlations) < 0.9] = 1\n",
    "\n",
    "sns.set(rc={'figure.figsize':(12, 10)})\n",
    "\n",
    "sns.heatmap(correlations, \n",
    "            mask=mask, annot=False,\n",
    "            vmin=-1, vmax=1,\n",
    "            cmap=sns.color_palette(\"RdBu_r\", 100));"
   ]
  },
  {
   "cell_type": "code",
   "execution_count": null,
   "metadata": {},
   "outputs": [],
   "source": [
    "print(\"Selected {} nuclear zernike features:\".format(nucl_zern.shape[1]))\n",
    "feature_group.extend([1] * nucl_zern.shape[1])"
   ]
  },
  {
   "cell_type": "markdown",
   "metadata": {},
   "source": [
    "###### Nuclear Intensity"
   ]
  },
  {
   "cell_type": "code",
   "execution_count": null,
   "metadata": {},
   "outputs": [],
   "source": [
    "nucl_int = measurements.loc[:, 'integratedintensityedge_dapi' : 'upperquartileintensity_wga_nucl'] \n",
    "\n",
    "print(\"Number of nuclear intensity features:\", nucl_int.shape[1])"
   ]
  },
  {
   "cell_type": "code",
   "execution_count": null,
   "metadata": {
    "collapsed": true
   },
   "outputs": [],
   "source": [
    "dapi_columns = [col for col in nucl_int.columns if 'dapi' in col]\n",
    "wga_columns = [col for col in nucl_int.columns if 'wga' in col]"
   ]
  },
  {
   "cell_type": "code",
   "execution_count": null,
   "metadata": {
    "collapsed": true
   },
   "outputs": [],
   "source": [
    "correlations = nucl_int.corr();\n",
    "mask = np.zeros_like(correlations)\n",
    "mask[abs(correlations) < 0.9] = 1\n",
    "\n",
    "sns.set(rc={'figure.figsize':(12, 10)})\n",
    "\n",
    "sns.heatmap(correlations, \n",
    "            mask=mask, annot=False,\n",
    "            vmin=-1, vmax=1,\n",
    "            cmap=sns.color_palette(\"RdBu_r\", 100));"
   ]
  },
  {
   "cell_type": "code",
   "execution_count": null,
   "metadata": {},
   "outputs": [],
   "source": [
    "nucl_int.drop(['lowerquartileintensity_dapi', 'medianintensity_dapi', \n",
    "               'upperquartileintensity_dapi', 'minintensityedge_dapi', \n",
    "               'minintensity_dapi', \n",
    "               'lowerquartileintensity_wga_nucl', 'medianintensity_wga_nucl', \n",
    "               'upperquartileintensity_wga_nucl', 'maxintensityedge_wga_nucl', \n",
    "               'meanintensityedge_wga_nucl'],\n",
    "              axis=1, inplace=True)\n",
    "\n",
    "print(\"Seleted nuclear intensity features:\", nucl_int.shape[1])\n",
    "feature_group.extend([6] * nucl_int.shape[1])"
   ]
  },
  {
   "cell_type": "markdown",
   "metadata": {},
   "source": [
    "###### Nuclei neighbours"
   ]
  },
  {
   "cell_type": "code",
   "execution_count": null,
   "metadata": {},
   "outputs": [],
   "source": [
    "nucl_neighb = measurements.loc[:, 'anglebetweenneighbors_nucl' :'secondclosestdistance_nucl']\n",
    "\n",
    "print(\"Number of nuclear neighbours features:\", nucl_neighb.shape[1])"
   ]
  },
  {
   "cell_type": "code",
   "execution_count": null,
   "metadata": {},
   "outputs": [],
   "source": [
    "correlations = nucl_neighb.corr();\n",
    "mask = np.zeros_like(correlations)\n",
    "mask[abs(correlations) < 0.9] = 1\n",
    "\n",
    "sns.set(rc={'figure.figsize':(12, 10)})\n",
    "\n",
    "sns.heatmap(correlations, \n",
    "            mask=mask, annot=True,\n",
    "            vmin=-1, vmax=1,\n",
    "            cmap=sns.color_palette(\"RdBu_r\", 100));"
   ]
  },
  {
   "cell_type": "code",
   "execution_count": null,
   "metadata": {},
   "outputs": [],
   "source": [
    "nucl_neighb.drop(['percenttouching_nucl'], axis=1, inplace=True)\n",
    "\n",
    "print(\"Seleted nuclear neighbours features:\", nucl_neighb.shape[1])\n",
    "feature_group.extend([7] * nucl_neighb.shape[1])"
   ]
  },
  {
   "cell_type": "markdown",
   "metadata": {},
   "source": [
    "###### Nuclear Texture"
   ]
  },
  {
   "cell_type": "code",
   "execution_count": null,
   "metadata": {},
   "outputs": [],
   "source": [
    "nucl_tex = measurements.loc[:, 'angularsecondmoment_dapi_00' : 'variance_wga_03_nucl']\n",
    "\n",
    "print(\"Number of nuclear texture features:\", nucl_tex.shape[1])"
   ]
  },
  {
   "cell_type": "code",
   "execution_count": null,
   "metadata": {
    "collapsed": true
   },
   "outputs": [],
   "source": [
    "dapi_columns = [col for col in nucl_tex.columns if 'dapi' in col]\n",
    "wga_columns = [col for col in nucl_tex.columns if 'wga' in col]"
   ]
  },
  {
   "cell_type": "code",
   "execution_count": null,
   "metadata": {
    "collapsed": true
   },
   "outputs": [],
   "source": [
    "dapi_columns"
   ]
  },
  {
   "cell_type": "code",
   "execution_count": null,
   "metadata": {
    "collapsed": true
   },
   "outputs": [],
   "source": [
    "correlations = nucl_tex.corr();\n",
    "mask = np.zeros_like(correlations)\n",
    "mask[abs(correlations) < 0.9] = 1\n",
    "\n",
    "sns.set(rc={'figure.figsize':(12, 10)})\n",
    "\n",
    "sns.heatmap(correlations, \n",
    "            mask=mask, annot=False,\n",
    "            vmin=-1, vmax=1,\n",
    "            cmap=sns.color_palette(\"RdBu_r\", 100));"
   ]
  },
  {
   "cell_type": "code",
   "execution_count": null,
   "metadata": {},
   "outputs": [],
   "source": [
    "nucl_tex = measurements[['angularsecondmoment_dapi_00',\n",
    "                         'contrast_dapi_00', 'contrast_dapi_01', \n",
    "                         'contrast_dapi_02',\n",
    "                         'correlation_dapi_00', 'correlation_dapi_01', \n",
    "                         'correlation_dapi_02', 'correlation_dapi_03', \n",
    "                         'differenceentropy_dapi_00', 'differencevariance_dapi_00',\n",
    "                         'entropy_dapi_00', 'infomeas1_dapi_00', \n",
    "                         'infomeas2_dapi_00', 'sumaverage_dapi_00', \n",
    "                         'variance_dapi_00', \n",
    "                         'angularsecondmoment_wga_00_nucl', \n",
    "                         'contrast_wga_00_nucl', \n",
    "                         'correlation_wga_00_nucl', 'correlation_wga_01_nucl', \n",
    "                         'correlation_wga_02_nucl', 'correlation_wga_03_nucl', \n",
    "                         'differenceentropy_wga_00_nucl', 'differencevariance_wga_00_nucl',\n",
    "                         'entropy_wga_00_nucl', 'infomeas1_wga_00_nucl', \n",
    "                         'infomeas2_wga_00_nucl', 'inversedifferencemoment_wga_00_nucl',\n",
    "                         'sumaverage_wga_00_nucl', 'variance_wga_00_nucl']]\n",
    "\n",
    "print(\"Seleted nuclear texture features:\", nucl_tex.shape[1])\n",
    "feature_group.extend([8] * nucl_tex.shape[1])"
   ]
  },
  {
   "cell_type": "markdown",
   "metadata": {},
   "source": [
    "###### Distances"
   ]
  },
  {
   "cell_type": "code",
   "execution_count": null,
   "metadata": {},
   "outputs": [],
   "source": [
    "dist = measurements.loc[:, 'fartherstpoint_cell' :'nucleusshift']\n",
    "\n",
    "print(\"Number of distance measurement features:\", dist.shape[1])"
   ]
  },
  {
   "cell_type": "code",
   "execution_count": null,
   "metadata": {},
   "outputs": [],
   "source": [
    "correlations = dist.corr();\n",
    "mask = np.zeros_like(correlations)\n",
    "mask[abs(correlations) < 0.9] = 1\n",
    "\n",
    "sns.set(rc={'figure.figsize':(12, 10)})\n",
    "\n",
    "sns.heatmap(correlations, \n",
    "            mask=mask, annot=True,\n",
    "            vmin=-1, vmax=1,\n",
    "            cmap=sns.color_palette(\"RdBu_r\", 100));"
   ]
  },
  {
   "cell_type": "code",
   "execution_count": null,
   "metadata": {},
   "outputs": [],
   "source": [
    "print(\"Seleted distance measurement features:\", dist.shape[1])\n",
    "feature_group.extend([9] * dist.shape[1])"
   ]
  },
  {
   "cell_type": "markdown",
   "metadata": {},
   "source": [
    "### Combine into a new data frame"
   ]
  },
  {
   "cell_type": "code",
   "execution_count": null,
   "metadata": {},
   "outputs": [],
   "source": [
    "# Dataset with reduced number of features\n",
    "feature_group = np.asarray([feature_group])\n",
    "\n",
    "measurements_ = pd.concat([measurements.loc[:, 'label' : 'well'],\n",
    "                           cell_shape, cell_zern, cell_neighb,\n",
    "                           nucl_shape, nucl_zern, nucl_neighb,\n",
    "                           dist], axis=1)\n",
    "\n",
    "measurements_['stiffness_num'] = pd.to_numeric(measurements_.stiffness)\n",
    "\n",
    "measurements_.shape"
   ]
  },
  {
   "cell_type": "code",
   "execution_count": null,
   "metadata": {
    "collapsed": true
   },
   "outputs": [],
   "source": [
    "# Define feature columns\n",
    "numeric_cols = measurements_.select_dtypes(include=[np.number]).columns\n",
    "feature_cols = measurements_.select_dtypes(include=[np.number]).drop(['stiffness_num'], axis=1).columns"
   ]
  },
  {
   "cell_type": "markdown",
   "metadata": {},
   "source": [
    "### Correlation between features"
   ]
  },
  {
   "cell_type": "code",
   "execution_count": null,
   "metadata": {},
   "outputs": [],
   "source": [
    "p_corr = measurements_.corr()\n",
    "\n",
    "mask = np.zeros_like(p_corr)\n",
    "mask[abs(p_corr) < 0.9] = 1\n",
    "\n",
    "sns.heatmap(p_corr, vmin=-1, vmax=1, \n",
    "            mask=mask,\n",
    "            cmap=sns.color_palette(\"RdBu_r\", 100),\n",
    "            xticklabels=False, yticklabels=True);"
   ]
  },
  {
   "cell_type": "code",
   "execution_count": null,
   "metadata": {},
   "outputs": [],
   "source": [
    "[col for col in p_corr.columns if (p_corr[col] >= 0.9).sum() > 1]"
   ]
  },
  {
   "cell_type": "code",
   "execution_count": null,
   "metadata": {},
   "outputs": [],
   "source": [
    "p_corr[p_corr.extent_cell > 0.9]"
   ]
  },
  {
   "cell_type": "code",
   "execution_count": null,
   "metadata": {
    "collapsed": true
   },
   "outputs": [],
   "source": [
    "measurements_.drop(['zernike_0_0_cell'], axis=1, inplace=True)"
   ]
  },
  {
   "cell_type": "code",
   "execution_count": null,
   "metadata": {
    "collapsed": true
   },
   "outputs": [],
   "source": [
    "measurements_.drop(['sumaverage_wga_00_cell',\n",
    "                    'variance_wga_00_cell', \n",
    "                    'sumaverage_dapi_00',\n",
    "                    'sumaverage_wga_00_nucl', \n",
    "                    'variance_dapi_00', \n",
    "                    'variance_wga_00_nucl'], \n",
    "                   axis=1, inplace=True)"
   ]
  },
  {
   "cell_type": "code",
   "execution_count": null,
   "metadata": {
    "scrolled": false
   },
   "outputs": [],
   "source": [
    "sns.set(rc={'figure.figsize':(15, 12)})\n",
    "\n",
    "p_corr = measurements_.corr()\n",
    "\n",
    "sns.heatmap(p_corr, cmap=sns.color_palette(\"RdBu_r\", 100), vmin=-1, vmax=1, \n",
    "            xticklabels=False, yticklabels=False);\n",
    "\n",
    "plt.savefig('../results/Morph feature selection corr heatmap.png', bbox_inches='tight', dpi=300);"
   ]
  },
  {
   "cell_type": "code",
   "execution_count": null,
   "metadata": {},
   "outputs": [],
   "source": [
    "measurements_.shape"
   ]
  },
  {
   "cell_type": "markdown",
   "metadata": {},
   "source": [
    "### Correlation with stiffness"
   ]
  },
  {
   "cell_type": "code",
   "execution_count": null,
   "metadata": {
    "collapsed": true,
    "scrolled": false
   },
   "outputs": [],
   "source": [
    "sns.set(rc={'figure.figsize':(15, 2)})\n",
    "\n",
    "sns.heatmap(p_corr[['stiffness_num']].T, \n",
    "            vmin=-1, vmax=1, \n",
    "            cmap=sns.color_palette(\"RdBu_r\", 100));"
   ]
  },
  {
   "cell_type": "markdown",
   "metadata": {},
   "source": [
    "## Other approaches"
   ]
  },
  {
   "cell_type": "markdown",
   "metadata": {},
   "source": [
    "###### Regress `medianintensity_wga_cell` on `area_cell` and `meanintensity_wga_cell`"
   ]
  },
  {
   "cell_type": "code",
   "execution_count": null,
   "metadata": {
    "collapsed": true
   },
   "outputs": [],
   "source": [
    "initial_set = ['area_cell', 'meanintensity_wga_cell']\n",
    "Xk = np.array(measurements[initial_set])\n",
    "x = np.array(measurements.medianintensity_wga_cell)\n",
    "Xk.shape, x.shape"
   ]
  },
  {
   "cell_type": "code",
   "execution_count": null,
   "metadata": {
    "collapsed": true
   },
   "outputs": [],
   "source": [
    "from sklearn.linear_model import LinearRegression\n",
    "\n",
    "lin_reg = LinearRegression()\n",
    "\n",
    "lin_reg.fit(Xk, x)\n",
    "print(lin_reg.intercept_, lin_reg.coef_)\n",
    "x_hat = lin_reg.predict(Xk)\n",
    "u = x - x_hat"
   ]
  },
  {
   "cell_type": "code",
   "execution_count": null,
   "metadata": {
    "collapsed": true
   },
   "outputs": [],
   "source": [
    "print(correlations.loc['area_cell', 'medianintensity_wga_cell'])\n",
    "plt.plot(Xk[:, 0], label='Initial set: Area cell');\n",
    "plt.plot(x, label='New feature: Median intensity');\n",
    "plt.legend();"
   ]
  },
  {
   "cell_type": "code",
   "execution_count": null,
   "metadata": {
    "collapsed": true
   },
   "outputs": [],
   "source": [
    "print(correlations.loc['meanintensity_wga_cell', 'medianintensity_wga_cell'])\n",
    "plt.plot(Xk[:, 1], label='Initial set: Mean intensity');\n",
    "plt.plot(x, label='New feature: Median intensity');\n",
    "#plt.plot(x_hat, label='Prediction');\n",
    "#plt.plot(u, label='Residual');\n",
    "plt.legend();"
   ]
  },
  {
   "cell_type": "code",
   "execution_count": null,
   "metadata": {
    "collapsed": true
   },
   "outputs": [],
   "source": [
    "plt.plot(x, label='New feature: Median intensity');\n",
    "plt.plot(x_hat, label='Prediction');\n",
    "plt.plot(u, label='Residual');\n",
    "plt.legend();"
   ]
  },
  {
   "cell_type": "markdown",
   "metadata": {},
   "source": [
    "###### Create an artificial response variable and compare $R^2$"
   ]
  },
  {
   "cell_type": "code",
   "execution_count": null,
   "metadata": {
    "collapsed": true
   },
   "outputs": [],
   "source": [
    "def step_wise_regression(X):\n",
    "    from sklearn.linear_model import LinearRegression\n",
    "    \n",
    "    y = X.sum(axis=1)\n",
    "    print(X.shape, y.shape)\n",
    "\n",
    "    lin_reg = LinearRegression()\n",
    "    r2 = []\n",
    "    for k in range(1,X.shape[1]):\n",
    "        lin_reg.fit(X.iloc[:, 0:k], y)\n",
    "        r2.append(lin_reg.score(X.iloc[:, 0:k], y))\n",
    "\n",
    "    plt.plot(r2);"
   ]
  },
  {
   "cell_type": "code",
   "execution_count": null,
   "metadata": {
    "collapsed": true
   },
   "outputs": [],
   "source": [
    "step_wise_regression(measurements[feature_cols])"
   ]
  },
  {
   "cell_type": "markdown",
   "metadata": {},
   "source": [
    "###### Delete columns that are highly correlated with others"
   ]
  },
  {
   "cell_type": "code",
   "execution_count": null,
   "metadata": {
    "collapsed": true
   },
   "outputs": [],
   "source": [
    "def select_low_corr(X, y):\n",
    "    corr = X.corr();\n",
    "    cols = np.full((corr.shape[0],), True, dtype=bool)\n",
    "    \n",
    "    for i in range(corr.shape[0]):\n",
    "        for j in range(i+1, corr.shape[0]):\n",
    "            if abs(corr.iloc[i,j]) >= 0.9:\n",
    "                if cols[j]:\n",
    "                    cols[j] = False\n",
    "    selected_cols = X.columns[cols]\n",
    "    return selected_cols"
   ]
  },
  {
   "cell_type": "code",
   "execution_count": null,
   "metadata": {
    "collapsed": true
   },
   "outputs": [],
   "source": [
    "selected_cols = select_low_corr(measurements_[feature_cols], measurements_.stiffness)\n",
    "[measurements_.drop([col], axis=1, inplace=True) for col in feature_cols if col not in selected_cols]"
   ]
  },
  {
   "cell_type": "code",
   "execution_count": null,
   "metadata": {
    "collapsed": true
   },
   "outputs": [],
   "source": [
    "print(\"After feature selection the dataset has {} rows and {} columns.\".format(measurements_.shape[0], \n",
    "                                                                               measurements_.shape[1]))\n",
    "print(measurements_.dtypes.value_counts())\n",
    "measurements_.head()"
   ]
  },
  {
   "cell_type": "code",
   "execution_count": null,
   "metadata": {
    "collapsed": true
   },
   "outputs": [],
   "source": [
    "# Redefine numeric columns and feature columns\n",
    "numeric_cols = measurements_.select_dtypes(include=[np.number]).columns\n",
    "feature_cols = measurements_.select_dtypes(include=[np.number]).drop(['stiffness_num'], axis=1).columns"
   ]
  },
  {
   "cell_type": "markdown",
   "metadata": {},
   "source": [
    "## Normalisation"
   ]
  },
  {
   "cell_type": "code",
   "execution_count": null,
   "metadata": {},
   "outputs": [],
   "source": [
    "measurements_norm = measurements_.copy()\n",
    "# Standardise the entire dataset\n",
    "measurements_norm[feature_cols] = (measurements_norm[feature_cols] - measurements_norm[feature_cols].mean()) / measurements_norm[feature_cols].std()\n",
    "measurements_norm.head(3)"
   ]
  },
  {
   "cell_type": "markdown",
   "metadata": {},
   "source": [
    "### Visualise all the features"
   ]
  },
  {
   "cell_type": "code",
   "execution_count": null,
   "metadata": {
    "scrolled": false
   },
   "outputs": [],
   "source": [
    "sns.set(rc={'figure.figsize':(15, 12)})\n",
    "\n",
    "sns.heatmap(measurements_norm[feature_cols],\n",
    "            vmin = -1.5, vmax = 1.5,\n",
    "            cmap=sns.color_palette(\"RdBu_r\", 100),\n",
    "            cbar_kws={\"aspect\": 20},\n",
    "            xticklabels=False, yticklabels=False);\n",
    "\n",
    "#plt.savefig('../results/Morph feature selection heatmap.png', bbox_inches='tight', dpi=300);"
   ]
  },
  {
   "cell_type": "markdown",
   "metadata": {},
   "source": [
    "### Visualise aggregated values"
   ]
  },
  {
   "cell_type": "code",
   "execution_count": null,
   "metadata": {},
   "outputs": [],
   "source": [
    "mean_per_stiffness = measurements_norm.groupby('stiffness_num')[feature_cols].mean()\n",
    "mean_per_stiffness"
   ]
  },
  {
   "cell_type": "code",
   "execution_count": null,
   "metadata": {},
   "outputs": [],
   "source": [
    "sns.set(rc={'figure.figsize':(15, 3)})\n",
    "\n",
    "sns.heatmap(mean_per_stiffness, \n",
    "            vmin = -1.5, vmax = 1.5,\n",
    "            cmap=sns.color_palette(\"RdBu_r\", 100), \n",
    "            cbar_kws={\"aspect\": 5},\n",
    "            xticklabels=False, yticklabels=False);\n",
    "plt.ylabel('')\n",
    "\n",
    "#plt.savefig('../results/Morph feature selection agg heatmap.png', bbox_inches='tight', dpi=300);"
   ]
  },
  {
   "cell_type": "markdown",
   "metadata": {},
   "source": [
    "#### Colour code  groups of features"
   ]
  },
  {
   "cell_type": "code",
   "execution_count": null,
   "metadata": {
    "collapsed": true
   },
   "outputs": [],
   "source": [
    "last_colour = sns.color_palette(\"Set3\", 10)[9]\n",
    "my_palette = sns.color_palette(\"Set3\", 9)\n",
    "my_palette[8] = last_colour"
   ]
  },
  {
   "cell_type": "code",
   "execution_count": null,
   "metadata": {
    "collapsed": true
   },
   "outputs": [],
   "source": [
    "sns.set(rc={'figure.figsize':(15, 0.3)})\n",
    "\n",
    "sns.heatmap(feature_group, \n",
    "            cbar=True, cmap=my_palette, \n",
    "            xticklabels=False, yticklabels=False);\n",
    "\n",
    "plt.savefig('../results/Feature groups cbar.png', bbox_inches='tight', dpi=300);"
   ]
  },
  {
   "cell_type": "markdown",
   "metadata": {},
   "source": [
    "## Clustering"
   ]
  },
  {
   "cell_type": "markdown",
   "metadata": {},
   "source": [
    "> `sns.clustermap(metric=\"correlation\")` doesn't work. Will getting rid of redundant features help?"
   ]
  },
  {
   "cell_type": "code",
   "execution_count": null,
   "metadata": {},
   "outputs": [],
   "source": [
    "sns.clustermap(measurements_norm[feature_cols], \n",
    "               metric='euclidean', method='ward', \n",
    "               col_cluster=False,\n",
    "               cmap=sns.color_palette('RdBu_r', 100), robust=True);"
   ]
  },
  {
   "cell_type": "code",
   "execution_count": null,
   "metadata": {},
   "outputs": [],
   "source": [
    "# Prepare a vector of colours mapped to the 'stiffness' column\n",
    "my_palette = dict(zip(measurements_norm.stiffness.unique(), sns.color_palette(\"Set3\", 7)))\n",
    "row_colors = measurements_norm.stiffness.map(my_palette)\n",
    "\n",
    "print(list(my_palette.keys()))\n",
    "sns.palplot(my_palette.values())"
   ]
  },
  {
   "cell_type": "code",
   "execution_count": null,
   "metadata": {},
   "outputs": [],
   "source": [
    "sns.clustermap(measurements_norm[feature_cols], \n",
    "               metric='euclidean', method='ward', \n",
    "               col_cluster=False,\n",
    "               cmap=sns.color_palette('RdBu_r', 100), robust=True, \n",
    "               row_colors=row_colors);\n",
    "\n",
    "#plt.savefig('../results/Clustering.png', bbox_inches='tight', dpi=300);"
   ]
  },
  {
   "cell_type": "markdown",
   "metadata": {},
   "source": [
    "## PCA"
   ]
  },
  {
   "cell_type": "code",
   "execution_count": null,
   "metadata": {},
   "outputs": [],
   "source": [
    "from sklearn.preprocessing import StandardScaler\n",
    "\n",
    "# Separating out the features\n",
    "X = measurements_.loc[:, feature_cols].values\n",
    "\n",
    "# Standardizing the features\n",
    "scaler = StandardScaler()\n",
    "X_scaled = scaler.fit_transform(X)\n",
    "\n",
    "X_scaled.shape"
   ]
  },
  {
   "cell_type": "code",
   "execution_count": null,
   "metadata": {},
   "outputs": [],
   "source": [
    "from sklearn.decomposition import PCA\n",
    "\n",
    "n_components = 50\n",
    "# Create a PCA object\n",
    "pca = PCA(n_components=n_components)\n",
    "\n",
    "# Apply PCA to the scaled feature matrix\n",
    "principal_components = pca.fit_transform(X_scaled)\n",
    "\n",
    "pc_cols = [('pc_' + str(i)) for i in range(1, n_components + 1)]\n",
    "pc_df = pd.concat([measurements_.loc[:, 'label' : 'well'],\n",
    "                  pd.DataFrame(data = principal_components, columns = pc_cols)], \n",
    "                  axis=1)\n",
    "\n",
    "pc_df.shape"
   ]
  },
  {
   "cell_type": "code",
   "execution_count": null,
   "metadata": {},
   "outputs": [],
   "source": [
    "plt.rcParams['figure.figsize'] = (12, 5)\n",
    "\n",
    "plt.plot(X_scaled[0]);"
   ]
  },
  {
   "cell_type": "code",
   "execution_count": null,
   "metadata": {},
   "outputs": [],
   "source": [
    "print(pca.explained_variance_.shape)\n",
    "print(\"Percentage of explained variance:\\n\", 100 - pca.explained_variance_)\n",
    "n_pc = sum(100 - pca.explained_variance_ < 98.0) + 1\n",
    "print(\"\\nThe first {} principal components explain {} variance\".\n",
    "      format(n_pc, 100 - pca.explained_variance_[n_pc-1]))"
   ]
  },
  {
   "cell_type": "code",
   "execution_count": null,
   "metadata": {},
   "outputs": [],
   "source": [
    "plt.plot(pca.explained_variance_);\n",
    "\n",
    "#plt.savefig('../results/Explained variance.png', bbox_inches='tight', dpi=300);"
   ]
  },
  {
   "cell_type": "code",
   "execution_count": null,
   "metadata": {},
   "outputs": [],
   "source": [
    "pc_df[pc_cols].T.plot(legend=False);\n",
    "\n",
    "#plt.savefig('../results/Principal components.png', bbox_inches='tight', dpi=300);"
   ]
  },
  {
   "cell_type": "code",
   "execution_count": null,
   "metadata": {},
   "outputs": [],
   "source": [
    "plt.plot(pca.components_[0]);"
   ]
  },
  {
   "cell_type": "code",
   "execution_count": null,
   "metadata": {},
   "outputs": [],
   "source": [
    "first_component = zip(feature_cols, pca.components_[0])\n",
    "\n",
    "for col, weight in first_component:\n",
    "    if abs(weight) > 0.2:\n",
    "        print(col, weight)"
   ]
  },
  {
   "cell_type": "code",
   "execution_count": null,
   "metadata": {},
   "outputs": [],
   "source": [
    "my_palette = dict(zip(pc_df.stiffness.unique(), sns.color_palette(\"Set3\", 7)))\n",
    "row_colors = pc_df.stiffness.map(my_palette)\n",
    "\n",
    "sns.clustermap(pc_df.loc[:,'pc_1' : 'pc_' + str(n_pc)], \n",
    "               metric='euclidean', method='ward', \n",
    "               col_cluster=False,\n",
    "               cmap=sns.color_palette('RdBu_r', 40), robust=True, \n",
    "               row_colors=row_colors);\n",
    "\n",
    "#plt.savefig('../results/PCA Clustering 50.png', bbox_inches='tight', dpi=300);"
   ]
  },
  {
   "cell_type": "code",
   "execution_count": null,
   "metadata": {
    "collapsed": true
   },
   "outputs": [],
   "source": [
    "print(list(my_palette.keys()))\n",
    "sns.palplot(my_palette.values())"
   ]
  },
  {
   "cell_type": "markdown",
   "metadata": {},
   "source": [
    "### Random Forest Classifier"
   ]
  },
  {
   "cell_type": "code",
   "execution_count": null,
   "metadata": {},
   "outputs": [],
   "source": [
    "from sklearn.model_selection import train_test_split\n",
    "from sklearn.preprocessing import StandardScaler\n",
    "from sklearn.ensemble import RandomForestClassifier\n",
    "from sklearn.metrics import accuracy_score, f1_score\n",
    "\n",
    "\n",
    "X = measurements_[feature_cols]\n",
    "y = measurements_.stiffness\n",
    " \n",
    "X.shape, y.shape"
   ]
  },
  {
   "cell_type": "code",
   "execution_count": null,
   "metadata": {},
   "outputs": [],
   "source": [
    "X_train, X_test, y_train, y_test = train_test_split(X, y, random_state=1)\n",
    "X_train.shape, X_test.shape"
   ]
  },
  {
   "cell_type": "code",
   "execution_count": null,
   "metadata": {
    "collapsed": true
   },
   "outputs": [],
   "source": [
    "#scaler = StandardScaler()\n",
    "#X_train_scaled = scaler.fit_transform(X_train)\n",
    "#X_test_scaled = scaler.transform(X_test)"
   ]
  },
  {
   "cell_type": "code",
   "execution_count": null,
   "metadata": {
    "scrolled": true
   },
   "outputs": [],
   "source": [
    "rfc = RandomForestClassifier(n_estimators=100)\n",
    "rfc.fit(X_train, y_train)"
   ]
  },
  {
   "cell_type": "code",
   "execution_count": null,
   "metadata": {},
   "outputs": [],
   "source": [
    "y_pred = rfc.predict(X_test)\n",
    "print(\"Testing accuraccy:\", accuracy_score(y_test, y_pred))\n",
    "print(\"Testing f-score:\", f1_score(y_test, y_pred, average='weighted'))"
   ]
  },
  {
   "cell_type": "code",
   "execution_count": null,
   "metadata": {},
   "outputs": [],
   "source": [
    "np.unique(y_pred)"
   ]
  },
  {
   "cell_type": "code",
   "execution_count": null,
   "metadata": {},
   "outputs": [],
   "source": [
    "feature_importance = zip(feature_cols, rfc.feature_importances_)\n",
    "\n",
    "for col, weight in feature_importance:\n",
    "    if (weight > 0.02):\n",
    "        print(col, weight)"
   ]
  },
  {
   "cell_type": "markdown",
   "metadata": {},
   "source": [
    "### Random Forest Regressor"
   ]
  },
  {
   "cell_type": "code",
   "execution_count": null,
   "metadata": {
    "collapsed": true
   },
   "outputs": [],
   "source": [
    "from sklearn.model_selection import train_test_split\n",
    "from sklearn.preprocessing import StandardScaler\n",
    "from sklearn.ensemble import RandomForestRegressor\n",
    "from sklearn.metrics import mean_squared_error\n",
    "\n",
    "\n",
    "X = measurements_[feature_cols]\n",
    "y = measurements_.stiffness_num\n",
    " \n",
    "X.shape, y.shape"
   ]
  },
  {
   "cell_type": "code",
   "execution_count": null,
   "metadata": {
    "collapsed": true
   },
   "outputs": [],
   "source": [
    "X_train, X_test, y_train, y_test = train_test_split(X, y, random_state=1)\n",
    "X_train.shape, X_test.shape"
   ]
  },
  {
   "cell_type": "code",
   "execution_count": null,
   "metadata": {
    "collapsed": true
   },
   "outputs": [],
   "source": [
    "#scaler = StandardScaler()\n",
    "#X_train_scaled = scaler.fit_transform(X_train)\n",
    "#X_test_scaled = scaler.transform(X_test)"
   ]
  },
  {
   "cell_type": "code",
   "execution_count": null,
   "metadata": {
    "collapsed": true
   },
   "outputs": [],
   "source": [
    "rfr = RandomForestRegressor()\n",
    "rfr.fit(X_train, y_train)"
   ]
  },
  {
   "cell_type": "code",
   "execution_count": null,
   "metadata": {
    "collapsed": true
   },
   "outputs": [],
   "source": [
    "y_pred = rfr.predict(X_test)\n",
    "mse = mean_squared_error(y_test, y_pred)\n",
    "np.sqrt(mse)"
   ]
  },
  {
   "cell_type": "code",
   "execution_count": null,
   "metadata": {
    "collapsed": true
   },
   "outputs": [],
   "source": [
    "feature_importance = zip(measurements_.columns, rfr.feature_importances_)\n",
    "\n",
    "for col, weight in feature_importance:\n",
    "    if (weight > 0.025):\n",
    "        print(col, weight)"
   ]
  },
  {
   "cell_type": "markdown",
   "metadata": {},
   "source": [
    "### k-Means"
   ]
  },
  {
   "cell_type": "code",
   "execution_count": null,
   "metadata": {},
   "outputs": [],
   "source": [
    "X = measurements_[feature_cols]\n",
    "#X = measurements_syn.loc[measurements_syn.stiffness != \"8.0\", feature_cols]\n",
    "\n",
    "X.shape"
   ]
  },
  {
   "cell_type": "code",
   "execution_count": null,
   "metadata": {
    "collapsed": true
   },
   "outputs": [],
   "source": [
    "from imblearn.over_sampling import SMOTE\n",
    "from sklearn.model_selection import train_test_split\n",
    "from sklearn.preprocessing import StandardScaler\n",
    "from sklearn.decomposition import PCA\n",
    "from sklearn.ensemble import RandomForestClassifier\n",
    "from sklearn.cluster import KMeans\n",
    "from sklearn.metrics import accuracy_score, f1_score\n",
    "scaler = StandardScaler()\n",
    "X_scaled = scaler.fit_transform(X)"
   ]
  },
  {
   "cell_type": "code",
   "execution_count": null,
   "metadata": {
    "collapsed": true
   },
   "outputs": [],
   "source": [
    "km = KMeans(n_clusters=3, random_state=1)\n",
    "km.fit(X_scaled)\n",
    "\n",
    "measurements_['cluster'] = km.labels_\n",
    "#measurements_syn.loc[measurements_syn.stiffness != \"8.0\",'cluster'] = km.labels_"
   ]
  },
  {
   "cell_type": "code",
   "execution_count": null,
   "metadata": {},
   "outputs": [],
   "source": [
    "sns.scatterplot(data=measurements_, x='stiffness', y='cluster', \n",
    "                palette=sns.color_palette(\"husl\", 7), \n",
    "                alpha=0.1, s=100);"
   ]
  },
  {
   "cell_type": "code",
   "execution_count": null,
   "metadata": {},
   "outputs": [],
   "source": [
    "pd.crosstab(measurements_.stiffness, \n",
    "            measurements_.cluster).plot(kind='bar');\n",
    "plt.xlabel(\"Stiffness\")\n",
    "plt.ylabel(\"Count\")\n",
    "plt.title(\"Number of Cells from Each Cluster\");\n",
    "#plt.savefig('../results/Clustered Cells.png', bbox_inches='tight', dpi=300);"
   ]
  },
  {
   "cell_type": "code",
   "execution_count": null,
   "metadata": {
    "collapsed": true
   },
   "outputs": [],
   "source": [
    "pd.crosstab(measurements_syn[measurements_syn.stiffness != \"8.0\"].stiffness, \n",
    "            measurements_syn[measurements_syn.stiffness != \"8.0\"].cluster).plot(kind='bar');\n",
    "plt.xlabel(\"Stiffness\")\n",
    "plt.ylabel(\"Count\")\n",
    "plt.title(\"Number of Cells from Each Cluster\");"
   ]
  },
  {
   "cell_type": "code",
   "execution_count": null,
   "metadata": {
    "collapsed": true
   },
   "outputs": [],
   "source": []
  },
  {
   "cell_type": "code",
   "execution_count": null,
   "metadata": {
    "collapsed": true
   },
   "outputs": [],
   "source": [
    "x"
   ]
  }
 ],
 "metadata": {
  "kernelspec": {
   "display_name": "Python 3",
   "language": "python",
   "name": "python3"
  },
  "language_info": {
   "codemirror_mode": {
    "name": "ipython",
    "version": 3
   },
   "file_extension": ".py",
   "mimetype": "text/x-python",
   "name": "python",
   "nbconvert_exporter": "python",
   "pygments_lexer": "ipython3",
   "version": "3.6.8"
  },
  "toc": {
   "base_numbering": 1,
   "nav_menu": {},
   "number_sections": true,
   "sideBar": true,
   "skip_h1_title": false,
   "title_cell": "Table of Contents",
   "title_sidebar": "Contents",
   "toc_cell": false,
   "toc_position": {},
   "toc_section_display": true,
   "toc_window_display": false
  }
 },
 "nbformat": 4,
 "nbformat_minor": 2
}
