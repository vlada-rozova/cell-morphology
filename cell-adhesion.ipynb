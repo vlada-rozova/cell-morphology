{
 "cells": [
  {
   "cell_type": "code",
   "execution_count": 1,
   "metadata": {},
   "outputs": [
    {
     "name": "stderr",
     "output_type": "stream",
     "text": [
      "/Applications/anaconda3/lib/python3.6/site-packages/sklearn/externals/six.py:31: DeprecationWarning: The module is deprecated in version 0.21 and will be removed in version 0.23 since we've dropped support for Python 2.7. Please rely on the official version of six (https://pypi.org/project/six/).\n",
      "  \"(https://pypi.org/project/six/).\", DeprecationWarning)\n"
     ]
    }
   ],
   "source": [
    "import os\n",
    "import os.path\n",
    "import glob\n",
    "import pandas as pd\n",
    "import numpy as np\n",
    "from PIL import Image\n",
    "import preprocessing as proc\n",
    "from pandas.api.types import CategoricalDtype\n",
    "import seaborn as sns\n",
    "from matplotlib import pyplot as plt\n",
    "from scipy import stats\n",
    "\n",
    "%matplotlib inline\n",
    "\n",
    "plt.style.use('seaborn-ticks')\n",
    "sns.set_style('ticks')\n",
    "plt.rcParams['figure.figsize'] = (8, 8)\n",
    "plt.rcParams['axes.titlesize'] = 22\n",
    "plt.rcParams['axes.labelsize'] = 22\n",
    "plt.rcParams['xtick.labelsize'] = 20\n",
    "plt.rcParams['ytick.labelsize'] = 20\n",
    "\n",
    "pd.options.display.max_columns = 1000\n",
    "\n",
    "DATA_PATH = '../datasets/'\n",
    "\n",
    "os.environ['TF_CPP_MIN_LOG_LEVEL'] = '3'\n",
    "\n",
    "# Ignore useless warnings (see SciPy issue #5998)\n",
    "import warnings\n",
    "warnings.simplefilter('ignore')"
   ]
  },
  {
   "cell_type": "markdown",
   "metadata": {},
   "source": [
    "# Load data"
   ]
  },
  {
   "cell_type": "code",
   "execution_count": 2,
   "metadata": {
    "scrolled": true
   },
   "outputs": [
    {
     "name": "stdout",
     "output_type": "stream",
     "text": [
      "(315, 13)\n"
     ]
    },
    {
     "data": {
      "text/html": [
       "<div>\n",
       "<style scoped>\n",
       "    .dataframe tbody tr th:only-of-type {\n",
       "        vertical-align: middle;\n",
       "    }\n",
       "\n",
       "    .dataframe tbody tr th {\n",
       "        vertical-align: top;\n",
       "    }\n",
       "\n",
       "    .dataframe thead th {\n",
       "        text-align: right;\n",
       "    }\n",
       "</style>\n",
       "<table border=\"1\" class=\"dataframe\">\n",
       "  <thead>\n",
       "    <tr style=\"text-align: right;\">\n",
       "      <th></th>\n",
       "      <th>slide</th>\n",
       "      <th>label</th>\n",
       "      <th>spot</th>\n",
       "      <th>n</th>\n",
       "      <th>col1</th>\n",
       "      <th>col3</th>\n",
       "      <th>col4</th>\n",
       "      <th>col5</th>\n",
       "      <th>col6</th>\n",
       "      <th>fibr</th>\n",
       "      <th>lam</th>\n",
       "      <th>vitr</th>\n",
       "      <th>trop</th>\n",
       "    </tr>\n",
       "  </thead>\n",
       "  <tbody>\n",
       "    <tr>\n",
       "      <th>0</th>\n",
       "      <td>1</td>\n",
       "      <td>A1</td>\n",
       "      <td>3</td>\n",
       "      <td>22</td>\n",
       "      <td>250.0</td>\n",
       "      <td>0</td>\n",
       "      <td>0.0</td>\n",
       "      <td>0</td>\n",
       "      <td>0</td>\n",
       "      <td>0.0</td>\n",
       "      <td>0.0</td>\n",
       "      <td>0.0</td>\n",
       "      <td>0</td>\n",
       "    </tr>\n",
       "    <tr>\n",
       "      <th>1</th>\n",
       "      <td>1</td>\n",
       "      <td>A1</td>\n",
       "      <td>2</td>\n",
       "      <td>8</td>\n",
       "      <td>250.0</td>\n",
       "      <td>0</td>\n",
       "      <td>0.0</td>\n",
       "      <td>0</td>\n",
       "      <td>0</td>\n",
       "      <td>0.0</td>\n",
       "      <td>0.0</td>\n",
       "      <td>0.0</td>\n",
       "      <td>0</td>\n",
       "    </tr>\n",
       "    <tr>\n",
       "      <th>2</th>\n",
       "      <td>1</td>\n",
       "      <td>A1</td>\n",
       "      <td>1</td>\n",
       "      <td>15</td>\n",
       "      <td>250.0</td>\n",
       "      <td>0</td>\n",
       "      <td>0.0</td>\n",
       "      <td>0</td>\n",
       "      <td>0</td>\n",
       "      <td>0.0</td>\n",
       "      <td>0.0</td>\n",
       "      <td>0.0</td>\n",
       "      <td>0</td>\n",
       "    </tr>\n",
       "    <tr>\n",
       "      <th>3</th>\n",
       "      <td>1</td>\n",
       "      <td>A1</td>\n",
       "      <td>6</td>\n",
       "      <td>10</td>\n",
       "      <td>250.0</td>\n",
       "      <td>0</td>\n",
       "      <td>0.0</td>\n",
       "      <td>0</td>\n",
       "      <td>0</td>\n",
       "      <td>0.0</td>\n",
       "      <td>0.0</td>\n",
       "      <td>0.0</td>\n",
       "      <td>0</td>\n",
       "    </tr>\n",
       "    <tr>\n",
       "      <th>4</th>\n",
       "      <td>1</td>\n",
       "      <td>A1</td>\n",
       "      <td>5</td>\n",
       "      <td>16</td>\n",
       "      <td>250.0</td>\n",
       "      <td>0</td>\n",
       "      <td>0.0</td>\n",
       "      <td>0</td>\n",
       "      <td>0</td>\n",
       "      <td>0.0</td>\n",
       "      <td>0.0</td>\n",
       "      <td>0.0</td>\n",
       "      <td>0</td>\n",
       "    </tr>\n",
       "  </tbody>\n",
       "</table>\n",
       "</div>"
      ],
      "text/plain": [
       "   slide label  spot   n   col1  col3  col4  col5  col6  fibr  lam  vitr  trop\n",
       "0      1    A1     3  22  250.0     0   0.0     0     0   0.0  0.0   0.0     0\n",
       "1      1    A1     2   8  250.0     0   0.0     0     0   0.0  0.0   0.0     0\n",
       "2      1    A1     1  15  250.0     0   0.0     0     0   0.0  0.0   0.0     0\n",
       "3      1    A1     6  10  250.0     0   0.0     0     0   0.0  0.0   0.0     0\n",
       "4      1    A1     5  16  250.0     0   0.0     0     0   0.0  0.0   0.0     0"
      ]
     },
     "execution_count": 2,
     "metadata": {},
     "output_type": "execute_result"
    }
   ],
   "source": [
    "df = proc.load_data(\"Slide24h_ecm.csv\", data_path=DATA_PATH)\n",
    "df.columns = [col.lower() for col in df.columns]\n",
    "df = df.drop(df[df.label == 'H2'].index).reset_index(drop=True)\n",
    "print(df.shape)\n",
    "df.head()"
   ]
  },
  {
   "cell_type": "code",
   "execution_count": 3,
   "metadata": {},
   "outputs": [
    {
     "data": {
      "text/plain": [
       "Index(['col1', 'col3', 'col4', 'col5', 'col6', 'fibr', 'lam', 'vitr', 'trop'], dtype='object')"
      ]
     },
     "execution_count": 3,
     "metadata": {},
     "output_type": "execute_result"
    }
   ],
   "source": [
    "ecm_cols = df.columns[4:]\n",
    "ecm_cols"
   ]
  },
  {
   "cell_type": "markdown",
   "metadata": {},
   "source": [
    "## Create dataset with single proteins"
   ]
  },
  {
   "cell_type": "code",
   "execution_count": 4,
   "metadata": {},
   "outputs": [
    {
     "data": {
      "text/html": [
       "<div>\n",
       "<style scoped>\n",
       "    .dataframe tbody tr th:only-of-type {\n",
       "        vertical-align: middle;\n",
       "    }\n",
       "\n",
       "    .dataframe tbody tr th {\n",
       "        vertical-align: top;\n",
       "    }\n",
       "\n",
       "    .dataframe thead th {\n",
       "        text-align: right;\n",
       "    }\n",
       "</style>\n",
       "<table border=\"1\" class=\"dataframe\">\n",
       "  <thead>\n",
       "    <tr style=\"text-align: right;\">\n",
       "      <th></th>\n",
       "      <th>slide</th>\n",
       "      <th>label</th>\n",
       "      <th>spot</th>\n",
       "      <th>n</th>\n",
       "      <th>col1</th>\n",
       "      <th>col3</th>\n",
       "      <th>col4</th>\n",
       "      <th>col5</th>\n",
       "      <th>col6</th>\n",
       "      <th>fibr</th>\n",
       "      <th>lam</th>\n",
       "      <th>vitr</th>\n",
       "      <th>trop</th>\n",
       "    </tr>\n",
       "  </thead>\n",
       "  <tbody>\n",
       "    <tr>\n",
       "      <th>0</th>\n",
       "      <td>1</td>\n",
       "      <td>A1</td>\n",
       "      <td>3</td>\n",
       "      <td>22</td>\n",
       "      <td>250.0</td>\n",
       "      <td>0</td>\n",
       "      <td>0.0</td>\n",
       "      <td>0</td>\n",
       "      <td>0</td>\n",
       "      <td>0.0</td>\n",
       "      <td>0.0</td>\n",
       "      <td>0.0</td>\n",
       "      <td>0</td>\n",
       "    </tr>\n",
       "    <tr>\n",
       "      <th>1</th>\n",
       "      <td>1</td>\n",
       "      <td>A1</td>\n",
       "      <td>2</td>\n",
       "      <td>8</td>\n",
       "      <td>250.0</td>\n",
       "      <td>0</td>\n",
       "      <td>0.0</td>\n",
       "      <td>0</td>\n",
       "      <td>0</td>\n",
       "      <td>0.0</td>\n",
       "      <td>0.0</td>\n",
       "      <td>0.0</td>\n",
       "      <td>0</td>\n",
       "    </tr>\n",
       "    <tr>\n",
       "      <th>2</th>\n",
       "      <td>1</td>\n",
       "      <td>A1</td>\n",
       "      <td>1</td>\n",
       "      <td>15</td>\n",
       "      <td>250.0</td>\n",
       "      <td>0</td>\n",
       "      <td>0.0</td>\n",
       "      <td>0</td>\n",
       "      <td>0</td>\n",
       "      <td>0.0</td>\n",
       "      <td>0.0</td>\n",
       "      <td>0.0</td>\n",
       "      <td>0</td>\n",
       "    </tr>\n",
       "    <tr>\n",
       "      <th>3</th>\n",
       "      <td>1</td>\n",
       "      <td>A1</td>\n",
       "      <td>6</td>\n",
       "      <td>10</td>\n",
       "      <td>250.0</td>\n",
       "      <td>0</td>\n",
       "      <td>0.0</td>\n",
       "      <td>0</td>\n",
       "      <td>0</td>\n",
       "      <td>0.0</td>\n",
       "      <td>0.0</td>\n",
       "      <td>0.0</td>\n",
       "      <td>0</td>\n",
       "    </tr>\n",
       "    <tr>\n",
       "      <th>4</th>\n",
       "      <td>1</td>\n",
       "      <td>A1</td>\n",
       "      <td>5</td>\n",
       "      <td>16</td>\n",
       "      <td>250.0</td>\n",
       "      <td>0</td>\n",
       "      <td>0.0</td>\n",
       "      <td>0</td>\n",
       "      <td>0</td>\n",
       "      <td>0.0</td>\n",
       "      <td>0.0</td>\n",
       "      <td>0.0</td>\n",
       "      <td>0</td>\n",
       "    </tr>\n",
       "  </tbody>\n",
       "</table>\n",
       "</div>"
      ],
      "text/plain": [
       "  slide label spot   n   col1 col3  col4 col5 col6  fibr  lam  vitr trop\n",
       "0     1    A1    3  22  250.0    0   0.0    0    0   0.0  0.0   0.0    0\n",
       "1     1    A1    2   8  250.0    0   0.0    0    0   0.0  0.0   0.0    0\n",
       "2     1    A1    1  15  250.0    0   0.0    0    0   0.0  0.0   0.0    0\n",
       "3     1    A1    6  10  250.0    0   0.0    0    0   0.0  0.0   0.0    0\n",
       "4     1    A1    5  16  250.0    0   0.0    0    0   0.0  0.0   0.0    0"
      ]
     },
     "execution_count": 4,
     "metadata": {},
     "output_type": "execute_result"
    }
   ],
   "source": [
    "single_protein = ['A1', 'B1', 'C1', 'D1', 'E1', 'F1', 'G1', 'H1', 'I1']\n",
    "df_single = pd.DataFrame(columns = df.columns)\n",
    "for label in single_protein:\n",
    "    df_single = pd.concat([df_single, df[df.label==label]], axis=0)\n",
    "df_single.n = pd.to_numeric(df_single.n)\n",
    "df_single.head()"
   ]
  },
  {
   "cell_type": "markdown",
   "metadata": {},
   "source": [
    "![]('./ecm_array.png')"
   ]
  },
  {
   "cell_type": "code",
   "execution_count": 5,
   "metadata": {
    "collapsed": true
   },
   "outputs": [],
   "source": [
    "single_protein_dict = {'A1' : 'col1', 'B1' : 'col3', 'C1' : 'col4', \n",
    "                       'D1' : 'col5', 'E1' : 'col6', 'F1' : 'fibr', \n",
    "                       'G1' : 'lam', 'H1' : 'vitr', 'I1' : 'trop'}"
   ]
  },
  {
   "cell_type": "markdown",
   "metadata": {},
   "source": [
    "# Single proteins"
   ]
  },
  {
   "cell_type": "code",
   "execution_count": 6,
   "metadata": {},
   "outputs": [
    {
     "data": {
      "text/plain": [
       "label\n",
       "A1    17.000000\n",
       "B1     0.000000\n",
       "C1     0.000000\n",
       "D1     0.000000\n",
       "E1    16.444444\n",
       "F1    19.888889\n",
       "G1     1.666667\n",
       "H1    12.555556\n",
       "I1     2.666667\n",
       "Name: n, dtype: float64"
      ]
     },
     "execution_count": 6,
     "metadata": {},
     "output_type": "execute_result"
    }
   ],
   "source": [
    "df_single.groupby('label').n.mean()"
   ]
  },
  {
   "cell_type": "code",
   "execution_count": 102,
   "metadata": {},
   "outputs": [
    {
     "data": {
      "text/plain": [
       "('col3', 'col4', 'col5')"
      ]
     },
     "execution_count": 102,
     "metadata": {},
     "output_type": "execute_result"
    }
   ],
   "source": [
    "single_protein_dict['B1'], single_protein_dict['C1'], single_protein_dict['D1']"
   ]
  },
  {
   "cell_type": "code",
   "execution_count": 7,
   "metadata": {},
   "outputs": [
    {
     "data": {
      "image/png": "[encoded data removed]",
      "text/plain": [
       "<Figure size 360x360 with 1 Axes>"
      ]
     },
     "metadata": {},
     "output_type": "display_data"
    }
   ],
   "source": [
    "plt.rcParams['figure.figsize'] = (5, 5)\n",
    "\n",
    "sns.boxplot(x='label', y='n', data=df_single);"
   ]
  },
  {
   "cell_type": "code",
   "execution_count": 8,
   "metadata": {},
   "outputs": [
    {
     "data": {
      "text/plain": [
       "label\n",
       "A1    [22, 8, 15, 10, 16, 27, 18, 21]\n",
       "B1                                [0]\n",
       "C1                                [0]\n",
       "D1                                [0]\n",
       "E1       [14, 16, 10, 19, 12, 17, 22]\n",
       "F1       [20, 22, 27, 21, 14, 16, 19]\n",
       "G1                    [4, 1, 2, 3, 0]\n",
       "H1         [17, 8, 20, 7, 15, 12, 11]\n",
       "I1                          [3, 6, 0]\n",
       "Name: n, dtype: object"
      ]
     },
     "execution_count": 8,
     "metadata": {},
     "output_type": "execute_result"
    }
   ],
   "source": [
    "df_single.groupby('label').n.unique()"
   ]
  },
  {
   "cell_type": "markdown",
   "metadata": {},
   "source": [
    "## Linear regression"
   ]
  },
  {
   "cell_type": "code",
   "execution_count": 91,
   "metadata": {
    "collapsed": true
   },
   "outputs": [],
   "source": [
    "from sklearn.preprocessing import StandardScaler\n",
    "from sklearn.linear_model import LinearRegression\n",
    "from sklearn.tree import DecisionTreeRegressor\n",
    "from sklearn.ensemble import RandomForestRegressor\n",
    "from sklearn.metrics import mean_squared_error\n",
    "\n",
    "def train_test(X_train, y_train, X_test, y_test, model):\n",
    "    # scaler = StandardScaler()\n",
    "    # X_scaled = scaler.fit_transform(X)\n",
    "    \n",
    "    if model=='linreg':\n",
    "        model = LinearRegression(fit_intercept=False)\n",
    "    elif model=='tree':\n",
    "        model = DecisionTreeRegressor()\n",
    "    elif model=='forest':\n",
    "        model = RandomForestRegressor()\n",
    "        \n",
    "    model.fit(X_train, y_train)\n",
    "    y_pred = model.predict(X_train)\n",
    "\n",
    "    rmse_train = np.sqrt(mean_squared_error(y_train, y_pred))\n",
    "    print(\"Training RMSE:\", rmse_train)\n",
    "\n",
    "    print(\"Null RMSE:\", np.sqrt(mean_squared_error(y_test, y_test.apply(lambda x: np.mean(y_train)))))\n",
    "\n",
    "    y_pred = model.predict(X_test)\n",
    "\n",
    "    rmse_test = np.sqrt(mean_squared_error(y_test, y_pred))\n",
    "    print(\"Testing RMSE:\", rmse_test)"
   ]
  },
  {
   "cell_type": "code",
   "execution_count": 94,
   "metadata": {},
   "outputs": [
    {
     "name": "stdout",
     "output_type": "stream",
     "text": [
      "(81, 9) (81,)\n",
      "(234, 9) (234,)\n",
      "Training RMSE: 2.9509013758580873\n",
      "Null RMSE: 7.840025481749209\n",
      "Testing RMSE: 6.514468086829575\n"
     ]
    }
   ],
   "source": [
    "X_train = df_single[ecm_cols]\n",
    "y_train = df_single.n\n",
    "print(X_train.shape, y_train.shape)\n",
    "\n",
    "indices = [ind for ind in df.index.tolist() if ind not in df_single.index.tolist()]\n",
    "\n",
    "X_test = df.loc[indices, ecm_cols]\n",
    "y_test = df.loc[indices, 'n']\n",
    "print(X_test.shape, y_test.shape)\n",
    "\n",
    "train_test(X_train, y_train, X_test, y_test, 'linreg')"
   ]
  },
  {
   "cell_type": "code",
   "execution_count": 85,
   "metadata": {},
   "outputs": [
    {
     "data": {
      "image/png": "[encoded data removed]",
      "text/plain": [
       "<Figure size 360x360 with 1 Axes>"
      ]
     },
     "metadata": {},
     "output_type": "display_data"
    }
   ],
   "source": [
    "sns.scatterplot(y_test, y_pred);"
   ]
  },
  {
   "cell_type": "code",
   "execution_count": 104,
   "metadata": {
    "collapsed": true
   },
   "outputs": [],
   "source": [
    "tmp = df[(df.label == 'A1') | (df.label == 'A2') | (df.label == 'B2') | (df.label == 'C2')]"
   ]
  },
  {
   "cell_type": "code",
   "execution_count": 111,
   "metadata": {},
   "outputs": [
    {
     "data": {
      "text/plain": [
       "col1    0.166002\n",
       "dtype: float64"
      ]
     },
     "execution_count": 111,
     "metadata": {},
     "output_type": "execute_result"
    }
   ],
   "source": [
    "tmp[['col1']].corrwith(tmp.n)"
   ]
  },
  {
   "cell_type": "markdown",
   "metadata": {},
   "source": [
    "## Expore the data"
   ]
  },
  {
   "cell_type": "code",
   "execution_count": null,
   "metadata": {
    "collapsed": true
   },
   "outputs": [],
   "source": [
    "df.head()"
   ]
  },
  {
   "cell_type": "code",
   "execution_count": 18,
   "metadata": {},
   "outputs": [
    {
     "name": "stdout",
     "output_type": "stream",
     "text": [
      "<class 'pandas.core.frame.DataFrame'>\n",
      "Int64Index: 81 entries, 0 to 224\n",
      "Data columns (total 13 columns):\n",
      "slide    81 non-null object\n",
      "label    81 non-null object\n",
      "spot     81 non-null object\n",
      "n        81 non-null int64\n",
      "col1     81 non-null float64\n",
      "col3     81 non-null object\n",
      "col4     81 non-null float64\n",
      "col5     81 non-null object\n",
      "col6     81 non-null object\n",
      "fibr     81 non-null float64\n",
      "lam      81 non-null float64\n",
      "vitr     81 non-null float64\n",
      "trop     81 non-null object\n",
      "dtypes: float64(5), int64(1), object(7)\n",
      "memory usage: 8.9+ KB\n"
     ]
    }
   ],
   "source": [
    "df_single.info()"
   ]
  },
  {
   "cell_type": "code",
   "execution_count": null,
   "metadata": {
    "collapsed": true
   },
   "outputs": [],
   "source": [
    "df.label.value_counts()"
   ]
  },
  {
   "cell_type": "code",
   "execution_count": null,
   "metadata": {
    "collapsed": true
   },
   "outputs": [],
   "source": [
    "df.groupby('label').n.sum() == 0"
   ]
  },
  {
   "cell_type": "code",
   "execution_count": 11,
   "metadata": {},
   "outputs": [
    {
     "data": {
      "image/png": "[encoded data removed]",
      "text/plain": [
       "<Figure size 1224x288 with 1 Axes>"
      ]
     },
     "metadata": {},
     "output_type": "display_data"
    }
   ],
   "source": [
    "plt.rcParams['figure.figsize'] = (17, 4)\n",
    "\n",
    "sns.barplot(x=df.label, y=df.n, ci='sd', capsize=.1);\n",
    "\n",
    "plt.xlabel(\"ECM condition\");\n",
    "plt.ylabel(\"Cell number\");\n",
    "# plt.title(\"Numbers of attached cells\")\n",
    "plt.savefig('../results/Attached cells.png', bbox_inches='tight', dpi=300);"
   ]
  },
  {
   "cell_type": "code",
   "execution_count": null,
   "metadata": {
    "collapsed": true
   },
   "outputs": [],
   "source": [
    "df[df.label == \"B1\"]"
   ]
  },
  {
   "cell_type": "code",
   "execution_count": null,
   "metadata": {
    "collapsed": true
   },
   "outputs": [],
   "source": [
    "df[ecm_cols].hist(bins = 10,sharex=True, sharey=True, figsize = (12, 6));\n",
    "plt.tight_layout()"
   ]
  },
  {
   "cell_type": "code",
   "execution_count": null,
   "metadata": {
    "collapsed": true
   },
   "outputs": [],
   "source": [
    "for label in pure:\n",
    "    print(label, pure_dict[label], df[df.label==label].n.mean())"
   ]
  },
  {
   "cell_type": "code",
   "execution_count": null,
   "metadata": {
    "collapsed": true
   },
   "outputs": [],
   "source": [
    "p_corr = df24[ecm_cols].corrwith(df24.n)\n",
    "p_corr"
   ]
  },
  {
   "cell_type": "code",
   "execution_count": null,
   "metadata": {
    "collapsed": true
   },
   "outputs": [],
   "source": [
    "sns.heatmap(pd.DataFrame(p_corr, columns=['Pearsons']).T, \n",
    "            cmap=sns.color_palette(\"RdBu_r\", 10), \n",
    "            vmin=-0.5, vmax=0.5, \n",
    "            annot=True, annot_kws={\"size\": 22}, \n",
    "            yticklabels=False, cbar_kws={\"aspect\": 5});\n",
    "plt.xticks(rotation=45);\n",
    "plt.savefig('../results/ECM proteins corr.png', bbox_inches='tight', dpi=300);"
   ]
  },
  {
   "cell_type": "code",
   "execution_count": null,
   "metadata": {
    "collapsed": true
   },
   "outputs": [],
   "source": [
    "corr_matrix = df24.corr()\n",
    "corr_matrix[\"N\"].sort_values(ascending = False)"
   ]
  },
  {
   "cell_type": "code",
   "execution_count": null,
   "metadata": {
    "collapsed": true
   },
   "outputs": [],
   "source": [
    "df24.plot(kind = \"scatter\", x = \"Fibr\", y = \"N\", alpha = 0.5)"
   ]
  },
  {
   "cell_type": "code",
   "execution_count": null,
   "metadata": {
    "collapsed": true
   },
   "outputs": [],
   "source": [
    "df24.plot(kind = \"scatter\", x = \"Col1\", y = \"N\", alpha = 0.5)"
   ]
  },
  {
   "cell_type": "code",
   "execution_count": null,
   "metadata": {
    "collapsed": true
   },
   "outputs": [],
   "source": [
    "df24.plot(kind = \"scatter\", x = \"Col6\", y = \"N\", alpha = 0.5)"
   ]
  },
  {
   "cell_type": "code",
   "execution_count": null,
   "metadata": {
    "collapsed": true
   },
   "outputs": [],
   "source": [
    "df24.plot(kind = \"scatter\", x = \"Col4\", y = \"N\", alpha = 0.5)"
   ]
  },
  {
   "cell_type": "code",
   "execution_count": null,
   "metadata": {
    "collapsed": true
   },
   "outputs": [],
   "source": [
    "df24.plot(kind = \"scatter\", x = \"Trop\", y = \"N\", alpha = 0.5)"
   ]
  },
  {
   "cell_type": "code",
   "execution_count": null,
   "metadata": {
    "collapsed": true
   },
   "outputs": [],
   "source": [
    "df24_prod = df24.copy()\n",
    "df24_prod[\"Col1_Col5\"] = df24[\"Col1\"] * df24[\"Col5\"]\n",
    "df24_prod.head()"
   ]
  },
  {
   "cell_type": "code",
   "execution_count": null,
   "metadata": {
    "collapsed": true
   },
   "outputs": [],
   "source": [
    "df24_prod.plot(kind = \"scatter\", x = \"Col1_Col5\", y = \"N\", alpha = 0.5)"
   ]
  },
  {
   "cell_type": "markdown",
   "metadata": {},
   "source": [
    "## Convert into classification problem"
   ]
  },
  {
   "cell_type": "code",
   "execution_count": null,
   "metadata": {
    "collapsed": true
   },
   "outputs": [],
   "source": [
    "N = np.array(df24['N']).reshape(-1,1)"
   ]
  },
  {
   "cell_type": "code",
   "execution_count": null,
   "metadata": {
    "collapsed": true
   },
   "outputs": [],
   "source": [
    "plt.hist(N, bins=25)\n",
    "plt.show()"
   ]
  },
  {
   "cell_type": "code",
   "execution_count": null,
   "metadata": {
    "collapsed": true
   },
   "outputs": [],
   "source": [
    "N = N.ravel()\n",
    "np.min(N), np.percentile(N, 25), np.median(N), np.percentile(N, 75), np.max(N)"
   ]
  },
  {
   "cell_type": "code",
   "execution_count": null,
   "metadata": {
    "collapsed": true
   },
   "outputs": [],
   "source": [
    "N_positive = N[N>0]\n",
    "print(np.min(N_positive), np.median(N_positive), np.max(N_positive))\n",
    "p33 = np.percentile(N_positive, 33),\n",
    "p66 = np.percentile(N_positive, 66),\n",
    "p33, p66"
   ]
  },
  {
   "cell_type": "code",
   "execution_count": null,
   "metadata": {
    "collapsed": true
   },
   "outputs": [],
   "source": [
    "# Adhesion strength: 0 - no adhesion, 0<N<=p33 - low adhesion,\n",
    "# p33<N<=p66 - moderate adhesion, p66<N<=max - high adhesion\n",
    "adhesion_strength = np.zeros((len(N), 1), dtype = np.float32)\n",
    "adhesion_strength[:,0][0 < N] = 1.0\n",
    "adhesion_strength[:,0][p33 < N] = 2.0\n",
    "adhesion_strength[:,0][p66 < N] = 3.0"
   ]
  },
  {
   "cell_type": "code",
   "execution_count": null,
   "metadata": {
    "collapsed": true
   },
   "outputs": [],
   "source": [
    "N[28], N[1], N[2], N[0]"
   ]
  },
  {
   "cell_type": "code",
   "execution_count": null,
   "metadata": {
    "collapsed": true
   },
   "outputs": [],
   "source": [
    "adhesion_strength[28], adhesion_strength[1], adhesion_strength[2], adhesion_strength[0]"
   ]
  },
  {
   "cell_type": "code",
   "execution_count": null,
   "metadata": {
    "collapsed": true
   },
   "outputs": [],
   "source": [
    "df24['Strength'] = adhesion_strength\n",
    "df24.head()"
   ]
  },
  {
   "cell_type": "markdown",
   "metadata": {},
   "source": [
    "## Create training and validation sets"
   ]
  },
  {
   "cell_type": "code",
   "execution_count": null,
   "metadata": {
    "collapsed": true
   },
   "outputs": [],
   "source": [
    "import random\n",
    "from sklearn.utils import shuffle\n",
    "\n",
    "def stratify(df, train_size=7):\n",
    "\n",
    "    labels = df['Label'].unique()\n",
    "\n",
    "    strat_train_set = pd.DataFrame()\n",
    "    strat_val_set = pd.DataFrame()\n",
    "\n",
    "    for i in range(0, len(labels)):\n",
    "        shuffled_indices = np.random.permutation((range(0, 9)))\n",
    "        train_indices = shuffled_indices[: train_size]\n",
    "        val_indices = shuffled_indices[train_size :]\n",
    "        strat_train_set = strat_train_set.append(df[df[\"Label\"] == labels[i]].iloc[train_indices])\n",
    "        strat_val_set = strat_val_set.append(df[df[\"Label\"] == labels[i]].iloc[val_indices])\n",
    "        \n",
    "        strat_train_set = shuffle(strat_train_set)\n",
    "    \n",
    "    return strat_train_set, strat_val_set"
   ]
  },
  {
   "cell_type": "code",
   "execution_count": null,
   "metadata": {
    "collapsed": true
   },
   "outputs": [],
   "source": [
    "def create_train_val_sets(df, train_size=7, mode=\"regression\"):\n",
    "    strat_train_set, strat_val_set = stratify(df, train_size)\n",
    "    X_train = strat_train_set.drop([\"Slide\", \"Label\", \"Spot\", \"N\", \"Strength\"], axis = 1).values\n",
    "    X_val = strat_val_set.drop([\"Slide\", \"Label\", \"Spot\", \"N\", \"Strength\"], axis = 1).values\n",
    "    if mode == \"regression\":\n",
    "        y_train = strat_train_set[\"N\"].values\n",
    "        y_val = strat_val_set[\"N\"].values\n",
    "    if mode == \"classification\":\n",
    "        y_train = strat_train_set[\"Strength\"].values\n",
    "        y_val = strat_val_set[\"Strength\"].values\n",
    "    print(len(X_train), len(X_val))\n",
    "    return X_train, X_val, y_train, y_val"
   ]
  },
  {
   "cell_type": "markdown",
   "metadata": {},
   "source": [
    "## Compare learning curves"
   ]
  },
  {
   "cell_type": "code",
   "execution_count": null,
   "metadata": {
    "collapsed": true
   },
   "outputs": [],
   "source": [
    "from sklearn.preprocessing import PolynomialFeatures\n",
    "from sklearn.preprocessing import StandardScaler\n",
    "from sklearn.linear_model import LinearRegression\n",
    "from sklearn.metrics import mean_squared_error\n",
    "from sklearn.pipeline import Pipeline\n",
    "\n",
    "def regression(model, X, y, train=True):\n",
    "    if train:\n",
    "        model.fit(X, y) \n",
    "    y_predict = model.predict(X)\n",
    "    mse = mean_squared_error(y_predict, y)\n",
    "    return mse"
   ]
  },
  {
   "cell_type": "code",
   "execution_count": null,
   "metadata": {
    "collapsed": true
   },
   "outputs": [],
   "source": [
    "def plot_learning_curves(reg_model, X_train, y_train, X_test, y_test, poly=True):\n",
    "    #poly_features = PolynomialFeatures(degree=2, interaction_only=True, include_bias=False)\n",
    "    std_scaler = StandardScaler()\n",
    "    if (poly):\n",
    "        poly_features = PolynomialFeatures(degree=2, include_bias=False)\n",
    "        full_pipeline = Pipeline([\n",
    "            (\"poly_features\", poly_features),\n",
    "            (\"std_scaler\", std_scaler),\n",
    "            (\"lin_reg\", reg_model)\n",
    "        ])\n",
    "    else:\n",
    "        full_pipeline = Pipeline([\n",
    "            (\"std_scaler\", std_scaler),\n",
    "            (\"lin_reg\", reg_model)\n",
    "        ])\n",
    "    train_error, test_error = [], []\n",
    "\n",
    "    for m in range (1, len(X_train) + 1):\n",
    "        train_error.append(regression(full_pipeline, X_train[:m], y_train[:m]))\n",
    "        test_error.append(regression(full_pipeline, X_test, y_test, train=False))\n",
    "        \n",
    "    print(\"Train set RMSE:\", np.sqrt(train_error[-1]), \"\\tTest set RMSE:\", np.sqrt(test_error[-1]))\n",
    "    plt.plot(np.sqrt(train_error), \"r-+\", linewidth=2, label=\"train\")\n",
    "    plt.plot(np.sqrt(test_error), \"b--\", linewidth=3, label=\"test\")\n",
    "    plt.legend(loc=\"upper right\", fontsize=14)\n",
    "    plt.xlabel(\"Training set size\", fontsize=14)\n",
    "    plt.ylabel(\"RMSE\", fontsize=14) \n",
    "    plt.axis([0, len(X_train), 0 , 20])   \n",
    "    plt.show() \n",
    "    \n",
    "    if (poly):\n",
    "        return poly_features.get_feature_names()"
   ]
  },
  {
   "cell_type": "code",
   "execution_count": null,
   "metadata": {
    "collapsed": true
   },
   "outputs": [],
   "source": [
    "X_train, X_val, y_train, y_val = create_train_val_sets(df24, train_size=7, mode=\"regression\")"
   ]
  },
  {
   "cell_type": "markdown",
   "metadata": {},
   "source": [
    "### Linear regression"
   ]
  },
  {
   "cell_type": "code",
   "execution_count": null,
   "metadata": {
    "collapsed": true
   },
   "outputs": [],
   "source": [
    "lin_reg = LinearRegression(fit_intercept=False)\n",
    "plot_learning_curves(lin_reg, X_train, y_train, X_val, y_val)"
   ]
  },
  {
   "cell_type": "code",
   "execution_count": null,
   "metadata": {
    "collapsed": true
   },
   "outputs": [],
   "source": [
    "lin_reg.intercept_, lin_reg.coef_"
   ]
  },
  {
   "cell_type": "markdown",
   "metadata": {},
   "source": [
    "### Lasso regression"
   ]
  },
  {
   "cell_type": "code",
   "execution_count": null,
   "metadata": {
    "collapsed": true
   },
   "outputs": [],
   "source": [
    "from sklearn.linear_model import Lasso\n",
    "\n",
    "lasso_reg = Lasso(alpha = 1.1, fit_intercept=False)"
   ]
  },
  {
   "cell_type": "code",
   "execution_count": null,
   "metadata": {
    "collapsed": true
   },
   "outputs": [],
   "source": [
    "feature_names = plot_learning_curves(lasso_reg, X_train, y_train, X_val, y_val)"
   ]
  },
  {
   "cell_type": "code",
   "execution_count": null,
   "metadata": {
    "collapsed": true
   },
   "outputs": [],
   "source": [
    "print(lasso_reg.intercept_)\n",
    "print(sum(lasso_reg.coef_!=0))\n",
    "print(np.asarray(feature_names)[lasso_reg.coef_!=0])\n",
    "lasso_reg.coef_[lasso_reg.coef_!=0]"
   ]
  },
  {
   "cell_type": "markdown",
   "metadata": {},
   "source": [
    "### Restricted model  "
   ]
  },
  {
   "cell_type": "code",
   "execution_count": null,
   "metadata": {
    "collapsed": true
   },
   "outputs": [],
   "source": [
    "df24_ext = df24.copy()\n",
    "df24_ext[\"Col1_Col5\"] = df24[\"Col1\"] * df24[\"Col5\"]\n",
    "df24_ext[\"Col4_x2\"] = df24[\"Col4\"]**2\n",
    "df24_ext[\"Col4_Col6\"] = df24[\"Col4\"] * df24[\"Col6\"]\n",
    "df24_ext[\"Fibr_x2\"] = df24[\"Fibr\"]**2\n",
    "df24_ext[\"Fibr_Vitr\"] = df24[\"Fibr\"] * df24[\"Vitr\"]\n",
    "df24_ext.head()"
   ]
  },
  {
   "cell_type": "code",
   "execution_count": null,
   "metadata": {
    "collapsed": true
   },
   "outputs": [],
   "source": [
    "features = ['Col1', 'Col6', 'Fibr', 'Col1_Col5','Col4_x2', 'Col4_Col6','Fibr_x2', 'Fibr_Vitr']\n",
    "df24_res = df24_ext[df24_ext[features].any(axis=1)]\n",
    "#df24_res = df24_ext.copy()\n",
    "df24_res = df24_res.drop(['Col3', 'Col4', 'Col5', 'Lam', 'Vitr', 'Trop'], axis=1)\n",
    "df24_res.head()"
   ]
  },
  {
   "cell_type": "code",
   "execution_count": null,
   "metadata": {
    "collapsed": true
   },
   "outputs": [],
   "source": [
    "X_train, X_val, y_train, y_val = create_train_val_sets(df24_res, train_size=7, mode=\"regression\")"
   ]
  },
  {
   "cell_type": "code",
   "execution_count": null,
   "metadata": {
    "collapsed": true
   },
   "outputs": [],
   "source": [
    "lin_reg = LinearRegression(fit_intercept=False)\n",
    "plot_learning_curves(lin_reg, X_train, y_train, X_val, y_val, poly=False)"
   ]
  },
  {
   "cell_type": "code",
   "execution_count": null,
   "metadata": {
    "collapsed": true
   },
   "outputs": [],
   "source": [
    "print(lin_reg.intercept_)\n",
    "print(sum(lin_reg.coef_!=0))\n",
    "lin_reg.coef_[lin_reg.coef_!=0]"
   ]
  },
  {
   "cell_type": "code",
   "execution_count": null,
   "metadata": {
    "collapsed": true
   },
   "outputs": [],
   "source": [
    "x0, x4, x5, x0_x3, x2_2, x2_x4, x5_2, x5_x7 = np.meshgrid(np.linspace(0, 250, 11).reshape(-1, 1),\n",
    "                                                            np.linspace(0, 250, 11).reshape(-1, 1),\n",
    "                                                            np.linspace(0, 250, 11).reshape(-1, 1),\n",
    "                                                            np.linspace(0, 62500, 11).reshape(-1, 1),\n",
    "                                                            np.linspace(0, 62500, 11).reshape(-1, 1),\n",
    "                                                            np.linspace(0, 62500, 11).reshape(-1, 1),\n",
    "                                                            np.linspace(0, 62500, 11).reshape(-1, 1),\n",
    "                                                            np.linspace(0, 62500, 11).reshape(-1, 1),\n",
    "                                           )\n",
    "X_new = np.c_[x0.ravel(), x4.ravel(), x5.ravel(), \n",
    "              x0_x3.ravel(), x2_2.ravel(), x2_x4.ravel(), \n",
    "              x5_2.ravel(), x5_x7.ravel()]\n",
    "x0.shape\n",
    "#y_predict = lasso_reg.predict(X_new)"
   ]
  },
  {
   "cell_type": "code",
   "execution_count": null,
   "metadata": {
    "collapsed": true
   },
   "outputs": [],
   "source": [
    "zz1 = y_proba[:, 1].reshape(x0.shape)\n",
    "zz = y_predict.reshape(x0.shape)\n",
    "\n",
    "plt.figure(figsize=(10, 4))\n",
    "plt.plot(X[y==2, 0], X[y==2, 1], \"g^\", label=\"Iris-Virginica\")\n",
    "plt.plot(X[y==1, 0], X[y==1, 1], \"bs\", label=\"Iris-Versicolor\")\n",
    "plt.plot(X[y==0, 0], X[y==0, 1], \"yo\", label=\"Iris-Setosa\")\n",
    "\n",
    "from matplotlib.colors import ListedColormap\n",
    "custom_cmap = ListedColormap(['#fafab0','#9898ff','#a0faa0'])\n",
    "\n",
    "plt.contourf(x0, x1, zz, cmap=custom_cmap)\n",
    "contour = plt.contour(x0, x1, zz1, cmap=plt.cm.brg)\n",
    "plt.clabel(contour, inline=1, fontsize=12)\n",
    "plt.xlabel(\"Petal length\", fontsize=14)\n",
    "plt.ylabel(\"Petal width\", fontsize=14)\n",
    "plt.legend(loc=\"center left\", fontsize=14)\n",
    "plt.axis([0, 7, 0, 3.5])\n",
    "plt.show()"
   ]
  },
  {
   "cell_type": "markdown",
   "metadata": {},
   "source": [
    "N ~ Col1 + Col6 + Fibr + Fibr^2;\n",
    "N ~ Col1 + Col6 + Fibr + Col1Col3 - Col4^2 + Fibr^2 + FibrVitr"
   ]
  },
  {
   "cell_type": "markdown",
   "metadata": {},
   "source": [
    "### Elastic Net"
   ]
  },
  {
   "cell_type": "code",
   "execution_count": null,
   "metadata": {
    "collapsed": true
   },
   "outputs": [],
   "source": [
    "from sklearn.linear_model import ElasticNet\n",
    "\n",
    "elastic_net = ElasticNet(alpha=2, l1_ratio=0.5, fit_intercept=False)"
   ]
  },
  {
   "cell_type": "code",
   "execution_count": null,
   "metadata": {
    "collapsed": true
   },
   "outputs": [],
   "source": [
    "plot_learning_curves(elastic_net, X_train, y_train, X_test, y_test)"
   ]
  },
  {
   "cell_type": "code",
   "execution_count": null,
   "metadata": {
    "collapsed": true
   },
   "outputs": [],
   "source": [
    "print(elastic_net.intercept_)\n",
    "elastic_net.coef_"
   ]
  },
  {
   "cell_type": "markdown",
   "metadata": {},
   "source": [
    "## Plain polynomial regression"
   ]
  },
  {
   "cell_type": "code",
   "execution_count": null,
   "metadata": {
    "collapsed": true
   },
   "outputs": [],
   "source": [
    "from sklearn.preprocessing import PolynomialFeatures\n",
    "\n",
    "poly_features = PolynomialFeatures(degree=2, include_bias=False)\n",
    "X_poly = poly_features.fit_transform(X_train)\n",
    "print(len(X_train[0]), len(X_poly[0]))\n",
    "print(X_train[0])\n",
    "print(X_poly[0])\n",
    "print(poly_features.get_feature_names())"
   ]
  },
  {
   "cell_type": "code",
   "execution_count": null,
   "metadata": {
    "collapsed": true
   },
   "outputs": [],
   "source": [
    "from sklearn.preprocessing import StandardScaler\n",
    "\n",
    "std_scaler = StandardScaler()\n",
    "X_poly_std = std_scaler.fit_transform(X_poly)\n",
    "X_poly_std[0]"
   ]
  },
  {
   "cell_type": "code",
   "execution_count": null,
   "metadata": {
    "collapsed": true
   },
   "outputs": [],
   "source": [
    "np.mean(X_poly[:,0])"
   ]
  },
  {
   "cell_type": "code",
   "execution_count": null,
   "metadata": {
    "collapsed": true
   },
   "outputs": [],
   "source": [
    "np.mean(X_poly_std[:,0])"
   ]
  },
  {
   "cell_type": "code",
   "execution_count": null,
   "metadata": {
    "collapsed": true
   },
   "outputs": [],
   "source": [
    "from sklearn.linear_model import LinearRegression\n",
    "\n",
    "lin_reg = LinearRegression(fit_intercept=False)\n",
    "lin_reg.fit(X_poly, y_train)\n",
    "lin_reg.intercept_, lin_reg.coef_"
   ]
  },
  {
   "cell_type": "code",
   "execution_count": null,
   "metadata": {
    "collapsed": true
   },
   "outputs": [],
   "source": [
    "y_train_predict = lin_reg.predict(X_poly)\n",
    "mse = mean_squared_error(y_train_predict, y_train)\n",
    "np.sqrt(mse)"
   ]
  },
  {
   "cell_type": "markdown",
   "metadata": {},
   "source": [
    "## One feature"
   ]
  },
  {
   "cell_type": "code",
   "execution_count": null,
   "metadata": {
    "collapsed": true
   },
   "outputs": [],
   "source": [
    "X_1f = strat_train_set[\"Fibr\"].values.reshape(-1, 1)\n",
    "y_1f = strat_train_set[\"N\"].values\n",
    "len(X_1f)"
   ]
  },
  {
   "cell_type": "code",
   "execution_count": null,
   "metadata": {
    "collapsed": true
   },
   "outputs": [],
   "source": [
    "from sklearn.preprocessing import PolynomialFeatures\n",
    "\n",
    "poly_features = PolynomialFeatures(degree=3, include_bias=False)\n",
    "X_1f_poly = poly_features.fit_transform(X_1f)\n",
    "print(X_1f[:5])\n",
    "print(X_1f_poly[:5])"
   ]
  },
  {
   "cell_type": "code",
   "execution_count": null,
   "metadata": {
    "collapsed": true
   },
   "outputs": [],
   "source": [
    "from sklearn.linear_model import LinearRegression\n",
    "\n",
    "lin_reg = LinearRegression(fit_intercept=False)\n",
    "lin_reg.fit(X_1f_poly, y_1f)\n",
    "lin_reg.intercept_, lin_reg.coef_"
   ]
  },
  {
   "cell_type": "code",
   "execution_count": null,
   "metadata": {
    "collapsed": true
   },
   "outputs": [],
   "source": [
    "from sklearn.linear_model import Lasso\n",
    "\n",
    "lasso_reg = Lasso(fit_intercept=False)\n",
    "lasso_reg.fit(X_1f_poly, y_1f)\n",
    "lasso_reg.intercept_, lasso_reg.coef_"
   ]
  },
  {
   "cell_type": "code",
   "execution_count": null,
   "metadata": {
    "collapsed": true
   },
   "outputs": [],
   "source": [
    "y_1f_predict = lin_reg.predict(X_1f_poly)\n",
    "mse = mean_squared_error(y_1f_predict, y_1f)\n",
    "np.sqrt(mse)"
   ]
  },
  {
   "cell_type": "code",
   "execution_count": null,
   "metadata": {
    "collapsed": true
   },
   "outputs": [],
   "source": [
    "X_new = np.linspace(0, 250, 250).reshape(250, 1)\n",
    "X_new_poly = poly_features.transform(X_new)\n",
    "y_new = lasso_reg.predict(X_new_poly)\n",
    "\n",
    "plt.plot(X_1f, y_1f, \"g.\", alpha=0.3)\n",
    "plt.plot(X_new, y_new, \"r-\", linewidth=2, label=\"Predictions\")\n",
    "plt.xlabel(\"Fibronectin\", fontsize=18)\n",
    "plt.ylabel(\"Number of cells\", fontsize=18)\n",
    "plt.legend(loc=\"upper left\", fontsize=14)\n",
    "#plt.axis([-3, 3, 0, 10])\n",
    "plt.show()"
   ]
  },
  {
   "cell_type": "markdown",
   "metadata": {},
   "source": [
    "One predictor"
   ]
  },
  {
   "cell_type": "code",
   "execution_count": null,
   "metadata": {
    "collapsed": true
   },
   "outputs": [],
   "source": [
    "X = df24_clf.values[:, 9] # concentration of Fibronectin\n",
    "y = df24_clf['Strength'] # adhesion strength"
   ]
  },
  {
   "cell_type": "code",
   "execution_count": null,
   "metadata": {
    "collapsed": true
   },
   "outputs": [],
   "source": [
    "X_ = np.c_[X, X**2]\n",
    "y_ = y"
   ]
  },
  {
   "cell_type": "code",
   "execution_count": null,
   "metadata": {
    "collapsed": true
   },
   "outputs": [],
   "source": [
    "X_ = X[np.any(X>0, axis=1)]\n",
    "y_ = y[np.any(X>0, axis=1)]"
   ]
  },
  {
   "cell_type": "code",
   "execution_count": null,
   "metadata": {
    "collapsed": true
   },
   "outputs": [],
   "source": [
    "plt.plot(X_[:, 0][y_==3], X_[:, 1][y_==3], \"g^\", label=\"high adhesion\")\n",
    "plt.plot(X_[:, 0][y_==2], X_[:, 1][y_==2], \"bs\", label=\"medium adhesion\")\n",
    "plt.plot(X_[:, 0][y_==1], X_[:, 1][y_==1], \"yo\", label=\"low adhesion\")\n",
    "#plt.plot(X_[:, 0][y_==0], X_[:, 1][y_==0], \"r*\", label=\"no adhesion\")\n",
    "plt.xlabel(\"Fibronectin\", fontsize=14)\n",
    "plt.ylabel(\"$Fibronectin^2$\", fontsize=14)\n",
    "plt.legend(loc=\"upper left\", fontsize=14)\n",
    "plt.axis([-5, 255, -5, 65000])\n",
    "plt.show()"
   ]
  },
  {
   "cell_type": "markdown",
   "metadata": {},
   "source": [
    "## Softmax regression"
   ]
  },
  {
   "cell_type": "code",
   "execution_count": null,
   "metadata": {
    "collapsed": true
   },
   "outputs": [],
   "source": [
    "strat_train_set, strat_test_set = stratify(df24, train_size=7)"
   ]
  },
  {
   "cell_type": "code",
   "execution_count": null,
   "metadata": {
    "collapsed": true
   },
   "outputs": [],
   "source": [
    "X_train = strat_train_set.drop([\"Slide\", \"Label\", \"Spot\", \"N\", \"Strength\"], axis = 1).values\n",
    "y_train = strat_train_set[\"Strength\"].values\n",
    "X_test = strat_test_set.drop([\"Slide\", \"Label\", \"Spot\", \"N\", \"Strength\"], axis = 1).values\n",
    "y_test = strat_test_set[\"Strength\"].values\n",
    "len(X_train), len(X_test)"
   ]
  },
  {
   "cell_type": "code",
   "execution_count": null,
   "metadata": {
    "collapsed": true
   },
   "outputs": [],
   "source": [
    "from sklearn.linear_model import LogisticRegression\n",
    "\n",
    "softmax_reg = LogisticRegression(multi_class=\"multinomial\", fit_intercept=False, \n",
    "                                 solver=\"lbfgs\", C=10, random_state=42)\n",
    "softmax_reg.fit(X_train, y_train)"
   ]
  },
  {
   "cell_type": "code",
   "execution_count": null,
   "metadata": {
    "collapsed": true
   },
   "outputs": [],
   "source": [
    "x0, x4, x5 = np.meshgrid(\n",
    "        np.linspace(0, 250, 11).reshape(-1, 1),\n",
    "        np.linspace(0, 250, 11).reshape(-1, 1),\n",
    "        np.linspace(0, 250, 11).reshape(-1, 1),\n",
    "    )\n",
    "X_new = np.c_[x0.ravel(), x4.ravel(), x5.ravel()]\n",
    "\n",
    "\n",
    "y_proba = softmax_reg.predict_proba(X_new)\n",
    "y_predict = softmax_reg.predict(X_new)"
   ]
  },
  {
   "cell_type": "code",
   "execution_count": null,
   "metadata": {
    "collapsed": true
   },
   "outputs": [],
   "source": [
    "sum(y_predict==3)"
   ]
  },
  {
   "cell_type": "code",
   "execution_count": null,
   "metadata": {
    "collapsed": true
   },
   "outputs": [],
   "source": [
    "zz1 = y_proba[:, 1].reshape(x0.shape)\n",
    "zz = y_predict.reshape(x0.shape)\n",
    "\n",
    "plt.figure(figsize=(10, 4))\n",
    "plt.plot(X[y==2, 0], X[y==2, 1], \"g^\", label=\"Iris-Virginica\")\n",
    "plt.plot(X[y==1, 0], X[y==1, 1], \"bs\", label=\"Iris-Versicolor\")\n",
    "plt.plot(X[y==0, 0], X[y==0, 1], \"yo\", label=\"Iris-Setosa\")\n",
    "\n",
    "from matplotlib.colors import ListedColormap\n",
    "custom_cmap = ListedColormap(['#fafab0','#9898ff','#a0faa0'])\n",
    "\n",
    "plt.contourf(x0, x1, zz, cmap=custom_cmap)\n",
    "contour = plt.contour(x0, x1, zz1, cmap=plt.cm.brg)\n",
    "plt.clabel(contour, inline=1, fontsize=12)\n",
    "plt.xlabel(\"Petal length\", fontsize=14)\n",
    "plt.ylabel(\"Petal width\", fontsize=14)\n",
    "plt.legend(loc=\"center left\", fontsize=14)\n",
    "plt.axis([0, 7, 0, 3.5])\n",
    "plt.show()"
   ]
  },
  {
   "cell_type": "markdown",
   "metadata": {},
   "source": [
    "## SVM"
   ]
  },
  {
   "cell_type": "code",
   "execution_count": null,
   "metadata": {
    "collapsed": true
   },
   "outputs": [],
   "source": [
    "from sklearn.svm import SVC\n",
    "\n",
    "svm_clf = SVC(kernel=\"linear\", C=float(\"inf\"))\n",
    "svm_clf.fit(X_train, y_train)"
   ]
  },
  {
   "cell_type": "code",
   "execution_count": null,
   "metadata": {
    "collapsed": true
   },
   "outputs": [],
   "source": [
    "labels = df24['Label'].unique()\n",
    "for label in labels:\n",
    "    tmp = df24_class.loc[df24_class[\"Label\"]==label, [\"Strength\"]]\n",
    "    print('Label:', label, '\\t', tmp.median())"
   ]
  },
  {
   "cell_type": "code",
   "execution_count": null,
   "metadata": {
    "collapsed": true
   },
   "outputs": [],
   "source": []
  }
 ],
 "metadata": {
  "kernelspec": {
   "display_name": "Python 3",
   "language": "python",
   "name": "python3"
  },
  "language_info": {
   "codemirror_mode": {
    "name": "ipython",
    "version": 3
   },
   "file_extension": ".py",
   "mimetype": "text/x-python",
   "name": "python",
   "nbconvert_exporter": "python",
   "pygments_lexer": "ipython3",
   "version": "3.6.8"
  },
  "toc": {
   "base_numbering": 1,
   "nav_menu": {},
   "number_sections": true,
   "sideBar": true,
   "skip_h1_title": false,
   "title_cell": "Table of Contents",
   "title_sidebar": "Contents",
   "toc_cell": false,
   "toc_position": {},
   "toc_section_display": "block",
   "toc_window_display": false
  }
 },
 "nbformat": 4,
 "nbformat_minor": 2
}
