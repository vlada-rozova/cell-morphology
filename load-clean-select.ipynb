{
 "cells": [
  {
   "cell_type": "code",
   "execution_count": 1,
   "metadata": {},
   "outputs": [
    {
     "name": "stderr",
     "output_type": "stream",
     "text": [
      "/Applications/anaconda3/lib/python3.6/site-packages/sklearn/externals/six.py:31: DeprecationWarning: The module is deprecated in version 0.21 and will be removed in version 0.23 since we've dropped support for Python 2.7. Please rely on the official version of six (https://pypi.org/project/six/).\n",
      "  \"(https://pypi.org/project/six/).\", DeprecationWarning)\n"
     ]
    }
   ],
   "source": [
    "import os\n",
    "import pandas as pd\n",
    "import numpy as np\n",
    "import preprocessing as proc\n",
    "import randomforest as rf\n",
    "from pandas.api.types import CategoricalDtype\n",
    "import seaborn as sns\n",
    "from matplotlib import pyplot as plt\n",
    "from scipy import stats\n",
    "import joblib\n",
    "\n",
    "from imblearn.over_sampling import SMOTE\n",
    "from sklearn.model_selection import train_test_split, RandomizedSearchCV\n",
    "from sklearn.preprocessing import StandardScaler, MaxAbsScaler, MinMaxScaler, Normalizer\n",
    "from sklearn.decomposition import PCA\n",
    "from sklearn.ensemble import RandomForestClassifier,RandomForestRegressor \n",
    "from sklearn.cluster import KMeans, AgglomerativeClustering\n",
    "from sklearn.metrics import mean_squared_error, accuracy_score, f1_score, confusion_matrix\n",
    "\n",
    "\n",
    "%matplotlib inline\n",
    "\n",
    "plt.style.use('seaborn-ticks')\n",
    "sns.set_style('ticks')\n",
    "plt.rcParams['figure.figsize'] = (8, 8)\n",
    "plt.rcParams['axes.titlesize'] = 22\n",
    "plt.rcParams['axes.labelsize'] = 22\n",
    "plt.rcParams['xtick.labelsize'] = 20\n",
    "plt.rcParams['ytick.labelsize'] = 20\n",
    "\n",
    "pd.options.display.max_columns = 1000\n",
    "\n",
    "DATA_PATH = '../cell-profiler/measurements'\n",
    "DATA_PATH2 = '../datasets/'\n",
    "SUFFIX = 'gain2_'\n",
    "CYTOPLASM = True\n",
    "ZERNIKE = True\n",
    "BIOMARKERS = True\n",
    "\n",
    "os.environ['TF_CPP_MIN_LOG_LEVEL'] = '3'"
   ]
  },
  {
   "cell_type": "markdown",
   "metadata": {},
   "source": [
    "** Import data **"
   ]
  },
  {
   "cell_type": "code",
   "execution_count": null,
   "metadata": {
    "collapsed": true
   },
   "outputs": [],
   "source": [
    "measurements = proc.import_cell_data(data_path=DATA_PATH, suffix=SUFFIX, cytoplasm=CYTOPLASM, biomarkers=BIOMARKERS)"
   ]
  },
  {
   "cell_type": "markdown",
   "metadata": {},
   "source": [
    "** Clean data **"
   ]
  },
  {
   "cell_type": "code",
   "execution_count": null,
   "metadata": {
    "collapsed": true
   },
   "outputs": [],
   "source": [
    "measurements = proc.clean_data(measurements)"
   ]
  },
  {
   "cell_type": "markdown",
   "metadata": {},
   "source": [
    "** CTCF**"
   ]
  },
  {
   "cell_type": "code",
   "execution_count": null,
   "metadata": {
    "collapsed": true
   },
   "outputs": [],
   "source": [
    "bg = proc.load_data(\"gain_Background.csv\", DATA_PATH2)\n",
    "bg.bg_mean = bg.bg_mean/65535\n",
    "bg.bg_median = bg.bg_median/65535\n",
    "bg.bg_std = bg.bg_std/65535\n",
    "\n",
    "bg.head()"
   ]
  },
  {
   "cell_type": "code",
   "execution_count": null,
   "metadata": {
    "collapsed": true
   },
   "outputs": [],
   "source": [
    "def ctcf(a, b, image, channel):\n",
    "    c = np.asscalar(bg[(bg.label == image) & (bg.channel == channel)].bg_median)\n",
    "    return a - b*c\n",
    "\n",
    "ctcf_dapi = []\n",
    "# ctcf_wga_nucl = []\n",
    "ctcf_wga = []\n",
    "ctcf_ker = []\n",
    "ctcf_vim = []\n",
    "\n",
    "for ind, row in measurements.iterrows():\n",
    "    # CTCF DAPI in nucleus\n",
    "    ctcf_dapi.append(ctcf(row.integratedintensity_dapi, \n",
    "                          row.area_nucl, \n",
    "                          row.image, \n",
    "                          'DAPI'))\n",
    "#     # CTCF WGA in nucleus\n",
    "#     ctcf_wga_nucl.append(ctcf(row.integratedintensity_wga_nucl, \n",
    "#                               row.area_nucl, \n",
    "#                               row.image,\n",
    "#                               'WGA'))\n",
    "    # CTCF WGA in cell\n",
    "    ctcf_wga.append(ctcf(row.integratedintensity_wga, \n",
    "                         row.area_cell, \n",
    "                         row.image,\n",
    "                         'WGA'))\n",
    "    # CTCF Ker in cell\n",
    "    ctcf_ker.append(ctcf(row.integratedintensity_ker, \n",
    "                         row.area_cell, \n",
    "                         row.image,\n",
    "                         'Ker'))\n",
    "    # CTCF Vim in cell\n",
    "    ctcf_vim.append(ctcf(row.integratedintensity_vim, \n",
    "                         row.area_cell, \n",
    "                         row.image,\n",
    "                         'Vim'))\n",
    "\n",
    "                     \n",
    "measurements['ctcf_dapi'] = ctcf_dapi\n",
    "# measurements['ctcf_wga_nucl'] = ctcf_wga_nucl\n",
    "measurements['ctcf_wga'] = ctcf_wga\n",
    "measurements['ctcf_ker'] = ctcf_ker\n",
    "measurements['ctcf_vim'] = ctcf_vim"
   ]
  },
  {
   "cell_type": "markdown",
   "metadata": {},
   "source": [
    "** Feature engineering **"
   ]
  },
  {
   "cell_type": "code",
   "execution_count": null,
   "metadata": {
    "collapsed": true
   },
   "outputs": [],
   "source": [
    "measurements = proc.cv_ratio(measurements)\n",
    "measurements = proc.nc_ratio(measurements)"
   ]
  },
  {
   "cell_type": "markdown",
   "metadata": {},
   "source": [
    "** Feature selection **"
   ]
  },
  {
   "cell_type": "code",
   "execution_count": null,
   "metadata": {
    "collapsed": true
   },
   "outputs": [],
   "source": [
    "# measurements = proc.select_features(measurements, filename='selected_columns_over85.txt')\n",
    "measurements = proc.select_features(measurements, filename='measurements_5_over90.txt')"
   ]
  },
  {
   "cell_type": "markdown",
   "metadata": {},
   "source": [
    "** Group features **"
   ]
  },
  {
   "cell_type": "code",
   "execution_count": null,
   "metadata": {
    "collapsed": true
   },
   "outputs": [],
   "source": [
    "# Lists of column names\n",
    "meta_cols = measurements.select_dtypes(include=['object', 'category']).columns\n",
    "feature_cols = measurements.select_dtypes(include=[np.number]).columns\n",
    "biom_cols = [col for col in measurements.columns if 'ker' in col or 'vim' in col]\n",
    "biom_cols.append('cvratio')\n",
    "biom_cols.append('log_cvratio')\n",
    "morph_cols = [col for col in feature_cols if col not in biom_cols]\n",
    "\n",
    "print(\"{} columns in total:\\n \\\n",
    "{} columns containing metadata, meta_cols,\\n \\\n",
    "{} all features, feature_cols:\\n \\\n",
    "{} biomarkers, biom_cols,\\n \\\n",
    "{} morphology, morph_cols\".format(measurements.columns.size, \n",
    "                      meta_cols.size, feature_cols.size, \n",
    "                      len(biom_cols), len(morph_cols)))"
   ]
  },
  {
   "cell_type": "code",
   "execution_count": null,
   "metadata": {
    "collapsed": true
   },
   "outputs": [],
   "source": [
    "geom_cols = [col for col in morph_cols if 'dapi' not in col and 'wga' not in col]\n",
    "cell_cols = [col for col in morph_cols if 'cell' in col]\n",
    "nucl_cols = [col for col in morph_cols if 'nucl' in col]\n",
    "cyto_cols = [col for col in morph_cols if 'cyto' in col]\n",
    "print(\"{} geometric measurements, geom_cols,\\n \\\n",
    "{} cellular measurements, cell_cols,\\n \\\n",
    "{} nuclear measurements, nucl_cols,\\n \\\n",
    "{} cytoplasmic measurements, cyto_cols\".format(len(geom_cols), len(cell_cols), len(nucl_cols), len(cyto_cols)))"
   ]
  },
  {
   "cell_type": "markdown",
   "metadata": {},
   "source": [
    "###### Exclude clusters at 64 kPa"
   ]
  },
  {
   "cell_type": "code",
   "execution_count": null,
   "metadata": {
    "collapsed": true
   },
   "outputs": [],
   "source": [
    "measurements_red = measurements.drop(measurements[(measurements.image == '64.0-B-A1-1') | \n",
    "                                                  (measurements.image == '64.0-B-A1-2')\n",
    "                                                 ].index\n",
    "                                    ).reset_index(drop=True)\n",
    "measurements_red.shape"
   ]
  },
  {
   "cell_type": "code",
   "execution_count": null,
   "metadata": {
    "collapsed": true
   },
   "outputs": [],
   "source": [
    "clumped = measurements.loc[(measurements.image == '64.0-B-A1-1') | (measurements.image == '64.0-B-A1-2'),:]\n",
    "clumped.shape"
   ]
  },
  {
   "cell_type": "markdown",
   "metadata": {},
   "source": [
    "###### Exclude 0.5kPa and 8kPa"
   ]
  },
  {
   "cell_type": "code",
   "execution_count": null,
   "metadata": {
    "collapsed": true
   },
   "outputs": [],
   "source": [
    "measurements_5 = measurements_red.drop(measurements_red[(measurements_red.stiffness == '0.5') | \n",
    "                                                        (measurements_red.stiffness == '8.0')\n",
    "                                                       ].index\n",
    "                                      ).reset_index(drop=True)\n",
    "\n",
    "stiff_type = CategoricalDtype(categories=['0.2','2.0', '16.0', '32.0', '64.0'], ordered=True)\n",
    "measurements_5.stiffness = measurements_5.stiffness.astype(stiff_type)\n",
    "\n",
    "measurements_5.shape"
   ]
  },
  {
   "cell_type": "markdown",
   "metadata": {},
   "source": [
    "###### Simple undersampling"
   ]
  },
  {
   "cell_type": "code",
   "execution_count": null,
   "metadata": {
    "collapsed": true
   },
   "outputs": [],
   "source": [
    "measurements_b = proc.undersample(measurements_5, 50)\n",
    "\n",
    "stiff_type = CategoricalDtype(categories=['0.2','2.0', '16.0', '32.0', '64.0'], ordered=True)\n",
    "measurements_b.stiffness = measurements_b.stiffness.astype(stiff_type)"
   ]
  }
 ],
 "metadata": {
  "kernelspec": {
   "display_name": "Python 3",
   "language": "python",
   "name": "python3"
  },
  "language_info": {
   "codemirror_mode": {
    "name": "ipython",
    "version": 3
   },
   "file_extension": ".py",
   "mimetype": "text/x-python",
   "name": "python",
   "nbconvert_exporter": "python",
   "pygments_lexer": "ipython3",
   "version": "3.6.8"
  },
  "toc": {
   "base_numbering": 1,
   "nav_menu": {},
   "number_sections": true,
   "sideBar": true,
   "skip_h1_title": false,
   "title_cell": "Table of Contents",
   "title_sidebar": "Contents",
   "toc_cell": false,
   "toc_position": {},
   "toc_section_display": true,
   "toc_window_display": false
  }
 },
 "nbformat": 4,
 "nbformat_minor": 2
}
