{
 "cells": [
  {
   "cell_type": "code",
   "execution_count": null,
   "metadata": {
    "collapsed": true
   },
   "outputs": [],
   "source": [
    "import os\n",
    "import pandas as pd\n",
    "import numpy as np\n",
    "import preprocessing as proc\n",
    "import some_functions as func\n",
    "import randomforest as rf\n",
    "from pandas.api.types import CategoricalDtype\n",
    "import seaborn as sns\n",
    "from matplotlib import pyplot as plt\n",
    "from scipy import stats\n",
    "import joblib\n",
    "\n",
    "from imblearn.over_sampling import SMOTE\n",
    "from sklearn.model_selection import train_test_split, RandomizedSearchCV\n",
    "from sklearn.preprocessing import StandardScaler, MaxAbsScaler, MinMaxScaler, Normalizer\n",
    "from sklearn.decomposition import PCA\n",
    "from sklearn.ensemble import RandomForestClassifier,RandomForestRegressor \n",
    "from sklearn.cluster import KMeans, DBSCAN, AgglomerativeClustering\n",
    "from sklearn.metrics import mean_squared_error, accuracy_score, f1_score, confusion_matrix\n",
    "from sklearn.metrics import pairwise_distances\n",
    "\n",
    "\n",
    "%matplotlib inline\n",
    "\n",
    "plt.style.use('seaborn-ticks')\n",
    "sns.set_style('ticks')\n",
    "plt.rcParams['figure.figsize'] = (8, 8)\n",
    "plt.rcParams['axes.titlesize'] = 22\n",
    "plt.rcParams['axes.labelsize'] = 22\n",
    "plt.rcParams['xtick.labelsize'] = 20\n",
    "plt.rcParams['ytick.labelsize'] = 20\n",
    "\n",
    "pd.options.display.max_columns = 1000\n",
    "\n",
    "DATA_PATH = '../cell-profiler/measurements'\n",
    "DATA_PATH2 = '../datasets/'\n",
    "SUFFIX = 'BandC_'\n",
    "CYTOPLASM = True\n",
    "ZERNIKE = True\n",
    "BIOMARKERS = True\n",
    "NEIGHBOURS = True\n",
    "\n",
    "os.environ['TF_CPP_MIN_LOG_LEVEL'] = '3'"
   ]
  },
  {
   "cell_type": "markdown",
   "metadata": {},
   "source": [
    "** Import data **"
   ]
  },
  {
   "cell_type": "code",
   "execution_count": null,
   "metadata": {
    "collapsed": true
   },
   "outputs": [],
   "source": [
    "measurements = proc.import_cell_data(data_path=DATA_PATH, suffix=SUFFIX, \n",
    "                                     cytoplasm=CYTOPLASM, biomarkers=BIOMARKERS, neighbours=NEIGHBOURS)"
   ]
  },
  {
   "cell_type": "markdown",
   "metadata": {},
   "source": [
    "** Clean data **"
   ]
  },
  {
   "cell_type": "code",
   "execution_count": null,
   "metadata": {
    "collapsed": true
   },
   "outputs": [],
   "source": [
    "measurements = proc.clean_data(measurements)"
   ]
  },
  {
   "cell_type": "markdown",
   "metadata": {},
   "source": [
    "** Exclude poor quality images **"
   ]
  },
  {
   "cell_type": "code",
   "execution_count": null,
   "metadata": {
    "collapsed": true
   },
   "outputs": [],
   "source": [
    "to_exclude = ['0.2-B-A2-2',\n",
    "              '0.2-B-A3-2',\n",
    "              '0.2-C-B5-5',\n",
    "              '2.0-B-A1-2', \n",
    "              '2.0-B-A2-4',\n",
    "              '2.0-B-A3-2',\n",
    "              '2.0-C-B4-1',\n",
    "              '2.0-C-B4-3',\n",
    "              '2.0-C-B4-4',\n",
    "              '2.0-C-B4-5', \n",
    "              '16.0-C-B5-1', '16.0-C-B5-2', '16.0-C-B5-4', '16.0-C-B5-6', '16.0-C-B5-7',\n",
    "              '64.0-C-B5-3']\n",
    "\n",
    "for image in to_exclude:\n",
    "    measurements.drop(measurements[measurements.image == image].index, inplace=True)\n",
    "\n",
    "measurements.reset_index(drop=True, inplace=True)\n",
    "    \n",
    "print(\"Excluding images with poor quality from the analysis. The dataset contains {} cells.\\n\"\n",
    "      .format(measurements.shape[0]))"
   ]
  },
  {
   "cell_type": "markdown",
   "metadata": {},
   "source": [
    "** CTCF**"
   ]
  },
  {
   "cell_type": "code",
   "execution_count": null,
   "metadata": {
    "collapsed": true
   },
   "outputs": [],
   "source": [
    "# bg = proc.load_data(\"gain_Background.csv\", DATA_PATH2)\n",
    "# bg.bg_mean = bg.bg_mean/65535\n",
    "# bg.bg_median = bg.bg_median/65535\n",
    "# bg.bg_std = bg.bg_std/65535\n",
    "\n",
    "# bg.head()"
   ]
  },
  {
   "cell_type": "code",
   "execution_count": null,
   "metadata": {
    "collapsed": true
   },
   "outputs": [],
   "source": [
    "# def ctcf(a, b, image, channel):\n",
    "#     c = np.asscalar(bg[(bg.label == image) & (bg.channel == channel)].bg_median)\n",
    "#     return a - b*c\n",
    "\n",
    "# ctcf_dapi = []\n",
    "# # ctcf_wga_nucl = []\n",
    "# ctcf_wga = []\n",
    "# ctcf_ker = []\n",
    "# ctcf_vim = []\n",
    "\n",
    "# for ind, row in measurements.iterrows():\n",
    "#     # CTCF DAPI in nucleus\n",
    "#     ctcf_dapi.append(ctcf(row.integratedintensity_dapi, \n",
    "#                           row.area_nucl, \n",
    "#                           row.image, \n",
    "#                           'DAPI'))\n",
    "# #     # CTCF WGA in nucleus\n",
    "# #     ctcf_wga_nucl.append(ctcf(row.integratedintensity_wga_nucl, \n",
    "# #                               row.area_nucl, \n",
    "# #                               row.image,\n",
    "# #                               'WGA'))\n",
    "#     # CTCF WGA in cell\n",
    "#     ctcf_wga.append(ctcf(row.integratedintensity_wga, \n",
    "#                          row.area_cell, \n",
    "#                          row.image,\n",
    "#                          'WGA'))\n",
    "#     # CTCF Ker in cell\n",
    "#     ctcf_ker.append(ctcf(row.integratedintensity_ker, \n",
    "#                          row.area_cell, \n",
    "#                          row.image,\n",
    "#                          'Ker'))\n",
    "#     # CTCF Vim in cell\n",
    "#     ctcf_vim.append(ctcf(row.integratedintensity_vim, \n",
    "#                          row.area_cell, \n",
    "#                          row.image,\n",
    "#                          'Vim'))\n",
    "\n",
    "                     \n",
    "# measurements['ctcf_dapi'] = ctcf_dapi\n",
    "# # measurements['ctcf_wga_nucl'] = ctcf_wga_nucl\n",
    "# measurements['ctcf_wga'] = ctcf_wga\n",
    "# measurements['ctcf_ker'] = ctcf_ker\n",
    "# measurements['ctcf_vim'] = ctcf_vim"
   ]
  },
  {
   "cell_type": "markdown",
   "metadata": {},
   "source": [
    "** Feature engineering **"
   ]
  },
  {
   "cell_type": "code",
   "execution_count": null,
   "metadata": {
    "collapsed": true
   },
   "outputs": [],
   "source": [
    "measurements = proc.nc_ratio(measurements)\n",
    "measurements = proc.cv_ratio(measurements, \n",
    "                             col1='integratedintensity_ker', \n",
    "                             col2='integratedintensity_vim')\n",
    "measurements = proc.frac_on_edge(measurements, 'ecad')\n",
    "measurements = proc.frac_on_edge(measurements, 'vim')\n",
    "measurements = proc.frac_on_edge(measurements, 'ker')"
   ]
  },
  {
   "cell_type": "markdown",
   "metadata": {},
   "source": [
    "** Feature selection **"
   ]
  },
  {
   "cell_type": "code",
   "execution_count": null,
   "metadata": {
    "collapsed": true
   },
   "outputs": [],
   "source": [
    "measurements.drop(['minferetdiameter_cyto', 'maxferetdiameter_cyto'], axis=1, inplace=True)\n",
    "if select_features:\n",
    "    measurements = proc.select_features(measurements, filename=selected_features)\n",
    "    print(\"The dataset has {} features after feature selection.\\n\".format(measurements.shape[1]))"
   ]
  },
  {
   "cell_type": "markdown",
   "metadata": {},
   "source": [
    "** Group features **"
   ]
  },
  {
   "cell_type": "code",
   "execution_count": 1,
   "metadata": {},
   "outputs": [
    {
     "ename": "NameError",
     "evalue": "name 'measurements' is not defined",
     "output_type": "error",
     "traceback": [
      "\u001b[0;31m---------------------------------------------------------------------------\u001b[0m",
      "\u001b[0;31mNameError\u001b[0m                                 Traceback (most recent call last)",
      "\u001b[0;32m<ipython-input-1-dfdfa05d5ab9>\u001b[0m in \u001b[0;36m<module>\u001b[0;34m()\u001b[0m\n\u001b[1;32m      1\u001b[0m \u001b[0;31m# Lists of column names\u001b[0m\u001b[0;34m\u001b[0m\u001b[0;34m\u001b[0m\u001b[0;34m\u001b[0m\u001b[0m\n\u001b[0;32m----> 2\u001b[0;31m \u001b[0mmeta_cols\u001b[0m \u001b[0;34m=\u001b[0m \u001b[0mmeasurements\u001b[0m\u001b[0;34m.\u001b[0m\u001b[0mselect_dtypes\u001b[0m\u001b[0;34m(\u001b[0m\u001b[0minclude\u001b[0m\u001b[0;34m=\u001b[0m\u001b[0;34m[\u001b[0m\u001b[0;34m'object'\u001b[0m\u001b[0;34m,\u001b[0m \u001b[0;34m'category'\u001b[0m\u001b[0;34m]\u001b[0m\u001b[0;34m)\u001b[0m\u001b[0;34m.\u001b[0m\u001b[0mcolumns\u001b[0m\u001b[0;34m\u001b[0m\u001b[0;34m\u001b[0m\u001b[0m\n\u001b[0m\u001b[1;32m      3\u001b[0m \u001b[0mfeature_cols\u001b[0m \u001b[0;34m=\u001b[0m \u001b[0mmeasurements\u001b[0m\u001b[0;34m.\u001b[0m\u001b[0mselect_dtypes\u001b[0m\u001b[0;34m(\u001b[0m\u001b[0minclude\u001b[0m\u001b[0;34m=\u001b[0m\u001b[0;34m[\u001b[0m\u001b[0mnp\u001b[0m\u001b[0;34m.\u001b[0m\u001b[0mnumber\u001b[0m\u001b[0;34m]\u001b[0m\u001b[0;34m)\u001b[0m\u001b[0;34m.\u001b[0m\u001b[0mcolumns\u001b[0m\u001b[0;34m\u001b[0m\u001b[0;34m\u001b[0m\u001b[0m\n\u001b[1;32m      4\u001b[0m \u001b[0mbiom_cols\u001b[0m \u001b[0;34m=\u001b[0m \u001b[0;34m[\u001b[0m\u001b[0mcol\u001b[0m \u001b[0;32mfor\u001b[0m \u001b[0mcol\u001b[0m \u001b[0;32min\u001b[0m \u001b[0mmeasurements\u001b[0m\u001b[0;34m.\u001b[0m\u001b[0mcolumns\u001b[0m \u001b[0;32mif\u001b[0m \u001b[0;34m'ker'\u001b[0m \u001b[0;32min\u001b[0m \u001b[0mcol\u001b[0m \u001b[0;32mor\u001b[0m \u001b[0;34m'vim'\u001b[0m \u001b[0;32min\u001b[0m \u001b[0mcol\u001b[0m \u001b[0;32mor\u001b[0m \u001b[0;34m'ecad'\u001b[0m \u001b[0;32min\u001b[0m \u001b[0mcol\u001b[0m\u001b[0;34m]\u001b[0m\u001b[0;34m\u001b[0m\u001b[0;34m\u001b[0m\u001b[0m\n\u001b[1;32m      5\u001b[0m \u001b[0;31m# biom_cols.append('cvratio')\u001b[0m\u001b[0;34m\u001b[0m\u001b[0;34m\u001b[0m\u001b[0;34m\u001b[0m\u001b[0m\n",
      "\u001b[0;31mNameError\u001b[0m: name 'measurements' is not defined"
     ]
    }
   ],
   "source": [
    "# Lists of column names\n",
    "meta_cols = measurements.select_dtypes(include=['object', 'category']).columns\n",
    "feature_cols = measurements.select_dtypes(include=[np.number]).columns\n",
    "biom_cols = [col for col in measurements.columns if 'ker' in col or 'vim' in col or 'ecad' in col]\n",
    "biom_cols.append('cvratio')\n",
    "biom_cols.append('log_cvratio')\n",
    "morph_cols = [col for col in feature_cols if col not in biom_cols]\n",
    "\n",
    "print(\"{} columns in total:\\n \\\n",
    "{} columns containing metadata, meta_cols,\\n \\\n",
    "{} all features, feature_cols:\\n \\\n",
    "{} biomarkers, biom_cols,\\n \\\n",
    "{} morphology, morph_cols\".format(measurements.columns.size, \n",
    "                      meta_cols.size, feature_cols.size, \n",
    "                      len(biom_cols), len(morph_cols)))"
   ]
  },
  {
   "cell_type": "code",
   "execution_count": null,
   "metadata": {
    "collapsed": true
   },
   "outputs": [],
   "source": [
    "geom_cols = [col for col in morph_cols if 'dapi' not in col and 'wga' not in col]\n",
    "cell_cols = [col for col in morph_cols if 'cell' in col]\n",
    "nucl_cols = [col for col in morph_cols if 'nucl' in col]\n",
    "cyto_cols = [col for col in morph_cols if 'cyto' in col]\n",
    "print(\"{} geometric measurements, geom_cols,\\n \\\n",
    "{} cellular measurements, cell_cols,\\n \\\n",
    "{} nuclear measurements, nucl_cols,\\n \\\n",
    "{} cytoplasmic measurements, cyto_cols\".format(len(geom_cols), len(cell_cols), len(nucl_cols), len(cyto_cols)))"
   ]
  },
  {
   "cell_type": "markdown",
   "metadata": {},
   "source": [
    "###### Separate clusters at 64 kPa"
   ]
  },
  {
   "cell_type": "code",
   "execution_count": null,
   "metadata": {
    "collapsed": true
   },
   "outputs": [],
   "source": [
    "clumped = measurements.loc[(measurements.image == '64.0-B-A1-1') | \n",
    "                           (measurements.image == '64.0-B-A1-2') |\n",
    "                           (measurements.image == '64.0-C-B5-1') |\n",
    "                           (measurements.image == '64.0-C-B5-2') |\n",
    "                           (measurements.image == '64.0-C-B6-1') |\n",
    "                           (measurements.image == '64.0-C-B6-2'), :].reset_index(drop=True)"
   ]
  },
  {
   "cell_type": "code",
   "execution_count": null,
   "metadata": {
    "collapsed": true
   },
   "outputs": [],
   "source": [
    "to_exclude = clumped.image.unique()\n",
    "\n",
    "measurements_red = measurements.copy()\n",
    "\n",
    "for image in to_exclude:\n",
    "    measurements_red.drop(measurements_red[measurements_red.image == image].index, inplace=True)\n",
    "\n",
    "measurements_red.reset_index(drop=True, inplace=True)"
   ]
  },
  {
   "cell_type": "code",
   "execution_count": null,
   "metadata": {
    "collapsed": true
   },
   "outputs": [],
   "source": [
    "print(\"\\n{} clumped cells excluded from the main dataser. The final dataset contains {} cells.\"\n",
    "      .format(clumped.shape[0], measurements_red.shape[0]))"
   ]
  },
  {
   "cell_type": "markdown",
   "metadata": {},
   "source": [
    "###### Exclude 0.5kPa and 8kPa"
   ]
  },
  {
   "cell_type": "code",
   "execution_count": null,
   "metadata": {
    "collapsed": true
   },
   "outputs": [],
   "source": [
    "# measurements_5 = measurements_red.drop(measurements_red[(measurements_red.stiffness == '0.5') | \n",
    "#                                                         (measurements_red.stiffness == '8.0')\n",
    "#                                                        ].index\n",
    "#                                       ).reset_index(drop=True)\n",
    "\n",
    "# stiff_type = CategoricalDtype(categories=['0.2','2.0', '16.0', '32.0', '64.0'], ordered=True)\n",
    "# measurements_5.stiffness = measurements_5.stiffness.astype(stiff_type)\n",
    "\n",
    "# measurements_5.shape"
   ]
  },
  {
   "cell_type": "markdown",
   "metadata": {},
   "source": [
    "###### Simple undersampling"
   ]
  },
  {
   "cell_type": "code",
   "execution_count": null,
   "metadata": {
    "collapsed": true
   },
   "outputs": [],
   "source": [
    "# measurements_b = proc.undersample(measurements_5, 50)\n",
    "\n",
    "# stiff_type = CategoricalDtype(categories=['0.2','2.0', '16.0', '32.0', '64.0'], ordered=True)\n",
    "# measurements_b.stiffness = measurements_b.stiffness.astype(stiff_type)"
   ]
  }
 ],
 "metadata": {
  "kernelspec": {
   "display_name": "Python 3",
   "language": "python",
   "name": "python3"
  },
  "language_info": {
   "codemirror_mode": {
    "name": "ipython",
    "version": 3
   },
   "file_extension": ".py",
   "mimetype": "text/x-python",
   "name": "python",
   "nbconvert_exporter": "python",
   "pygments_lexer": "ipython3",
   "version": "3.6.8"
  },
  "toc": {
   "base_numbering": 1,
   "nav_menu": {},
   "number_sections": true,
   "sideBar": true,
   "skip_h1_title": false,
   "title_cell": "Table of Contents",
   "title_sidebar": "Contents",
   "toc_cell": false,
   "toc_position": {},
   "toc_section_display": true,
   "toc_window_display": false
  }
 },
 "nbformat": 4,
 "nbformat_minor": 2
}
