{
 "cells": [
  {
   "cell_type": "code",
   "execution_count": 1,
   "metadata": {},
   "outputs": [
    {
     "name": "stderr",
     "output_type": "stream",
     "text": [
      "/Applications/anaconda3/lib/python3.6/site-packages/sklearn/externals/six.py:31: DeprecationWarning: The module is deprecated in version 0.21 and will be removed in version 0.23 since we've dropped support for Python 2.7. Please rely on the official version of six (https://pypi.org/project/six/).\n",
      "  \"(https://pypi.org/project/six/).\", DeprecationWarning)\n"
     ]
    },
    {
     "name": "stdout",
     "output_type": "stream",
     "text": [
      "Morphology was measured for 610.0 cells.\n",
      "\n",
      "The numbers of cells and nuclei correspond to each other.\n",
      "\n",
      "The are no duplicated column names: True\n",
      "The are no duplicated column names: True\n",
      "Cytoplasm measurements were taken for 610 cells.\n",
      "\n",
      "The are no duplicated column names: True\n",
      "Read biomarkers normalised by to min gain\n",
      "Biomarkers were measured for 610 cells.\n",
      "\n",
      "The are no duplicated column names: True\n",
      "\n",
      "Full dataset has shape: (610, 484)\n",
      "Initial shape is: (610, 484)\n",
      "Features with zero variance:\n",
      " Index(['centerZ_cell', 'eulernumber_cell', 'children_cytoplasm_count_cell',\n",
      "       'loc_centermassintensityZ_wga', 'loc_centerZ_cell',\n",
      "       'loc_maxintensityZ_wga', 'centerZ_nucl', 'eulernumber_nucl',\n",
      "       'children_cells_count', 'children_cytoplasm_count_nucl',\n",
      "       'loc_centermassintensityZ_dapi', 'loc_centerZ_nucl',\n",
      "       'loc_maxintensityZ_dapi', 'centerZ_cyto',\n",
      "       'loc_centermassintensityZ_ker', 'loc_centermassintensityZ_vim',\n",
      "       'loc_centerZ', 'loc_maxintensityZ_ker', 'loc_maxintensityZ_vim'],\n",
      "      dtype='object')\n",
      "\n",
      "After cleaning the dataset has 610 rows and 430 columns.\n",
      "\n",
      "238 columns in total:\n",
      " 7 columns containing metadata, meta_cols,\n",
      " 231 all features, feature_cols:\n",
      " 61 biomarkers, biom_cols,\n",
      " 170 morphology, morph_cols\n",
      "116 geometric measurements, geom_cols,\n",
      " 42 cellular measurements, cell_cols,\n",
      " 41 nuclear measurements, nucl_cols,\n",
      " 21 cytoplasmic measurements, cyto_cols\n",
      "Undersampling. The balanced dataset has shape (255, 238)\n"
     ]
    }
   ],
   "source": [
    "%run load-clean-select.ipynb"
   ]
  },
  {
   "cell_type": "markdown",
   "metadata": {},
   "source": [
    "# Which dataset?"
   ]
  },
  {
   "cell_type": "code",
   "execution_count": 2,
   "metadata": {
    "collapsed": true
   },
   "outputs": [],
   "source": [
    "# The full dataset\n",
    "# df = measurements\n",
    "# Dataset without clusters at 64kPa\n",
    "# df = measurements_red\n",
    "# Dataset without 0.5kPa, 8kPa and clusters at 64kPa\n",
    "df = measurements_5\n",
    "# Dataset without 0.5kPa, 8kPa and clusters at 64kPa with balanced classes\n",
    "# df = measurements_b"
   ]
  },
  {
   "cell_type": "markdown",
   "metadata": {},
   "source": [
    "# Predict stiffness using morphology"
   ]
  },
  {
   "cell_type": "markdown",
   "metadata": {},
   "source": [
    "# Classification"
   ]
  },
  {
   "cell_type": "code",
   "execution_count": 3,
   "metadata": {},
   "outputs": [
    {
     "name": "stdout",
     "output_type": "stream",
     "text": [
      "Training set size: (368, 116)\n",
      "Test set size: (92, 116)\n"
     ]
    }
   ],
   "source": [
    "# Feature map and response variable\n",
    "cols = geom_cols\n",
    "\n",
    "X = df[cols]\n",
    "y = df.stiffness\n",
    "\n",
    "# Create train-test split\n",
    "X_train, X_test, y_train, y_test = train_test_split(X, y, test_size=0.2, random_state=42)\n",
    "print(\"Training set size:\", X_train.shape)\n",
    "print(\"Test set size:\", X_test.shape)\n",
    "\n",
    "rf_clf = RandomForestClassifier()"
   ]
  },
  {
   "cell_type": "code",
   "execution_count": 4,
   "metadata": {},
   "outputs": [
    {
     "name": "stdout",
     "output_type": "stream",
     "text": [
      "Fitting 3 folds for each of 100 candidates, totalling 300 fits\n"
     ]
    },
    {
     "name": "stderr",
     "output_type": "stream",
     "text": [
      "[Parallel(n_jobs=-1)]: Using backend LokyBackend with 4 concurrent workers.\n",
      "[Parallel(n_jobs=-1)]: Done  33 tasks      | elapsed:   58.2s\n",
      "[Parallel(n_jobs=-1)]: Done 154 tasks      | elapsed:  3.7min\n",
      "[Parallel(n_jobs=-1)]: Done 300 out of 300 | elapsed:  6.8min finished\n",
      "/Applications/anaconda3/lib/python3.6/site-packages/sklearn/model_selection/_search.py:813: DeprecationWarning: The default of the `iid` parameter will change from True to False in version 0.22 and will be removed in 0.24. This will change numeric results when test-set sizes are unequal.\n",
      "  DeprecationWarning)\n"
     ]
    },
    {
     "name": "stdout",
     "output_type": "stream",
     "text": [
      "Best parameters:\n",
      " {'n_estimators': 1000, 'min_samples_split': 5, 'min_samples_leaf': 4, 'max_features': 20, 'max_depth': 90, 'bootstrap': True}\n"
     ]
    }
   ],
   "source": [
    "# Number of trees in random forest\n",
    "n_estimators = [1000]\n",
    "\n",
    "# Minimum number of samples required to split a node\n",
    "min_samples_split = [2, 5, 10]\n",
    "\n",
    "# Minimum number of samples required at each leaf node\n",
    "min_samples_leaf = [4]\n",
    "\n",
    "# Number of features to consider at every split\n",
    "max_features = [int(x) for x in np.linspace(10, 100, num = 10)]\n",
    "max_features.append('auto')\n",
    "\n",
    "# Maximum number of levels in tree\n",
    "max_depth = [int(x) for x in np.linspace(10, 110, num = 11)]\n",
    "max_depth.append(None)\n",
    "\n",
    "# Method of selecting samples for training each tree\n",
    "bootstrap = [True]\n",
    "\n",
    "# Create the random grid\n",
    "param_grid = {'n_estimators': n_estimators,\n",
    "               'max_features': max_features,\n",
    "               'max_depth': max_depth,\n",
    "               'min_samples_split': min_samples_split,\n",
    "               'min_samples_leaf': min_samples_leaf,\n",
    "               'bootstrap': bootstrap}\n",
    "\n",
    "best_rf_clf = rf.random_search_param(rf_clf, X_train, y_train, param_grid)"
   ]
  },
  {
   "cell_type": "markdown",
   "metadata": {},
   "source": [
    "** Save the best estimator**"
   ]
  },
  {
   "cell_type": "code",
   "execution_count": 17,
   "metadata": {},
   "outputs": [
    {
     "data": {
      "text/plain": [
       "['models/geom-to-stiff-clf.pkl']"
      ]
     },
     "execution_count": 17,
     "metadata": {},
     "output_type": "execute_result"
    }
   ],
   "source": [
    "joblib.dump(best_rf_clf, 'models/geom-to-stiff-clf.pkl')"
   ]
  },
  {
   "cell_type": "code",
   "execution_count": 6,
   "metadata": {},
   "outputs": [
    {
     "name": "stdout",
     "output_type": "stream",
     "text": [
      "RandomForestClassifier(bootstrap=True, class_weight=None, criterion='gini',\n",
      "                       max_depth=90, max_features=20, max_leaf_nodes=None,\n",
      "                       min_impurity_decrease=0.0, min_impurity_split=None,\n",
      "                       min_samples_leaf=4, min_samples_split=5,\n",
      "                       min_weight_fraction_leaf=0.0, n_estimators=1000,\n",
      "                       n_jobs=None, oob_score=False, random_state=None,\n",
      "                       verbose=0, warm_start=False) \n",
      "\n",
      "\n",
      "Number of observations of each class in the training set:\n",
      " 2.0     138\n",
      "16.0     80\n",
      "0.2      60\n",
      "32.0     46\n",
      "64.0     44\n",
      "Name: stiffness, dtype: int64\n",
      "\n",
      "Number of observations of each class in the test set:\n",
      " 2.0     24\n",
      "0.2     23\n",
      "64.0    19\n",
      "16.0    17\n",
      "32.0     9\n",
      "Name: stiffness, dtype: int64\n",
      "\n",
      "Null accuraccy: 0.2608695652173913\n",
      "Testing accuraccy: 0.32608695652173914\n",
      "Testing f-score: 0.21260189469046048\n",
      "      2.0  0.2  64.0  16.0  32.0\n",
      "2.0    22    0     0     1     1\n",
      "0.2    19    0     0     3     1\n",
      "64.0   11    0     0     5     3\n",
      "16.0   10    0     0     6     1\n",
      "32.0    3    0     0     4     2\n"
     ]
    },
    {
     "name": "stderr",
     "output_type": "stream",
     "text": [
      "/Applications/anaconda3/lib/python3.6/site-packages/sklearn/metrics/classification.py:1437: UndefinedMetricWarning: F-score is ill-defined and being set to 0.0 in labels with no predicted samples.\n",
      "  'precision', 'predicted', average, warn_for)\n"
     ]
    }
   ],
   "source": [
    "rf.train_test(best_rf_clf, 0, X_train, X_test, y_train, y_test)"
   ]
  },
  {
   "cell_type": "code",
   "execution_count": 8,
   "metadata": {},
   "outputs": [
    {
     "name": "stdout",
     "output_type": "stream",
     "text": [
      "Important features\n",
      "                                 feature    weight\n",
      "88    neighbors_firstclosestdistance_20  0.024967\n",
      "47    neighbors_secondclosestdistance_3  0.024161\n",
      "90   neighbors_secondclosestdistance_20  0.024072\n",
      "9                        perimeter_cell  0.020742\n",
      "42     neighbors_firstclosestdistance_3  0.020391\n",
      "115                                 ncr  0.020168\n",
      "10                        solidity_cell  0.017938\n",
      "56                        solidity_nucl  0.017597\n",
      "60                     zernike_2_2_nucl  0.016404\n",
      "7                  minoraxislength_cell  0.015608\n",
      "4                       formfactor_cell  0.014743\n",
      "79                     zernike_8_4_nucl  0.013322\n"
     ]
    },
    {
     "data": {
      "text/html": [
       "<div>\n",
       "<style scoped>\n",
       "    .dataframe tbody tr th:only-of-type {\n",
       "        vertical-align: middle;\n",
       "    }\n",
       "\n",
       "    .dataframe tbody tr th {\n",
       "        vertical-align: top;\n",
       "    }\n",
       "\n",
       "    .dataframe thead th {\n",
       "        text-align: right;\n",
       "    }\n",
       "</style>\n",
       "<table border=\"1\" class=\"dataframe\">\n",
       "  <thead>\n",
       "    <tr style=\"text-align: right;\">\n",
       "      <th></th>\n",
       "      <th>feature</th>\n",
       "      <th>weight</th>\n",
       "    </tr>\n",
       "  </thead>\n",
       "  <tbody>\n",
       "    <tr>\n",
       "      <th>88</th>\n",
       "      <td>neighbors_firstclosestdistance_20</td>\n",
       "      <td>0.024967</td>\n",
       "    </tr>\n",
       "    <tr>\n",
       "      <th>47</th>\n",
       "      <td>neighbors_secondclosestdistance_3</td>\n",
       "      <td>0.024161</td>\n",
       "    </tr>\n",
       "    <tr>\n",
       "      <th>90</th>\n",
       "      <td>neighbors_secondclosestdistance_20</td>\n",
       "      <td>0.024072</td>\n",
       "    </tr>\n",
       "    <tr>\n",
       "      <th>9</th>\n",
       "      <td>perimeter_cell</td>\n",
       "      <td>0.020742</td>\n",
       "    </tr>\n",
       "    <tr>\n",
       "      <th>42</th>\n",
       "      <td>neighbors_firstclosestdistance_3</td>\n",
       "      <td>0.020391</td>\n",
       "    </tr>\n",
       "    <tr>\n",
       "      <th>115</th>\n",
       "      <td>ncr</td>\n",
       "      <td>0.020168</td>\n",
       "    </tr>\n",
       "    <tr>\n",
       "      <th>10</th>\n",
       "      <td>solidity_cell</td>\n",
       "      <td>0.017938</td>\n",
       "    </tr>\n",
       "    <tr>\n",
       "      <th>56</th>\n",
       "      <td>solidity_nucl</td>\n",
       "      <td>0.017597</td>\n",
       "    </tr>\n",
       "    <tr>\n",
       "      <th>60</th>\n",
       "      <td>zernike_2_2_nucl</td>\n",
       "      <td>0.016404</td>\n",
       "    </tr>\n",
       "    <tr>\n",
       "      <th>7</th>\n",
       "      <td>minoraxislength_cell</td>\n",
       "      <td>0.015608</td>\n",
       "    </tr>\n",
       "    <tr>\n",
       "      <th>4</th>\n",
       "      <td>formfactor_cell</td>\n",
       "      <td>0.014743</td>\n",
       "    </tr>\n",
       "    <tr>\n",
       "      <th>79</th>\n",
       "      <td>zernike_8_4_nucl</td>\n",
       "      <td>0.013322</td>\n",
       "    </tr>\n",
       "  </tbody>\n",
       "</table>\n",
       "</div>"
      ],
      "text/plain": [
       "                                feature    weight\n",
       "88    neighbors_firstclosestdistance_20  0.024967\n",
       "47    neighbors_secondclosestdistance_3  0.024161\n",
       "90   neighbors_secondclosestdistance_20  0.024072\n",
       "9                        perimeter_cell  0.020742\n",
       "42     neighbors_firstclosestdistance_3  0.020391\n",
       "115                                 ncr  0.020168\n",
       "10                        solidity_cell  0.017938\n",
       "56                        solidity_nucl  0.017597\n",
       "60                     zernike_2_2_nucl  0.016404\n",
       "7                  minoraxislength_cell  0.015608\n",
       "4                       formfactor_cell  0.014743\n",
       "79                     zernike_8_4_nucl  0.013322"
      ]
     },
     "execution_count": 8,
     "metadata": {},
     "output_type": "execute_result"
    },
    {
     "data": {
      "image/png": "[encoded data removed]",
      "text/plain": [
       "<Figure size 1080x432 with 1 Axes>"
      ]
     },
     "metadata": {},
     "output_type": "display_data"
    }
   ],
   "source": [
    "rf.get_important_features(best_rf_clf, X.columns)"
   ]
  },
  {
   "cell_type": "markdown",
   "metadata": {},
   "source": [
    "# Regression"
   ]
  },
  {
   "cell_type": "code",
   "execution_count": 9,
   "metadata": {},
   "outputs": [
    {
     "name": "stdout",
     "output_type": "stream",
     "text": [
      "Training set size: (368, 116)\n",
      "Test set size: (92, 116)\n"
     ]
    }
   ],
   "source": [
    "X = df[cols]\n",
    "y = pd.to_numeric(df.stiffness)\n",
    "\n",
    "# Create train-test split\n",
    "X_train, X_test, y_train, y_test = train_test_split(X, y, test_size=0.2, random_state=42)\n",
    "print(\"Training set size:\", X_train.shape)\n",
    "print(\"Test set size:\", X_test.shape)\n",
    "\n",
    "rf_reg = RandomForestRegressor()"
   ]
  },
  {
   "cell_type": "code",
   "execution_count": 11,
   "metadata": {},
   "outputs": [
    {
     "name": "stdout",
     "output_type": "stream",
     "text": [
      "Fitting 3 folds for each of 100 candidates, totalling 300 fits\n"
     ]
    },
    {
     "name": "stderr",
     "output_type": "stream",
     "text": [
      "[Parallel(n_jobs=-1)]: Using backend LokyBackend with 4 concurrent workers.\n",
      "[Parallel(n_jobs=-1)]: Done  33 tasks      | elapsed:  1.4min\n",
      "[Parallel(n_jobs=-1)]: Done 154 tasks      | elapsed:  7.4min\n",
      "[Parallel(n_jobs=-1)]: Done 300 out of 300 | elapsed: 14.7min finished\n",
      "/Applications/anaconda3/lib/python3.6/site-packages/sklearn/model_selection/_search.py:813: DeprecationWarning: The default of the `iid` parameter will change from True to False in version 0.22 and will be removed in 0.24. This will change numeric results when test-set sizes are unequal.\n",
      "  DeprecationWarning)\n"
     ]
    },
    {
     "name": "stdout",
     "output_type": "stream",
     "text": [
      "Best parameters:\n",
      " {'n_estimators': 400, 'min_samples_split': 2, 'min_samples_leaf': 2, 'max_features': 10, 'max_depth': 20, 'bootstrap': True}\n"
     ]
    }
   ],
   "source": [
    "best_rf_reg = rf.random_search_param(rf_reg, X_train, y_train)"
   ]
  },
  {
   "cell_type": "markdown",
   "metadata": {},
   "source": [
    "** Save the best estimator**"
   ]
  },
  {
   "cell_type": "code",
   "execution_count": 16,
   "metadata": {},
   "outputs": [
    {
     "data": {
      "text/plain": [
       "['models/geom-to-stiff-reg.pkl']"
      ]
     },
     "execution_count": 16,
     "metadata": {},
     "output_type": "execute_result"
    }
   ],
   "source": [
    "joblib.dump(best_rf_reg, 'models/geom-to-stiff-reg.pkl')"
   ]
  },
  {
   "cell_type": "code",
   "execution_count": 13,
   "metadata": {},
   "outputs": [
    {
     "name": "stdout",
     "output_type": "stream",
     "text": [
      "RandomForestRegressor(bootstrap=True, criterion='mse', max_depth=20,\n",
      "                      max_features=10, max_leaf_nodes=None,\n",
      "                      min_impurity_decrease=0.0, min_impurity_split=None,\n",
      "                      min_samples_leaf=2, min_samples_split=2,\n",
      "                      min_weight_fraction_leaf=0.0, n_estimators=400,\n",
      "                      n_jobs=None, oob_score=False, random_state=None,\n",
      "                      verbose=0, warm_start=False) \n",
      "\n",
      "Null RMSE: 24.801041581273722\n",
      "Testing RMSE: 23.327900913566346\n"
     ]
    }
   ],
   "source": [
    "rf.train_test(best_rf_reg, 1, X_train, X_test, y_train, y_test)"
   ]
  },
  {
   "cell_type": "code",
   "execution_count": 14,
   "metadata": {},
   "outputs": [
    {
     "name": "stdout",
     "output_type": "stream",
     "text": [
      "Important features\n",
      "                                 feature    weight\n",
      "42     neighbors_firstclosestdistance_3  0.036153\n",
      "47    neighbors_secondclosestdistance_3  0.031545\n",
      "90   neighbors_secondclosestdistance_20  0.025879\n",
      "101                    zernike_5_3_cyto  0.015014\n",
      "115                                 ncr  0.014921\n",
      "88    neighbors_firstclosestdistance_20  0.014652\n",
      "64                     zernike_4_2_nucl  0.014338\n",
      "7                  minoraxislength_cell  0.013926\n",
      "79                     zernike_8_4_nucl  0.013506\n",
      "87   neighbors_anglebetweenneighbors_20  0.013132\n",
      "10                        solidity_cell  0.012823\n",
      "46         neighbors_percenttouching_30  0.012766\n"
     ]
    },
    {
     "data": {
      "text/html": [
       "<div>\n",
       "<style scoped>\n",
       "    .dataframe tbody tr th:only-of-type {\n",
       "        vertical-align: middle;\n",
       "    }\n",
       "\n",
       "    .dataframe tbody tr th {\n",
       "        vertical-align: top;\n",
       "    }\n",
       "\n",
       "    .dataframe thead th {\n",
       "        text-align: right;\n",
       "    }\n",
       "</style>\n",
       "<table border=\"1\" class=\"dataframe\">\n",
       "  <thead>\n",
       "    <tr style=\"text-align: right;\">\n",
       "      <th></th>\n",
       "      <th>feature</th>\n",
       "      <th>weight</th>\n",
       "    </tr>\n",
       "  </thead>\n",
       "  <tbody>\n",
       "    <tr>\n",
       "      <th>42</th>\n",
       "      <td>neighbors_firstclosestdistance_3</td>\n",
       "      <td>0.036153</td>\n",
       "    </tr>\n",
       "    <tr>\n",
       "      <th>47</th>\n",
       "      <td>neighbors_secondclosestdistance_3</td>\n",
       "      <td>0.031545</td>\n",
       "    </tr>\n",
       "    <tr>\n",
       "      <th>90</th>\n",
       "      <td>neighbors_secondclosestdistance_20</td>\n",
       "      <td>0.025879</td>\n",
       "    </tr>\n",
       "    <tr>\n",
       "      <th>101</th>\n",
       "      <td>zernike_5_3_cyto</td>\n",
       "      <td>0.015014</td>\n",
       "    </tr>\n",
       "    <tr>\n",
       "      <th>115</th>\n",
       "      <td>ncr</td>\n",
       "      <td>0.014921</td>\n",
       "    </tr>\n",
       "    <tr>\n",
       "      <th>88</th>\n",
       "      <td>neighbors_firstclosestdistance_20</td>\n",
       "      <td>0.014652</td>\n",
       "    </tr>\n",
       "    <tr>\n",
       "      <th>64</th>\n",
       "      <td>zernike_4_2_nucl</td>\n",
       "      <td>0.014338</td>\n",
       "    </tr>\n",
       "    <tr>\n",
       "      <th>7</th>\n",
       "      <td>minoraxislength_cell</td>\n",
       "      <td>0.013926</td>\n",
       "    </tr>\n",
       "    <tr>\n",
       "      <th>79</th>\n",
       "      <td>zernike_8_4_nucl</td>\n",
       "      <td>0.013506</td>\n",
       "    </tr>\n",
       "    <tr>\n",
       "      <th>87</th>\n",
       "      <td>neighbors_anglebetweenneighbors_20</td>\n",
       "      <td>0.013132</td>\n",
       "    </tr>\n",
       "    <tr>\n",
       "      <th>10</th>\n",
       "      <td>solidity_cell</td>\n",
       "      <td>0.012823</td>\n",
       "    </tr>\n",
       "    <tr>\n",
       "      <th>46</th>\n",
       "      <td>neighbors_percenttouching_30</td>\n",
       "      <td>0.012766</td>\n",
       "    </tr>\n",
       "  </tbody>\n",
       "</table>\n",
       "</div>"
      ],
      "text/plain": [
       "                                feature    weight\n",
       "42     neighbors_firstclosestdistance_3  0.036153\n",
       "47    neighbors_secondclosestdistance_3  0.031545\n",
       "90   neighbors_secondclosestdistance_20  0.025879\n",
       "101                    zernike_5_3_cyto  0.015014\n",
       "115                                 ncr  0.014921\n",
       "88    neighbors_firstclosestdistance_20  0.014652\n",
       "64                     zernike_4_2_nucl  0.014338\n",
       "7                  minoraxislength_cell  0.013926\n",
       "79                     zernike_8_4_nucl  0.013506\n",
       "87   neighbors_anglebetweenneighbors_20  0.013132\n",
       "10                        solidity_cell  0.012823\n",
       "46         neighbors_percenttouching_30  0.012766"
      ]
     },
     "execution_count": 14,
     "metadata": {},
     "output_type": "execute_result"
    },
    {
     "data": {
      "image/png": "[encoded data removed]",
      "text/plain": [
       "<Figure size 1080x432 with 1 Axes>"
      ]
     },
     "metadata": {},
     "output_type": "display_data"
    }
   ],
   "source": [
    "rf.get_important_features(best_rf_reg, X.columns)"
   ]
  }
 ],
 "metadata": {
  "kernelspec": {
   "display_name": "Python 3",
   "language": "python",
   "name": "python3"
  },
  "language_info": {
   "codemirror_mode": {
    "name": "ipython",
    "version": 3
   },
   "file_extension": ".py",
   "mimetype": "text/x-python",
   "name": "python",
   "nbconvert_exporter": "python",
   "pygments_lexer": "ipython3",
   "version": "3.6.8"
  },
  "toc": {
   "base_numbering": 1,
   "nav_menu": {},
   "number_sections": true,
   "sideBar": true,
   "skip_h1_title": false,
   "title_cell": "Table of Contents",
   "title_sidebar": "Contents",
   "toc_cell": false,
   "toc_position": {},
   "toc_section_display": true,
   "toc_window_display": false
  }
 },
 "nbformat": 4,
 "nbformat_minor": 2
}
